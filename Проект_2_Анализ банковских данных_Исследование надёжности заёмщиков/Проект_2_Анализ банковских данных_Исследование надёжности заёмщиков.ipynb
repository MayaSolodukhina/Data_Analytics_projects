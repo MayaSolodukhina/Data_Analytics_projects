{
 "cells": [
  {
   "cell_type": "markdown",
   "metadata": {},
   "source": [
    "# Исследование надёжности заёмщиков\n",
    "\n",
    "Заказчик — кредитный отдел банка. \n",
    "\n",
    "**Цель исследования** - разобраться, влияет ли семейное положение и количество детей клиента на факт погашения кредита в срок.\n",
    "\n",
    "Входные данные от банка — статистика о платёжеспособности клиентов.\n",
    "\n",
    "Результаты исследования будут учтены при построении модели **кредитного скоринга** — специальной системы, которая оценивает способность потенциального заёмщика вернуть кредит банку.\n",
    "\n",
    "**Ход исследования**\n",
    "\n",
    "Данные о статистике платёжеспособности клиентов получим из файла `data.csv`. О качестве данных ничего не известно. Поэтому перед проверкой гипотезы и ответом на вопросы понадобится обзор данных.\n",
    "\n",
    "Проверим данные на ошибки и оценим их влияние на исследование. Далее, на этапе предобработки, поищем возможности исправить критические ошибки данных.\n",
    "\n",
    "Таким образом, исследование пройдет в 4 этапа:\n",
    "1. [Обзор данных.](#intro) \n",
    "2. [Предобработка данных.](#intro1) \n",
    "3. [Ответы на вопросы.](#intro2)\n",
    "4. [Выводы.](#intro3)"
   ]
  },
  {
   "cell_type": "markdown",
   "metadata": {},
   "source": [
    "# 1. Обзор данных  <a id='intro'></a>"
   ]
  },
  {
   "cell_type": "code",
   "execution_count": 1,
   "metadata": {},
   "outputs": [],
   "source": [
    "# импорт бибилиотеки pandas\n",
    "import pandas as pd\n",
    "# импорт библиотеки pymystem3\n",
    "from pymystem3 import Mystem\n",
    "# импорт библиотеки collections\n",
    "from collections import Counter"
   ]
  },
  {
   "cell_type": "code",
   "execution_count": 2,
   "metadata": {},
   "outputs": [],
   "source": [
    "# чтение файла с данными и сохранение в df\n",
    "try:\n",
    "    df = pd.read_csv('/datasets/data.csv')\n",
    "except:\n",
    "    df = pd.read_csv('data.csv')    "
   ]
  },
  {
   "cell_type": "code",
   "execution_count": 3,
   "metadata": {},
   "outputs": [
    {
     "data": {
      "text/html": [
       "<div>\n",
       "<style scoped>\n",
       "    .dataframe tbody tr th:only-of-type {\n",
       "        vertical-align: middle;\n",
       "    }\n",
       "\n",
       "    .dataframe tbody tr th {\n",
       "        vertical-align: top;\n",
       "    }\n",
       "\n",
       "    .dataframe thead th {\n",
       "        text-align: right;\n",
       "    }\n",
       "</style>\n",
       "<table border=\"1\" class=\"dataframe\">\n",
       "  <thead>\n",
       "    <tr style=\"text-align: right;\">\n",
       "      <th></th>\n",
       "      <th>children</th>\n",
       "      <th>days_employed</th>\n",
       "      <th>dob_years</th>\n",
       "      <th>education</th>\n",
       "      <th>education_id</th>\n",
       "      <th>family_status</th>\n",
       "      <th>family_status_id</th>\n",
       "      <th>gender</th>\n",
       "      <th>income_type</th>\n",
       "      <th>debt</th>\n",
       "      <th>total_income</th>\n",
       "      <th>purpose</th>\n",
       "    </tr>\n",
       "  </thead>\n",
       "  <tbody>\n",
       "    <tr>\n",
       "      <td>0</td>\n",
       "      <td>1</td>\n",
       "      <td>-8437.673028</td>\n",
       "      <td>42</td>\n",
       "      <td>высшее</td>\n",
       "      <td>0</td>\n",
       "      <td>женат / замужем</td>\n",
       "      <td>0</td>\n",
       "      <td>F</td>\n",
       "      <td>сотрудник</td>\n",
       "      <td>0</td>\n",
       "      <td>253875.639453</td>\n",
       "      <td>покупка жилья</td>\n",
       "    </tr>\n",
       "    <tr>\n",
       "      <td>1</td>\n",
       "      <td>1</td>\n",
       "      <td>-4024.803754</td>\n",
       "      <td>36</td>\n",
       "      <td>среднее</td>\n",
       "      <td>1</td>\n",
       "      <td>женат / замужем</td>\n",
       "      <td>0</td>\n",
       "      <td>F</td>\n",
       "      <td>сотрудник</td>\n",
       "      <td>0</td>\n",
       "      <td>112080.014102</td>\n",
       "      <td>приобретение автомобиля</td>\n",
       "    </tr>\n",
       "    <tr>\n",
       "      <td>2</td>\n",
       "      <td>0</td>\n",
       "      <td>-5623.422610</td>\n",
       "      <td>33</td>\n",
       "      <td>Среднее</td>\n",
       "      <td>1</td>\n",
       "      <td>женат / замужем</td>\n",
       "      <td>0</td>\n",
       "      <td>M</td>\n",
       "      <td>сотрудник</td>\n",
       "      <td>0</td>\n",
       "      <td>145885.952297</td>\n",
       "      <td>покупка жилья</td>\n",
       "    </tr>\n",
       "    <tr>\n",
       "      <td>3</td>\n",
       "      <td>3</td>\n",
       "      <td>-4124.747207</td>\n",
       "      <td>32</td>\n",
       "      <td>среднее</td>\n",
       "      <td>1</td>\n",
       "      <td>женат / замужем</td>\n",
       "      <td>0</td>\n",
       "      <td>M</td>\n",
       "      <td>сотрудник</td>\n",
       "      <td>0</td>\n",
       "      <td>267628.550329</td>\n",
       "      <td>дополнительное образование</td>\n",
       "    </tr>\n",
       "    <tr>\n",
       "      <td>4</td>\n",
       "      <td>0</td>\n",
       "      <td>340266.072047</td>\n",
       "      <td>53</td>\n",
       "      <td>среднее</td>\n",
       "      <td>1</td>\n",
       "      <td>гражданский брак</td>\n",
       "      <td>1</td>\n",
       "      <td>F</td>\n",
       "      <td>пенсионер</td>\n",
       "      <td>0</td>\n",
       "      <td>158616.077870</td>\n",
       "      <td>сыграть свадьбу</td>\n",
       "    </tr>\n",
       "    <tr>\n",
       "      <td>5</td>\n",
       "      <td>0</td>\n",
       "      <td>-926.185831</td>\n",
       "      <td>27</td>\n",
       "      <td>высшее</td>\n",
       "      <td>0</td>\n",
       "      <td>гражданский брак</td>\n",
       "      <td>1</td>\n",
       "      <td>M</td>\n",
       "      <td>компаньон</td>\n",
       "      <td>0</td>\n",
       "      <td>255763.565419</td>\n",
       "      <td>покупка жилья</td>\n",
       "    </tr>\n",
       "    <tr>\n",
       "      <td>6</td>\n",
       "      <td>0</td>\n",
       "      <td>-2879.202052</td>\n",
       "      <td>43</td>\n",
       "      <td>высшее</td>\n",
       "      <td>0</td>\n",
       "      <td>женат / замужем</td>\n",
       "      <td>0</td>\n",
       "      <td>F</td>\n",
       "      <td>компаньон</td>\n",
       "      <td>0</td>\n",
       "      <td>240525.971920</td>\n",
       "      <td>операции с жильем</td>\n",
       "    </tr>\n",
       "    <tr>\n",
       "      <td>7</td>\n",
       "      <td>0</td>\n",
       "      <td>-152.779569</td>\n",
       "      <td>50</td>\n",
       "      <td>СРЕДНЕЕ</td>\n",
       "      <td>1</td>\n",
       "      <td>женат / замужем</td>\n",
       "      <td>0</td>\n",
       "      <td>M</td>\n",
       "      <td>сотрудник</td>\n",
       "      <td>0</td>\n",
       "      <td>135823.934197</td>\n",
       "      <td>образование</td>\n",
       "    </tr>\n",
       "    <tr>\n",
       "      <td>8</td>\n",
       "      <td>2</td>\n",
       "      <td>-6929.865299</td>\n",
       "      <td>35</td>\n",
       "      <td>ВЫСШЕЕ</td>\n",
       "      <td>0</td>\n",
       "      <td>гражданский брак</td>\n",
       "      <td>1</td>\n",
       "      <td>F</td>\n",
       "      <td>сотрудник</td>\n",
       "      <td>0</td>\n",
       "      <td>95856.832424</td>\n",
       "      <td>на проведение свадьбы</td>\n",
       "    </tr>\n",
       "    <tr>\n",
       "      <td>9</td>\n",
       "      <td>0</td>\n",
       "      <td>-2188.756445</td>\n",
       "      <td>41</td>\n",
       "      <td>среднее</td>\n",
       "      <td>1</td>\n",
       "      <td>женат / замужем</td>\n",
       "      <td>0</td>\n",
       "      <td>M</td>\n",
       "      <td>сотрудник</td>\n",
       "      <td>0</td>\n",
       "      <td>144425.938277</td>\n",
       "      <td>покупка жилья для семьи</td>\n",
       "    </tr>\n",
       "    <tr>\n",
       "      <td>10</td>\n",
       "      <td>2</td>\n",
       "      <td>-4171.483647</td>\n",
       "      <td>36</td>\n",
       "      <td>высшее</td>\n",
       "      <td>0</td>\n",
       "      <td>женат / замужем</td>\n",
       "      <td>0</td>\n",
       "      <td>M</td>\n",
       "      <td>компаньон</td>\n",
       "      <td>0</td>\n",
       "      <td>113943.491460</td>\n",
       "      <td>покупка недвижимости</td>\n",
       "    </tr>\n",
       "    <tr>\n",
       "      <td>11</td>\n",
       "      <td>0</td>\n",
       "      <td>-792.701887</td>\n",
       "      <td>40</td>\n",
       "      <td>среднее</td>\n",
       "      <td>1</td>\n",
       "      <td>женат / замужем</td>\n",
       "      <td>0</td>\n",
       "      <td>F</td>\n",
       "      <td>сотрудник</td>\n",
       "      <td>0</td>\n",
       "      <td>77069.234271</td>\n",
       "      <td>покупка коммерческой недвижимости</td>\n",
       "    </tr>\n",
       "    <tr>\n",
       "      <td>12</td>\n",
       "      <td>0</td>\n",
       "      <td>NaN</td>\n",
       "      <td>65</td>\n",
       "      <td>среднее</td>\n",
       "      <td>1</td>\n",
       "      <td>гражданский брак</td>\n",
       "      <td>1</td>\n",
       "      <td>M</td>\n",
       "      <td>пенсионер</td>\n",
       "      <td>0</td>\n",
       "      <td>NaN</td>\n",
       "      <td>сыграть свадьбу</td>\n",
       "    </tr>\n",
       "    <tr>\n",
       "      <td>13</td>\n",
       "      <td>0</td>\n",
       "      <td>-1846.641941</td>\n",
       "      <td>54</td>\n",
       "      <td>неоконченное высшее</td>\n",
       "      <td>2</td>\n",
       "      <td>женат / замужем</td>\n",
       "      <td>0</td>\n",
       "      <td>F</td>\n",
       "      <td>сотрудник</td>\n",
       "      <td>0</td>\n",
       "      <td>130458.228857</td>\n",
       "      <td>приобретение автомобиля</td>\n",
       "    </tr>\n",
       "    <tr>\n",
       "      <td>14</td>\n",
       "      <td>0</td>\n",
       "      <td>-1844.956182</td>\n",
       "      <td>56</td>\n",
       "      <td>высшее</td>\n",
       "      <td>0</td>\n",
       "      <td>гражданский брак</td>\n",
       "      <td>1</td>\n",
       "      <td>F</td>\n",
       "      <td>компаньон</td>\n",
       "      <td>1</td>\n",
       "      <td>165127.911772</td>\n",
       "      <td>покупка жилой недвижимости</td>\n",
       "    </tr>\n",
       "  </tbody>\n",
       "</table>\n",
       "</div>"
      ],
      "text/plain": [
       "    children  days_employed  dob_years            education  education_id  \\\n",
       "0          1   -8437.673028         42               высшее             0   \n",
       "1          1   -4024.803754         36              среднее             1   \n",
       "2          0   -5623.422610         33              Среднее             1   \n",
       "3          3   -4124.747207         32              среднее             1   \n",
       "4          0  340266.072047         53              среднее             1   \n",
       "5          0    -926.185831         27               высшее             0   \n",
       "6          0   -2879.202052         43               высшее             0   \n",
       "7          0    -152.779569         50              СРЕДНЕЕ             1   \n",
       "8          2   -6929.865299         35               ВЫСШЕЕ             0   \n",
       "9          0   -2188.756445         41              среднее             1   \n",
       "10         2   -4171.483647         36               высшее             0   \n",
       "11         0    -792.701887         40              среднее             1   \n",
       "12         0            NaN         65              среднее             1   \n",
       "13         0   -1846.641941         54  неоконченное высшее             2   \n",
       "14         0   -1844.956182         56               высшее             0   \n",
       "\n",
       "       family_status  family_status_id gender income_type  debt  \\\n",
       "0    женат / замужем                 0      F   сотрудник     0   \n",
       "1    женат / замужем                 0      F   сотрудник     0   \n",
       "2    женат / замужем                 0      M   сотрудник     0   \n",
       "3    женат / замужем                 0      M   сотрудник     0   \n",
       "4   гражданский брак                 1      F   пенсионер     0   \n",
       "5   гражданский брак                 1      M   компаньон     0   \n",
       "6    женат / замужем                 0      F   компаньон     0   \n",
       "7    женат / замужем                 0      M   сотрудник     0   \n",
       "8   гражданский брак                 1      F   сотрудник     0   \n",
       "9    женат / замужем                 0      M   сотрудник     0   \n",
       "10   женат / замужем                 0      M   компаньон     0   \n",
       "11   женат / замужем                 0      F   сотрудник     0   \n",
       "12  гражданский брак                 1      M   пенсионер     0   \n",
       "13   женат / замужем                 0      F   сотрудник     0   \n",
       "14  гражданский брак                 1      F   компаньон     1   \n",
       "\n",
       "     total_income                            purpose  \n",
       "0   253875.639453                      покупка жилья  \n",
       "1   112080.014102            приобретение автомобиля  \n",
       "2   145885.952297                      покупка жилья  \n",
       "3   267628.550329         дополнительное образование  \n",
       "4   158616.077870                    сыграть свадьбу  \n",
       "5   255763.565419                      покупка жилья  \n",
       "6   240525.971920                  операции с жильем  \n",
       "7   135823.934197                        образование  \n",
       "8    95856.832424              на проведение свадьбы  \n",
       "9   144425.938277            покупка жилья для семьи  \n",
       "10  113943.491460               покупка недвижимости  \n",
       "11   77069.234271  покупка коммерческой недвижимости  \n",
       "12            NaN                    сыграть свадьбу  \n",
       "13  130458.228857            приобретение автомобиля  \n",
       "14  165127.911772         покупка жилой недвижимости  "
      ]
     },
     "execution_count": 3,
     "metadata": {},
     "output_type": "execute_result"
    }
   ],
   "source": [
    "# получение первых 15 строк таблицы df\n",
    "df.head(15)"
   ]
  },
  {
   "cell_type": "code",
   "execution_count": 4,
   "metadata": {},
   "outputs": [
    {
     "name": "stdout",
     "output_type": "stream",
     "text": [
      "<class 'pandas.core.frame.DataFrame'>\n",
      "RangeIndex: 21525 entries, 0 to 21524\n",
      "Data columns (total 12 columns):\n",
      "children            21525 non-null int64\n",
      "days_employed       19351 non-null float64\n",
      "dob_years           21525 non-null int64\n",
      "education           21525 non-null object\n",
      "education_id        21525 non-null int64\n",
      "family_status       21525 non-null object\n",
      "family_status_id    21525 non-null int64\n",
      "gender              21525 non-null object\n",
      "income_type         21525 non-null object\n",
      "debt                21525 non-null int64\n",
      "total_income        19351 non-null float64\n",
      "purpose             21525 non-null object\n",
      "dtypes: float64(2), int64(5), object(5)\n",
      "memory usage: 2.0+ MB\n"
     ]
    }
   ],
   "source": [
    "# получение общей информации о данных в таблице df\n",
    "df.info()"
   ]
  },
  {
   "cell_type": "code",
   "execution_count": 5,
   "metadata": {},
   "outputs": [
    {
     "data": {
      "text/html": [
       "<div>\n",
       "<style scoped>\n",
       "    .dataframe tbody tr th:only-of-type {\n",
       "        vertical-align: middle;\n",
       "    }\n",
       "\n",
       "    .dataframe tbody tr th {\n",
       "        vertical-align: top;\n",
       "    }\n",
       "\n",
       "    .dataframe thead th {\n",
       "        text-align: right;\n",
       "    }\n",
       "</style>\n",
       "<table border=\"1\" class=\"dataframe\">\n",
       "  <thead>\n",
       "    <tr style=\"text-align: right;\">\n",
       "      <th></th>\n",
       "      <th>children</th>\n",
       "      <th>days_employed</th>\n",
       "      <th>dob_years</th>\n",
       "      <th>education_id</th>\n",
       "      <th>family_status_id</th>\n",
       "      <th>debt</th>\n",
       "      <th>total_income</th>\n",
       "    </tr>\n",
       "  </thead>\n",
       "  <tbody>\n",
       "    <tr>\n",
       "      <td>count</td>\n",
       "      <td>21525.000000</td>\n",
       "      <td>19351.000000</td>\n",
       "      <td>21525.000000</td>\n",
       "      <td>21525.000000</td>\n",
       "      <td>21525.000000</td>\n",
       "      <td>21525.000000</td>\n",
       "      <td>1.935100e+04</td>\n",
       "    </tr>\n",
       "    <tr>\n",
       "      <td>mean</td>\n",
       "      <td>0.538908</td>\n",
       "      <td>63046.497661</td>\n",
       "      <td>43.293380</td>\n",
       "      <td>0.817236</td>\n",
       "      <td>0.972544</td>\n",
       "      <td>0.080883</td>\n",
       "      <td>1.674223e+05</td>\n",
       "    </tr>\n",
       "    <tr>\n",
       "      <td>std</td>\n",
       "      <td>1.381587</td>\n",
       "      <td>140827.311974</td>\n",
       "      <td>12.574584</td>\n",
       "      <td>0.548138</td>\n",
       "      <td>1.420324</td>\n",
       "      <td>0.272661</td>\n",
       "      <td>1.029716e+05</td>\n",
       "    </tr>\n",
       "    <tr>\n",
       "      <td>min</td>\n",
       "      <td>-1.000000</td>\n",
       "      <td>-18388.949901</td>\n",
       "      <td>0.000000</td>\n",
       "      <td>0.000000</td>\n",
       "      <td>0.000000</td>\n",
       "      <td>0.000000</td>\n",
       "      <td>2.066726e+04</td>\n",
       "    </tr>\n",
       "    <tr>\n",
       "      <td>25%</td>\n",
       "      <td>0.000000</td>\n",
       "      <td>-2747.423625</td>\n",
       "      <td>33.000000</td>\n",
       "      <td>1.000000</td>\n",
       "      <td>0.000000</td>\n",
       "      <td>0.000000</td>\n",
       "      <td>1.030532e+05</td>\n",
       "    </tr>\n",
       "    <tr>\n",
       "      <td>50%</td>\n",
       "      <td>0.000000</td>\n",
       "      <td>-1203.369529</td>\n",
       "      <td>42.000000</td>\n",
       "      <td>1.000000</td>\n",
       "      <td>0.000000</td>\n",
       "      <td>0.000000</td>\n",
       "      <td>1.450179e+05</td>\n",
       "    </tr>\n",
       "    <tr>\n",
       "      <td>75%</td>\n",
       "      <td>1.000000</td>\n",
       "      <td>-291.095954</td>\n",
       "      <td>53.000000</td>\n",
       "      <td>1.000000</td>\n",
       "      <td>1.000000</td>\n",
       "      <td>0.000000</td>\n",
       "      <td>2.034351e+05</td>\n",
       "    </tr>\n",
       "    <tr>\n",
       "      <td>max</td>\n",
       "      <td>20.000000</td>\n",
       "      <td>401755.400475</td>\n",
       "      <td>75.000000</td>\n",
       "      <td>4.000000</td>\n",
       "      <td>4.000000</td>\n",
       "      <td>1.000000</td>\n",
       "      <td>2.265604e+06</td>\n",
       "    </tr>\n",
       "  </tbody>\n",
       "</table>\n",
       "</div>"
      ],
      "text/plain": [
       "           children  days_employed     dob_years  education_id  \\\n",
       "count  21525.000000   19351.000000  21525.000000  21525.000000   \n",
       "mean       0.538908   63046.497661     43.293380      0.817236   \n",
       "std        1.381587  140827.311974     12.574584      0.548138   \n",
       "min       -1.000000  -18388.949901      0.000000      0.000000   \n",
       "25%        0.000000   -2747.423625     33.000000      1.000000   \n",
       "50%        0.000000   -1203.369529     42.000000      1.000000   \n",
       "75%        1.000000    -291.095954     53.000000      1.000000   \n",
       "max       20.000000  401755.400475     75.000000      4.000000   \n",
       "\n",
       "       family_status_id          debt  total_income  \n",
       "count      21525.000000  21525.000000  1.935100e+04  \n",
       "mean           0.972544      0.080883  1.674223e+05  \n",
       "std            1.420324      0.272661  1.029716e+05  \n",
       "min            0.000000      0.000000  2.066726e+04  \n",
       "25%            0.000000      0.000000  1.030532e+05  \n",
       "50%            0.000000      0.000000  1.450179e+05  \n",
       "75%            1.000000      0.000000  2.034351e+05  \n",
       "max            4.000000      1.000000  2.265604e+06  "
      ]
     },
     "execution_count": 5,
     "metadata": {},
     "output_type": "execute_result"
    }
   ],
   "source": [
    "# получение информации об описательных статистических данных \n",
    "# в таблице df\n",
    "df.describe()"
   ]
  },
  {
   "cell_type": "markdown",
   "metadata": {},
   "source": [
    "Итак, в таблице 12 столбцов. У столбцов наблюдается 3 типа данных: `float64`, `int64`, `object`.\n",
    "\n",
    "Согласно документации к данным: \n",
    "* `children` — количество детей в семье;\n",
    "* `days_employed` — общий трудовой стаж в днях;\n",
    "* `dob_years` — возраст клиента в годах;\n",
    "* `education` — уровень образования клиента;\n",
    "* `education_id` — идентификатор уровня образования;\n",
    "* `family_status` — семейное положение;\n",
    "* `family_status_id` — идентификатор семейного положения;\n",
    "* `gender` — пол клиента;\n",
    "* `income_type` — тип занятости;\n",
    "* `debt` — имел ли задолженность по возврату кредитов;\n",
    "* `total_income` — ежемесячный доход;\n",
    "* `purpose` — цель получения кредита.\n",
    "\n",
    "В названиях столбцов отсутсвуют нарушения стиля. \n",
    "\n",
    "Однако, в столбцах `days_employed` и `total_income` присутствует меньшее количество значений, чем в остальных столбцах, следовательно, в данных есть пропущенные значения. В столбце `days_employed` необходимо поработать над чистотой данных, а именно перевести их в положительные значения и перевести аномальные значения в дни, так как одни значения представлены в часах, а другие в днях. В столбце `total_income` необходимо значения уменьшить, то есть преобразовать цифры до двух знаков после запятой.\n",
    "\n",
    "Также в столбце `edication` нет единого регистра, необходимо привести его к нижнему регистру, чтобы данные выглядели одинаково, в едином формате."
   ]
  },
  {
   "cell_type": "markdown",
   "metadata": {},
   "source": [
    "**Вывод**\n",
    "\n",
    "В каждом столбце представлена информация о конкретном человеке для получения кредита, а именно: сколько детей в семье, трудовой стаж, возраст, образование, семейное положение, пол, тип занятости, доход. \n",
    "А также, информация в двух столбцах, которая относится непосредственно к получению кредита и кредитной истории человека: имелась ли задолженность по возврату кредитов и цель получения кредита.\n",
    "\n",
    "Предварительно, можно утверждать, что данных достаточно для проверки гипотезы и ответов на вопросы. Но, встречаются пропуски в данных, нет единого регистра с столбце `education`, также в столбце `days_employed` необходимо поработать над чистотой входных значений и в столбце `total_income` уменьшить в доходах количество знаков после запятой.\n",
    "\n",
    "Чтобы приступить к ответам на вопросы необходимо устранить проблемы в данных."
   ]
  },
  {
   "cell_type": "markdown",
   "metadata": {},
   "source": [
    "# 2. Предобработка данных <a id='intro1'></a>"
   ]
  },
  {
   "cell_type": "markdown",
   "metadata": {},
   "source": [
    "### Обработка пропусков"
   ]
  },
  {
   "cell_type": "code",
   "execution_count": 6,
   "metadata": {},
   "outputs": [
    {
     "data": {
      "text/plain": [
       "children               0\n",
       "days_employed       2174\n",
       "dob_years              0\n",
       "education              0\n",
       "education_id           0\n",
       "family_status          0\n",
       "family_status_id       0\n",
       "gender                 0\n",
       "income_type            0\n",
       "debt                   0\n",
       "total_income        2174\n",
       "purpose                0\n",
       "dtype: int64"
      ]
     },
     "execution_count": 6,
     "metadata": {},
     "output_type": "execute_result"
    }
   ],
   "source": [
    "# подсчёт пропущенных значений\n",
    "\n",
    "df.isna().sum()"
   ]
  },
  {
   "cell_type": "markdown",
   "metadata": {},
   "source": [
    "Возможно, что пропуски в столбце `days_employed` возникли по причине того, что выгрузка была совершена из двух разных систем, так как значения по стажу представлены и в часах, и в днях.\n",
    "\n",
    "В столбцах `days_employed` и `total_income` присутствуют данные, которые необходимы для дальнейшего анализа. Поэтому, для сохранения всех данных и более точного анализа нужно пропущенные значения заменить на такие же количественные значения с помощью медианы.\n",
    "\n",
    "Но, чтобы приступить к замене пропущенных значений, нужно в столбце `days_employed` привести данные к единому формату, а именно сделать числа положительными, а также перевести все значения в дни. "
   ]
  },
  {
   "cell_type": "code",
   "execution_count": 7,
   "metadata": {},
   "outputs": [],
   "source": [
    "# перевод значений столбца 'days_employed' в положительные значения \n",
    "\n",
    "df['days_employed'] = df['days_employed'].abs() "
   ]
  },
  {
   "cell_type": "code",
   "execution_count": 8,
   "metadata": {},
   "outputs": [],
   "source": [
    "# перевод значений столбца 'days_employed' в дни\n",
    "\n",
    "df.loc[df['days_employed'] > 30000, 'days_employed'] = df.loc[df['days_employed'] > 30000, 'days_employed'] / 24"
   ]
  },
  {
   "cell_type": "code",
   "execution_count": 9,
   "metadata": {},
   "outputs": [
    {
     "data": {
      "text/plain": [
       "count    3443.000000\n",
       "mean       17.470025\n",
       "std         7.889311\n",
       "min       -45.775385\n",
       "25%        13.807519\n",
       "50%        17.979299\n",
       "75%        22.234049\n",
       "max        35.012771\n",
       "dtype: float64"
      ]
     },
     "execution_count": 9,
     "metadata": {},
     "output_type": "execute_result"
    }
   ],
   "source": [
    "# Код ревьюера\n",
    "(df[df['income_type'] == 'пенсионер']['dob_years'] - (df[df['income_type'] == 'пенсионер']['days_employed'] / 365)).describe()"
   ]
  },
  {
   "cell_type": "code",
   "execution_count": 10,
   "metadata": {},
   "outputs": [
    {
     "name": "stdout",
     "output_type": "stream",
     "text": [
      "Пропуски до: 2174\n",
      "Пропуски после: 0\n"
     ]
    }
   ],
   "source": [
    "# замена пропущенных значений в столбце 'days_employed' на медианное значение\n",
    "\n",
    "print('Пропуски до:', df['days_employed'].isna().sum())\n",
    "df.loc[df['days_employed'].isna(), 'days_employed'] = df['days_employed'].median()\n",
    "print('Пропуски после:', df['days_employed'].isna().sum())"
   ]
  },
  {
   "cell_type": "code",
   "execution_count": 11,
   "metadata": {},
   "outputs": [
    {
     "data": {
      "text/plain": [
       "nan"
      ]
     },
     "execution_count": 11,
     "metadata": {},
     "output_type": "execute_result"
    }
   ],
   "source": [
    "(df[df['income_type'] == 'пенсонер']['dob_years'] - (df[df['income_type'] == 'пенсонер']['days_employed'] / 365)).mean()"
   ]
  },
  {
   "cell_type": "code",
   "execution_count": 12,
   "metadata": {},
   "outputs": [
    {
     "name": "stdout",
     "output_type": "stream",
     "text": [
      "Пропуски до: 2174\n",
      "Пропуски после: 0\n"
     ]
    }
   ],
   "source": [
    "# замена пропущенных значений столбца 'total_income' на медианное значение\n",
    "\n",
    "print('Пропуски до:', df['total_income'].isna().sum())\n",
    "df.loc[df['total_income'].isna(), 'total_income'] = df['total_income'].median()\n",
    "print('Пропуски после:', df['total_income'].isna().sum())"
   ]
  },
  {
   "cell_type": "code",
   "execution_count": 13,
   "metadata": {},
   "outputs": [
    {
     "data": {
      "text/plain": [
       "0        253875.64\n",
       "1        112080.01\n",
       "2        145885.95\n",
       "3        267628.55\n",
       "4        158616.08\n",
       "           ...    \n",
       "21520    224791.86\n",
       "21521    155999.81\n",
       "21522     89672.56\n",
       "21523    244093.05\n",
       "21524     82047.42\n",
       "Name: total_income, Length: 21525, dtype: float64"
      ]
     },
     "execution_count": 13,
     "metadata": {},
     "output_type": "execute_result"
    }
   ],
   "source": [
    "# преобразование значений в столбце 'total_income' до двух знаков после запятой\n",
    "# и просмотр результата\n",
    "\n",
    "df['total_income'] = df['total_income'].round(2)\n",
    "df['total_income']    "
   ]
  },
  {
   "cell_type": "markdown",
   "metadata": {},
   "source": [
    "**Вывод**\n",
    "\n",
    " "
   ]
  },
  {
   "cell_type": "markdown",
   "metadata": {},
   "source": [
    "Таким образом, для сохранения данных и более точного анализа, мы:\n",
    "\n",
    "- заменили пропуски в столбцах `days_employed` и `total_income`на медианные значения;\n",
    "\n",
    "- в столбце `days_employed` перевели значения из отрицательных в положительные и привели все данные к единому формату (все значения стали показываться в формате дней);\n",
    "\n",
    "- в столбце `total_income` уменьшили значения дохода до двух знаков после запятой."
   ]
  },
  {
   "cell_type": "markdown",
   "metadata": {},
   "source": [
    "### Замена типа данных"
   ]
  },
  {
   "cell_type": "code",
   "execution_count": 14,
   "metadata": {},
   "outputs": [],
   "source": [
    "# перевод значений столбца 'days_employed' в тип данных int\n",
    "\n",
    "df['days_employed'] = df['days_employed'].astype('int')"
   ]
  },
  {
   "cell_type": "code",
   "execution_count": 15,
   "metadata": {},
   "outputs": [
    {
     "data": {
      "text/plain": [
       "0     8437\n",
       "1     4024\n",
       "2     5623\n",
       "3     4124\n",
       "4    14177\n",
       "Name: days_employed, dtype: int64"
      ]
     },
     "execution_count": 15,
     "metadata": {},
     "output_type": "execute_result"
    }
   ],
   "source": [
    "# просмотр первых 5 строк столбца 'days_employed'\n",
    "\n",
    "df['days_employed'].head()"
   ]
  },
  {
   "cell_type": "markdown",
   "metadata": {},
   "source": [
    "**Вывод**"
   ]
  },
  {
   "cell_type": "markdown",
   "metadata": {},
   "source": [
    "В столбце `days_employed` мы заменили вещественный тип данных на целочислительный с помощью метода `astype()`. Данный метод позволяет перевести значения именно в тип данных `int`.\n",
    "\n",
    "Таким образом, значения в столбце `days_employed` пригодны для дальнейших ответов на вопросы по анализу данных.\n",
    "\n",
    "Далее, в следующем пункте, необходимо установить в таблице наличие дубликатов, как явных, так и неявных. "
   ]
  },
  {
   "cell_type": "markdown",
   "metadata": {},
   "source": [
    "### Обработка дубликатов"
   ]
  },
  {
   "cell_type": "markdown",
   "metadata": {},
   "source": [
    "Однако, перед тем, как начнем подсчитывать дубликаты в таблице, необходимо привести значения в столбце `education` к нижнему регистру, так как при дальнейшем нахождении дубликатов значения в разном регистре засчитаются как разные."
   ]
  },
  {
   "cell_type": "code",
   "execution_count": 16,
   "metadata": {},
   "outputs": [
    {
     "data": {
      "text/plain": [
       "среднее                13750\n",
       "высшее                  4718\n",
       "СРЕДНЕЕ                  772\n",
       "Среднее                  711\n",
       "неоконченное высшее      668\n",
       "ВЫСШЕЕ                   274\n",
       "Высшее                   268\n",
       "начальное                250\n",
       "Неоконченное высшее       47\n",
       "НЕОКОНЧЕННОЕ ВЫСШЕЕ       29\n",
       "НАЧАЛЬНОЕ                 17\n",
       "Начальное                 15\n",
       "ученая степень             4\n",
       "Ученая степень             1\n",
       "УЧЕНАЯ СТЕПЕНЬ             1\n",
       "Name: education, dtype: int64"
      ]
     },
     "execution_count": 16,
     "metadata": {},
     "output_type": "execute_result"
    }
   ],
   "source": [
    "# подсчет уникальных значений столбца 'education'\n",
    "\n",
    "df['education'].value_counts()"
   ]
  },
  {
   "cell_type": "code",
   "execution_count": 17,
   "metadata": {},
   "outputs": [
    {
     "data": {
      "text/plain": [
       "среднее                15233\n",
       "высшее                  5260\n",
       "неоконченное высшее      744\n",
       "начальное                282\n",
       "ученая степень             6\n",
       "Name: education, dtype: int64"
      ]
     },
     "execution_count": 17,
     "metadata": {},
     "output_type": "execute_result"
    }
   ],
   "source": [
    "# приведение строки к нижнему регистру\n",
    "# и подсчет уникальных значений столбца 'education'\n",
    "\n",
    "df['education'] = df['education'].str.lower()\n",
    "df['education'].value_counts()"
   ]
  },
  {
   "cell_type": "markdown",
   "metadata": {},
   "source": [
    "Посчитаем количество явных дубликатов в таблице."
   ]
  },
  {
   "cell_type": "code",
   "execution_count": 18,
   "metadata": {},
   "outputs": [
    {
     "name": "stdout",
     "output_type": "stream",
     "text": [
      "Количество явных дубликатов до: 71\n",
      "Количество явных дубликатов после: 0\n"
     ]
    }
   ],
   "source": [
    "print('Количество явных дубликатов до:', df.duplicated().sum())\n",
    "df = df.drop_duplicates().reset_index(drop = True)\n",
    "print('Количество явных дубликатов после:', df.duplicated().sum())"
   ]
  },
  {
   "cell_type": "code",
   "execution_count": 19,
   "metadata": {},
   "outputs": [
    {
     "data": {
      "text/plain": [
       " 0     14091\n",
       " 1      4808\n",
       " 2      2052\n",
       " 3       330\n",
       " 20       76\n",
       "-1        47\n",
       " 4        41\n",
       " 5         9\n",
       "Name: children, dtype: int64"
      ]
     },
     "execution_count": 19,
     "metadata": {},
     "output_type": "execute_result"
    }
   ],
   "source": [
    "# подсчет уникальных значений столбца 'children'\n",
    "\n",
    "df['children'].value_counts()"
   ]
  },
  {
   "cell_type": "markdown",
   "metadata": {},
   "source": [
    "В столбце `children` мы обнаружили такое количество детей, как `-1` и `20`. Возможно, что при выгрузке данных произошла ошибка. Заменим число `-1` на `0`, а число `20` на медианное значение, так как мы не знаем случайно ли ввели лишний ноль или вместо 0 случайно поставили 20."
   ]
  },
  {
   "cell_type": "code",
   "execution_count": 20,
   "metadata": {},
   "outputs": [],
   "source": [
    "# замена значения '-1' на '0' в столбце 'children'\n",
    "\n",
    "df['children'] = df['children'].replace(-1, 0)"
   ]
  },
  {
   "cell_type": "code",
   "execution_count": 21,
   "metadata": {},
   "outputs": [
    {
     "data": {
      "text/plain": [
       "0    14214\n",
       "1     4808\n",
       "2     2052\n",
       "3      330\n",
       "4       41\n",
       "5        9\n",
       "Name: children, dtype: int64"
      ]
     },
     "execution_count": 21,
     "metadata": {},
     "output_type": "execute_result"
    }
   ],
   "source": [
    "# замена числа 20 на медианное значение в столбце 'children'\n",
    "# и просмотр уникальных значений столбца\n",
    "\n",
    "children_median = df[df['children'] != 20]['children'].median()\n",
    "df['children'] = df['children'].replace(20, children_median)\n",
    "df['children'].value_counts() "
   ]
  },
  {
   "cell_type": "code",
   "execution_count": 22,
   "metadata": {},
   "outputs": [
    {
     "data": {
      "text/plain": [
       "array([42, 36, 33, 32, 53, 27, 43, 50, 35, 41, 40, 65, 54, 56, 26, 48, 24,\n",
       "       21, 57, 67, 28, 63, 62, 47, 34, 68, 25, 31, 30, 20, 49, 37, 45, 61,\n",
       "       64, 44, 52, 46, 23, 38, 39, 51,  0, 59, 29, 60, 55, 58, 71, 22, 73,\n",
       "       66, 69, 19, 72, 70, 74, 75])"
      ]
     },
     "execution_count": 22,
     "metadata": {},
     "output_type": "execute_result"
    }
   ],
   "source": [
    "# просмотр уникальных значений столбца 'dop_years'\n",
    "\n",
    "df['dob_years'].unique()"
   ]
  },
  {
   "cell_type": "markdown",
   "metadata": {},
   "source": [
    "После просмотра уникальных значений в столбце `dob_years` мы обнаружили, что среди всех возрастов присутствует число `0`. Возможно, что произошла также ошибка при выгрузке данных из системы. Поэтому, самым оптимальным решением, будет опять же замена числа `0` на медианное значение."
   ]
  },
  {
   "cell_type": "code",
   "execution_count": 23,
   "metadata": {},
   "outputs": [
    {
     "data": {
      "text/plain": [
       "array([42, 36, 33, 32, 53, 27, 43, 50, 35, 41, 40, 65, 54, 56, 26, 48, 24,\n",
       "       21, 57, 67, 28, 63, 62, 47, 34, 68, 25, 31, 30, 20, 49, 37, 45, 61,\n",
       "       64, 44, 52, 46, 23, 38, 39, 51, 59, 29, 60, 55, 58, 71, 22, 73, 66,\n",
       "       69, 19, 72, 70, 74, 75])"
      ]
     },
     "execution_count": 23,
     "metadata": {},
     "output_type": "execute_result"
    }
   ],
   "source": [
    "# замена в столбце 'dob_years' числа '0' на медианное значение\n",
    "# и просмотр уникальных значений с помощью метода unique()\n",
    "\n",
    "dop_years_median = df[df['dob_years'] != 0]['dob_years'].median()\n",
    "df['dob_years'] = df['dob_years'].replace(0, dop_years_median)\n",
    "df['dob_years'].unique()"
   ]
  },
  {
   "cell_type": "code",
   "execution_count": 24,
   "metadata": {},
   "outputs": [
    {
     "data": {
      "text/plain": [
       "array(['женат / замужем', 'гражданский брак', 'вдовец / вдова',\n",
       "       'в разводе', 'Не женат / не замужем'], dtype=object)"
      ]
     },
     "execution_count": 24,
     "metadata": {},
     "output_type": "execute_result"
    }
   ],
   "source": [
    "# просмотр уникальных значений столбца 'family_status'\n",
    "\n",
    "df['family_status'].unique()"
   ]
  },
  {
   "cell_type": "markdown",
   "metadata": {},
   "source": [
    "При просмотре уникальных значений столбца `family_status` мы обнаружили, что в значении `Не женат / не замужем` первая буква `Н` прописная. Необходимо привести все значения к строчным буквам."
   ]
  },
  {
   "cell_type": "code",
   "execution_count": 25,
   "metadata": {},
   "outputs": [
    {
     "data": {
      "text/plain": [
       "array(['женат / замужем', 'гражданский брак', 'вдовец / вдова',\n",
       "       'в разводе', 'не женат / не замужем'], dtype=object)"
      ]
     },
     "execution_count": 25,
     "metadata": {},
     "output_type": "execute_result"
    }
   ],
   "source": [
    "# приведение значений в столбце 'family_status' к нижнему регистру\n",
    "# и просмотр уникальных значений данного столбца\n",
    "\n",
    "df['family_status'] = df['family_status'].str.lower()\n",
    "df['family_status'].unique()"
   ]
  },
  {
   "cell_type": "code",
   "execution_count": 26,
   "metadata": {
    "scrolled": true
   },
   "outputs": [
    {
     "data": {
      "text/plain": [
       "F      14174\n",
       "M       7279\n",
       "XNA        1\n",
       "Name: gender, dtype: int64"
      ]
     },
     "execution_count": 26,
     "metadata": {},
     "output_type": "execute_result"
    }
   ],
   "source": [
    "# просмотр уникальных значений столбца 'gender'\n",
    "\n",
    "df['gender'].value_counts()"
   ]
  },
  {
   "cell_type": "markdown",
   "metadata": {},
   "source": [
    "При просмотре уникальных значений в столбце `gender` обнаружили значение `XNA`. Скорее всего, это пропуск, но так как мы не можем определить пол человека и по причине того, что данный столбец не так важен нам в дальнейшем анализе данных и ответах на вопросы, мы не будем заменять данное значение и оставим таким. \n",
    "\n",
    "Также, данное значение встречается только один раз, поэтому оно не сильно скажется на итоговых результатах анализа."
   ]
  },
  {
   "cell_type": "markdown",
   "metadata": {},
   "source": [
    "**Вывод**"
   ]
  },
  {
   "cell_type": "markdown",
   "metadata": {},
   "source": [
    "В процессе поиска и удаления дубликатов были рассмотрены, как явные и так и неявные дубликаты. Сначала мы использовали методы для поиска и удаления явных дубликатов во всей таблице.\n",
    "Далее просматривали каждый столбец отдельно, чтобы определить неявные дубликаты:\n",
    "* в столбце `education` мы привели все строки к нижнему регистру;\n",
    "* в столбце `children` заменили число `-1` на `0` и `20` на медианное значение;\n",
    "* в столбце `dob_years`, где указан возраст клиентов, заменили `0`на медианное значение;\n",
    "* в столбце `family_status` привели значение `Не женат / не замужем` к нижнему регистру.\n",
    "\n",
    "Также, при поиске уникальных значений в столбце `gender` было обнаружено значение `XNA`. С ним мы ничего не стали делать, так как оно встречается всего лишь один раз и никак не влияет на итоговые результаты исследования.\n",
    "\n",
    "Возможно, что неявные дубликаты и пропуск в форме `XNA` возникли по причине ошибок в процессе выгрузки данных.\n",
    "\n",
    "В следующем пункте необходимо произвести классификацию столбца `purpose`. Для этого нам понадобится лемматизация."
   ]
  },
  {
   "cell_type": "markdown",
   "metadata": {},
   "source": [
    "### Лемматизация"
   ]
  },
  {
   "cell_type": "code",
   "execution_count": 28,
   "metadata": {
    "scrolled": false
   },
   "outputs": [
    {
     "data": {
      "text/plain": [
       "array(['покупка жилья', 'приобретение автомобиля',\n",
       "       'дополнительное образование', 'сыграть свадьбу',\n",
       "       'операции с жильем', 'образование', 'на проведение свадьбы',\n",
       "       'покупка жилья для семьи', 'покупка недвижимости',\n",
       "       'покупка коммерческой недвижимости', 'покупка жилой недвижимости',\n",
       "       'строительство собственной недвижимости', 'недвижимость',\n",
       "       'строительство недвижимости', 'на покупку подержанного автомобиля',\n",
       "       'на покупку своего автомобиля',\n",
       "       'операции с коммерческой недвижимостью',\n",
       "       'строительство жилой недвижимости', 'жилье',\n",
       "       'операции со своей недвижимостью', 'автомобили',\n",
       "       'заняться образованием', 'сделка с подержанным автомобилем',\n",
       "       'получение образования', 'автомобиль', 'свадьба',\n",
       "       'получение дополнительного образования', 'покупка своего жилья',\n",
       "       'операции с недвижимостью', 'получение высшего образования',\n",
       "       'свой автомобиль', 'сделка с автомобилем',\n",
       "       'профильное образование', 'высшее образование',\n",
       "       'покупка жилья для сдачи', 'на покупку автомобиля', 'ремонт жилью',\n",
       "       'заняться высшим образованием'], dtype=object)"
      ]
     },
     "execution_count": 28,
     "metadata": {},
     "output_type": "execute_result"
    }
   ],
   "source": [
    "# просмотр уникальных значений столбца 'purpose'\n",
    "\n",
    "df['purpose'].unique()"
   ]
  },
  {
   "cell_type": "code",
   "execution_count": 29,
   "metadata": {
    "scrolled": true
   },
   "outputs": [
    {
     "name": "stdout",
     "output_type": "stream",
     "text": [
      "['покупка', ' ', 'жилье', ',', 'приобретение', ' ', 'автомобиль', ',', 'дополнительный', ' ', 'образование', ',', 'сыграть', ' ', 'свадьба', ',', 'операция', ' ', 'с', ' ', 'жилье', ',', 'образование', ',', 'на', ' ', 'проведение', ' ', 'свадьба', ',', 'покупка', ' ', 'жилье', ' ', 'для', ' ', 'семья', ',', 'покупка', ' ', 'недвижимость', ',', 'покупка', ' ', 'коммерческий', ' ', 'недвижимость', ',', 'покупка', ' ', 'жилой', ' ', 'недвижимость', ',', 'строительство', ' ', 'собственный', ' ', 'недвижимость', ',', 'недвижимость', ',', 'строительство', ' ', 'недвижимость', ',', 'на', ' ', 'покупка', ' ', 'подержать', ' ', 'автомобиль', ',', 'на', ' ', 'покупка', ' ', 'свой', ' ', 'автомобиль', ',', 'операция', ' ', 'с', ' ', 'коммерческий', ' ', 'недвижимость', ',', 'строительство', ' ', 'жилой', ' ', 'недвижимость', ',', 'жилье', ',', 'операция', ' ', 'со', ' ', 'свой', ' ', 'недвижимость', ',', 'автомобиль', ',', 'заниматься', ' ', 'образование', ',', 'сделка', ' ', 'с', ' ', 'подержать', ' ', 'автомобиль', ',', 'получение', ' ', 'образование', ',', 'автомобиль', ',', 'свадьба', ',', 'получение', ' ', 'дополнительный', ' ', 'образование', ',', 'покупка', ' ', 'свой', ' ', 'жилье', ',', 'операция', ' ', 'с', ' ', 'недвижимость', ',', 'получение', ' ', 'высокий', ' ', 'образование', ',', 'свой', ' ', 'автомобиль', ',', 'сделка', ' ', 'с', ' ', 'автомобиль', ',', 'профильный', ' ', 'образование', ',', 'высокий', ' ', 'образование', ',', 'покупка', ' ', 'жилье', ' ', 'для', ' ', 'сдача', ',', 'на', ' ', 'покупка', ' ', 'автомобиль', ',', 'ремонт', ' ', 'жилье', ',', 'заниматься', ' ', 'высокий', ' ', 'образование', '\\n']\n"
     ]
    }
   ],
   "source": [
    "# объединение значений в столбце 'purpose' в строку\n",
    "#  и лемматизация данной строки\n",
    "\n",
    "m = Mystem()\n",
    "purpose_list = ','.join(df['purpose'].unique())\n",
    "lemmas = m.lemmatize(purpose_list)\n",
    "print(lemmas) "
   ]
  },
  {
   "cell_type": "code",
   "execution_count": 30,
   "metadata": {},
   "outputs": [
    {
     "name": "stdout",
     "output_type": "stream",
     "text": [
      "Counter({' ': 59, ',': 37, 'покупка': 10, 'недвижимость': 10, 'автомобиль': 9, 'образование': 9, 'жилье': 7, 'с': 5, 'операция': 4, 'на': 4, 'свой': 4, 'свадьба': 3, 'строительство': 3, 'получение': 3, 'высокий': 3, 'дополнительный': 2, 'для': 2, 'коммерческий': 2, 'жилой': 2, 'подержать': 2, 'заниматься': 2, 'сделка': 2, 'приобретение': 1, 'сыграть': 1, 'проведение': 1, 'семья': 1, 'собственный': 1, 'со': 1, 'профильный': 1, 'сдача': 1, 'ремонт': 1, '\\n': 1})\n"
     ]
    }
   ],
   "source": [
    "# подсчет частоты появления слов с помошью Counter\n",
    "\n",
    "print(Counter(lemmas))"
   ]
  },
  {
   "cell_type": "markdown",
   "metadata": {},
   "source": [
    "Таким образом можно выделить ключевые слова, которые обобщают все представленные цели получения кредита. \n",
    "Это будут следующие значения:\n",
    "* недвижимость/жилье;\n",
    "* автомобиль;\n",
    "* образование;\n",
    "* свадьба;\n",
    "* ремонт."
   ]
  },
  {
   "cell_type": "code",
   "execution_count": 31,
   "metadata": {},
   "outputs": [
    {
     "data": {
      "text/html": [
       "<div>\n",
       "<style scoped>\n",
       "    .dataframe tbody tr th:only-of-type {\n",
       "        vertical-align: middle;\n",
       "    }\n",
       "\n",
       "    .dataframe tbody tr th {\n",
       "        vertical-align: top;\n",
       "    }\n",
       "\n",
       "    .dataframe thead th {\n",
       "        text-align: right;\n",
       "    }\n",
       "</style>\n",
       "<table border=\"1\" class=\"dataframe\">\n",
       "  <thead>\n",
       "    <tr style=\"text-align: right;\">\n",
       "      <th></th>\n",
       "      <th>children</th>\n",
       "      <th>days_employed</th>\n",
       "      <th>dob_years</th>\n",
       "      <th>education</th>\n",
       "      <th>education_id</th>\n",
       "      <th>family_status</th>\n",
       "      <th>family_status_id</th>\n",
       "      <th>gender</th>\n",
       "      <th>income_type</th>\n",
       "      <th>debt</th>\n",
       "      <th>total_income</th>\n",
       "      <th>purpose</th>\n",
       "      <th>purpose_categories</th>\n",
       "    </tr>\n",
       "  </thead>\n",
       "  <tbody>\n",
       "    <tr>\n",
       "      <td>0</td>\n",
       "      <td>1</td>\n",
       "      <td>8437</td>\n",
       "      <td>42</td>\n",
       "      <td>высшее</td>\n",
       "      <td>0</td>\n",
       "      <td>женат / замужем</td>\n",
       "      <td>0</td>\n",
       "      <td>F</td>\n",
       "      <td>сотрудник</td>\n",
       "      <td>0</td>\n",
       "      <td>253875.64</td>\n",
       "      <td>покупка жилья</td>\n",
       "      <td>недвижимость</td>\n",
       "    </tr>\n",
       "    <tr>\n",
       "      <td>1</td>\n",
       "      <td>1</td>\n",
       "      <td>4024</td>\n",
       "      <td>36</td>\n",
       "      <td>среднее</td>\n",
       "      <td>1</td>\n",
       "      <td>женат / замужем</td>\n",
       "      <td>0</td>\n",
       "      <td>F</td>\n",
       "      <td>сотрудник</td>\n",
       "      <td>0</td>\n",
       "      <td>112080.01</td>\n",
       "      <td>приобретение автомобиля</td>\n",
       "      <td>автомобиль</td>\n",
       "    </tr>\n",
       "    <tr>\n",
       "      <td>2</td>\n",
       "      <td>0</td>\n",
       "      <td>5623</td>\n",
       "      <td>33</td>\n",
       "      <td>среднее</td>\n",
       "      <td>1</td>\n",
       "      <td>женат / замужем</td>\n",
       "      <td>0</td>\n",
       "      <td>M</td>\n",
       "      <td>сотрудник</td>\n",
       "      <td>0</td>\n",
       "      <td>145885.95</td>\n",
       "      <td>покупка жилья</td>\n",
       "      <td>недвижимость</td>\n",
       "    </tr>\n",
       "    <tr>\n",
       "      <td>3</td>\n",
       "      <td>3</td>\n",
       "      <td>4124</td>\n",
       "      <td>32</td>\n",
       "      <td>среднее</td>\n",
       "      <td>1</td>\n",
       "      <td>женат / замужем</td>\n",
       "      <td>0</td>\n",
       "      <td>M</td>\n",
       "      <td>сотрудник</td>\n",
       "      <td>0</td>\n",
       "      <td>267628.55</td>\n",
       "      <td>дополнительное образование</td>\n",
       "      <td>образование</td>\n",
       "    </tr>\n",
       "    <tr>\n",
       "      <td>4</td>\n",
       "      <td>0</td>\n",
       "      <td>14177</td>\n",
       "      <td>53</td>\n",
       "      <td>среднее</td>\n",
       "      <td>1</td>\n",
       "      <td>гражданский брак</td>\n",
       "      <td>1</td>\n",
       "      <td>F</td>\n",
       "      <td>пенсионер</td>\n",
       "      <td>0</td>\n",
       "      <td>158616.08</td>\n",
       "      <td>сыграть свадьбу</td>\n",
       "      <td>свадьба</td>\n",
       "    </tr>\n",
       "  </tbody>\n",
       "</table>\n",
       "</div>"
      ],
      "text/plain": [
       "   children  days_employed  dob_years education  education_id  \\\n",
       "0         1           8437         42    высшее             0   \n",
       "1         1           4024         36   среднее             1   \n",
       "2         0           5623         33   среднее             1   \n",
       "3         3           4124         32   среднее             1   \n",
       "4         0          14177         53   среднее             1   \n",
       "\n",
       "      family_status  family_status_id gender income_type  debt  total_income  \\\n",
       "0   женат / замужем                 0      F   сотрудник     0     253875.64   \n",
       "1   женат / замужем                 0      F   сотрудник     0     112080.01   \n",
       "2   женат / замужем                 0      M   сотрудник     0     145885.95   \n",
       "3   женат / замужем                 0      M   сотрудник     0     267628.55   \n",
       "4  гражданский брак                 1      F   пенсионер     0     158616.08   \n",
       "\n",
       "                      purpose purpose_categories  \n",
       "0               покупка жилья       недвижимость  \n",
       "1     приобретение автомобиля         автомобиль  \n",
       "2               покупка жилья       недвижимость  \n",
       "3  дополнительное образование        образование  \n",
       "4             сыграть свадьбу            свадьба  "
      ]
     },
     "execution_count": 31,
     "metadata": {},
     "output_type": "execute_result"
    }
   ],
   "source": [
    "# создание функции 'find_purpose'\n",
    "\n",
    "def find_purpose(purpose):\n",
    "    '''\n",
    "    Функция последовательно лемматизирует каждое значение столбца 'purpose'\n",
    "    и проверяет, какая из категорий обнаруживается в лемматизированном варианте\n",
    "    '''\n",
    "    purpose_lemmas = m.lemmatize(purpose)\n",
    "    if 'недвижимость' in purpose_lemmas or 'жилье' in purpose_lemmas:\n",
    "        return 'недвижимость'\n",
    "    if 'автомобиль' in purpose_lemmas:\n",
    "        return 'автомобиль'\n",
    "    if 'образование' in purpose_lemmas:\n",
    "        return 'образование'\n",
    "    if 'свадьба' in purpose_lemmas:\n",
    "        return 'свадьба'\n",
    "    if 'ремонт' in purpose_lemmas:\n",
    "        return 'ремонт'\n",
    "    return 'прочее'\n",
    "\n",
    "# созданиe столбца 'purpose_categories' и добавление значений с помощью метода 'apply'\n",
    "\n",
    "df['purpose_categories'] = df['purpose'].apply(find_purpose)\n",
    "df.head()"
   ]
  },
  {
   "cell_type": "markdown",
   "metadata": {},
   "source": [
    "**Вывод**"
   ]
  },
  {
   "cell_type": "markdown",
   "metadata": {},
   "source": [
    "Мы провели лемматизацию и выявили ключевые слова в столбце `purpose`. Всего было выявлено `5` значений: `недвижимость/жилье`; `автомобиль`; `образование`; `свадьба`; `ремонт`. Далее мы создали новый столбец `purpose_categories` в котором представлены основные категории целей получения кредита.\n",
    "\n",
    "В следующем пункте необходимо произвести категоризацию по возрастным группам столбца `dob_years` и категоризацию по доходам столбца `total_income`."
   ]
  },
  {
   "cell_type": "markdown",
   "metadata": {},
   "source": [
    "### Категоризация данных"
   ]
  },
  {
   "cell_type": "code",
   "execution_count": 32,
   "metadata": {},
   "outputs": [
    {
     "data": {
      "text/plain": [
       "array([42, 36, 33, 32, 53, 27, 43, 50, 35, 41, 40, 65, 54, 56, 26, 48, 24,\n",
       "       21, 57, 67, 28, 63, 62, 47, 34, 68, 25, 31, 30, 20, 49, 37, 45, 61,\n",
       "       64, 44, 52, 46, 23, 38, 39, 51, 59, 29, 60, 55, 58, 71, 22, 73, 66,\n",
       "       69, 19, 72, 70, 74, 75])"
      ]
     },
     "execution_count": 32,
     "metadata": {},
     "output_type": "execute_result"
    }
   ],
   "source": [
    "# просмотр уникальных значений столбца 'dob_years'\n",
    "\n",
    "df['dob_years'].unique()"
   ]
  },
  {
   "cell_type": "code",
   "execution_count": 33,
   "metadata": {},
   "outputs": [
    {
     "data": {
      "text/html": [
       "<div>\n",
       "<style scoped>\n",
       "    .dataframe tbody tr th:only-of-type {\n",
       "        vertical-align: middle;\n",
       "    }\n",
       "\n",
       "    .dataframe tbody tr th {\n",
       "        vertical-align: top;\n",
       "    }\n",
       "\n",
       "    .dataframe thead th {\n",
       "        text-align: right;\n",
       "    }\n",
       "</style>\n",
       "<table border=\"1\" class=\"dataframe\">\n",
       "  <thead>\n",
       "    <tr style=\"text-align: right;\">\n",
       "      <th></th>\n",
       "      <th>children</th>\n",
       "      <th>days_employed</th>\n",
       "      <th>dob_years</th>\n",
       "      <th>education</th>\n",
       "      <th>education_id</th>\n",
       "      <th>family_status</th>\n",
       "      <th>family_status_id</th>\n",
       "      <th>gender</th>\n",
       "      <th>income_type</th>\n",
       "      <th>debt</th>\n",
       "      <th>total_income</th>\n",
       "      <th>purpose</th>\n",
       "      <th>purpose_categories</th>\n",
       "      <th>years_group</th>\n",
       "    </tr>\n",
       "  </thead>\n",
       "  <tbody>\n",
       "    <tr>\n",
       "      <td>0</td>\n",
       "      <td>1</td>\n",
       "      <td>8437</td>\n",
       "      <td>42</td>\n",
       "      <td>высшее</td>\n",
       "      <td>0</td>\n",
       "      <td>женат / замужем</td>\n",
       "      <td>0</td>\n",
       "      <td>F</td>\n",
       "      <td>сотрудник</td>\n",
       "      <td>0</td>\n",
       "      <td>253875.64</td>\n",
       "      <td>покупка жилья</td>\n",
       "      <td>недвижимость</td>\n",
       "      <td>молодые</td>\n",
       "    </tr>\n",
       "    <tr>\n",
       "      <td>1</td>\n",
       "      <td>1</td>\n",
       "      <td>4024</td>\n",
       "      <td>36</td>\n",
       "      <td>среднее</td>\n",
       "      <td>1</td>\n",
       "      <td>женат / замужем</td>\n",
       "      <td>0</td>\n",
       "      <td>F</td>\n",
       "      <td>сотрудник</td>\n",
       "      <td>0</td>\n",
       "      <td>112080.01</td>\n",
       "      <td>приобретение автомобиля</td>\n",
       "      <td>автомобиль</td>\n",
       "      <td>молодые</td>\n",
       "    </tr>\n",
       "    <tr>\n",
       "      <td>2</td>\n",
       "      <td>0</td>\n",
       "      <td>5623</td>\n",
       "      <td>33</td>\n",
       "      <td>среднее</td>\n",
       "      <td>1</td>\n",
       "      <td>женат / замужем</td>\n",
       "      <td>0</td>\n",
       "      <td>M</td>\n",
       "      <td>сотрудник</td>\n",
       "      <td>0</td>\n",
       "      <td>145885.95</td>\n",
       "      <td>покупка жилья</td>\n",
       "      <td>недвижимость</td>\n",
       "      <td>молодые</td>\n",
       "    </tr>\n",
       "    <tr>\n",
       "      <td>3</td>\n",
       "      <td>3</td>\n",
       "      <td>4124</td>\n",
       "      <td>32</td>\n",
       "      <td>среднее</td>\n",
       "      <td>1</td>\n",
       "      <td>женат / замужем</td>\n",
       "      <td>0</td>\n",
       "      <td>M</td>\n",
       "      <td>сотрудник</td>\n",
       "      <td>0</td>\n",
       "      <td>267628.55</td>\n",
       "      <td>дополнительное образование</td>\n",
       "      <td>образование</td>\n",
       "      <td>молодые</td>\n",
       "    </tr>\n",
       "    <tr>\n",
       "      <td>4</td>\n",
       "      <td>0</td>\n",
       "      <td>14177</td>\n",
       "      <td>53</td>\n",
       "      <td>среднее</td>\n",
       "      <td>1</td>\n",
       "      <td>гражданский брак</td>\n",
       "      <td>1</td>\n",
       "      <td>F</td>\n",
       "      <td>пенсионер</td>\n",
       "      <td>0</td>\n",
       "      <td>158616.08</td>\n",
       "      <td>сыграть свадьбу</td>\n",
       "      <td>свадьба</td>\n",
       "      <td>средние</td>\n",
       "    </tr>\n",
       "  </tbody>\n",
       "</table>\n",
       "</div>"
      ],
      "text/plain": [
       "   children  days_employed  dob_years education  education_id  \\\n",
       "0         1           8437         42    высшее             0   \n",
       "1         1           4024         36   среднее             1   \n",
       "2         0           5623         33   среднее             1   \n",
       "3         3           4124         32   среднее             1   \n",
       "4         0          14177         53   среднее             1   \n",
       "\n",
       "      family_status  family_status_id gender income_type  debt  total_income  \\\n",
       "0   женат / замужем                 0      F   сотрудник     0     253875.64   \n",
       "1   женат / замужем                 0      F   сотрудник     0     112080.01   \n",
       "2   женат / замужем                 0      M   сотрудник     0     145885.95   \n",
       "3   женат / замужем                 0      M   сотрудник     0     267628.55   \n",
       "4  гражданский брак                 1      F   пенсионер     0     158616.08   \n",
       "\n",
       "                      purpose purpose_categories years_group  \n",
       "0               покупка жилья       недвижимость     молодые  \n",
       "1     приобретение автомобиля         автомобиль     молодые  \n",
       "2               покупка жилья       недвижимость     молодые  \n",
       "3  дополнительное образование        образование     молодые  \n",
       "4             сыграть свадьбу            свадьба     средние  "
      ]
     },
     "execution_count": 33,
     "metadata": {},
     "output_type": "execute_result"
    }
   ],
   "source": [
    "# создание функции для классификации людей по возрастным группам\n",
    "\n",
    "def years_group(age):\n",
    "    '''\n",
    "    Возвращает возрастную группу по значению возраста age, используя правила:\n",
    "    - 'молодые', если age более 18 и менее 44, включая 18 и 44;\n",
    "    - 'средние', если age более 45 и менее 59, включая 45 и 59;\n",
    "    - 'пожилые' - во всех остальных случаях.\n",
    "    '''\n",
    "    if age >= 18 and age <= 44:\n",
    "        return 'молодые'\n",
    "    if age >= 45 and age <= 59:\n",
    "        return 'средние'\n",
    "    return 'пожилые'\n",
    "\n",
    "# создание столбца 'years_group'\n",
    "# и просмотр первых пяти строк таблицы df\n",
    "\n",
    "df['years_group'] = df['dob_years'].apply(years_group)\n",
    "df.head(5)           "
   ]
  },
  {
   "cell_type": "code",
   "execution_count": 34,
   "metadata": {},
   "outputs": [
    {
     "data": {
      "text/plain": [
       "молодые    11808\n",
       "средние     7146\n",
       "пожилые     2500\n",
       "Name: years_group, dtype: int64"
      ]
     },
     "execution_count": 34,
     "metadata": {},
     "output_type": "execute_result"
    }
   ],
   "source": [
    "# просмотр уникальных значений столбца 'years_group' и их количества\n",
    "\n",
    "df['years_group'].value_counts()"
   ]
  },
  {
   "cell_type": "code",
   "execution_count": 35,
   "metadata": {},
   "outputs": [
    {
     "data": {
      "text/plain": [
       "14555      20667.26\n",
       "12983      21205.28\n",
       "16138      21367.65\n",
       "1598       21695.10\n",
       "14247      21895.61\n",
       "            ...    \n",
       "17137    1711309.27\n",
       "20742    1715018.39\n",
       "9159     1726276.01\n",
       "19548    2200852.21\n",
       "12390    2265604.03\n",
       "Name: total_income, Length: 21454, dtype: float64"
      ]
     },
     "execution_count": 35,
     "metadata": {},
     "output_type": "execute_result"
    }
   ],
   "source": [
    "# просмотр уникальных значений столбца 'total_income'\n",
    "\n",
    "df['total_income'].sort_values()"
   ]
  },
  {
   "cell_type": "markdown",
   "metadata": {},
   "source": [
    "По уникальным значениям и их количеству мы видим, что минимальное значение по доходу составляет `20667.26`, а максимальное `2265604.03`. Следовательно можно определить границы для категоризации по доходу, отталкиваясь от минимального и максимального значения в таблице и далее разбить доход по статистическим данным зарплатной сетки в обществе."
   ]
  },
  {
   "cell_type": "code",
   "execution_count": 36,
   "metadata": {},
   "outputs": [
    {
     "data": {
      "text/html": [
       "<div>\n",
       "<style scoped>\n",
       "    .dataframe tbody tr th:only-of-type {\n",
       "        vertical-align: middle;\n",
       "    }\n",
       "\n",
       "    .dataframe tbody tr th {\n",
       "        vertical-align: top;\n",
       "    }\n",
       "\n",
       "    .dataframe thead th {\n",
       "        text-align: right;\n",
       "    }\n",
       "</style>\n",
       "<table border=\"1\" class=\"dataframe\">\n",
       "  <thead>\n",
       "    <tr style=\"text-align: right;\">\n",
       "      <th></th>\n",
       "      <th>children</th>\n",
       "      <th>days_employed</th>\n",
       "      <th>dob_years</th>\n",
       "      <th>education</th>\n",
       "      <th>education_id</th>\n",
       "      <th>family_status</th>\n",
       "      <th>family_status_id</th>\n",
       "      <th>gender</th>\n",
       "      <th>income_type</th>\n",
       "      <th>debt</th>\n",
       "      <th>total_income</th>\n",
       "      <th>purpose</th>\n",
       "      <th>purpose_categories</th>\n",
       "      <th>years_group</th>\n",
       "      <th>total_income_group</th>\n",
       "    </tr>\n",
       "  </thead>\n",
       "  <tbody>\n",
       "    <tr>\n",
       "      <td>0</td>\n",
       "      <td>1</td>\n",
       "      <td>8437</td>\n",
       "      <td>42</td>\n",
       "      <td>высшее</td>\n",
       "      <td>0</td>\n",
       "      <td>женат / замужем</td>\n",
       "      <td>0</td>\n",
       "      <td>F</td>\n",
       "      <td>сотрудник</td>\n",
       "      <td>0</td>\n",
       "      <td>253875.64</td>\n",
       "      <td>покупка жилья</td>\n",
       "      <td>недвижимость</td>\n",
       "      <td>молодые</td>\n",
       "      <td>4</td>\n",
       "    </tr>\n",
       "    <tr>\n",
       "      <td>1</td>\n",
       "      <td>1</td>\n",
       "      <td>4024</td>\n",
       "      <td>36</td>\n",
       "      <td>среднее</td>\n",
       "      <td>1</td>\n",
       "      <td>женат / замужем</td>\n",
       "      <td>0</td>\n",
       "      <td>F</td>\n",
       "      <td>сотрудник</td>\n",
       "      <td>0</td>\n",
       "      <td>112080.01</td>\n",
       "      <td>приобретение автомобиля</td>\n",
       "      <td>автомобиль</td>\n",
       "      <td>молодые</td>\n",
       "      <td>2</td>\n",
       "    </tr>\n",
       "    <tr>\n",
       "      <td>2</td>\n",
       "      <td>0</td>\n",
       "      <td>5623</td>\n",
       "      <td>33</td>\n",
       "      <td>среднее</td>\n",
       "      <td>1</td>\n",
       "      <td>женат / замужем</td>\n",
       "      <td>0</td>\n",
       "      <td>M</td>\n",
       "      <td>сотрудник</td>\n",
       "      <td>0</td>\n",
       "      <td>145885.95</td>\n",
       "      <td>покупка жилья</td>\n",
       "      <td>недвижимость</td>\n",
       "      <td>молодые</td>\n",
       "      <td>3</td>\n",
       "    </tr>\n",
       "    <tr>\n",
       "      <td>3</td>\n",
       "      <td>3</td>\n",
       "      <td>4124</td>\n",
       "      <td>32</td>\n",
       "      <td>среднее</td>\n",
       "      <td>1</td>\n",
       "      <td>женат / замужем</td>\n",
       "      <td>0</td>\n",
       "      <td>M</td>\n",
       "      <td>сотрудник</td>\n",
       "      <td>0</td>\n",
       "      <td>267628.55</td>\n",
       "      <td>дополнительное образование</td>\n",
       "      <td>образование</td>\n",
       "      <td>молодые</td>\n",
       "      <td>4</td>\n",
       "    </tr>\n",
       "    <tr>\n",
       "      <td>4</td>\n",
       "      <td>0</td>\n",
       "      <td>14177</td>\n",
       "      <td>53</td>\n",
       "      <td>среднее</td>\n",
       "      <td>1</td>\n",
       "      <td>гражданский брак</td>\n",
       "      <td>1</td>\n",
       "      <td>F</td>\n",
       "      <td>пенсионер</td>\n",
       "      <td>0</td>\n",
       "      <td>158616.08</td>\n",
       "      <td>сыграть свадьбу</td>\n",
       "      <td>свадьба</td>\n",
       "      <td>средние</td>\n",
       "      <td>3</td>\n",
       "    </tr>\n",
       "  </tbody>\n",
       "</table>\n",
       "</div>"
      ],
      "text/plain": [
       "   children  days_employed  dob_years education  education_id  \\\n",
       "0         1           8437         42    высшее             0   \n",
       "1         1           4024         36   среднее             1   \n",
       "2         0           5623         33   среднее             1   \n",
       "3         3           4124         32   среднее             1   \n",
       "4         0          14177         53   среднее             1   \n",
       "\n",
       "      family_status  family_status_id gender income_type  debt  total_income  \\\n",
       "0   женат / замужем                 0      F   сотрудник     0     253875.64   \n",
       "1   женат / замужем                 0      F   сотрудник     0     112080.01   \n",
       "2   женат / замужем                 0      M   сотрудник     0     145885.95   \n",
       "3   женат / замужем                 0      M   сотрудник     0     267628.55   \n",
       "4  гражданский брак                 1      F   пенсионер     0     158616.08   \n",
       "\n",
       "                      purpose purpose_categories years_group  \\\n",
       "0               покупка жилья       недвижимость     молодые   \n",
       "1     приобретение автомобиля         автомобиль     молодые   \n",
       "2               покупка жилья       недвижимость     молодые   \n",
       "3  дополнительное образование        образование     молодые   \n",
       "4             сыграть свадьбу            свадьба     средние   \n",
       "\n",
       "   total_income_group  \n",
       "0                   4  \n",
       "1                   2  \n",
       "2                   3  \n",
       "3                   4  \n",
       "4                   3  "
      ]
     },
     "execution_count": 36,
     "metadata": {},
     "output_type": "execute_result"
    }
   ],
   "source": [
    "# создание функции для классификации доходов людей\n",
    "\n",
    "def total_income_group(number):\n",
    "    '''\n",
    "    Возвращает группу по значению дохода number, используя правила:\n",
    "    - '1', если number менее 55000;\n",
    "    - '2', если number более 55000 и менее 120000, включая 55000 и 120000;\n",
    "    - '3', если number более 130000 и менее 200000, включая 130000 и 200000;\n",
    "    - '4' - во всех остальных случаях.\n",
    "    '''\n",
    "    if number < 55000:\n",
    "        return 1\n",
    "    if number >= 55000 and number <= 120000:\n",
    "        return 2\n",
    "    if number >= 130000 and number <= 200000:\n",
    "        return 3\n",
    "    return 4\n",
    "\n",
    "# создание столбца 'total_income_group'\n",
    "# и просмотр первых пяти строк таблицы df\n",
    "\n",
    "df['total_income_group'] = df['total_income'].apply(total_income_group)\n",
    "df.head(5)"
   ]
  },
  {
   "cell_type": "code",
   "execution_count": 37,
   "metadata": {},
   "outputs": [
    {
     "data": {
      "text/html": [
       "<div>\n",
       "<style scoped>\n",
       "    .dataframe tbody tr th:only-of-type {\n",
       "        vertical-align: middle;\n",
       "    }\n",
       "\n",
       "    .dataframe tbody tr th {\n",
       "        vertical-align: top;\n",
       "    }\n",
       "\n",
       "    .dataframe thead th {\n",
       "        text-align: right;\n",
       "    }\n",
       "</style>\n",
       "<table border=\"1\" class=\"dataframe\">\n",
       "  <thead>\n",
       "    <tr style=\"text-align: right;\">\n",
       "      <th></th>\n",
       "      <th>count</th>\n",
       "      <th>std</th>\n",
       "    </tr>\n",
       "    <tr>\n",
       "      <th>total_income_group</th>\n",
       "      <th></th>\n",
       "      <th></th>\n",
       "    </tr>\n",
       "  </thead>\n",
       "  <tbody>\n",
       "    <tr>\n",
       "      <td>1</td>\n",
       "      <td>580</td>\n",
       "      <td>7532.015890</td>\n",
       "    </tr>\n",
       "    <tr>\n",
       "      <td>2</td>\n",
       "      <td>6265</td>\n",
       "      <td>17390.860512</td>\n",
       "    </tr>\n",
       "    <tr>\n",
       "      <td>3</td>\n",
       "      <td>8446</td>\n",
       "      <td>18558.507784</td>\n",
       "    </tr>\n",
       "    <tr>\n",
       "      <td>4</td>\n",
       "      <td>6163</td>\n",
       "      <td>128015.773258</td>\n",
       "    </tr>\n",
       "  </tbody>\n",
       "</table>\n",
       "</div>"
      ],
      "text/plain": [
       "                    count            std\n",
       "total_income_group                      \n",
       "1                     580    7532.015890\n",
       "2                    6265   17390.860512\n",
       "3                    8446   18558.507784\n",
       "4                    6163  128015.773258"
      ]
     },
     "execution_count": 37,
     "metadata": {},
     "output_type": "execute_result"
    }
   ],
   "source": [
    "# Код ревьюера\n",
    "\n",
    "df.groupby('total_income_group').agg(count=('total_income','count'),std=('total_income','std'))"
   ]
  },
  {
   "cell_type": "markdown",
   "metadata": {},
   "source": [
    "**Вывод**"
   ]
  },
  {
   "cell_type": "markdown",
   "metadata": {},
   "source": [
    "Таким образом, мы провели категоризацию по возрастным группам и создали столбец `years_group`. В процессе категоризации были выявлены следующие основные возрастные группы:\n",
    "* молодые (возраст от 18 до 44 включительно);\n",
    "* средние (возраст от 45 до 59 включительно);\n",
    "* пожилые (все остальные возраста)\n",
    "\n",
    "Также, мы провели категоризацию по доходам людей и создали столбец `total_income_group`. В процессе категоризации были выявлены следующие основные группы по доходам людей:\n",
    "* 1 (доход до 55000, не включая);\n",
    "* 2 (доход от 55000 до 120000 включительно);\n",
    "* 3 (доход от 130000 до 200000 включительно);\n",
    "* 4 (все остальные доходы)\n",
    "\n",
    "Мы определили и заполнили пропущенные значения, изменили тип данных в столбце `days_employed`, удалили дубликаты, выделили леммы в значениях столбца `purpose`, категоризировали данные. \n",
    "\n",
    "Теперь можно приступить к ответам на вопросы."
   ]
  },
  {
   "cell_type": "markdown",
   "metadata": {},
   "source": [
    "# 3. Ответы на вопросы <a id='intro2'></a>"
   ]
  },
  {
   "cell_type": "markdown",
   "metadata": {},
   "source": [
    "- Есть ли зависимость между наличием детей и возвратом кредита в срок?"
   ]
  },
  {
   "cell_type": "code",
   "execution_count": 38,
   "metadata": {},
   "outputs": [],
   "source": [
    "# создание функции для категоризации клиентов по детям\n",
    "\n",
    "def children_exist(children):\n",
    "    '''\n",
    "    Возвращает группу по количеству детей children, используя правила:\n",
    "    - '0', если children равно 0;\n",
    "    - '1', во всех остальных случаях.\n",
    "    '''\n",
    "    if children == 0:\n",
    "        return 0\n",
    "    return 1\n",
    "\n",
    "# создание столбца 'children_exist'\n",
    "df['children_exist'] = df['children'].apply(children_exist)"
   ]
  },
  {
   "cell_type": "code",
   "execution_count": 39,
   "metadata": {},
   "outputs": [
    {
     "data": {
      "text/html": [
       "<div>\n",
       "<style scoped>\n",
       "    .dataframe tbody tr th:only-of-type {\n",
       "        vertical-align: middle;\n",
       "    }\n",
       "\n",
       "    .dataframe tbody tr th {\n",
       "        vertical-align: top;\n",
       "    }\n",
       "\n",
       "    .dataframe thead th {\n",
       "        text-align: right;\n",
       "    }\n",
       "</style>\n",
       "<table border=\"1\" class=\"dataframe\">\n",
       "  <thead>\n",
       "    <tr style=\"text-align: right;\">\n",
       "      <th>debt</th>\n",
       "      <th>0</th>\n",
       "      <th>1</th>\n",
       "    </tr>\n",
       "    <tr>\n",
       "      <th>children_exist</th>\n",
       "      <th></th>\n",
       "      <th></th>\n",
       "    </tr>\n",
       "  </thead>\n",
       "  <tbody>\n",
       "    <tr>\n",
       "      <td>0</td>\n",
       "      <td>13142</td>\n",
       "      <td>1072</td>\n",
       "    </tr>\n",
       "    <tr>\n",
       "      <td>1</td>\n",
       "      <td>6571</td>\n",
       "      <td>669</td>\n",
       "    </tr>\n",
       "  </tbody>\n",
       "</table>\n",
       "</div>"
      ],
      "text/plain": [
       "debt                0     1\n",
       "children_exist             \n",
       "0               13142  1072\n",
       "1                6571   669"
      ]
     },
     "execution_count": 39,
     "metadata": {},
     "output_type": "execute_result"
    }
   ],
   "source": [
    "# создание сводной таблицы\n",
    "\n",
    "data_pivot_children_exist_debt = df.pivot_table(index = 'children_exist', columns = 'debt', \n",
    "                                                values = 'gender', aggfunc = 'count')\n",
    "data_pivot_children_exist_debt"
   ]
  },
  {
   "cell_type": "code",
   "execution_count": 40,
   "metadata": {},
   "outputs": [
    {
     "data": {
      "text/html": [
       "<div>\n",
       "<style scoped>\n",
       "    .dataframe tbody tr th:only-of-type {\n",
       "        vertical-align: middle;\n",
       "    }\n",
       "\n",
       "    .dataframe tbody tr th {\n",
       "        vertical-align: top;\n",
       "    }\n",
       "\n",
       "    .dataframe thead th {\n",
       "        text-align: right;\n",
       "    }\n",
       "</style>\n",
       "<table border=\"1\" class=\"dataframe\">\n",
       "  <thead>\n",
       "    <tr style=\"text-align: right;\">\n",
       "      <th>debt</th>\n",
       "      <th>0</th>\n",
       "      <th>1</th>\n",
       "      <th>ratio</th>\n",
       "    </tr>\n",
       "    <tr>\n",
       "      <th>children_exist</th>\n",
       "      <th></th>\n",
       "      <th></th>\n",
       "      <th></th>\n",
       "    </tr>\n",
       "  </thead>\n",
       "  <tbody>\n",
       "    <tr>\n",
       "      <td>1</td>\n",
       "      <td>6571</td>\n",
       "      <td>669</td>\n",
       "      <td>0.092</td>\n",
       "    </tr>\n",
       "    <tr>\n",
       "      <td>0</td>\n",
       "      <td>13142</td>\n",
       "      <td>1072</td>\n",
       "      <td>0.075</td>\n",
       "    </tr>\n",
       "  </tbody>\n",
       "</table>\n",
       "</div>"
      ],
      "text/plain": [
       "debt                0     1  ratio\n",
       "children_exist                    \n",
       "1                6571   669  0.092\n",
       "0               13142  1072  0.075"
      ]
     },
     "execution_count": 40,
     "metadata": {},
     "output_type": "execute_result"
    }
   ],
   "source": [
    "# подсчет вероятности задолженности для каждого человека с наличием или отсутствием детей\n",
    "# и создание столбца 'ratio'\n",
    "\n",
    "data_pivot_children_exist_debt['ratio'] = round(data_pivot_children_exist_debt[1] / (\n",
    "    data_pivot_children_exist_debt[0] + data_pivot_children_exist_debt[1]), 3)\n",
    "data_pivot_children_exist_debt.sort_values(by = 'ratio', ascending = False)"
   ]
  },
  {
   "cell_type": "code",
   "execution_count": 41,
   "metadata": {},
   "outputs": [
    {
     "data": {
      "text/html": [
       "<style  type=\"text/css\" >\n",
       "</style><table id=\"T_2ee95994_8347_11ec_ba1d_02420a395ae2\" ><thead>    <tr>        <th class=\"blank level0\" ></th>        <th class=\"col_heading level0 col0\" >число_клиентов</th>        <th class=\"col_heading level0 col1\" >число_должников</th>        <th class=\"col_heading level0 col2\" >доля</th>    </tr>    <tr>        <th class=\"index_name level0\" >children</th>        <th class=\"blank\" ></th>        <th class=\"blank\" ></th>        <th class=\"blank\" ></th>    </tr></thead><tbody>\n",
       "                <tr>\n",
       "                        <th id=\"T_2ee95994_8347_11ec_ba1d_02420a395ae2level0_row0\" class=\"row_heading level0 row0\" >False</th>\n",
       "                        <td id=\"T_2ee95994_8347_11ec_ba1d_02420a395ae2row0_col0\" class=\"data row0 col0\" >14214</td>\n",
       "                        <td id=\"T_2ee95994_8347_11ec_ba1d_02420a395ae2row0_col1\" class=\"data row0 col1\" >1072</td>\n",
       "                        <td id=\"T_2ee95994_8347_11ec_ba1d_02420a395ae2row0_col2\" class=\"data row0 col2\" >7.54%</td>\n",
       "            </tr>\n",
       "            <tr>\n",
       "                        <th id=\"T_2ee95994_8347_11ec_ba1d_02420a395ae2level0_row1\" class=\"row_heading level0 row1\" >True</th>\n",
       "                        <td id=\"T_2ee95994_8347_11ec_ba1d_02420a395ae2row1_col0\" class=\"data row1 col0\" >7240</td>\n",
       "                        <td id=\"T_2ee95994_8347_11ec_ba1d_02420a395ae2row1_col1\" class=\"data row1 col1\" >669</td>\n",
       "                        <td id=\"T_2ee95994_8347_11ec_ba1d_02420a395ae2row1_col2\" class=\"data row1 col2\" >9.24%</td>\n",
       "            </tr>\n",
       "    </tbody></table>"
      ],
      "text/plain": [
       "<pandas.io.formats.style.Styler at 0x7f9504f458d0>"
      ]
     },
     "execution_count": 41,
     "metadata": {},
     "output_type": "execute_result"
    }
   ],
   "source": [
    "# Код ревьюера\n",
    "\n",
    "df.groupby(df['children'] != 0).agg(число_клиентов=('debt','count'), число_должников=('debt','sum'), доля=('debt','mean')).\\\n",
    "                                    style.format({'доля' : '{:.2%}'.format})"
   ]
  },
  {
   "cell_type": "markdown",
   "metadata": {},
   "source": [
    "**Вывод**"
   ]
  },
  {
   "cell_type": "markdown",
   "metadata": {},
   "source": [
    "Согласно сводной таблице, наличие детей увеличивает вероятность задолженности по кредиту, чем наоборот их отсутствие.\n",
    "Можно предположить, что, если возникает какая то сложная финансовая ситуация, людям без детей легче распределить свой бюджет и вовремя погасить кредит, чем людям с детьми, потому что им нужно обеспечить одного своего ребенка или несколько всем необходимым.\n",
    "\n",
    "Следовательно, можно сказать, что зависимости между наличием детей и возвратом кредита в срок не существует."
   ]
  },
  {
   "cell_type": "markdown",
   "metadata": {},
   "source": [
    "- Есть ли зависимость между семейным положением и возвратом кредита в срок?"
   ]
  },
  {
   "cell_type": "code",
   "execution_count": 42,
   "metadata": {},
   "outputs": [
    {
     "data": {
      "text/html": [
       "<div>\n",
       "<style scoped>\n",
       "    .dataframe tbody tr th:only-of-type {\n",
       "        vertical-align: middle;\n",
       "    }\n",
       "\n",
       "    .dataframe tbody tr th {\n",
       "        vertical-align: top;\n",
       "    }\n",
       "\n",
       "    .dataframe thead th {\n",
       "        text-align: right;\n",
       "    }\n",
       "</style>\n",
       "<table border=\"1\" class=\"dataframe\">\n",
       "  <thead>\n",
       "    <tr style=\"text-align: right;\">\n",
       "      <th>debt</th>\n",
       "      <th>0</th>\n",
       "      <th>1</th>\n",
       "    </tr>\n",
       "    <tr>\n",
       "      <th>family_status</th>\n",
       "      <th></th>\n",
       "      <th></th>\n",
       "    </tr>\n",
       "  </thead>\n",
       "  <tbody>\n",
       "    <tr>\n",
       "      <td>в разводе</td>\n",
       "      <td>1110</td>\n",
       "      <td>85</td>\n",
       "    </tr>\n",
       "    <tr>\n",
       "      <td>вдовец / вдова</td>\n",
       "      <td>896</td>\n",
       "      <td>63</td>\n",
       "    </tr>\n",
       "    <tr>\n",
       "      <td>гражданский брак</td>\n",
       "      <td>3763</td>\n",
       "      <td>388</td>\n",
       "    </tr>\n",
       "    <tr>\n",
       "      <td>женат / замужем</td>\n",
       "      <td>11408</td>\n",
       "      <td>931</td>\n",
       "    </tr>\n",
       "    <tr>\n",
       "      <td>не женат / не замужем</td>\n",
       "      <td>2536</td>\n",
       "      <td>274</td>\n",
       "    </tr>\n",
       "  </tbody>\n",
       "</table>\n",
       "</div>"
      ],
      "text/plain": [
       "debt                       0    1\n",
       "family_status                    \n",
       "в разводе               1110   85\n",
       "вдовец / вдова           896   63\n",
       "гражданский брак        3763  388\n",
       "женат / замужем        11408  931\n",
       "не женат / не замужем   2536  274"
      ]
     },
     "execution_count": 42,
     "metadata": {},
     "output_type": "execute_result"
    }
   ],
   "source": [
    "# # создадим сводную таблицу\n",
    "\n",
    "data_pivot_family_status_debt = df.pivot_table(index = 'family_status', columns = 'debt', \n",
    "                                               values = 'years_group', aggfunc = 'count')\n",
    "data_pivot_family_status_debt"
   ]
  },
  {
   "cell_type": "code",
   "execution_count": 43,
   "metadata": {},
   "outputs": [
    {
     "data": {
      "text/html": [
       "<div>\n",
       "<style scoped>\n",
       "    .dataframe tbody tr th:only-of-type {\n",
       "        vertical-align: middle;\n",
       "    }\n",
       "\n",
       "    .dataframe tbody tr th {\n",
       "        vertical-align: top;\n",
       "    }\n",
       "\n",
       "    .dataframe thead th {\n",
       "        text-align: right;\n",
       "    }\n",
       "</style>\n",
       "<table border=\"1\" class=\"dataframe\">\n",
       "  <thead>\n",
       "    <tr style=\"text-align: right;\">\n",
       "      <th>debt</th>\n",
       "      <th>0</th>\n",
       "      <th>1</th>\n",
       "      <th>ratio</th>\n",
       "    </tr>\n",
       "    <tr>\n",
       "      <th>family_status</th>\n",
       "      <th></th>\n",
       "      <th></th>\n",
       "      <th></th>\n",
       "    </tr>\n",
       "  </thead>\n",
       "  <tbody>\n",
       "    <tr>\n",
       "      <td>не женат / не замужем</td>\n",
       "      <td>2536</td>\n",
       "      <td>274</td>\n",
       "      <td>0.098</td>\n",
       "    </tr>\n",
       "    <tr>\n",
       "      <td>гражданский брак</td>\n",
       "      <td>3763</td>\n",
       "      <td>388</td>\n",
       "      <td>0.093</td>\n",
       "    </tr>\n",
       "    <tr>\n",
       "      <td>женат / замужем</td>\n",
       "      <td>11408</td>\n",
       "      <td>931</td>\n",
       "      <td>0.075</td>\n",
       "    </tr>\n",
       "    <tr>\n",
       "      <td>в разводе</td>\n",
       "      <td>1110</td>\n",
       "      <td>85</td>\n",
       "      <td>0.071</td>\n",
       "    </tr>\n",
       "    <tr>\n",
       "      <td>вдовец / вдова</td>\n",
       "      <td>896</td>\n",
       "      <td>63</td>\n",
       "      <td>0.066</td>\n",
       "    </tr>\n",
       "  </tbody>\n",
       "</table>\n",
       "</div>"
      ],
      "text/plain": [
       "debt                       0    1  ratio\n",
       "family_status                           \n",
       "не женат / не замужем   2536  274  0.098\n",
       "гражданский брак        3763  388  0.093\n",
       "женат / замужем        11408  931  0.075\n",
       "в разводе               1110   85  0.071\n",
       "вдовец / вдова           896   63  0.066"
      ]
     },
     "execution_count": 43,
     "metadata": {},
     "output_type": "execute_result"
    }
   ],
   "source": [
    "# подсчет вероятности задолженности для каждого вида семейного положения\n",
    "# и создание столбца 'ratio'\n",
    "\n",
    "data_pivot_family_status_debt['ratio'] = round(data_pivot_family_status_debt[1] / (\n",
    "    data_pivot_family_status_debt[0] + data_pivot_family_status_debt[1]), 3)\n",
    "data_pivot_family_status_debt.sort_values(by = 'ratio', ascending = False)"
   ]
  },
  {
   "cell_type": "markdown",
   "metadata": {},
   "source": [
    "**Вывод**"
   ]
  },
  {
   "cell_type": "markdown",
   "metadata": {},
   "source": [
    "Согласно сводной таблице, если люди ни разу не состояли в официальном браке, то вероятность задолженности по кредиту будет выше, чем у людей, которые хоть один раз были в браке. Следует также отметить, что люди у которых супруг/супруга скончались, чаще всех платят в срок по кредиту.\n",
    "\n",
    "Следовательно, можно сказать, что зависимость между семейным положением и возвратом кредита в срок существует."
   ]
  },
  {
   "cell_type": "markdown",
   "metadata": {},
   "source": [
    "- Есть ли зависимость между уровнем дохода и возвратом кредита в срок?"
   ]
  },
  {
   "cell_type": "code",
   "execution_count": 44,
   "metadata": {},
   "outputs": [
    {
     "data": {
      "text/html": [
       "<div>\n",
       "<style scoped>\n",
       "    .dataframe tbody tr th:only-of-type {\n",
       "        vertical-align: middle;\n",
       "    }\n",
       "\n",
       "    .dataframe tbody tr th {\n",
       "        vertical-align: top;\n",
       "    }\n",
       "\n",
       "    .dataframe thead th {\n",
       "        text-align: right;\n",
       "    }\n",
       "</style>\n",
       "<table border=\"1\" class=\"dataframe\">\n",
       "  <thead>\n",
       "    <tr style=\"text-align: right;\">\n",
       "      <th>debt</th>\n",
       "      <th>0</th>\n",
       "      <th>1</th>\n",
       "    </tr>\n",
       "    <tr>\n",
       "      <th>total_income_group</th>\n",
       "      <th></th>\n",
       "      <th></th>\n",
       "    </tr>\n",
       "  </thead>\n",
       "  <tbody>\n",
       "    <tr>\n",
       "      <td>1</td>\n",
       "      <td>545</td>\n",
       "      <td>35</td>\n",
       "    </tr>\n",
       "    <tr>\n",
       "      <td>2</td>\n",
       "      <td>5749</td>\n",
       "      <td>516</td>\n",
       "    </tr>\n",
       "    <tr>\n",
       "      <td>3</td>\n",
       "      <td>7709</td>\n",
       "      <td>737</td>\n",
       "    </tr>\n",
       "    <tr>\n",
       "      <td>4</td>\n",
       "      <td>5710</td>\n",
       "      <td>453</td>\n",
       "    </tr>\n",
       "  </tbody>\n",
       "</table>\n",
       "</div>"
      ],
      "text/plain": [
       "debt                   0    1\n",
       "total_income_group           \n",
       "1                    545   35\n",
       "2                   5749  516\n",
       "3                   7709  737\n",
       "4                   5710  453"
      ]
     },
     "execution_count": 44,
     "metadata": {},
     "output_type": "execute_result"
    }
   ],
   "source": [
    "# создание сводной таблицы\n",
    "\n",
    "data_pivot_total_income_group_debt = df.pivot_table(index = 'total_income_group', columns = 'debt',\n",
    "                                                    values = 'gender', aggfunc = 'count')\n",
    "data_pivot_total_income_group_debt "
   ]
  },
  {
   "cell_type": "code",
   "execution_count": 45,
   "metadata": {},
   "outputs": [
    {
     "data": {
      "text/html": [
       "<div>\n",
       "<style scoped>\n",
       "    .dataframe tbody tr th:only-of-type {\n",
       "        vertical-align: middle;\n",
       "    }\n",
       "\n",
       "    .dataframe tbody tr th {\n",
       "        vertical-align: top;\n",
       "    }\n",
       "\n",
       "    .dataframe thead th {\n",
       "        text-align: right;\n",
       "    }\n",
       "</style>\n",
       "<table border=\"1\" class=\"dataframe\">\n",
       "  <thead>\n",
       "    <tr style=\"text-align: right;\">\n",
       "      <th>debt</th>\n",
       "      <th>0</th>\n",
       "      <th>1</th>\n",
       "      <th>ratio</th>\n",
       "    </tr>\n",
       "    <tr>\n",
       "      <th>total_income_group</th>\n",
       "      <th></th>\n",
       "      <th></th>\n",
       "      <th></th>\n",
       "    </tr>\n",
       "  </thead>\n",
       "  <tbody>\n",
       "    <tr>\n",
       "      <td>3</td>\n",
       "      <td>7709</td>\n",
       "      <td>737</td>\n",
       "      <td>0.087</td>\n",
       "    </tr>\n",
       "    <tr>\n",
       "      <td>2</td>\n",
       "      <td>5749</td>\n",
       "      <td>516</td>\n",
       "      <td>0.082</td>\n",
       "    </tr>\n",
       "    <tr>\n",
       "      <td>4</td>\n",
       "      <td>5710</td>\n",
       "      <td>453</td>\n",
       "      <td>0.074</td>\n",
       "    </tr>\n",
       "    <tr>\n",
       "      <td>1</td>\n",
       "      <td>545</td>\n",
       "      <td>35</td>\n",
       "      <td>0.060</td>\n",
       "    </tr>\n",
       "  </tbody>\n",
       "</table>\n",
       "</div>"
      ],
      "text/plain": [
       "debt                   0    1  ratio\n",
       "total_income_group                  \n",
       "3                   7709  737  0.087\n",
       "2                   5749  516  0.082\n",
       "4                   5710  453  0.074\n",
       "1                    545   35  0.060"
      ]
     },
     "execution_count": 45,
     "metadata": {},
     "output_type": "execute_result"
    }
   ],
   "source": [
    "# подсчет вероятности задолженности для каждого уровня дохода\n",
    "# и создание столбца ratio\n",
    "\n",
    "data_pivot_total_income_group_debt['ratio'] = round(data_pivot_total_income_group_debt[1] / (\n",
    "    data_pivot_total_income_group_debt[0] + data_pivot_total_income_group_debt[1]), 3)\n",
    "data_pivot_total_income_group_debt.sort_values(by = 'ratio', ascending = False)"
   ]
  },
  {
   "cell_type": "markdown",
   "metadata": {},
   "source": [
    "**Вывод**"
   ]
  },
  {
   "cell_type": "markdown",
   "metadata": {},
   "source": [
    "Согласно сводной таблице, люди, которые зарабатывают в месяц от 130000 до 200000, больше подвержены задолженности по кредиту. Следом за ними находятся люди у которых доход в месяц составляет от 55000 до 120000. Чаще всего платят по кредиту в срок люди у которых заработная плата в месяц составляет до 55000.\n",
    "\n",
    "Следовательно, можно сказать, что зависимости между уровнем дохода и возвратом кредита в срок не существует."
   ]
  },
  {
   "cell_type": "markdown",
   "metadata": {},
   "source": [
    "- Как разные цели кредита влияют на его возврат в срок?"
   ]
  },
  {
   "cell_type": "code",
   "execution_count": 46,
   "metadata": {},
   "outputs": [
    {
     "data": {
      "text/html": [
       "<div>\n",
       "<style scoped>\n",
       "    .dataframe tbody tr th:only-of-type {\n",
       "        vertical-align: middle;\n",
       "    }\n",
       "\n",
       "    .dataframe tbody tr th {\n",
       "        vertical-align: top;\n",
       "    }\n",
       "\n",
       "    .dataframe thead th {\n",
       "        text-align: right;\n",
       "    }\n",
       "</style>\n",
       "<table border=\"1\" class=\"dataframe\">\n",
       "  <thead>\n",
       "    <tr style=\"text-align: right;\">\n",
       "      <th>debt</th>\n",
       "      <th>0</th>\n",
       "      <th>1</th>\n",
       "    </tr>\n",
       "    <tr>\n",
       "      <th>purpose_categories</th>\n",
       "      <th></th>\n",
       "      <th></th>\n",
       "    </tr>\n",
       "  </thead>\n",
       "  <tbody>\n",
       "    <tr>\n",
       "      <td>автомобиль</td>\n",
       "      <td>3903</td>\n",
       "      <td>403</td>\n",
       "    </tr>\n",
       "    <tr>\n",
       "      <td>недвижимость</td>\n",
       "      <td>10029</td>\n",
       "      <td>782</td>\n",
       "    </tr>\n",
       "    <tr>\n",
       "      <td>образование</td>\n",
       "      <td>3643</td>\n",
       "      <td>370</td>\n",
       "    </tr>\n",
       "    <tr>\n",
       "      <td>свадьба</td>\n",
       "      <td>2138</td>\n",
       "      <td>186</td>\n",
       "    </tr>\n",
       "  </tbody>\n",
       "</table>\n",
       "</div>"
      ],
      "text/plain": [
       "debt                    0    1\n",
       "purpose_categories            \n",
       "автомобиль           3903  403\n",
       "недвижимость        10029  782\n",
       "образование          3643  370\n",
       "свадьба              2138  186"
      ]
     },
     "execution_count": 46,
     "metadata": {},
     "output_type": "execute_result"
    }
   ],
   "source": [
    "# создание сводной таблицы\n",
    "\n",
    "data_pivot_purpose_categories_debt = df.pivot_table(index = 'purpose_categories', columns = 'debt', \n",
    "                                                    values = 'gender', aggfunc = 'count')\n",
    "data_pivot_purpose_categories_debt"
   ]
  },
  {
   "cell_type": "code",
   "execution_count": 47,
   "metadata": {},
   "outputs": [
    {
     "data": {
      "text/html": [
       "<div>\n",
       "<style scoped>\n",
       "    .dataframe tbody tr th:only-of-type {\n",
       "        vertical-align: middle;\n",
       "    }\n",
       "\n",
       "    .dataframe tbody tr th {\n",
       "        vertical-align: top;\n",
       "    }\n",
       "\n",
       "    .dataframe thead th {\n",
       "        text-align: right;\n",
       "    }\n",
       "</style>\n",
       "<table border=\"1\" class=\"dataframe\">\n",
       "  <thead>\n",
       "    <tr style=\"text-align: right;\">\n",
       "      <th>debt</th>\n",
       "      <th>0</th>\n",
       "      <th>1</th>\n",
       "      <th>ratio</th>\n",
       "    </tr>\n",
       "    <tr>\n",
       "      <th>purpose_categories</th>\n",
       "      <th></th>\n",
       "      <th></th>\n",
       "      <th></th>\n",
       "    </tr>\n",
       "  </thead>\n",
       "  <tbody>\n",
       "    <tr>\n",
       "      <td>автомобиль</td>\n",
       "      <td>3903</td>\n",
       "      <td>403</td>\n",
       "      <td>0.094</td>\n",
       "    </tr>\n",
       "    <tr>\n",
       "      <td>образование</td>\n",
       "      <td>3643</td>\n",
       "      <td>370</td>\n",
       "      <td>0.092</td>\n",
       "    </tr>\n",
       "    <tr>\n",
       "      <td>свадьба</td>\n",
       "      <td>2138</td>\n",
       "      <td>186</td>\n",
       "      <td>0.080</td>\n",
       "    </tr>\n",
       "    <tr>\n",
       "      <td>недвижимость</td>\n",
       "      <td>10029</td>\n",
       "      <td>782</td>\n",
       "      <td>0.072</td>\n",
       "    </tr>\n",
       "  </tbody>\n",
       "</table>\n",
       "</div>"
      ],
      "text/plain": [
       "debt                    0    1  ratio\n",
       "purpose_categories                   \n",
       "автомобиль           3903  403  0.094\n",
       "образование          3643  370  0.092\n",
       "свадьба              2138  186  0.080\n",
       "недвижимость        10029  782  0.072"
      ]
     },
     "execution_count": 47,
     "metadata": {},
     "output_type": "execute_result"
    }
   ],
   "source": [
    "# подсчет вероятности задолженности для каждой цели получения кредита\n",
    "# и создание столбца 'ratio'\n",
    "\n",
    "data_pivot_purpose_categories_debt['ratio'] = round(data_pivot_purpose_categories_debt[1] / (\n",
    "    data_pivot_purpose_categories_debt[0] + data_pivot_purpose_categories_debt[1]), 3)\n",
    "data_pivot_purpose_categories_debt.sort_values(by = 'ratio', ascending = False)"
   ]
  },
  {
   "cell_type": "markdown",
   "metadata": {},
   "source": [
    "**Вывод**"
   ]
  },
  {
   "cell_type": "markdown",
   "metadata": {},
   "source": [
    "Согласно сводной таблице, чаще всего платят в срок люди, которые берут кредит на недвижимость, так как заинтересованы в собственном жилье. Хуже всего платят люди, которые берут кредит на покупку автомобиля или на образование."
   ]
  },
  {
   "cell_type": "markdown",
   "metadata": {},
   "source": [
    "# 4. Общий вывод <a id='intro3'></a>"
   ]
  },
  {
   "cell_type": "markdown",
   "metadata": {},
   "source": [
    "В процессе исследования для начала мы провели предобработку данных в результе которой:\n",
    "* заполнили пропущенные значения;\n",
    "* изменили тип данных с вещественного на целочислительный в столбце `days_employed`;\n",
    "* удалили дубликаты, как явные, так и неявные;\n",
    "* выделили леммы в значениях столбца `purpose`;\n",
    "* категоризировали данные по возрастным группам и по доходам людей.\n",
    "\n",
    "Далее мы ответили на `4` вопроса и выявили, что:\n",
    "* Зависимость между наличием детей и возвратом кредита в срок не существует, так как люди без детей чаще выплачивают кредит в срок;\n",
    "* Зависимость между семейным положением и возвратом кредита в срок существует, так как люди, которые хоть один раз состояли в официальном браке чаще выплачивают кредит в срок и не оказываются должниками перед банком;\n",
    "* Зависимость между уровнем дохода и возвратом кредита в срок не существует, так как чаще всего платят в срок люди у которых заработная плата составляет до 55000 в месяц, а люди, которые зарабатывают от 130000 до 200000 в месяц наоборот более подтвержены задолженности по кредиту;\n",
    "* Выплата в срок кредита на недвижимость более частое явление, люди заинтересованы в собственном жилье. Наоборот, совсем другая ситуация обстоит с кредитами на покупку автомобиля или на образование, там задолженность явление не редкое."
   ]
  }
 ],
 "metadata": {
  "ExecuteTimeLog": [
   {
    "duration": 650,
    "start_time": "2021-12-12T12:26:39.016Z"
   },
   {
    "duration": 52,
    "start_time": "2021-12-12T12:33:43.659Z"
   },
   {
    "duration": 18,
    "start_time": "2021-12-12T12:33:45.303Z"
   },
   {
    "duration": 12,
    "start_time": "2021-12-12T13:16:54.142Z"
   },
   {
    "duration": 350,
    "start_time": "2021-12-13T07:51:28.111Z"
   },
   {
    "duration": 601,
    "start_time": "2021-12-13T07:53:20.631Z"
   },
   {
    "duration": 49,
    "start_time": "2021-12-13T07:53:21.234Z"
   },
   {
    "duration": 20,
    "start_time": "2021-12-13T07:53:21.285Z"
   },
   {
    "duration": 28,
    "start_time": "2021-12-13T07:53:21.307Z"
   },
   {
    "duration": 337,
    "start_time": "2021-12-13T07:53:21.337Z"
   },
   {
    "duration": 593,
    "start_time": "2021-12-13T07:53:28.908Z"
   },
   {
    "duration": 49,
    "start_time": "2021-12-13T07:53:29.503Z"
   },
   {
    "duration": 18,
    "start_time": "2021-12-13T07:53:29.554Z"
   },
   {
    "duration": 10,
    "start_time": "2021-12-13T07:53:29.574Z"
   },
   {
    "duration": 319,
    "start_time": "2021-12-13T07:53:29.585Z"
   },
   {
    "duration": 352,
    "start_time": "2021-12-13T07:54:08.610Z"
   },
   {
    "duration": 285,
    "start_time": "2021-12-13T07:54:38.369Z"
   },
   {
    "duration": 294,
    "start_time": "2021-12-13T07:54:48.009Z"
   },
   {
    "duration": 570,
    "start_time": "2021-12-13T07:54:55.400Z"
   },
   {
    "duration": 51,
    "start_time": "2021-12-13T07:54:55.972Z"
   },
   {
    "duration": 17,
    "start_time": "2021-12-13T07:54:56.025Z"
   },
   {
    "duration": 11,
    "start_time": "2021-12-13T07:54:56.044Z"
   },
   {
    "duration": 495,
    "start_time": "2021-12-13T07:54:56.057Z"
   },
   {
    "duration": 10,
    "start_time": "2021-12-13T07:56:43.703Z"
   },
   {
    "duration": 12,
    "start_time": "2021-12-13T10:14:12.604Z"
   },
   {
    "duration": 8,
    "start_time": "2021-12-13T10:18:31.662Z"
   },
   {
    "duration": 3,
    "start_time": "2021-12-13T10:18:41.358Z"
   },
   {
    "duration": 283,
    "start_time": "2021-12-13T10:32:58.293Z"
   },
   {
    "duration": 270,
    "start_time": "2021-12-13T10:33:45.327Z"
   },
   {
    "duration": 664,
    "start_time": "2021-12-13T10:34:19.533Z"
   },
   {
    "duration": 3,
    "start_time": "2021-12-13T10:34:52.062Z"
   },
   {
    "duration": 4,
    "start_time": "2021-12-13T10:35:43.782Z"
   },
   {
    "duration": 14,
    "start_time": "2021-12-13T11:28:08.181Z"
   },
   {
    "duration": 15,
    "start_time": "2021-12-13T13:50:20.771Z"
   },
   {
    "duration": 13,
    "start_time": "2021-12-13T13:50:26.524Z"
   },
   {
    "duration": 16,
    "start_time": "2021-12-13T13:50:27.468Z"
   },
   {
    "duration": 301,
    "start_time": "2021-12-13T13:50:47.316Z"
   },
   {
    "duration": 32,
    "start_time": "2021-12-13T13:50:56.875Z"
   },
   {
    "duration": 15,
    "start_time": "2021-12-13T13:51:19.661Z"
   },
   {
    "duration": 97,
    "start_time": "2021-12-13T13:58:26.588Z"
   },
   {
    "duration": 101,
    "start_time": "2021-12-13T13:58:43.388Z"
   },
   {
    "duration": 140,
    "start_time": "2021-12-13T13:59:19.724Z"
   },
   {
    "duration": 5,
    "start_time": "2021-12-13T14:00:25.156Z"
   },
   {
    "duration": 339,
    "start_time": "2021-12-13T14:03:11.029Z"
   },
   {
    "duration": 14,
    "start_time": "2021-12-13T14:03:31.285Z"
   },
   {
    "duration": 14,
    "start_time": "2021-12-13T14:03:50.972Z"
   },
   {
    "duration": 7,
    "start_time": "2021-12-13T14:04:29.444Z"
   },
   {
    "duration": 274,
    "start_time": "2021-12-13T14:05:08.223Z"
   },
   {
    "duration": 3,
    "start_time": "2021-12-13T14:05:28.869Z"
   },
   {
    "duration": 93,
    "start_time": "2021-12-13T14:23:07.012Z"
   },
   {
    "duration": 100,
    "start_time": "2021-12-13T14:23:36.068Z"
   },
   {
    "duration": 97,
    "start_time": "2021-12-13T14:24:33.117Z"
   },
   {
    "duration": 7,
    "start_time": "2021-12-13T14:25:11.404Z"
   },
   {
    "duration": 87,
    "start_time": "2021-12-13T14:25:13.245Z"
   },
   {
    "duration": 9,
    "start_time": "2021-12-13T14:25:26.124Z"
   },
   {
    "duration": 3,
    "start_time": "2021-12-13T14:26:23.813Z"
   },
   {
    "duration": 5,
    "start_time": "2021-12-13T14:27:05.261Z"
   },
   {
    "duration": 10,
    "start_time": "2021-12-13T14:33:37.301Z"
   },
   {
    "duration": 625,
    "start_time": "2021-12-15T09:39:10.209Z"
   },
   {
    "duration": 48,
    "start_time": "2021-12-15T09:39:10.836Z"
   },
   {
    "duration": 20,
    "start_time": "2021-12-15T09:39:10.886Z"
   },
   {
    "duration": 17,
    "start_time": "2021-12-15T09:39:10.908Z"
   },
   {
    "duration": 641,
    "start_time": "2021-12-15T09:39:48.184Z"
   },
   {
    "duration": 52,
    "start_time": "2021-12-15T09:39:48.827Z"
   },
   {
    "duration": 21,
    "start_time": "2021-12-15T09:39:48.881Z"
   },
   {
    "duration": 19,
    "start_time": "2021-12-15T09:39:48.904Z"
   },
   {
    "duration": 20,
    "start_time": "2021-12-15T09:39:48.925Z"
   },
   {
    "duration": 4,
    "start_time": "2021-12-15T09:39:48.947Z"
   },
   {
    "duration": 18,
    "start_time": "2021-12-15T09:39:48.952Z"
   },
   {
    "duration": 12,
    "start_time": "2021-12-15T09:39:48.972Z"
   },
   {
    "duration": 9,
    "start_time": "2021-12-15T09:39:48.986Z"
   },
   {
    "duration": 7,
    "start_time": "2021-12-15T09:40:37.332Z"
   },
   {
    "duration": 88,
    "start_time": "2021-12-15T10:06:09.637Z"
   },
   {
    "duration": 105,
    "start_time": "2021-12-15T10:12:54.254Z"
   },
   {
    "duration": 87,
    "start_time": "2021-12-15T10:17:58.837Z"
   },
   {
    "duration": 92,
    "start_time": "2021-12-15T10:18:08.358Z"
   },
   {
    "duration": 95,
    "start_time": "2021-12-15T10:18:20.174Z"
   },
   {
    "duration": 2638,
    "start_time": "2021-12-15T10:33:54.125Z"
   },
   {
    "duration": 127,
    "start_time": "2021-12-15T10:34:10.534Z"
   },
   {
    "duration": 7,
    "start_time": "2021-12-15T10:36:51.774Z"
   },
   {
    "duration": 7,
    "start_time": "2021-12-15T10:37:15.845Z"
   },
   {
    "duration": 7,
    "start_time": "2021-12-15T10:37:18.709Z"
   },
   {
    "duration": 6,
    "start_time": "2021-12-15T10:37:26.870Z"
   },
   {
    "duration": 741,
    "start_time": "2021-12-15T10:37:37.245Z"
   },
   {
    "duration": 57,
    "start_time": "2021-12-15T10:37:37.989Z"
   },
   {
    "duration": 21,
    "start_time": "2021-12-15T10:37:38.049Z"
   },
   {
    "duration": 10,
    "start_time": "2021-12-15T10:37:38.072Z"
   },
   {
    "duration": 17,
    "start_time": "2021-12-15T10:37:38.084Z"
   },
   {
    "duration": 27,
    "start_time": "2021-12-15T10:37:38.102Z"
   },
   {
    "duration": 27,
    "start_time": "2021-12-15T10:37:38.131Z"
   },
   {
    "duration": 21,
    "start_time": "2021-12-15T10:37:38.160Z"
   },
   {
    "duration": 14,
    "start_time": "2021-12-15T10:37:38.183Z"
   },
   {
    "duration": 35,
    "start_time": "2021-12-15T10:37:38.199Z"
   },
   {
    "duration": 32,
    "start_time": "2021-12-15T10:52:35.673Z"
   },
   {
    "duration": 7,
    "start_time": "2021-12-15T10:53:03.890Z"
   },
   {
    "duration": 8,
    "start_time": "2021-12-15T10:55:08.531Z"
   },
   {
    "duration": 233,
    "start_time": "2021-12-16T14:51:28.278Z"
   },
   {
    "duration": 185,
    "start_time": "2021-12-16T14:51:56.457Z"
   },
   {
    "duration": 519,
    "start_time": "2021-12-16T14:52:16.149Z"
   },
   {
    "duration": 53,
    "start_time": "2021-12-16T14:52:16.669Z"
   },
   {
    "duration": 20,
    "start_time": "2021-12-16T14:52:16.724Z"
   },
   {
    "duration": 11,
    "start_time": "2021-12-16T14:52:16.746Z"
   },
   {
    "duration": 9,
    "start_time": "2021-12-16T14:52:16.758Z"
   },
   {
    "duration": 24,
    "start_time": "2021-12-16T14:52:16.769Z"
   },
   {
    "duration": 8,
    "start_time": "2021-12-16T14:52:16.795Z"
   },
   {
    "duration": 7,
    "start_time": "2021-12-16T14:52:16.805Z"
   },
   {
    "duration": 7,
    "start_time": "2021-12-16T14:52:16.814Z"
   },
   {
    "duration": 6,
    "start_time": "2021-12-16T14:52:16.823Z"
   },
   {
    "duration": 5,
    "start_time": "2021-12-16T14:52:16.830Z"
   },
   {
    "duration": 2,
    "start_time": "2021-12-16T14:52:24.166Z"
   },
   {
    "duration": 53,
    "start_time": "2021-12-16T14:52:24.170Z"
   },
   {
    "duration": 14,
    "start_time": "2021-12-16T14:52:24.225Z"
   },
   {
    "duration": 13,
    "start_time": "2021-12-16T14:52:24.241Z"
   },
   {
    "duration": 8,
    "start_time": "2021-12-16T14:52:24.256Z"
   },
   {
    "duration": 4,
    "start_time": "2021-12-16T14:52:24.266Z"
   },
   {
    "duration": 7,
    "start_time": "2021-12-16T14:52:24.292Z"
   },
   {
    "duration": 7,
    "start_time": "2021-12-16T14:52:24.301Z"
   },
   {
    "duration": 12,
    "start_time": "2021-12-16T14:52:24.309Z"
   },
   {
    "duration": 5,
    "start_time": "2021-12-16T14:52:24.323Z"
   },
   {
    "duration": 8,
    "start_time": "2021-12-16T14:52:24.329Z"
   },
   {
    "duration": 11,
    "start_time": "2021-12-16T14:52:43.795Z"
   },
   {
    "duration": 5,
    "start_time": "2021-12-16T14:53:08.100Z"
   },
   {
    "duration": 5,
    "start_time": "2021-12-16T14:53:49.635Z"
   },
   {
    "duration": 313,
    "start_time": "2021-12-16T22:04:00.079Z"
   },
   {
    "duration": 698,
    "start_time": "2021-12-16T22:04:19.056Z"
   },
   {
    "duration": 62,
    "start_time": "2021-12-16T22:04:19.757Z"
   },
   {
    "duration": 29,
    "start_time": "2021-12-16T22:04:19.822Z"
   },
   {
    "duration": 23,
    "start_time": "2021-12-16T22:04:19.854Z"
   },
   {
    "duration": 18,
    "start_time": "2021-12-16T22:04:19.880Z"
   },
   {
    "duration": 25,
    "start_time": "2021-12-16T22:04:19.900Z"
   },
   {
    "duration": 18,
    "start_time": "2021-12-16T22:04:19.928Z"
   },
   {
    "duration": 22,
    "start_time": "2021-12-16T22:04:19.948Z"
   },
   {
    "duration": 21,
    "start_time": "2021-12-16T22:04:19.975Z"
   },
   {
    "duration": 21,
    "start_time": "2021-12-16T22:04:19.999Z"
   },
   {
    "duration": 19,
    "start_time": "2021-12-16T22:04:20.023Z"
   },
   {
    "duration": 39,
    "start_time": "2021-12-16T22:04:20.044Z"
   },
   {
    "duration": 10,
    "start_time": "2021-12-16T22:04:25.912Z"
   },
   {
    "duration": 26,
    "start_time": "2021-12-16T22:11:00.327Z"
   },
   {
    "duration": 25,
    "start_time": "2021-12-16T22:14:08.791Z"
   },
   {
    "duration": 21,
    "start_time": "2021-12-16T22:15:32.856Z"
   },
   {
    "duration": 22,
    "start_time": "2021-12-16T22:17:36.764Z"
   },
   {
    "duration": 21,
    "start_time": "2021-12-16T22:17:55.255Z"
   },
   {
    "duration": 36,
    "start_time": "2021-12-16T22:20:40.976Z"
   },
   {
    "duration": 9,
    "start_time": "2021-12-16T22:32:36.124Z"
   },
   {
    "duration": 6,
    "start_time": "2021-12-16T22:45:44.262Z"
   },
   {
    "duration": 463,
    "start_time": "2021-12-17T09:59:38.813Z"
   },
   {
    "duration": 752,
    "start_time": "2021-12-17T09:59:52.309Z"
   },
   {
    "duration": 68,
    "start_time": "2021-12-17T09:59:53.063Z"
   },
   {
    "duration": 30,
    "start_time": "2021-12-17T09:59:53.134Z"
   },
   {
    "duration": 14,
    "start_time": "2021-12-17T09:59:53.167Z"
   },
   {
    "duration": 11,
    "start_time": "2021-12-17T09:59:53.184Z"
   },
   {
    "duration": 4,
    "start_time": "2021-12-17T09:59:53.198Z"
   },
   {
    "duration": 10,
    "start_time": "2021-12-17T09:59:53.205Z"
   },
   {
    "duration": 52,
    "start_time": "2021-12-17T09:59:53.217Z"
   },
   {
    "duration": 11,
    "start_time": "2021-12-17T09:59:53.273Z"
   },
   {
    "duration": 9,
    "start_time": "2021-12-17T09:59:53.287Z"
   },
   {
    "duration": 5,
    "start_time": "2021-12-17T09:59:53.298Z"
   },
   {
    "duration": 13,
    "start_time": "2021-12-17T09:59:53.305Z"
   },
   {
    "duration": 47,
    "start_time": "2021-12-17T09:59:53.320Z"
   },
   {
    "duration": 24,
    "start_time": "2021-12-17T09:59:53.369Z"
   },
   {
    "duration": 7,
    "start_time": "2021-12-17T09:59:53.396Z"
   },
   {
    "duration": 4,
    "start_time": "2021-12-17T09:59:53.405Z"
   },
   {
    "duration": 16,
    "start_time": "2021-12-17T09:59:57.136Z"
   },
   {
    "duration": 137,
    "start_time": "2021-12-17T10:00:11.192Z"
   },
   {
    "duration": 15,
    "start_time": "2021-12-17T10:00:16.785Z"
   },
   {
    "duration": 17,
    "start_time": "2021-12-17T10:02:14.161Z"
   },
   {
    "duration": 15,
    "start_time": "2021-12-17T10:02:56.217Z"
   },
   {
    "duration": 16,
    "start_time": "2021-12-17T10:02:59.472Z"
   },
   {
    "duration": 15,
    "start_time": "2021-12-17T10:03:08.481Z"
   },
   {
    "duration": 16,
    "start_time": "2021-12-17T10:03:10.720Z"
   },
   {
    "duration": 15,
    "start_time": "2021-12-17T10:03:33.137Z"
   },
   {
    "duration": 849,
    "start_time": "2021-12-17T10:03:44.892Z"
   },
   {
    "duration": 73,
    "start_time": "2021-12-17T10:03:45.744Z"
   },
   {
    "duration": 49,
    "start_time": "2021-12-17T10:03:45.821Z"
   },
   {
    "duration": 15,
    "start_time": "2021-12-17T10:03:45.873Z"
   },
   {
    "duration": 12,
    "start_time": "2021-12-17T10:03:45.890Z"
   },
   {
    "duration": 5,
    "start_time": "2021-12-17T10:03:45.904Z"
   },
   {
    "duration": 52,
    "start_time": "2021-12-17T10:03:45.912Z"
   },
   {
    "duration": 12,
    "start_time": "2021-12-17T10:03:45.967Z"
   },
   {
    "duration": 13,
    "start_time": "2021-12-17T10:03:45.983Z"
   },
   {
    "duration": 9,
    "start_time": "2021-12-17T10:03:45.999Z"
   },
   {
    "duration": 48,
    "start_time": "2021-12-17T10:03:46.011Z"
   },
   {
    "duration": 8,
    "start_time": "2021-12-17T10:03:46.062Z"
   },
   {
    "duration": 12,
    "start_time": "2021-12-17T10:03:46.072Z"
   },
   {
    "duration": 27,
    "start_time": "2021-12-17T10:03:46.086Z"
   },
   {
    "duration": 44,
    "start_time": "2021-12-17T10:03:46.116Z"
   },
   {
    "duration": 5,
    "start_time": "2021-12-17T10:03:46.162Z"
   },
   {
    "duration": 19,
    "start_time": "2021-12-17T10:03:46.171Z"
   },
   {
    "duration": 464,
    "start_time": "2021-12-17T10:05:53.057Z"
   },
   {
    "duration": 13,
    "start_time": "2021-12-17T10:06:32.233Z"
   },
   {
    "duration": 14,
    "start_time": "2021-12-17T10:06:35.337Z"
   },
   {
    "duration": 795,
    "start_time": "2021-12-17T10:06:50.342Z"
   },
   {
    "duration": 68,
    "start_time": "2021-12-17T10:06:51.140Z"
   },
   {
    "duration": 50,
    "start_time": "2021-12-17T10:06:51.212Z"
   },
   {
    "duration": 17,
    "start_time": "2021-12-17T10:06:51.266Z"
   },
   {
    "duration": 15,
    "start_time": "2021-12-17T10:06:51.286Z"
   },
   {
    "duration": 6,
    "start_time": "2021-12-17T10:06:51.303Z"
   },
   {
    "duration": 57,
    "start_time": "2021-12-17T10:06:51.312Z"
   },
   {
    "duration": 11,
    "start_time": "2021-12-17T10:06:51.373Z"
   },
   {
    "duration": 11,
    "start_time": "2021-12-17T10:06:51.386Z"
   },
   {
    "duration": 7,
    "start_time": "2021-12-17T10:06:51.400Z"
   },
   {
    "duration": 5,
    "start_time": "2021-12-17T10:06:51.409Z"
   },
   {
    "duration": 7,
    "start_time": "2021-12-17T10:06:51.460Z"
   },
   {
    "duration": 13,
    "start_time": "2021-12-17T10:06:51.469Z"
   },
   {
    "duration": 25,
    "start_time": "2021-12-17T10:06:51.485Z"
   },
   {
    "duration": 48,
    "start_time": "2021-12-17T10:06:51.513Z"
   },
   {
    "duration": 6,
    "start_time": "2021-12-17T10:06:51.564Z"
   },
   {
    "duration": 14,
    "start_time": "2021-12-17T10:06:53.547Z"
   },
   {
    "duration": 13,
    "start_time": "2021-12-17T10:07:27.252Z"
   },
   {
    "duration": 12,
    "start_time": "2021-12-17T10:07:30.268Z"
   },
   {
    "duration": 15,
    "start_time": "2021-12-17T10:08:07.275Z"
   },
   {
    "duration": 13,
    "start_time": "2021-12-17T10:08:09.491Z"
   },
   {
    "duration": 15,
    "start_time": "2021-12-17T10:08:46.251Z"
   },
   {
    "duration": 709,
    "start_time": "2021-12-17T10:08:56.107Z"
   },
   {
    "duration": 64,
    "start_time": "2021-12-17T10:08:56.818Z"
   },
   {
    "duration": 34,
    "start_time": "2021-12-17T10:08:56.886Z"
   },
   {
    "duration": 15,
    "start_time": "2021-12-17T10:08:56.922Z"
   },
   {
    "duration": 12,
    "start_time": "2021-12-17T10:08:56.959Z"
   },
   {
    "duration": 5,
    "start_time": "2021-12-17T10:08:56.973Z"
   },
   {
    "duration": 11,
    "start_time": "2021-12-17T10:08:56.980Z"
   },
   {
    "duration": 12,
    "start_time": "2021-12-17T10:08:56.993Z"
   },
   {
    "duration": 51,
    "start_time": "2021-12-17T10:08:57.008Z"
   },
   {
    "duration": 7,
    "start_time": "2021-12-17T10:08:57.062Z"
   },
   {
    "duration": 9,
    "start_time": "2021-12-17T10:08:57.072Z"
   },
   {
    "duration": 7,
    "start_time": "2021-12-17T10:08:57.083Z"
   },
   {
    "duration": 9,
    "start_time": "2021-12-17T10:08:57.093Z"
   },
   {
    "duration": 60,
    "start_time": "2021-12-17T10:08:57.104Z"
   },
   {
    "duration": 8,
    "start_time": "2021-12-17T10:08:57.166Z"
   },
   {
    "duration": 5,
    "start_time": "2021-12-17T10:08:57.176Z"
   },
   {
    "duration": 21,
    "start_time": "2021-12-17T10:08:57.184Z"
   },
   {
    "duration": 16,
    "start_time": "2021-12-17T10:09:43.762Z"
   },
   {
    "duration": 9,
    "start_time": "2021-12-17T10:10:41.656Z"
   },
   {
    "duration": -52,
    "start_time": "2021-12-17T10:18:51.464Z"
   },
   {
    "duration": 1076,
    "start_time": "2021-12-17T10:19:12.518Z"
   },
   {
    "duration": 68,
    "start_time": "2021-12-17T10:19:13.597Z"
   },
   {
    "duration": 33,
    "start_time": "2021-12-17T10:19:13.669Z"
   },
   {
    "duration": 15,
    "start_time": "2021-12-17T10:19:13.704Z"
   },
   {
    "duration": 38,
    "start_time": "2021-12-17T10:19:13.722Z"
   },
   {
    "duration": 7,
    "start_time": "2021-12-17T10:19:13.763Z"
   },
   {
    "duration": 18,
    "start_time": "2021-12-17T10:19:13.773Z"
   },
   {
    "duration": 12,
    "start_time": "2021-12-17T10:19:13.797Z"
   },
   {
    "duration": 51,
    "start_time": "2021-12-17T10:19:13.812Z"
   },
   {
    "duration": 10,
    "start_time": "2021-12-17T10:19:13.867Z"
   },
   {
    "duration": 5,
    "start_time": "2021-12-17T10:19:13.880Z"
   },
   {
    "duration": 8,
    "start_time": "2021-12-17T10:19:13.888Z"
   },
   {
    "duration": 14,
    "start_time": "2021-12-17T10:19:13.898Z"
   },
   {
    "duration": 77,
    "start_time": "2021-12-17T10:19:13.915Z"
   },
   {
    "duration": 7,
    "start_time": "2021-12-17T10:19:13.995Z"
   },
   {
    "duration": 6,
    "start_time": "2021-12-17T10:19:14.004Z"
   },
   {
    "duration": 59,
    "start_time": "2021-12-17T10:19:14.012Z"
   },
   {
    "duration": 9,
    "start_time": "2021-12-17T10:19:14.073Z"
   },
   {
    "duration": 10437,
    "start_time": "2021-12-17T10:19:14.091Z"
   },
   {
    "duration": -73,
    "start_time": "2021-12-17T10:19:24.604Z"
   },
   {
    "duration": 16,
    "start_time": "2021-12-17T10:20:15.752Z"
   },
   {
    "duration": 9,
    "start_time": "2021-12-17T10:20:28.096Z"
   },
   {
    "duration": 11,
    "start_time": "2021-12-17T10:20:42.713Z"
   },
   {
    "duration": 22,
    "start_time": "2021-12-17T10:21:28.848Z"
   },
   {
    "duration": 782,
    "start_time": "2021-12-17T10:22:06.867Z"
   },
   {
    "duration": 75,
    "start_time": "2021-12-17T10:22:14.419Z"
   },
   {
    "duration": 33,
    "start_time": "2021-12-17T10:22:16.331Z"
   },
   {
    "duration": 16,
    "start_time": "2021-12-17T10:22:21.819Z"
   },
   {
    "duration": 4,
    "start_time": "2021-12-17T10:22:24.589Z"
   },
   {
    "duration": 68,
    "start_time": "2021-12-17T10:22:24.596Z"
   },
   {
    "duration": 22,
    "start_time": "2021-12-17T10:22:24.667Z"
   },
   {
    "duration": 19,
    "start_time": "2021-12-17T10:22:24.691Z"
   },
   {
    "duration": 4,
    "start_time": "2021-12-17T10:22:32.110Z"
   },
   {
    "duration": 77,
    "start_time": "2021-12-17T10:22:32.116Z"
   },
   {
    "duration": 20,
    "start_time": "2021-12-17T10:22:32.196Z"
   },
   {
    "duration": 20,
    "start_time": "2021-12-17T10:22:32.219Z"
   },
   {
    "duration": 27,
    "start_time": "2021-12-17T10:22:32.242Z"
   },
   {
    "duration": 7,
    "start_time": "2021-12-17T10:22:32.273Z"
   },
   {
    "duration": 29,
    "start_time": "2021-12-17T10:22:32.283Z"
   },
   {
    "duration": 16,
    "start_time": "2021-12-17T10:22:32.315Z"
   },
   {
    "duration": 31,
    "start_time": "2021-12-17T10:22:32.335Z"
   },
   {
    "duration": 7,
    "start_time": "2021-12-17T10:22:32.369Z"
   },
   {
    "duration": 6,
    "start_time": "2021-12-17T10:22:32.378Z"
   },
   {
    "duration": 8,
    "start_time": "2021-12-17T10:22:32.387Z"
   },
   {
    "duration": 13,
    "start_time": "2021-12-17T10:22:32.398Z"
   },
   {
    "duration": 59,
    "start_time": "2021-12-17T10:22:32.413Z"
   },
   {
    "duration": 8,
    "start_time": "2021-12-17T10:22:32.474Z"
   },
   {
    "duration": 5,
    "start_time": "2021-12-17T10:22:32.485Z"
   },
   {
    "duration": 17,
    "start_time": "2021-12-17T10:22:32.492Z"
   },
   {
    "duration": 8,
    "start_time": "2021-12-17T10:22:32.511Z"
   },
   {
    "duration": 870,
    "start_time": "2021-12-17T10:22:52.752Z"
   },
   {
    "duration": 68,
    "start_time": "2021-12-17T10:22:53.625Z"
   },
   {
    "duration": 30,
    "start_time": "2021-12-17T10:22:53.696Z"
   },
   {
    "duration": 15,
    "start_time": "2021-12-17T10:22:53.728Z"
   },
   {
    "duration": 23,
    "start_time": "2021-12-17T10:22:53.745Z"
   },
   {
    "duration": 5,
    "start_time": "2021-12-17T10:22:53.771Z"
   },
   {
    "duration": 15,
    "start_time": "2021-12-17T10:22:53.778Z"
   },
   {
    "duration": 11,
    "start_time": "2021-12-17T10:22:53.795Z"
   },
   {
    "duration": 50,
    "start_time": "2021-12-17T10:22:53.810Z"
   },
   {
    "duration": 8,
    "start_time": "2021-12-17T10:22:53.863Z"
   },
   {
    "duration": 7,
    "start_time": "2021-12-17T10:22:53.873Z"
   },
   {
    "duration": 11,
    "start_time": "2021-12-17T10:22:53.882Z"
   },
   {
    "duration": 10,
    "start_time": "2021-12-17T10:22:53.895Z"
   },
   {
    "duration": 55,
    "start_time": "2021-12-17T10:22:53.907Z"
   },
   {
    "duration": 7,
    "start_time": "2021-12-17T10:22:53.965Z"
   },
   {
    "duration": 6,
    "start_time": "2021-12-17T10:22:53.974Z"
   },
   {
    "duration": 20,
    "start_time": "2021-12-17T10:22:53.983Z"
   },
   {
    "duration": 7,
    "start_time": "2021-12-17T10:22:54.005Z"
   },
   {
    "duration": 8,
    "start_time": "2021-12-17T10:23:49.708Z"
   },
   {
    "duration": 5,
    "start_time": "2021-12-17T10:24:33.971Z"
   },
   {
    "duration": 14,
    "start_time": "2021-12-17T10:25:07.179Z"
   },
   {
    "duration": 6,
    "start_time": "2021-12-17T10:25:31.476Z"
   },
   {
    "duration": 725,
    "start_time": "2021-12-17T10:26:03.407Z"
   },
   {
    "duration": 65,
    "start_time": "2021-12-17T10:26:04.135Z"
   },
   {
    "duration": 33,
    "start_time": "2021-12-17T10:26:04.203Z"
   },
   {
    "duration": 22,
    "start_time": "2021-12-17T10:26:04.239Z"
   },
   {
    "duration": 12,
    "start_time": "2021-12-17T10:26:04.264Z"
   },
   {
    "duration": 5,
    "start_time": "2021-12-17T10:26:04.278Z"
   },
   {
    "duration": 11,
    "start_time": "2021-12-17T10:26:04.286Z"
   },
   {
    "duration": 12,
    "start_time": "2021-12-17T10:26:04.299Z"
   },
   {
    "duration": 53,
    "start_time": "2021-12-17T10:26:04.315Z"
   },
   {
    "duration": 7,
    "start_time": "2021-12-17T10:26:04.371Z"
   },
   {
    "duration": 5,
    "start_time": "2021-12-17T10:26:04.380Z"
   },
   {
    "duration": 7,
    "start_time": "2021-12-17T10:26:04.387Z"
   },
   {
    "duration": 11,
    "start_time": "2021-12-17T10:26:04.396Z"
   },
   {
    "duration": 71,
    "start_time": "2021-12-17T10:26:04.409Z"
   },
   {
    "duration": 8,
    "start_time": "2021-12-17T10:26:04.483Z"
   },
   {
    "duration": 4,
    "start_time": "2021-12-17T10:26:04.493Z"
   },
   {
    "duration": 20,
    "start_time": "2021-12-17T10:26:04.499Z"
   },
   {
    "duration": 42,
    "start_time": "2021-12-17T10:26:04.521Z"
   },
   {
    "duration": 14,
    "start_time": "2021-12-17T10:26:04.566Z"
   },
   {
    "duration": 7,
    "start_time": "2021-12-17T10:27:03.772Z"
   },
   {
    "duration": 8,
    "start_time": "2021-12-17T10:27:30.156Z"
   },
   {
    "duration": 28,
    "start_time": "2021-12-17T10:32:05.285Z"
   },
   {
    "duration": 7,
    "start_time": "2021-12-17T10:35:03.349Z"
   },
   {
    "duration": 7,
    "start_time": "2021-12-17T10:35:22.691Z"
   },
   {
    "duration": 10,
    "start_time": "2021-12-17T10:41:31.164Z"
   },
   {
    "duration": 7,
    "start_time": "2021-12-17T10:47:06.677Z"
   },
   {
    "duration": 6,
    "start_time": "2021-12-17T10:48:14.949Z"
   },
   {
    "duration": 8,
    "start_time": "2021-12-17T10:48:39.509Z"
   },
   {
    "duration": 25,
    "start_time": "2021-12-17T11:06:45.133Z"
   },
   {
    "duration": 22,
    "start_time": "2021-12-17T11:06:50.948Z"
   },
   {
    "duration": 25,
    "start_time": "2021-12-17T11:08:30.613Z"
   },
   {
    "duration": 22,
    "start_time": "2021-12-17T11:08:36.285Z"
   },
   {
    "duration": 582,
    "start_time": "2021-12-17T11:11:33.509Z"
   },
   {
    "duration": 2527,
    "start_time": "2021-12-17T11:12:04.571Z"
   },
   {
    "duration": 2504,
    "start_time": "2021-12-17T11:12:28.117Z"
   },
   {
    "duration": 765,
    "start_time": "2021-12-17T11:12:41.774Z"
   },
   {
    "duration": 66,
    "start_time": "2021-12-17T11:12:42.542Z"
   },
   {
    "duration": 31,
    "start_time": "2021-12-17T11:12:42.612Z"
   },
   {
    "duration": 15,
    "start_time": "2021-12-17T11:12:42.659Z"
   },
   {
    "duration": 13,
    "start_time": "2021-12-17T11:12:42.676Z"
   },
   {
    "duration": 5,
    "start_time": "2021-12-17T11:12:42.692Z"
   },
   {
    "duration": 10,
    "start_time": "2021-12-17T11:12:42.699Z"
   },
   {
    "duration": 51,
    "start_time": "2021-12-17T11:12:42.711Z"
   },
   {
    "duration": 11,
    "start_time": "2021-12-17T11:12:42.766Z"
   },
   {
    "duration": 7,
    "start_time": "2021-12-17T11:12:42.780Z"
   },
   {
    "duration": 5,
    "start_time": "2021-12-17T11:12:42.790Z"
   },
   {
    "duration": 10,
    "start_time": "2021-12-17T11:12:42.797Z"
   },
   {
    "duration": 54,
    "start_time": "2021-12-17T11:12:42.809Z"
   },
   {
    "duration": 26,
    "start_time": "2021-12-17T11:12:42.865Z"
   },
   {
    "duration": 2530,
    "start_time": "2021-12-17T11:12:42.893Z"
   },
   {
    "duration": 7,
    "start_time": "2021-12-17T11:12:45.426Z"
   },
   {
    "duration": 23,
    "start_time": "2021-12-17T11:12:45.436Z"
   },
   {
    "duration": 17,
    "start_time": "2021-12-17T11:12:45.462Z"
   },
   {
    "duration": 5,
    "start_time": "2021-12-17T11:12:45.481Z"
   },
   {
    "duration": 17,
    "start_time": "2021-12-17T11:12:45.488Z"
   },
   {
    "duration": 6,
    "start_time": "2021-12-17T11:12:45.508Z"
   },
   {
    "duration": 64,
    "start_time": "2021-12-17T11:12:45.516Z"
   },
   {
    "duration": 59,
    "start_time": "2021-12-17T11:13:09.336Z"
   },
   {
    "duration": 798,
    "start_time": "2021-12-17T11:13:43.339Z"
   },
   {
    "duration": 66,
    "start_time": "2021-12-17T11:13:44.140Z"
   },
   {
    "duration": 50,
    "start_time": "2021-12-17T11:13:44.209Z"
   },
   {
    "duration": 15,
    "start_time": "2021-12-17T11:13:44.261Z"
   },
   {
    "duration": 12,
    "start_time": "2021-12-17T11:13:44.278Z"
   },
   {
    "duration": 4,
    "start_time": "2021-12-17T11:13:44.293Z"
   },
   {
    "duration": 12,
    "start_time": "2021-12-17T11:13:44.299Z"
   },
   {
    "duration": 48,
    "start_time": "2021-12-17T11:13:44.313Z"
   },
   {
    "duration": 11,
    "start_time": "2021-12-17T11:13:44.365Z"
   },
   {
    "duration": 8,
    "start_time": "2021-12-17T11:13:44.379Z"
   },
   {
    "duration": 5,
    "start_time": "2021-12-17T11:13:44.389Z"
   },
   {
    "duration": 7,
    "start_time": "2021-12-17T11:13:44.396Z"
   },
   {
    "duration": 60,
    "start_time": "2021-12-17T11:13:44.405Z"
   },
   {
    "duration": 26,
    "start_time": "2021-12-17T11:13:44.467Z"
   },
   {
    "duration": 85,
    "start_time": "2021-12-17T11:13:44.495Z"
   },
   {
    "duration": 7,
    "start_time": "2021-12-17T11:13:44.583Z"
   },
   {
    "duration": 6,
    "start_time": "2021-12-17T11:13:44.592Z"
   },
   {
    "duration": 16,
    "start_time": "2021-12-17T11:13:44.600Z"
   },
   {
    "duration": 5,
    "start_time": "2021-12-17T11:13:44.618Z"
   },
   {
    "duration": 15,
    "start_time": "2021-12-17T11:13:44.659Z"
   },
   {
    "duration": 8,
    "start_time": "2021-12-17T11:13:44.676Z"
   },
   {
    "duration": 26,
    "start_time": "2021-12-17T11:13:44.687Z"
   },
   {
    "duration": 52,
    "start_time": "2021-12-17T11:13:44.716Z"
   },
   {
    "duration": 768,
    "start_time": "2021-12-17T11:13:51.767Z"
   },
   {
    "duration": 65,
    "start_time": "2021-12-17T11:13:52.537Z"
   },
   {
    "duration": 30,
    "start_time": "2021-12-17T11:13:52.605Z"
   },
   {
    "duration": 31,
    "start_time": "2021-12-17T11:13:52.638Z"
   },
   {
    "duration": 12,
    "start_time": "2021-12-17T11:13:52.672Z"
   },
   {
    "duration": 4,
    "start_time": "2021-12-17T11:13:52.686Z"
   },
   {
    "duration": 11,
    "start_time": "2021-12-17T11:13:52.692Z"
   },
   {
    "duration": 10,
    "start_time": "2021-12-17T11:13:52.705Z"
   },
   {
    "duration": 47,
    "start_time": "2021-12-17T11:13:52.719Z"
   },
   {
    "duration": 7,
    "start_time": "2021-12-17T11:13:52.769Z"
   },
   {
    "duration": 4,
    "start_time": "2021-12-17T11:13:52.779Z"
   },
   {
    "duration": 7,
    "start_time": "2021-12-17T11:13:52.786Z"
   },
   {
    "duration": 11,
    "start_time": "2021-12-17T11:13:52.795Z"
   },
   {
    "duration": 69,
    "start_time": "2021-12-17T11:13:52.808Z"
   },
   {
    "duration": 80,
    "start_time": "2021-12-17T11:13:52.879Z"
   },
   {
    "duration": 8,
    "start_time": "2021-12-17T11:13:52.961Z"
   },
   {
    "duration": 14,
    "start_time": "2021-12-17T11:13:52.971Z"
   },
   {
    "duration": 15,
    "start_time": "2021-12-17T11:13:52.988Z"
   },
   {
    "duration": 6,
    "start_time": "2021-12-17T11:13:53.005Z"
   },
   {
    "duration": 46,
    "start_time": "2021-12-17T11:13:53.013Z"
   },
   {
    "duration": 7,
    "start_time": "2021-12-17T11:13:53.061Z"
   },
   {
    "duration": 24,
    "start_time": "2021-12-17T11:13:53.071Z"
   },
   {
    "duration": 9,
    "start_time": "2021-12-17T11:13:53.097Z"
   },
   {
    "duration": 770,
    "start_time": "2021-12-17T13:55:36.264Z"
   },
   {
    "duration": 65,
    "start_time": "2021-12-17T13:55:37.036Z"
   },
   {
    "duration": 32,
    "start_time": "2021-12-17T13:55:37.104Z"
   },
   {
    "duration": 32,
    "start_time": "2021-12-17T13:55:37.140Z"
   },
   {
    "duration": 20,
    "start_time": "2021-12-17T13:55:37.176Z"
   },
   {
    "duration": 5,
    "start_time": "2021-12-17T13:55:37.199Z"
   },
   {
    "duration": 18,
    "start_time": "2021-12-17T13:55:37.207Z"
   },
   {
    "duration": 38,
    "start_time": "2021-12-17T13:55:37.228Z"
   },
   {
    "duration": 11,
    "start_time": "2021-12-17T13:55:37.270Z"
   },
   {
    "duration": 9,
    "start_time": "2021-12-17T13:55:37.284Z"
   },
   {
    "duration": 10,
    "start_time": "2021-12-17T13:55:37.295Z"
   },
   {
    "duration": 20,
    "start_time": "2021-12-17T13:55:37.307Z"
   },
   {
    "duration": 33,
    "start_time": "2021-12-17T13:55:37.330Z"
   },
   {
    "duration": 36,
    "start_time": "2021-12-17T13:55:37.365Z"
   },
   {
    "duration": 76,
    "start_time": "2021-12-17T13:55:37.404Z"
   },
   {
    "duration": 6,
    "start_time": "2021-12-17T13:55:37.483Z"
   },
   {
    "duration": 14,
    "start_time": "2021-12-17T13:55:37.491Z"
   },
   {
    "duration": 15,
    "start_time": "2021-12-17T13:55:37.507Z"
   },
   {
    "duration": 5,
    "start_time": "2021-12-17T13:55:37.524Z"
   },
   {
    "duration": 38,
    "start_time": "2021-12-17T13:55:37.531Z"
   },
   {
    "duration": 6,
    "start_time": "2021-12-17T13:55:37.572Z"
   },
   {
    "duration": 32,
    "start_time": "2021-12-17T13:55:37.581Z"
   },
   {
    "duration": 11,
    "start_time": "2021-12-17T13:58:04.238Z"
   },
   {
    "duration": 570,
    "start_time": "2021-12-17T14:05:40.638Z"
   },
   {
    "duration": 453,
    "start_time": "2021-12-17T14:08:18.270Z"
   },
   {
    "duration": 964,
    "start_time": "2021-12-17T14:13:46.631Z"
   },
   {
    "duration": -65,
    "start_time": "2021-12-17T14:30:12.303Z"
   },
   {
    "duration": 401,
    "start_time": "2021-12-17T14:30:14.375Z"
   },
   {
    "duration": 392,
    "start_time": "2021-12-17T14:30:40.719Z"
   },
   {
    "duration": -56,
    "start_time": "2021-12-17T14:31:03.190Z"
   },
   {
    "duration": 143,
    "start_time": "2021-12-17T14:32:46.449Z"
   },
   {
    "duration": 7,
    "start_time": "2021-12-17T14:35:51.663Z"
   },
   {
    "duration": 154,
    "start_time": "2021-12-17T14:36:10.727Z"
   },
   {
    "duration": 133,
    "start_time": "2021-12-17T14:36:18.462Z"
   },
   {
    "duration": 794,
    "start_time": "2021-12-17T14:36:46.254Z"
   },
   {
    "duration": 68,
    "start_time": "2021-12-17T14:36:47.051Z"
   },
   {
    "duration": 41,
    "start_time": "2021-12-17T14:36:47.122Z"
   },
   {
    "duration": 15,
    "start_time": "2021-12-17T14:36:47.166Z"
   },
   {
    "duration": 13,
    "start_time": "2021-12-17T14:36:47.184Z"
   },
   {
    "duration": 4,
    "start_time": "2021-12-17T14:36:47.200Z"
   },
   {
    "duration": 11,
    "start_time": "2021-12-17T14:36:47.207Z"
   },
   {
    "duration": 49,
    "start_time": "2021-12-17T14:36:47.221Z"
   },
   {
    "duration": 11,
    "start_time": "2021-12-17T14:36:47.274Z"
   },
   {
    "duration": 10,
    "start_time": "2021-12-17T14:36:47.288Z"
   },
   {
    "duration": 14,
    "start_time": "2021-12-17T14:36:47.300Z"
   },
   {
    "duration": 43,
    "start_time": "2021-12-17T14:36:47.316Z"
   },
   {
    "duration": 10,
    "start_time": "2021-12-17T14:36:47.362Z"
   },
   {
    "duration": 26,
    "start_time": "2021-12-17T14:36:47.374Z"
   },
   {
    "duration": 101,
    "start_time": "2021-12-17T14:36:47.402Z"
   },
   {
    "duration": 8,
    "start_time": "2021-12-17T14:36:47.505Z"
   },
   {
    "duration": 5,
    "start_time": "2021-12-17T14:36:47.515Z"
   },
   {
    "duration": 49,
    "start_time": "2021-12-17T14:36:47.522Z"
   },
   {
    "duration": 5,
    "start_time": "2021-12-17T14:36:47.574Z"
   },
   {
    "duration": 20,
    "start_time": "2021-12-17T14:36:47.582Z"
   },
   {
    "duration": 7,
    "start_time": "2021-12-17T14:36:47.605Z"
   },
   {
    "duration": 66,
    "start_time": "2021-12-17T14:36:47.614Z"
   },
   {
    "duration": 10,
    "start_time": "2021-12-17T14:36:47.683Z"
   },
   {
    "duration": 11,
    "start_time": "2021-12-17T14:36:47.696Z"
   },
   {
    "duration": 51,
    "start_time": "2021-12-17T14:36:47.709Z"
   },
   {
    "duration": 6,
    "start_time": "2021-12-17T14:36:55.315Z"
   },
   {
    "duration": 133,
    "start_time": "2021-12-17T14:36:57.426Z"
   },
   {
    "duration": 563,
    "start_time": "2021-12-17T14:37:16.478Z"
   },
   {
    "duration": 854,
    "start_time": "2021-12-17T14:38:30.939Z"
   },
   {
    "duration": 69,
    "start_time": "2021-12-17T14:38:31.796Z"
   },
   {
    "duration": 33,
    "start_time": "2021-12-17T14:38:31.868Z"
   },
   {
    "duration": 16,
    "start_time": "2021-12-17T14:38:31.905Z"
   },
   {
    "duration": 42,
    "start_time": "2021-12-17T14:38:31.924Z"
   },
   {
    "duration": 5,
    "start_time": "2021-12-17T14:38:31.970Z"
   },
   {
    "duration": 19,
    "start_time": "2021-12-17T14:38:31.978Z"
   },
   {
    "duration": 13,
    "start_time": "2021-12-17T14:38:32.001Z"
   },
   {
    "duration": 53,
    "start_time": "2021-12-17T14:38:32.021Z"
   },
   {
    "duration": 11,
    "start_time": "2021-12-17T14:38:32.077Z"
   },
   {
    "duration": 5,
    "start_time": "2021-12-17T14:38:32.091Z"
   },
   {
    "duration": 12,
    "start_time": "2021-12-17T14:38:32.099Z"
   },
   {
    "duration": 47,
    "start_time": "2021-12-17T14:38:32.114Z"
   },
   {
    "duration": 38,
    "start_time": "2021-12-17T14:38:32.164Z"
   },
   {
    "duration": 127,
    "start_time": "2021-12-17T14:38:32.205Z"
   },
   {
    "duration": 9,
    "start_time": "2021-12-17T14:38:32.335Z"
   },
   {
    "duration": 6,
    "start_time": "2021-12-17T14:38:32.360Z"
   },
   {
    "duration": 21,
    "start_time": "2021-12-17T14:38:32.369Z"
   },
   {
    "duration": 5,
    "start_time": "2021-12-17T14:38:32.393Z"
   },
   {
    "duration": 17,
    "start_time": "2021-12-17T14:38:32.401Z"
   },
   {
    "duration": 51,
    "start_time": "2021-12-17T14:38:32.420Z"
   },
   {
    "duration": 26,
    "start_time": "2021-12-17T14:38:32.473Z"
   },
   {
    "duration": 9,
    "start_time": "2021-12-17T14:38:32.501Z"
   },
   {
    "duration": 11,
    "start_time": "2021-12-17T14:38:46.703Z"
   },
   {
    "duration": 565,
    "start_time": "2021-12-17T14:44:36.713Z"
   },
   {
    "duration": 8,
    "start_time": "2021-12-17T15:01:41.224Z"
   },
   {
    "duration": 366,
    "start_time": "2021-12-17T15:04:09.407Z"
   },
   {
    "duration": 453,
    "start_time": "2021-12-17T15:05:30.375Z"
   },
   {
    "duration": 139,
    "start_time": "2021-12-17T15:05:38.759Z"
   },
   {
    "duration": 311,
    "start_time": "2021-12-18T09:24:17.316Z"
   },
   {
    "duration": 761,
    "start_time": "2021-12-18T09:25:12.699Z"
   },
   {
    "duration": 71,
    "start_time": "2021-12-18T09:25:13.463Z"
   },
   {
    "duration": 31,
    "start_time": "2021-12-18T09:25:13.537Z"
   },
   {
    "duration": 20,
    "start_time": "2021-12-18T09:25:13.571Z"
   },
   {
    "duration": 13,
    "start_time": "2021-12-18T09:25:13.618Z"
   },
   {
    "duration": 4,
    "start_time": "2021-12-18T09:25:13.634Z"
   },
   {
    "duration": 12,
    "start_time": "2021-12-18T09:25:13.640Z"
   },
   {
    "duration": 10,
    "start_time": "2021-12-18T09:25:13.656Z"
   },
   {
    "duration": 56,
    "start_time": "2021-12-18T09:25:13.669Z"
   },
   {
    "duration": 8,
    "start_time": "2021-12-18T09:25:13.728Z"
   },
   {
    "duration": 4,
    "start_time": "2021-12-18T09:25:13.739Z"
   },
   {
    "duration": 8,
    "start_time": "2021-12-18T09:25:13.746Z"
   },
   {
    "duration": 67,
    "start_time": "2021-12-18T09:25:13.757Z"
   },
   {
    "duration": 24,
    "start_time": "2021-12-18T09:25:13.827Z"
   },
   {
    "duration": 99,
    "start_time": "2021-12-18T09:25:13.853Z"
   },
   {
    "duration": 7,
    "start_time": "2021-12-18T09:25:13.954Z"
   },
   {
    "duration": 5,
    "start_time": "2021-12-18T09:25:13.964Z"
   },
   {
    "duration": 52,
    "start_time": "2021-12-18T09:25:13.971Z"
   },
   {
    "duration": 5,
    "start_time": "2021-12-18T09:25:14.026Z"
   },
   {
    "duration": 15,
    "start_time": "2021-12-18T09:25:14.034Z"
   },
   {
    "duration": 7,
    "start_time": "2021-12-18T09:25:14.051Z"
   },
   {
    "duration": 73,
    "start_time": "2021-12-18T09:25:14.061Z"
   },
   {
    "duration": 10,
    "start_time": "2021-12-18T09:25:14.138Z"
   },
   {
    "duration": 10,
    "start_time": "2021-12-18T09:25:14.150Z"
   },
   {
    "duration": 1229,
    "start_time": "2021-12-18T09:25:19.354Z"
   },
   {
    "duration": 735,
    "start_time": "2021-12-18T09:29:17.269Z"
   },
   {
    "duration": 68,
    "start_time": "2021-12-18T09:29:18.007Z"
   },
   {
    "duration": 50,
    "start_time": "2021-12-18T09:29:18.079Z"
   },
   {
    "duration": 15,
    "start_time": "2021-12-18T09:29:18.132Z"
   },
   {
    "duration": 12,
    "start_time": "2021-12-18T09:29:18.149Z"
   },
   {
    "duration": 5,
    "start_time": "2021-12-18T09:29:18.164Z"
   },
   {
    "duration": 10,
    "start_time": "2021-12-18T09:29:18.218Z"
   },
   {
    "duration": 11,
    "start_time": "2021-12-18T09:29:18.230Z"
   },
   {
    "duration": 11,
    "start_time": "2021-12-18T09:29:18.246Z"
   },
   {
    "duration": 59,
    "start_time": "2021-12-18T09:29:18.261Z"
   },
   {
    "duration": 5,
    "start_time": "2021-12-18T09:29:18.322Z"
   },
   {
    "duration": 12,
    "start_time": "2021-12-18T09:29:18.330Z"
   },
   {
    "duration": 12,
    "start_time": "2021-12-18T09:29:18.344Z"
   },
   {
    "duration": 66,
    "start_time": "2021-12-18T09:29:18.359Z"
   },
   {
    "duration": 66,
    "start_time": "2021-12-18T09:29:18.427Z"
   },
   {
    "duration": 28,
    "start_time": "2021-12-18T09:29:18.495Z"
   },
   {
    "duration": 5,
    "start_time": "2021-12-18T09:29:18.525Z"
   },
   {
    "duration": 15,
    "start_time": "2021-12-18T09:29:18.532Z"
   },
   {
    "duration": 5,
    "start_time": "2021-12-18T09:29:18.549Z"
   },
   {
    "duration": 66,
    "start_time": "2021-12-18T09:29:18.557Z"
   },
   {
    "duration": 7,
    "start_time": "2021-12-18T09:29:18.626Z"
   },
   {
    "duration": 31,
    "start_time": "2021-12-18T09:29:18.635Z"
   },
   {
    "duration": 9,
    "start_time": "2021-12-18T09:29:18.669Z"
   },
   {
    "duration": 8,
    "start_time": "2021-12-18T09:29:18.717Z"
   },
   {
    "duration": 924,
    "start_time": "2021-12-18T09:29:23.000Z"
   },
   {
    "duration": 404,
    "start_time": "2021-12-18T09:30:33.764Z"
   },
   {
    "duration": 747,
    "start_time": "2021-12-18T09:31:32.142Z"
   },
   {
    "duration": 64,
    "start_time": "2021-12-18T09:31:32.892Z"
   },
   {
    "duration": 32,
    "start_time": "2021-12-18T09:31:32.959Z"
   },
   {
    "duration": 15,
    "start_time": "2021-12-18T09:31:33.017Z"
   },
   {
    "duration": 24,
    "start_time": "2021-12-18T09:31:33.034Z"
   },
   {
    "duration": 14,
    "start_time": "2021-12-18T09:31:33.060Z"
   },
   {
    "duration": 16,
    "start_time": "2021-12-18T09:31:33.076Z"
   },
   {
    "duration": 29,
    "start_time": "2021-12-18T09:31:33.095Z"
   },
   {
    "duration": 11,
    "start_time": "2021-12-18T09:31:33.128Z"
   },
   {
    "duration": 8,
    "start_time": "2021-12-18T09:31:33.142Z"
   },
   {
    "duration": 15,
    "start_time": "2021-12-18T09:31:33.152Z"
   },
   {
    "duration": 54,
    "start_time": "2021-12-18T09:31:33.169Z"
   },
   {
    "duration": 12,
    "start_time": "2021-12-18T09:31:33.225Z"
   },
   {
    "duration": 27,
    "start_time": "2021-12-18T09:31:33.240Z"
   },
   {
    "duration": 99,
    "start_time": "2021-12-18T09:31:33.270Z"
   },
   {
    "duration": 7,
    "start_time": "2021-12-18T09:31:33.372Z"
   },
   {
    "duration": 36,
    "start_time": "2021-12-18T09:31:33.381Z"
   },
   {
    "duration": 15,
    "start_time": "2021-12-18T09:31:33.419Z"
   },
   {
    "duration": 5,
    "start_time": "2021-12-18T09:31:33.437Z"
   },
   {
    "duration": 39,
    "start_time": "2021-12-18T09:31:33.444Z"
   },
   {
    "duration": 6,
    "start_time": "2021-12-18T09:31:33.485Z"
   },
   {
    "duration": 46,
    "start_time": "2021-12-18T09:31:33.493Z"
   },
   {
    "duration": 10,
    "start_time": "2021-12-18T09:31:33.541Z"
   },
   {
    "duration": 10,
    "start_time": "2021-12-18T09:31:33.553Z"
   },
   {
    "duration": 1075,
    "start_time": "2021-12-18T09:31:33.566Z"
   },
   {
    "duration": 329,
    "start_time": "2021-12-18T09:31:37.146Z"
   },
   {
    "duration": 251,
    "start_time": "2021-12-18T09:47:09.397Z"
   },
   {
    "duration": 252,
    "start_time": "2021-12-18T09:47:19.782Z"
   },
   {
    "duration": 242,
    "start_time": "2021-12-18T09:50:06.075Z"
   },
   {
    "duration": 11,
    "start_time": "2021-12-18T09:50:22.295Z"
   },
   {
    "duration": 232,
    "start_time": "2021-12-18T09:50:54.190Z"
   },
   {
    "duration": 261,
    "start_time": "2021-12-18T09:51:17.519Z"
   },
   {
    "duration": 243,
    "start_time": "2021-12-18T09:51:28.155Z"
   },
   {
    "duration": 251,
    "start_time": "2021-12-18T09:51:56.747Z"
   },
   {
    "duration": 8,
    "start_time": "2021-12-18T09:54:50.203Z"
   },
   {
    "duration": 236,
    "start_time": "2021-12-18T09:55:02.099Z"
   },
   {
    "duration": 257,
    "start_time": "2021-12-18T09:55:23.163Z"
   },
   {
    "duration": 259,
    "start_time": "2021-12-18T09:57:33.902Z"
   },
   {
    "duration": 79,
    "start_time": "2021-12-18T09:57:56.847Z"
   },
   {
    "duration": 24,
    "start_time": "2021-12-18T09:58:46.618Z"
   },
   {
    "duration": 22,
    "start_time": "2021-12-18T09:59:09.210Z"
   },
   {
    "duration": 3408,
    "start_time": "2021-12-18T10:00:31.362Z"
   },
   {
    "duration": 3,
    "start_time": "2021-12-18T10:03:29.038Z"
   },
   {
    "duration": 3,
    "start_time": "2021-12-18T10:03:33.686Z"
   },
   {
    "duration": 29,
    "start_time": "2021-12-18T10:03:40.535Z"
   },
   {
    "duration": 4,
    "start_time": "2021-12-18T10:09:45.702Z"
   },
   {
    "duration": 79,
    "start_time": "2021-12-18T10:49:03.695Z"
   },
   {
    "duration": 90,
    "start_time": "2021-12-18T10:50:53.031Z"
   },
   {
    "duration": 84,
    "start_time": "2021-12-18T10:52:05.795Z"
   },
   {
    "duration": 87,
    "start_time": "2021-12-18T10:54:26.015Z"
   },
   {
    "duration": 88,
    "start_time": "2021-12-18T10:58:20.223Z"
   },
   {
    "duration": 74,
    "start_time": "2021-12-18T10:59:26.107Z"
   },
   {
    "duration": 84,
    "start_time": "2021-12-18T11:00:03.253Z"
   },
   {
    "duration": 106,
    "start_time": "2021-12-18T11:00:12.093Z"
   },
   {
    "duration": 97,
    "start_time": "2021-12-18T11:00:21.639Z"
   },
   {
    "duration": 93,
    "start_time": "2021-12-18T11:01:13.867Z"
   },
   {
    "duration": 85,
    "start_time": "2021-12-18T11:01:26.263Z"
   },
   {
    "duration": 3532,
    "start_time": "2021-12-18T11:01:46.655Z"
   },
   {
    "duration": 82,
    "start_time": "2021-12-18T11:01:58.082Z"
   },
   {
    "duration": 3531,
    "start_time": "2021-12-18T11:02:02.713Z"
   },
   {
    "duration": 3554,
    "start_time": "2021-12-18T11:02:09.622Z"
   },
   {
    "duration": 292,
    "start_time": "2021-12-18T15:38:01.629Z"
   },
   {
    "duration": 716,
    "start_time": "2021-12-18T15:38:15.632Z"
   },
   {
    "duration": 63,
    "start_time": "2021-12-18T15:38:16.351Z"
   },
   {
    "duration": 46,
    "start_time": "2021-12-18T15:38:16.418Z"
   },
   {
    "duration": 14,
    "start_time": "2021-12-18T15:38:16.467Z"
   },
   {
    "duration": 36,
    "start_time": "2021-12-18T15:38:16.483Z"
   },
   {
    "duration": 4,
    "start_time": "2021-12-18T15:38:16.522Z"
   },
   {
    "duration": 12,
    "start_time": "2021-12-18T15:38:16.528Z"
   },
   {
    "duration": 10,
    "start_time": "2021-12-18T15:38:16.543Z"
   },
   {
    "duration": 10,
    "start_time": "2021-12-18T15:38:16.557Z"
   },
   {
    "duration": 48,
    "start_time": "2021-12-18T15:38:16.570Z"
   },
   {
    "duration": 5,
    "start_time": "2021-12-18T15:38:16.621Z"
   },
   {
    "duration": 18,
    "start_time": "2021-12-18T15:38:16.628Z"
   },
   {
    "duration": 11,
    "start_time": "2021-12-18T15:38:16.649Z"
   },
   {
    "duration": 59,
    "start_time": "2021-12-18T15:38:16.663Z"
   },
   {
    "duration": 65,
    "start_time": "2021-12-18T15:38:16.725Z"
   },
   {
    "duration": 29,
    "start_time": "2021-12-18T15:38:16.793Z"
   },
   {
    "duration": 6,
    "start_time": "2021-12-18T15:38:16.824Z"
   },
   {
    "duration": 14,
    "start_time": "2021-12-18T15:38:16.832Z"
   },
   {
    "duration": 6,
    "start_time": "2021-12-18T15:38:16.849Z"
   },
   {
    "duration": 62,
    "start_time": "2021-12-18T15:38:16.858Z"
   },
   {
    "duration": 9,
    "start_time": "2021-12-18T15:38:16.923Z"
   },
   {
    "duration": 38,
    "start_time": "2021-12-18T15:38:16.935Z"
   },
   {
    "duration": 43,
    "start_time": "2021-12-18T15:38:16.977Z"
   },
   {
    "duration": 14,
    "start_time": "2021-12-18T15:38:17.023Z"
   },
   {
    "duration": 3314,
    "start_time": "2021-12-18T15:38:17.040Z"
   },
   {
    "duration": 64,
    "start_time": "2021-12-18T15:38:20.358Z"
   },
   {
    "duration": 4065,
    "start_time": "2021-12-18T15:38:20.426Z"
   },
   {
    "duration": 9,
    "start_time": "2021-12-18T15:38:29.044Z"
   },
   {
    "duration": 8,
    "start_time": "2021-12-18T15:40:00.462Z"
   },
   {
    "duration": 1002,
    "start_time": "2021-12-18T21:33:48.683Z"
   },
   {
    "duration": 235,
    "start_time": "2021-12-18T21:34:09.395Z"
   },
   {
    "duration": 557,
    "start_time": "2021-12-18T21:34:19.419Z"
   },
   {
    "duration": 51,
    "start_time": "2021-12-18T21:34:19.978Z"
   },
   {
    "duration": 19,
    "start_time": "2021-12-18T21:34:20.031Z"
   },
   {
    "duration": 11,
    "start_time": "2021-12-18T21:34:20.052Z"
   },
   {
    "duration": 30,
    "start_time": "2021-12-18T21:34:20.064Z"
   },
   {
    "duration": 3,
    "start_time": "2021-12-18T21:34:20.096Z"
   },
   {
    "duration": 9,
    "start_time": "2021-12-18T21:34:20.100Z"
   },
   {
    "duration": 7,
    "start_time": "2021-12-18T21:34:20.112Z"
   },
   {
    "duration": 7,
    "start_time": "2021-12-18T21:34:20.122Z"
   },
   {
    "duration": 6,
    "start_time": "2021-12-18T21:34:20.130Z"
   },
   {
    "duration": 50,
    "start_time": "2021-12-18T21:34:20.138Z"
   },
   {
    "duration": 5,
    "start_time": "2021-12-18T21:34:20.190Z"
   },
   {
    "duration": 10,
    "start_time": "2021-12-18T21:34:20.196Z"
   },
   {
    "duration": 20,
    "start_time": "2021-12-18T21:34:20.208Z"
   },
   {
    "duration": 76,
    "start_time": "2021-12-18T21:34:20.230Z"
   },
   {
    "duration": 5,
    "start_time": "2021-12-18T21:34:20.308Z"
   },
   {
    "duration": 8,
    "start_time": "2021-12-18T21:34:20.314Z"
   },
   {
    "duration": 13,
    "start_time": "2021-12-18T21:34:20.323Z"
   },
   {
    "duration": 5,
    "start_time": "2021-12-18T21:34:20.338Z"
   },
   {
    "duration": 45,
    "start_time": "2021-12-18T21:34:20.344Z"
   },
   {
    "duration": 5,
    "start_time": "2021-12-18T21:34:20.390Z"
   },
   {
    "duration": 22,
    "start_time": "2021-12-18T21:34:20.397Z"
   },
   {
    "duration": 10,
    "start_time": "2021-12-18T21:34:20.421Z"
   },
   {
    "duration": 8,
    "start_time": "2021-12-18T21:34:20.432Z"
   },
   {
    "duration": 3309,
    "start_time": "2021-12-18T21:34:20.442Z"
   },
   {
    "duration": 35,
    "start_time": "2021-12-18T21:34:23.754Z"
   },
   {
    "duration": 3322,
    "start_time": "2021-12-18T21:34:23.791Z"
   },
   {
    "duration": 4,
    "start_time": "2021-12-18T21:34:27.115Z"
   },
   {
    "duration": 11,
    "start_time": "2021-12-18T21:34:33.511Z"
   },
   {
    "duration": 17,
    "start_time": "2021-12-18T21:34:50.359Z"
   },
   {
    "duration": 11,
    "start_time": "2021-12-18T21:37:03.687Z"
   },
   {
    "duration": 22,
    "start_time": "2021-12-18T21:49:33.819Z"
   },
   {
    "duration": 20,
    "start_time": "2021-12-18T21:49:59.087Z"
   },
   {
    "duration": 22,
    "start_time": "2021-12-18T21:50:57.123Z"
   },
   {
    "duration": 17,
    "start_time": "2021-12-18T21:51:23.095Z"
   },
   {
    "duration": 17,
    "start_time": "2021-12-18T21:57:30.738Z"
   },
   {
    "duration": 264,
    "start_time": "2021-12-19T09:55:53.581Z"
   },
   {
    "duration": 563,
    "start_time": "2021-12-19T09:56:18.399Z"
   },
   {
    "duration": 51,
    "start_time": "2021-12-19T09:56:18.964Z"
   },
   {
    "duration": 20,
    "start_time": "2021-12-19T09:56:19.017Z"
   },
   {
    "duration": 10,
    "start_time": "2021-12-19T09:56:19.038Z"
   },
   {
    "duration": 8,
    "start_time": "2021-12-19T09:56:19.050Z"
   },
   {
    "duration": 4,
    "start_time": "2021-12-19T09:56:19.088Z"
   },
   {
    "duration": 10,
    "start_time": "2021-12-19T09:56:19.093Z"
   },
   {
    "duration": 7,
    "start_time": "2021-12-19T09:56:19.104Z"
   },
   {
    "duration": 6,
    "start_time": "2021-12-19T09:56:19.114Z"
   },
   {
    "duration": 5,
    "start_time": "2021-12-19T09:56:19.122Z"
   },
   {
    "duration": 8,
    "start_time": "2021-12-19T09:56:19.129Z"
   },
   {
    "duration": 7,
    "start_time": "2021-12-19T09:56:19.138Z"
   },
   {
    "duration": 45,
    "start_time": "2021-12-19T09:56:19.146Z"
   },
   {
    "duration": 20,
    "start_time": "2021-12-19T09:56:19.193Z"
   },
   {
    "duration": 41,
    "start_time": "2021-12-19T09:56:19.214Z"
   },
   {
    "duration": 32,
    "start_time": "2021-12-19T09:56:19.257Z"
   },
   {
    "duration": 4,
    "start_time": "2021-12-19T09:56:19.290Z"
   },
   {
    "duration": 18,
    "start_time": "2021-12-19T09:56:19.295Z"
   },
   {
    "duration": 4,
    "start_time": "2021-12-19T09:56:19.315Z"
   },
   {
    "duration": 20,
    "start_time": "2021-12-19T09:56:19.320Z"
   },
   {
    "duration": 11,
    "start_time": "2021-12-19T09:56:19.341Z"
   },
   {
    "duration": 35,
    "start_time": "2021-12-19T09:56:19.353Z"
   },
   {
    "duration": 7,
    "start_time": "2021-12-19T09:56:19.390Z"
   },
   {
    "duration": 7,
    "start_time": "2021-12-19T09:56:19.399Z"
   },
   {
    "duration": 2435,
    "start_time": "2021-12-19T09:56:19.408Z"
   },
   {
    "duration": 13,
    "start_time": "2021-12-19T09:56:21.845Z"
   },
   {
    "duration": 2941,
    "start_time": "2021-12-19T09:56:21.861Z"
   },
   {
    "duration": 4,
    "start_time": "2021-12-19T09:56:24.804Z"
   },
   {
    "duration": 18,
    "start_time": "2021-12-19T09:56:24.810Z"
   },
   {
    "duration": 7,
    "start_time": "2021-12-19T09:56:24.829Z"
   },
   {
    "duration": 56,
    "start_time": "2021-12-19T09:56:24.837Z"
   },
   {
    "duration": 6,
    "start_time": "2021-12-19T10:00:12.834Z"
   },
   {
    "duration": 7,
    "start_time": "2021-12-19T10:02:18.702Z"
   },
   {
    "duration": 6,
    "start_time": "2021-12-19T10:02:39.670Z"
   },
   {
    "duration": 6,
    "start_time": "2021-12-19T10:02:50.222Z"
   },
   {
    "duration": 18,
    "start_time": "2021-12-19T10:04:28.682Z"
   },
   {
    "duration": 18,
    "start_time": "2021-12-19T10:04:50.958Z"
   },
   {
    "duration": 18,
    "start_time": "2021-12-19T10:05:15.778Z"
   },
   {
    "duration": 11,
    "start_time": "2021-12-19T10:07:56.334Z"
   },
   {
    "duration": 17,
    "start_time": "2021-12-19T10:11:09.070Z"
   },
   {
    "duration": 287,
    "start_time": "2021-12-19T10:12:38.746Z"
   },
   {
    "duration": 20,
    "start_time": "2021-12-19T10:13:25.550Z"
   },
   {
    "duration": 286,
    "start_time": "2021-12-19T10:14:38.371Z"
   },
   {
    "duration": 17,
    "start_time": "2021-12-19T10:14:46.650Z"
   },
   {
    "duration": 18,
    "start_time": "2021-12-19T10:20:36.338Z"
   },
   {
    "duration": 251,
    "start_time": "2021-12-19T10:28:19.982Z"
   },
   {
    "duration": 11,
    "start_time": "2021-12-19T10:29:46.794Z"
   },
   {
    "duration": 19,
    "start_time": "2021-12-19T10:30:57.718Z"
   },
   {
    "duration": 10,
    "start_time": "2021-12-19T10:31:26.278Z"
   },
   {
    "duration": 17,
    "start_time": "2021-12-19T10:32:57.918Z"
   },
   {
    "duration": 8,
    "start_time": "2021-12-19T10:33:23.178Z"
   },
   {
    "duration": 18,
    "start_time": "2021-12-19T10:33:53.586Z"
   },
   {
    "duration": 5,
    "start_time": "2021-12-19T10:40:59.806Z"
   },
   {
    "duration": 7,
    "start_time": "2021-12-19T10:41:23.238Z"
   },
   {
    "duration": 5,
    "start_time": "2021-12-19T10:54:24.618Z"
   },
   {
    "duration": 7,
    "start_time": "2021-12-19T10:55:11.435Z"
   },
   {
    "duration": 15,
    "start_time": "2021-12-19T11:17:00.227Z"
   },
   {
    "duration": 16,
    "start_time": "2021-12-19T11:17:31.967Z"
   },
   {
    "duration": 10,
    "start_time": "2021-12-19T11:18:48.499Z"
   },
   {
    "duration": 11,
    "start_time": "2021-12-19T11:18:53.363Z"
   },
   {
    "duration": 20,
    "start_time": "2021-12-19T11:19:14.515Z"
   },
   {
    "duration": 22,
    "start_time": "2021-12-19T11:27:06.251Z"
   },
   {
    "duration": 25,
    "start_time": "2021-12-19T11:27:23.415Z"
   },
   {
    "duration": 244,
    "start_time": "2021-12-19T11:38:16.817Z"
   },
   {
    "duration": 19,
    "start_time": "2021-12-19T11:38:26.755Z"
   },
   {
    "duration": 9,
    "start_time": "2021-12-19T12:20:23.218Z"
   },
   {
    "duration": 101,
    "start_time": "2021-12-19T12:21:03.098Z"
   },
   {
    "duration": 77,
    "start_time": "2021-12-19T12:21:38.144Z"
   },
   {
    "duration": 96,
    "start_time": "2021-12-19T12:21:51.096Z"
   },
   {
    "duration": 262,
    "start_time": "2021-12-19T12:22:08.430Z"
   },
   {
    "duration": 8,
    "start_time": "2021-12-19T12:22:35.286Z"
   },
   {
    "duration": 71,
    "start_time": "2021-12-19T12:23:06.070Z"
   },
   {
    "duration": 16,
    "start_time": "2021-12-19T12:23:29.786Z"
   },
   {
    "duration": 18,
    "start_time": "2021-12-19T12:23:42.658Z"
   },
   {
    "duration": 368,
    "start_time": "2021-12-19T22:00:09.714Z"
   },
   {
    "duration": 696,
    "start_time": "2021-12-19T22:00:25.644Z"
   },
   {
    "duration": 54,
    "start_time": "2021-12-19T22:00:26.342Z"
   },
   {
    "duration": 20,
    "start_time": "2021-12-19T22:00:26.399Z"
   },
   {
    "duration": 11,
    "start_time": "2021-12-19T22:00:26.421Z"
   },
   {
    "duration": 10,
    "start_time": "2021-12-19T22:00:26.434Z"
   },
   {
    "duration": 3,
    "start_time": "2021-12-19T22:00:26.446Z"
   },
   {
    "duration": 7,
    "start_time": "2021-12-19T22:00:26.451Z"
   },
   {
    "duration": 7,
    "start_time": "2021-12-19T22:00:26.460Z"
   },
   {
    "duration": 9,
    "start_time": "2021-12-19T22:00:26.505Z"
   },
   {
    "duration": 6,
    "start_time": "2021-12-19T22:00:26.516Z"
   },
   {
    "duration": 5,
    "start_time": "2021-12-19T22:00:26.524Z"
   },
   {
    "duration": 7,
    "start_time": "2021-12-19T22:00:26.531Z"
   },
   {
    "duration": 8,
    "start_time": "2021-12-19T22:00:26.540Z"
   },
   {
    "duration": 20,
    "start_time": "2021-12-19T22:00:26.549Z"
   },
   {
    "duration": 74,
    "start_time": "2021-12-19T22:00:26.571Z"
   },
   {
    "duration": 7,
    "start_time": "2021-12-19T22:00:26.647Z"
   },
   {
    "duration": 4,
    "start_time": "2021-12-19T22:00:26.656Z"
   },
   {
    "duration": 14,
    "start_time": "2021-12-19T22:00:26.662Z"
   },
   {
    "duration": 4,
    "start_time": "2021-12-19T22:00:26.713Z"
   },
   {
    "duration": 11,
    "start_time": "2021-12-19T22:00:26.719Z"
   },
   {
    "duration": 5,
    "start_time": "2021-12-19T22:00:26.732Z"
   },
   {
    "duration": 19,
    "start_time": "2021-12-19T22:00:26.739Z"
   },
   {
    "duration": 7,
    "start_time": "2021-12-19T22:00:26.760Z"
   },
   {
    "duration": 38,
    "start_time": "2021-12-19T22:00:26.769Z"
   },
   {
    "duration": 2543,
    "start_time": "2021-12-19T22:00:26.809Z"
   },
   {
    "duration": 15,
    "start_time": "2021-12-19T22:00:29.354Z"
   },
   {
    "duration": 3157,
    "start_time": "2021-12-19T22:00:29.373Z"
   },
   {
    "duration": 5,
    "start_time": "2021-12-19T22:00:32.532Z"
   },
   {
    "duration": 21,
    "start_time": "2021-12-19T22:00:32.538Z"
   },
   {
    "duration": 7,
    "start_time": "2021-12-19T22:00:32.561Z"
   },
   {
    "duration": 36,
    "start_time": "2021-12-19T22:00:32.570Z"
   },
   {
    "duration": 31,
    "start_time": "2021-12-19T22:00:32.608Z"
   },
   {
    "duration": 29,
    "start_time": "2021-12-19T22:00:32.640Z"
   },
   {
    "duration": 41,
    "start_time": "2021-12-19T22:00:32.671Z"
   },
   {
    "duration": 9,
    "start_time": "2021-12-19T22:00:32.714Z"
   },
   {
    "duration": 19,
    "start_time": "2021-12-19T22:00:32.725Z"
   },
   {
    "duration": 10,
    "start_time": "2021-12-19T22:01:09.211Z"
   },
   {
    "duration": 19,
    "start_time": "2021-12-19T22:03:28.251Z"
   },
   {
    "duration": 123,
    "start_time": "2021-12-19T22:09:55.335Z"
   },
   {
    "duration": 420,
    "start_time": "2021-12-19T22:12:50.987Z"
   },
   {
    "duration": 340,
    "start_time": "2021-12-19T22:14:21.044Z"
   },
   {
    "duration": 337,
    "start_time": "2021-12-19T22:17:24.411Z"
   },
   {
    "duration": 775,
    "start_time": "2021-12-19T22:21:57.003Z"
   },
   {
    "duration": 349,
    "start_time": "2021-12-19T22:22:24.659Z"
   },
   {
    "duration": 617,
    "start_time": "2021-12-19T22:22:36.009Z"
   },
   {
    "duration": 53,
    "start_time": "2021-12-19T22:22:36.628Z"
   },
   {
    "duration": 21,
    "start_time": "2021-12-19T22:22:36.683Z"
   },
   {
    "duration": 17,
    "start_time": "2021-12-19T22:22:36.707Z"
   },
   {
    "duration": 15,
    "start_time": "2021-12-19T22:22:36.727Z"
   },
   {
    "duration": 10,
    "start_time": "2021-12-19T22:22:36.744Z"
   },
   {
    "duration": 10,
    "start_time": "2021-12-19T22:22:36.756Z"
   },
   {
    "duration": 16,
    "start_time": "2021-12-19T22:22:36.769Z"
   },
   {
    "duration": 8,
    "start_time": "2021-12-19T22:22:36.788Z"
   },
   {
    "duration": 8,
    "start_time": "2021-12-19T22:22:36.806Z"
   },
   {
    "duration": 4,
    "start_time": "2021-12-19T22:22:36.816Z"
   },
   {
    "duration": 8,
    "start_time": "2021-12-19T22:22:36.821Z"
   },
   {
    "duration": 10,
    "start_time": "2021-12-19T22:22:36.831Z"
   },
   {
    "duration": 19,
    "start_time": "2021-12-19T22:22:36.843Z"
   },
   {
    "duration": 79,
    "start_time": "2021-12-19T22:22:36.864Z"
   },
   {
    "duration": 6,
    "start_time": "2021-12-19T22:22:36.945Z"
   },
   {
    "duration": 5,
    "start_time": "2021-12-19T22:22:36.952Z"
   },
   {
    "duration": 15,
    "start_time": "2021-12-19T22:22:36.958Z"
   },
   {
    "duration": 5,
    "start_time": "2021-12-19T22:22:36.975Z"
   },
   {
    "duration": 32,
    "start_time": "2021-12-19T22:22:36.981Z"
   },
   {
    "duration": 5,
    "start_time": "2021-12-19T22:22:37.015Z"
   },
   {
    "duration": 22,
    "start_time": "2021-12-19T22:22:37.021Z"
   },
   {
    "duration": 6,
    "start_time": "2021-12-19T22:22:37.047Z"
   },
   {
    "duration": 6,
    "start_time": "2021-12-19T22:22:37.055Z"
   },
   {
    "duration": 2414,
    "start_time": "2021-12-19T22:22:37.063Z"
   },
   {
    "duration": 29,
    "start_time": "2021-12-19T22:22:39.479Z"
   },
   {
    "duration": 3128,
    "start_time": "2021-12-19T22:22:39.510Z"
   },
   {
    "duration": 5,
    "start_time": "2021-12-19T22:22:42.640Z"
   },
   {
    "duration": 22,
    "start_time": "2021-12-19T22:22:42.646Z"
   },
   {
    "duration": 7,
    "start_time": "2021-12-19T22:22:42.670Z"
   },
   {
    "duration": 8,
    "start_time": "2021-12-19T22:22:42.678Z"
   },
   {
    "duration": 24,
    "start_time": "2021-12-19T22:22:42.707Z"
   },
   {
    "duration": 25,
    "start_time": "2021-12-19T22:22:42.733Z"
   },
   {
    "duration": 18,
    "start_time": "2021-12-19T22:22:42.760Z"
   },
   {
    "duration": 33,
    "start_time": "2021-12-19T22:22:42.780Z"
   },
   {
    "duration": 18,
    "start_time": "2021-12-19T22:22:42.815Z"
   },
   {
    "duration": 8,
    "start_time": "2021-12-19T22:22:42.835Z"
   },
   {
    "duration": 19,
    "start_time": "2021-12-19T22:22:42.844Z"
   },
   {
    "duration": 9,
    "start_time": "2021-12-19T22:22:53.187Z"
   },
   {
    "duration": 10,
    "start_time": "2021-12-19T22:33:49.231Z"
   },
   {
    "duration": 399,
    "start_time": "2021-12-19T22:37:49.599Z"
   },
   {
    "duration": 19,
    "start_time": "2021-12-19T22:38:45.199Z"
   },
   {
    "duration": 10,
    "start_time": "2021-12-19T22:41:38.811Z"
   },
   {
    "duration": 8,
    "start_time": "2021-12-19T22:44:33.019Z"
   },
   {
    "duration": 684,
    "start_time": "2021-12-20T14:07:51.235Z"
   },
   {
    "duration": 795,
    "start_time": "2021-12-20T14:08:08.728Z"
   },
   {
    "duration": 65,
    "start_time": "2021-12-20T14:08:12.340Z"
   },
   {
    "duration": 745,
    "start_time": "2021-12-20T14:08:23.028Z"
   },
   {
    "duration": 382,
    "start_time": "2021-12-20T14:08:23.775Z"
   },
   {
    "duration": 1008,
    "start_time": "2021-12-20T14:08:24.160Z"
   },
   {
    "duration": 878,
    "start_time": "2021-12-20T14:08:25.171Z"
   },
   {
    "duration": 960,
    "start_time": "2021-12-20T14:08:26.052Z"
   },
   {
    "duration": 802,
    "start_time": "2021-12-20T14:08:27.015Z"
   },
   {
    "duration": 433,
    "start_time": "2021-12-20T14:08:27.819Z"
   },
   {
    "duration": 258,
    "start_time": "2021-12-20T14:08:28.256Z"
   },
   {
    "duration": 270,
    "start_time": "2021-12-20T14:08:28.518Z"
   },
   {
    "duration": 490,
    "start_time": "2021-12-20T14:08:28.793Z"
   },
   {
    "duration": 510,
    "start_time": "2021-12-20T14:08:29.286Z"
   },
   {
    "duration": 285,
    "start_time": "2021-12-20T14:08:29.799Z"
   },
   {
    "duration": 569,
    "start_time": "2021-12-20T14:08:30.087Z"
   },
   {
    "duration": 434,
    "start_time": "2021-12-20T14:08:30.659Z"
   },
   {
    "duration": 396,
    "start_time": "2021-12-20T14:08:31.096Z"
   },
   {
    "duration": 267,
    "start_time": "2021-12-20T14:08:31.494Z"
   },
   {
    "duration": 360,
    "start_time": "2021-12-20T14:08:31.764Z"
   },
   {
    "duration": 328,
    "start_time": "2021-12-20T14:08:32.127Z"
   },
   {
    "duration": 448,
    "start_time": "2021-12-20T14:08:32.457Z"
   },
   {
    "duration": 834,
    "start_time": "2021-12-20T14:08:32.907Z"
   },
   {
    "duration": 531,
    "start_time": "2021-12-20T14:08:33.744Z"
   },
   {
    "duration": 336,
    "start_time": "2021-12-20T14:08:34.277Z"
   },
   {
    "duration": 305,
    "start_time": "2021-12-20T14:08:34.615Z"
   },
   {
    "duration": 415,
    "start_time": "2021-12-20T14:08:34.922Z"
   },
   {
    "duration": 3485,
    "start_time": "2021-12-20T14:08:35.339Z"
   },
   {
    "duration": 19,
    "start_time": "2021-12-20T14:08:38.827Z"
   },
   {
    "duration": 5330,
    "start_time": "2021-12-20T14:08:38.853Z"
   },
   {
    "duration": 7,
    "start_time": "2021-12-20T14:08:44.185Z"
   },
   {
    "duration": 407,
    "start_time": "2021-12-20T14:08:44.195Z"
   },
   {
    "duration": 502,
    "start_time": "2021-12-20T14:08:44.605Z"
   },
   {
    "duration": 294,
    "start_time": "2021-12-20T14:08:45.109Z"
   },
   {
    "duration": 744,
    "start_time": "2021-12-20T14:08:45.405Z"
   },
   {
    "duration": 889,
    "start_time": "2021-12-20T14:08:46.152Z"
   },
   {
    "duration": 340,
    "start_time": "2021-12-20T14:08:47.044Z"
   },
   {
    "duration": 254,
    "start_time": "2021-12-20T14:08:47.387Z"
   },
   {
    "duration": 379,
    "start_time": "2021-12-20T14:08:47.644Z"
   },
   {
    "duration": 294,
    "start_time": "2021-12-20T14:08:48.026Z"
   },
   {
    "duration": 333,
    "start_time": "2021-12-20T14:08:48.322Z"
   },
   {
    "duration": 563,
    "start_time": "2021-12-20T14:08:48.657Z"
   },
   {
    "duration": 396,
    "start_time": "2021-12-20T14:08:49.223Z"
   },
   {
    "duration": 456,
    "start_time": "2021-12-20T14:08:49.621Z"
   },
   {
    "duration": 351,
    "start_time": "2021-12-21T09:53:10.551Z"
   },
   {
    "duration": 1011,
    "start_time": "2021-12-21T09:53:14.193Z"
   },
   {
    "duration": 93,
    "start_time": "2021-12-21T09:53:15.208Z"
   },
   {
    "duration": 39,
    "start_time": "2021-12-21T09:53:15.304Z"
   },
   {
    "duration": 14,
    "start_time": "2021-12-21T09:53:15.360Z"
   },
   {
    "duration": 14,
    "start_time": "2021-12-21T09:53:15.377Z"
   },
   {
    "duration": 9,
    "start_time": "2021-12-21T09:53:15.393Z"
   },
   {
    "duration": 16,
    "start_time": "2021-12-21T09:53:15.405Z"
   },
   {
    "duration": 41,
    "start_time": "2021-12-21T09:53:15.425Z"
   },
   {
    "duration": 15,
    "start_time": "2021-12-21T09:53:15.470Z"
   },
   {
    "duration": 11,
    "start_time": "2021-12-21T09:53:15.488Z"
   },
   {
    "duration": 6,
    "start_time": "2021-12-21T09:53:15.502Z"
   },
   {
    "duration": 51,
    "start_time": "2021-12-21T09:53:15.510Z"
   },
   {
    "duration": 11,
    "start_time": "2021-12-21T09:53:15.563Z"
   },
   {
    "duration": 29,
    "start_time": "2021-12-21T09:53:15.576Z"
   },
   {
    "duration": 92,
    "start_time": "2021-12-21T09:53:15.608Z"
   },
   {
    "duration": 10,
    "start_time": "2021-12-21T09:53:15.703Z"
   },
   {
    "duration": 5,
    "start_time": "2021-12-21T09:53:15.715Z"
   },
   {
    "duration": 48,
    "start_time": "2021-12-21T09:53:15.723Z"
   },
   {
    "duration": 8,
    "start_time": "2021-12-21T09:53:15.775Z"
   },
   {
    "duration": 14,
    "start_time": "2021-12-21T09:53:15.785Z"
   },
   {
    "duration": 6,
    "start_time": "2021-12-21T09:53:15.801Z"
   },
   {
    "duration": 64,
    "start_time": "2021-12-21T09:53:15.810Z"
   },
   {
    "duration": 10,
    "start_time": "2021-12-21T09:53:15.879Z"
   },
   {
    "duration": 8,
    "start_time": "2021-12-21T09:53:15.892Z"
   },
   {
    "duration": 3237,
    "start_time": "2021-12-21T09:53:15.903Z"
   },
   {
    "duration": 22,
    "start_time": "2021-12-21T09:53:19.143Z"
   },
   {
    "duration": 4621,
    "start_time": "2021-12-21T09:53:19.169Z"
   },
   {
    "duration": 6,
    "start_time": "2021-12-21T09:53:23.792Z"
   },
   {
    "duration": 29,
    "start_time": "2021-12-21T09:53:23.800Z"
   },
   {
    "duration": 9,
    "start_time": "2021-12-21T09:53:23.860Z"
   },
   {
    "duration": 12,
    "start_time": "2021-12-21T09:53:23.872Z"
   },
   {
    "duration": 37,
    "start_time": "2021-12-21T09:53:23.886Z"
   },
   {
    "duration": 366,
    "start_time": "2021-12-21T09:53:23.926Z"
   },
   {
    "duration": -412,
    "start_time": "2021-12-21T09:53:24.707Z"
   },
   {
    "duration": -414,
    "start_time": "2021-12-21T09:53:24.710Z"
   },
   {
    "duration": -415,
    "start_time": "2021-12-21T09:53:24.713Z"
   },
   {
    "duration": -417,
    "start_time": "2021-12-21T09:53:24.716Z"
   },
   {
    "duration": -423,
    "start_time": "2021-12-21T09:53:24.724Z"
   },
   {
    "duration": -426,
    "start_time": "2021-12-21T09:53:24.728Z"
   },
   {
    "duration": -428,
    "start_time": "2021-12-21T09:53:24.731Z"
   },
   {
    "duration": -429,
    "start_time": "2021-12-21T09:53:24.734Z"
   },
   {
    "duration": -431,
    "start_time": "2021-12-21T09:53:24.737Z"
   },
   {
    "duration": 21,
    "start_time": "2021-12-21T09:53:41.715Z"
   },
   {
    "duration": 4,
    "start_time": "2021-12-21T09:54:54.312Z"
   },
   {
    "duration": 99,
    "start_time": "2021-12-21T09:54:54.320Z"
   },
   {
    "duration": 51,
    "start_time": "2021-12-21T09:54:54.422Z"
   },
   {
    "duration": 16,
    "start_time": "2021-12-21T09:54:54.476Z"
   },
   {
    "duration": 14,
    "start_time": "2021-12-21T09:54:54.495Z"
   },
   {
    "duration": 4,
    "start_time": "2021-12-21T09:54:54.511Z"
   },
   {
    "duration": 41,
    "start_time": "2021-12-21T09:54:54.518Z"
   },
   {
    "duration": 12,
    "start_time": "2021-12-21T09:54:54.562Z"
   },
   {
    "duration": 11,
    "start_time": "2021-12-21T09:54:54.576Z"
   },
   {
    "duration": 8,
    "start_time": "2021-12-21T09:54:54.589Z"
   },
   {
    "duration": 4,
    "start_time": "2021-12-21T09:54:54.599Z"
   },
   {
    "duration": 59,
    "start_time": "2021-12-21T09:54:54.605Z"
   },
   {
    "duration": 13,
    "start_time": "2021-12-21T09:54:54.666Z"
   },
   {
    "duration": 26,
    "start_time": "2021-12-21T09:54:54.681Z"
   },
   {
    "duration": 111,
    "start_time": "2021-12-21T09:54:54.709Z"
   },
   {
    "duration": 8,
    "start_time": "2021-12-21T09:54:54.823Z"
   },
   {
    "duration": 7,
    "start_time": "2021-12-21T09:54:54.833Z"
   },
   {
    "duration": 17,
    "start_time": "2021-12-21T09:54:54.859Z"
   },
   {
    "duration": 5,
    "start_time": "2021-12-21T09:54:54.881Z"
   },
   {
    "duration": 14,
    "start_time": "2021-12-21T09:54:54.890Z"
   },
   {
    "duration": 53,
    "start_time": "2021-12-21T09:54:54.906Z"
   },
   {
    "duration": 24,
    "start_time": "2021-12-21T09:54:54.961Z"
   },
   {
    "duration": 10,
    "start_time": "2021-12-21T09:54:54.987Z"
   },
   {
    "duration": 10,
    "start_time": "2021-12-21T09:54:54.999Z"
   },
   {
    "duration": 3445,
    "start_time": "2021-12-21T09:54:55.012Z"
   },
   {
    "duration": 20,
    "start_time": "2021-12-21T09:54:58.460Z"
   },
   {
    "duration": 4749,
    "start_time": "2021-12-21T09:54:58.482Z"
   },
   {
    "duration": 6,
    "start_time": "2021-12-21T09:55:03.234Z"
   },
   {
    "duration": 50,
    "start_time": "2021-12-21T09:55:03.243Z"
   },
   {
    "duration": 11,
    "start_time": "2021-12-21T09:55:03.296Z"
   },
   {
    "duration": 11,
    "start_time": "2021-12-21T09:55:03.309Z"
   },
   {
    "duration": 38,
    "start_time": "2021-12-21T09:55:03.360Z"
   },
   {
    "duration": 32,
    "start_time": "2021-12-21T09:55:03.400Z"
   },
   {
    "duration": 38,
    "start_time": "2021-12-21T09:55:03.434Z"
   },
   {
    "duration": 36,
    "start_time": "2021-12-21T09:55:03.474Z"
   },
   {
    "duration": 13,
    "start_time": "2021-12-21T09:55:03.513Z"
   },
   {
    "duration": 61,
    "start_time": "2021-12-21T09:55:03.528Z"
   },
   {
    "duration": 16,
    "start_time": "2021-12-21T09:55:03.592Z"
   },
   {
    "duration": 71,
    "start_time": "2021-12-21T09:55:03.611Z"
   },
   {
    "duration": 13,
    "start_time": "2021-12-21T09:55:03.685Z"
   },
   {
    "duration": 31,
    "start_time": "2021-12-21T09:55:03.701Z"
   },
   {
    "duration": 17,
    "start_time": "2021-12-21T09:55:03.760Z"
   },
   {
    "duration": 26,
    "start_time": "2021-12-21T09:59:10.700Z"
   },
   {
    "duration": 24,
    "start_time": "2021-12-21T09:59:18.674Z"
   },
   {
    "duration": 23,
    "start_time": "2021-12-21T09:59:28.601Z"
   },
   {
    "duration": 10349,
    "start_time": "2021-12-21T10:00:09.095Z"
   },
   {
    "duration": 27,
    "start_time": "2021-12-21T10:00:22.820Z"
   },
   {
    "duration": 297,
    "start_time": "2021-12-21T10:33:48.730Z"
   },
   {
    "duration": 626,
    "start_time": "2021-12-21T10:36:24.895Z"
   },
   {
    "duration": 58,
    "start_time": "2021-12-21T10:36:25.523Z"
   },
   {
    "duration": 26,
    "start_time": "2021-12-21T10:36:25.584Z"
   },
   {
    "duration": 30,
    "start_time": "2021-12-21T10:36:25.612Z"
   },
   {
    "duration": 29,
    "start_time": "2021-12-21T10:36:25.645Z"
   },
   {
    "duration": 17,
    "start_time": "2021-12-21T10:36:25.676Z"
   },
   {
    "duration": 29,
    "start_time": "2021-12-21T10:36:25.695Z"
   },
   {
    "duration": 23,
    "start_time": "2021-12-21T10:36:25.727Z"
   },
   {
    "duration": 19,
    "start_time": "2021-12-21T10:36:25.753Z"
   },
   {
    "duration": 16,
    "start_time": "2021-12-21T10:36:25.774Z"
   },
   {
    "duration": 26,
    "start_time": "2021-12-21T10:36:25.792Z"
   },
   {
    "duration": 19,
    "start_time": "2021-12-21T10:36:25.819Z"
   },
   {
    "duration": 26,
    "start_time": "2021-12-21T10:36:25.840Z"
   },
   {
    "duration": 35,
    "start_time": "2021-12-21T10:36:25.868Z"
   },
   {
    "duration": 69,
    "start_time": "2021-12-21T10:36:25.905Z"
   },
   {
    "duration": 6,
    "start_time": "2021-12-21T10:36:25.975Z"
   },
   {
    "duration": 33,
    "start_time": "2021-12-21T10:36:25.983Z"
   },
   {
    "duration": 16,
    "start_time": "2021-12-21T10:36:26.018Z"
   },
   {
    "duration": 24,
    "start_time": "2021-12-21T10:36:26.036Z"
   },
   {
    "duration": 29,
    "start_time": "2021-12-21T10:36:26.062Z"
   },
   {
    "duration": 33,
    "start_time": "2021-12-21T10:36:26.093Z"
   },
   {
    "duration": 44,
    "start_time": "2021-12-21T10:36:26.128Z"
   },
   {
    "duration": 24,
    "start_time": "2021-12-21T10:36:26.176Z"
   },
   {
    "duration": 34,
    "start_time": "2021-12-21T10:36:26.203Z"
   },
   {
    "duration": 773,
    "start_time": "2021-12-21T10:36:26.240Z"
   },
   {
    "duration": 3,
    "start_time": "2021-12-21T10:36:27.016Z"
   },
   {
    "duration": 3465,
    "start_time": "2021-12-21T10:36:27.021Z"
   },
   {
    "duration": 6,
    "start_time": "2021-12-21T10:36:30.489Z"
   },
   {
    "duration": 66,
    "start_time": "2021-12-21T10:36:30.497Z"
   },
   {
    "duration": 15,
    "start_time": "2021-12-21T10:36:30.565Z"
   },
   {
    "duration": 19,
    "start_time": "2021-12-21T10:36:30.582Z"
   },
   {
    "duration": 35,
    "start_time": "2021-12-21T10:36:30.603Z"
   },
   {
    "duration": 57,
    "start_time": "2021-12-21T10:36:30.640Z"
   },
   {
    "duration": 13,
    "start_time": "2021-12-21T10:36:30.700Z"
   },
   {
    "duration": 49,
    "start_time": "2021-12-21T10:36:30.715Z"
   },
   {
    "duration": 34,
    "start_time": "2021-12-21T10:36:30.766Z"
   },
   {
    "duration": 667,
    "start_time": "2021-12-21T10:36:30.802Z"
   },
   {
    "duration": 30,
    "start_time": "2021-12-21T10:36:31.471Z"
   },
   {
    "duration": 11,
    "start_time": "2021-12-21T10:36:31.503Z"
   },
   {
    "duration": 47,
    "start_time": "2021-12-21T10:36:31.516Z"
   },
   {
    "duration": 18,
    "start_time": "2021-12-21T10:36:31.565Z"
   },
   {
    "duration": 47,
    "start_time": "2021-12-21T10:36:31.584Z"
   },
   {
    "duration": 4,
    "start_time": "2021-12-21T11:13:18.811Z"
   },
   {
    "duration": 3008,
    "start_time": "2021-12-21T13:05:44.598Z"
   },
   {
    "duration": 35,
    "start_time": "2021-12-21T13:52:27.999Z"
   },
   {
    "duration": 3,
    "start_time": "2021-12-21T13:53:57.532Z"
   },
   {
    "duration": 56,
    "start_time": "2021-12-21T13:53:57.537Z"
   },
   {
    "duration": 13,
    "start_time": "2021-12-21T13:53:57.595Z"
   },
   {
    "duration": 13,
    "start_time": "2021-12-21T13:53:57.610Z"
   },
   {
    "duration": 30,
    "start_time": "2021-12-21T13:53:57.641Z"
   },
   {
    "duration": 8,
    "start_time": "2021-12-21T13:53:57.673Z"
   },
   {
    "duration": 21,
    "start_time": "2021-12-21T13:53:57.683Z"
   },
   {
    "duration": 12,
    "start_time": "2021-12-21T13:53:57.706Z"
   },
   {
    "duration": 8,
    "start_time": "2021-12-21T13:53:57.720Z"
   },
   {
    "duration": 20,
    "start_time": "2021-12-21T13:53:57.730Z"
   },
   {
    "duration": 7,
    "start_time": "2021-12-21T13:53:57.752Z"
   },
   {
    "duration": 5,
    "start_time": "2021-12-21T13:53:57.761Z"
   },
   {
    "duration": 8,
    "start_time": "2021-12-21T13:53:57.767Z"
   },
   {
    "duration": 26,
    "start_time": "2021-12-21T13:53:57.777Z"
   },
   {
    "duration": 34,
    "start_time": "2021-12-21T13:53:57.804Z"
   },
   {
    "duration": 47,
    "start_time": "2021-12-21T13:53:57.840Z"
   },
   {
    "duration": 7,
    "start_time": "2021-12-21T13:53:57.889Z"
   },
   {
    "duration": 8,
    "start_time": "2021-12-21T13:53:57.898Z"
   },
   {
    "duration": 23,
    "start_time": "2021-12-21T13:53:57.908Z"
   },
   {
    "duration": 16,
    "start_time": "2021-12-21T13:53:57.933Z"
   },
   {
    "duration": 25,
    "start_time": "2021-12-21T13:53:57.950Z"
   },
   {
    "duration": 21,
    "start_time": "2021-12-21T13:53:57.977Z"
   },
   {
    "duration": 28,
    "start_time": "2021-12-21T13:53:58.000Z"
   },
   {
    "duration": 13,
    "start_time": "2021-12-21T13:53:58.029Z"
   },
   {
    "duration": 15,
    "start_time": "2021-12-21T13:53:58.043Z"
   },
   {
    "duration": 696,
    "start_time": "2021-12-21T13:53:58.060Z"
   },
   {
    "duration": 4,
    "start_time": "2021-12-21T13:53:58.760Z"
   },
   {
    "duration": 3107,
    "start_time": "2021-12-21T13:53:58.766Z"
   },
   {
    "duration": 4,
    "start_time": "2021-12-21T13:54:01.875Z"
   },
   {
    "duration": 29,
    "start_time": "2021-12-21T13:54:01.881Z"
   },
   {
    "duration": 28,
    "start_time": "2021-12-21T13:54:01.911Z"
   },
   {
    "duration": 26,
    "start_time": "2021-12-21T13:54:01.941Z"
   },
   {
    "duration": 26,
    "start_time": "2021-12-21T13:54:01.970Z"
   },
   {
    "duration": 35,
    "start_time": "2021-12-21T13:54:01.999Z"
   },
   {
    "duration": 14,
    "start_time": "2021-12-21T13:54:02.036Z"
   },
   {
    "duration": 37,
    "start_time": "2021-12-21T13:54:02.052Z"
   },
   {
    "duration": 20,
    "start_time": "2021-12-21T13:54:02.091Z"
   },
   {
    "duration": 25,
    "start_time": "2021-12-21T13:54:02.113Z"
   },
   {
    "duration": 24,
    "start_time": "2021-12-21T13:54:02.140Z"
   },
   {
    "duration": 11,
    "start_time": "2021-12-21T13:54:02.166Z"
   },
   {
    "duration": 31,
    "start_time": "2021-12-21T13:54:02.178Z"
   },
   {
    "duration": 31,
    "start_time": "2021-12-21T13:54:02.210Z"
   },
   {
    "duration": 45,
    "start_time": "2021-12-21T13:54:02.243Z"
   },
   {
    "duration": 19,
    "start_time": "2021-12-21T13:54:02.290Z"
   },
   {
    "duration": 766,
    "start_time": "2021-12-21T18:29:53.800Z"
   },
   {
    "duration": 60,
    "start_time": "2021-12-21T18:29:54.568Z"
   },
   {
    "duration": 30,
    "start_time": "2021-12-21T18:29:54.631Z"
   },
   {
    "duration": 26,
    "start_time": "2021-12-21T18:29:54.664Z"
   },
   {
    "duration": 58,
    "start_time": "2021-12-21T18:29:54.692Z"
   },
   {
    "duration": 12,
    "start_time": "2021-12-21T18:29:54.752Z"
   },
   {
    "duration": 6,
    "start_time": "2021-12-21T18:29:54.767Z"
   },
   {
    "duration": 15,
    "start_time": "2021-12-21T18:29:54.777Z"
   },
   {
    "duration": 34,
    "start_time": "2021-12-21T18:29:54.795Z"
   },
   {
    "duration": 10,
    "start_time": "2021-12-21T18:29:54.832Z"
   },
   {
    "duration": 15,
    "start_time": "2021-12-21T18:29:54.845Z"
   },
   {
    "duration": 15,
    "start_time": "2021-12-21T18:29:54.862Z"
   },
   {
    "duration": 8,
    "start_time": "2021-12-21T18:29:54.879Z"
   },
   {
    "duration": 42,
    "start_time": "2021-12-21T18:29:54.889Z"
   },
   {
    "duration": 23,
    "start_time": "2021-12-21T18:29:54.933Z"
   },
   {
    "duration": 69,
    "start_time": "2021-12-21T18:29:54.959Z"
   },
   {
    "duration": 7,
    "start_time": "2021-12-21T18:29:55.031Z"
   },
   {
    "duration": 6,
    "start_time": "2021-12-21T18:29:55.040Z"
   },
   {
    "duration": 14,
    "start_time": "2021-12-21T18:29:55.048Z"
   },
   {
    "duration": 5,
    "start_time": "2021-12-21T18:29:55.065Z"
   },
   {
    "duration": 60,
    "start_time": "2021-12-21T18:29:55.072Z"
   },
   {
    "duration": 7,
    "start_time": "2021-12-21T18:29:55.134Z"
   },
   {
    "duration": 22,
    "start_time": "2021-12-21T18:29:55.146Z"
   },
   {
    "duration": 9,
    "start_time": "2021-12-21T18:29:55.171Z"
   },
   {
    "duration": 47,
    "start_time": "2021-12-21T18:29:55.182Z"
   },
   {
    "duration": 893,
    "start_time": "2021-12-21T18:29:55.231Z"
   },
   {
    "duration": 4,
    "start_time": "2021-12-21T18:29:56.127Z"
   },
   {
    "duration": 3821,
    "start_time": "2021-12-21T18:29:56.133Z"
   },
   {
    "duration": 6,
    "start_time": "2021-12-21T18:29:59.957Z"
   },
   {
    "duration": 28,
    "start_time": "2021-12-21T18:29:59.966Z"
   },
   {
    "duration": 34,
    "start_time": "2021-12-21T18:29:59.996Z"
   },
   {
    "duration": 13,
    "start_time": "2021-12-21T18:30:00.033Z"
   },
   {
    "duration": 38,
    "start_time": "2021-12-21T18:30:00.048Z"
   },
   {
    "duration": 56,
    "start_time": "2021-12-21T18:30:00.088Z"
   },
   {
    "duration": 14,
    "start_time": "2021-12-21T18:30:00.147Z"
   },
   {
    "duration": 33,
    "start_time": "2021-12-21T18:30:00.163Z"
   },
   {
    "duration": 14,
    "start_time": "2021-12-21T18:30:00.222Z"
   },
   {
    "duration": 811,
    "start_time": "2021-12-21T18:30:00.239Z"
   },
   {
    "duration": 33,
    "start_time": "2021-12-21T18:30:01.053Z"
   },
   {
    "duration": 35,
    "start_time": "2021-12-21T18:30:01.088Z"
   },
   {
    "duration": 26,
    "start_time": "2021-12-21T18:30:01.126Z"
   },
   {
    "duration": 13,
    "start_time": "2021-12-21T18:30:01.155Z"
   },
   {
    "duration": 60,
    "start_time": "2021-12-21T18:30:01.170Z"
   },
   {
    "duration": 21,
    "start_time": "2021-12-21T18:30:01.232Z"
   },
   {
    "duration": 382,
    "start_time": "2021-12-22T12:53:55.578Z"
   },
   {
    "duration": 974,
    "start_time": "2021-12-22T12:53:58.512Z"
   },
   {
    "duration": 90,
    "start_time": "2021-12-22T12:53:59.490Z"
   },
   {
    "duration": 35,
    "start_time": "2021-12-22T12:53:59.584Z"
   },
   {
    "duration": 15,
    "start_time": "2021-12-22T12:53:59.621Z"
   },
   {
    "duration": 64,
    "start_time": "2021-12-22T12:53:59.638Z"
   },
   {
    "duration": 14,
    "start_time": "2021-12-22T12:53:59.705Z"
   },
   {
    "duration": 4,
    "start_time": "2021-12-22T12:53:59.721Z"
   },
   {
    "duration": 20,
    "start_time": "2021-12-22T12:53:59.729Z"
   },
   {
    "duration": 23,
    "start_time": "2021-12-22T12:53:59.753Z"
   },
   {
    "duration": 13,
    "start_time": "2021-12-22T12:53:59.778Z"
   },
   {
    "duration": 12,
    "start_time": "2021-12-22T12:53:59.794Z"
   },
   {
    "duration": 9,
    "start_time": "2021-12-22T12:53:59.808Z"
   },
   {
    "duration": 11,
    "start_time": "2021-12-22T12:53:59.819Z"
   },
   {
    "duration": 8,
    "start_time": "2021-12-22T12:53:59.833Z"
   },
   {
    "duration": 22,
    "start_time": "2021-12-22T12:53:59.844Z"
   },
   {
    "duration": 40,
    "start_time": "2021-12-22T12:53:59.868Z"
   },
   {
    "duration": 103,
    "start_time": "2021-12-22T12:53:59.911Z"
   },
   {
    "duration": 10,
    "start_time": "2021-12-22T12:54:00.017Z"
   },
   {
    "duration": 7,
    "start_time": "2021-12-22T12:54:00.030Z"
   },
   {
    "duration": 29,
    "start_time": "2021-12-22T12:54:00.040Z"
   },
   {
    "duration": 6,
    "start_time": "2021-12-22T12:54:00.072Z"
   },
   {
    "duration": 17,
    "start_time": "2021-12-22T12:54:00.081Z"
   },
   {
    "duration": 7,
    "start_time": "2021-12-22T12:54:00.105Z"
   },
   {
    "duration": 25,
    "start_time": "2021-12-22T12:54:00.115Z"
   },
   {
    "duration": 23,
    "start_time": "2021-12-22T12:54:00.142Z"
   },
   {
    "duration": 17,
    "start_time": "2021-12-22T12:54:00.168Z"
   },
   {
    "duration": 1524,
    "start_time": "2021-12-22T12:54:00.188Z"
   },
   {
    "duration": 5,
    "start_time": "2021-12-22T12:54:01.716Z"
   },
   {
    "duration": 5040,
    "start_time": "2021-12-22T12:54:01.724Z"
   },
   {
    "duration": 7,
    "start_time": "2021-12-22T12:54:06.768Z"
   },
   {
    "duration": 37,
    "start_time": "2021-12-22T12:54:06.778Z"
   },
   {
    "duration": 45,
    "start_time": "2021-12-22T12:54:06.818Z"
   },
   {
    "duration": 17,
    "start_time": "2021-12-22T12:54:06.865Z"
   },
   {
    "duration": 42,
    "start_time": "2021-12-22T12:54:06.885Z"
   },
   {
    "duration": 43,
    "start_time": "2021-12-22T12:54:06.958Z"
   },
   {
    "duration": 22,
    "start_time": "2021-12-22T12:54:07.004Z"
   },
   {
    "duration": 54,
    "start_time": "2021-12-22T12:54:07.029Z"
   },
   {
    "duration": 13,
    "start_time": "2021-12-22T12:54:07.085Z"
   },
   {
    "duration": 14179,
    "start_time": "2021-12-22T12:54:07.101Z"
   },
   {
    "duration": 36,
    "start_time": "2021-12-22T12:54:21.283Z"
   },
   {
    "duration": 39,
    "start_time": "2021-12-22T12:54:21.322Z"
   },
   {
    "duration": 35,
    "start_time": "2021-12-22T12:54:21.364Z"
   },
   {
    "duration": 15,
    "start_time": "2021-12-22T12:54:21.401Z"
   },
   {
    "duration": 64,
    "start_time": "2021-12-22T12:54:21.419Z"
   },
   {
    "duration": 18,
    "start_time": "2021-12-22T12:54:21.486Z"
   },
   {
    "duration": 13,
    "start_time": "2021-12-22T12:54:24.143Z"
   },
   {
    "duration": 92,
    "start_time": "2021-12-22T12:54:59.485Z"
   },
   {
    "duration": 10,
    "start_time": "2021-12-22T12:55:01.511Z"
   },
   {
    "duration": 16,
    "start_time": "2021-12-22T12:55:14.735Z"
   },
   {
    "duration": 15,
    "start_time": "2021-12-22T12:55:25.748Z"
   },
   {
    "duration": 15,
    "start_time": "2021-12-22T12:55:35.096Z"
   },
   {
    "duration": 19,
    "start_time": "2021-12-22T12:56:04.370Z"
   },
   {
    "duration": 559,
    "start_time": "2022-01-12T14:56:25.158Z"
   },
   {
    "duration": 402,
    "start_time": "2022-02-01T10:10:12.566Z"
   },
   {
    "duration": 798,
    "start_time": "2022-02-01T10:10:20.861Z"
   },
   {
    "duration": 62,
    "start_time": "2022-02-01T10:10:21.662Z"
   },
   {
    "duration": 41,
    "start_time": "2022-02-01T10:10:21.728Z"
   },
   {
    "duration": 21,
    "start_time": "2022-02-01T10:10:21.772Z"
   },
   {
    "duration": 74,
    "start_time": "2022-02-01T10:10:21.796Z"
   },
   {
    "duration": 12,
    "start_time": "2022-02-01T10:10:21.872Z"
   },
   {
    "duration": 13,
    "start_time": "2022-02-01T10:10:21.886Z"
   },
   {
    "duration": 22,
    "start_time": "2022-02-01T10:10:21.904Z"
   },
   {
    "duration": 45,
    "start_time": "2022-02-01T10:10:21.929Z"
   },
   {
    "duration": 13,
    "start_time": "2022-02-01T10:10:21.977Z"
   },
   {
    "duration": 23,
    "start_time": "2022-02-01T10:10:21.992Z"
   },
   {
    "duration": 33,
    "start_time": "2022-02-01T10:10:22.023Z"
   },
   {
    "duration": 10,
    "start_time": "2022-02-01T10:10:22.059Z"
   },
   {
    "duration": 5,
    "start_time": "2022-02-01T10:10:22.072Z"
   },
   {
    "duration": 7,
    "start_time": "2022-02-01T10:10:22.079Z"
   },
   {
    "duration": 39,
    "start_time": "2022-02-01T10:10:22.088Z"
   },
   {
    "duration": 40,
    "start_time": "2022-02-01T10:10:22.132Z"
   },
   {
    "duration": 87,
    "start_time": "2022-02-01T10:10:22.174Z"
   },
   {
    "duration": 7,
    "start_time": "2022-02-01T10:10:22.264Z"
   },
   {
    "duration": 5,
    "start_time": "2022-02-01T10:10:22.273Z"
   },
   {
    "duration": 15,
    "start_time": "2022-02-01T10:10:22.280Z"
   },
   {
    "duration": 12,
    "start_time": "2022-02-01T10:10:22.323Z"
   },
   {
    "duration": 25,
    "start_time": "2022-02-01T10:10:22.342Z"
   },
   {
    "duration": 6,
    "start_time": "2022-02-01T10:10:22.370Z"
   },
   {
    "duration": 66,
    "start_time": "2022-02-01T10:10:22.379Z"
   },
   {
    "duration": 14,
    "start_time": "2022-02-01T10:10:22.448Z"
   },
   {
    "duration": 14,
    "start_time": "2022-02-01T10:10:22.464Z"
   },
   {
    "duration": 7,
    "start_time": "2022-02-01T10:10:22.480Z"
   },
   {
    "duration": 1010,
    "start_time": "2022-02-01T10:10:22.490Z"
   },
   {
    "duration": 5,
    "start_time": "2022-02-01T10:10:23.503Z"
   },
   {
    "duration": 4679,
    "start_time": "2022-02-01T10:10:23.510Z"
   },
   {
    "duration": 7,
    "start_time": "2022-02-01T10:10:28.193Z"
   },
   {
    "duration": 70,
    "start_time": "2022-02-01T10:10:28.203Z"
   },
   {
    "duration": 9,
    "start_time": "2022-02-01T10:10:28.278Z"
   },
   {
    "duration": 12,
    "start_time": "2022-02-01T10:10:28.290Z"
   },
   {
    "duration": 71,
    "start_time": "2022-02-01T10:10:28.305Z"
   },
   {
    "duration": 29,
    "start_time": "2022-02-01T10:10:28.379Z"
   },
   {
    "duration": 24,
    "start_time": "2022-02-01T10:10:28.426Z"
   },
   {
    "duration": 32,
    "start_time": "2022-02-01T10:10:28.453Z"
   },
   {
    "duration": 36,
    "start_time": "2022-02-01T10:10:28.488Z"
   },
   {
    "duration": 942,
    "start_time": "2022-02-01T10:10:28.526Z"
   },
   {
    "duration": 36,
    "start_time": "2022-02-01T10:10:29.470Z"
   },
   {
    "duration": 42,
    "start_time": "2022-02-01T10:10:29.508Z"
   },
   {
    "duration": 27,
    "start_time": "2022-02-01T10:10:29.555Z"
   },
   {
    "duration": 13,
    "start_time": "2022-02-01T10:10:29.585Z"
   },
   {
    "duration": 46,
    "start_time": "2022-02-01T10:10:29.625Z"
   },
   {
    "duration": 19,
    "start_time": "2022-02-01T10:10:29.677Z"
   },
   {
    "duration": 8,
    "start_time": "2022-02-01T10:10:49.502Z"
   }
  ],
  "kernelspec": {
   "display_name": "Python 3 (ipykernel)",
   "language": "python",
   "name": "python3"
  },
  "language_info": {
   "codemirror_mode": {
    "name": "ipython",
    "version": 3
   },
   "file_extension": ".py",
   "mimetype": "text/x-python",
   "name": "python",
   "nbconvert_exporter": "python",
   "pygments_lexer": "ipython3",
   "version": "3.9.12"
  },
  "toc": {
   "base_numbering": 1,
   "nav_menu": {},
   "number_sections": true,
   "sideBar": true,
   "skip_h1_title": true,
   "title_cell": "Table of Contents",
   "title_sidebar": "Contents",
   "toc_cell": false,
   "toc_position": {},
   "toc_section_display": true,
   "toc_window_display": false
  }
 },
 "nbformat": 4,
 "nbformat_minor": 2
}
