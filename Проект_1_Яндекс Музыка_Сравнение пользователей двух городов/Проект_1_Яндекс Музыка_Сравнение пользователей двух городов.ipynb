{
 "cells": [
  {
   "cell_type": "markdown",
   "metadata": {},
   "source": [
    "# Яндекс.Музыка"
   ]
  },
  {
   "cell_type": "markdown",
   "metadata": {
    "id": "VUC88oWjTJw2"
   },
   "source": [
    "Сравнение Москвы и Петербурга окружено мифами. Например:\n",
    " * Москва — мегаполис, подчинённый жёсткому ритму рабочей недели;\n",
    " * Петербург — культурная столица, со своими вкусами.\n",
    "\n",
    "На данных Яндекс.Музыки мы сравним поведение пользователей двух столиц.\n",
    "\n",
    "**Цель исследования** — проверить три гипотезы:\n",
    "1. Активность пользователей зависит от дня недели. Причём в Москве и Петербурге это проявляется по-разному.\n",
    "2. В понедельник утром в Москве преобладают одни жанры, а в Петербурге — другие. Так же и вечером пятницы преобладают разные жанры — в зависимости от города. \n",
    "3. Москва и Петербург предпочитают разные жанры музыки. В Москве чаще слушают поп-музыку, в Петербурге — русский рэп.\n",
    "\n",
    "**Ход исследования**\n",
    "\n",
    "Данные о поведении пользователей получим из файла `yandex_music_project.csv`. О качестве данных ничего не известно. Поэтому перед проверкой гипотез понадобится обзор данных. \n",
    "\n",
    "Проверим данные на ошибки и оценим их влияние на исследование. Затем, на этапе предобработки поищем возможность исправить самые критичные ошибки данных.\n",
    " \n",
    "Таким образом, исследование пройдёт в три этапа:\n",
    " 1. Обзор данных.\n",
    " 2. Предобработка данных.\n",
    " 3. Проверка гипотез.\n",
    "\n"
   ]
  },
  {
   "cell_type": "markdown",
   "metadata": {
    "id": "Ml1hmfXC_Zcs"
   },
   "source": [
    "## Обзор данных\n",
    "\n",
    "Составим первое представление о данных Яндекс.Музыки.\n",
    "\n",
    "\n"
   ]
  },
  {
   "cell_type": "markdown",
   "metadata": {
    "id": "57eAOGIz_Zcs"
   },
   "source": [
    "Основной инструмент аналитика — `pandas`. Импортиртируем эту библиотеку."
   ]
  },
  {
   "cell_type": "code",
   "execution_count": 1,
   "metadata": {
    "id": "AXN7PHPN_Zcs"
   },
   "outputs": [],
   "source": [
    "# импорт библиотеки pandas\n",
    "import pandas as pd"
   ]
  },
  {
   "cell_type": "markdown",
   "metadata": {
    "id": "SG23P8tt_Zcs"
   },
   "source": [
    "Прочитаем файл `yandex_music_project.csv` из папки `/datasets` и сохраним его в переменной `df`:"
   ]
  },
  {
   "cell_type": "code",
   "execution_count": 2,
   "metadata": {
    "id": "fFVu7vqh_Zct"
   },
   "outputs": [],
   "source": [
    "# чтение файла с данными и сохранение в df\n",
    "df = pd.read_csv('/datasets/yandex_music_project.csv')"
   ]
  },
  {
   "cell_type": "markdown",
   "metadata": {
    "id": "rDoOMd3uTqnZ"
   },
   "source": [
    "Выведем на экран первые десять строк таблицы:"
   ]
  },
  {
   "cell_type": "code",
   "execution_count": 3,
   "metadata": {
    "id": "oWTVX3gW_Zct"
   },
   "outputs": [
    {
     "data": {
      "text/html": [
       "<div>\n",
       "<style scoped>\n",
       "    .dataframe tbody tr th:only-of-type {\n",
       "        vertical-align: middle;\n",
       "    }\n",
       "\n",
       "    .dataframe tbody tr th {\n",
       "        vertical-align: top;\n",
       "    }\n",
       "\n",
       "    .dataframe thead th {\n",
       "        text-align: right;\n",
       "    }\n",
       "</style>\n",
       "<table border=\"1\" class=\"dataframe\">\n",
       "  <thead>\n",
       "    <tr style=\"text-align: right;\">\n",
       "      <th></th>\n",
       "      <th>userID</th>\n",
       "      <th>Track</th>\n",
       "      <th>artist</th>\n",
       "      <th>genre</th>\n",
       "      <th>City</th>\n",
       "      <th>time</th>\n",
       "      <th>Day</th>\n",
       "    </tr>\n",
       "  </thead>\n",
       "  <tbody>\n",
       "    <tr>\n",
       "      <th>0</th>\n",
       "      <td>FFB692EC</td>\n",
       "      <td>Kamigata To Boots</td>\n",
       "      <td>The Mass Missile</td>\n",
       "      <td>rock</td>\n",
       "      <td>Saint-Petersburg</td>\n",
       "      <td>20:28:33</td>\n",
       "      <td>Wednesday</td>\n",
       "    </tr>\n",
       "    <tr>\n",
       "      <th>1</th>\n",
       "      <td>55204538</td>\n",
       "      <td>Delayed Because of Accident</td>\n",
       "      <td>Andreas Rönnberg</td>\n",
       "      <td>rock</td>\n",
       "      <td>Moscow</td>\n",
       "      <td>14:07:09</td>\n",
       "      <td>Friday</td>\n",
       "    </tr>\n",
       "    <tr>\n",
       "      <th>2</th>\n",
       "      <td>20EC38</td>\n",
       "      <td>Funiculì funiculà</td>\n",
       "      <td>Mario Lanza</td>\n",
       "      <td>pop</td>\n",
       "      <td>Saint-Petersburg</td>\n",
       "      <td>20:58:07</td>\n",
       "      <td>Wednesday</td>\n",
       "    </tr>\n",
       "    <tr>\n",
       "      <th>3</th>\n",
       "      <td>A3DD03C9</td>\n",
       "      <td>Dragons in the Sunset</td>\n",
       "      <td>Fire + Ice</td>\n",
       "      <td>folk</td>\n",
       "      <td>Saint-Petersburg</td>\n",
       "      <td>08:37:09</td>\n",
       "      <td>Monday</td>\n",
       "    </tr>\n",
       "    <tr>\n",
       "      <th>4</th>\n",
       "      <td>E2DC1FAE</td>\n",
       "      <td>Soul People</td>\n",
       "      <td>Space Echo</td>\n",
       "      <td>dance</td>\n",
       "      <td>Moscow</td>\n",
       "      <td>08:34:34</td>\n",
       "      <td>Monday</td>\n",
       "    </tr>\n",
       "    <tr>\n",
       "      <th>5</th>\n",
       "      <td>842029A1</td>\n",
       "      <td>Преданная</td>\n",
       "      <td>IMPERVTOR</td>\n",
       "      <td>rusrap</td>\n",
       "      <td>Saint-Petersburg</td>\n",
       "      <td>13:09:41</td>\n",
       "      <td>Friday</td>\n",
       "    </tr>\n",
       "    <tr>\n",
       "      <th>6</th>\n",
       "      <td>4CB90AA5</td>\n",
       "      <td>True</td>\n",
       "      <td>Roman Messer</td>\n",
       "      <td>dance</td>\n",
       "      <td>Moscow</td>\n",
       "      <td>13:00:07</td>\n",
       "      <td>Wednesday</td>\n",
       "    </tr>\n",
       "    <tr>\n",
       "      <th>7</th>\n",
       "      <td>F03E1C1F</td>\n",
       "      <td>Feeling This Way</td>\n",
       "      <td>Polina Griffith</td>\n",
       "      <td>dance</td>\n",
       "      <td>Moscow</td>\n",
       "      <td>20:47:49</td>\n",
       "      <td>Wednesday</td>\n",
       "    </tr>\n",
       "    <tr>\n",
       "      <th>8</th>\n",
       "      <td>8FA1D3BE</td>\n",
       "      <td>И вновь продолжается бой</td>\n",
       "      <td>NaN</td>\n",
       "      <td>ruspop</td>\n",
       "      <td>Moscow</td>\n",
       "      <td>09:17:40</td>\n",
       "      <td>Friday</td>\n",
       "    </tr>\n",
       "    <tr>\n",
       "      <th>9</th>\n",
       "      <td>E772D5C0</td>\n",
       "      <td>Pessimist</td>\n",
       "      <td>NaN</td>\n",
       "      <td>dance</td>\n",
       "      <td>Saint-Petersburg</td>\n",
       "      <td>21:20:49</td>\n",
       "      <td>Wednesday</td>\n",
       "    </tr>\n",
       "  </tbody>\n",
       "</table>\n",
       "</div>"
      ],
      "text/plain": [
       "     userID                        Track            artist   genre  \\\n",
       "0  FFB692EC            Kamigata To Boots  The Mass Missile    rock   \n",
       "1  55204538  Delayed Because of Accident  Andreas Rönnberg    rock   \n",
       "2    20EC38            Funiculì funiculà       Mario Lanza     pop   \n",
       "3  A3DD03C9        Dragons in the Sunset        Fire + Ice    folk   \n",
       "4  E2DC1FAE                  Soul People        Space Echo   dance   \n",
       "5  842029A1                    Преданная         IMPERVTOR  rusrap   \n",
       "6  4CB90AA5                         True      Roman Messer   dance   \n",
       "7  F03E1C1F             Feeling This Way   Polina Griffith   dance   \n",
       "8  8FA1D3BE     И вновь продолжается бой               NaN  ruspop   \n",
       "9  E772D5C0                    Pessimist               NaN   dance   \n",
       "\n",
       "             City        time        Day  \n",
       "0  Saint-Petersburg  20:28:33  Wednesday  \n",
       "1            Moscow  14:07:09     Friday  \n",
       "2  Saint-Petersburg  20:58:07  Wednesday  \n",
       "3  Saint-Petersburg  08:37:09     Monday  \n",
       "4            Moscow  08:34:34     Monday  \n",
       "5  Saint-Petersburg  13:09:41     Friday  \n",
       "6            Moscow  13:00:07  Wednesday  \n",
       "7            Moscow  20:47:49  Wednesday  \n",
       "8            Moscow  09:17:40     Friday  \n",
       "9  Saint-Petersburg  21:20:49  Wednesday  "
      ]
     },
     "metadata": {},
     "output_type": "display_data"
    }
   ],
   "source": [
    "# получение первых 10 строк таблицы df\n",
    "display(df.head(10))"
   ]
  },
  {
   "cell_type": "markdown",
   "metadata": {
    "id": "EO73Kwic_Zct"
   },
   "source": [
    "Одной командой получим общую информацию о таблице:"
   ]
  },
  {
   "cell_type": "code",
   "execution_count": 4,
   "metadata": {
    "id": "DSf2kIb-_Zct"
   },
   "outputs": [
    {
     "name": "stdout",
     "output_type": "stream",
     "text": [
      "<class 'pandas.core.frame.DataFrame'>\n",
      "RangeIndex: 65079 entries, 0 to 65078\n",
      "Data columns (total 7 columns):\n",
      " #   Column    Non-Null Count  Dtype \n",
      "---  ------    --------------  ----- \n",
      " 0     userID  65079 non-null  object\n",
      " 1   Track     63848 non-null  object\n",
      " 2   artist    57876 non-null  object\n",
      " 3   genre     63881 non-null  object\n",
      " 4     City    65079 non-null  object\n",
      " 5   time      65079 non-null  object\n",
      " 6   Day       65079 non-null  object\n",
      "dtypes: object(7)\n",
      "memory usage: 3.5+ MB\n"
     ]
    }
   ],
   "source": [
    "# получение общей информации о данных в таблице df\n",
    "df.info()"
   ]
  },
  {
   "cell_type": "markdown",
   "metadata": {
    "id": "TaQ2Iwbr_Zct"
   },
   "source": [
    "Итак, в таблице семь столбцов. Тип данных во всех столбцах — `object`.\n",
    "\n",
    "Согласно документации к данным:\n",
    "* `userID` — идентификатор пользователя;\n",
    "* `Track` — название трека;  \n",
    "* `artist` — имя исполнителя;\n",
    "* `genre` — название жанра;\n",
    "* `City` — город пользователя;\n",
    "* `time` — время начала прослушивания;\n",
    "* `Day` — день недели.\n",
    "\n",
    "В названиях колонок видны три нарушения стиля:\n",
    "1. Строчные буквы сочетаются с прописными.\n",
    "2. Встречаются пробелы.\n",
    "3. Названия оформлены неточно, отсутствует \"змеиный_регистр\".\n",
    "\n",
    "\n",
    "\n",
    "Количество значений в столбцах различается. Значит, в данных есть пропущенные значения.\n"
   ]
  },
  {
   "cell_type": "markdown",
   "metadata": {
    "id": "MCB6-dXG_Zct"
   },
   "source": [
    "**Выводы**\n",
    "\n",
    "В каждой строке таблицы — данные о прослушанном треке. Часть колонок описывает саму композицию: название, исполнителя и жанр. Остальные данные рассказывают о пользователе: из какого он города, когда он слушал музыку. \n",
    "\n",
    "Предварительно можно утверждать, что, данных достаточно для проверки гипотез. Но встречаются пропуски в данных, а в названиях колонок — расхождения с хорошим стилем.\n",
    "\n",
    "Чтобы двигаться дальше, нужно устранить проблемы в данных."
   ]
  },
  {
   "cell_type": "markdown",
   "metadata": {
    "id": "SjYF6Ub9_Zct"
   },
   "source": [
    "## Предобработка данных\n",
    "Исправим стиль в заголовках столбцов, исключим пропуски. Затем проверим данные на дубликаты."
   ]
  },
  {
   "cell_type": "markdown",
   "metadata": {
    "id": "dIaKXr29_Zct"
   },
   "source": [
    "### Стиль заголовков\n",
    "Выведем на экран названия столбцов:"
   ]
  },
  {
   "cell_type": "code",
   "execution_count": 5,
   "metadata": {
    "id": "oKOTdF_Q_Zct"
   },
   "outputs": [
    {
     "name": "stdout",
     "output_type": "stream",
     "text": [
      "Index(['  userID', 'Track', 'artist', 'genre', '  City  ', 'time', 'Day'], dtype='object')\n"
     ]
    }
   ],
   "source": [
    "# перечень названий столбцов таблицы df\n",
    "print(df.columns)"
   ]
  },
  {
   "cell_type": "markdown",
   "metadata": {
    "id": "zj5534cv_Zct"
   },
   "source": [
    "Приведём названия в соответствие с хорошим стилем:\n",
    "* несколько слов в названии запишите в «змеином_регистре»,\n",
    "* все символы сделайте строчными,\n",
    "* устраните пробелы.\n",
    "\n",
    "Для этого переименуем колонки так:\n",
    "* `'  userID'` → `'user_id'`;\n",
    "* `'Track'` → `'track'`;\n",
    "* `'  City  '` → `'city'`;\n",
    "* `'Day'` → `'day'`."
   ]
  },
  {
   "cell_type": "code",
   "execution_count": 6,
   "metadata": {
    "id": "ISlFqs5y_Zct"
   },
   "outputs": [],
   "source": [
    "# переименование столбцов\n",
    "df = df.rename(\n",
    "    columns = {'  userID': 'user_id', \n",
    "               'Track': 'track', 'artist': 'artist_name', 'genre': 'genre_name', '  City  ': 'city', 'Day': 'day'})"
   ]
  },
  {
   "cell_type": "markdown",
   "metadata": {
    "id": "1dqbh00J_Zct"
   },
   "source": [
    "Проверим результат. Для этого ещё раз выведем на экран названия столбцов:"
   ]
  },
  {
   "cell_type": "code",
   "execution_count": 7,
   "metadata": {
    "id": "d4NOAmTW_Zct"
   },
   "outputs": [
    {
     "name": "stdout",
     "output_type": "stream",
     "text": [
      "Index(['user_id', 'track', 'artist_name', 'genre_name', 'city', 'time', 'day'], dtype='object')\n"
     ]
    }
   ],
   "source": [
    "# проверка результатов - перечень названий столбцов\n",
    "print(df.columns)"
   ]
  },
  {
   "cell_type": "markdown",
   "metadata": {
    "id": "5ISfbcfY_Zct"
   },
   "source": [
    "### Пропуски значений\n",
    "Сначала посчитаем, сколько в таблице пропущенных значений. Для этого достаточно двух методов `pandas`: `isna()` и `sum()`."
   ]
  },
  {
   "cell_type": "code",
   "execution_count": 8,
   "metadata": {
    "id": "RskX29qr_Zct"
   },
   "outputs": [
    {
     "name": "stdout",
     "output_type": "stream",
     "text": [
      "user_id           0\n",
      "track          1231\n",
      "artist_name    7203\n",
      "genre_name     1198\n",
      "city              0\n",
      "time              0\n",
      "day               0\n",
      "dtype: int64\n"
     ]
    }
   ],
   "source": [
    "# подсчёт пропусков\n",
    "print(df.isna().sum())"
   ]
  },
  {
   "cell_type": "markdown",
   "metadata": {
    "id": "qubhgnlO_Zct"
   },
   "source": [
    "Не все пропущенные значения влияют на исследование. Так в `track` и `artist_name` пропуски не важны для вашей работы. Достаточно заменить их явными обозначениями.\n",
    "\n",
    "Но пропуски в `genre_name` могут помешать сравнению музыкальных вкусов в Москве и Санкт-Петербурге. На практике было бы правильно установить причину пропусков и восстановить данные. Такой возможности нет в учебном проекте. Придётся:\n",
    "* заполнить и эти пропуски явными обозначениями,\n",
    "* оценить, насколько они повредят расчётам. "
   ]
  },
  {
   "cell_type": "markdown",
   "metadata": {
    "id": "fSv2laPA_Zct"
   },
   "source": [
    "Заменим пропущенные значения в столбцах `track`, `artist_name` и `genre_name` на строку `'unknown'`. Для этого создадим список `columns_to_replace`, переберём его элементы циклом `for` и для каждого столбца выполним замену пропущенных значений:"
   ]
  },
  {
   "cell_type": "code",
   "execution_count": 9,
   "metadata": {
    "id": "KplB5qWs_Zct"
   },
   "outputs": [],
   "source": [
    "# перебор названий столбцов в цикле и замена пропущенных значений на 'unknown'\n",
    "columns_to_replace = ['track', 'artist_name', 'genre_name']\n",
    "\n",
    "for column in columns_to_replace:\n",
    "    df[column] = df[column].fillna('unknown')"
   ]
  },
  {
   "cell_type": "markdown",
   "metadata": {
    "id": "Ilsm-MZo_Zct"
   },
   "source": [
    "Убедимся, что в таблице не осталось пропусков. Для этого ещё раз посчитаем пропущенные значения."
   ]
  },
  {
   "cell_type": "code",
   "execution_count": 10,
   "metadata": {
    "id": "Tq4nYRX4_Zct"
   },
   "outputs": [
    {
     "name": "stdout",
     "output_type": "stream",
     "text": [
      "user_id        0\n",
      "track          0\n",
      "artist_name    0\n",
      "genre_name     0\n",
      "city           0\n",
      "time           0\n",
      "day            0\n",
      "dtype: int64\n"
     ]
    }
   ],
   "source": [
    "# подсчёт пропусков\n",
    "print(df.isna().sum())"
   ]
  },
  {
   "cell_type": "markdown",
   "metadata": {
    "id": "BWKRtBJ3_Zct"
   },
   "source": [
    "### Дубликаты\n",
    "Посчитаем явные дубликаты в таблице одной командой:"
   ]
  },
  {
   "cell_type": "code",
   "execution_count": 11,
   "metadata": {
    "id": "36eES_S0_Zct"
   },
   "outputs": [
    {
     "name": "stdout",
     "output_type": "stream",
     "text": [
      "3826\n"
     ]
    }
   ],
   "source": [
    "# подсчёт явных дубликатов\n",
    "print(df.duplicated().sum())"
   ]
  },
  {
   "cell_type": "markdown",
   "metadata": {
    "id": "Ot25h6XR_Zct"
   },
   "source": [
    "Вызовите специальный метод `pandas`, чтобы удалить явные дубликаты:"
   ]
  },
  {
   "cell_type": "code",
   "execution_count": 12,
   "metadata": {
    "id": "exFHq6tt_Zct"
   },
   "outputs": [],
   "source": [
    "# удаление явных дубликатов (с удалением старых индексов и формированием новых)\n",
    "df = df.drop_duplicates().reset_index(drop = True)"
   ]
  },
  {
   "cell_type": "markdown",
   "metadata": {
    "id": "Im2YwBEG_Zct"
   },
   "source": [
    "Ещё раз посчитаем явные дубликаты в таблице — убедимся, что полностью от них избавились:"
   ]
  },
  {
   "cell_type": "code",
   "execution_count": 13,
   "metadata": {
    "id": "-8PuNWQ0_Zct"
   },
   "outputs": [
    {
     "name": "stdout",
     "output_type": "stream",
     "text": [
      "0\n"
     ]
    }
   ],
   "source": [
    "# проверка на отсутствие дубликатов\n",
    "print(df.duplicated().sum())"
   ]
  },
  {
   "cell_type": "markdown",
   "metadata": {
    "id": "QlFBsxAr_Zct"
   },
   "source": [
    "Теперь избавимся от неявных дубликатов в колонке `genre_name`. Например, название одного и того же жанра может быть записано немного по-разному. Такие ошибки тоже повлияют на результат исследования."
   ]
  },
  {
   "cell_type": "markdown",
   "metadata": {
    "id": "eSjWwsOh_Zct"
   },
   "source": [
    "Выведем на экран список уникальных названий жанров, отсортированный в алфавитном порядке. Для этого:\n",
    "* извлечём нужный столбец датафрейма, \n",
    "* применим к нему метод сортировки,\n",
    "* для отсортированного столбца вызовем метод, который вернёт уникальные значения из столбца."
   ]
  },
  {
   "cell_type": "code",
   "execution_count": 14,
   "metadata": {
    "id": "JIUcqzZN_Zct",
    "scrolled": true
   },
   "outputs": [
    {
     "name": "stdout",
     "output_type": "stream",
     "text": [
      "['acid', 'acoustic', 'action', 'adult', 'africa', 'afrikaans', 'alternative', 'alternativepunk', 'ambient', 'americana', 'animated', 'anime', 'arabesk', 'arabic', 'arena', 'argentinetango', 'art', 'audiobook', 'author', 'avantgarde', 'axé', 'baile', 'balkan', 'beats', 'bigroom', 'black', 'bluegrass', 'blues', 'bollywood', 'bossa', 'brazilian', 'breakbeat', 'breaks', 'broadway', 'cantautori', 'cantopop', 'canzone', 'caribbean', 'caucasian', 'celtic', 'chamber', 'chanson', 'children', 'chill', 'chinese', 'choral', 'christian', 'christmas', 'classical', 'classicmetal', 'club', 'colombian', 'comedy', 'conjazz', 'contemporary', 'country', 'cuban', 'dance', 'dancehall', 'dancepop', 'dark', 'death', 'deep', 'deutschrock', 'deutschspr', 'dirty', 'disco', 'dnb', 'documentary', 'downbeat', 'downtempo', 'drum', 'dub', 'dubstep', 'eastern', 'easy', 'electronic', 'electropop', 'emo', 'entehno', 'epicmetal', 'estrada', 'ethnic', 'eurofolk', 'european', 'experimental', 'extrememetal', 'fado', 'fairytail', 'film', 'fitness', 'flamenco', 'folk', 'folklore', 'folkmetal', 'folkrock', 'folktronica', 'forró', 'frankreich', 'französisch', 'french', 'funk', 'future', 'gangsta', 'garage', 'german', 'ghazal', 'gitarre', 'glitch', 'gospel', 'gothic', 'grime', 'grunge', 'gypsy', 'handsup', \"hard'n'heavy\", 'hardcore', 'hardstyle', 'hardtechno', 'hip', 'hip-hop', 'hiphop', 'historisch', 'holiday', 'hop', 'horror', 'house', 'hymn', 'idm', 'independent', 'indian', 'indie', 'indipop', 'industrial', 'inspirational', 'instrumental', 'international', 'irish', 'jam', 'japanese', 'jazz', 'jewish', 'jpop', 'jungle', 'k-pop', 'karadeniz', 'karaoke', 'kayokyoku', 'korean', 'laiko', 'latin', 'latino', 'leftfield', 'local', 'lounge', 'loungeelectronic', 'lovers', 'malaysian', 'mandopop', 'marschmusik', 'meditative', 'mediterranean', 'melodic', 'metal', 'metalcore', 'mexican', 'middle', 'minimal', 'miscellaneous', 'modern', 'mood', 'mpb', 'muslim', 'native', 'neoklassik', 'neue', 'new', 'newage', 'newwave', 'nu', 'nujazz', 'numetal', 'oceania', 'old', 'opera', 'orchestral', 'other', 'piano', 'podcasts', 'pop', 'popdance', 'popelectronic', 'popeurodance', 'poprussian', 'post', 'posthardcore', 'postrock', 'power', 'progmetal', 'progressive', 'psychedelic', 'punjabi', 'punk', 'quebecois', 'ragga', 'ram', 'rancheras', 'rap', 'rave', 'reggae', 'reggaeton', 'regional', 'relax', 'religious', 'retro', 'rhythm', 'rnb', 'rnr', 'rock', 'rockabilly', 'rockalternative', 'rockindie', 'rockother', 'romance', 'roots', 'ruspop', 'rusrap', 'rusrock', 'russian', 'salsa', 'samba', 'scenic', 'schlager', 'self', 'sertanejo', 'shanson', 'shoegazing', 'showtunes', 'singer', 'ska', 'skarock', 'slow', 'smooth', 'soft', 'soul', 'soulful', 'sound', 'soundtrack', 'southern', 'specialty', 'speech', 'spiritual', 'sport', 'stonerrock', 'surf', 'swing', 'synthpop', 'synthrock', 'sängerportrait', 'tango', 'tanzorchester', 'taraftar', 'tatar', 'tech', 'techno', 'teen', 'thrash', 'top', 'traditional', 'tradjazz', 'trance', 'tribal', 'trip', 'triphop', 'tropical', 'türk', 'türkçe', 'ukrrock', 'unknown', 'urban', 'uzbek', 'variété', 'vi', 'videogame', 'vocal', 'western', 'world', 'worldbeat', 'ïîï', 'электроника']\n"
     ]
    }
   ],
   "source": [
    "# Просмотр уникальных названий жанров\n",
    "print(sorted(df['genre_name'].unique()))"
   ]
  },
  {
   "cell_type": "markdown",
   "metadata": {
    "id": "qej-Qmuo_Zct"
   },
   "source": [
    "Просмотрим список и найдём неявные дубликаты названия `hiphop`. Это могут быть названия с ошибками или альтернативные названия того же жанра.\n",
    "\n",
    "Мы увидем следующие неявные дубликаты:\n",
    "* *hip*,\n",
    "* *hop*,\n",
    "* *hip-hop*.\n",
    "\n",
    "Также просмотрим список и найдём неявные дубликаты названий `electronic` и `latino`. \n",
    "\n",
    "Это будут дубликаты:\n",
    "* *электроника*,\n",
    "* *latin*.\n",
    "\n",
    "Чтобы очистить от них таблицу, напишем функцию `replace_wrong_genres()` с двумя параметрами: \n",
    "* `wrong_genres` — список дубликатов,\n",
    "* `correct_genre` — строка с правильным значением.\n",
    "\n",
    "Функция должна исправить колонку `genre_name` в таблице `df`: заменить каждое значение из списка `wrong_genres` на значение из `correct_genre`."
   ]
  },
  {
   "cell_type": "code",
   "execution_count": 15,
   "metadata": {
    "id": "ErNDkmns_Zct"
   },
   "outputs": [],
   "source": [
    "# Функция для замены неявных дубликатов\n",
    "def replace_wrong_genres(wrong_genres, correct_genre):\n",
    "    for wrong_genre in wrong_genres:\n",
    "        df['genre_name'] = df['genre_name'].replace(wrong_genres, correct_genre)"
   ]
  },
  {
   "cell_type": "markdown",
   "metadata": {
    "id": "aDoBJxbA_Zct"
   },
   "source": [
    "Вызовем `replace_wrong_genres()` и передадим ей такие аргументы, чтобы она устранила неявные дубликаты: вместо `hip`, `hop` и `hip-hop` в таблице должно быть значение `hiphop`:"
   ]
  },
  {
   "cell_type": "code",
   "execution_count": 16,
   "metadata": {
    "id": "YN5i2hpmSo09"
   },
   "outputs": [],
   "source": [
    "# Устранение неявных дубликатов\n",
    "replace_wrong_genres(['hip', 'hop', 'hip-hop'], 'hiphop')\n",
    "replace_wrong_genres('электроника', 'electronic')\n",
    "replace_wrong_genres('latin', 'latino')"
   ]
  },
  {
   "cell_type": "markdown",
   "metadata": {
    "id": "zQKF16_RG15m"
   },
   "source": [
    "Проверим, что заменили неправильные названия:\n",
    "\n",
    "*   hip\n",
    "*   hop\n",
    "*   hip-hop\n",
    "\n",
    "Выведем отсортированный список уникальных значений столбца `genre_name`:"
   ]
  },
  {
   "cell_type": "code",
   "execution_count": 17,
   "metadata": {
    "id": "wvixALnFG15m",
    "scrolled": true
   },
   "outputs": [
    {
     "name": "stdout",
     "output_type": "stream",
     "text": [
      "['acid', 'acoustic', 'action', 'adult', 'africa', 'afrikaans', 'alternative', 'alternativepunk', 'ambient', 'americana', 'animated', 'anime', 'arabesk', 'arabic', 'arena', 'argentinetango', 'art', 'audiobook', 'author', 'avantgarde', 'axé', 'baile', 'balkan', 'beats', 'bigroom', 'black', 'bluegrass', 'blues', 'bollywood', 'bossa', 'brazilian', 'breakbeat', 'breaks', 'broadway', 'cantautori', 'cantopop', 'canzone', 'caribbean', 'caucasian', 'celtic', 'chamber', 'chanson', 'children', 'chill', 'chinese', 'choral', 'christian', 'christmas', 'classical', 'classicmetal', 'club', 'colombian', 'comedy', 'conjazz', 'contemporary', 'country', 'cuban', 'dance', 'dancehall', 'dancepop', 'dark', 'death', 'deep', 'deutschrock', 'deutschspr', 'dirty', 'disco', 'dnb', 'documentary', 'downbeat', 'downtempo', 'drum', 'dub', 'dubstep', 'eastern', 'easy', 'electronic', 'electropop', 'emo', 'entehno', 'epicmetal', 'estrada', 'ethnic', 'eurofolk', 'european', 'experimental', 'extrememetal', 'fado', 'fairytail', 'film', 'fitness', 'flamenco', 'folk', 'folklore', 'folkmetal', 'folkrock', 'folktronica', 'forró', 'frankreich', 'französisch', 'french', 'funk', 'future', 'gangsta', 'garage', 'german', 'ghazal', 'gitarre', 'glitch', 'gospel', 'gothic', 'grime', 'grunge', 'gypsy', 'handsup', \"hard'n'heavy\", 'hardcore', 'hardstyle', 'hardtechno', 'hiphop', 'historisch', 'holiday', 'horror', 'house', 'hymn', 'idm', 'independent', 'indian', 'indie', 'indipop', 'industrial', 'inspirational', 'instrumental', 'international', 'irish', 'jam', 'japanese', 'jazz', 'jewish', 'jpop', 'jungle', 'k-pop', 'karadeniz', 'karaoke', 'kayokyoku', 'korean', 'laiko', 'latino', 'leftfield', 'local', 'lounge', 'loungeelectronic', 'lovers', 'malaysian', 'mandopop', 'marschmusik', 'meditative', 'mediterranean', 'melodic', 'metal', 'metalcore', 'mexican', 'middle', 'minimal', 'miscellaneous', 'modern', 'mood', 'mpb', 'muslim', 'native', 'neoklassik', 'neue', 'new', 'newage', 'newwave', 'nu', 'nujazz', 'numetal', 'oceania', 'old', 'opera', 'orchestral', 'other', 'piano', 'podcasts', 'pop', 'popdance', 'popelectronic', 'popeurodance', 'poprussian', 'post', 'posthardcore', 'postrock', 'power', 'progmetal', 'progressive', 'psychedelic', 'punjabi', 'punk', 'quebecois', 'ragga', 'ram', 'rancheras', 'rap', 'rave', 'reggae', 'reggaeton', 'regional', 'relax', 'religious', 'retro', 'rhythm', 'rnb', 'rnr', 'rock', 'rockabilly', 'rockalternative', 'rockindie', 'rockother', 'romance', 'roots', 'ruspop', 'rusrap', 'rusrock', 'russian', 'salsa', 'samba', 'scenic', 'schlager', 'self', 'sertanejo', 'shanson', 'shoegazing', 'showtunes', 'singer', 'ska', 'skarock', 'slow', 'smooth', 'soft', 'soul', 'soulful', 'sound', 'soundtrack', 'southern', 'specialty', 'speech', 'spiritual', 'sport', 'stonerrock', 'surf', 'swing', 'synthpop', 'synthrock', 'sängerportrait', 'tango', 'tanzorchester', 'taraftar', 'tatar', 'tech', 'techno', 'teen', 'thrash', 'top', 'traditional', 'tradjazz', 'trance', 'tribal', 'trip', 'triphop', 'tropical', 'türk', 'türkçe', 'ukrrock', 'unknown', 'urban', 'uzbek', 'variété', 'vi', 'videogame', 'vocal', 'western', 'world', 'worldbeat', 'ïîï']\n"
     ]
    }
   ],
   "source": [
    "# Проверка на неявные дубликаты\n",
    "print(sorted(df['genre_name'].unique()))"
   ]
  },
  {
   "cell_type": "markdown",
   "metadata": {
    "id": "jz6a9-7HQUDd"
   },
   "source": [
    "**Выводы**\n",
    "\n",
    "Предобработка обнаружила три проблемы в данных:\n",
    "\n",
    "- нарушения в стиле заголовков,\n",
    "- пропущенные значения,\n",
    "- дубликаты — явные и неявные.\n",
    "\n",
    "Мы исправили заголовки, чтобы упростить работу с таблицей. Без дубликатов исследование станет более точным.\n",
    "\n",
    "Пропущенные значения мы заменили на `'unknown'`. Ещё предстоит увидеть, не повредят ли исследованию пропуски в колонке `genre_name`.\n",
    "\n",
    "Теперь можно перейти к проверке гипотез. "
   ]
  },
  {
   "cell_type": "markdown",
   "metadata": {
    "id": "WttZHXH0SqKk"
   },
   "source": [
    "## Проверка гипотез"
   ]
  },
  {
   "cell_type": "markdown",
   "metadata": {
    "id": "Im936VVi_Zcu"
   },
   "source": [
    "### Сравнение поведения пользователей двух столиц"
   ]
  },
  {
   "cell_type": "markdown",
   "metadata": {
    "id": "nwt_MuaL_Zcu"
   },
   "source": [
    "Первая гипотеза утверждает, что пользователи по-разному слушают музыку в Москве и Санкт-Петербурге. Проверим это предположение по данным о трёх днях недели — понедельнике, среде и пятнице. Для этого:\n",
    "\n",
    "* Разделим пользователей Москвы и Санкт-Петербурга\n",
    "* Сравним, сколько треков послушала каждая группа пользователей в понедельник, среду и пятницу.\n"
   ]
  },
  {
   "cell_type": "markdown",
   "metadata": {
    "id": "8Dw_YMmT_Zcu"
   },
   "source": [
    "Для тренировки сначала выполним каждый из расчётов по отдельности. \n",
    "\n",
    "Оценим активность пользователей в каждом городе. Сгруппируем данные по городу и посчитаем прослушивания в каждой группе.\n",
    "\n"
   ]
  },
  {
   "cell_type": "code",
   "execution_count": 18,
   "metadata": {
    "id": "0_Qs96oh_Zcu"
   },
   "outputs": [
    {
     "data": {
      "text/plain": [
       "city\n",
       "Moscow              42741\n",
       "Saint-Petersburg    18512\n",
       "Name: genre_name, dtype: int64"
      ]
     },
     "execution_count": 18,
     "metadata": {},
     "output_type": "execute_result"
    }
   ],
   "source": [
    "# Подсчёт прослушиваний в каждом городе\n",
    "df.groupby('city')['genre_name'].count()"
   ]
  },
  {
   "cell_type": "markdown",
   "metadata": {
    "id": "dzli3w8o_Zcu"
   },
   "source": [
    "В Москве прослушиваний больше, чем в Петербурге. Из этого не следует, что московские пользователи чаще слушают музыку. Просто самих пользователей в Москве больше.\n",
    "\n",
    "Теперь сгруппируем данные по дню недели и подсчитаем прослушивания в понедельник, среду и пятницу. Учтём, что в данных есть информация о прослушиваниях только за эти дни.\n"
   ]
  },
  {
   "cell_type": "code",
   "execution_count": 19,
   "metadata": {
    "id": "uZMKjiJz_Zcu"
   },
   "outputs": [
    {
     "data": {
      "text/plain": [
       "day\n",
       "Friday       21840\n",
       "Monday       21354\n",
       "Wednesday    18059\n",
       "Name: genre_name, dtype: int64"
      ]
     },
     "execution_count": 19,
     "metadata": {},
     "output_type": "execute_result"
    }
   ],
   "source": [
    "# Подсчёт прослушиваний в каждый из трёх дней\n",
    "df.groupby('day')['genre_name'].count()"
   ]
  },
  {
   "cell_type": "markdown",
   "metadata": {
    "id": "cC2tNrlL_Zcu"
   },
   "source": [
    "В среднем пользователи из двух городов менее активны по средам. Но картина может измениться, если рассмотреть каждый город в отдельности."
   ]
  },
  {
   "cell_type": "markdown",
   "metadata": {
    "id": "POzs8bGa_Zcu"
   },
   "source": [
    "Мы видели, как работает группировка по городу и по дням недели. Теперь напишем функцию, которая объединит два эти расчёта.\n",
    "\n",
    "Создадим функцию `number_tracks()`, которая посчитает прослушивания для заданного дня и города. Ей понадобятся два параметра:\n",
    "* день недели,\n",
    "* название города.\n",
    "\n",
    "В функции сохраним в переменную строки исходной таблицы, у которых значение:\n",
    "  * в колонке `day` равно параметру `day`,\n",
    "  * в колонке `city` равно параметру `city`.\n",
    "\n",
    "Для этого применим последовательную фильтрацию с логической индексацией.\n",
    "\n",
    "Затем посчитаем значения в столбце `user_id` получившейся таблицы. Результат сохраним в новую переменную. Вернём эту переменную из функции."
   ]
  },
  {
   "cell_type": "code",
   "execution_count": 20,
   "metadata": {
    "id": "Nz3GdQB1_Zcu"
   },
   "outputs": [],
   "source": [
    "# <создание функции number_tracks()>\n",
    "# Объявляется функция с двумя параметрами: day, city.\n",
    "def number_tracks(day, city):\n",
    "    '''\n",
    "    В переменной track_list сохраняются те строки таблицы df, для которых \n",
    "    значение в столбце 'day' равно параметру day и одновременно значение\n",
    "    в столбце 'city' равно параметру city (используйте последовательную фильтрацию\n",
    "    с помощью логической индексации)\n",
    "    '''\n",
    "    track_list = df[(df['city'] == city) & (df['day'] == day)]\n",
    "    '''\n",
    "    В переменной track_list_count сохраняется число значений столбца 'user_id',\n",
    "    рассчитанное методом count() для таблицы track_list.\n",
    "    '''\n",
    "    track_list_count = track_list['user_id'].count()\n",
    "    '''Функция возвращает число - значение track_list_count.'''\n",
    "    return track_list_count\n",
    "\n",
    "# Функция для подсчёта прослушиваний для конкретного города и дня.\n",
    "# С помощью последовательной фильтрации с логической индексацией она \n",
    "# сначала получит из исходной таблицы строки с нужным днём,\n",
    "# затем из результата отфильтрует строки с нужным городом,\n",
    "# методом count() посчитает количество значений в колонке user_id. \n",
    "# Это количество функция вернёт в качестве результата"
   ]
  },
  {
   "cell_type": "markdown",
   "metadata": {
    "id": "ytf7xFrFJQ2r"
   },
   "source": [
    "Вызовем `number_tracks()` шесть раз, меняя значение параметров — так, чтобы получить данные для каждого города в каждый из трёх дней."
   ]
  },
  {
   "cell_type": "code",
   "execution_count": 21,
   "metadata": {
    "id": "rJcRATNQ_Zcu"
   },
   "outputs": [
    {
     "data": {
      "text/plain": [
       "15740"
      ]
     },
     "execution_count": 21,
     "metadata": {},
     "output_type": "execute_result"
    }
   ],
   "source": [
    "# количество прослушиваний в Москве по понедельникам\n",
    "number_tracks('Monday', 'Moscow')"
   ]
  },
  {
   "cell_type": "code",
   "execution_count": 22,
   "metadata": {
    "id": "hq_ncZ5T_Zcu"
   },
   "outputs": [
    {
     "data": {
      "text/plain": [
       "5614"
      ]
     },
     "execution_count": 22,
     "metadata": {},
     "output_type": "execute_result"
    }
   ],
   "source": [
    "# количество прослушиваний в Санкт-Петербурге по понедельникам\n",
    "number_tracks('Monday', 'Saint-Petersburg')"
   ]
  },
  {
   "cell_type": "code",
   "execution_count": 23,
   "metadata": {
    "id": "_NTy2VPU_Zcu"
   },
   "outputs": [
    {
     "data": {
      "text/plain": [
       "11056"
      ]
     },
     "execution_count": 23,
     "metadata": {},
     "output_type": "execute_result"
    }
   ],
   "source": [
    "# количество прослушиваний в Москве по средам\n",
    "number_tracks('Wednesday', 'Moscow')"
   ]
  },
  {
   "cell_type": "code",
   "execution_count": 24,
   "metadata": {
    "id": "j2y3TAwo_Zcu"
   },
   "outputs": [
    {
     "data": {
      "text/plain": [
       "7003"
      ]
     },
     "execution_count": 24,
     "metadata": {},
     "output_type": "execute_result"
    }
   ],
   "source": [
    "# количество прослушиваний в Санкт-Петербурге по средам\n",
    "number_tracks('Wednesday', 'Saint-Petersburg')"
   ]
  },
  {
   "cell_type": "code",
   "execution_count": 25,
   "metadata": {
    "id": "vYDw5u_K_Zcu"
   },
   "outputs": [
    {
     "data": {
      "text/plain": [
       "15945"
      ]
     },
     "execution_count": 25,
     "metadata": {},
     "output_type": "execute_result"
    }
   ],
   "source": [
    "# количество прослушиваний в Москве по пятницам\n",
    "number_tracks('Friday','Moscow')"
   ]
  },
  {
   "cell_type": "code",
   "execution_count": 26,
   "metadata": {
    "id": "8_yzFtW3_Zcu"
   },
   "outputs": [
    {
     "data": {
      "text/plain": [
       "5895"
      ]
     },
     "execution_count": 26,
     "metadata": {},
     "output_type": "execute_result"
    }
   ],
   "source": [
    "# количество прослушиваний в Санкт-Петербурге по пятницам\n",
    "number_tracks('Friday','Saint-Petersburg')"
   ]
  },
  {
   "cell_type": "markdown",
   "metadata": {
    "id": "7QXffbO-_Zcu"
   },
   "source": [
    "Создадим c помощью конструктора `pd.DataFrame` таблицу, где\n",
    "* названия колонок — `['city', 'monday', 'wednesday', 'friday']`;\n",
    "* данные — результаты, которые мы получили с помощью `number_tracks`."
   ]
  },
  {
   "cell_type": "code",
   "execution_count": 27,
   "metadata": {
    "id": "APAcLpOr_Zcu"
   },
   "outputs": [
    {
     "data": {
      "text/html": [
       "<div>\n",
       "<style scoped>\n",
       "    .dataframe tbody tr th:only-of-type {\n",
       "        vertical-align: middle;\n",
       "    }\n",
       "\n",
       "    .dataframe tbody tr th {\n",
       "        vertical-align: top;\n",
       "    }\n",
       "\n",
       "    .dataframe thead th {\n",
       "        text-align: right;\n",
       "    }\n",
       "</style>\n",
       "<table border=\"1\" class=\"dataframe\">\n",
       "  <thead>\n",
       "    <tr style=\"text-align: right;\">\n",
       "      <th></th>\n",
       "      <th>city</th>\n",
       "      <th>monday</th>\n",
       "      <th>wednesday</th>\n",
       "      <th>friday</th>\n",
       "    </tr>\n",
       "  </thead>\n",
       "  <tbody>\n",
       "    <tr>\n",
       "      <th>0</th>\n",
       "      <td>Moscow</td>\n",
       "      <td>15740</td>\n",
       "      <td>11056</td>\n",
       "      <td>15945</td>\n",
       "    </tr>\n",
       "    <tr>\n",
       "      <th>1</th>\n",
       "      <td>Saint-Petersburg</td>\n",
       "      <td>5614</td>\n",
       "      <td>7003</td>\n",
       "      <td>5895</td>\n",
       "    </tr>\n",
       "  </tbody>\n",
       "</table>\n",
       "</div>"
      ],
      "text/plain": [
       "               city  monday  wednesday  friday\n",
       "0            Moscow   15740      11056   15945\n",
       "1  Saint-Petersburg    5614       7003    5895"
      ]
     },
     "metadata": {},
     "output_type": "display_data"
    }
   ],
   "source": [
    "# Таблица с результатами\n",
    "columns = ['city', 'monday', 'wednesday', 'friday']\n",
    "data = [\n",
    "    ['Moscow', 15740, 11056, 15945],\n",
    "    ['Saint-Petersburg', 5614, 7003, 5895]\n",
    "]\n",
    "table = pd.DataFrame(data = data, columns = columns)\n",
    "display(table)"
   ]
  },
  {
   "cell_type": "markdown",
   "metadata": {
    "id": "-EgPIHYu_Zcu"
   },
   "source": [
    "**Выводы**\n",
    "\n",
    "Данные показывают разницу поведения пользователей:\n",
    "\n",
    "- В Москве пик прослушиваний приходится на понедельник и пятницу, а в среду заметен спад.\n",
    "- В Петербурге, наоборот, больше слушают музыку по средам. Активность в понедельник и пятницу здесь почти в равной мере уступает среде.\n",
    "\n",
    "Значит, данные говорят в пользу первой гипотезы."
   ]
  },
  {
   "cell_type": "markdown",
   "metadata": {
    "id": "atZAxtq4_Zcu"
   },
   "source": [
    "### Музыка в начале и в конце недели"
   ]
  },
  {
   "cell_type": "markdown",
   "metadata": {
    "id": "eXrQqXFH_Zcu"
   },
   "source": [
    "Согласно второй гипотезе, утром в понедельник в Москве преобладают одни жанры, а в Петербурге — другие. Так же и вечером пятницы преобладают разные жанры — в зависимости от города."
   ]
  },
  {
   "cell_type": "markdown",
   "metadata": {
    "id": "S8UcW6Hw_Zcu"
   },
   "source": [
    "Сохраним таблицы с данными в две переменные:\n",
    "* по Москве — в `moscow_general`;\n",
    "* по Санкт-Петербургу — в `spb_general`."
   ]
  },
  {
   "cell_type": "code",
   "execution_count": 28,
   "metadata": {
    "id": "qeaFfM_P_Zcu"
   },
   "outputs": [
    {
     "data": {
      "text/html": [
       "<div>\n",
       "<style scoped>\n",
       "    .dataframe tbody tr th:only-of-type {\n",
       "        vertical-align: middle;\n",
       "    }\n",
       "\n",
       "    .dataframe tbody tr th {\n",
       "        vertical-align: top;\n",
       "    }\n",
       "\n",
       "    .dataframe thead th {\n",
       "        text-align: right;\n",
       "    }\n",
       "</style>\n",
       "<table border=\"1\" class=\"dataframe\">\n",
       "  <thead>\n",
       "    <tr style=\"text-align: right;\">\n",
       "      <th></th>\n",
       "      <th>user_id</th>\n",
       "      <th>track</th>\n",
       "      <th>artist_name</th>\n",
       "      <th>genre_name</th>\n",
       "      <th>city</th>\n",
       "      <th>time</th>\n",
       "      <th>day</th>\n",
       "    </tr>\n",
       "  </thead>\n",
       "  <tbody>\n",
       "    <tr>\n",
       "      <th>1</th>\n",
       "      <td>55204538</td>\n",
       "      <td>Delayed Because of Accident</td>\n",
       "      <td>Andreas Rönnberg</td>\n",
       "      <td>rock</td>\n",
       "      <td>Moscow</td>\n",
       "      <td>14:07:09</td>\n",
       "      <td>Friday</td>\n",
       "    </tr>\n",
       "    <tr>\n",
       "      <th>4</th>\n",
       "      <td>E2DC1FAE</td>\n",
       "      <td>Soul People</td>\n",
       "      <td>Space Echo</td>\n",
       "      <td>dance</td>\n",
       "      <td>Moscow</td>\n",
       "      <td>08:34:34</td>\n",
       "      <td>Monday</td>\n",
       "    </tr>\n",
       "    <tr>\n",
       "      <th>6</th>\n",
       "      <td>4CB90AA5</td>\n",
       "      <td>True</td>\n",
       "      <td>Roman Messer</td>\n",
       "      <td>dance</td>\n",
       "      <td>Moscow</td>\n",
       "      <td>13:00:07</td>\n",
       "      <td>Wednesday</td>\n",
       "    </tr>\n",
       "    <tr>\n",
       "      <th>7</th>\n",
       "      <td>F03E1C1F</td>\n",
       "      <td>Feeling This Way</td>\n",
       "      <td>Polina Griffith</td>\n",
       "      <td>dance</td>\n",
       "      <td>Moscow</td>\n",
       "      <td>20:47:49</td>\n",
       "      <td>Wednesday</td>\n",
       "    </tr>\n",
       "    <tr>\n",
       "      <th>8</th>\n",
       "      <td>8FA1D3BE</td>\n",
       "      <td>И вновь продолжается бой</td>\n",
       "      <td>unknown</td>\n",
       "      <td>ruspop</td>\n",
       "      <td>Moscow</td>\n",
       "      <td>09:17:40</td>\n",
       "      <td>Friday</td>\n",
       "    </tr>\n",
       "    <tr>\n",
       "      <th>...</th>\n",
       "      <td>...</td>\n",
       "      <td>...</td>\n",
       "      <td>...</td>\n",
       "      <td>...</td>\n",
       "      <td>...</td>\n",
       "      <td>...</td>\n",
       "      <td>...</td>\n",
       "    </tr>\n",
       "    <tr>\n",
       "      <th>61247</th>\n",
       "      <td>83A474E7</td>\n",
       "      <td>I Worship Only What You Bleed</td>\n",
       "      <td>The Black Dahlia Murder</td>\n",
       "      <td>extrememetal</td>\n",
       "      <td>Moscow</td>\n",
       "      <td>21:07:12</td>\n",
       "      <td>Monday</td>\n",
       "    </tr>\n",
       "    <tr>\n",
       "      <th>61248</th>\n",
       "      <td>729CBB09</td>\n",
       "      <td>My Name</td>\n",
       "      <td>McLean</td>\n",
       "      <td>rnb</td>\n",
       "      <td>Moscow</td>\n",
       "      <td>13:32:28</td>\n",
       "      <td>Wednesday</td>\n",
       "    </tr>\n",
       "    <tr>\n",
       "      <th>61250</th>\n",
       "      <td>C5E3A0D5</td>\n",
       "      <td>Jalopiina</td>\n",
       "      <td>unknown</td>\n",
       "      <td>industrial</td>\n",
       "      <td>Moscow</td>\n",
       "      <td>20:09:26</td>\n",
       "      <td>Friday</td>\n",
       "    </tr>\n",
       "    <tr>\n",
       "      <th>61251</th>\n",
       "      <td>321D0506</td>\n",
       "      <td>Freight Train</td>\n",
       "      <td>Chas McDevitt</td>\n",
       "      <td>rock</td>\n",
       "      <td>Moscow</td>\n",
       "      <td>21:43:59</td>\n",
       "      <td>Friday</td>\n",
       "    </tr>\n",
       "    <tr>\n",
       "      <th>61252</th>\n",
       "      <td>3A64EF84</td>\n",
       "      <td>Tell Me Sweet Little Lies</td>\n",
       "      <td>Monica Lopez</td>\n",
       "      <td>country</td>\n",
       "      <td>Moscow</td>\n",
       "      <td>21:59:46</td>\n",
       "      <td>Friday</td>\n",
       "    </tr>\n",
       "  </tbody>\n",
       "</table>\n",
       "<p>42741 rows × 7 columns</p>\n",
       "</div>"
      ],
      "text/plain": [
       "        user_id                          track              artist_name  \\\n",
       "1      55204538    Delayed Because of Accident         Andreas Rönnberg   \n",
       "4      E2DC1FAE                    Soul People               Space Echo   \n",
       "6      4CB90AA5                           True             Roman Messer   \n",
       "7      F03E1C1F               Feeling This Way          Polina Griffith   \n",
       "8      8FA1D3BE       И вновь продолжается бой                  unknown   \n",
       "...         ...                            ...                      ...   \n",
       "61247  83A474E7  I Worship Only What You Bleed  The Black Dahlia Murder   \n",
       "61248  729CBB09                        My Name                   McLean   \n",
       "61250  C5E3A0D5                      Jalopiina                  unknown   \n",
       "61251  321D0506                  Freight Train            Chas McDevitt   \n",
       "61252  3A64EF84      Tell Me Sweet Little Lies             Monica Lopez   \n",
       "\n",
       "         genre_name    city      time        day  \n",
       "1              rock  Moscow  14:07:09     Friday  \n",
       "4             dance  Moscow  08:34:34     Monday  \n",
       "6             dance  Moscow  13:00:07  Wednesday  \n",
       "7             dance  Moscow  20:47:49  Wednesday  \n",
       "8            ruspop  Moscow  09:17:40     Friday  \n",
       "...             ...     ...       ...        ...  \n",
       "61247  extrememetal  Moscow  21:07:12     Monday  \n",
       "61248           rnb  Moscow  13:32:28  Wednesday  \n",
       "61250    industrial  Moscow  20:09:26     Friday  \n",
       "61251          rock  Moscow  21:43:59     Friday  \n",
       "61252       country  Moscow  21:59:46     Friday  \n",
       "\n",
       "[42741 rows x 7 columns]"
      ]
     },
     "metadata": {},
     "output_type": "display_data"
    }
   ],
   "source": [
    "# получение таблицы moscow_general из тех строк таблицы df, \n",
    "# для которых значение в столбце 'city' равно 'Moscow'\n",
    "moscow_general = df[df['city'] == 'Moscow']\n",
    "display(moscow_general)"
   ]
  },
  {
   "cell_type": "code",
   "execution_count": 29,
   "metadata": {
    "id": "ORaVRKto_Zcu"
   },
   "outputs": [
    {
     "data": {
      "text/html": [
       "<div>\n",
       "<style scoped>\n",
       "    .dataframe tbody tr th:only-of-type {\n",
       "        vertical-align: middle;\n",
       "    }\n",
       "\n",
       "    .dataframe tbody tr th {\n",
       "        vertical-align: top;\n",
       "    }\n",
       "\n",
       "    .dataframe thead th {\n",
       "        text-align: right;\n",
       "    }\n",
       "</style>\n",
       "<table border=\"1\" class=\"dataframe\">\n",
       "  <thead>\n",
       "    <tr style=\"text-align: right;\">\n",
       "      <th></th>\n",
       "      <th>user_id</th>\n",
       "      <th>track</th>\n",
       "      <th>artist_name</th>\n",
       "      <th>genre_name</th>\n",
       "      <th>city</th>\n",
       "      <th>time</th>\n",
       "      <th>day</th>\n",
       "    </tr>\n",
       "  </thead>\n",
       "  <tbody>\n",
       "    <tr>\n",
       "      <th>0</th>\n",
       "      <td>FFB692EC</td>\n",
       "      <td>Kamigata To Boots</td>\n",
       "      <td>The Mass Missile</td>\n",
       "      <td>rock</td>\n",
       "      <td>Saint-Petersburg</td>\n",
       "      <td>20:28:33</td>\n",
       "      <td>Wednesday</td>\n",
       "    </tr>\n",
       "    <tr>\n",
       "      <th>2</th>\n",
       "      <td>20EC38</td>\n",
       "      <td>Funiculì funiculà</td>\n",
       "      <td>Mario Lanza</td>\n",
       "      <td>pop</td>\n",
       "      <td>Saint-Petersburg</td>\n",
       "      <td>20:58:07</td>\n",
       "      <td>Wednesday</td>\n",
       "    </tr>\n",
       "    <tr>\n",
       "      <th>3</th>\n",
       "      <td>A3DD03C9</td>\n",
       "      <td>Dragons in the Sunset</td>\n",
       "      <td>Fire + Ice</td>\n",
       "      <td>folk</td>\n",
       "      <td>Saint-Petersburg</td>\n",
       "      <td>08:37:09</td>\n",
       "      <td>Monday</td>\n",
       "    </tr>\n",
       "    <tr>\n",
       "      <th>5</th>\n",
       "      <td>842029A1</td>\n",
       "      <td>Преданная</td>\n",
       "      <td>IMPERVTOR</td>\n",
       "      <td>rusrap</td>\n",
       "      <td>Saint-Petersburg</td>\n",
       "      <td>13:09:41</td>\n",
       "      <td>Friday</td>\n",
       "    </tr>\n",
       "    <tr>\n",
       "      <th>9</th>\n",
       "      <td>E772D5C0</td>\n",
       "      <td>Pessimist</td>\n",
       "      <td>unknown</td>\n",
       "      <td>dance</td>\n",
       "      <td>Saint-Petersburg</td>\n",
       "      <td>21:20:49</td>\n",
       "      <td>Wednesday</td>\n",
       "    </tr>\n",
       "    <tr>\n",
       "      <th>...</th>\n",
       "      <td>...</td>\n",
       "      <td>...</td>\n",
       "      <td>...</td>\n",
       "      <td>...</td>\n",
       "      <td>...</td>\n",
       "      <td>...</td>\n",
       "      <td>...</td>\n",
       "    </tr>\n",
       "    <tr>\n",
       "      <th>61239</th>\n",
       "      <td>D94F810B</td>\n",
       "      <td>Theme from the Walking Dead</td>\n",
       "      <td>Proyecto Halloween</td>\n",
       "      <td>film</td>\n",
       "      <td>Saint-Petersburg</td>\n",
       "      <td>21:14:40</td>\n",
       "      <td>Monday</td>\n",
       "    </tr>\n",
       "    <tr>\n",
       "      <th>61240</th>\n",
       "      <td>BC8EC5CF</td>\n",
       "      <td>Red Lips: Gta (Rover Rework)</td>\n",
       "      <td>Rover</td>\n",
       "      <td>electronic</td>\n",
       "      <td>Saint-Petersburg</td>\n",
       "      <td>21:06:50</td>\n",
       "      <td>Monday</td>\n",
       "    </tr>\n",
       "    <tr>\n",
       "      <th>61241</th>\n",
       "      <td>29E04611</td>\n",
       "      <td>Bre Petrunko</td>\n",
       "      <td>Perunika Trio</td>\n",
       "      <td>world</td>\n",
       "      <td>Saint-Petersburg</td>\n",
       "      <td>13:56:00</td>\n",
       "      <td>Monday</td>\n",
       "    </tr>\n",
       "    <tr>\n",
       "      <th>61242</th>\n",
       "      <td>1B91C621</td>\n",
       "      <td>(Hello) Cloud Mountain</td>\n",
       "      <td>sleepmakeswaves</td>\n",
       "      <td>postrock</td>\n",
       "      <td>Saint-Petersburg</td>\n",
       "      <td>09:22:13</td>\n",
       "      <td>Monday</td>\n",
       "    </tr>\n",
       "    <tr>\n",
       "      <th>61249</th>\n",
       "      <td>D08D4A55</td>\n",
       "      <td>Maybe One Day (feat. Black Spade)</td>\n",
       "      <td>Blu &amp; Exile</td>\n",
       "      <td>hiphop</td>\n",
       "      <td>Saint-Petersburg</td>\n",
       "      <td>10:00:00</td>\n",
       "      <td>Monday</td>\n",
       "    </tr>\n",
       "  </tbody>\n",
       "</table>\n",
       "<p>18512 rows × 7 columns</p>\n",
       "</div>"
      ],
      "text/plain": [
       "        user_id                              track         artist_name  \\\n",
       "0      FFB692EC                  Kamigata To Boots    The Mass Missile   \n",
       "2        20EC38                  Funiculì funiculà         Mario Lanza   \n",
       "3      A3DD03C9              Dragons in the Sunset          Fire + Ice   \n",
       "5      842029A1                          Преданная           IMPERVTOR   \n",
       "9      E772D5C0                          Pessimist             unknown   \n",
       "...         ...                                ...                 ...   \n",
       "61239  D94F810B        Theme from the Walking Dead  Proyecto Halloween   \n",
       "61240  BC8EC5CF       Red Lips: Gta (Rover Rework)               Rover   \n",
       "61241  29E04611                       Bre Petrunko       Perunika Trio   \n",
       "61242  1B91C621             (Hello) Cloud Mountain     sleepmakeswaves   \n",
       "61249  D08D4A55  Maybe One Day (feat. Black Spade)         Blu & Exile   \n",
       "\n",
       "       genre_name              city      time        day  \n",
       "0            rock  Saint-Petersburg  20:28:33  Wednesday  \n",
       "2             pop  Saint-Petersburg  20:58:07  Wednesday  \n",
       "3            folk  Saint-Petersburg  08:37:09     Monday  \n",
       "5          rusrap  Saint-Petersburg  13:09:41     Friday  \n",
       "9           dance  Saint-Petersburg  21:20:49  Wednesday  \n",
       "...           ...               ...       ...        ...  \n",
       "61239        film  Saint-Petersburg  21:14:40     Monday  \n",
       "61240  electronic  Saint-Petersburg  21:06:50     Monday  \n",
       "61241       world  Saint-Petersburg  13:56:00     Monday  \n",
       "61242    postrock  Saint-Petersburg  09:22:13     Monday  \n",
       "61249      hiphop  Saint-Petersburg  10:00:00     Monday  \n",
       "\n",
       "[18512 rows x 7 columns]"
      ]
     },
     "metadata": {},
     "output_type": "display_data"
    }
   ],
   "source": [
    "# получение таблицы spb_general из тех строк таблицы df,\n",
    "# для которых значение в столбце 'city' равно 'Saint-Petersburg'\n",
    "spb_general = df[df['city'] == 'Saint-Petersburg']\n",
    "display(spb_general)"
   ]
  },
  {
   "cell_type": "markdown",
   "metadata": {
    "id": "MEJV-CX2_Zcu"
   },
   "source": [
    "Создадим функцию `genre_weekday()` с четырьмя параметрами:\n",
    "* таблица (датафрейм) с данными,\n",
    "* день недели,\n",
    "* начальная временная метка в формате 'hh:mm', \n",
    "* последняя временная метка в формате 'hh:mm'.\n",
    "\n",
    "Функция должна вернуть информацию о топ-10 жанров тех треков, которые прослушивали в указанный день, в промежутке между двумя отметками времени."
   ]
  },
  {
   "cell_type": "code",
   "execution_count": 30,
   "metadata": {
    "id": "laJT9BYl_Zcu"
   },
   "outputs": [],
   "source": [
    "# Объявление функции genre_weekday() с параметрами table, day, time1, time2,\n",
    "# которая возвращает информацию о самых популярных жанрах в указанный день в\n",
    "# заданное время:\n",
    "def genre_weekday(table, day, time1, time2):\n",
    "    '''1) в переменную genre_df сохраняются те строки переданного датафрейма table, для\n",
    "       которых одновременно: \n",
    "       - значение в столбце day равно значению аргумента day\n",
    "       - значение в столбце time больше значения аргумента time1\n",
    "       - значение в столбце time меньше значения аргумента time2\n",
    "       Используем последовательную фильтрацию с помощью логической индексации.'''\n",
    "    genre_df = table[(table['day'] == day) & (table['time'] > time1) & (table['time'] < time2)]\n",
    "    '''2) сгруппируем датафрейм genre_df по столбцу genre_name, возьмём один из его\n",
    "       столбцов и посчитаем методом count() количество записей для каждого из \n",
    "       присутствующих жанров, получившийся Series запишем в переменную\n",
    "       genre_df_count'''\n",
    "    genre_df_count = genre_df.groupby('genre_name')['user_id'].count()\n",
    "    '''3) отсортируем genre_df_count по убыванию встречаемости и сохраним\n",
    "       в переменную genre_df_sorted'''\n",
    "    genre_df_sorted = genre_df_count.sort_values(ascending = False)\n",
    "    '''4) вернём Series из 10 первых значений genre_df_sorted, это будут топ-10\n",
    "       популярных жанров (в указанный день, в заданное время)'''\n",
    "    return genre_df_sorted.head(10)"
   ]
  },
  {
   "cell_type": "markdown",
   "metadata": {
    "id": "la2s2_PF_Zcu"
   },
   "source": [
    "Cравним результаты функции `genre_weekday()` для Москвы и Санкт-Петербурга в понедельник утром (с 7:00 до 11:00) и в пятницу вечером (с 17:00 до 23:00):"
   ]
  },
  {
   "cell_type": "code",
   "execution_count": 31,
   "metadata": {
    "id": "yz7itPUQ_Zcu"
   },
   "outputs": [
    {
     "data": {
      "text/plain": [
       "genre_name\n",
       "pop            781\n",
       "dance          549\n",
       "electronic     480\n",
       "rock           474\n",
       "hiphop         286\n",
       "ruspop         186\n",
       "world          181\n",
       "rusrap         175\n",
       "alternative    164\n",
       "unknown        161\n",
       "Name: user_id, dtype: int64"
      ]
     },
     "execution_count": 31,
     "metadata": {},
     "output_type": "execute_result"
    }
   ],
   "source": [
    "# вызов функции для утра понедельника в Москве (вместо df — таблица moscow_general)\n",
    "# объекты, хранящие время, являются строками и сравниваются как строки\n",
    "# пример вызова: genre_weekday(moscow_general, 'Monday', '07:00', '11:00')\n",
    "genre_weekday(moscow_general, 'Monday', '07:00','11:00')"
   ]
  },
  {
   "cell_type": "code",
   "execution_count": 32,
   "metadata": {
    "id": "kwUcHPdy_Zcu"
   },
   "outputs": [
    {
     "data": {
      "text/plain": [
       "genre_name\n",
       "pop            218\n",
       "dance          182\n",
       "rock           162\n",
       "electronic     147\n",
       "hiphop          80\n",
       "ruspop          64\n",
       "alternative     58\n",
       "rusrap          55\n",
       "jazz            44\n",
       "classical       40\n",
       "Name: user_id, dtype: int64"
      ]
     },
     "execution_count": 32,
     "metadata": {},
     "output_type": "execute_result"
    }
   ],
   "source": [
    "# вызов функции для утра понедельника в Петербурге (вместо df — таблица spb_general)\n",
    "genre_weekday(spb_general, 'Monday', '07:00', '11:00')"
   ]
  },
  {
   "cell_type": "code",
   "execution_count": 33,
   "metadata": {
    "id": "EzXVRE1o_Zcu"
   },
   "outputs": [
    {
     "data": {
      "text/plain": [
       "genre_name\n",
       "pop            713\n",
       "rock           517\n",
       "dance          495\n",
       "electronic     482\n",
       "hiphop         273\n",
       "world          208\n",
       "ruspop         170\n",
       "alternative    163\n",
       "classical      163\n",
       "rusrap         142\n",
       "Name: user_id, dtype: int64"
      ]
     },
     "execution_count": 33,
     "metadata": {},
     "output_type": "execute_result"
    }
   ],
   "source": [
    "# вызов функции для вечера пятницы в Москве\n",
    "genre_weekday(moscow_general, 'Friday', '17:00', '23:00')"
   ]
  },
  {
   "cell_type": "code",
   "execution_count": 34,
   "metadata": {
    "id": "JZaEKu5v_Zcu"
   },
   "outputs": [
    {
     "data": {
      "text/plain": [
       "genre_name\n",
       "pop            256\n",
       "electronic     216\n",
       "rock           216\n",
       "dance          210\n",
       "hiphop          97\n",
       "alternative     63\n",
       "jazz            61\n",
       "classical       60\n",
       "rusrap          59\n",
       "world           54\n",
       "Name: user_id, dtype: int64"
      ]
     },
     "execution_count": 34,
     "metadata": {},
     "output_type": "execute_result"
    }
   ],
   "source": [
    "# вызов функции для вечера пятницы в Петербурге\n",
    "genre_weekday(spb_general, 'Friday', '17:00', '23:00')"
   ]
  },
  {
   "cell_type": "markdown",
   "metadata": {
    "id": "wrCe4MNX_Zcu"
   },
   "source": [
    "**Выводы**\n",
    "\n",
    "Если сравнить топ-10 жанров в понедельник утром, можно сделать такие выводы:\n",
    "\n",
    "1. В Москве и Петербурге слушают похожую музыку. Единственное отличие — в московский рейтинг вошёл жанр “world”, а в петербургский — джаз и классика.\n",
    "\n",
    "2. В Москве пропущенных значений оказалось так много, что значение `'unknown'` заняло десятое место среди самых популярных жанров. Значит, пропущенные значения занимают существенную долю в данных и угрожают достоверности исследования.\n",
    "\n",
    "Вечер пятницы не меняет эту картину. Некоторые жанры поднимаются немного выше, другие спускаются, но в целом топ-10 остаётся тем же самым.\n",
    "\n",
    "Таким образом, вторая гипотеза подтвердилась лишь частично:\n",
    "* Пользователи слушают похожую музыку в начале недели и в конце.\n",
    "* Разница между Москвой и Петербургом не слишком выражена. В Москве чаще слушают русскую популярную музыку, в Петербурге — джаз.\n",
    "\n",
    "Однако пропуски в данных ставят под сомнение этот результат. В Москве их так много, что рейтинг топ-10 мог бы выглядеть иначе, если бы не утерянные  данные о жанрах."
   ]
  },
  {
   "cell_type": "markdown",
   "metadata": {
    "id": "JolODAqr_Zcu"
   },
   "source": [
    "### Жанровые предпочтения в Москве и Петербурге\n",
    "\n",
    "Гипотеза: Петербург — столица рэпа, музыку этого жанра там слушают чаще, чем в Москве.  А Москва — город контрастов, в котором, тем не менее, преобладает поп-музыка."
   ]
  },
  {
   "cell_type": "markdown",
   "metadata": {
    "id": "DlegSvaT_Zcu"
   },
   "source": [
    "Сгруппируем таблицу `moscow_general` по жанру и посчитаем прослушивания треков каждого жанра методом `count()`. Затем отсортируем результат в порядке убывания и сохраним его в таблице `moscow_genres`."
   ]
  },
  {
   "cell_type": "code",
   "execution_count": 35,
   "metadata": {
    "id": "r19lIPke_Zcu"
   },
   "outputs": [],
   "source": [
    "# одной строкой: группировка таблицы moscow_general по столбцу 'genre_name', \n",
    "# подсчёт числа значений 'genre_name' в этой группировке методом count(), \n",
    "# сортировка получившегося Series в порядке убывания и сохранение в moscow_genres\n",
    "moscow_genres = moscow_general.groupby('genre_name')['genre_name'].count().sort_values(ascending = False)"
   ]
  },
  {
   "cell_type": "markdown",
   "metadata": {
    "id": "6kMuomxTiIr8"
   },
   "source": [
    "Выведем на экран первые десять строк `moscow_genres`:"
   ]
  },
  {
   "cell_type": "code",
   "execution_count": 36,
   "metadata": {
    "id": "WhCSooF8_Zcv"
   },
   "outputs": [
    {
     "data": {
      "text/plain": [
       "genre_name\n",
       "pop            5892\n",
       "dance          4435\n",
       "rock           3965\n",
       "electronic     3786\n",
       "hiphop         2096\n",
       "classical      1616\n",
       "world          1432\n",
       "alternative    1379\n",
       "ruspop         1372\n",
       "rusrap         1161\n",
       "Name: genre_name, dtype: int64"
      ]
     },
     "metadata": {},
     "output_type": "display_data"
    }
   ],
   "source": [
    "# просмотр первых 10 строк moscow_genres\n",
    "display(moscow_genres.head(10))"
   ]
  },
  {
   "cell_type": "markdown",
   "metadata": {
    "id": "cnPG2vnN_Zcv"
   },
   "source": [
    "Теперь повторим то же и для Петербурга.\n",
    "\n",
    "Сгруппируем таблицу `spb_general` по жанру. Посчитаем прослушивания треков каждого жанра. Результат отсортируем в порядке убывания и сохраним в таблице `spb_genres`:\n"
   ]
  },
  {
   "cell_type": "code",
   "execution_count": 37,
   "metadata": {
    "id": "gluLIpE7_Zcv"
   },
   "outputs": [],
   "source": [
    "# одной строкой: группировка таблицы spb_general по столбцу 'genre_name', \n",
    "# подсчёт числа значений 'genre_name' в этой группировке методом count(), \n",
    "# сортировка получившегося Series в порядке убывания и сохранение в spb_genres\n",
    "spb_genres = spb_general.groupby('genre_name')['genre_name'].count().sort_values(ascending = False)"
   ]
  },
  {
   "cell_type": "markdown",
   "metadata": {
    "id": "5Doha_ODgyQ8"
   },
   "source": [
    "Выведем на экран первые десять строк `spb_genres`:"
   ]
  },
  {
   "cell_type": "code",
   "execution_count": 38,
   "metadata": {
    "id": "uaGJHjVU_Zcv"
   },
   "outputs": [
    {
     "data": {
      "text/plain": [
       "genre_name\n",
       "pop            2431\n",
       "dance          1932\n",
       "rock           1879\n",
       "electronic     1737\n",
       "hiphop          960\n",
       "alternative     649\n",
       "classical       646\n",
       "rusrap          564\n",
       "ruspop          538\n",
       "world           515\n",
       "Name: genre_name, dtype: int64"
      ]
     },
     "metadata": {},
     "output_type": "display_data"
    }
   ],
   "source": [
    "# просмотр первых 10 строк spb_genres\n",
    "display(spb_genres.head(10))"
   ]
  },
  {
   "cell_type": "markdown",
   "metadata": {
    "id": "RY51YJYu_Zcv"
   },
   "source": [
    "**Выводы**"
   ]
  },
  {
   "cell_type": "markdown",
   "metadata": {
    "id": "nVhnJEm__Zcv"
   },
   "source": [
    "Гипотеза частично подтвердилась:\n",
    "* Поп-музыка — самый популярный жанр в Москве, как и предполагала гипотеза. Более того, в топ-10 жанров встречается близкий жанр — русская популярная музыка.\n",
    "* Вопреки ожиданиям, рэп одинаково популярен в Москве и Петербурге. \n"
   ]
  },
  {
   "cell_type": "markdown",
   "metadata": {
    "id": "ykKQ0N65_Zcv"
   },
   "source": [
    "## Итоги исследования"
   ]
  },
  {
   "cell_type": "markdown",
   "metadata": {
    "id": "tjUwbHb3_Zcv"
   },
   "source": [
    "Мы проверили три гипотезы и установили:\n",
    "\n",
    "1. День недели по-разному влияет на активность пользователей в Москве и Петербурге. \n",
    "\n",
    "Первая гипотеза полностью подтвердилась.\n",
    "\n",
    "2. Музыкальные предпочтения не сильно меняются в течение недели — будь то Москва или Петербург. Небольшие различия заметны в начале недели, по понедельникам:\n",
    "* в Москве слушают музыку жанра “world”,\n",
    "* в Петербурге — джаз и классику.\n",
    "\n",
    "Таким образом, вторая гипотеза подтвердилась лишь отчасти. Этот результат мог оказаться иным, если бы не пропуски в данных.\n",
    "\n",
    "3. Во вкусах пользователей Москвы и Петербурга больше общего чем различий. Вопреки ожиданиям, предпочтения жанров в Петербурге напоминают московские.\n",
    "\n",
    "Третья гипотеза не подтвердилась. Если различия в предпочтениях и существуют, на основной массе пользователей они незаметны.\n",
    "\n",
    "**На практике исследования содержат проверки статистических гипотез.**\n",
    "Из данных одного сервиса не всегда можно сделать вывод о всех жителях города.\n",
    "Проверки статистических гипотез покажут, насколько они достоверны, исходя из имеющихся данных. \n",
    "С методами проверок гипотез вы ещё познакомитесь в следующих темах."
   ]
  }
 ],
 "metadata": {
  "ExecuteTimeLog": [
   {
    "duration": 767,
    "start_time": "2021-11-21T12:02:54.396Z"
   },
   {
    "duration": 3244,
    "start_time": "2021-11-21T12:04:06.480Z"
   },
   {
    "duration": 2657,
    "start_time": "2021-11-21T12:05:28.099Z"
   },
   {
    "duration": 521,
    "start_time": "2021-11-21T12:07:48.434Z"
   },
   {
    "duration": 750,
    "start_time": "2021-11-21T12:07:57.466Z"
   },
   {
    "duration": 2767,
    "start_time": "2021-11-21T12:07:58.219Z"
   },
   {
    "duration": -83,
    "start_time": "2021-11-21T12:08:01.072Z"
   },
   {
    "duration": 793,
    "start_time": "2021-11-21T12:08:41.885Z"
   },
   {
    "duration": 2816,
    "start_time": "2021-11-21T12:08:42.681Z"
   },
   {
    "duration": -65,
    "start_time": "2021-11-21T12:08:45.566Z"
   },
   {
    "duration": -76,
    "start_time": "2021-11-21T12:08:45.579Z"
   },
   {
    "duration": -95,
    "start_time": "2021-11-21T12:08:45.599Z"
   },
   {
    "duration": -106,
    "start_time": "2021-11-21T12:08:45.612Z"
   },
   {
    "duration": -116,
    "start_time": "2021-11-21T12:08:45.624Z"
   },
   {
    "duration": -136,
    "start_time": "2021-11-21T12:08:45.645Z"
   },
   {
    "duration": -162,
    "start_time": "2021-11-21T12:08:45.673Z"
   },
   {
    "duration": -171,
    "start_time": "2021-11-21T12:08:45.683Z"
   },
   {
    "duration": -181,
    "start_time": "2021-11-21T12:08:45.694Z"
   },
   {
    "duration": -197,
    "start_time": "2021-11-21T12:08:45.711Z"
   },
   {
    "duration": -203,
    "start_time": "2021-11-21T12:08:45.719Z"
   },
   {
    "duration": -216,
    "start_time": "2021-11-21T12:08:45.733Z"
   },
   {
    "duration": -240,
    "start_time": "2021-11-21T12:08:45.758Z"
   },
   {
    "duration": -248,
    "start_time": "2021-11-21T12:08:45.768Z"
   },
   {
    "duration": -271,
    "start_time": "2021-11-21T12:08:45.792Z"
   },
   {
    "duration": -295,
    "start_time": "2021-11-21T12:08:45.817Z"
   },
   {
    "duration": -303,
    "start_time": "2021-11-21T12:08:45.826Z"
   },
   {
    "duration": -315,
    "start_time": "2021-11-21T12:08:45.840Z"
   },
   {
    "duration": -332,
    "start_time": "2021-11-21T12:08:45.858Z"
   },
   {
    "duration": -340,
    "start_time": "2021-11-21T12:08:45.867Z"
   },
   {
    "duration": -362,
    "start_time": "2021-11-21T12:08:45.890Z"
   },
   {
    "duration": -369,
    "start_time": "2021-11-21T12:08:45.899Z"
   },
   {
    "duration": -380,
    "start_time": "2021-11-21T12:08:45.911Z"
   },
   {
    "duration": -400,
    "start_time": "2021-11-21T12:08:45.932Z"
   },
   {
    "duration": -406,
    "start_time": "2021-11-21T12:08:45.940Z"
   },
   {
    "duration": -415,
    "start_time": "2021-11-21T12:08:45.950Z"
   },
   {
    "duration": -436,
    "start_time": "2021-11-21T12:08:45.972Z"
   },
   {
    "duration": -461,
    "start_time": "2021-11-21T12:08:45.999Z"
   },
   {
    "duration": -449,
    "start_time": "2021-11-21T12:08:46.008Z"
   },
   {
    "duration": -459,
    "start_time": "2021-11-21T12:08:46.019Z"
   },
   {
    "duration": -472,
    "start_time": "2021-11-21T12:08:46.034Z"
   },
   {
    "duration": -481,
    "start_time": "2021-11-21T12:08:46.044Z"
   },
   {
    "duration": -501,
    "start_time": "2021-11-21T12:08:46.065Z"
   },
   {
    "duration": -509,
    "start_time": "2021-11-21T12:08:46.075Z"
   },
   {
    "duration": -517,
    "start_time": "2021-11-21T12:08:46.084Z"
   },
   {
    "duration": -559,
    "start_time": "2021-11-21T12:08:46.127Z"
   },
   {
    "duration": 884,
    "start_time": "2021-11-21T12:09:31.828Z"
   },
   {
    "duration": 2799,
    "start_time": "2021-11-21T12:09:32.715Z"
   },
   {
    "duration": -69,
    "start_time": "2021-11-21T12:09:35.587Z"
   },
   {
    "duration": -78,
    "start_time": "2021-11-21T12:09:35.598Z"
   },
   {
    "duration": -96,
    "start_time": "2021-11-21T12:09:35.617Z"
   },
   {
    "duration": -101,
    "start_time": "2021-11-21T12:09:35.624Z"
   },
   {
    "duration": -110,
    "start_time": "2021-11-21T12:09:35.634Z"
   },
   {
    "duration": -130,
    "start_time": "2021-11-21T12:09:35.655Z"
   },
   {
    "duration": -134,
    "start_time": "2021-11-21T12:09:35.661Z"
   },
   {
    "duration": -155,
    "start_time": "2021-11-21T12:09:35.683Z"
   },
   {
    "duration": -167,
    "start_time": "2021-11-21T12:09:35.696Z"
   },
   {
    "duration": -178,
    "start_time": "2021-11-21T12:09:35.709Z"
   },
   {
    "duration": -191,
    "start_time": "2021-11-21T12:09:35.723Z"
   },
   {
    "duration": -195,
    "start_time": "2021-11-21T12:09:35.729Z"
   },
   {
    "duration": -206,
    "start_time": "2021-11-21T12:09:35.741Z"
   },
   {
    "duration": -213,
    "start_time": "2021-11-21T12:09:35.749Z"
   },
   {
    "duration": -222,
    "start_time": "2021-11-21T12:09:35.760Z"
   },
   {
    "duration": -235,
    "start_time": "2021-11-21T12:09:35.774Z"
   },
   {
    "duration": -240,
    "start_time": "2021-11-21T12:09:35.781Z"
   },
   {
    "duration": -255,
    "start_time": "2021-11-21T12:09:35.797Z"
   },
   {
    "duration": -270,
    "start_time": "2021-11-21T12:09:35.814Z"
   },
   {
    "duration": -287,
    "start_time": "2021-11-21T12:09:35.832Z"
   },
   {
    "duration": -291,
    "start_time": "2021-11-21T12:09:35.838Z"
   },
   {
    "duration": -298,
    "start_time": "2021-11-21T12:09:35.846Z"
   },
   {
    "duration": -321,
    "start_time": "2021-11-21T12:09:35.870Z"
   },
   {
    "duration": -339,
    "start_time": "2021-11-21T12:09:35.890Z"
   },
   {
    "duration": -363,
    "start_time": "2021-11-21T12:09:35.915Z"
   },
   {
    "duration": -370,
    "start_time": "2021-11-21T12:09:35.923Z"
   },
   {
    "duration": -379,
    "start_time": "2021-11-21T12:09:35.934Z"
   },
   {
    "duration": -392,
    "start_time": "2021-11-21T12:09:35.951Z"
   },
   {
    "duration": -397,
    "start_time": "2021-11-21T12:09:35.958Z"
   },
   {
    "duration": -416,
    "start_time": "2021-11-21T12:09:35.978Z"
   },
   {
    "duration": -426,
    "start_time": "2021-11-21T12:09:35.990Z"
   },
   {
    "duration": -431,
    "start_time": "2021-11-21T12:09:35.997Z"
   },
   {
    "duration": -441,
    "start_time": "2021-11-21T12:09:36.008Z"
   },
   {
    "duration": -448,
    "start_time": "2021-11-21T12:09:36.017Z"
   },
   {
    "duration": -460,
    "start_time": "2021-11-21T12:09:36.030Z"
   },
   {
    "duration": -470,
    "start_time": "2021-11-21T12:09:36.042Z"
   },
   {
    "duration": 3,
    "start_time": "2021-11-21T12:10:32.220Z"
   },
   {
    "duration": 10,
    "start_time": "2021-11-21T12:10:32.225Z"
   },
   {
    "duration": 397,
    "start_time": "2021-11-21T12:12:38.271Z"
   },
   {
    "duration": 3131,
    "start_time": "2021-11-21T12:13:04.463Z"
   },
   {
    "duration": 763,
    "start_time": "2021-11-21T12:17:57.872Z"
   },
   {
    "duration": 185,
    "start_time": "2021-11-21T12:18:01.877Z"
   },
   {
    "duration": 27,
    "start_time": "2021-11-21T12:18:04.361Z"
   },
   {
    "duration": 34,
    "start_time": "2021-11-21T12:19:01.833Z"
   },
   {
    "duration": 480,
    "start_time": "2021-11-21T12:30:42.452Z"
   },
   {
    "duration": 406,
    "start_time": "2021-11-21T12:31:07.419Z"
   },
   {
    "duration": 5,
    "start_time": "2021-11-21T12:31:27.041Z"
   },
   {
    "duration": 17,
    "start_time": "2021-11-21T12:31:46.269Z"
   },
   {
    "duration": 6,
    "start_time": "2021-11-21T12:31:50.788Z"
   },
   {
    "duration": 14,
    "start_time": "2021-11-21T12:31:58.378Z"
   },
   {
    "duration": 31,
    "start_time": "2021-11-21T12:41:15.306Z"
   },
   {
    "duration": 4,
    "start_time": "2021-11-21T12:41:30.948Z"
   },
   {
    "duration": 27,
    "start_time": "2021-11-21T12:42:21.756Z"
   },
   {
    "duration": 5,
    "start_time": "2021-11-21T12:42:24.558Z"
   },
   {
    "duration": 26,
    "start_time": "2021-11-21T12:42:59.908Z"
   },
   {
    "duration": 6,
    "start_time": "2021-11-21T12:43:01.912Z"
   },
   {
    "duration": 30,
    "start_time": "2021-11-21T12:43:45.365Z"
   },
   {
    "duration": 4,
    "start_time": "2021-11-21T12:43:47.651Z"
   },
   {
    "duration": 3,
    "start_time": "2021-11-21T12:44:15.136Z"
   },
   {
    "duration": 196,
    "start_time": "2021-11-21T12:44:15.142Z"
   },
   {
    "duration": 21,
    "start_time": "2021-11-21T12:44:15.340Z"
   },
   {
    "duration": 44,
    "start_time": "2021-11-21T12:44:15.367Z"
   },
   {
    "duration": 5,
    "start_time": "2021-11-21T12:44:15.414Z"
   },
   {
    "duration": 50,
    "start_time": "2021-11-21T12:44:15.422Z"
   },
   {
    "duration": 5,
    "start_time": "2021-11-21T12:44:15.475Z"
   },
   {
    "duration": 21,
    "start_time": "2021-11-21T12:44:54.177Z"
   },
   {
    "duration": 5,
    "start_time": "2021-11-21T12:44:56.264Z"
   },
   {
    "duration": 21,
    "start_time": "2021-11-21T12:45:05.932Z"
   },
   {
    "duration": 9,
    "start_time": "2021-11-21T12:45:08.060Z"
   },
   {
    "duration": 18,
    "start_time": "2021-11-21T12:46:02.653Z"
   },
   {
    "duration": 5,
    "start_time": "2021-11-21T12:46:04.535Z"
   },
   {
    "duration": 4,
    "start_time": "2021-11-21T12:46:06.180Z"
   },
   {
    "duration": 16,
    "start_time": "2021-11-21T12:47:19.616Z"
   },
   {
    "duration": 5,
    "start_time": "2021-11-21T12:47:21.631Z"
   },
   {
    "duration": 17,
    "start_time": "2021-11-21T12:47:34.807Z"
   },
   {
    "duration": 5,
    "start_time": "2021-11-21T12:47:37.647Z"
   },
   {
    "duration": 17,
    "start_time": "2021-11-21T12:47:41.231Z"
   },
   {
    "duration": 5,
    "start_time": "2021-11-21T12:47:42.955Z"
   },
   {
    "duration": 17,
    "start_time": "2021-11-21T12:47:49.608Z"
   },
   {
    "duration": 4,
    "start_time": "2021-11-21T12:47:52.056Z"
   },
   {
    "duration": 1137,
    "start_time": "2021-11-21T12:48:03.374Z"
   },
   {
    "duration": 221,
    "start_time": "2021-11-21T12:48:04.513Z"
   },
   {
    "duration": 39,
    "start_time": "2021-11-21T12:48:04.737Z"
   },
   {
    "duration": 35,
    "start_time": "2021-11-21T12:48:04.780Z"
   },
   {
    "duration": 4,
    "start_time": "2021-11-21T12:48:04.818Z"
   },
   {
    "duration": 61,
    "start_time": "2021-11-21T12:48:04.825Z"
   },
   {
    "duration": 6,
    "start_time": "2021-11-21T12:48:04.889Z"
   },
   {
    "duration": 5,
    "start_time": "2021-11-21T12:51:53.636Z"
   },
   {
    "duration": 486,
    "start_time": "2021-11-21T12:52:37.443Z"
   },
   {
    "duration": 1434,
    "start_time": "2021-11-21T12:52:59.089Z"
   },
   {
    "duration": 202,
    "start_time": "2021-11-21T12:53:00.526Z"
   },
   {
    "duration": 41,
    "start_time": "2021-11-21T12:53:00.731Z"
   },
   {
    "duration": 44,
    "start_time": "2021-11-21T12:53:00.775Z"
   },
   {
    "duration": 5,
    "start_time": "2021-11-21T12:53:18.637Z"
   },
   {
    "duration": 30,
    "start_time": "2021-11-21T12:55:19.209Z"
   },
   {
    "duration": 5,
    "start_time": "2021-11-21T12:55:34.648Z"
   },
   {
    "duration": 32,
    "start_time": "2021-11-21T12:55:53.549Z"
   },
   {
    "duration": 4,
    "start_time": "2021-11-21T12:55:55.236Z"
   },
   {
    "duration": 29,
    "start_time": "2021-11-21T12:56:04.768Z"
   },
   {
    "duration": 13,
    "start_time": "2021-11-21T12:56:06.781Z"
   },
   {
    "duration": 796,
    "start_time": "2021-11-21T12:56:13.101Z"
   },
   {
    "duration": 224,
    "start_time": "2021-11-21T12:56:13.899Z"
   },
   {
    "duration": 35,
    "start_time": "2021-11-21T12:56:14.126Z"
   },
   {
    "duration": 38,
    "start_time": "2021-11-21T12:56:14.165Z"
   },
   {
    "duration": 10,
    "start_time": "2021-11-21T12:56:14.206Z"
   },
   {
    "duration": 73,
    "start_time": "2021-11-21T12:56:14.219Z"
   },
   {
    "duration": 20,
    "start_time": "2021-11-21T12:56:14.294Z"
   },
   {
    "duration": 26,
    "start_time": "2021-11-21T12:56:34.648Z"
   },
   {
    "duration": 5,
    "start_time": "2021-11-21T12:56:36.700Z"
   },
   {
    "duration": 745,
    "start_time": "2021-11-21T12:56:47.499Z"
   },
   {
    "duration": 189,
    "start_time": "2021-11-21T12:56:48.247Z"
   },
   {
    "duration": 30,
    "start_time": "2021-11-21T12:56:48.439Z"
   },
   {
    "duration": 33,
    "start_time": "2021-11-21T12:56:48.473Z"
   },
   {
    "duration": 10,
    "start_time": "2021-11-21T12:56:48.509Z"
   },
   {
    "duration": 55,
    "start_time": "2021-11-21T12:56:48.522Z"
   },
   {
    "duration": 4,
    "start_time": "2021-11-21T12:56:48.580Z"
   },
   {
    "duration": 847,
    "start_time": "2021-11-21T12:58:01.055Z"
   },
   {
    "duration": 257,
    "start_time": "2021-11-21T12:58:01.907Z"
   },
   {
    "duration": 42,
    "start_time": "2021-11-21T12:58:02.173Z"
   },
   {
    "duration": 77,
    "start_time": "2021-11-21T12:58:02.218Z"
   },
   {
    "duration": 5,
    "start_time": "2021-11-21T12:58:02.297Z"
   },
   {
    "duration": 4,
    "start_time": "2021-11-21T12:58:08.352Z"
   },
   {
    "duration": 36,
    "start_time": "2021-11-21T12:58:21.272Z"
   },
   {
    "duration": 5,
    "start_time": "2021-11-21T12:58:23.628Z"
   },
   {
    "duration": 31,
    "start_time": "2021-11-21T12:59:25.184Z"
   },
   {
    "duration": 29,
    "start_time": "2021-11-21T13:00:27.948Z"
   },
   {
    "duration": 5,
    "start_time": "2021-11-21T13:00:29.916Z"
   },
   {
    "duration": 6,
    "start_time": "2021-11-21T13:00:33.179Z"
   },
   {
    "duration": 753,
    "start_time": "2021-11-21T13:00:44.505Z"
   },
   {
    "duration": 187,
    "start_time": "2021-11-21T13:00:45.261Z"
   },
   {
    "duration": 28,
    "start_time": "2021-11-21T13:00:45.452Z"
   },
   {
    "duration": 36,
    "start_time": "2021-11-21T13:00:45.483Z"
   },
   {
    "duration": 6,
    "start_time": "2021-11-21T13:00:45.521Z"
   },
   {
    "duration": 59,
    "start_time": "2021-11-21T13:00:45.529Z"
   },
   {
    "duration": 4,
    "start_time": "2021-11-21T13:00:45.591Z"
   },
   {
    "duration": 30,
    "start_time": "2021-11-21T13:00:59.864Z"
   },
   {
    "duration": 571,
    "start_time": "2021-11-21T13:07:07.889Z"
   },
   {
    "duration": 22,
    "start_time": "2021-11-21T13:12:05.228Z"
   },
   {
    "duration": 30,
    "start_time": "2021-11-21T13:12:31.504Z"
   },
   {
    "duration": 86,
    "start_time": "2021-11-21T13:13:55.410Z"
   },
   {
    "duration": 100,
    "start_time": "2021-11-21T13:16:25.520Z"
   },
   {
    "duration": 82,
    "start_time": "2021-11-21T13:16:43.907Z"
   },
   {
    "duration": 8,
    "start_time": "2021-11-21T13:19:01.552Z"
   },
   {
    "duration": 5,
    "start_time": "2021-11-21T13:31:21.921Z"
   },
   {
    "duration": 30,
    "start_time": "2021-11-21T13:31:50.373Z"
   },
   {
    "duration": 678,
    "start_time": "2021-11-21T13:32:35.805Z"
   },
   {
    "duration": 9,
    "start_time": "2021-11-21T13:32:49.665Z"
   },
   {
    "duration": 8,
    "start_time": "2021-11-21T13:33:07.806Z"
   },
   {
    "duration": 8,
    "start_time": "2021-11-21T13:33:13.296Z"
   },
   {
    "duration": 9,
    "start_time": "2021-11-21T13:33:21.076Z"
   },
   {
    "duration": 173,
    "start_time": "2021-11-21T13:34:51.937Z"
   },
   {
    "duration": 9,
    "start_time": "2021-11-21T13:35:05.713Z"
   },
   {
    "duration": 5,
    "start_time": "2021-11-21T13:42:37.447Z"
   },
   {
    "duration": 24,
    "start_time": "2021-11-21T13:42:39.700Z"
   },
   {
    "duration": 9,
    "start_time": "2021-11-21T13:42:43.572Z"
   },
   {
    "duration": 5,
    "start_time": "2021-11-21T13:44:35.382Z"
   },
   {
    "duration": 51,
    "start_time": "2021-11-21T13:44:37.427Z"
   },
   {
    "duration": 7,
    "start_time": "2021-11-21T13:44:39.404Z"
   },
   {
    "duration": 72,
    "start_time": "2021-11-21T13:45:11.308Z"
   },
   {
    "duration": 8,
    "start_time": "2021-11-21T13:45:13.085Z"
   },
   {
    "duration": 4,
    "start_time": "2021-11-21T13:54:29.791Z"
   },
   {
    "duration": 78,
    "start_time": "2021-11-21T13:54:32.137Z"
   },
   {
    "duration": 11,
    "start_time": "2021-11-21T13:54:35.757Z"
   },
   {
    "duration": 798,
    "start_time": "2021-11-21T13:55:32.171Z"
   },
   {
    "duration": 183,
    "start_time": "2021-11-21T13:55:32.972Z"
   },
   {
    "duration": 24,
    "start_time": "2021-11-21T13:55:33.160Z"
   },
   {
    "duration": 35,
    "start_time": "2021-11-21T13:55:33.187Z"
   },
   {
    "duration": 6,
    "start_time": "2021-11-21T13:55:33.225Z"
   },
   {
    "duration": 27,
    "start_time": "2021-11-21T13:55:33.259Z"
   },
   {
    "duration": 7,
    "start_time": "2021-11-21T13:55:33.289Z"
   },
   {
    "duration": 61,
    "start_time": "2021-11-21T13:55:33.300Z"
   },
   {
    "duration": 22,
    "start_time": "2021-11-21T13:55:33.363Z"
   },
   {
    "duration": 30,
    "start_time": "2021-11-21T13:55:33.388Z"
   },
   {
    "duration": 109,
    "start_time": "2021-11-21T13:55:33.420Z"
   },
   {
    "duration": 109,
    "start_time": "2021-11-21T13:55:33.531Z"
   },
   {
    "duration": 81,
    "start_time": "2021-11-21T13:55:33.643Z"
   },
   {
    "duration": 8,
    "start_time": "2021-11-21T13:55:33.727Z"
   },
   {
    "duration": 4,
    "start_time": "2021-11-21T13:55:33.760Z"
   },
   {
    "duration": 67,
    "start_time": "2021-11-21T13:55:33.766Z"
   },
   {
    "duration": 24,
    "start_time": "2021-11-21T13:55:33.836Z"
   },
   {
    "duration": 31,
    "start_time": "2021-11-21T14:00:24.476Z"
   },
   {
    "duration": 744,
    "start_time": "2021-11-21T14:00:50.299Z"
   },
   {
    "duration": 192,
    "start_time": "2021-11-21T14:00:51.045Z"
   },
   {
    "duration": 30,
    "start_time": "2021-11-21T14:00:51.240Z"
   },
   {
    "duration": 40,
    "start_time": "2021-11-21T14:00:51.273Z"
   },
   {
    "duration": 5,
    "start_time": "2021-11-21T14:00:51.316Z"
   },
   {
    "duration": 56,
    "start_time": "2021-11-21T14:00:51.324Z"
   },
   {
    "duration": 5,
    "start_time": "2021-11-21T14:00:51.383Z"
   },
   {
    "duration": 29,
    "start_time": "2021-11-21T14:01:13.174Z"
   },
   {
    "duration": 23,
    "start_time": "2021-11-21T14:01:18.481Z"
   },
   {
    "duration": 48,
    "start_time": "2021-11-21T14:01:28.818Z"
   },
   {
    "duration": 83,
    "start_time": "2021-11-21T14:01:40.566Z"
   },
   {
    "duration": 103,
    "start_time": "2021-11-21T14:01:44.365Z"
   },
   {
    "duration": 115,
    "start_time": "2021-11-21T14:01:53.043Z"
   },
   {
    "duration": 11,
    "start_time": "2021-11-21T14:01:57.802Z"
   },
   {
    "duration": 5,
    "start_time": "2021-11-21T14:02:03.266Z"
   },
   {
    "duration": 94,
    "start_time": "2021-11-21T14:02:05.246Z"
   },
   {
    "duration": 10,
    "start_time": "2021-11-21T14:02:07.970Z"
   },
   {
    "duration": 444,
    "start_time": "2021-11-22T13:39:39.381Z"
   },
   {
    "duration": 388,
    "start_time": "2021-11-22T13:40:21.861Z"
   },
   {
    "duration": 485,
    "start_time": "2021-11-22T13:40:30.141Z"
   },
   {
    "duration": 858,
    "start_time": "2021-11-22T13:40:58.343Z"
   },
   {
    "duration": 181,
    "start_time": "2021-11-22T13:40:59.204Z"
   },
   {
    "duration": 25,
    "start_time": "2021-11-22T13:40:59.388Z"
   },
   {
    "duration": 49,
    "start_time": "2021-11-22T13:40:59.416Z"
   },
   {
    "duration": 5,
    "start_time": "2021-11-22T13:40:59.468Z"
   },
   {
    "duration": 32,
    "start_time": "2021-11-22T13:40:59.475Z"
   },
   {
    "duration": 7,
    "start_time": "2021-11-22T13:40:59.510Z"
   },
   {
    "duration": 60,
    "start_time": "2021-11-22T13:40:59.521Z"
   },
   {
    "duration": 25,
    "start_time": "2021-11-22T13:40:59.584Z"
   },
   {
    "duration": 48,
    "start_time": "2021-11-22T13:40:59.611Z"
   },
   {
    "duration": 98,
    "start_time": "2021-11-22T13:40:59.662Z"
   },
   {
    "duration": 112,
    "start_time": "2021-11-22T13:40:59.762Z"
   },
   {
    "duration": 85,
    "start_time": "2021-11-22T13:40:59.877Z"
   },
   {
    "duration": 8,
    "start_time": "2021-11-22T13:40:59.964Z"
   },
   {
    "duration": 11,
    "start_time": "2021-11-22T13:40:59.974Z"
   },
   {
    "duration": 91,
    "start_time": "2021-11-22T13:40:59.987Z"
   },
   {
    "duration": 8,
    "start_time": "2021-11-22T13:41:00.080Z"
   },
   {
    "duration": 25,
    "start_time": "2021-11-22T13:41:00.091Z"
   },
   {
    "duration": 13,
    "start_time": "2021-11-22T13:43:02.700Z"
   },
   {
    "duration": 939,
    "start_time": "2021-11-22T13:43:14.353Z"
   },
   {
    "duration": 187,
    "start_time": "2021-11-22T13:43:15.294Z"
   },
   {
    "duration": 27,
    "start_time": "2021-11-22T13:43:15.485Z"
   },
   {
    "duration": 52,
    "start_time": "2021-11-22T13:43:15.514Z"
   },
   {
    "duration": 8,
    "start_time": "2021-11-22T13:43:15.569Z"
   },
   {
    "duration": 47,
    "start_time": "2021-11-22T13:43:15.579Z"
   },
   {
    "duration": 13,
    "start_time": "2021-11-22T13:43:15.629Z"
   },
   {
    "duration": 67,
    "start_time": "2021-11-22T13:43:15.644Z"
   },
   {
    "duration": 31,
    "start_time": "2021-11-22T13:43:15.714Z"
   },
   {
    "duration": 30,
    "start_time": "2021-11-22T13:43:15.747Z"
   },
   {
    "duration": 101,
    "start_time": "2021-11-22T13:43:15.780Z"
   },
   {
    "duration": 111,
    "start_time": "2021-11-22T13:43:15.883Z"
   },
   {
    "duration": 85,
    "start_time": "2021-11-22T13:43:15.997Z"
   },
   {
    "duration": 7,
    "start_time": "2021-11-22T13:43:16.085Z"
   },
   {
    "duration": 12,
    "start_time": "2021-11-22T13:43:16.094Z"
   },
   {
    "duration": 88,
    "start_time": "2021-11-22T13:43:16.108Z"
   },
   {
    "duration": 9,
    "start_time": "2021-11-22T13:43:16.198Z"
   },
   {
    "duration": 15,
    "start_time": "2021-11-22T13:43:25.521Z"
   },
   {
    "duration": 14,
    "start_time": "2021-11-22T13:47:24.081Z"
   },
   {
    "duration": 581,
    "start_time": "2021-11-22T13:57:37.184Z"
   },
   {
    "duration": 6,
    "start_time": "2021-11-22T13:57:42.745Z"
   },
   {
    "duration": 421,
    "start_time": "2021-11-22T13:57:45.180Z"
   },
   {
    "duration": 26,
    "start_time": "2021-11-22T13:57:58.145Z"
   },
   {
    "duration": 32,
    "start_time": "2021-11-22T13:58:10.848Z"
   },
   {
    "duration": 26,
    "start_time": "2021-11-22T13:58:43.209Z"
   },
   {
    "duration": 23,
    "start_time": "2021-11-22T13:59:28.177Z"
   },
   {
    "duration": 24,
    "start_time": "2021-11-22T14:00:24.865Z"
   },
   {
    "duration": 31,
    "start_time": "2021-11-22T14:00:27.505Z"
   },
   {
    "duration": 19,
    "start_time": "2021-11-22T14:00:55.712Z"
   },
   {
    "duration": 197,
    "start_time": "2021-11-22T14:05:24.016Z"
   },
   {
    "duration": 12,
    "start_time": "2021-11-22T14:06:13.913Z"
   },
   {
    "duration": 404,
    "start_time": "2021-11-22T14:36:21.488Z"
   },
   {
    "duration": 29,
    "start_time": "2021-11-22T14:36:30.912Z"
   },
   {
    "duration": 27,
    "start_time": "2021-11-22T14:37:15.400Z"
   },
   {
    "duration": 6,
    "start_time": "2021-11-23T10:51:36.651Z"
   },
   {
    "duration": 289,
    "start_time": "2021-11-23T10:53:23.331Z"
   },
   {
    "duration": 264,
    "start_time": "2021-11-23T10:54:13.434Z"
   },
   {
    "duration": 564,
    "start_time": "2021-11-23T10:56:33.816Z"
   },
   {
    "duration": 137,
    "start_time": "2021-11-23T10:56:34.382Z"
   },
   {
    "duration": 16,
    "start_time": "2021-11-23T10:56:34.521Z"
   },
   {
    "duration": 30,
    "start_time": "2021-11-23T10:56:34.539Z"
   },
   {
    "duration": 3,
    "start_time": "2021-11-23T10:56:34.571Z"
   },
   {
    "duration": 23,
    "start_time": "2021-11-23T10:56:34.576Z"
   },
   {
    "duration": 7,
    "start_time": "2021-11-23T10:56:34.601Z"
   },
   {
    "duration": 28,
    "start_time": "2021-11-23T10:56:34.611Z"
   },
   {
    "duration": 34,
    "start_time": "2021-11-23T10:56:34.641Z"
   },
   {
    "duration": 26,
    "start_time": "2021-11-23T10:56:34.676Z"
   },
   {
    "duration": 77,
    "start_time": "2021-11-23T10:56:34.704Z"
   },
   {
    "duration": 82,
    "start_time": "2021-11-23T10:56:34.783Z"
   },
   {
    "duration": 52,
    "start_time": "2021-11-23T10:56:34.866Z"
   },
   {
    "duration": 6,
    "start_time": "2021-11-23T10:56:34.920Z"
   },
   {
    "duration": 19,
    "start_time": "2021-11-23T10:56:34.927Z"
   },
   {
    "duration": 50,
    "start_time": "2021-11-23T10:56:34.948Z"
   },
   {
    "duration": 5,
    "start_time": "2021-11-23T10:56:35.000Z"
   },
   {
    "duration": 13,
    "start_time": "2021-11-23T10:56:35.007Z"
   },
   {
    "duration": 10,
    "start_time": "2021-11-23T10:56:35.022Z"
   },
   {
    "duration": 4,
    "start_time": "2021-11-23T10:56:35.034Z"
   },
   {
    "duration": 42,
    "start_time": "2021-11-23T10:56:35.039Z"
   },
   {
    "duration": 15,
    "start_time": "2021-11-23T10:56:35.083Z"
   },
   {
    "duration": 17,
    "start_time": "2021-11-23T10:56:35.102Z"
   },
   {
    "duration": 56,
    "start_time": "2021-11-23T10:56:35.121Z"
   },
   {
    "duration": 23,
    "start_time": "2021-11-23T10:56:35.179Z"
   },
   {
    "duration": 20,
    "start_time": "2021-11-23T10:56:35.204Z"
   },
   {
    "duration": 14,
    "start_time": "2021-11-23T10:56:35.226Z"
   },
   {
    "duration": 49,
    "start_time": "2021-11-23T10:56:35.242Z"
   },
   {
    "duration": 22,
    "start_time": "2021-11-23T10:56:35.293Z"
   },
   {
    "duration": 4,
    "start_time": "2021-11-23T10:56:35.317Z"
   },
   {
    "duration": 1470,
    "start_time": "2021-11-23T10:56:35.323Z"
   },
   {
    "duration": 4,
    "start_time": "2021-11-23T11:01:08.757Z"
   },
   {
    "duration": 18,
    "start_time": "2021-11-23T11:01:11.475Z"
   },
   {
    "duration": 255,
    "start_time": "2021-11-23T11:02:20.631Z"
   },
   {
    "duration": 13,
    "start_time": "2021-11-23T11:02:28.646Z"
   },
   {
    "duration": 20,
    "start_time": "2021-11-23T11:03:16.742Z"
   },
   {
    "duration": 17,
    "start_time": "2021-11-23T11:03:49.845Z"
   },
   {
    "duration": 324,
    "start_time": "2021-11-23T12:32:03.965Z"
   },
   {
    "duration": 10,
    "start_time": "2021-11-23T12:33:38.956Z"
   },
   {
    "duration": 5,
    "start_time": "2021-11-23T12:35:45.861Z"
   },
   {
    "duration": 7,
    "start_time": "2021-11-23T12:38:17.084Z"
   },
   {
    "duration": 5,
    "start_time": "2021-11-23T12:40:09.819Z"
   },
   {
    "duration": 784,
    "start_time": "2021-11-23T19:02:58.011Z"
   },
   {
    "duration": 193,
    "start_time": "2021-11-23T19:02:58.881Z"
   },
   {
    "duration": 26,
    "start_time": "2021-11-23T19:02:59.762Z"
   },
   {
    "duration": 33,
    "start_time": "2021-11-23T19:03:00.660Z"
   },
   {
    "duration": 5,
    "start_time": "2021-11-23T19:03:02.862Z"
   },
   {
    "duration": 33,
    "start_time": "2021-11-23T19:03:03.746Z"
   },
   {
    "duration": 374,
    "start_time": "2021-11-23T19:04:20.558Z"
   },
   {
    "duration": 270,
    "start_time": "2021-11-23T19:04:23.183Z"
   },
   {
    "duration": 283,
    "start_time": "2021-11-23T19:04:24.031Z"
   },
   {
    "duration": 16,
    "start_time": "2021-11-23T19:04:27.467Z"
   },
   {
    "duration": 16,
    "start_time": "2021-11-23T19:04:28.309Z"
   },
   {
    "duration": 261,
    "start_time": "2021-11-23T19:04:32.051Z"
   },
   {
    "duration": 2057,
    "start_time": "2021-11-23T19:04:30.258Z"
   },
   {
    "duration": 2053,
    "start_time": "2021-11-23T19:04:30.264Z"
   },
   {
    "duration": 256,
    "start_time": "2021-11-23T19:04:32.667Z"
   },
   {
    "duration": 312,
    "start_time": "2021-11-23T19:04:33.128Z"
   },
   {
    "duration": 250,
    "start_time": "2021-11-23T19:04:33.552Z"
   },
   {
    "duration": 34,
    "start_time": "2021-11-23T19:04:37.446Z"
   },
   {
    "duration": 29,
    "start_time": "2021-11-23T19:04:37.869Z"
   },
   {
    "duration": 258,
    "start_time": "2021-11-23T19:04:40.615Z"
   },
   {
    "duration": 520,
    "start_time": "2021-11-23T19:04:41.039Z"
   },
   {
    "duration": 2090,
    "start_time": "2021-11-23T19:04:39.471Z"
   },
   {
    "duration": 13,
    "start_time": "2021-11-23T19:04:44.502Z"
   },
   {
    "duration": 10,
    "start_time": "2021-11-23T19:04:47.118Z"
   },
   {
    "duration": 7,
    "start_time": "2021-11-23T19:04:48.003Z"
   },
   {
    "duration": 781,
    "start_time": "2021-11-23T19:05:11.835Z"
   },
   {
    "duration": 195,
    "start_time": "2021-11-23T19:05:12.619Z"
   },
   {
    "duration": 26,
    "start_time": "2021-11-23T19:05:12.817Z"
   },
   {
    "duration": 35,
    "start_time": "2021-11-23T19:05:12.846Z"
   },
   {
    "duration": 4,
    "start_time": "2021-11-23T19:05:12.902Z"
   },
   {
    "duration": 34,
    "start_time": "2021-11-23T19:05:12.908Z"
   },
   {
    "duration": 5,
    "start_time": "2021-11-23T19:05:12.944Z"
   },
   {
    "duration": 59,
    "start_time": "2021-11-23T19:05:12.953Z"
   },
   {
    "duration": 23,
    "start_time": "2021-11-23T19:05:13.015Z"
   },
   {
    "duration": 29,
    "start_time": "2021-11-23T19:05:13.041Z"
   },
   {
    "duration": 127,
    "start_time": "2021-11-23T19:05:13.073Z"
   },
   {
    "duration": 120,
    "start_time": "2021-11-23T19:05:13.204Z"
   },
   {
    "duration": 93,
    "start_time": "2021-11-23T19:05:13.327Z"
   },
   {
    "duration": 9,
    "start_time": "2021-11-23T19:05:13.424Z"
   },
   {
    "duration": 6,
    "start_time": "2021-11-23T19:05:13.436Z"
   },
   {
    "duration": 99,
    "start_time": "2021-11-23T19:05:13.445Z"
   },
   {
    "duration": 8,
    "start_time": "2021-11-23T19:05:13.547Z"
   },
   {
    "duration": 14,
    "start_time": "2021-11-23T19:05:13.558Z"
   },
   {
    "duration": 39,
    "start_time": "2021-11-23T19:05:13.574Z"
   },
   {
    "duration": 4,
    "start_time": "2021-11-23T19:05:13.615Z"
   },
   {
    "duration": 25,
    "start_time": "2021-11-23T19:05:13.622Z"
   },
   {
    "duration": 52,
    "start_time": "2021-11-23T19:05:13.649Z"
   },
   {
    "duration": 19,
    "start_time": "2021-11-23T19:05:13.705Z"
   },
   {
    "duration": 20,
    "start_time": "2021-11-23T19:05:13.727Z"
   },
   {
    "duration": 50,
    "start_time": "2021-11-23T19:05:13.750Z"
   },
   {
    "duration": 18,
    "start_time": "2021-11-23T19:05:13.803Z"
   },
   {
    "duration": 13,
    "start_time": "2021-11-23T19:05:13.824Z"
   },
   {
    "duration": 62,
    "start_time": "2021-11-23T19:05:13.840Z"
   },
   {
    "duration": 32,
    "start_time": "2021-11-23T19:05:13.905Z"
   },
   {
    "duration": 6,
    "start_time": "2021-11-23T19:05:13.941Z"
   },
   {
    "duration": 65,
    "start_time": "2021-11-23T19:05:13.950Z"
   },
   {
    "duration": 20,
    "start_time": "2021-11-23T19:05:14.018Z"
   },
   {
    "duration": 24,
    "start_time": "2021-11-23T19:05:14.040Z"
   },
   {
    "duration": 47,
    "start_time": "2021-11-23T19:05:14.067Z"
   },
   {
    "duration": 10,
    "start_time": "2021-11-23T19:05:14.116Z"
   },
   {
    "duration": 5,
    "start_time": "2021-11-23T19:05:14.129Z"
   },
   {
    "duration": 12,
    "start_time": "2021-11-23T19:05:14.136Z"
   },
   {
    "duration": 8,
    "start_time": "2021-11-23T19:05:14.151Z"
   },
   {
    "duration": 411,
    "start_time": "2022-12-07T14:38:09.211Z"
   },
   {
    "duration": 298,
    "start_time": "2022-12-07T14:38:09.624Z"
   },
   {
    "duration": 18,
    "start_time": "2022-12-07T14:38:09.924Z"
   },
   {
    "duration": 35,
    "start_time": "2022-12-07T14:38:09.944Z"
   },
   {
    "duration": 40,
    "start_time": "2022-12-07T14:38:09.981Z"
   },
   {
    "duration": 28,
    "start_time": "2022-12-07T14:38:10.023Z"
   },
   {
    "duration": 11,
    "start_time": "2022-12-07T14:38:10.053Z"
   },
   {
    "duration": 72,
    "start_time": "2022-12-07T14:38:10.066Z"
   },
   {
    "duration": 32,
    "start_time": "2022-12-07T14:38:10.139Z"
   },
   {
    "duration": 52,
    "start_time": "2022-12-07T14:38:10.174Z"
   },
   {
    "duration": 88,
    "start_time": "2022-12-07T14:38:10.227Z"
   },
   {
    "duration": 82,
    "start_time": "2022-12-07T14:38:10.316Z"
   },
   {
    "duration": 60,
    "start_time": "2022-12-07T14:38:10.401Z"
   },
   {
    "duration": 17,
    "start_time": "2022-12-07T14:38:10.463Z"
   },
   {
    "duration": 39,
    "start_time": "2022-12-07T14:38:10.482Z"
   },
   {
    "duration": 53,
    "start_time": "2022-12-07T14:38:10.523Z"
   },
   {
    "duration": 9,
    "start_time": "2022-12-07T14:38:10.578Z"
   },
   {
    "duration": 29,
    "start_time": "2022-12-07T14:38:10.591Z"
   },
   {
    "duration": 14,
    "start_time": "2022-12-07T14:38:10.622Z"
   },
   {
    "duration": 4,
    "start_time": "2022-12-07T14:38:10.637Z"
   },
   {
    "duration": 82,
    "start_time": "2022-12-07T14:38:10.642Z"
   },
   {
    "duration": 0,
    "start_time": "2022-12-07T14:38:10.726Z"
   },
   {
    "duration": 0,
    "start_time": "2022-12-07T14:38:10.727Z"
   },
   {
    "duration": 0,
    "start_time": "2022-12-07T14:38:10.728Z"
   },
   {
    "duration": 0,
    "start_time": "2022-12-07T14:38:10.729Z"
   },
   {
    "duration": 0,
    "start_time": "2022-12-07T14:38:10.730Z"
   },
   {
    "duration": 0,
    "start_time": "2022-12-07T14:38:10.731Z"
   },
   {
    "duration": 0,
    "start_time": "2022-12-07T14:38:10.732Z"
   },
   {
    "duration": 0,
    "start_time": "2022-12-07T14:38:10.733Z"
   },
   {
    "duration": 0,
    "start_time": "2022-12-07T14:38:10.734Z"
   },
   {
    "duration": 0,
    "start_time": "2022-12-07T14:38:10.735Z"
   },
   {
    "duration": 0,
    "start_time": "2022-12-07T14:38:10.737Z"
   },
   {
    "duration": 0,
    "start_time": "2022-12-07T14:38:10.737Z"
   },
   {
    "duration": 0,
    "start_time": "2022-12-07T14:38:10.738Z"
   },
   {
    "duration": 0,
    "start_time": "2022-12-07T14:38:10.739Z"
   },
   {
    "duration": 0,
    "start_time": "2022-12-07T14:38:10.741Z"
   },
   {
    "duration": 0,
    "start_time": "2022-12-07T14:38:10.742Z"
   },
   {
    "duration": 0,
    "start_time": "2022-12-07T14:38:10.743Z"
   },
   {
    "duration": 2,
    "start_time": "2022-12-07T14:38:37.718Z"
   },
   {
    "duration": 222,
    "start_time": "2022-12-07T14:38:37.723Z"
   },
   {
    "duration": 11,
    "start_time": "2022-12-07T14:38:37.947Z"
   },
   {
    "duration": 55,
    "start_time": "2022-12-07T14:38:37.959Z"
   },
   {
    "duration": 8,
    "start_time": "2022-12-07T14:38:38.016Z"
   },
   {
    "duration": 13,
    "start_time": "2022-12-07T14:38:38.025Z"
   },
   {
    "duration": 3,
    "start_time": "2022-12-07T14:38:38.040Z"
   },
   {
    "duration": 56,
    "start_time": "2022-12-07T14:38:38.045Z"
   },
   {
    "duration": 25,
    "start_time": "2022-12-07T14:38:38.104Z"
   },
   {
    "duration": 29,
    "start_time": "2022-12-07T14:38:38.130Z"
   },
   {
    "duration": 90,
    "start_time": "2022-12-07T14:38:38.162Z"
   },
   {
    "duration": 103,
    "start_time": "2022-12-07T14:38:38.255Z"
   },
   {
    "duration": 75,
    "start_time": "2022-12-07T14:38:38.360Z"
   },
   {
    "duration": 6,
    "start_time": "2022-12-07T14:38:38.437Z"
   },
   {
    "duration": 6,
    "start_time": "2022-12-07T14:38:38.444Z"
   },
   {
    "duration": 77,
    "start_time": "2022-12-07T14:38:38.452Z"
   },
   {
    "duration": 7,
    "start_time": "2022-12-07T14:38:38.531Z"
   },
   {
    "duration": 13,
    "start_time": "2022-12-07T14:38:38.540Z"
   },
   {
    "duration": 25,
    "start_time": "2022-12-07T14:38:38.555Z"
   },
   {
    "duration": 4,
    "start_time": "2022-12-07T14:38:38.582Z"
   },
   {
    "duration": 32,
    "start_time": "2022-12-07T14:38:38.588Z"
   },
   {
    "duration": 0,
    "start_time": "2022-12-07T14:38:38.622Z"
   },
   {
    "duration": 0,
    "start_time": "2022-12-07T14:38:38.623Z"
   },
   {
    "duration": 0,
    "start_time": "2022-12-07T14:38:38.624Z"
   },
   {
    "duration": 0,
    "start_time": "2022-12-07T14:38:38.625Z"
   },
   {
    "duration": 0,
    "start_time": "2022-12-07T14:38:38.626Z"
   },
   {
    "duration": 0,
    "start_time": "2022-12-07T14:38:38.627Z"
   },
   {
    "duration": 0,
    "start_time": "2022-12-07T14:38:38.628Z"
   },
   {
    "duration": 0,
    "start_time": "2022-12-07T14:38:38.629Z"
   },
   {
    "duration": 0,
    "start_time": "2022-12-07T14:38:38.630Z"
   },
   {
    "duration": 0,
    "start_time": "2022-12-07T14:38:38.631Z"
   },
   {
    "duration": 0,
    "start_time": "2022-12-07T14:38:38.633Z"
   },
   {
    "duration": 0,
    "start_time": "2022-12-07T14:38:38.634Z"
   },
   {
    "duration": 0,
    "start_time": "2022-12-07T14:38:38.635Z"
   },
   {
    "duration": 0,
    "start_time": "2022-12-07T14:38:38.636Z"
   },
   {
    "duration": 0,
    "start_time": "2022-12-07T14:38:38.637Z"
   },
   {
    "duration": 0,
    "start_time": "2022-12-07T14:38:38.638Z"
   },
   {
    "duration": 0,
    "start_time": "2022-12-07T14:38:38.639Z"
   },
   {
    "duration": 3,
    "start_time": "2022-12-07T14:39:33.111Z"
   },
   {
    "duration": 11,
    "start_time": "2022-12-07T14:39:38.441Z"
   },
   {
    "duration": 5,
    "start_time": "2022-12-07T14:40:25.640Z"
   },
   {
    "duration": 25,
    "start_time": "2022-12-07T14:40:28.368Z"
   },
   {
    "duration": 425,
    "start_time": "2022-12-07T14:40:33.505Z"
   },
   {
    "duration": 200,
    "start_time": "2022-12-07T14:40:33.932Z"
   },
   {
    "duration": 17,
    "start_time": "2022-12-07T14:40:34.134Z"
   },
   {
    "duration": 113,
    "start_time": "2022-12-07T14:40:34.153Z"
   },
   {
    "duration": 3,
    "start_time": "2022-12-07T14:40:34.268Z"
   },
   {
    "duration": 40,
    "start_time": "2022-12-07T14:40:34.273Z"
   },
   {
    "duration": 6,
    "start_time": "2022-12-07T14:40:34.315Z"
   },
   {
    "duration": 26,
    "start_time": "2022-12-07T14:40:34.323Z"
   },
   {
    "duration": 18,
    "start_time": "2022-12-07T14:40:34.351Z"
   },
   {
    "duration": 41,
    "start_time": "2022-12-07T14:40:34.372Z"
   },
   {
    "duration": 77,
    "start_time": "2022-12-07T14:40:34.414Z"
   },
   {
    "duration": 95,
    "start_time": "2022-12-07T14:40:34.493Z"
   },
   {
    "duration": 64,
    "start_time": "2022-12-07T14:40:34.598Z"
   },
   {
    "duration": 6,
    "start_time": "2022-12-07T14:40:34.664Z"
   },
   {
    "duration": 8,
    "start_time": "2022-12-07T14:40:34.675Z"
   },
   {
    "duration": 76,
    "start_time": "2022-12-07T14:40:34.685Z"
   },
   {
    "duration": 7,
    "start_time": "2022-12-07T14:40:34.763Z"
   },
   {
    "duration": 48,
    "start_time": "2022-12-07T14:40:34.773Z"
   },
   {
    "duration": 14,
    "start_time": "2022-12-07T14:40:34.823Z"
   },
   {
    "duration": 6,
    "start_time": "2022-12-07T14:40:34.839Z"
   },
   {
    "duration": 41,
    "start_time": "2022-12-07T14:40:34.847Z"
   },
   {
    "duration": 33,
    "start_time": "2022-12-07T14:40:34.890Z"
   },
   {
    "duration": 27,
    "start_time": "2022-12-07T14:40:34.925Z"
   },
   {
    "duration": 16,
    "start_time": "2022-12-07T14:40:34.955Z"
   },
   {
    "duration": 32,
    "start_time": "2022-12-07T14:40:34.973Z"
   },
   {
    "duration": 21,
    "start_time": "2022-12-07T14:40:35.008Z"
   },
   {
    "duration": 13,
    "start_time": "2022-12-07T14:40:35.031Z"
   },
   {
    "duration": 38,
    "start_time": "2022-12-07T14:40:35.047Z"
   },
   {
    "duration": 32,
    "start_time": "2022-12-07T14:40:35.087Z"
   },
   {
    "duration": 4,
    "start_time": "2022-12-07T14:40:35.120Z"
   },
   {
    "duration": 21,
    "start_time": "2022-12-07T14:40:35.126Z"
   },
   {
    "duration": 12,
    "start_time": "2022-12-07T14:40:35.149Z"
   },
   {
    "duration": 37,
    "start_time": "2022-12-07T14:40:35.162Z"
   },
   {
    "duration": 20,
    "start_time": "2022-12-07T14:40:35.201Z"
   },
   {
    "duration": 10,
    "start_time": "2022-12-07T14:40:35.222Z"
   },
   {
    "duration": 4,
    "start_time": "2022-12-07T14:40:35.235Z"
   },
   {
    "duration": 45,
    "start_time": "2022-12-07T14:40:35.241Z"
   },
   {
    "duration": 32,
    "start_time": "2022-12-07T14:40:35.288Z"
   }
  ],
  "colab": {
   "collapsed_sections": [
    "E0vqbgi9ay0H",
    "VUC88oWjTJw2"
   ],
   "name": "yandex_music_project_2021.2.ipynb",
   "provenance": []
  },
  "kernelspec": {
   "display_name": "Python 3 (ipykernel)",
   "language": "python",
   "name": "python3"
  },
  "language_info": {
   "codemirror_mode": {
    "name": "ipython",
    "version": 3
   },
   "file_extension": ".py",
   "mimetype": "text/x-python",
   "name": "python",
   "nbconvert_exporter": "python",
   "pygments_lexer": "ipython3",
   "version": "3.9.12"
  },
  "toc": {
   "base_numbering": 1,
   "nav_menu": {},
   "number_sections": true,
   "sideBar": true,
   "skip_h1_title": true,
   "title_cell": "Table of Contents",
   "title_sidebar": "Contents",
   "toc_cell": false,
   "toc_position": {},
   "toc_section_display": true,
   "toc_window_display": false
  }
 },
 "nbformat": 4,
 "nbformat_minor": 1
}
