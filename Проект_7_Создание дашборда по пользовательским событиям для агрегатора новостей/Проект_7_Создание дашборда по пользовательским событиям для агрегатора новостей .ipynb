{
 "cells": [
  {
   "cell_type": "markdown",
   "id": "140a3b86",
   "metadata": {},
   "source": [
    "# Проект \"Анализ взаимодействия пользователей с карточками Яндекс.Дзен\" "
   ]
  },
  {
   "cell_type": "markdown",
   "id": "4bd98c17",
   "metadata": {},
   "source": [
    "### Содержание:\n",
    "\n",
    "1. [Выгрузка данных.](#intro) \n",
    "2. [Предобработка данных.](#intro1) \n",
    "3. [Сохранение полученных данных в файл.](#intro2)\n",
    "4. [Дашборд.](#intro3)\n",
    "4. [Презентация.](#intro4)"
   ]
  },
  {
   "cell_type": "markdown",
   "id": "f911e0c8",
   "metadata": {},
   "source": [
    "## 1.Выгрузка данных. <a id='intro'></a>"
   ]
  },
  {
   "cell_type": "code",
   "execution_count": 1,
   "id": "94193ffe",
   "metadata": {},
   "outputs": [
    {
     "data": {
      "text/html": [
       "<div>\n",
       "<style scoped>\n",
       "    .dataframe tbody tr th:only-of-type {\n",
       "        vertical-align: middle;\n",
       "    }\n",
       "\n",
       "    .dataframe tbody tr th {\n",
       "        vertical-align: top;\n",
       "    }\n",
       "\n",
       "    .dataframe thead th {\n",
       "        text-align: right;\n",
       "    }\n",
       "</style>\n",
       "<table border=\"1\" class=\"dataframe\">\n",
       "  <thead>\n",
       "    <tr style=\"text-align: right;\">\n",
       "      <th></th>\n",
       "      <th>record_id</th>\n",
       "      <th>item_topic</th>\n",
       "      <th>source_topic</th>\n",
       "      <th>age_segment</th>\n",
       "      <th>dt</th>\n",
       "      <th>visits</th>\n",
       "    </tr>\n",
       "  </thead>\n",
       "  <tbody>\n",
       "    <tr>\n",
       "      <th>0</th>\n",
       "      <td>1040597</td>\n",
       "      <td>Деньги</td>\n",
       "      <td>Авто</td>\n",
       "      <td>18-25</td>\n",
       "      <td>2019-09-24 18:32:00</td>\n",
       "      <td>3</td>\n",
       "    </tr>\n",
       "    <tr>\n",
       "      <th>1</th>\n",
       "      <td>1040598</td>\n",
       "      <td>Деньги</td>\n",
       "      <td>Авто</td>\n",
       "      <td>18-25</td>\n",
       "      <td>2019-09-24 18:35:00</td>\n",
       "      <td>1</td>\n",
       "    </tr>\n",
       "    <tr>\n",
       "      <th>2</th>\n",
       "      <td>1040599</td>\n",
       "      <td>Деньги</td>\n",
       "      <td>Авто</td>\n",
       "      <td>18-25</td>\n",
       "      <td>2019-09-24 18:54:00</td>\n",
       "      <td>4</td>\n",
       "    </tr>\n",
       "    <tr>\n",
       "      <th>3</th>\n",
       "      <td>1040600</td>\n",
       "      <td>Деньги</td>\n",
       "      <td>Авто</td>\n",
       "      <td>18-25</td>\n",
       "      <td>2019-09-24 18:55:00</td>\n",
       "      <td>17</td>\n",
       "    </tr>\n",
       "    <tr>\n",
       "      <th>4</th>\n",
       "      <td>1040601</td>\n",
       "      <td>Деньги</td>\n",
       "      <td>Авто</td>\n",
       "      <td>18-25</td>\n",
       "      <td>2019-09-24 18:56:00</td>\n",
       "      <td>27</td>\n",
       "    </tr>\n",
       "    <tr>\n",
       "      <th>5</th>\n",
       "      <td>1040602</td>\n",
       "      <td>Деньги</td>\n",
       "      <td>Авто</td>\n",
       "      <td>18-25</td>\n",
       "      <td>2019-09-24 18:57:00</td>\n",
       "      <td>22</td>\n",
       "    </tr>\n",
       "    <tr>\n",
       "      <th>6</th>\n",
       "      <td>1040603</td>\n",
       "      <td>Деньги</td>\n",
       "      <td>Авто</td>\n",
       "      <td>18-25</td>\n",
       "      <td>2019-09-24 18:58:00</td>\n",
       "      <td>24</td>\n",
       "    </tr>\n",
       "    <tr>\n",
       "      <th>7</th>\n",
       "      <td>1040604</td>\n",
       "      <td>Деньги</td>\n",
       "      <td>Авто</td>\n",
       "      <td>18-25</td>\n",
       "      <td>2019-09-24 18:59:00</td>\n",
       "      <td>20</td>\n",
       "    </tr>\n",
       "    <tr>\n",
       "      <th>8</th>\n",
       "      <td>1040605</td>\n",
       "      <td>Деньги</td>\n",
       "      <td>Авто</td>\n",
       "      <td>18-25</td>\n",
       "      <td>2019-09-24 19:00:00</td>\n",
       "      <td>5</td>\n",
       "    </tr>\n",
       "    <tr>\n",
       "      <th>9</th>\n",
       "      <td>1040606</td>\n",
       "      <td>Деньги</td>\n",
       "      <td>Авто</td>\n",
       "      <td>26-30</td>\n",
       "      <td>2019-09-24 18:29:00</td>\n",
       "      <td>1</td>\n",
       "    </tr>\n",
       "    <tr>\n",
       "      <th>10</th>\n",
       "      <td>1040607</td>\n",
       "      <td>Деньги</td>\n",
       "      <td>Авто</td>\n",
       "      <td>26-30</td>\n",
       "      <td>2019-09-24 18:30:00</td>\n",
       "      <td>1</td>\n",
       "    </tr>\n",
       "    <tr>\n",
       "      <th>11</th>\n",
       "      <td>1040608</td>\n",
       "      <td>Деньги</td>\n",
       "      <td>Авто</td>\n",
       "      <td>26-30</td>\n",
       "      <td>2019-09-24 18:31:00</td>\n",
       "      <td>1</td>\n",
       "    </tr>\n",
       "    <tr>\n",
       "      <th>12</th>\n",
       "      <td>1040609</td>\n",
       "      <td>Деньги</td>\n",
       "      <td>Авто</td>\n",
       "      <td>26-30</td>\n",
       "      <td>2019-09-24 18:32:00</td>\n",
       "      <td>1</td>\n",
       "    </tr>\n",
       "    <tr>\n",
       "      <th>13</th>\n",
       "      <td>1040610</td>\n",
       "      <td>Деньги</td>\n",
       "      <td>Авто</td>\n",
       "      <td>26-30</td>\n",
       "      <td>2019-09-24 18:54:00</td>\n",
       "      <td>4</td>\n",
       "    </tr>\n",
       "    <tr>\n",
       "      <th>14</th>\n",
       "      <td>1040611</td>\n",
       "      <td>Деньги</td>\n",
       "      <td>Авто</td>\n",
       "      <td>26-30</td>\n",
       "      <td>2019-09-24 18:55:00</td>\n",
       "      <td>13</td>\n",
       "    </tr>\n",
       "  </tbody>\n",
       "</table>\n",
       "</div>"
      ],
      "text/plain": [
       "    record_id item_topic source_topic age_segment                  dt  visits\n",
       "0     1040597     Деньги         Авто       18-25 2019-09-24 18:32:00       3\n",
       "1     1040598     Деньги         Авто       18-25 2019-09-24 18:35:00       1\n",
       "2     1040599     Деньги         Авто       18-25 2019-09-24 18:54:00       4\n",
       "3     1040600     Деньги         Авто       18-25 2019-09-24 18:55:00      17\n",
       "4     1040601     Деньги         Авто       18-25 2019-09-24 18:56:00      27\n",
       "5     1040602     Деньги         Авто       18-25 2019-09-24 18:57:00      22\n",
       "6     1040603     Деньги         Авто       18-25 2019-09-24 18:58:00      24\n",
       "7     1040604     Деньги         Авто       18-25 2019-09-24 18:59:00      20\n",
       "8     1040605     Деньги         Авто       18-25 2019-09-24 19:00:00       5\n",
       "9     1040606     Деньги         Авто       26-30 2019-09-24 18:29:00       1\n",
       "10    1040607     Деньги         Авто       26-30 2019-09-24 18:30:00       1\n",
       "11    1040608     Деньги         Авто       26-30 2019-09-24 18:31:00       1\n",
       "12    1040609     Деньги         Авто       26-30 2019-09-24 18:32:00       1\n",
       "13    1040610     Деньги         Авто       26-30 2019-09-24 18:54:00       4\n",
       "14    1040611     Деньги         Авто       26-30 2019-09-24 18:55:00      13"
      ]
     },
     "execution_count": 1,
     "metadata": {},
     "output_type": "execute_result"
    }
   ],
   "source": [
    "# импортирование библиотек,\n",
    "# присоединение к базе данных,\n",
    "# выгрузка данных из таблицы БД,\n",
    "# сохранение в переменную dash_visits и\n",
    "# просмотр первых 15 значений\n",
    "\n",
    "import pandas as pd\n",
    "\n",
    "import matplotlib.pyplot as plt \n",
    "\n",
    "from sqlalchemy import create_engine\n",
    "\n",
    "db_config = {'user': 'praktikum_student', # имя пользователя\n",
    "            'pwd': 'Sdf4$2;d-d30pp', # пароль\n",
    "            'host': 'rc1b-wcoijxj3yxfsf3fs.mdb.yandexcloud.net',\n",
    "            'port': 6432, # порт подключения\n",
    "            'db': 'data-analyst-zen-project-db'} # название базы данных\n",
    "\n",
    "connection_string = 'postgresql://{}:{}@{}:{}/{}'.format(db_config['user'],\n",
    "                                                db_config['pwd'],\n",
    "                                                db_config['host'],\n",
    "                                                db_config['port'],\n",
    "                                                db_config['db'])\n",
    "\n",
    "engine = create_engine(connection_string) \n",
    "\n",
    "\n",
    "query = '''\n",
    "        SELECT *\n",
    "        FROM dash_visits\n",
    "        '''\n",
    "\n",
    "\n",
    "dash_visits = pd.io.sql.read_sql(query, con = engine)\n",
    "\n",
    "dash_visits.head(15)"
   ]
  },
  {
   "cell_type": "code",
   "execution_count": 2,
   "id": "e539ddd2",
   "metadata": {},
   "outputs": [
    {
     "name": "stdout",
     "output_type": "stream",
     "text": [
      "<class 'pandas.core.frame.DataFrame'>\n",
      "RangeIndex: 30745 entries, 0 to 30744\n",
      "Data columns (total 6 columns):\n",
      " #   Column        Non-Null Count  Dtype         \n",
      "---  ------        --------------  -----         \n",
      " 0   record_id     30745 non-null  int64         \n",
      " 1   item_topic    30745 non-null  object        \n",
      " 2   source_topic  30745 non-null  object        \n",
      " 3   age_segment   30745 non-null  object        \n",
      " 4   dt            30745 non-null  datetime64[ns]\n",
      " 5   visits        30745 non-null  int64         \n",
      "dtypes: datetime64[ns](1), int64(2), object(3)\n",
      "memory usage: 1.4+ MB\n"
     ]
    }
   ],
   "source": [
    "# получение общей информации о данных\n",
    "# из таблицы dash_visits\n",
    "\n",
    "dash_visits.info()"
   ]
  },
  {
   "cell_type": "code",
   "execution_count": 3,
   "id": "c5247837",
   "metadata": {},
   "outputs": [
    {
     "data": {
      "text/html": [
       "<div>\n",
       "<style scoped>\n",
       "    .dataframe tbody tr th:only-of-type {\n",
       "        vertical-align: middle;\n",
       "    }\n",
       "\n",
       "    .dataframe tbody tr th {\n",
       "        vertical-align: top;\n",
       "    }\n",
       "\n",
       "    .dataframe thead th {\n",
       "        text-align: right;\n",
       "    }\n",
       "</style>\n",
       "<table border=\"1\" class=\"dataframe\">\n",
       "  <thead>\n",
       "    <tr style=\"text-align: right;\">\n",
       "      <th></th>\n",
       "      <th>record_id</th>\n",
       "      <th>visits</th>\n",
       "    </tr>\n",
       "  </thead>\n",
       "  <tbody>\n",
       "    <tr>\n",
       "      <th>count</th>\n",
       "      <td>3.074500e+04</td>\n",
       "      <td>30745.000000</td>\n",
       "    </tr>\n",
       "    <tr>\n",
       "      <th>mean</th>\n",
       "      <td>1.055969e+06</td>\n",
       "      <td>10.089673</td>\n",
       "    </tr>\n",
       "    <tr>\n",
       "      <th>std</th>\n",
       "      <td>8.875461e+03</td>\n",
       "      <td>19.727601</td>\n",
       "    </tr>\n",
       "    <tr>\n",
       "      <th>min</th>\n",
       "      <td>1.040597e+06</td>\n",
       "      <td>1.000000</td>\n",
       "    </tr>\n",
       "    <tr>\n",
       "      <th>25%</th>\n",
       "      <td>1.048283e+06</td>\n",
       "      <td>1.000000</td>\n",
       "    </tr>\n",
       "    <tr>\n",
       "      <th>50%</th>\n",
       "      <td>1.055969e+06</td>\n",
       "      <td>3.000000</td>\n",
       "    </tr>\n",
       "    <tr>\n",
       "      <th>75%</th>\n",
       "      <td>1.063655e+06</td>\n",
       "      <td>10.000000</td>\n",
       "    </tr>\n",
       "    <tr>\n",
       "      <th>max</th>\n",
       "      <td>1.071341e+06</td>\n",
       "      <td>371.000000</td>\n",
       "    </tr>\n",
       "  </tbody>\n",
       "</table>\n",
       "</div>"
      ],
      "text/plain": [
       "          record_id        visits\n",
       "count  3.074500e+04  30745.000000\n",
       "mean   1.055969e+06     10.089673\n",
       "std    8.875461e+03     19.727601\n",
       "min    1.040597e+06      1.000000\n",
       "25%    1.048283e+06      1.000000\n",
       "50%    1.055969e+06      3.000000\n",
       "75%    1.063655e+06     10.000000\n",
       "max    1.071341e+06    371.000000"
      ]
     },
     "execution_count": 3,
     "metadata": {},
     "output_type": "execute_result"
    }
   ],
   "source": [
    "dash_visits.describe()"
   ]
  },
  {
   "cell_type": "markdown",
   "id": "a18351ca",
   "metadata": {},
   "source": [
    "Итак, в таблице `dash_visits` 6 столбцов. Типы данных - `datetime`, `int` и `object`.\n",
    "\n",
    "Согласно документации к данным:\n",
    "* `record_id` — первичный ключ;\n",
    "* `item_topic` — тема карточки;\n",
    "* `source_topic` — тема источника;\n",
    "* `age_segment` — возрастной сегмент;\n",
    "* `dt` — дата и время;\n",
    "* `visits` — количество событий."
   ]
  },
  {
   "cell_type": "markdown",
   "id": "ffe07345",
   "metadata": {},
   "source": [
    "Также по представленной информации мы видим, что пропуски отсуствуют в данных, названия столбцов указаны верно. Далее необходимо проверить данные на явные и неявные дубликаты, а также на возможные аномалии."
   ]
  },
  {
   "cell_type": "markdown",
   "id": "6070e24c",
   "metadata": {},
   "source": [
    "## 2.Предобработка данных. <a id='intro1'></a>"
   ]
  },
  {
   "cell_type": "code",
   "execution_count": 4,
   "id": "e6f3aafc",
   "metadata": {},
   "outputs": [
    {
     "data": {
      "text/plain": [
       "0"
      ]
     },
     "execution_count": 4,
     "metadata": {},
     "output_type": "execute_result"
    }
   ],
   "source": [
    "# получение информации об описательных статиcтических данных\n",
    "# в таблице dash_visits\n",
    "\n",
    "dash_visits.duplicated().sum()"
   ]
  },
  {
   "cell_type": "code",
   "execution_count": 5,
   "id": "196bed5d",
   "metadata": {},
   "outputs": [
    {
     "data": {
      "text/plain": [
       "1040597    1\n",
       "1060774    1\n",
       "1061102    1\n",
       "1061101    1\n",
       "1061100    1\n",
       "          ..\n",
       "1050841    1\n",
       "1050840    1\n",
       "1050839    1\n",
       "1050838    1\n",
       "1071341    1\n",
       "Name: record_id, Length: 30745, dtype: int64"
      ]
     },
     "execution_count": 5,
     "metadata": {},
     "output_type": "execute_result"
    }
   ],
   "source": [
    "# получение уникальных значений \n",
    "# столбца 'record_id'\n",
    "\n",
    "dash_visits['record_id'].value_counts()"
   ]
  },
  {
   "cell_type": "code",
   "execution_count": 6,
   "id": "f4a6983c",
   "metadata": {
    "scrolled": true
   },
   "outputs": [
    {
     "data": {
      "text/plain": [
       "array(['Деньги', 'Дети', 'Женская психология', 'Женщины', 'Здоровье',\n",
       "       'Знаменитости', 'Интересные факты', 'Искусство', 'История',\n",
       "       'Красота', 'Культура', 'Наука', 'Общество', 'Отношения',\n",
       "       'Подборки', 'Полезные советы', 'Психология', 'Путешествия',\n",
       "       'Рассказы', 'Россия', 'Семья', 'Скандалы', 'Туризм', 'Шоу', 'Юмор'],\n",
       "      dtype=object)"
      ]
     },
     "execution_count": 6,
     "metadata": {},
     "output_type": "execute_result"
    }
   ],
   "source": [
    "# получение уникальных значений \n",
    "# столбца 'item_topic'\n",
    "\n",
    "dash_visits['item_topic'].unique()"
   ]
  },
  {
   "cell_type": "code",
   "execution_count": 7,
   "id": "cbb4c131",
   "metadata": {},
   "outputs": [
    {
     "data": {
      "text/plain": [
       "array(['Авто', 'Деньги', 'Дети', 'Еда', 'Здоровье', 'Знаменитости',\n",
       "       'Интерьеры', 'Искусство', 'История', 'Кино', 'Музыка', 'Одежда',\n",
       "       'Полезные советы', 'Политика', 'Психология', 'Путешествия',\n",
       "       'Ремонт', 'Россия', 'Сад и дача', 'Сделай сам',\n",
       "       'Семейные отношения', 'Семья', 'Спорт', 'Строительство',\n",
       "       'Технологии', 'Финансы'], dtype=object)"
      ]
     },
     "execution_count": 7,
     "metadata": {},
     "output_type": "execute_result"
    }
   ],
   "source": [
    "# получение уникальных значений \n",
    "# столбца 'source_topic'\n",
    "\n",
    "dash_visits['source_topic'].unique()"
   ]
  },
  {
   "cell_type": "code",
   "execution_count": 8,
   "id": "c383774d",
   "metadata": {},
   "outputs": [
    {
     "data": {
      "text/plain": [
       "array(['18-25', '26-30', '31-35', '36-40', '41-45', '45+'], dtype=object)"
      ]
     },
     "execution_count": 8,
     "metadata": {},
     "output_type": "execute_result"
    }
   ],
   "source": [
    "# получение уникальных значений \n",
    "# столбца 'age_segment'\n",
    "\n",
    "dash_visits['age_segment'].unique()"
   ]
  },
  {
   "cell_type": "code",
   "execution_count": 9,
   "id": "911c0410",
   "metadata": {},
   "outputs": [
    {
     "data": {
      "text/plain": [
       "18-25    7056\n",
       "26-30    5875\n",
       "31-35    5552\n",
       "36-40    5105\n",
       "41-45    3903\n",
       "45+      3254\n",
       "Name: age_segment, dtype: int64"
      ]
     },
     "execution_count": 9,
     "metadata": {},
     "output_type": "execute_result"
    }
   ],
   "source": [
    "# получение количества уникальных значений \n",
    "# столбца 'age_segment'\n",
    "\n",
    "dash_visits['age_segment'].value_counts()"
   ]
  },
  {
   "cell_type": "code",
   "execution_count": 10,
   "id": "fa75e1a2",
   "metadata": {},
   "outputs": [
    {
     "data": {
      "text/plain": [
       "[numpy.datetime64('2019-09-24T18:28:00.000000000'),\n",
       " numpy.datetime64('2019-09-24T18:29:00.000000000'),\n",
       " numpy.datetime64('2019-09-24T18:30:00.000000000'),\n",
       " numpy.datetime64('2019-09-24T18:31:00.000000000'),\n",
       " numpy.datetime64('2019-09-24T18:32:00.000000000'),\n",
       " numpy.datetime64('2019-09-24T18:33:00.000000000'),\n",
       " numpy.datetime64('2019-09-24T18:34:00.000000000'),\n",
       " numpy.datetime64('2019-09-24T18:35:00.000000000'),\n",
       " numpy.datetime64('2019-09-24T18:52:00.000000000'),\n",
       " numpy.datetime64('2019-09-24T18:53:00.000000000'),\n",
       " numpy.datetime64('2019-09-24T18:54:00.000000000'),\n",
       " numpy.datetime64('2019-09-24T18:55:00.000000000'),\n",
       " numpy.datetime64('2019-09-24T18:56:00.000000000'),\n",
       " numpy.datetime64('2019-09-24T18:57:00.000000000'),\n",
       " numpy.datetime64('2019-09-24T18:58:00.000000000'),\n",
       " numpy.datetime64('2019-09-24T18:59:00.000000000'),\n",
       " numpy.datetime64('2019-09-24T19:00:00.000000000')]"
      ]
     },
     "execution_count": 10,
     "metadata": {},
     "output_type": "execute_result"
    }
   ],
   "source": [
    "# получение уникальных значений \n",
    "# столбца 'dt'\n",
    "\n",
    "sorted(dash_visits['dt'].unique())"
   ]
  },
  {
   "cell_type": "code",
   "execution_count": 11,
   "id": "51ae4812",
   "metadata": {},
   "outputs": [
    {
     "data": {
      "text/plain": [
       "array([  3,   1,   4,  17,  27,  22,  24,  20,   5,  13,  18,  15,  10,\n",
       "         9,  14,  11,   6,   8,   7,   2,  23,  33,  66,  72,  71,  61,\n",
       "        12,  25,  42,  30,  16,  21,  38,  43,  44,  19,  79,  74,  82,\n",
       "        47,  46,  57,  29,  34,  31,  51,  98,  89,  41,  77,  96,  86,\n",
       "        85,  35,  32,  36,  28,  60,  63,  55,  65, 101,  92,  95,  26,\n",
       "        56,  49,  54,  69,  78,  75,  68,  50,  94, 119, 111,  53,  58,\n",
       "        59,  45,  40, 165, 164, 136, 128,  48,  39,  52,  37,  88, 133,\n",
       "       106, 108, 149, 169, 178, 153,  64,  70,  80,  83, 102,  90, 142,\n",
       "       152, 182, 143,  73, 104,  62,  67, 121, 209, 228, 218, 183,  76,\n",
       "       186, 200, 206, 219,  84, 185, 207, 100, 110, 105, 202, 184, 168,\n",
       "       132, 126, 211, 197, 180, 113, 107, 115, 103, 141, 235, 177,  91,\n",
       "       123, 135, 116, 125, 127,  97, 130, 114,  99,  87, 139, 145, 147,\n",
       "       124, 137, 264, 276, 231, 112, 163, 138, 158, 160, 166, 155, 118,\n",
       "        81, 120, 109, 173, 266, 331, 291, 324, 144, 190, 201, 216, 175,\n",
       "       170, 199, 192, 117, 256, 297, 283, 236, 194, 171,  93, 210, 240,\n",
       "       243, 134, 151, 129, 176, 225, 349, 364, 371, 312, 161, 167, 270,\n",
       "       246, 232, 181, 146], dtype=int64)"
      ]
     },
     "execution_count": 11,
     "metadata": {},
     "output_type": "execute_result"
    }
   ],
   "source": [
    "# получение уникальных значений \n",
    "# столбца 'visits'\n",
    "\n",
    "dash_visits['visits'].unique()"
   ]
  },
  {
   "cell_type": "code",
   "execution_count": 12,
   "id": "09408fa0",
   "metadata": {},
   "outputs": [
    {
     "data": {
      "text/plain": [
       "1      8999\n",
       "2      4304\n",
       "3      2637\n",
       "4      1879\n",
       "5      1359\n",
       "       ... \n",
       "331       1\n",
       "291       1\n",
       "324       1\n",
       "190       1\n",
       "146       1\n",
       "Name: visits, Length: 212, dtype: int64"
      ]
     },
     "execution_count": 12,
     "metadata": {},
     "output_type": "execute_result"
    }
   ],
   "source": [
    "# получение количества уникальных значений \n",
    "# столбца 'id'\n",
    "\n",
    "dash_visits['visits'].value_counts()"
   ]
  },
  {
   "cell_type": "code",
   "execution_count": 13,
   "id": "528a2cca",
   "metadata": {
    "scrolled": true
   },
   "outputs": [
    {
     "data": {
      "image/png": "[encoded data removed]",
      "text/plain": [
       "<Figure size 1152x360 with 1 Axes>"
      ]
     },
     "metadata": {
      "needs_background": "light"
     },
     "output_type": "display_data"
    }
   ],
   "source": [
    "# построение гистограммы для столбца 'visits'\n",
    "\n",
    "dash_visits.hist('visits', figsize = (16,5), range = (0, 230), bins = 40)\n",
    "plt.show()"
   ]
  },
  {
   "cell_type": "markdown",
   "id": "7f22b4bb",
   "metadata": {},
   "source": [
    "Как мы видим, в данных отсутствуют явные и неявные дубликаты, формат данных также указан верный. Единственное мы заметили подъем у значений с `1` и где то до `20`. Однако, не будем пока ничего менять и оставим как есть. Далее необходимо сохранить выгруженные данные в файл для дальнейшего построения дашборда."
   ]
  },
  {
   "cell_type": "markdown",
   "id": "1f5e675d",
   "metadata": {},
   "source": [
    "## 3.Сохранение полученных данных в файл. <a id='intro2'></a>"
   ]
  },
  {
   "cell_type": "code",
   "execution_count": 14,
   "id": "48548d16",
   "metadata": {},
   "outputs": [],
   "source": [
    "# сохранение таблицы dash_visits в \n",
    "# файл 'dash_visits.csv'\n",
    "\n",
    "dash_visits.to_csv('dash_visits.csv', index = False)"
   ]
  },
  {
   "cell_type": "code",
   "execution_count": 15,
   "id": "13c11bf7",
   "metadata": {},
   "outputs": [],
   "source": [
    "# чтение файла и\n",
    "# сохранение в переменную df\n",
    "\n",
    "df = pd.read_csv('dash_visits.csv')"
   ]
  },
  {
   "cell_type": "code",
   "execution_count": 16,
   "id": "6acb3ae6",
   "metadata": {},
   "outputs": [
    {
     "data": {
      "text/html": [
       "<div>\n",
       "<style scoped>\n",
       "    .dataframe tbody tr th:only-of-type {\n",
       "        vertical-align: middle;\n",
       "    }\n",
       "\n",
       "    .dataframe tbody tr th {\n",
       "        vertical-align: top;\n",
       "    }\n",
       "\n",
       "    .dataframe thead th {\n",
       "        text-align: right;\n",
       "    }\n",
       "</style>\n",
       "<table border=\"1\" class=\"dataframe\">\n",
       "  <thead>\n",
       "    <tr style=\"text-align: right;\">\n",
       "      <th></th>\n",
       "      <th>record_id</th>\n",
       "      <th>item_topic</th>\n",
       "      <th>source_topic</th>\n",
       "      <th>age_segment</th>\n",
       "      <th>dt</th>\n",
       "      <th>visits</th>\n",
       "    </tr>\n",
       "  </thead>\n",
       "  <tbody>\n",
       "    <tr>\n",
       "      <th>0</th>\n",
       "      <td>1040597</td>\n",
       "      <td>Деньги</td>\n",
       "      <td>Авто</td>\n",
       "      <td>18-25</td>\n",
       "      <td>2019-09-24 18:32:00</td>\n",
       "      <td>3</td>\n",
       "    </tr>\n",
       "    <tr>\n",
       "      <th>1</th>\n",
       "      <td>1040598</td>\n",
       "      <td>Деньги</td>\n",
       "      <td>Авто</td>\n",
       "      <td>18-25</td>\n",
       "      <td>2019-09-24 18:35:00</td>\n",
       "      <td>1</td>\n",
       "    </tr>\n",
       "    <tr>\n",
       "      <th>2</th>\n",
       "      <td>1040599</td>\n",
       "      <td>Деньги</td>\n",
       "      <td>Авто</td>\n",
       "      <td>18-25</td>\n",
       "      <td>2019-09-24 18:54:00</td>\n",
       "      <td>4</td>\n",
       "    </tr>\n",
       "    <tr>\n",
       "      <th>3</th>\n",
       "      <td>1040600</td>\n",
       "      <td>Деньги</td>\n",
       "      <td>Авто</td>\n",
       "      <td>18-25</td>\n",
       "      <td>2019-09-24 18:55:00</td>\n",
       "      <td>17</td>\n",
       "    </tr>\n",
       "    <tr>\n",
       "      <th>4</th>\n",
       "      <td>1040601</td>\n",
       "      <td>Деньги</td>\n",
       "      <td>Авто</td>\n",
       "      <td>18-25</td>\n",
       "      <td>2019-09-24 18:56:00</td>\n",
       "      <td>27</td>\n",
       "    </tr>\n",
       "  </tbody>\n",
       "</table>\n",
       "</div>"
      ],
      "text/plain": [
       "   record_id item_topic source_topic age_segment                   dt  visits\n",
       "0    1040597     Деньги         Авто       18-25  2019-09-24 18:32:00       3\n",
       "1    1040598     Деньги         Авто       18-25  2019-09-24 18:35:00       1\n",
       "2    1040599     Деньги         Авто       18-25  2019-09-24 18:54:00       4\n",
       "3    1040600     Деньги         Авто       18-25  2019-09-24 18:55:00      17\n",
       "4    1040601     Деньги         Авто       18-25  2019-09-24 18:56:00      27"
      ]
     },
     "execution_count": 16,
     "metadata": {},
     "output_type": "execute_result"
    }
   ],
   "source": [
    "# просмотр первых 5 значений таблицы df\n",
    "\n",
    "df.head()"
   ]
  },
  {
   "cell_type": "markdown",
   "id": "f583c61f",
   "metadata": {},
   "source": [
    "## 4. Дашборд. <a id='intro3'></a>"
   ]
  },
  {
   "cell_type": "markdown",
   "id": "965bde5f",
   "metadata": {},
   "source": [
    "Ссылка на дашборд: https://public.tableau.com/app/profile/maya4053/viz/__16493431385270/sheet0?publish=yes"
   ]
  },
  {
   "cell_type": "markdown",
   "id": "2803f102",
   "metadata": {},
   "source": [
    "## 5. Презентация. <a id='intro4'></a>"
   ]
  },
  {
   "cell_type": "markdown",
   "id": "9a3a823b",
   "metadata": {},
   "source": [
    "Ссылка на презентацию: https://drive.google.com/file/d/1o5FXDE0XnHHAOEkQ4MjTnVTrkTMxx6Bk/view?usp=sharing"
   ]
  }
 ],
 "metadata": {
  "kernelspec": {
   "display_name": "Python 3 (ipykernel)",
   "language": "python",
   "name": "python3"
  },
  "language_info": {
   "codemirror_mode": {
    "name": "ipython",
    "version": 3
   },
   "file_extension": ".py",
   "mimetype": "text/x-python",
   "name": "python",
   "nbconvert_exporter": "python",
   "pygments_lexer": "ipython3",
   "version": "3.9.12"
  }
 },
 "nbformat": 4,
 "nbformat_minor": 5
}
