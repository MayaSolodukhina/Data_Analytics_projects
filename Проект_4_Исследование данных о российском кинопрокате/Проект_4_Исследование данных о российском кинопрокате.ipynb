{
 "cells": [
  {
   "cell_type": "markdown",
   "metadata": {},
   "source": [
    "# Содержание\n",
    "1. [Обзор данных.](#intro) \n",
    "2. [Предобработка данных.](#intro1) \n",
    "3. [Расчёт значений и создание новых столбцов.](#intro2)\n",
    "4. [Исследовательский анализ данных.](#intro3)\n",
    "5. [Общий вывод](#intro4)"
   ]
  },
  {
   "cell_type": "markdown",
   "metadata": {
    "id": "sIfNaMOxgFyK"
   },
   "source": [
    "# Исследование данных о российском кинопрокате\n",
    "\n"
   ]
  },
  {
   "cell_type": "markdown",
   "metadata": {},
   "source": [
    "Заказчик — Министерство культуры Российской Федерации.\n",
    "\n",
    "**Цель исследования** - изучить рынок российского кинопроката и выявить текущие тренды. Также, уделить внимание фильмам, которые получили государственную поддержку и ответить на вопрос, насколько такие фильмы интересны зрителю.\n",
    "\n",
    "**Ход исследования**\n",
    "\n",
    "Перед нами два файла с данными, которые необходимо объединить в единый файл. Для начала получим данные о прокатных удостоверениях из файла `mkrf_movies.csv` и данные о прокате в российских кинотеатрах из файла `mkrf_shows.csv`. После объединим данные из двух файлов в единый, сохраняя все объекты из файла `mkrf_movies.csv`. О качестве данных ничего не известно. Поэтому перед дальнейшим анализом понадобится обзор данных. Проверим данные на ошибки и оценим их влияние на исследование. Далее, на этапе предобработки, поищем возможности исправить критические ошибки данных. \n",
    "\n",
    "После того, как все данные будут корректны, приступим к исследовательскому анализу данных."
   ]
  },
  {
   "cell_type": "markdown",
   "metadata": {
    "id": "3bSlkCsbgFyL"
   },
   "source": [
    "# 1. Обзор данных <a id='intro'></a>\n",
    "\n",
    "Откроем файлы с данными и объединим их таким образом, чтобы все объекты из датасета `mkrf_movies` обязательно вошли в получившийся датафрейм.  "
   ]
  },
  {
   "cell_type": "code",
   "execution_count": 1,
   "metadata": {
    "id": "dw87FlzMgFyM"
   },
   "outputs": [],
   "source": [
    "# импорт библиотеки pandas\n",
    "\n",
    "import pandas as pd\n",
    "\n",
    "# импорт библиотеки matplotlib\n",
    "\n",
    "import matplotlib.pyplot as plt"
   ]
  },
  {
   "cell_type": "code",
   "execution_count": 2,
   "metadata": {},
   "outputs": [],
   "source": [
    "# перевод экспоненциальных чисел в десятичные и \n",
    "# округление до двух знаков после запятой\n",
    "\n",
    "pd.set_option('display.float_format', lambda x: '%.2f' % x) "
   ]
  },
  {
   "cell_type": "code",
   "execution_count": 3,
   "metadata": {},
   "outputs": [],
   "source": [
    "# чтение данных с файлами, сохранение в df и df1 \n",
    "\n",
    "try:\n",
    "    df = pd.read_csv('/datasets/mkrf_movies.csv')\n",
    "    df1 = pd.read_csv('/datasets/mkrf_shows.csv')\n",
    "except:\n",
    "    df = pd.read_csv('C:/Users/solod/Downloads/mkrf_movies.csv')\n",
    "    df1 = pd.read_csv('C:/Users/solod/Downloads/mkrf_shows.csv')"
   ]
  },
  {
   "cell_type": "code",
   "execution_count": 4,
   "metadata": {},
   "outputs": [
    {
     "data": {
      "text/html": [
       "<div>\n",
       "<style scoped>\n",
       "    .dataframe tbody tr th:only-of-type {\n",
       "        vertical-align: middle;\n",
       "    }\n",
       "\n",
       "    .dataframe tbody tr th {\n",
       "        vertical-align: top;\n",
       "    }\n",
       "\n",
       "    .dataframe thead th {\n",
       "        text-align: right;\n",
       "    }\n",
       "</style>\n",
       "<table border=\"1\" class=\"dataframe\">\n",
       "  <thead>\n",
       "    <tr style=\"text-align: right;\">\n",
       "      <th></th>\n",
       "      <th>title</th>\n",
       "      <th>puNumber</th>\n",
       "      <th>show_start_date</th>\n",
       "      <th>type</th>\n",
       "      <th>film_studio</th>\n",
       "      <th>production_country</th>\n",
       "      <th>director</th>\n",
       "      <th>producer</th>\n",
       "      <th>age_restriction</th>\n",
       "      <th>refundable_support</th>\n",
       "      <th>nonrefundable_support</th>\n",
       "      <th>budget</th>\n",
       "      <th>financing_source</th>\n",
       "      <th>ratings</th>\n",
       "      <th>genres</th>\n",
       "    </tr>\n",
       "  </thead>\n",
       "  <tbody>\n",
       "    <tr>\n",
       "      <th>0</th>\n",
       "      <td>Открытый простор</td>\n",
       "      <td>221048915</td>\n",
       "      <td>2015-11-27T12:00:00.000Z</td>\n",
       "      <td>Художественный</td>\n",
       "      <td>Тачстоун Пикчерз, Кобальт Пикчерз, Бикон Пикче...</td>\n",
       "      <td>США</td>\n",
       "      <td>Кевин Костнер</td>\n",
       "      <td>Дэвид Валдес, Кевин Костнер, Джейк Эбертс</td>\n",
       "      <td>«18+» - запрещено для детей</td>\n",
       "      <td>NaN</td>\n",
       "      <td>NaN</td>\n",
       "      <td>NaN</td>\n",
       "      <td>NaN</td>\n",
       "      <td>7.2</td>\n",
       "      <td>боевик,драма,мелодрама</td>\n",
       "    </tr>\n",
       "    <tr>\n",
       "      <th>1</th>\n",
       "      <td>Особо важное задание</td>\n",
       "      <td>111013716</td>\n",
       "      <td>2016-09-13T12:00:00.000Z</td>\n",
       "      <td>Художественный</td>\n",
       "      <td>Киностудия \"Мосфильм\"</td>\n",
       "      <td>СССР</td>\n",
       "      <td>Е.Матвеев</td>\n",
       "      <td>NaN</td>\n",
       "      <td>«6+» - для детей старше 6 лет</td>\n",
       "      <td>NaN</td>\n",
       "      <td>NaN</td>\n",
       "      <td>NaN</td>\n",
       "      <td>NaN</td>\n",
       "      <td>6.6</td>\n",
       "      <td>драма,военный</td>\n",
       "    </tr>\n",
       "    <tr>\n",
       "      <th>2</th>\n",
       "      <td>Особо опасен</td>\n",
       "      <td>221038416</td>\n",
       "      <td>2016-10-10T12:00:00.000Z</td>\n",
       "      <td>Художественный</td>\n",
       "      <td>Юниверсал Пикчерз, Кикстарт Продакшнз, Марк Пл...</td>\n",
       "      <td>США</td>\n",
       "      <td>Тимур Бекмамбетов</td>\n",
       "      <td>Джим Лемли, Джейсон Нетер, Марк Е.Платт, Яйн Смит</td>\n",
       "      <td>«18+» - запрещено для детей</td>\n",
       "      <td>NaN</td>\n",
       "      <td>NaN</td>\n",
       "      <td>NaN</td>\n",
       "      <td>NaN</td>\n",
       "      <td>6.8</td>\n",
       "      <td>фантастика,боевик,триллер</td>\n",
       "    </tr>\n",
       "    <tr>\n",
       "      <th>3</th>\n",
       "      <td>Особо опасен</td>\n",
       "      <td>221026916</td>\n",
       "      <td>2016-06-10T12:00:00.000Z</td>\n",
       "      <td>Художественный</td>\n",
       "      <td>Юниверсал Пикчерз, Кикстарт Продакшнз, Марк Пл...</td>\n",
       "      <td>США</td>\n",
       "      <td>Тимур Бекмамбетов</td>\n",
       "      <td>Джим Лемли, Джейсон Нетер, Марк Е.Платт, Яйн Смит</td>\n",
       "      <td>«18+» - запрещено для детей</td>\n",
       "      <td>NaN</td>\n",
       "      <td>NaN</td>\n",
       "      <td>NaN</td>\n",
       "      <td>NaN</td>\n",
       "      <td>6.8</td>\n",
       "      <td>фантастика,боевик,триллер</td>\n",
       "    </tr>\n",
       "    <tr>\n",
       "      <th>4</th>\n",
       "      <td>Особо опасен</td>\n",
       "      <td>221030815</td>\n",
       "      <td>2015-07-29T12:00:00.000Z</td>\n",
       "      <td>Художественный</td>\n",
       "      <td>Юниверсал Пикчерз, Кикстарт Продакшнз, Марк Пл...</td>\n",
       "      <td>США</td>\n",
       "      <td>Тимур Бекмамбетов</td>\n",
       "      <td>Джим Лемли, Джейсон Нетер, Марк Е.Платт, Яйн Смит</td>\n",
       "      <td>«18+» - запрещено для детей</td>\n",
       "      <td>NaN</td>\n",
       "      <td>NaN</td>\n",
       "      <td>NaN</td>\n",
       "      <td>NaN</td>\n",
       "      <td>6.8</td>\n",
       "      <td>фантастика,боевик,триллер</td>\n",
       "    </tr>\n",
       "  </tbody>\n",
       "</table>\n",
       "</div>"
      ],
      "text/plain": [
       "                  title   puNumber           show_start_date            type  \\\n",
       "0      Открытый простор  221048915  2015-11-27T12:00:00.000Z  Художественный   \n",
       "1  Особо важное задание  111013716  2016-09-13T12:00:00.000Z  Художественный   \n",
       "2          Особо опасен  221038416  2016-10-10T12:00:00.000Z  Художественный   \n",
       "3          Особо опасен  221026916  2016-06-10T12:00:00.000Z  Художественный   \n",
       "4          Особо опасен  221030815  2015-07-29T12:00:00.000Z  Художественный   \n",
       "\n",
       "                                         film_studio production_country  \\\n",
       "0  Тачстоун Пикчерз, Кобальт Пикчерз, Бикон Пикче...                США   \n",
       "1                              Киностудия \"Мосфильм\"               СССР   \n",
       "2  Юниверсал Пикчерз, Кикстарт Продакшнз, Марк Пл...                США   \n",
       "3  Юниверсал Пикчерз, Кикстарт Продакшнз, Марк Пл...                США   \n",
       "4  Юниверсал Пикчерз, Кикстарт Продакшнз, Марк Пл...                США   \n",
       "\n",
       "            director                                           producer  \\\n",
       "0      Кевин Костнер          Дэвид Валдес, Кевин Костнер, Джейк Эбертс   \n",
       "1          Е.Матвеев                                                NaN   \n",
       "2  Тимур Бекмамбетов  Джим Лемли, Джейсон Нетер, Марк Е.Платт, Яйн Смит   \n",
       "3  Тимур Бекмамбетов  Джим Лемли, Джейсон Нетер, Марк Е.Платт, Яйн Смит   \n",
       "4  Тимур Бекмамбетов  Джим Лемли, Джейсон Нетер, Марк Е.Платт, Яйн Смит   \n",
       "\n",
       "                 age_restriction  refundable_support  nonrefundable_support  \\\n",
       "0    «18+» - запрещено для детей                 NaN                    NaN   \n",
       "1  «6+» - для детей старше 6 лет                 NaN                    NaN   \n",
       "2    «18+» - запрещено для детей                 NaN                    NaN   \n",
       "3    «18+» - запрещено для детей                 NaN                    NaN   \n",
       "4    «18+» - запрещено для детей                 NaN                    NaN   \n",
       "\n",
       "   budget financing_source ratings                     genres  \n",
       "0     NaN              NaN     7.2     боевик,драма,мелодрама  \n",
       "1     NaN              NaN     6.6              драма,военный  \n",
       "2     NaN              NaN     6.8  фантастика,боевик,триллер  \n",
       "3     NaN              NaN     6.8  фантастика,боевик,триллер  \n",
       "4     NaN              NaN     6.8  фантастика,боевик,триллер  "
      ]
     },
     "execution_count": 4,
     "metadata": {},
     "output_type": "execute_result"
    }
   ],
   "source": [
    "# получение первых 5 строк таблицы df\n",
    "\n",
    "df.head()"
   ]
  },
  {
   "cell_type": "code",
   "execution_count": 5,
   "metadata": {
    "scrolled": true
   },
   "outputs": [
    {
     "data": {
      "text/html": [
       "<div>\n",
       "<style scoped>\n",
       "    .dataframe tbody tr th:only-of-type {\n",
       "        vertical-align: middle;\n",
       "    }\n",
       "\n",
       "    .dataframe tbody tr th {\n",
       "        vertical-align: top;\n",
       "    }\n",
       "\n",
       "    .dataframe thead th {\n",
       "        text-align: right;\n",
       "    }\n",
       "</style>\n",
       "<table border=\"1\" class=\"dataframe\">\n",
       "  <thead>\n",
       "    <tr style=\"text-align: right;\">\n",
       "      <th></th>\n",
       "      <th>puNumber</th>\n",
       "      <th>box_office</th>\n",
       "    </tr>\n",
       "  </thead>\n",
       "  <tbody>\n",
       "    <tr>\n",
       "      <th>0</th>\n",
       "      <td>111000113</td>\n",
       "      <td>2450.00</td>\n",
       "    </tr>\n",
       "    <tr>\n",
       "      <th>1</th>\n",
       "      <td>111000115</td>\n",
       "      <td>61040.00</td>\n",
       "    </tr>\n",
       "    <tr>\n",
       "      <th>2</th>\n",
       "      <td>111000116</td>\n",
       "      <td>153030013.40</td>\n",
       "    </tr>\n",
       "    <tr>\n",
       "      <th>3</th>\n",
       "      <td>111000117</td>\n",
       "      <td>12260956.00</td>\n",
       "    </tr>\n",
       "    <tr>\n",
       "      <th>4</th>\n",
       "      <td>111000118</td>\n",
       "      <td>163684057.79</td>\n",
       "    </tr>\n",
       "  </tbody>\n",
       "</table>\n",
       "</div>"
      ],
      "text/plain": [
       "    puNumber   box_office\n",
       "0  111000113      2450.00\n",
       "1  111000115     61040.00\n",
       "2  111000116 153030013.40\n",
       "3  111000117  12260956.00\n",
       "4  111000118 163684057.79"
      ]
     },
     "execution_count": 5,
     "metadata": {},
     "output_type": "execute_result"
    }
   ],
   "source": [
    "# получение первых 5 строк таблицы df1\n",
    "\n",
    "df1.head()"
   ]
  },
  {
   "cell_type": "code",
   "execution_count": 6,
   "metadata": {},
   "outputs": [
    {
     "name": "stdout",
     "output_type": "stream",
     "text": [
      "<class 'pandas.core.frame.DataFrame'>\n",
      "RangeIndex: 7486 entries, 0 to 7485\n",
      "Data columns (total 15 columns):\n",
      " #   Column                 Non-Null Count  Dtype  \n",
      "---  ------                 --------------  -----  \n",
      " 0   title                  7486 non-null   object \n",
      " 1   puNumber               7486 non-null   object \n",
      " 2   show_start_date        7486 non-null   object \n",
      " 3   type                   7486 non-null   object \n",
      " 4   film_studio            7468 non-null   object \n",
      " 5   production_country     7484 non-null   object \n",
      " 6   director               7477 non-null   object \n",
      " 7   producer               6918 non-null   object \n",
      " 8   age_restriction        7486 non-null   object \n",
      " 9   refundable_support     332 non-null    float64\n",
      " 10  nonrefundable_support  332 non-null    float64\n",
      " 11  budget                 332 non-null    float64\n",
      " 12  financing_source       332 non-null    object \n",
      " 13  ratings                6519 non-null   object \n",
      " 14  genres                 6510 non-null   object \n",
      "dtypes: float64(3), object(12)\n",
      "memory usage: 877.4+ KB\n"
     ]
    }
   ],
   "source": [
    "# получение общей информации о данных в таблице df\n",
    "\n",
    "df.info()"
   ]
  },
  {
   "cell_type": "code",
   "execution_count": 7,
   "metadata": {},
   "outputs": [
    {
     "name": "stdout",
     "output_type": "stream",
     "text": [
      "<class 'pandas.core.frame.DataFrame'>\n",
      "RangeIndex: 3158 entries, 0 to 3157\n",
      "Data columns (total 2 columns):\n",
      " #   Column      Non-Null Count  Dtype  \n",
      "---  ------      --------------  -----  \n",
      " 0   puNumber    3158 non-null   int64  \n",
      " 1   box_office  3158 non-null   float64\n",
      "dtypes: float64(1), int64(1)\n",
      "memory usage: 49.5 KB\n"
     ]
    }
   ],
   "source": [
    "# получение общей информации о данных в таблице df1\n",
    "\n",
    "df1.info()"
   ]
  },
  {
   "cell_type": "code",
   "execution_count": 8,
   "metadata": {},
   "outputs": [],
   "source": [
    "# перевод значений столбца 'puNumber' в числовой тип 'float' и\n",
    "# указание метода в котором некорректные значения принудительно \n",
    "# заменяются на NaN\n",
    "\n",
    "df['puNumber'] = pd.to_numeric(df['puNumber'], errors = 'coerce')"
   ]
  },
  {
   "cell_type": "code",
   "execution_count": 9,
   "metadata": {},
   "outputs": [
    {
     "data": {
      "text/html": [
       "<div>\n",
       "<style scoped>\n",
       "    .dataframe tbody tr th:only-of-type {\n",
       "        vertical-align: middle;\n",
       "    }\n",
       "\n",
       "    .dataframe tbody tr th {\n",
       "        vertical-align: top;\n",
       "    }\n",
       "\n",
       "    .dataframe thead th {\n",
       "        text-align: right;\n",
       "    }\n",
       "</style>\n",
       "<table border=\"1\" class=\"dataframe\">\n",
       "  <thead>\n",
       "    <tr style=\"text-align: right;\">\n",
       "      <th></th>\n",
       "      <th>title</th>\n",
       "      <th>puNumber</th>\n",
       "      <th>show_start_date</th>\n",
       "      <th>type</th>\n",
       "      <th>film_studio</th>\n",
       "      <th>production_country</th>\n",
       "      <th>director</th>\n",
       "      <th>producer</th>\n",
       "      <th>age_restriction</th>\n",
       "      <th>refundable_support</th>\n",
       "      <th>nonrefundable_support</th>\n",
       "      <th>budget</th>\n",
       "      <th>financing_source</th>\n",
       "      <th>ratings</th>\n",
       "      <th>genres</th>\n",
       "    </tr>\n",
       "  </thead>\n",
       "  <tbody>\n",
       "    <tr>\n",
       "      <th>1797</th>\n",
       "      <td>Курбан-роман. (История с жертвой)</td>\n",
       "      <td>NaN</td>\n",
       "      <td>2014-05-15T12:00:00.000Z</td>\n",
       "      <td>Художественный</td>\n",
       "      <td>ФОНД \"ИННОВАЦИЯ\"</td>\n",
       "      <td>Россия</td>\n",
       "      <td>С.Юзеев</td>\n",
       "      <td>М.Галицкая</td>\n",
       "      <td>«12+» - для детей старше 12 лет</td>\n",
       "      <td>NaN</td>\n",
       "      <td>NaN</td>\n",
       "      <td>NaN</td>\n",
       "      <td>NaN</td>\n",
       "      <td>NaN</td>\n",
       "      <td>NaN</td>\n",
       "    </tr>\n",
       "  </tbody>\n",
       "</table>\n",
       "</div>"
      ],
      "text/plain": [
       "                                  title  puNumber           show_start_date  \\\n",
       "1797  Курбан-роман. (История с жертвой)       NaN  2014-05-15T12:00:00.000Z   \n",
       "\n",
       "                type       film_studio production_country director  \\\n",
       "1797  Художественный  ФОНД \"ИННОВАЦИЯ\"             Россия  С.Юзеев   \n",
       "\n",
       "        producer                  age_restriction  refundable_support  \\\n",
       "1797  М.Галицкая  «12+» - для детей старше 12 лет                 NaN   \n",
       "\n",
       "      nonrefundable_support  budget financing_source ratings genres  \n",
       "1797                    NaN     NaN              NaN     NaN    NaN  "
      ]
     },
     "execution_count": 9,
     "metadata": {},
     "output_type": "execute_result"
    }
   ],
   "source": [
    "# получение среза в столбце 'puNumber' таблицы df\n",
    "\n",
    "df.query('puNumber.isna()')"
   ]
  },
  {
   "cell_type": "code",
   "execution_count": 10,
   "metadata": {},
   "outputs": [],
   "source": [
    "# замена пропущенного значения на '0' \n",
    "# в столбце 'puNumber' таблицы df\n",
    "\n",
    "df['puNumber'] = df['puNumber'].fillna(0)"
   ]
  },
  {
   "cell_type": "code",
   "execution_count": 11,
   "metadata": {},
   "outputs": [],
   "source": [
    "# перевод значений столбца 'puNumber' в тип данных 'int'\n",
    "\n",
    "df['puNumber'] = df['puNumber'].astype('int')"
   ]
  },
  {
   "cell_type": "code",
   "execution_count": 12,
   "metadata": {},
   "outputs": [],
   "source": [
    "# объединение двух таблиц в единую\n",
    "\n",
    "df = df.merge(df1, on = 'puNumber', how = 'left')"
   ]
  },
  {
   "cell_type": "code",
   "execution_count": 13,
   "metadata": {},
   "outputs": [
    {
     "data": {
      "text/html": [
       "<div>\n",
       "<style scoped>\n",
       "    .dataframe tbody tr th:only-of-type {\n",
       "        vertical-align: middle;\n",
       "    }\n",
       "\n",
       "    .dataframe tbody tr th {\n",
       "        vertical-align: top;\n",
       "    }\n",
       "\n",
       "    .dataframe thead th {\n",
       "        text-align: right;\n",
       "    }\n",
       "</style>\n",
       "<table border=\"1\" class=\"dataframe\">\n",
       "  <thead>\n",
       "    <tr style=\"text-align: right;\">\n",
       "      <th></th>\n",
       "      <th>title</th>\n",
       "      <th>puNumber</th>\n",
       "      <th>show_start_date</th>\n",
       "      <th>type</th>\n",
       "      <th>film_studio</th>\n",
       "      <th>production_country</th>\n",
       "      <th>director</th>\n",
       "      <th>producer</th>\n",
       "      <th>age_restriction</th>\n",
       "      <th>refundable_support</th>\n",
       "      <th>nonrefundable_support</th>\n",
       "      <th>budget</th>\n",
       "      <th>financing_source</th>\n",
       "      <th>ratings</th>\n",
       "      <th>genres</th>\n",
       "      <th>box_office</th>\n",
       "    </tr>\n",
       "  </thead>\n",
       "  <tbody>\n",
       "    <tr>\n",
       "      <th>7476</th>\n",
       "      <td>Я свободен</td>\n",
       "      <td>111023019</td>\n",
       "      <td>2019-12-26T12:00:00.000Z</td>\n",
       "      <td>Художественный</td>\n",
       "      <td>АО \"ТПО \"Киностудия им. М.Горького\"</td>\n",
       "      <td>Россия</td>\n",
       "      <td>И.Северов</td>\n",
       "      <td>С.Зернов</td>\n",
       "      <td>«12+» - для детей старше 12 лет</td>\n",
       "      <td>0.00</td>\n",
       "      <td>30000000.00</td>\n",
       "      <td>46154000.00</td>\n",
       "      <td>Министерство культуры</td>\n",
       "      <td>5.9</td>\n",
       "      <td>драма</td>\n",
       "      <td>NaN</td>\n",
       "    </tr>\n",
       "    <tr>\n",
       "      <th>7477</th>\n",
       "      <td>Тридцать</td>\n",
       "      <td>121038419</td>\n",
       "      <td>2019-12-26T12:00:00.000Z</td>\n",
       "      <td>Художественный</td>\n",
       "      <td>Демнехст ауф видео</td>\n",
       "      <td>Германия</td>\n",
       "      <td>Симона Костова</td>\n",
       "      <td>Джейлан Атаман-Джека</td>\n",
       "      <td>«16+» - для детей старше 16 лет</td>\n",
       "      <td>NaN</td>\n",
       "      <td>NaN</td>\n",
       "      <td>NaN</td>\n",
       "      <td>NaN</td>\n",
       "      <td>6.3</td>\n",
       "      <td>драма</td>\n",
       "      <td>NaN</td>\n",
       "    </tr>\n",
       "    <tr>\n",
       "      <th>7478</th>\n",
       "      <td>(Не)идеальный мужчина</td>\n",
       "      <td>111023119</td>\n",
       "      <td>2019-12-24T12:00:00.000Z</td>\n",
       "      <td>Художественный</td>\n",
       "      <td>ООО \"Нон-Стоп Продакшн\"</td>\n",
       "      <td>Россия</td>\n",
       "      <td>М.Бальчюнас (псевдоним М.Вайсберг)</td>\n",
       "      <td>С.Мелькумов, А.Роднянский, М.Вайсберг, Р.Минас...</td>\n",
       "      <td>«12+» - для детей старше 12 лет</td>\n",
       "      <td>40000000.00</td>\n",
       "      <td>60000000.00</td>\n",
       "      <td>150147502.00</td>\n",
       "      <td>Фонд кино</td>\n",
       "      <td>4.5</td>\n",
       "      <td>комедия,фантастика,мелодрама</td>\n",
       "      <td>NaN</td>\n",
       "    </tr>\n",
       "    <tr>\n",
       "      <th>7479</th>\n",
       "      <td>Эколав</td>\n",
       "      <td>111023219</td>\n",
       "      <td>2019-12-26T12:00:00.000Z</td>\n",
       "      <td>Художественный</td>\n",
       "      <td>ВГИК</td>\n",
       "      <td>Россия</td>\n",
       "      <td>Д.Григорьев</td>\n",
       "      <td>ВГИК</td>\n",
       "      <td>«18+» - запрещено для детей</td>\n",
       "      <td>NaN</td>\n",
       "      <td>NaN</td>\n",
       "      <td>NaN</td>\n",
       "      <td>NaN</td>\n",
       "      <td>NaN</td>\n",
       "      <td>NaN</td>\n",
       "      <td>NaN</td>\n",
       "    </tr>\n",
       "    <tr>\n",
       "      <th>7480</th>\n",
       "      <td>Акрам Хан: Родом из Карри Хауса</td>\n",
       "      <td>126007919</td>\n",
       "      <td>2019-12-23T12:00:00.000Z</td>\n",
       "      <td>Прочие</td>\n",
       "      <td>Свон Филмз</td>\n",
       "      <td>Великобритания</td>\n",
       "      <td>Ник Пойнц</td>\n",
       "      <td>Поппи Бегум, Ник Пойнц</td>\n",
       "      <td>«12+» - для детей старше 12 лет</td>\n",
       "      <td>NaN</td>\n",
       "      <td>NaN</td>\n",
       "      <td>NaN</td>\n",
       "      <td>NaN</td>\n",
       "      <td>NaN</td>\n",
       "      <td>NaN</td>\n",
       "      <td>219569.00</td>\n",
       "    </tr>\n",
       "    <tr>\n",
       "      <th>7481</th>\n",
       "      <td>Сад художника: Американский импрессионизм</td>\n",
       "      <td>126008019</td>\n",
       "      <td>2019-12-23T12:00:00.000Z</td>\n",
       "      <td>Прочие</td>\n",
       "      <td>Севен Артс Продакшнз</td>\n",
       "      <td>Великобритания</td>\n",
       "      <td>Фил Грабски</td>\n",
       "      <td>Фил Грабски</td>\n",
       "      <td>«12+» - для детей старше 12 лет</td>\n",
       "      <td>NaN</td>\n",
       "      <td>NaN</td>\n",
       "      <td>NaN</td>\n",
       "      <td>NaN</td>\n",
       "      <td>NaN</td>\n",
       "      <td>NaN</td>\n",
       "      <td>NaN</td>\n",
       "    </tr>\n",
       "    <tr>\n",
       "      <th>7482</th>\n",
       "      <td>Звериная ярость</td>\n",
       "      <td>121037819</td>\n",
       "      <td>2019-12-24T12:00:00.000Z</td>\n",
       "      <td>Художественный</td>\n",
       "      <td>Дэниел Гродник Продакшнз, Вандерфилм Медиа Кор...</td>\n",
       "      <td>США</td>\n",
       "      <td>Ник Пауэлл</td>\n",
       "      <td>Джефф Боулер, Дэниэл Гродник, Луильо Руис, Брэ...</td>\n",
       "      <td>«16+» - для детей старше 16 лет</td>\n",
       "      <td>NaN</td>\n",
       "      <td>NaN</td>\n",
       "      <td>NaN</td>\n",
       "      <td>NaN</td>\n",
       "      <td>5.4</td>\n",
       "      <td>боевик,триллер</td>\n",
       "      <td>NaN</td>\n",
       "    </tr>\n",
       "    <tr>\n",
       "      <th>7483</th>\n",
       "      <td>Щенячий патруль: Скорей спешим на помощь!</td>\n",
       "      <td>124010819</td>\n",
       "      <td>2019-12-28T12:00:00.000Z</td>\n",
       "      <td>Художественный</td>\n",
       "      <td>Никелодеон Анимейшн Студиос, Спин Мастер</td>\n",
       "      <td>США - Канада</td>\n",
       "      <td>Чарльз Е.Бастьен</td>\n",
       "      <td>Дженнифер Додж</td>\n",
       "      <td>«0+» - для любой зрительской аудитории</td>\n",
       "      <td>NaN</td>\n",
       "      <td>NaN</td>\n",
       "      <td>NaN</td>\n",
       "      <td>NaN</td>\n",
       "      <td>NaN</td>\n",
       "      <td>NaN</td>\n",
       "      <td>NaN</td>\n",
       "    </tr>\n",
       "    <tr>\n",
       "      <th>7484</th>\n",
       "      <td>Машины песенки. Серия \"Испанские мотивы\"</td>\n",
       "      <td>124010619</td>\n",
       "      <td>2019-12-30T12:00:00.000Z</td>\n",
       "      <td>Анимационный</td>\n",
       "      <td>Анимаккорд Лтд., ООО Студия \"АНИМАККОРД\"</td>\n",
       "      <td>Республика Кипр, Россия</td>\n",
       "      <td>А.Беляев</td>\n",
       "      <td>Д.Ловейко</td>\n",
       "      <td>«0+» - для любой зрительской аудитории</td>\n",
       "      <td>NaN</td>\n",
       "      <td>NaN</td>\n",
       "      <td>NaN</td>\n",
       "      <td>NaN</td>\n",
       "      <td>NaN</td>\n",
       "      <td>NaN</td>\n",
       "      <td>NaN</td>\n",
       "    </tr>\n",
       "    <tr>\n",
       "      <th>7485</th>\n",
       "      <td>Машины песенки. Серия \"Когда цветут кактусы\"</td>\n",
       "      <td>124010719</td>\n",
       "      <td>2019-12-30T12:00:00.000Z</td>\n",
       "      <td>Анимационный</td>\n",
       "      <td>Анимаккорд Лтд., ООО Студия \"АНИМАККОРД\"</td>\n",
       "      <td>Республика Кипр, Россия</td>\n",
       "      <td>И.Трусов</td>\n",
       "      <td>Д.Ловейко</td>\n",
       "      <td>«0+» - для любой зрительской аудитории</td>\n",
       "      <td>NaN</td>\n",
       "      <td>NaN</td>\n",
       "      <td>NaN</td>\n",
       "      <td>NaN</td>\n",
       "      <td>6.3</td>\n",
       "      <td>комедия,вестерн</td>\n",
       "      <td>NaN</td>\n",
       "    </tr>\n",
       "  </tbody>\n",
       "</table>\n",
       "</div>"
      ],
      "text/plain": [
       "                                             title   puNumber  \\\n",
       "7476                                    Я свободен  111023019   \n",
       "7477                                      Тридцать  121038419   \n",
       "7478                         (Не)идеальный мужчина  111023119   \n",
       "7479                                        Эколав  111023219   \n",
       "7480               Акрам Хан: Родом из Карри Хауса  126007919   \n",
       "7481     Сад художника: Американский импрессионизм  126008019   \n",
       "7482                               Звериная ярость  121037819   \n",
       "7483     Щенячий патруль: Скорей спешим на помощь!  124010819   \n",
       "7484      Машины песенки. Серия \"Испанские мотивы\"  124010619   \n",
       "7485  Машины песенки. Серия \"Когда цветут кактусы\"  124010719   \n",
       "\n",
       "               show_start_date             type  \\\n",
       "7476  2019-12-26T12:00:00.000Z   Художественный   \n",
       "7477  2019-12-26T12:00:00.000Z   Художественный   \n",
       "7478  2019-12-24T12:00:00.000Z   Художественный   \n",
       "7479  2019-12-26T12:00:00.000Z   Художественный   \n",
       "7480  2019-12-23T12:00:00.000Z           Прочие   \n",
       "7481  2019-12-23T12:00:00.000Z           Прочие   \n",
       "7482  2019-12-24T12:00:00.000Z   Художественный   \n",
       "7483  2019-12-28T12:00:00.000Z   Художественный   \n",
       "7484  2019-12-30T12:00:00.000Z     Анимационный   \n",
       "7485  2019-12-30T12:00:00.000Z     Анимационный   \n",
       "\n",
       "                                            film_studio  \\\n",
       "7476                АО \"ТПО \"Киностудия им. М.Горького\"   \n",
       "7477                                 Демнехст ауф видео   \n",
       "7478                           ООО \"Нон-Стоп Продакшн\"    \n",
       "7479                                               ВГИК   \n",
       "7480                                         Свон Филмз   \n",
       "7481                               Севен Артс Продакшнз   \n",
       "7482  Дэниел Гродник Продакшнз, Вандерфилм Медиа Кор...   \n",
       "7483           Никелодеон Анимейшн Студиос, Спин Мастер   \n",
       "7484           Анимаккорд Лтд., ООО Студия \"АНИМАККОРД\"   \n",
       "7485           Анимаккорд Лтд., ООО Студия \"АНИМАККОРД\"   \n",
       "\n",
       "           production_country                            director  \\\n",
       "7476                   Россия                           И.Северов   \n",
       "7477                 Германия                      Симона Костова   \n",
       "7478                   Россия  М.Бальчюнас (псевдоним М.Вайсберг)   \n",
       "7479                   Россия                         Д.Григорьев   \n",
       "7480           Великобритания                           Ник Пойнц   \n",
       "7481           Великобритания                         Фил Грабски   \n",
       "7482                      США                          Ник Пауэлл   \n",
       "7483             США - Канада                    Чарльз Е.Бастьен   \n",
       "7484  Республика Кипр, Россия                            А.Беляев   \n",
       "7485  Республика Кипр, Россия                            И.Трусов   \n",
       "\n",
       "                                               producer  \\\n",
       "7476                                           С.Зернов   \n",
       "7477                               Джейлан Атаман-Джека   \n",
       "7478  С.Мелькумов, А.Роднянский, М.Вайсберг, Р.Минас...   \n",
       "7479                                               ВГИК   \n",
       "7480                             Поппи Бегум, Ник Пойнц   \n",
       "7481                                        Фил Грабски   \n",
       "7482  Джефф Боулер, Дэниэл Гродник, Луильо Руис, Брэ...   \n",
       "7483                                     Дженнифер Додж   \n",
       "7484                                          Д.Ловейко   \n",
       "7485                                          Д.Ловейко   \n",
       "\n",
       "                             age_restriction  refundable_support  \\\n",
       "7476         «12+» - для детей старше 12 лет                0.00   \n",
       "7477         «16+» - для детей старше 16 лет                 NaN   \n",
       "7478         «12+» - для детей старше 12 лет         40000000.00   \n",
       "7479             «18+» - запрещено для детей                 NaN   \n",
       "7480         «12+» - для детей старше 12 лет                 NaN   \n",
       "7481         «12+» - для детей старше 12 лет                 NaN   \n",
       "7482         «16+» - для детей старше 16 лет                 NaN   \n",
       "7483  «0+» - для любой зрительской аудитории                 NaN   \n",
       "7484  «0+» - для любой зрительской аудитории                 NaN   \n",
       "7485  «0+» - для любой зрительской аудитории                 NaN   \n",
       "\n",
       "      nonrefundable_support       budget       financing_source ratings  \\\n",
       "7476            30000000.00  46154000.00  Министерство культуры     5.9   \n",
       "7477                    NaN          NaN                    NaN     6.3   \n",
       "7478            60000000.00 150147502.00              Фонд кино     4.5   \n",
       "7479                    NaN          NaN                    NaN     NaN   \n",
       "7480                    NaN          NaN                    NaN     NaN   \n",
       "7481                    NaN          NaN                    NaN     NaN   \n",
       "7482                    NaN          NaN                    NaN     5.4   \n",
       "7483                    NaN          NaN                    NaN     NaN   \n",
       "7484                    NaN          NaN                    NaN     NaN   \n",
       "7485                    NaN          NaN                    NaN     6.3   \n",
       "\n",
       "                            genres  box_office  \n",
       "7476                         драма         NaN  \n",
       "7477                         драма         NaN  \n",
       "7478  комедия,фантастика,мелодрама         NaN  \n",
       "7479                           NaN         NaN  \n",
       "7480                           NaN   219569.00  \n",
       "7481                           NaN         NaN  \n",
       "7482                боевик,триллер         NaN  \n",
       "7483                           NaN         NaN  \n",
       "7484                           NaN         NaN  \n",
       "7485               комедия,вестерн         NaN  "
      ]
     },
     "execution_count": 13,
     "metadata": {},
     "output_type": "execute_result"
    }
   ],
   "source": [
    "# получение последних 15 строк таблицы df\n",
    "\n",
    "df.tail(10)"
   ]
  },
  {
   "cell_type": "code",
   "execution_count": 14,
   "metadata": {},
   "outputs": [
    {
     "name": "stdout",
     "output_type": "stream",
     "text": [
      "<class 'pandas.core.frame.DataFrame'>\n",
      "Int64Index: 7486 entries, 0 to 7485\n",
      "Data columns (total 16 columns):\n",
      " #   Column                 Non-Null Count  Dtype  \n",
      "---  ------                 --------------  -----  \n",
      " 0   title                  7486 non-null   object \n",
      " 1   puNumber               7486 non-null   int32  \n",
      " 2   show_start_date        7486 non-null   object \n",
      " 3   type                   7486 non-null   object \n",
      " 4   film_studio            7468 non-null   object \n",
      " 5   production_country     7484 non-null   object \n",
      " 6   director               7477 non-null   object \n",
      " 7   producer               6918 non-null   object \n",
      " 8   age_restriction        7486 non-null   object \n",
      " 9   refundable_support     332 non-null    float64\n",
      " 10  nonrefundable_support  332 non-null    float64\n",
      " 11  budget                 332 non-null    float64\n",
      " 12  financing_source       332 non-null    object \n",
      " 13  ratings                6519 non-null   object \n",
      " 14  genres                 6510 non-null   object \n",
      " 15  box_office             3158 non-null   float64\n",
      "dtypes: float64(4), int32(1), object(11)\n",
      "memory usage: 965.0+ KB\n"
     ]
    }
   ],
   "source": [
    "# получение общей информации о данных в таблице df\n",
    "\n",
    "df.info()"
   ]
  },
  {
   "cell_type": "code",
   "execution_count": 15,
   "metadata": {},
   "outputs": [
    {
     "data": {
      "text/html": [
       "<div>\n",
       "<style scoped>\n",
       "    .dataframe tbody tr th:only-of-type {\n",
       "        vertical-align: middle;\n",
       "    }\n",
       "\n",
       "    .dataframe tbody tr th {\n",
       "        vertical-align: top;\n",
       "    }\n",
       "\n",
       "    .dataframe thead th {\n",
       "        text-align: right;\n",
       "    }\n",
       "</style>\n",
       "<table border=\"1\" class=\"dataframe\">\n",
       "  <thead>\n",
       "    <tr style=\"text-align: right;\">\n",
       "      <th></th>\n",
       "      <th>puNumber</th>\n",
       "      <th>refundable_support</th>\n",
       "      <th>nonrefundable_support</th>\n",
       "      <th>budget</th>\n",
       "      <th>box_office</th>\n",
       "    </tr>\n",
       "  </thead>\n",
       "  <tbody>\n",
       "    <tr>\n",
       "      <th>count</th>\n",
       "      <td>7486.00</td>\n",
       "      <td>332.00</td>\n",
       "      <td>332.00</td>\n",
       "      <td>332.00</td>\n",
       "      <td>3158.00</td>\n",
       "    </tr>\n",
       "    <tr>\n",
       "      <th>mean</th>\n",
       "      <td>135178527.64</td>\n",
       "      <td>11864457.83</td>\n",
       "      <td>48980988.89</td>\n",
       "      <td>127229716.68</td>\n",
       "      <td>76478696.16</td>\n",
       "    </tr>\n",
       "    <tr>\n",
       "      <th>std</th>\n",
       "      <td>38382177.41</td>\n",
       "      <td>24916555.26</td>\n",
       "      <td>59980117.92</td>\n",
       "      <td>188588333.12</td>\n",
       "      <td>240353122.82</td>\n",
       "    </tr>\n",
       "    <tr>\n",
       "      <th>min</th>\n",
       "      <td>0.00</td>\n",
       "      <td>0.00</td>\n",
       "      <td>0.00</td>\n",
       "      <td>0.00</td>\n",
       "      <td>0.00</td>\n",
       "    </tr>\n",
       "    <tr>\n",
       "      <th>25%</th>\n",
       "      <td>112025043.00</td>\n",
       "      <td>0.00</td>\n",
       "      <td>25000000.00</td>\n",
       "      <td>42000000.00</td>\n",
       "      <td>86239.00</td>\n",
       "    </tr>\n",
       "    <tr>\n",
       "      <th>50%</th>\n",
       "      <td>121015464.50</td>\n",
       "      <td>0.00</td>\n",
       "      <td>30000000.00</td>\n",
       "      <td>68649916.00</td>\n",
       "      <td>2327987.55</td>\n",
       "    </tr>\n",
       "    <tr>\n",
       "      <th>75%</th>\n",
       "      <td>124003313.75</td>\n",
       "      <td>15000000.00</td>\n",
       "      <td>40375000.00</td>\n",
       "      <td>141985319.50</td>\n",
       "      <td>23979671.02</td>\n",
       "    </tr>\n",
       "    <tr>\n",
       "      <th>max</th>\n",
       "      <td>231001111.00</td>\n",
       "      <td>180000000.00</td>\n",
       "      <td>400000000.00</td>\n",
       "      <td>2305074303.00</td>\n",
       "      <td>3073568690.79</td>\n",
       "    </tr>\n",
       "  </tbody>\n",
       "</table>\n",
       "</div>"
      ],
      "text/plain": [
       "          puNumber  refundable_support  nonrefundable_support        budget  \\\n",
       "count      7486.00              332.00                 332.00        332.00   \n",
       "mean  135178527.64         11864457.83            48980988.89  127229716.68   \n",
       "std    38382177.41         24916555.26            59980117.92  188588333.12   \n",
       "min           0.00                0.00                   0.00          0.00   \n",
       "25%   112025043.00                0.00            25000000.00   42000000.00   \n",
       "50%   121015464.50                0.00            30000000.00   68649916.00   \n",
       "75%   124003313.75         15000000.00            40375000.00  141985319.50   \n",
       "max   231001111.00        180000000.00           400000000.00 2305074303.00   \n",
       "\n",
       "         box_office  \n",
       "count       3158.00  \n",
       "mean    76478696.16  \n",
       "std    240353122.82  \n",
       "min            0.00  \n",
       "25%        86239.00  \n",
       "50%      2327987.55  \n",
       "75%     23979671.02  \n",
       "max   3073568690.79  "
      ]
     },
     "execution_count": 15,
     "metadata": {},
     "output_type": "execute_result"
    }
   ],
   "source": [
    "# получение информации об описательных статиcтических данных\n",
    "# в таблице df\n",
    "\n",
    "df.describe()"
   ]
  },
  {
   "cell_type": "markdown",
   "metadata": {},
   "source": [
    "Итак, в таблице 16 столбцов. У столбцов наблюдается 3 типа данных: `float64`, `int64`, `object`.\n",
    "\n",
    "Согласно документации к данным:\n",
    "\n",
    "* `title` - название фильма;\n",
    "* `puNumber` - номер прокатного удостоверения;\n",
    "* `show_start_date` - дата премьеры фильма;\n",
    "* `type` - тип фильма;\n",
    "* `film_studio` - студия-производитель;\n",
    "* `production_country` - страна-производитель;\n",
    "* `director` - режиссёр;\n",
    "* `producer` - продюсер;\n",
    "* `age_restriction` - возрастная категория;\n",
    "* `refundable_support` - объём возвратных средств государственной поддержки;\n",
    "* `nonrefundable_support` -  объём невозвратных средств государственной поддержки;\n",
    "* `budget` - общий бюджет фильма;\n",
    "* `financing_source` - источник государственного финансирования;\n",
    "* `ratings` - рейтинг фильма на КиноПоиске;\n",
    "* `genres` - жанр фильма;\n",
    "* `box_office` - сборы в рублях.\n",
    "\n",
    "В названиях столбцов отсутствует нарушение стиля, кроме столбца `puNumber`, все буквы в названии данного столцба можно привести к нижнему регистру и добавить нижнее подчёркивание.\n",
    "\n",
    "Также, в столбцах `film_studio`, `production_country`, `director`, `producer`, `refundable_support`, `nonrefundable_support`, `budget`, ` financing_source`, `ratings`, `genres` и `box_office` присутствует меньшее количество значений, чем  в остальных столбцах, следовательно, в данных есть пропущенные значения.\n",
    "\n",
    "В столбцах `refunable_support`, `nonrefunable_support` и `budget` необходимо перевести значения к типу `int` (целые числа) , а в столбце `ratings` необходимо перевести значения к типу `float` (вещественные числа) для удобства просмотра и дальнейшего анализа даннных. \n",
    "\n",
    "В столбце `show_stat_date` необходимо изменить тип данных на `datetime` и убрать часовой пояс."
   ]
  },
  {
   "cell_type": "markdown",
   "metadata": {},
   "source": [
    "**Вывод**\n",
    "\n",
    "В каждом столбце представлена информация о фильмах, в одних столбцах данные более описательного характера, а именно: название фильма, дата премьеры, тип и жанр фильма, студия-производитель, страна-производитель, режиссёр, продюсер, возрастная категория и рейтинг фильма на КиноПоиске. А в других столбцах данные относятся к финансовой составляющей: объём возвратных и невозвратных средств государственной поддержки, общий бюджет фильма, источник государственного финансирования, сборы в рублях. Также есть отдельный столбце в котором представлена информация о номере прокатного удостоверения фильма.\n",
    "\n",
    "Для более точного и правильного анализа данных необходимо:\n",
    "\n",
    "* заменить по возможности пропущенные значения в столбцах `film_studio`, `production_country`, `director`, `producer`, `refundable_support`, `nonrefundable_support`, `budget`, ` financing_source`, `ratings`, `genres` и `box_office`;\n",
    "* перевести значения к типу `int` в столбцах `refunable_support`, `nonrefunable_support` и `budget`;\n",
    "* перевести значения к типу `float` в столбце `ratings`;\n",
    "* изменить в столбце `show_stat_date` тип данных на `datetime` и убрать часовой пояс;\n",
    "* привести название столбца `puNumber` к нижнему регистру и добавить нижнее подчёркивание. \n",
    "\n",
    "Также, для объединения двух таблиц в единую, мы уже на этом этапе в столбце `puNumber` заменили пропуски на `0` и привели значения к числовому типу данных."
   ]
  },
  {
   "cell_type": "markdown",
   "metadata": {
    "id": "KLDGpPG0gFyM"
   },
   "source": [
    "# 2. Предобработка данных <a id='intro1'></a>"
   ]
  },
  {
   "cell_type": "code",
   "execution_count": 16,
   "metadata": {
    "id": "kVGSplJOgFyO"
   },
   "outputs": [
    {
     "data": {
      "text/plain": [
       "title                       0\n",
       "puNumber                    0\n",
       "show_start_date             0\n",
       "type                        0\n",
       "film_studio                18\n",
       "production_country          2\n",
       "director                    9\n",
       "producer                  568\n",
       "age_restriction             0\n",
       "refundable_support       7154\n",
       "nonrefundable_support    7154\n",
       "budget                   7154\n",
       "financing_source         7154\n",
       "ratings                   967\n",
       "genres                    976\n",
       "box_office               4328\n",
       "dtype: int64"
      ]
     },
     "execution_count": 16,
     "metadata": {},
     "output_type": "execute_result"
    }
   ],
   "source": [
    "# подсчёт пропущенных значений\n",
    "\n",
    "df.isna().sum()"
   ]
  },
  {
   "cell_type": "code",
   "execution_count": 17,
   "metadata": {},
   "outputs": [
    {
     "data": {
      "text/plain": [
       "0"
      ]
     },
     "execution_count": 17,
     "metadata": {},
     "output_type": "execute_result"
    }
   ],
   "source": [
    "# подсчёт явных дубликатов\n",
    "\n",
    "df.duplicated().sum()"
   ]
  },
  {
   "cell_type": "markdown",
   "metadata": {},
   "source": [
    "Явных дубликатов в таблице `df` не наблюдается, посмотрим далее отдельно по столбцам наличие неявных дубликатов."
   ]
  },
  {
   "cell_type": "code",
   "execution_count": 18,
   "metadata": {},
   "outputs": [
    {
     "data": {
      "text/plain": [
       "День святого Валентина_                     5\n",
       "Там, где живут чудовища                     4\n",
       "Прощание                                    4\n",
       "Двойной копец                               4\n",
       "Дитя тьмы                                   4\n",
       "                                           ..\n",
       "Вес воды                                    1\n",
       "g (джи)                                     1\n",
       "Звёздные войны. Эпизод 2: Атака клонов      1\n",
       "Эмоджи фильм                    Пёсик!      1\n",
       "Эрик Булатов. Моя Третьяковка, серии 1-2    1\n",
       "Name: title, Length: 6772, dtype: int64"
      ]
     },
     "execution_count": 18,
     "metadata": {},
     "output_type": "execute_result"
    }
   ],
   "source": [
    "# получение уникальных значений в\n",
    "# столбце \"title\"\n",
    "\n",
    "df['title'].value_counts()"
   ]
  },
  {
   "cell_type": "code",
   "execution_count": 19,
   "metadata": {},
   "outputs": [],
   "source": [
    "# получение уникальных значений\n",
    "# столбца \"title\"\n",
    "\n",
    "#sorted(df['title'].unique())"
   ]
  },
  {
   "cell_type": "markdown",
   "metadata": {},
   "source": [
    "Как мы видим в столбце `title` есть значения у которых в начале и в конце строки присутствуют лишние символы: `-`, `_`, `.`, `...` (тире, нижнее подчёркивание, точка и многоточие). Есть одинаковые названия фильмов, которые различаются только символом в конце слова, например `возмездие.` и `возмездие`, `10 лет спустя.` и `10 лет спустя` \n",
    "\n",
    "Возможно, неявные дубликаты могли возникнуть по причине того, что выгрузка данных происходила из разных источников, где одно и то же название могло быть записано по разному.\n",
    "\n",
    "Также, стоит отметить, что значения записаны в разном регистре, где то названия фильмов написаны заглавными буквами, где то строчными. \n",
    "\n",
    "Поэтому необходимо привести все названия к единому формату, то есть к нижнему регистру, и убрать лишние символы в начале и в конце строки для более удобного просмотра и цельной картины."
   ]
  },
  {
   "cell_type": "code",
   "execution_count": 20,
   "metadata": {},
   "outputs": [],
   "source": [
    "# приведение значений в столбце 'title'\n",
    "# к нижнему регистру и \n",
    "# удаление лишних символов в начале и в конце строки\n",
    "\n",
    "df['title'] = df['title'].str.lower().str.strip('_\\-\\.\\ ') "
   ]
  },
  {
   "cell_type": "code",
   "execution_count": 21,
   "metadata": {},
   "outputs": [],
   "source": [
    "# получение уникальных значений\n",
    "# столбца \"title\"\n",
    "\n",
    "#sorted(df['title'].unique())"
   ]
  },
  {
   "cell_type": "code",
   "execution_count": 22,
   "metadata": {},
   "outputs": [],
   "source": [
    "# изменение названия столбца 'puNumber'\n",
    "\n",
    "df.rename(columns = {'puNumber' : 'pu_number'}, inplace = True)"
   ]
  },
  {
   "cell_type": "code",
   "execution_count": 23,
   "metadata": {},
   "outputs": [
    {
     "data": {
      "text/plain": [
       "221054410    2\n",
       "221154310    2\n",
       "0            1\n",
       "111008518    1\n",
       "114002716    1\n",
       "            ..\n",
       "121021814    1\n",
       "224028210    1\n",
       "121013618    1\n",
       "121017712    1\n",
       "126002916    1\n",
       "Name: pu_number, Length: 7484, dtype: int64"
      ]
     },
     "execution_count": 23,
     "metadata": {},
     "output_type": "execute_result"
    }
   ],
   "source": [
    "# просмотр уникальных значений столбца 'pu_number'\n",
    "\n",
    "df['pu_number'].value_counts()"
   ]
  },
  {
   "cell_type": "code",
   "execution_count": 24,
   "metadata": {},
   "outputs": [
    {
     "data": {
      "text/html": [
       "<div>\n",
       "<style scoped>\n",
       "    .dataframe tbody tr th:only-of-type {\n",
       "        vertical-align: middle;\n",
       "    }\n",
       "\n",
       "    .dataframe tbody tr th {\n",
       "        vertical-align: top;\n",
       "    }\n",
       "\n",
       "    .dataframe thead th {\n",
       "        text-align: right;\n",
       "    }\n",
       "</style>\n",
       "<table border=\"1\" class=\"dataframe\">\n",
       "  <thead>\n",
       "    <tr style=\"text-align: right;\">\n",
       "      <th></th>\n",
       "      <th>title</th>\n",
       "      <th>pu_number</th>\n",
       "      <th>show_start_date</th>\n",
       "      <th>type</th>\n",
       "      <th>film_studio</th>\n",
       "      <th>production_country</th>\n",
       "      <th>director</th>\n",
       "      <th>producer</th>\n",
       "      <th>age_restriction</th>\n",
       "      <th>refundable_support</th>\n",
       "      <th>nonrefundable_support</th>\n",
       "      <th>budget</th>\n",
       "      <th>financing_source</th>\n",
       "      <th>ratings</th>\n",
       "      <th>genres</th>\n",
       "      <th>box_office</th>\n",
       "    </tr>\n",
       "  </thead>\n",
       "  <tbody>\n",
       "    <tr>\n",
       "      <th>1797</th>\n",
       "      <td>курбан-роман. (история с жертвой)</td>\n",
       "      <td>0</td>\n",
       "      <td>2014-05-15T12:00:00.000Z</td>\n",
       "      <td>Художественный</td>\n",
       "      <td>ФОНД \"ИННОВАЦИЯ\"</td>\n",
       "      <td>Россия</td>\n",
       "      <td>С.Юзеев</td>\n",
       "      <td>М.Галицкая</td>\n",
       "      <td>«12+» - для детей старше 12 лет</td>\n",
       "      <td>NaN</td>\n",
       "      <td>NaN</td>\n",
       "      <td>NaN</td>\n",
       "      <td>NaN</td>\n",
       "      <td>NaN</td>\n",
       "      <td>NaN</td>\n",
       "      <td>NaN</td>\n",
       "    </tr>\n",
       "  </tbody>\n",
       "</table>\n",
       "</div>"
      ],
      "text/plain": [
       "                                  title  pu_number           show_start_date  \\\n",
       "1797  курбан-роман. (история с жертвой)          0  2014-05-15T12:00:00.000Z   \n",
       "\n",
       "                type       film_studio production_country director  \\\n",
       "1797  Художественный  ФОНД \"ИННОВАЦИЯ\"             Россия  С.Юзеев   \n",
       "\n",
       "        producer                  age_restriction  refundable_support  \\\n",
       "1797  М.Галицкая  «12+» - для детей старше 12 лет                 NaN   \n",
       "\n",
       "      nonrefundable_support  budget financing_source ratings genres  \\\n",
       "1797                    NaN     NaN              NaN     NaN    NaN   \n",
       "\n",
       "      box_office  \n",
       "1797         NaN  "
      ]
     },
     "execution_count": 24,
     "metadata": {},
     "output_type": "execute_result"
    }
   ],
   "source": [
    "# получение среза данных по столбцу 'pu_number'\n",
    "\n",
    "df.query('pu_number == 0')"
   ]
  },
  {
   "cell_type": "code",
   "execution_count": 25,
   "metadata": {},
   "outputs": [
    {
     "data": {
      "text/html": [
       "<div>\n",
       "<style scoped>\n",
       "    .dataframe tbody tr th:only-of-type {\n",
       "        vertical-align: middle;\n",
       "    }\n",
       "\n",
       "    .dataframe tbody tr th {\n",
       "        vertical-align: top;\n",
       "    }\n",
       "\n",
       "    .dataframe thead th {\n",
       "        text-align: right;\n",
       "    }\n",
       "</style>\n",
       "<table border=\"1\" class=\"dataframe\">\n",
       "  <thead>\n",
       "    <tr style=\"text-align: right;\">\n",
       "      <th></th>\n",
       "      <th>title</th>\n",
       "      <th>pu_number</th>\n",
       "      <th>show_start_date</th>\n",
       "      <th>type</th>\n",
       "      <th>film_studio</th>\n",
       "      <th>production_country</th>\n",
       "      <th>director</th>\n",
       "      <th>producer</th>\n",
       "      <th>age_restriction</th>\n",
       "      <th>refundable_support</th>\n",
       "      <th>nonrefundable_support</th>\n",
       "      <th>budget</th>\n",
       "      <th>financing_source</th>\n",
       "      <th>ratings</th>\n",
       "      <th>genres</th>\n",
       "      <th>box_office</th>\n",
       "    </tr>\n",
       "  </thead>\n",
       "  <tbody>\n",
       "    <tr>\n",
       "      <th>1797</th>\n",
       "      <td>курбан-роман. (история с жертвой)</td>\n",
       "      <td>0</td>\n",
       "      <td>2014-05-15T12:00:00.000Z</td>\n",
       "      <td>Художественный</td>\n",
       "      <td>ФОНД \"ИННОВАЦИЯ\"</td>\n",
       "      <td>Россия</td>\n",
       "      <td>С.Юзеев</td>\n",
       "      <td>М.Галицкая</td>\n",
       "      <td>«12+» - для детей старше 12 лет</td>\n",
       "      <td>NaN</td>\n",
       "      <td>NaN</td>\n",
       "      <td>NaN</td>\n",
       "      <td>NaN</td>\n",
       "      <td>NaN</td>\n",
       "      <td>NaN</td>\n",
       "      <td>NaN</td>\n",
       "    </tr>\n",
       "    <tr>\n",
       "      <th>2078</th>\n",
       "      <td>курбан-роман. (история с жертвой)</td>\n",
       "      <td>111009614</td>\n",
       "      <td>2014-09-02T12:00:00.000Z</td>\n",
       "      <td>Художественный</td>\n",
       "      <td>ФОНД \"ИННОВАЦИЯ\"</td>\n",
       "      <td>Россия</td>\n",
       "      <td>С.Юзеев</td>\n",
       "      <td>М.Галицкая</td>\n",
       "      <td>«12+» - для детей старше 12 лет</td>\n",
       "      <td>NaN</td>\n",
       "      <td>NaN</td>\n",
       "      <td>NaN</td>\n",
       "      <td>NaN</td>\n",
       "      <td>NaN</td>\n",
       "      <td>NaN</td>\n",
       "      <td>0.00</td>\n",
       "    </tr>\n",
       "  </tbody>\n",
       "</table>\n",
       "</div>"
      ],
      "text/plain": [
       "                                  title  pu_number           show_start_date  \\\n",
       "1797  курбан-роман. (история с жертвой)          0  2014-05-15T12:00:00.000Z   \n",
       "2078  курбан-роман. (история с жертвой)  111009614  2014-09-02T12:00:00.000Z   \n",
       "\n",
       "                type       film_studio production_country director  \\\n",
       "1797  Художественный  ФОНД \"ИННОВАЦИЯ\"             Россия  С.Юзеев   \n",
       "2078  Художественный  ФОНД \"ИННОВАЦИЯ\"             Россия  С.Юзеев   \n",
       "\n",
       "        producer                  age_restriction  refundable_support  \\\n",
       "1797  М.Галицкая  «12+» - для детей старше 12 лет                 NaN   \n",
       "2078  М.Галицкая  «12+» - для детей старше 12 лет                 NaN   \n",
       "\n",
       "      nonrefundable_support  budget financing_source ratings genres  \\\n",
       "1797                    NaN     NaN              NaN     NaN    NaN   \n",
       "2078                    NaN     NaN              NaN     NaN    NaN   \n",
       "\n",
       "      box_office  \n",
       "1797         NaN  \n",
       "2078        0.00  "
      ]
     },
     "execution_count": 25,
     "metadata": {},
     "output_type": "execute_result"
    }
   ],
   "source": [
    "# получение среза данных по столбцу 'title'\n",
    "\n",
    "df.query('title == \"курбан-роман. (история с жертвой)\"')"
   ]
  },
  {
   "cell_type": "code",
   "execution_count": 26,
   "metadata": {},
   "outputs": [
    {
     "data": {
      "text/html": [
       "<div>\n",
       "<style scoped>\n",
       "    .dataframe tbody tr th:only-of-type {\n",
       "        vertical-align: middle;\n",
       "    }\n",
       "\n",
       "    .dataframe tbody tr th {\n",
       "        vertical-align: top;\n",
       "    }\n",
       "\n",
       "    .dataframe thead th {\n",
       "        text-align: right;\n",
       "    }\n",
       "</style>\n",
       "<table border=\"1\" class=\"dataframe\">\n",
       "  <thead>\n",
       "    <tr style=\"text-align: right;\">\n",
       "      <th></th>\n",
       "      <th>title</th>\n",
       "      <th>pu_number</th>\n",
       "      <th>show_start_date</th>\n",
       "      <th>type</th>\n",
       "      <th>film_studio</th>\n",
       "      <th>production_country</th>\n",
       "      <th>director</th>\n",
       "      <th>producer</th>\n",
       "      <th>age_restriction</th>\n",
       "      <th>refundable_support</th>\n",
       "      <th>nonrefundable_support</th>\n",
       "      <th>budget</th>\n",
       "      <th>financing_source</th>\n",
       "      <th>ratings</th>\n",
       "      <th>genres</th>\n",
       "      <th>box_office</th>\n",
       "    </tr>\n",
       "  </thead>\n",
       "  <tbody>\n",
       "    <tr>\n",
       "      <th>5067</th>\n",
       "      <td>анализируй это!</td>\n",
       "      <td>221054410</td>\n",
       "      <td>2010-05-25T12:00:00.000Z</td>\n",
       "      <td>Художественный</td>\n",
       "      <td>Уорнер Бразерс, Вилладж Роудшоу Филмз ЛТД</td>\n",
       "      <td>США-Австралия</td>\n",
       "      <td>ХЭрольд Рэмис</td>\n",
       "      <td>Джейн Розенталь, Пола Уейнстейн</td>\n",
       "      <td>«16+» - для детей старше 16 лет</td>\n",
       "      <td>NaN</td>\n",
       "      <td>NaN</td>\n",
       "      <td>NaN</td>\n",
       "      <td>NaN</td>\n",
       "      <td>7.4</td>\n",
       "      <td>комедия,криминал</td>\n",
       "      <td>NaN</td>\n",
       "    </tr>\n",
       "    <tr>\n",
       "      <th>5068</th>\n",
       "      <td>анализируй то!</td>\n",
       "      <td>221054410</td>\n",
       "      <td>2010-05-25T12:00:00.000Z</td>\n",
       "      <td>Художественный</td>\n",
       "      <td>Уорнер Бразерс, Виллидж Роадшоу Пикчерз, Эн-Пи...</td>\n",
       "      <td>США</td>\n",
       "      <td>Гарольд Реймис</td>\n",
       "      <td>Джейн Розенталь, Паул Уэйнстейн</td>\n",
       "      <td>«12+» - для детей старше 12 лет</td>\n",
       "      <td>NaN</td>\n",
       "      <td>NaN</td>\n",
       "      <td>NaN</td>\n",
       "      <td>NaN</td>\n",
       "      <td>6.8</td>\n",
       "      <td>комедия,криминал</td>\n",
       "      <td>NaN</td>\n",
       "    </tr>\n",
       "  </tbody>\n",
       "</table>\n",
       "</div>"
      ],
      "text/plain": [
       "                title  pu_number           show_start_date            type  \\\n",
       "5067  анализируй это!  221054410  2010-05-25T12:00:00.000Z  Художественный   \n",
       "5068   анализируй то!  221054410  2010-05-25T12:00:00.000Z  Художественный   \n",
       "\n",
       "                                            film_studio production_country  \\\n",
       "5067          Уорнер Бразерс, Вилладж Роудшоу Филмз ЛТД      США-Австралия   \n",
       "5068  Уорнер Бразерс, Виллидж Роадшоу Пикчерз, Эн-Пи...                США   \n",
       "\n",
       "            director                         producer  \\\n",
       "5067   ХЭрольд Рэмис  Джейн Розенталь, Пола Уейнстейн   \n",
       "5068  Гарольд Реймис  Джейн Розенталь, Паул Уэйнстейн   \n",
       "\n",
       "                      age_restriction  refundable_support  \\\n",
       "5067  «16+» - для детей старше 16 лет                 NaN   \n",
       "5068  «12+» - для детей старше 12 лет                 NaN   \n",
       "\n",
       "      nonrefundable_support  budget financing_source ratings  \\\n",
       "5067                    NaN     NaN              NaN     7.4   \n",
       "5068                    NaN     NaN              NaN     6.8   \n",
       "\n",
       "                genres  box_office  \n",
       "5067  комедия,криминал         NaN  \n",
       "5068  комедия,криминал         NaN  "
      ]
     },
     "execution_count": 26,
     "metadata": {},
     "output_type": "execute_result"
    }
   ],
   "source": [
    "# получение среза данных по столбцу 'pu_number'\n",
    "\n",
    "df.query('pu_number == 221054410')"
   ]
  },
  {
   "cell_type": "code",
   "execution_count": 27,
   "metadata": {},
   "outputs": [
    {
     "data": {
      "text/html": [
       "<div>\n",
       "<style scoped>\n",
       "    .dataframe tbody tr th:only-of-type {\n",
       "        vertical-align: middle;\n",
       "    }\n",
       "\n",
       "    .dataframe tbody tr th {\n",
       "        vertical-align: top;\n",
       "    }\n",
       "\n",
       "    .dataframe thead th {\n",
       "        text-align: right;\n",
       "    }\n",
       "</style>\n",
       "<table border=\"1\" class=\"dataframe\">\n",
       "  <thead>\n",
       "    <tr style=\"text-align: right;\">\n",
       "      <th></th>\n",
       "      <th>title</th>\n",
       "      <th>pu_number</th>\n",
       "      <th>show_start_date</th>\n",
       "      <th>type</th>\n",
       "      <th>film_studio</th>\n",
       "      <th>production_country</th>\n",
       "      <th>director</th>\n",
       "      <th>producer</th>\n",
       "      <th>age_restriction</th>\n",
       "      <th>refundable_support</th>\n",
       "      <th>nonrefundable_support</th>\n",
       "      <th>budget</th>\n",
       "      <th>financing_source</th>\n",
       "      <th>ratings</th>\n",
       "      <th>genres</th>\n",
       "      <th>box_office</th>\n",
       "    </tr>\n",
       "  </thead>\n",
       "  <tbody>\n",
       "    <tr>\n",
       "      <th>4638</th>\n",
       "      <td>как жениться и остаться холостым</td>\n",
       "      <td>221154310</td>\n",
       "      <td>2010-12-17T12:00:00.000Z</td>\n",
       "      <td>Художественный</td>\n",
       "      <td>Ше Вам, Скрипт Ассосье, Тэ Фэ 1 Фильм Продюксь...</td>\n",
       "      <td>Франция</td>\n",
       "      <td>Эрик Лартиго</td>\n",
       "      <td>Амандин Било, Алан Шаба</td>\n",
       "      <td>«16+» - для детей старше 16 лет</td>\n",
       "      <td>NaN</td>\n",
       "      <td>NaN</td>\n",
       "      <td>NaN</td>\n",
       "      <td>NaN</td>\n",
       "      <td>7.0</td>\n",
       "      <td>мелодрама,комедия</td>\n",
       "      <td>NaN</td>\n",
       "    </tr>\n",
       "    <tr>\n",
       "      <th>4639</th>\n",
       "      <td>иоанна - женщина на папском престоле /по роман...</td>\n",
       "      <td>221154310</td>\n",
       "      <td>2010-12-17T12:00:00.000Z</td>\n",
       "      <td>Художественный</td>\n",
       "      <td>Константин Фильм, А Эр Ди Дегето Фильм, Дюне ...</td>\n",
       "      <td>Германия - Великобритания - Италия - Испания</td>\n",
       "      <td>Зенке Вортманн</td>\n",
       "      <td>Оливер Бербен, Дорис Д.Хайнце, Фарук Элтан</td>\n",
       "      <td>«16+» - для детей старше 16 лет</td>\n",
       "      <td>NaN</td>\n",
       "      <td>NaN</td>\n",
       "      <td>NaN</td>\n",
       "      <td>NaN</td>\n",
       "      <td>7.6</td>\n",
       "      <td>драма,мелодрама,история</td>\n",
       "      <td>NaN</td>\n",
       "    </tr>\n",
       "  </tbody>\n",
       "</table>\n",
       "</div>"
      ],
      "text/plain": [
       "                                                  title  pu_number  \\\n",
       "4638                   как жениться и остаться холостым  221154310   \n",
       "4639  иоанна - женщина на папском престоле /по роман...  221154310   \n",
       "\n",
       "               show_start_date            type  \\\n",
       "4638  2010-12-17T12:00:00.000Z  Художественный   \n",
       "4639  2010-12-17T12:00:00.000Z  Художественный   \n",
       "\n",
       "                                            film_studio  \\\n",
       "4638  Ше Вам, Скрипт Ассосье, Тэ Фэ 1 Фильм Продюксь...   \n",
       "4639   Константин Фильм, А Эр Ди Дегето Фильм, Дюне ...   \n",
       "\n",
       "                                production_country        director  \\\n",
       "4638                                       Франция    Эрик Лартиго   \n",
       "4639  Германия - Великобритания - Италия - Испания  Зенке Вортманн   \n",
       "\n",
       "                                        producer  \\\n",
       "4638                     Амандин Било, Алан Шаба   \n",
       "4639  Оливер Бербен, Дорис Д.Хайнце, Фарук Элтан   \n",
       "\n",
       "                      age_restriction  refundable_support  \\\n",
       "4638  «16+» - для детей старше 16 лет                 NaN   \n",
       "4639  «16+» - для детей старше 16 лет                 NaN   \n",
       "\n",
       "      nonrefundable_support  budget financing_source ratings  \\\n",
       "4638                    NaN     NaN              NaN     7.0   \n",
       "4639                    NaN     NaN              NaN     7.6   \n",
       "\n",
       "                       genres  box_office  \n",
       "4638        мелодрама,комедия         NaN  \n",
       "4639  драма,мелодрама,история         NaN  "
      ]
     },
     "execution_count": 27,
     "metadata": {},
     "output_type": "execute_result"
    }
   ],
   "source": [
    "# получение среза данных по столбцу 'pu_number'\n",
    "\n",
    "df.query('pu_number == 221154310')"
   ]
  },
  {
   "cell_type": "markdown",
   "metadata": {},
   "source": [
    "Как мы видим, в столбце `pu_number` есть 4 фильма у которых одинаковые номера прокатного удостоверения. Стоит отметить, что даты выхода у них тоже совпадают.\n",
    "\n",
    "Следовательно, необходимо удалить данные строки, так как прокатное удостоверение выдается на определённый фильм с уникальным номером и не может быть у фильма с другим названием."
   ]
  },
  {
   "cell_type": "code",
   "execution_count": 28,
   "metadata": {},
   "outputs": [],
   "source": [
    "# удаление строк из таблицы df, где\n",
    "# в столбце 'pu_number' находятся дубликаты\n",
    "\n",
    "df = df.drop(index = [4638,4639]).reset_index(drop = True)\n",
    "df = df.drop(index = [5067,5068]).reset_index(drop = True)"
   ]
  },
  {
   "cell_type": "code",
   "execution_count": 29,
   "metadata": {},
   "outputs": [
    {
     "data": {
      "text/html": [
       "<div>\n",
       "<style scoped>\n",
       "    .dataframe tbody tr th:only-of-type {\n",
       "        vertical-align: middle;\n",
       "    }\n",
       "\n",
       "    .dataframe tbody tr th {\n",
       "        vertical-align: top;\n",
       "    }\n",
       "\n",
       "    .dataframe thead th {\n",
       "        text-align: right;\n",
       "    }\n",
       "</style>\n",
       "<table border=\"1\" class=\"dataframe\">\n",
       "  <thead>\n",
       "    <tr style=\"text-align: right;\">\n",
       "      <th></th>\n",
       "      <th>title</th>\n",
       "      <th>pu_number</th>\n",
       "      <th>show_start_date</th>\n",
       "      <th>type</th>\n",
       "      <th>film_studio</th>\n",
       "      <th>production_country</th>\n",
       "      <th>director</th>\n",
       "      <th>producer</th>\n",
       "      <th>age_restriction</th>\n",
       "      <th>refundable_support</th>\n",
       "      <th>nonrefundable_support</th>\n",
       "      <th>budget</th>\n",
       "      <th>financing_source</th>\n",
       "      <th>ratings</th>\n",
       "      <th>genres</th>\n",
       "      <th>box_office</th>\n",
       "    </tr>\n",
       "  </thead>\n",
       "  <tbody>\n",
       "  </tbody>\n",
       "</table>\n",
       "</div>"
      ],
      "text/plain": [
       "Empty DataFrame\n",
       "Columns: [title, pu_number, show_start_date, type, film_studio, production_country, director, producer, age_restriction, refundable_support, nonrefundable_support, budget, financing_source, ratings, genres, box_office]\n",
       "Index: []"
      ]
     },
     "execution_count": 29,
     "metadata": {},
     "output_type": "execute_result"
    }
   ],
   "source": [
    "# просмотр среза данных \n",
    "# по значениям столбца 'pu_number'\n",
    "\n",
    "df.query('pu_number == 221054410 and pu_number == 221154310')"
   ]
  },
  {
   "cell_type": "code",
   "execution_count": 30,
   "metadata": {},
   "outputs": [],
   "source": [
    "# перевод значений столбца 'first_day_exposition' в тип данных 'datetime' и\n",
    "# удаление часового пояса \n",
    "\n",
    "df['show_start_date'] = pd.to_datetime(df['show_start_date'], format = '%Y-%m-%dT%H:%M:%S')\n",
    "df['show_start_date'] = df['show_start_date'].apply(lambda x: x.replace(tzinfo = None))"
   ]
  },
  {
   "cell_type": "code",
   "execution_count": 31,
   "metadata": {},
   "outputs": [
    {
     "data": {
      "text/plain": [
       "0   2015-11-27 12:00:00\n",
       "1   2016-09-13 12:00:00\n",
       "2   2016-10-10 12:00:00\n",
       "3   2016-06-10 12:00:00\n",
       "4   2015-07-29 12:00:00\n",
       "Name: show_start_date, dtype: datetime64[ns]"
      ]
     },
     "execution_count": 31,
     "metadata": {},
     "output_type": "execute_result"
    }
   ],
   "source": [
    "# получение первых 5 значений\n",
    "# столбца 'show_start_date'\n",
    "\n",
    "df['show_start_date'].head()"
   ]
  },
  {
   "cell_type": "code",
   "execution_count": 32,
   "metadata": {},
   "outputs": [
    {
     "data": {
      "text/plain": [
       "array(['Художественный', 'Анимационный', 'Прочие', 'Документальный',\n",
       "       'Научно-популярный', ' Художественный', ' Анимационный',\n",
       "       'Музыкально-развлекательный'], dtype=object)"
      ]
     },
     "execution_count": 32,
     "metadata": {},
     "output_type": "execute_result"
    }
   ],
   "source": [
    "# получение уникальных значений столбца 'type'\n",
    "\n",
    "df['type'].unique()"
   ]
  },
  {
   "cell_type": "markdown",
   "metadata": {},
   "source": [
    "Как мы видим в столбце `type` у некоторых значений, а именно `Художественный`и `Анимационный`, есть пробелы в начале строки. Удалим данные пробелы и неявные дубликаты соответственно.\n",
    "\n",
    "Также приведём названия типов фильма к нижнему регистру.\n",
    "\n",
    "Можно также предположить, что неявные дубликаты могли возникнуть по причине того, что значения были собраны из разных источников, тем самым однотипные названия отличаются по определённым признакам."
   ]
  },
  {
   "cell_type": "code",
   "execution_count": 33,
   "metadata": {},
   "outputs": [],
   "source": [
    "# приведение значений в столбце 'type'\n",
    "# к нижнему регистру и \n",
    "# удаление пробелов в начале и в конце строки\n",
    "\n",
    "df['type'] = df['type'].str.strip().str.lower()"
   ]
  },
  {
   "cell_type": "code",
   "execution_count": 34,
   "metadata": {},
   "outputs": [
    {
     "data": {
      "text/plain": [
       "array(['художественный', 'анимационный', 'прочие', 'документальный',\n",
       "       'научно-популярный', 'музыкально-развлекательный'], dtype=object)"
      ]
     },
     "execution_count": 34,
     "metadata": {},
     "output_type": "execute_result"
    }
   ],
   "source": [
    "# получение уникальных значений столбца 'type'\n",
    "\n",
    "df['type'].unique()"
   ]
  },
  {
   "cell_type": "markdown",
   "metadata": {},
   "source": [
    "В столбце `film_studio` мы видим наличие пропущенных значений, поэтому необходимо заменить пропуски на значение `не определена`.  \n",
    "\n",
    "Данный способ представляется самым отимальным в подобном случае, так как в данном столбце представлены категориальные значения, а у нас нет точной информации, какие именно значения пропущены в столбце. "
   ]
  },
  {
   "cell_type": "code",
   "execution_count": 35,
   "metadata": {},
   "outputs": [],
   "source": [
    "# замена пропущенных значений в столбце 'film_studio'\n",
    "\n",
    "df['film_studio'] = df['film_studio'].fillna('не определена')"
   ]
  },
  {
   "cell_type": "code",
   "execution_count": 36,
   "metadata": {},
   "outputs": [
    {
     "data": {
      "text/plain": [
       "Киностудия \"Мосфильм\"                                                                                                    341\n",
       "ООО \"Мульт в кино\"                                                                                                        57\n",
       "Анимаккорд Лтд                                                                                                            23\n",
       "не определена                                                                                                             18\n",
       "ООО \"Мульт в кино\"                                                                                                        18\n",
       "                                                                                                                        ... \n",
       "Центропа Интертейнмент, Дэт Данске Филминститут, Ти Ви 2 Денмарк                                                           1\n",
       "Фекшн М, Преферед Контэнт, Гай А.Данелла Продакшнз                                                                         1\n",
       "ООО \"Гильдия Путешественников\"                                                                                             1\n",
       "Тре Ваннер Продакш Эй Би                                                                                                   1\n",
       "Ридженси Энтерпрайзис, Саммит Интертейнмент, Базелевс Продакшн, Джейкобсон Компани, Нью Ридженси Пикчерз, ХХ век Фокс      1\n",
       "Name: film_studio, Length: 5491, dtype: int64"
      ]
     },
     "execution_count": 36,
     "metadata": {},
     "output_type": "execute_result"
    }
   ],
   "source": [
    "# получение уникальных значений в \n",
    "# столбце 'film_studio'\n",
    "\n",
    "df['film_studio'].value_counts()"
   ]
  },
  {
   "cell_type": "code",
   "execution_count": 37,
   "metadata": {},
   "outputs": [],
   "source": [
    "# получение уникальных значений\n",
    "# столбца 'film_studio'\n",
    "\n",
    "#sorted(df['film_studio'].unique())"
   ]
  },
  {
   "cell_type": "markdown",
   "metadata": {},
   "source": [
    "В столбце `film_studio` мы также обнаружили пробелы в конце строки, поэтому уберём данные пробелы. Стоит отметить, что значения записаны в разном регистре, необходимо привести их единому формату, строчным буквам, то есть к нижнему регистру.\n",
    "\n",
    "Также в столбце есть неявные дубликаты, например, `Сони Пикчерс Интертейнмент` и `Сони Пикчерз Интертейнмент`. Заменим слова `Пикчерс` на `Пикчерз`, `Продакшен, Продакшнз, Продакшнс` на `Продакшн` и `Фильмс, Фильмз, Филмс` на `Филмз`, `Коламбиа, Каламбиа` на `Коламбия`.\n",
    "\n",
    "Также, возможно, что, как и в предыдущих столбцах, где обнаружены пробелы или неявные дубликаты, возникновение подобных явлений можно отнести к выгрузке значений из разных источников, где данные записаны по разному."
   ]
  },
  {
   "cell_type": "code",
   "execution_count": 38,
   "metadata": {},
   "outputs": [],
   "source": [
    "# приведение значений в столбце 'film_studio'\n",
    "# к нижнему регистру и \n",
    "# удаление пробелов в начале и в конце строки\n",
    "\n",
    "df['film_studio'] = df['film_studio'].str.strip().str.lower()"
   ]
  },
  {
   "cell_type": "code",
   "execution_count": 39,
   "metadata": {},
   "outputs": [],
   "source": [
    "# создание переменной, где указан словарь и\n",
    "# создание функции\n",
    "# для замены одного значения на другое\n",
    "\n",
    "synonyms = {\n",
    "    'Продакшн': ['Продакшен', 'Продакшнз', 'Продакшнс'], \n",
    "    'Филмз': ['Фильмс', 'Фильмз', 'Филмс', 'филмс'], 'Коламбия': ['Коламбиа', 'Каламбиа']\n",
    "}\n",
    "\n",
    "def check_synonyms(cell):\n",
    "    '''\n",
    "    Сверяет значения в столбце и в переменной 'synonyms' и \n",
    "    проводит замену старого значения на новое.\n",
    "    '''\n",
    "    for name, syn in synonyms.items():\n",
    "        for s in syn:\n",
    "            if s in cell: return cell.replace(s, name)\n",
    "    return cell\n",
    "\n",
    "df['film_studio'] = df['film_studio'].fillna('').apply(check_synonyms) "
   ]
  },
  {
   "cell_type": "code",
   "execution_count": 40,
   "metadata": {},
   "outputs": [],
   "source": [
    "# замена одного значения на другое \n",
    "# в столбце 'film_studio'\n",
    "\n",
    "df['film_studio'] = df['film_studio'].str.replace('Пикчерс','Пикчерз') "
   ]
  },
  {
   "cell_type": "code",
   "execution_count": 41,
   "metadata": {},
   "outputs": [],
   "source": [
    "# получение уникальных значений\n",
    "# столбца 'film_studio'\n",
    "\n",
    "#sorted(df['film_studio'].unique())"
   ]
  },
  {
   "cell_type": "code",
   "execution_count": 42,
   "metadata": {},
   "outputs": [
    {
     "data": {
      "text/html": [
       "<div>\n",
       "<style scoped>\n",
       "    .dataframe tbody tr th:only-of-type {\n",
       "        vertical-align: middle;\n",
       "    }\n",
       "\n",
       "    .dataframe tbody tr th {\n",
       "        vertical-align: top;\n",
       "    }\n",
       "\n",
       "    .dataframe thead th {\n",
       "        text-align: right;\n",
       "    }\n",
       "</style>\n",
       "<table border=\"1\" class=\"dataframe\">\n",
       "  <thead>\n",
       "    <tr style=\"text-align: right;\">\n",
       "      <th></th>\n",
       "      <th>title</th>\n",
       "      <th>pu_number</th>\n",
       "      <th>show_start_date</th>\n",
       "      <th>type</th>\n",
       "      <th>film_studio</th>\n",
       "      <th>production_country</th>\n",
       "      <th>director</th>\n",
       "      <th>producer</th>\n",
       "      <th>age_restriction</th>\n",
       "      <th>refundable_support</th>\n",
       "      <th>nonrefundable_support</th>\n",
       "      <th>budget</th>\n",
       "      <th>financing_source</th>\n",
       "      <th>ratings</th>\n",
       "      <th>genres</th>\n",
       "      <th>box_office</th>\n",
       "    </tr>\n",
       "  </thead>\n",
       "  <tbody>\n",
       "    <tr>\n",
       "      <th>3186</th>\n",
       "      <td>детский юмористический киножурнал \"ералаш. ну ...</td>\n",
       "      <td>111001216</td>\n",
       "      <td>2016-02-09 12:00:00</td>\n",
       "      <td>художественный</td>\n",
       "      <td>ооо \"продюсерский центр ералаш\"</td>\n",
       "      <td>NaN</td>\n",
       "      <td>Р.Светлов, И.Магитон, А.Арутюнян, Л.Мирский, А...</td>\n",
       "      <td>ООО \"Продюсерский центр ЕРАЛАШ\"</td>\n",
       "      <td>«0+» - для любой зрительской аудитории</td>\n",
       "      <td>NaN</td>\n",
       "      <td>NaN</td>\n",
       "      <td>NaN</td>\n",
       "      <td>NaN</td>\n",
       "      <td>7.2</td>\n",
       "      <td>детский,комедия</td>\n",
       "      <td>194527.00</td>\n",
       "    </tr>\n",
       "    <tr>\n",
       "      <th>4441</th>\n",
       "      <td>мульт личности. выпуск 5</td>\n",
       "      <td>214000410</td>\n",
       "      <td>2010-01-25 12:00:00</td>\n",
       "      <td>художественный</td>\n",
       "      <td>не определена</td>\n",
       "      <td>NaN</td>\n",
       "      <td>NaN</td>\n",
       "      <td>NaN</td>\n",
       "      <td>«0+» - для любой зрительской аудитории</td>\n",
       "      <td>NaN</td>\n",
       "      <td>NaN</td>\n",
       "      <td>NaN</td>\n",
       "      <td>NaN</td>\n",
       "      <td>4.0</td>\n",
       "      <td>мультфильм,комедия</td>\n",
       "      <td>NaN</td>\n",
       "    </tr>\n",
       "  </tbody>\n",
       "</table>\n",
       "</div>"
      ],
      "text/plain": [
       "                                                  title  pu_number  \\\n",
       "3186  детский юмористический киножурнал \"ералаш. ну ...  111001216   \n",
       "4441                           мульт личности. выпуск 5  214000410   \n",
       "\n",
       "         show_start_date            type                      film_studio  \\\n",
       "3186 2016-02-09 12:00:00  художественный  ооо \"продюсерский центр ералаш\"   \n",
       "4441 2010-01-25 12:00:00  художественный                    не определена   \n",
       "\n",
       "     production_country                                           director  \\\n",
       "3186                NaN  Р.Светлов, И.Магитон, А.Арутюнян, Л.Мирский, А...   \n",
       "4441                NaN                                                NaN   \n",
       "\n",
       "                             producer                         age_restriction  \\\n",
       "3186  ООО \"Продюсерский центр ЕРАЛАШ\"  «0+» - для любой зрительской аудитории   \n",
       "4441                              NaN  «0+» - для любой зрительской аудитории   \n",
       "\n",
       "      refundable_support  nonrefundable_support  budget financing_source  \\\n",
       "3186                 NaN                    NaN     NaN              NaN   \n",
       "4441                 NaN                    NaN     NaN              NaN   \n",
       "\n",
       "     ratings              genres  box_office  \n",
       "3186     7.2     детский,комедия   194527.00  \n",
       "4441     4.0  мультфильм,комедия         NaN  "
      ]
     },
     "execution_count": 42,
     "metadata": {},
     "output_type": "execute_result"
    }
   ],
   "source": [
    "# получение среза по пропущенным значениям\n",
    "# в столбце 'production_country'\n",
    "\n",
    "df.query('production_country.isna()') "
   ]
  },
  {
   "cell_type": "markdown",
   "metadata": {},
   "source": [
    "Заменим пропущенные значения в столбце `production_country` на значение `не определена`.\n",
    "\n",
    " "
   ]
  },
  {
   "cell_type": "code",
   "execution_count": 43,
   "metadata": {},
   "outputs": [],
   "source": [
    "# замена пропущенных значений \n",
    "# в столбце 'production_country'\n",
    "\n",
    "df['production_country'] = df['production_country'].fillna('не определена')"
   ]
  },
  {
   "cell_type": "code",
   "execution_count": 44,
   "metadata": {},
   "outputs": [
    {
     "data": {
      "text/plain": [
       "США                                             2171\n",
       "Россия                                          1821\n",
       "СССР                                             347\n",
       "Франция                                          300\n",
       "Великобритания                                   257\n",
       "                                                ... \n",
       "Швеция, Франция, Великобритания                    1\n",
       "КНР-США                                            1\n",
       "Дания - Швеция - Италия - Франция - Германия       1\n",
       "Парагвай                                           1\n",
       "СССР                                               1\n",
       "Name: production_country, Length: 951, dtype: int64"
      ]
     },
     "execution_count": 44,
     "metadata": {},
     "output_type": "execute_result"
    }
   ],
   "source": [
    "# получение уникальных значений в \n",
    "# столбце 'production_country'\n",
    "\n",
    "df['production_country'].value_counts()"
   ]
  },
  {
   "cell_type": "code",
   "execution_count": 45,
   "metadata": {},
   "outputs": [],
   "source": [
    "# получение уникальных значений\n",
    "# столбца 'production_country'\n",
    "\n",
    "#df['production_country'].unique()"
   ]
  },
  {
   "cell_type": "markdown",
   "metadata": {},
   "source": [
    "В столбце `production_country` встречаются пробелы в начале и в конце строки, поэтому уберём данные пробелы."
   ]
  },
  {
   "cell_type": "code",
   "execution_count": 46,
   "metadata": {},
   "outputs": [],
   "source": [
    "# удаление пробелов в начале и в конце строки\n",
    "# в столбце 'production_country'\n",
    "\n",
    "df['production_country'] = df['production_country'].str.strip()"
   ]
  },
  {
   "cell_type": "markdown",
   "metadata": {},
   "source": [
    "Заменим пропущенные значения в столбце `director` на значение `не определён`."
   ]
  },
  {
   "cell_type": "code",
   "execution_count": 47,
   "metadata": {},
   "outputs": [],
   "source": [
    "# замена пропущенных значений\n",
    "# в столбце 'director'\n",
    "\n",
    "df['director'] = df['director'].fillna('не определён')"
   ]
  },
  {
   "cell_type": "code",
   "execution_count": 48,
   "metadata": {},
   "outputs": [
    {
     "data": {
      "text/plain": [
       "О.Семёнова                               47\n",
       "Д.Червяцов                               17\n",
       "Стивен Содерберг                         17\n",
       "Ридли Скотт                              16\n",
       "Тиль Швайгер                             14\n",
       "                                         ..\n",
       "Д.Боголепов                               1\n",
       "И.Копылов, С.Щербин                       1\n",
       "Камаль Бансаль                            1\n",
       "Фернандо Гонзалез Молина                  1\n",
       "Л.Шмурьева (псевдоним Лика Алексеева)     1\n",
       "Name: director, Length: 4812, dtype: int64"
      ]
     },
     "execution_count": 48,
     "metadata": {},
     "output_type": "execute_result"
    }
   ],
   "source": [
    "# получение уникальных значений в \n",
    "# столбце 'director'\n",
    "\n",
    "df['director'].value_counts()"
   ]
  },
  {
   "cell_type": "code",
   "execution_count": 49,
   "metadata": {},
   "outputs": [],
   "source": [
    "# получение уникальных значений\n",
    "# столбца 'director'\n",
    "\n",
    "#sorted(df['director'].unique())"
   ]
  },
  {
   "cell_type": "markdown",
   "metadata": {},
   "source": [
    "В столбце `director` также, как в предыдущих категориальных столбцах присутствуют пропуски в начале и в конце строки, есть неявные дубликаты, которые отличаются только пропуском, например 'Бен Уитли   ', 'Бен Уитли', поэтому тоже уберём пропуски."
   ]
  },
  {
   "cell_type": "code",
   "execution_count": 50,
   "metadata": {},
   "outputs": [],
   "source": [
    "# удаление пробелов в начале и в конце строки\n",
    "# в столбце 'director'\n",
    "\n",
    "df['director'] = df['director'].str.strip()"
   ]
  },
  {
   "cell_type": "markdown",
   "metadata": {},
   "source": [
    "Заменим пропущенные значения в столбце `producer` на значение `не определён`."
   ]
  },
  {
   "cell_type": "code",
   "execution_count": 51,
   "metadata": {},
   "outputs": [],
   "source": [
    "# замена пропущенных значений\n",
    "# в столбце 'producer'\n",
    "\n",
    "df['producer'] = df['producer'].fillna('не определён')"
   ]
  },
  {
   "cell_type": "code",
   "execution_count": 52,
   "metadata": {},
   "outputs": [
    {
     "data": {
      "text/plain": [
       "не определён                                              568\n",
       "П.Смирнов                                                  67\n",
       "Олег Кузовков, Дмитрий Ловейко, Марина Ратина              28\n",
       "С.Сельянов                                                 18\n",
       "Д.Ловейко, О.Кузовков                                      17\n",
       "                                                         ... \n",
       "Кодзи Вакамацу, Ацуши Обината, Мунеко Озаки                 1\n",
       "Джон Руни                                                   1\n",
       "Сэм Рассел, Саймон Твисе                                    1\n",
       "Джон Ву, Теренс Ченг                                        1\n",
       "Натали Гастальд, Жан-Батист Дюпон, Сирил Кольбо-Жюстен      1\n",
       "Name: producer, Length: 5350, dtype: int64"
      ]
     },
     "execution_count": 52,
     "metadata": {},
     "output_type": "execute_result"
    }
   ],
   "source": [
    "# получение уникальных значений в \n",
    "# столбце 'producer'\n",
    "\n",
    "df['producer'].value_counts()"
   ]
  },
  {
   "cell_type": "code",
   "execution_count": 53,
   "metadata": {},
   "outputs": [],
   "source": [
    "# получение уникальных значений\n",
    "# столбца 'producer'\n",
    "\n",
    "#sorted(df['producer'].unique())"
   ]
  },
  {
   "cell_type": "markdown",
   "metadata": {},
   "source": [
    "В столбце `producer` также встречаются пропуски в начале и в конце строки и у некоторых значений в конце строки присутствуют лишние запятые. Поэтому уберём пропуски и запятые в начале и в конце строки.\n",
    "\n",
    "Также, значения записаны в разном регистре, присутствуют и названия с полностью строчными и полностью заглавными буквами, следовательно необходимо привести значения к нижнему регистру."
   ]
  },
  {
   "cell_type": "code",
   "execution_count": 54,
   "metadata": {},
   "outputs": [],
   "source": [
    "# удаление пробелов, лишних знаков \n",
    "# в начале и в конце строки и\n",
    "# приведение значений к нижнему регистру\n",
    "# в столбце 'director'\n",
    "\n",
    "df['producer'] = df['producer'].str.strip(',\\ ').str.lower()"
   ]
  },
  {
   "cell_type": "code",
   "execution_count": 55,
   "metadata": {},
   "outputs": [
    {
     "data": {
      "text/plain": [
       "«16+» - для детей старше 16 лет           2848\n",
       "«18+» - запрещено для детей               1605\n",
       "«12+» - для детей старше 12 лет           1592\n",
       "«0+» - для любой зрительской аудитории     811\n",
       "«6+» - для детей старше 6 лет              626\n",
       "Name: age_restriction, dtype: int64"
      ]
     },
     "execution_count": 55,
     "metadata": {},
     "output_type": "execute_result"
    }
   ],
   "source": [
    "# получение уникальных значений\n",
    "# столбца 'age_restriction'\n",
    "\n",
    "df['age_restriction'].value_counts()"
   ]
  },
  {
   "cell_type": "code",
   "execution_count": 56,
   "metadata": {},
   "outputs": [],
   "source": [
    "# замена пропущенных значений\n",
    "# в столбце 'financing_source'\n",
    "\n",
    "df['financing_source'] = df['financing_source'].fillna('не определён')"
   ]
  },
  {
   "cell_type": "code",
   "execution_count": 57,
   "metadata": {},
   "outputs": [
    {
     "data": {
      "text/plain": [
       "['Министерство культуры',\n",
       " 'Министерство культуры, Фонд кино',\n",
       " 'Фонд кино',\n",
       " 'не определён']"
      ]
     },
     "execution_count": 57,
     "metadata": {},
     "output_type": "execute_result"
    }
   ],
   "source": [
    "# получение уникальных значений\n",
    "# столбца 'financing_source'\n",
    "\n",
    "sorted(df['financing_source'].unique())"
   ]
  },
  {
   "cell_type": "markdown",
   "metadata": {},
   "source": [
    "Заменим пропущенные значения в столбце `director` на значение `не определён`.\n",
    "\n",
    "Как и с заменой значений по предыдущим столбцам, данный способ является самым оптимальным."
   ]
  },
  {
   "cell_type": "code",
   "execution_count": 58,
   "metadata": {},
   "outputs": [],
   "source": [
    "# замена пропущенных значений\n",
    "# в столбце 'genres'\n",
    "\n",
    "df['genres'] = df['genres'].fillna('не определён')"
   ]
  },
  {
   "cell_type": "code",
   "execution_count": 59,
   "metadata": {},
   "outputs": [
    {
     "data": {
      "text/plain": [
       "не определён                      976\n",
       "драма                             476\n",
       "комедия                           352\n",
       "мелодрама,комедия                 220\n",
       "драма,мелодрама,комедия           189\n",
       "                                 ... \n",
       "криминал,драма,комедия              1\n",
       "документальный,семейный,музыка      1\n",
       "триллер,криминал,приключения        1\n",
       "фэнтези,боевик,криминал             1\n",
       "фантастика,драма,детектив           1\n",
       "Name: genres, Length: 743, dtype: int64"
      ]
     },
     "execution_count": 59,
     "metadata": {},
     "output_type": "execute_result"
    }
   ],
   "source": [
    "# получение уникальных значений в \n",
    "# столбце 'genres'\n",
    "\n",
    "df['genres'].value_counts()"
   ]
  },
  {
   "cell_type": "code",
   "execution_count": 60,
   "metadata": {},
   "outputs": [],
   "source": [
    "# получение уникальных значений\n",
    "# столбца 'genres'\n",
    "\n",
    "#sorted(df['genres'].unique())"
   ]
  },
  {
   "cell_type": "markdown",
   "metadata": {},
   "source": [
    "В столбце `genres` не наблюдается никаких пропусков в начале или в конце строки и неявных дубликатов.\n",
    "\n",
    "После просмотра всех значений в категориальных столбцах можно утверждать, что существует одна общая проблема практически во всех столбцах, кроме `age_restriction`, `financing_source` и `genres`. Данная проблема есть в таких категориальных столбцах, как `title`, `type`, `film_studio`, `production_country`, `director` и `producer`, именно здесь встречаются пропуски в начале и в конце строки."
   ]
  },
  {
   "cell_type": "code",
   "execution_count": 61,
   "metadata": {},
   "outputs": [
    {
     "data": {
      "text/html": [
       "<div>\n",
       "<style scoped>\n",
       "    .dataframe tbody tr th:only-of-type {\n",
       "        vertical-align: middle;\n",
       "    }\n",
       "\n",
       "    .dataframe tbody tr th {\n",
       "        vertical-align: top;\n",
       "    }\n",
       "\n",
       "    .dataframe thead th {\n",
       "        text-align: right;\n",
       "    }\n",
       "</style>\n",
       "<table border=\"1\" class=\"dataframe\">\n",
       "  <thead>\n",
       "    <tr style=\"text-align: right;\">\n",
       "      <th></th>\n",
       "      <th>title</th>\n",
       "      <th>pu_number</th>\n",
       "      <th>show_start_date</th>\n",
       "      <th>type</th>\n",
       "      <th>film_studio</th>\n",
       "      <th>production_country</th>\n",
       "      <th>director</th>\n",
       "      <th>producer</th>\n",
       "      <th>age_restriction</th>\n",
       "      <th>refundable_support</th>\n",
       "      <th>nonrefundable_support</th>\n",
       "      <th>budget</th>\n",
       "      <th>financing_source</th>\n",
       "      <th>ratings</th>\n",
       "      <th>genres</th>\n",
       "      <th>box_office</th>\n",
       "    </tr>\n",
       "  </thead>\n",
       "  <tbody>\n",
       "    <tr>\n",
       "      <th>0</th>\n",
       "      <td>открытый простор</td>\n",
       "      <td>221048915</td>\n",
       "      <td>2015-11-27 12:00:00</td>\n",
       "      <td>художественный</td>\n",
       "      <td>тачстоун пикчерз, кобальт пикчерз, бикон пикче...</td>\n",
       "      <td>США</td>\n",
       "      <td>Кевин Костнер</td>\n",
       "      <td>дэвид валдес, кевин костнер, джейк эбертс</td>\n",
       "      <td>«18+» - запрещено для детей</td>\n",
       "      <td>NaN</td>\n",
       "      <td>NaN</td>\n",
       "      <td>NaN</td>\n",
       "      <td>не определён</td>\n",
       "      <td>7.2</td>\n",
       "      <td>боевик,драма,мелодрама</td>\n",
       "      <td>NaN</td>\n",
       "    </tr>\n",
       "    <tr>\n",
       "      <th>1</th>\n",
       "      <td>особо важное задание</td>\n",
       "      <td>111013716</td>\n",
       "      <td>2016-09-13 12:00:00</td>\n",
       "      <td>художественный</td>\n",
       "      <td>киностудия \"мосфильм\"</td>\n",
       "      <td>СССР</td>\n",
       "      <td>Е.Матвеев</td>\n",
       "      <td>не определён</td>\n",
       "      <td>«6+» - для детей старше 6 лет</td>\n",
       "      <td>NaN</td>\n",
       "      <td>NaN</td>\n",
       "      <td>NaN</td>\n",
       "      <td>не определён</td>\n",
       "      <td>6.6</td>\n",
       "      <td>драма,военный</td>\n",
       "      <td>NaN</td>\n",
       "    </tr>\n",
       "    <tr>\n",
       "      <th>2</th>\n",
       "      <td>особо опасен</td>\n",
       "      <td>221038416</td>\n",
       "      <td>2016-10-10 12:00:00</td>\n",
       "      <td>художественный</td>\n",
       "      <td>юниверсал пикчерз, кикстарт продакшнз, марк пл...</td>\n",
       "      <td>США</td>\n",
       "      <td>Тимур Бекмамбетов</td>\n",
       "      <td>джим лемли, джейсон нетер, марк е.платт, яйн смит</td>\n",
       "      <td>«18+» - запрещено для детей</td>\n",
       "      <td>NaN</td>\n",
       "      <td>NaN</td>\n",
       "      <td>NaN</td>\n",
       "      <td>не определён</td>\n",
       "      <td>6.8</td>\n",
       "      <td>фантастика,боевик,триллер</td>\n",
       "      <td>NaN</td>\n",
       "    </tr>\n",
       "    <tr>\n",
       "      <th>3</th>\n",
       "      <td>особо опасен</td>\n",
       "      <td>221026916</td>\n",
       "      <td>2016-06-10 12:00:00</td>\n",
       "      <td>художественный</td>\n",
       "      <td>юниверсал пикчерз, кикстарт продакшнз, марк пл...</td>\n",
       "      <td>США</td>\n",
       "      <td>Тимур Бекмамбетов</td>\n",
       "      <td>джим лемли, джейсон нетер, марк е.платт, яйн смит</td>\n",
       "      <td>«18+» - запрещено для детей</td>\n",
       "      <td>NaN</td>\n",
       "      <td>NaN</td>\n",
       "      <td>NaN</td>\n",
       "      <td>не определён</td>\n",
       "      <td>6.8</td>\n",
       "      <td>фантастика,боевик,триллер</td>\n",
       "      <td>NaN</td>\n",
       "    </tr>\n",
       "    <tr>\n",
       "      <th>4</th>\n",
       "      <td>особо опасен</td>\n",
       "      <td>221030815</td>\n",
       "      <td>2015-07-29 12:00:00</td>\n",
       "      <td>художественный</td>\n",
       "      <td>юниверсал пикчерз, кикстарт продакшнз, марк пл...</td>\n",
       "      <td>США</td>\n",
       "      <td>Тимур Бекмамбетов</td>\n",
       "      <td>джим лемли, джейсон нетер, марк е.платт, яйн смит</td>\n",
       "      <td>«18+» - запрещено для детей</td>\n",
       "      <td>NaN</td>\n",
       "      <td>NaN</td>\n",
       "      <td>NaN</td>\n",
       "      <td>не определён</td>\n",
       "      <td>6.8</td>\n",
       "      <td>фантастика,боевик,триллер</td>\n",
       "      <td>NaN</td>\n",
       "    </tr>\n",
       "    <tr>\n",
       "      <th>...</th>\n",
       "      <td>...</td>\n",
       "      <td>...</td>\n",
       "      <td>...</td>\n",
       "      <td>...</td>\n",
       "      <td>...</td>\n",
       "      <td>...</td>\n",
       "      <td>...</td>\n",
       "      <td>...</td>\n",
       "      <td>...</td>\n",
       "      <td>...</td>\n",
       "      <td>...</td>\n",
       "      <td>...</td>\n",
       "      <td>...</td>\n",
       "      <td>...</td>\n",
       "      <td>...</td>\n",
       "      <td>...</td>\n",
       "    </tr>\n",
       "    <tr>\n",
       "      <th>7477</th>\n",
       "      <td>сад художника: американский импрессионизм</td>\n",
       "      <td>126008019</td>\n",
       "      <td>2019-12-23 12:00:00</td>\n",
       "      <td>прочие</td>\n",
       "      <td>севен артс продакшнз</td>\n",
       "      <td>Великобритания</td>\n",
       "      <td>Фил Грабски</td>\n",
       "      <td>фил грабски</td>\n",
       "      <td>«12+» - для детей старше 12 лет</td>\n",
       "      <td>NaN</td>\n",
       "      <td>NaN</td>\n",
       "      <td>NaN</td>\n",
       "      <td>не определён</td>\n",
       "      <td>NaN</td>\n",
       "      <td>не определён</td>\n",
       "      <td>NaN</td>\n",
       "    </tr>\n",
       "    <tr>\n",
       "      <th>7478</th>\n",
       "      <td>звериная ярость</td>\n",
       "      <td>121037819</td>\n",
       "      <td>2019-12-24 12:00:00</td>\n",
       "      <td>художественный</td>\n",
       "      <td>дэниел гродник продакшнз, вандерфилм медиа кор...</td>\n",
       "      <td>США</td>\n",
       "      <td>Ник Пауэлл</td>\n",
       "      <td>джефф боулер, дэниэл гродник, луильо руис, брэ...</td>\n",
       "      <td>«16+» - для детей старше 16 лет</td>\n",
       "      <td>NaN</td>\n",
       "      <td>NaN</td>\n",
       "      <td>NaN</td>\n",
       "      <td>не определён</td>\n",
       "      <td>5.4</td>\n",
       "      <td>боевик,триллер</td>\n",
       "      <td>NaN</td>\n",
       "    </tr>\n",
       "    <tr>\n",
       "      <th>7479</th>\n",
       "      <td>щенячий патруль: скорей спешим на помощь!</td>\n",
       "      <td>124010819</td>\n",
       "      <td>2019-12-28 12:00:00</td>\n",
       "      <td>художественный</td>\n",
       "      <td>никелодеон анимейшн студиос, спин мастер</td>\n",
       "      <td>США - Канада</td>\n",
       "      <td>Чарльз Е.Бастьен</td>\n",
       "      <td>дженнифер додж</td>\n",
       "      <td>«0+» - для любой зрительской аудитории</td>\n",
       "      <td>NaN</td>\n",
       "      <td>NaN</td>\n",
       "      <td>NaN</td>\n",
       "      <td>не определён</td>\n",
       "      <td>NaN</td>\n",
       "      <td>не определён</td>\n",
       "      <td>NaN</td>\n",
       "    </tr>\n",
       "    <tr>\n",
       "      <th>7480</th>\n",
       "      <td>машины песенки. серия \"испанские мотивы\"</td>\n",
       "      <td>124010619</td>\n",
       "      <td>2019-12-30 12:00:00</td>\n",
       "      <td>анимационный</td>\n",
       "      <td>анимаккорд лтд., ооо студия \"анимаккорд\"</td>\n",
       "      <td>Республика Кипр, Россия</td>\n",
       "      <td>А.Беляев</td>\n",
       "      <td>д.ловейко</td>\n",
       "      <td>«0+» - для любой зрительской аудитории</td>\n",
       "      <td>NaN</td>\n",
       "      <td>NaN</td>\n",
       "      <td>NaN</td>\n",
       "      <td>не определён</td>\n",
       "      <td>NaN</td>\n",
       "      <td>не определён</td>\n",
       "      <td>NaN</td>\n",
       "    </tr>\n",
       "    <tr>\n",
       "      <th>7481</th>\n",
       "      <td>машины песенки. серия \"когда цветут кактусы\"</td>\n",
       "      <td>124010719</td>\n",
       "      <td>2019-12-30 12:00:00</td>\n",
       "      <td>анимационный</td>\n",
       "      <td>анимаккорд лтд., ооо студия \"анимаккорд\"</td>\n",
       "      <td>Республика Кипр, Россия</td>\n",
       "      <td>И.Трусов</td>\n",
       "      <td>д.ловейко</td>\n",
       "      <td>«0+» - для любой зрительской аудитории</td>\n",
       "      <td>NaN</td>\n",
       "      <td>NaN</td>\n",
       "      <td>NaN</td>\n",
       "      <td>не определён</td>\n",
       "      <td>6.3</td>\n",
       "      <td>комедия,вестерн</td>\n",
       "      <td>NaN</td>\n",
       "    </tr>\n",
       "  </tbody>\n",
       "</table>\n",
       "<p>7150 rows × 16 columns</p>\n",
       "</div>"
      ],
      "text/plain": [
       "                                             title  pu_number  \\\n",
       "0                                 открытый простор  221048915   \n",
       "1                             особо важное задание  111013716   \n",
       "2                                     особо опасен  221038416   \n",
       "3                                     особо опасен  221026916   \n",
       "4                                     особо опасен  221030815   \n",
       "...                                            ...        ...   \n",
       "7477     сад художника: американский импрессионизм  126008019   \n",
       "7478                               звериная ярость  121037819   \n",
       "7479     щенячий патруль: скорей спешим на помощь!  124010819   \n",
       "7480      машины песенки. серия \"испанские мотивы\"  124010619   \n",
       "7481  машины песенки. серия \"когда цветут кактусы\"  124010719   \n",
       "\n",
       "         show_start_date            type  \\\n",
       "0    2015-11-27 12:00:00  художественный   \n",
       "1    2016-09-13 12:00:00  художественный   \n",
       "2    2016-10-10 12:00:00  художественный   \n",
       "3    2016-06-10 12:00:00  художественный   \n",
       "4    2015-07-29 12:00:00  художественный   \n",
       "...                  ...             ...   \n",
       "7477 2019-12-23 12:00:00          прочие   \n",
       "7478 2019-12-24 12:00:00  художественный   \n",
       "7479 2019-12-28 12:00:00  художественный   \n",
       "7480 2019-12-30 12:00:00    анимационный   \n",
       "7481 2019-12-30 12:00:00    анимационный   \n",
       "\n",
       "                                            film_studio  \\\n",
       "0     тачстоун пикчерз, кобальт пикчерз, бикон пикче...   \n",
       "1                                 киностудия \"мосфильм\"   \n",
       "2     юниверсал пикчерз, кикстарт продакшнз, марк пл...   \n",
       "3     юниверсал пикчерз, кикстарт продакшнз, марк пл...   \n",
       "4     юниверсал пикчерз, кикстарт продакшнз, марк пл...   \n",
       "...                                                 ...   \n",
       "7477                               севен артс продакшнз   \n",
       "7478  дэниел гродник продакшнз, вандерфилм медиа кор...   \n",
       "7479           никелодеон анимейшн студиос, спин мастер   \n",
       "7480           анимаккорд лтд., ооо студия \"анимаккорд\"   \n",
       "7481           анимаккорд лтд., ооо студия \"анимаккорд\"   \n",
       "\n",
       "           production_country           director  \\\n",
       "0                         США      Кевин Костнер   \n",
       "1                        СССР          Е.Матвеев   \n",
       "2                         США  Тимур Бекмамбетов   \n",
       "3                         США  Тимур Бекмамбетов   \n",
       "4                         США  Тимур Бекмамбетов   \n",
       "...                       ...                ...   \n",
       "7477           Великобритания        Фил Грабски   \n",
       "7478                      США         Ник Пауэлл   \n",
       "7479             США - Канада   Чарльз Е.Бастьен   \n",
       "7480  Республика Кипр, Россия           А.Беляев   \n",
       "7481  Республика Кипр, Россия           И.Трусов   \n",
       "\n",
       "                                               producer  \\\n",
       "0             дэвид валдес, кевин костнер, джейк эбертс   \n",
       "1                                          не определён   \n",
       "2     джим лемли, джейсон нетер, марк е.платт, яйн смит   \n",
       "3     джим лемли, джейсон нетер, марк е.платт, яйн смит   \n",
       "4     джим лемли, джейсон нетер, марк е.платт, яйн смит   \n",
       "...                                                 ...   \n",
       "7477                                        фил грабски   \n",
       "7478  джефф боулер, дэниэл гродник, луильо руис, брэ...   \n",
       "7479                                     дженнифер додж   \n",
       "7480                                          д.ловейко   \n",
       "7481                                          д.ловейко   \n",
       "\n",
       "                             age_restriction  refundable_support  \\\n",
       "0                «18+» - запрещено для детей                 NaN   \n",
       "1              «6+» - для детей старше 6 лет                 NaN   \n",
       "2                «18+» - запрещено для детей                 NaN   \n",
       "3                «18+» - запрещено для детей                 NaN   \n",
       "4                «18+» - запрещено для детей                 NaN   \n",
       "...                                      ...                 ...   \n",
       "7477         «12+» - для детей старше 12 лет                 NaN   \n",
       "7478         «16+» - для детей старше 16 лет                 NaN   \n",
       "7479  «0+» - для любой зрительской аудитории                 NaN   \n",
       "7480  «0+» - для любой зрительской аудитории                 NaN   \n",
       "7481  «0+» - для любой зрительской аудитории                 NaN   \n",
       "\n",
       "      nonrefundable_support  budget financing_source ratings  \\\n",
       "0                       NaN     NaN     не определён     7.2   \n",
       "1                       NaN     NaN     не определён     6.6   \n",
       "2                       NaN     NaN     не определён     6.8   \n",
       "3                       NaN     NaN     не определён     6.8   \n",
       "4                       NaN     NaN     не определён     6.8   \n",
       "...                     ...     ...              ...     ...   \n",
       "7477                    NaN     NaN     не определён     NaN   \n",
       "7478                    NaN     NaN     не определён     5.4   \n",
       "7479                    NaN     NaN     не определён     NaN   \n",
       "7480                    NaN     NaN     не определён     NaN   \n",
       "7481                    NaN     NaN     не определён     6.3   \n",
       "\n",
       "                         genres  box_office  \n",
       "0        боевик,драма,мелодрама         NaN  \n",
       "1                 драма,военный         NaN  \n",
       "2     фантастика,боевик,триллер         NaN  \n",
       "3     фантастика,боевик,триллер         NaN  \n",
       "4     фантастика,боевик,триллер         NaN  \n",
       "...                         ...         ...  \n",
       "7477               не определён         NaN  \n",
       "7478             боевик,триллер         NaN  \n",
       "7479               не определён         NaN  \n",
       "7480               не определён         NaN  \n",
       "7481            комедия,вестерн         NaN  \n",
       "\n",
       "[7150 rows x 16 columns]"
      ]
     },
     "execution_count": 61,
     "metadata": {},
     "output_type": "execute_result"
    }
   ],
   "source": [
    "# получение среза по пропущенным значениям\n",
    "# в столбцах 'budget', 'refundable_support' и 'nonrefundable_support'\n",
    "\n",
    "df.query('budget.isna() == refundable_support.isna() and nonrefundable_support.isna()') "
   ]
  },
  {
   "cell_type": "markdown",
   "metadata": {},
   "source": [
    "Согласно срезу данных, где мы указали пропущенные значения в столбцах `budget`, `refundable_support` и `nonrefundable_support`, пропуски в этих столбцах, скорее всего, возникли по причине отсутствия информации по изначальному бюджету и государственной поддержке и не были включены в таблицу первоначально. \n",
    "\n",
    "Оставим пропущенные значения в данных столбцах, так как заменять на `0` или на медианное значение не совсем корректно и может привести к искажению в данных."
   ]
  },
  {
   "cell_type": "code",
   "execution_count": 62,
   "metadata": {},
   "outputs": [
    {
     "data": {
      "text/html": [
       "<div>\n",
       "<style scoped>\n",
       "    .dataframe tbody tr th:only-of-type {\n",
       "        vertical-align: middle;\n",
       "    }\n",
       "\n",
       "    .dataframe tbody tr th {\n",
       "        vertical-align: top;\n",
       "    }\n",
       "\n",
       "    .dataframe thead th {\n",
       "        text-align: right;\n",
       "    }\n",
       "</style>\n",
       "<table border=\"1\" class=\"dataframe\">\n",
       "  <thead>\n",
       "    <tr style=\"text-align: right;\">\n",
       "      <th></th>\n",
       "      <th>title</th>\n",
       "      <th>pu_number</th>\n",
       "      <th>show_start_date</th>\n",
       "      <th>type</th>\n",
       "      <th>film_studio</th>\n",
       "      <th>production_country</th>\n",
       "      <th>director</th>\n",
       "      <th>producer</th>\n",
       "      <th>age_restriction</th>\n",
       "      <th>refundable_support</th>\n",
       "      <th>nonrefundable_support</th>\n",
       "      <th>budget</th>\n",
       "      <th>financing_source</th>\n",
       "      <th>ratings</th>\n",
       "      <th>genres</th>\n",
       "      <th>box_office</th>\n",
       "    </tr>\n",
       "  </thead>\n",
       "  <tbody>\n",
       "    <tr>\n",
       "      <th>2472</th>\n",
       "      <td>воин (2015)</td>\n",
       "      <td>111017315</td>\n",
       "      <td>2015-09-28 12:00:00</td>\n",
       "      <td>художественный</td>\n",
       "      <td>ооо \"форпост продакшн\", ооо \"арт пикчерс студия\"</td>\n",
       "      <td>Россия</td>\n",
       "      <td>А.Андрианов</td>\n",
       "      <td>ооо \"арт пикчерс студия\"</td>\n",
       "      <td>«12+» - для детей старше 12 лет</td>\n",
       "      <td>10000000.00</td>\n",
       "      <td>70000000.00</td>\n",
       "      <td>0.00</td>\n",
       "      <td>Фонд кино</td>\n",
       "      <td>7.8</td>\n",
       "      <td>боевик,драма,криминал</td>\n",
       "      <td>196572438.40</td>\n",
       "    </tr>\n",
       "    <tr>\n",
       "      <th>2615</th>\n",
       "      <td>савва. сердце воина</td>\n",
       "      <td>114001715</td>\n",
       "      <td>2015-07-21 12:00:00</td>\n",
       "      <td>анимационный</td>\n",
       "      <td>ооо \"глюкоза продакшн\", ооо \"арт пикчерс студия\"</td>\n",
       "      <td>Россия</td>\n",
       "      <td>М.Фадеев</td>\n",
       "      <td>а.чистяков</td>\n",
       "      <td>«6+» - для детей старше 6 лет</td>\n",
       "      <td>60000000.00</td>\n",
       "      <td>100000000.00</td>\n",
       "      <td>0.00</td>\n",
       "      <td>Фонд кино</td>\n",
       "      <td>4.6</td>\n",
       "      <td>мультфильм,приключения,фэнтези</td>\n",
       "      <td>184487551.40</td>\n",
       "    </tr>\n",
       "    <tr>\n",
       "      <th>3047</th>\n",
       "      <td>любовь с ограничениями</td>\n",
       "      <td>111008216</td>\n",
       "      <td>2016-04-29 12:00:00</td>\n",
       "      <td>художественный</td>\n",
       "      <td>ао \"вайт медиа\", ооо \"арт пикчерс студия\"</td>\n",
       "      <td>Россия</td>\n",
       "      <td>Д.Тюрин</td>\n",
       "      <td>ф.бондарчук, т.вайнштейн, д.рудовский</td>\n",
       "      <td>«16+» - для детей старше 16 лет</td>\n",
       "      <td>19000000.00</td>\n",
       "      <td>51000000.00</td>\n",
       "      <td>0.00</td>\n",
       "      <td>Фонд кино</td>\n",
       "      <td>6.3</td>\n",
       "      <td>комедия,мелодрама</td>\n",
       "      <td>70299052.00</td>\n",
       "    </tr>\n",
       "    <tr>\n",
       "      <th>3675</th>\n",
       "      <td>чудо-юдо</td>\n",
       "      <td>114001817</td>\n",
       "      <td>2017-06-27 12:00:00</td>\n",
       "      <td>анимационный</td>\n",
       "      <td>ооо \"кинофирма\"</td>\n",
       "      <td>Россия</td>\n",
       "      <td>А.Лукичев</td>\n",
       "      <td>ооо \"кинофирма\"</td>\n",
       "      <td>«6+» - для детей старше 6 лет</td>\n",
       "      <td>20000000.00</td>\n",
       "      <td>20000000.00</td>\n",
       "      <td>0.00</td>\n",
       "      <td>Фонд кино</td>\n",
       "      <td>5.2</td>\n",
       "      <td>мультфильм,фэнтези,семейный</td>\n",
       "      <td>55108014.76</td>\n",
       "    </tr>\n",
       "    <tr>\n",
       "      <th>3739</th>\n",
       "      <td>мифы</td>\n",
       "      <td>111004317</td>\n",
       "      <td>2017-06-07 12:00:00</td>\n",
       "      <td>художественный</td>\n",
       "      <td>ооо \"хайпфилм\", ооо \"арт пикчерс студия\"</td>\n",
       "      <td>Россия</td>\n",
       "      <td>А.Молочников</td>\n",
       "      <td>ф.бондарчук, д.рудовский, и.стюарт, м.османн, ...</td>\n",
       "      <td>«16+» - для детей старше 16 лет</td>\n",
       "      <td>25000000.00</td>\n",
       "      <td>20000000.00</td>\n",
       "      <td>0.00</td>\n",
       "      <td>Фонд кино</td>\n",
       "      <td>4.8</td>\n",
       "      <td>комедия</td>\n",
       "      <td>50451949.00</td>\n",
       "    </tr>\n",
       "    <tr>\n",
       "      <th>5669</th>\n",
       "      <td>селфи</td>\n",
       "      <td>111012117</td>\n",
       "      <td>2018-02-01 12:00:00</td>\n",
       "      <td>художественный</td>\n",
       "      <td>ооо \"киностудия \"слово\", ооо \"арт пикчерс студия\"</td>\n",
       "      <td>Россия</td>\n",
       "      <td>Н.Хомерики</td>\n",
       "      <td>п.ануров, ф.бондарчук, д.рудовский</td>\n",
       "      <td>«16+» - для детей старше 16 лет</td>\n",
       "      <td>20000000.00</td>\n",
       "      <td>40000000.00</td>\n",
       "      <td>0.00</td>\n",
       "      <td>Фонд кино</td>\n",
       "      <td>5.8</td>\n",
       "      <td>триллер,драма</td>\n",
       "      <td>225196400.03</td>\n",
       "    </tr>\n",
       "    <tr>\n",
       "      <th>5802</th>\n",
       "      <td>два хвоста</td>\n",
       "      <td>114001018</td>\n",
       "      <td>2018-05-31 12:00:00</td>\n",
       "      <td>анимационный</td>\n",
       "      <td>ооо \"лицензионные бренды\"</td>\n",
       "      <td>Россия</td>\n",
       "      <td>В.Ровенский, Н.Лопато, В.Азеев</td>\n",
       "      <td>ооо \"лицензионные бренды\"</td>\n",
       "      <td>«6+» - для детей старше 6 лет</td>\n",
       "      <td>10000000.00</td>\n",
       "      <td>60000000.00</td>\n",
       "      <td>0.00</td>\n",
       "      <td>Фонд кино</td>\n",
       "      <td>5.0</td>\n",
       "      <td>мультфильм,детский</td>\n",
       "      <td>106514301.03</td>\n",
       "    </tr>\n",
       "    <tr>\n",
       "      <th>6004</th>\n",
       "      <td>принцесса и дракон</td>\n",
       "      <td>114003018</td>\n",
       "      <td>2018-08-23 12:00:00</td>\n",
       "      <td>анимационный</td>\n",
       "      <td>ооо \"лицензионные бренды\"</td>\n",
       "      <td>Россия</td>\n",
       "      <td>М.Нефедова</td>\n",
       "      <td>ооо \"лицензионные бренды\"</td>\n",
       "      <td>«6+» - для детей старше 6 лет</td>\n",
       "      <td>40000000.00</td>\n",
       "      <td>40000000.00</td>\n",
       "      <td>0.00</td>\n",
       "      <td>Фонд кино</td>\n",
       "      <td>5.2</td>\n",
       "      <td>мультфильм,фэнтези,детский</td>\n",
       "      <td>83366328.66</td>\n",
       "    </tr>\n",
       "    <tr>\n",
       "      <th>6819</th>\n",
       "      <td>большое путешествие</td>\n",
       "      <td>114002419</td>\n",
       "      <td>2019-04-20 12:00:00</td>\n",
       "      <td>анимационный</td>\n",
       "      <td>ооо \"лицензионные бренды\"</td>\n",
       "      <td>Россия</td>\n",
       "      <td>Н.Лопато, В.Ровенский</td>\n",
       "      <td>ооо \"лицензионные бренды\"</td>\n",
       "      <td>«6+» - для детей старше 6 лет</td>\n",
       "      <td>60000000.00</td>\n",
       "      <td>120000000.00</td>\n",
       "      <td>0.00</td>\n",
       "      <td>Фонд кино</td>\n",
       "      <td>6.2</td>\n",
       "      <td>мультфильм,комедия,приключения</td>\n",
       "      <td>147606826.51</td>\n",
       "    </tr>\n",
       "  </tbody>\n",
       "</table>\n",
       "</div>"
      ],
      "text/plain": [
       "                       title  pu_number     show_start_date            type  \\\n",
       "2472             воин (2015)  111017315 2015-09-28 12:00:00  художественный   \n",
       "2615     савва. сердце воина  114001715 2015-07-21 12:00:00    анимационный   \n",
       "3047  любовь с ограничениями  111008216 2016-04-29 12:00:00  художественный   \n",
       "3675                чудо-юдо  114001817 2017-06-27 12:00:00    анимационный   \n",
       "3739                    мифы  111004317 2017-06-07 12:00:00  художественный   \n",
       "5669                   селфи  111012117 2018-02-01 12:00:00  художественный   \n",
       "5802              два хвоста  114001018 2018-05-31 12:00:00    анимационный   \n",
       "6004      принцесса и дракон  114003018 2018-08-23 12:00:00    анимационный   \n",
       "6819     большое путешествие  114002419 2019-04-20 12:00:00    анимационный   \n",
       "\n",
       "                                            film_studio production_country  \\\n",
       "2472   ооо \"форпост продакшн\", ооо \"арт пикчерс студия\"             Россия   \n",
       "2615   ооо \"глюкоза продакшн\", ооо \"арт пикчерс студия\"             Россия   \n",
       "3047          ао \"вайт медиа\", ооо \"арт пикчерс студия\"             Россия   \n",
       "3675                                    ооо \"кинофирма\"             Россия   \n",
       "3739           ооо \"хайпфилм\", ооо \"арт пикчерс студия\"             Россия   \n",
       "5669  ооо \"киностудия \"слово\", ооо \"арт пикчерс студия\"             Россия   \n",
       "5802                          ооо \"лицензионные бренды\"             Россия   \n",
       "6004                          ооо \"лицензионные бренды\"             Россия   \n",
       "6819                          ооо \"лицензионные бренды\"             Россия   \n",
       "\n",
       "                            director  \\\n",
       "2472                     А.Андрианов   \n",
       "2615                        М.Фадеев   \n",
       "3047                         Д.Тюрин   \n",
       "3675                       А.Лукичев   \n",
       "3739                    А.Молочников   \n",
       "5669                      Н.Хомерики   \n",
       "5802  В.Ровенский, Н.Лопато, В.Азеев   \n",
       "6004                      М.Нефедова   \n",
       "6819           Н.Лопато, В.Ровенский   \n",
       "\n",
       "                                               producer  \\\n",
       "2472                           ооо \"арт пикчерс студия\"   \n",
       "2615                                         а.чистяков   \n",
       "3047              ф.бондарчук, т.вайнштейн, д.рудовский   \n",
       "3675                                    ооо \"кинофирма\"   \n",
       "3739  ф.бондарчук, д.рудовский, и.стюарт, м.османн, ...   \n",
       "5669                 п.ануров, ф.бондарчук, д.рудовский   \n",
       "5802                          ооо \"лицензионные бренды\"   \n",
       "6004                          ооо \"лицензионные бренды\"   \n",
       "6819                          ооо \"лицензионные бренды\"   \n",
       "\n",
       "                      age_restriction  refundable_support  \\\n",
       "2472  «12+» - для детей старше 12 лет         10000000.00   \n",
       "2615    «6+» - для детей старше 6 лет         60000000.00   \n",
       "3047  «16+» - для детей старше 16 лет         19000000.00   \n",
       "3675    «6+» - для детей старше 6 лет         20000000.00   \n",
       "3739  «16+» - для детей старше 16 лет         25000000.00   \n",
       "5669  «16+» - для детей старше 16 лет         20000000.00   \n",
       "5802    «6+» - для детей старше 6 лет         10000000.00   \n",
       "6004    «6+» - для детей старше 6 лет         40000000.00   \n",
       "6819    «6+» - для детей старше 6 лет         60000000.00   \n",
       "\n",
       "      nonrefundable_support  budget financing_source ratings  \\\n",
       "2472            70000000.00    0.00        Фонд кино     7.8   \n",
       "2615           100000000.00    0.00        Фонд кино     4.6   \n",
       "3047            51000000.00    0.00        Фонд кино     6.3   \n",
       "3675            20000000.00    0.00        Фонд кино     5.2   \n",
       "3739            20000000.00    0.00        Фонд кино     4.8   \n",
       "5669            40000000.00    0.00        Фонд кино     5.8   \n",
       "5802            60000000.00    0.00        Фонд кино     5.0   \n",
       "6004            40000000.00    0.00        Фонд кино     5.2   \n",
       "6819           120000000.00    0.00        Фонд кино     6.2   \n",
       "\n",
       "                              genres   box_office  \n",
       "2472           боевик,драма,криминал 196572438.40  \n",
       "2615  мультфильм,приключения,фэнтези 184487551.40  \n",
       "3047               комедия,мелодрама  70299052.00  \n",
       "3675     мультфильм,фэнтези,семейный  55108014.76  \n",
       "3739                         комедия  50451949.00  \n",
       "5669                   триллер,драма 225196400.03  \n",
       "5802              мультфильм,детский 106514301.03  \n",
       "6004      мультфильм,фэнтези,детский  83366328.66  \n",
       "6819  мультфильм,комедия,приключения 147606826.51  "
      ]
     },
     "execution_count": 62,
     "metadata": {},
     "output_type": "execute_result"
    }
   ],
   "source": [
    "# получение среза данных в котором\n",
    "# значения столбца 'budget' меньше\n",
    "# значений столбца 'refundable_support' и\n",
    "# 'nonrefundable_support'\n",
    "\n",
    "df.query('budget < refundable_support and nonrefundable_support')"
   ]
  },
  {
   "cell_type": "markdown",
   "metadata": {},
   "source": [
    "После просмотра среза данных, можно утверждать, что подобные значения считаются подозрительными, так как суммы по объемам возвратных и невозвратных средств не могут существовать при нулевом общем бюджете. Поэтому необходимо заменить значения в столбцах `refundable_support` и `nonrefundable_support` на `0`."
   ]
  },
  {
   "cell_type": "code",
   "execution_count": 63,
   "metadata": {},
   "outputs": [],
   "source": [
    "# замена определённых значений в столбце\n",
    "# 'refundable_support' и \n",
    "# 'nonrefundable_support' на 0\n",
    "\n",
    "df.loc[(df['budget'] == 0) & (df['refundable_support'] != 0), 'refundable_support'] = 0\n",
    "df.loc[(df['budget'] == 0) & (df['nonrefundable_support'] != 0), 'nonrefundable_support'] = 0"
   ]
  },
  {
   "cell_type": "code",
   "execution_count": 64,
   "metadata": {},
   "outputs": [
    {
     "data": {
      "text/plain": [
       "array(['7.2', '6.6', '6.8', '7.7', '8.3', '8.0', '7.8', '8.1', '7.1',\n",
       "       '6.0', '7.4', '5.8', '8.7', '6.3', '6.9', '5.0', '4.3', '7.3',\n",
       "       '7.0', '6.4', nan, '8.2', '7.5', '6.7', '7.9', '5.9', '6.2', '5.6',\n",
       "       '6.5', '2.4', '7.6', '6.1', '8.6', '8.5', '8.8', '5.5', '5.1',\n",
       "       '5.7', '5.4', '99%', '4.4', '4.5', '5.3', '4.1', '8.4', '2.6',\n",
       "       '3.8', '4.6', '4.8', '4.0', '3.0', '1.6', '4.2', '5.2', '4.7',\n",
       "       '4.9', '3.9', '2.7', '3.3', '2.9', '28%', '3.7', '1.4', '3.1',\n",
       "       '97%', '3.5', '3.2', '2.8', '1.5', '2.1', '2.5', '9.2', '3.4',\n",
       "       '1.1', '3.6', '83%', '64%', '91%', '94%', '62%', '79%', '90%',\n",
       "       '19%', '88%', '1.0', '89%', '1.3', '1.9', '1.8', '1.2', '1.7',\n",
       "       '9.0', '98%', '8.9', '9.1'], dtype=object)"
      ]
     },
     "execution_count": 64,
     "metadata": {},
     "output_type": "execute_result"
    }
   ],
   "source": [
    "# получение уникальных значений \n",
    "# столбца 'ratings'\n",
    "\n",
    "df['ratings'].unique()"
   ]
  },
  {
   "cell_type": "markdown",
   "metadata": {},
   "source": [
    "В столбце `ratings` мы видим значения, представленные в процентах. Необходимо перевести данные значения в процентах к дробным числам и изменить тип данных всех значений в столбце на числовой (вещественный).\n",
    "\n",
    "Также, в данном столбце встречаются пропуски, оставим их, как есть, потому что нет подходящего значения на замену, а заменять пропущенные значения на медианные не совсем корректно в подобном случае."
   ]
  },
  {
   "cell_type": "code",
   "execution_count": 65,
   "metadata": {},
   "outputs": [],
   "source": [
    "# удаление лишнего знака\n",
    "# в столбце 'ratings',\n",
    "# перевод значений данного столбца\n",
    "# к числовому типу данных и \n",
    "# перевод процентов\n",
    "\n",
    "df['ratings'] = df['ratings'].str.strip('%')  \n",
    "df['ratings'] = pd.to_numeric(df['ratings']) \n",
    "df.loc[df['ratings'] > 18, 'ratings'] = df.loc[df['ratings'] > 18, 'ratings'] / 10"
   ]
  },
  {
   "cell_type": "code",
   "execution_count": 66,
   "metadata": {},
   "outputs": [
    {
     "data": {
      "text/plain": [
       "array([7.2, 6.6, 6.8, 7.7, 8.3, 8. , 7.8, 8.1, 7.1, 6. , 7.4, 5.8, 8.7,\n",
       "       6.3, 6.9, 5. , 4.3, 7.3, 7. , 6.4, nan, 8.2, 7.5, 6.7, 7.9, 5.9,\n",
       "       6.2, 5.6, 6.5, 2.4, 7.6, 6.1, 8.6, 8.5, 8.8, 5.5, 5.1, 5.7, 5.4,\n",
       "       9.9, 4.4, 4.5, 5.3, 4.1, 8.4, 2.6, 3.8, 4.6, 4.8, 4. , 3. , 1.6,\n",
       "       4.2, 5.2, 4.7, 4.9, 3.9, 2.7, 3.3, 2.9, 2.8, 3.7, 1.4, 3.1, 9.7,\n",
       "       3.5, 3.2, 1.5, 2.1, 2.5, 9.2, 3.4, 1.1, 3.6, 9.1, 9.4, 9. , 1.9,\n",
       "       1. , 8.9, 1.3, 1.8, 1.2, 1.7, 9.8])"
      ]
     },
     "execution_count": 66,
     "metadata": {},
     "output_type": "execute_result"
    }
   ],
   "source": [
    "df['ratings'].unique()"
   ]
  },
  {
   "cell_type": "code",
   "execution_count": 67,
   "metadata": {},
   "outputs": [
    {
     "data": {
      "text/plain": [
       "0.00            24\n",
       "200.00          13\n",
       "300.00          12\n",
       "360.00           9\n",
       "400.00           8\n",
       "                ..\n",
       "9585014.00       1\n",
       "809638458.60     1\n",
       "220728.00        1\n",
       "11332412.00      1\n",
       "52984377.00      1\n",
       "Name: box_office, Length: 2938, dtype: int64"
      ]
     },
     "execution_count": 67,
     "metadata": {},
     "output_type": "execute_result"
    }
   ],
   "source": [
    "# получение уникальных значений в \n",
    "# столбце 'box_office'\n",
    "\n",
    "df['box_office'].value_counts()"
   ]
  },
  {
   "cell_type": "code",
   "execution_count": 68,
   "metadata": {},
   "outputs": [],
   "source": [
    "# получение уникальных значений\n",
    "# столбца 'box_office'\n",
    "\n",
    "#sorted(df['box_office'].unique())"
   ]
  },
  {
   "cell_type": "markdown",
   "metadata": {},
   "source": [
    "В столбце `box_office` мы видим, что встречаются значения в большинстве случаев с одной цифрой после запятой, однако, есть малое количество значений, где присутствуют две цифры после запятой. Приведём все значения к единому формату, к одной цифре после запятой.\n",
    "\n",
    "Также, в данном столбце присутствуют пропущенные значения. Как и со столбцом `ratings`, оставим пропуски, как есть."
   ]
  },
  {
   "cell_type": "code",
   "execution_count": 69,
   "metadata": {},
   "outputs": [],
   "source": [
    "# создание функции для \n",
    "# перевода значений к одной цифре\n",
    "# после запятой\n",
    "\n",
    "def values_round(values):\n",
    "    '''\n",
    "    Переводит значения к одной цифре\n",
    "    после запятой.\n",
    "    '''\n",
    "    return round(values, 1)\n",
    "   \n",
    "\n",
    "df['box_office'] = df['box_office'].apply(values_round) "
   ]
  },
  {
   "cell_type": "code",
   "execution_count": 70,
   "metadata": {},
   "outputs": [],
   "source": [
    "# получение уникальных значений \n",
    "# столбца 'box_office'\n",
    "\n",
    "#sorted(df['box_office'].unique())"
   ]
  },
  {
   "cell_type": "code",
   "execution_count": 71,
   "metadata": {},
   "outputs": [
    {
     "data": {
      "text/plain": [
       "count         3158.00\n",
       "mean      76478696.16\n",
       "std      240353122.82\n",
       "min              0.00\n",
       "25%          86239.00\n",
       "50%        2327987.55\n",
       "75%       23979671.02\n",
       "max     3073568690.80\n",
       "Name: box_office, dtype: float64"
      ]
     },
     "execution_count": 71,
     "metadata": {},
     "output_type": "execute_result"
    }
   ],
   "source": [
    "# получение информациии об описательных статистических данных\n",
    "# в столбце 'box_office'\n",
    "\n",
    "df['box_office'].describe()"
   ]
  },
  {
   "cell_type": "code",
   "execution_count": 72,
   "metadata": {},
   "outputs": [
    {
     "name": "stdout",
     "output_type": "stream",
     "text": [
      "<class 'pandas.core.frame.DataFrame'>\n",
      "RangeIndex: 7482 entries, 0 to 7481\n",
      "Data columns (total 16 columns):\n",
      " #   Column                 Non-Null Count  Dtype         \n",
      "---  ------                 --------------  -----         \n",
      " 0   title                  7482 non-null   object        \n",
      " 1   pu_number              7482 non-null   int32         \n",
      " 2   show_start_date        7482 non-null   datetime64[ns]\n",
      " 3   type                   7482 non-null   object        \n",
      " 4   film_studio            7482 non-null   object        \n",
      " 5   production_country     7482 non-null   object        \n",
      " 6   director               7482 non-null   object        \n",
      " 7   producer               7482 non-null   object        \n",
      " 8   age_restriction        7482 non-null   object        \n",
      " 9   refundable_support     332 non-null    float64       \n",
      " 10  nonrefundable_support  332 non-null    float64       \n",
      " 11  budget                 332 non-null    float64       \n",
      " 12  financing_source       7482 non-null   object        \n",
      " 13  ratings                6515 non-null   float64       \n",
      " 14  genres                 7482 non-null   object        \n",
      " 15  box_office             3158 non-null   float64       \n",
      "dtypes: datetime64[ns](1), float64(5), int32(1), object(9)\n",
      "memory usage: 906.1+ KB\n"
     ]
    }
   ],
   "source": [
    "# итоговый подчсёт пропущенных значений\n",
    "\n",
    "df.info()"
   ]
  },
  {
   "cell_type": "markdown",
   "metadata": {},
   "source": [
    "**Вывод**\n",
    "\n",
    "В процессе предобработки данных мы устранили следующие проблемы:\n",
    "\n",
    "1) заменили пропущенные значения в столбцах `film_studio`, `production_country`, `director`, `producer`, ` financing_source` и  `genres`;\n",
    "\n",
    "2) перевели значения к типу `float` в столбце `ratings`;\n",
    "\n",
    "3) изменили в столбце `show_stat_date` тип данных на `datetime` и убрали часовой пояс;\n",
    "\n",
    "4) привели название столбца `puNumber` к нижнему регистру и добавили нижнее подчёркивание;\n",
    "\n",
    "5) убрали в столбце:\n",
    "* `title` лишние символы, пробелы в начале и в конце строки, тем самым удалили неявные дубликаты, привели значения к нижнему регистру;  \n",
    "* `type` пробелы в начале и в конце строки, тем самым удалили неявные дубликаты, привели значения к нижнему регистру;  \n",
    "* `production_country` и `director` пробелы в начале и в конце строки;\n",
    "* `producer` лишние символы, пробелы в начале и в конце строки, привели значения к нижнему регистру.\n",
    "\n",
    "6) заменили в столбце `film_studio` следующие значения: `Пикчерс` на `Пикчерз`, `Продакшен, Продакшнз, Продакшнс` на `Продакшн` и `Фильмс, Фильмз, Филмс` на `Филмз`, `Коламбиа, Каламбиа` на `Коламбия`, тем самым удалив неявные дубликаты и  привели значения к нижнему регистру. \n",
    "\n",
    "Пропущенные значения в столбцах мы заполнили по следующему принципу:\n",
    "\n",
    "В столбцах `film_studio`, `production_country`, `director`, `producer`, `financing_source`, `genres` заменили пропуски на значение `не определена` или `не определён`. Как ранее было сказано, данный способ представляется самым отимальным в подобном случае, так как в данных столбцах представлены категориальные значения, а у нас нет точной информации, какие именно значения пропущены в столбцах; \n",
    " \n",
    "Далее необходимо сделать некоторые расчёты и добавить новые столбцы и информацию по фильмам в таблицу."
   ]
  },
  {
   "cell_type": "markdown",
   "metadata": {
    "id": "Eu6oWp2CgFyS"
   },
   "source": [
    "# 3. Расчёт значений и создание новых столбцов <a id='intro2'></a>\n",
    "\n",
    "\n",
    "\n"
   ]
  },
  {
   "cell_type": "markdown",
   "metadata": {},
   "source": [
    "Для дальнейшего анализа данных необходимо:\n",
    "\n",
    "* добавить столбец с информацией о годе проката;\n",
    "* добавить столбец с именем и фамилией главного режиссёра и столбец с основным жанром фильма;\n",
    "* добавить столбец с долей государственной поддержки от общего бюджета."
   ]
  },
  {
   "cell_type": "code",
   "execution_count": 73,
   "metadata": {
    "id": "I-yd1DkWgFyT"
   },
   "outputs": [],
   "source": [
    "# добавление в таблицу столбца 'show_start_year'\n",
    "\n",
    "df['show_start_year'] = df['show_start_date'].dt.year"
   ]
  },
  {
   "cell_type": "code",
   "execution_count": 74,
   "metadata": {
    "id": "LSbRZKbMgFyU"
   },
   "outputs": [],
   "source": [
    "# создание функции для добавления значений\n",
    "# в столбцы 'first_director' и 'major_genre' \n",
    "\n",
    "def get_first(cell_value):\n",
    "    '''\n",
    "    Разбивает значения в строке столбца по запятым,\n",
    "    возвращает первое значение.\n",
    "    '''\n",
    "    return cell_value.split(',')[0]\n",
    "\n",
    "df['first_director'] = df['director'].apply(get_first)\n",
    "df['major_genre'] = df['genres'].apply(get_first)"
   ]
  },
  {
   "cell_type": "code",
   "execution_count": 75,
   "metadata": {
    "id": "LV6qFuZLgFyV"
   },
   "outputs": [],
   "source": [
    "# добавление в таблицу столбца 'amount_of_support' и\n",
    "# приведение значений в столбце к двум знакам после запятой\n",
    "\n",
    "df['amount_of_support'] = df['budget'] - (df['refundable_support'] + df['nonrefundable_support'])\n",
    "df['amount_of_support'] = df['amount_of_support'] / df['budget']\n",
    "df['amount_of_support'] = df['amount_of_support'].round(2)"
   ]
  },
  {
   "cell_type": "code",
   "execution_count": 76,
   "metadata": {},
   "outputs": [
    {
     "data": {
      "text/html": [
       "<div>\n",
       "<style scoped>\n",
       "    .dataframe tbody tr th:only-of-type {\n",
       "        vertical-align: middle;\n",
       "    }\n",
       "\n",
       "    .dataframe tbody tr th {\n",
       "        vertical-align: top;\n",
       "    }\n",
       "\n",
       "    .dataframe thead th {\n",
       "        text-align: right;\n",
       "    }\n",
       "</style>\n",
       "<table border=\"1\" class=\"dataframe\">\n",
       "  <thead>\n",
       "    <tr style=\"text-align: right;\">\n",
       "      <th></th>\n",
       "      <th>title</th>\n",
       "      <th>pu_number</th>\n",
       "      <th>show_start_date</th>\n",
       "      <th>type</th>\n",
       "      <th>film_studio</th>\n",
       "      <th>production_country</th>\n",
       "      <th>director</th>\n",
       "      <th>producer</th>\n",
       "      <th>age_restriction</th>\n",
       "      <th>refundable_support</th>\n",
       "      <th>nonrefundable_support</th>\n",
       "      <th>budget</th>\n",
       "      <th>financing_source</th>\n",
       "      <th>ratings</th>\n",
       "      <th>genres</th>\n",
       "      <th>box_office</th>\n",
       "      <th>show_start_year</th>\n",
       "      <th>first_director</th>\n",
       "      <th>major_genre</th>\n",
       "      <th>amount_of_support</th>\n",
       "    </tr>\n",
       "  </thead>\n",
       "  <tbody>\n",
       "    <tr>\n",
       "      <th>7472</th>\n",
       "      <td>я свободен</td>\n",
       "      <td>111023019</td>\n",
       "      <td>2019-12-26 12:00:00</td>\n",
       "      <td>художественный</td>\n",
       "      <td>ао \"тпо \"киностудия им. м.горького\"</td>\n",
       "      <td>Россия</td>\n",
       "      <td>И.Северов</td>\n",
       "      <td>с.зернов</td>\n",
       "      <td>«12+» - для детей старше 12 лет</td>\n",
       "      <td>0.00</td>\n",
       "      <td>30000000.00</td>\n",
       "      <td>46154000.00</td>\n",
       "      <td>Министерство культуры</td>\n",
       "      <td>5.90</td>\n",
       "      <td>драма</td>\n",
       "      <td>NaN</td>\n",
       "      <td>2019</td>\n",
       "      <td>И.Северов</td>\n",
       "      <td>драма</td>\n",
       "      <td>0.35</td>\n",
       "    </tr>\n",
       "    <tr>\n",
       "      <th>7473</th>\n",
       "      <td>тридцать</td>\n",
       "      <td>121038419</td>\n",
       "      <td>2019-12-26 12:00:00</td>\n",
       "      <td>художественный</td>\n",
       "      <td>демнехст ауф видео</td>\n",
       "      <td>Германия</td>\n",
       "      <td>Симона Костова</td>\n",
       "      <td>джейлан атаман-джека</td>\n",
       "      <td>«16+» - для детей старше 16 лет</td>\n",
       "      <td>NaN</td>\n",
       "      <td>NaN</td>\n",
       "      <td>NaN</td>\n",
       "      <td>не определён</td>\n",
       "      <td>6.30</td>\n",
       "      <td>драма</td>\n",
       "      <td>NaN</td>\n",
       "      <td>2019</td>\n",
       "      <td>Симона Костова</td>\n",
       "      <td>драма</td>\n",
       "      <td>NaN</td>\n",
       "    </tr>\n",
       "    <tr>\n",
       "      <th>7474</th>\n",
       "      <td>(не)идеальный мужчина</td>\n",
       "      <td>111023119</td>\n",
       "      <td>2019-12-24 12:00:00</td>\n",
       "      <td>художественный</td>\n",
       "      <td>ооо \"нон-стоп продакшн\"</td>\n",
       "      <td>Россия</td>\n",
       "      <td>М.Бальчюнас (псевдоним М.Вайсберг)</td>\n",
       "      <td>с.мелькумов, а.роднянский, м.вайсберг, р.минас...</td>\n",
       "      <td>«12+» - для детей старше 12 лет</td>\n",
       "      <td>40000000.00</td>\n",
       "      <td>60000000.00</td>\n",
       "      <td>150147502.00</td>\n",
       "      <td>Фонд кино</td>\n",
       "      <td>4.50</td>\n",
       "      <td>комедия,фантастика,мелодрама</td>\n",
       "      <td>NaN</td>\n",
       "      <td>2019</td>\n",
       "      <td>М.Бальчюнас (псевдоним М.Вайсберг)</td>\n",
       "      <td>комедия</td>\n",
       "      <td>0.33</td>\n",
       "    </tr>\n",
       "    <tr>\n",
       "      <th>7475</th>\n",
       "      <td>эколав</td>\n",
       "      <td>111023219</td>\n",
       "      <td>2019-12-26 12:00:00</td>\n",
       "      <td>художественный</td>\n",
       "      <td>вгик</td>\n",
       "      <td>Россия</td>\n",
       "      <td>Д.Григорьев</td>\n",
       "      <td>вгик</td>\n",
       "      <td>«18+» - запрещено для детей</td>\n",
       "      <td>NaN</td>\n",
       "      <td>NaN</td>\n",
       "      <td>NaN</td>\n",
       "      <td>не определён</td>\n",
       "      <td>NaN</td>\n",
       "      <td>не определён</td>\n",
       "      <td>NaN</td>\n",
       "      <td>2019</td>\n",
       "      <td>Д.Григорьев</td>\n",
       "      <td>не определён</td>\n",
       "      <td>NaN</td>\n",
       "    </tr>\n",
       "    <tr>\n",
       "      <th>7476</th>\n",
       "      <td>акрам хан: родом из карри хауса</td>\n",
       "      <td>126007919</td>\n",
       "      <td>2019-12-23 12:00:00</td>\n",
       "      <td>прочие</td>\n",
       "      <td>свон филмз</td>\n",
       "      <td>Великобритания</td>\n",
       "      <td>Ник Пойнц</td>\n",
       "      <td>поппи бегум, ник пойнц</td>\n",
       "      <td>«12+» - для детей старше 12 лет</td>\n",
       "      <td>NaN</td>\n",
       "      <td>NaN</td>\n",
       "      <td>NaN</td>\n",
       "      <td>не определён</td>\n",
       "      <td>NaN</td>\n",
       "      <td>не определён</td>\n",
       "      <td>219569.00</td>\n",
       "      <td>2019</td>\n",
       "      <td>Ник Пойнц</td>\n",
       "      <td>не определён</td>\n",
       "      <td>NaN</td>\n",
       "    </tr>\n",
       "    <tr>\n",
       "      <th>7477</th>\n",
       "      <td>сад художника: американский импрессионизм</td>\n",
       "      <td>126008019</td>\n",
       "      <td>2019-12-23 12:00:00</td>\n",
       "      <td>прочие</td>\n",
       "      <td>севен артс продакшнз</td>\n",
       "      <td>Великобритания</td>\n",
       "      <td>Фил Грабски</td>\n",
       "      <td>фил грабски</td>\n",
       "      <td>«12+» - для детей старше 12 лет</td>\n",
       "      <td>NaN</td>\n",
       "      <td>NaN</td>\n",
       "      <td>NaN</td>\n",
       "      <td>не определён</td>\n",
       "      <td>NaN</td>\n",
       "      <td>не определён</td>\n",
       "      <td>NaN</td>\n",
       "      <td>2019</td>\n",
       "      <td>Фил Грабски</td>\n",
       "      <td>не определён</td>\n",
       "      <td>NaN</td>\n",
       "    </tr>\n",
       "    <tr>\n",
       "      <th>7478</th>\n",
       "      <td>звериная ярость</td>\n",
       "      <td>121037819</td>\n",
       "      <td>2019-12-24 12:00:00</td>\n",
       "      <td>художественный</td>\n",
       "      <td>дэниел гродник продакшнз, вандерфилм медиа кор...</td>\n",
       "      <td>США</td>\n",
       "      <td>Ник Пауэлл</td>\n",
       "      <td>джефф боулер, дэниэл гродник, луильо руис, брэ...</td>\n",
       "      <td>«16+» - для детей старше 16 лет</td>\n",
       "      <td>NaN</td>\n",
       "      <td>NaN</td>\n",
       "      <td>NaN</td>\n",
       "      <td>не определён</td>\n",
       "      <td>5.40</td>\n",
       "      <td>боевик,триллер</td>\n",
       "      <td>NaN</td>\n",
       "      <td>2019</td>\n",
       "      <td>Ник Пауэлл</td>\n",
       "      <td>боевик</td>\n",
       "      <td>NaN</td>\n",
       "    </tr>\n",
       "    <tr>\n",
       "      <th>7479</th>\n",
       "      <td>щенячий патруль: скорей спешим на помощь!</td>\n",
       "      <td>124010819</td>\n",
       "      <td>2019-12-28 12:00:00</td>\n",
       "      <td>художественный</td>\n",
       "      <td>никелодеон анимейшн студиос, спин мастер</td>\n",
       "      <td>США - Канада</td>\n",
       "      <td>Чарльз Е.Бастьен</td>\n",
       "      <td>дженнифер додж</td>\n",
       "      <td>«0+» - для любой зрительской аудитории</td>\n",
       "      <td>NaN</td>\n",
       "      <td>NaN</td>\n",
       "      <td>NaN</td>\n",
       "      <td>не определён</td>\n",
       "      <td>NaN</td>\n",
       "      <td>не определён</td>\n",
       "      <td>NaN</td>\n",
       "      <td>2019</td>\n",
       "      <td>Чарльз Е.Бастьен</td>\n",
       "      <td>не определён</td>\n",
       "      <td>NaN</td>\n",
       "    </tr>\n",
       "    <tr>\n",
       "      <th>7480</th>\n",
       "      <td>машины песенки. серия \"испанские мотивы\"</td>\n",
       "      <td>124010619</td>\n",
       "      <td>2019-12-30 12:00:00</td>\n",
       "      <td>анимационный</td>\n",
       "      <td>анимаккорд лтд., ооо студия \"анимаккорд\"</td>\n",
       "      <td>Республика Кипр, Россия</td>\n",
       "      <td>А.Беляев</td>\n",
       "      <td>д.ловейко</td>\n",
       "      <td>«0+» - для любой зрительской аудитории</td>\n",
       "      <td>NaN</td>\n",
       "      <td>NaN</td>\n",
       "      <td>NaN</td>\n",
       "      <td>не определён</td>\n",
       "      <td>NaN</td>\n",
       "      <td>не определён</td>\n",
       "      <td>NaN</td>\n",
       "      <td>2019</td>\n",
       "      <td>А.Беляев</td>\n",
       "      <td>не определён</td>\n",
       "      <td>NaN</td>\n",
       "    </tr>\n",
       "    <tr>\n",
       "      <th>7481</th>\n",
       "      <td>машины песенки. серия \"когда цветут кактусы\"</td>\n",
       "      <td>124010719</td>\n",
       "      <td>2019-12-30 12:00:00</td>\n",
       "      <td>анимационный</td>\n",
       "      <td>анимаккорд лтд., ооо студия \"анимаккорд\"</td>\n",
       "      <td>Республика Кипр, Россия</td>\n",
       "      <td>И.Трусов</td>\n",
       "      <td>д.ловейко</td>\n",
       "      <td>«0+» - для любой зрительской аудитории</td>\n",
       "      <td>NaN</td>\n",
       "      <td>NaN</td>\n",
       "      <td>NaN</td>\n",
       "      <td>не определён</td>\n",
       "      <td>6.30</td>\n",
       "      <td>комедия,вестерн</td>\n",
       "      <td>NaN</td>\n",
       "      <td>2019</td>\n",
       "      <td>И.Трусов</td>\n",
       "      <td>комедия</td>\n",
       "      <td>NaN</td>\n",
       "    </tr>\n",
       "  </tbody>\n",
       "</table>\n",
       "</div>"
      ],
      "text/plain": [
       "                                             title  pu_number  \\\n",
       "7472                                    я свободен  111023019   \n",
       "7473                                      тридцать  121038419   \n",
       "7474                         (не)идеальный мужчина  111023119   \n",
       "7475                                        эколав  111023219   \n",
       "7476               акрам хан: родом из карри хауса  126007919   \n",
       "7477     сад художника: американский импрессионизм  126008019   \n",
       "7478                               звериная ярость  121037819   \n",
       "7479     щенячий патруль: скорей спешим на помощь!  124010819   \n",
       "7480      машины песенки. серия \"испанские мотивы\"  124010619   \n",
       "7481  машины песенки. серия \"когда цветут кактусы\"  124010719   \n",
       "\n",
       "         show_start_date            type  \\\n",
       "7472 2019-12-26 12:00:00  художественный   \n",
       "7473 2019-12-26 12:00:00  художественный   \n",
       "7474 2019-12-24 12:00:00  художественный   \n",
       "7475 2019-12-26 12:00:00  художественный   \n",
       "7476 2019-12-23 12:00:00          прочие   \n",
       "7477 2019-12-23 12:00:00          прочие   \n",
       "7478 2019-12-24 12:00:00  художественный   \n",
       "7479 2019-12-28 12:00:00  художественный   \n",
       "7480 2019-12-30 12:00:00    анимационный   \n",
       "7481 2019-12-30 12:00:00    анимационный   \n",
       "\n",
       "                                            film_studio  \\\n",
       "7472                ао \"тпо \"киностудия им. м.горького\"   \n",
       "7473                                 демнехст ауф видео   \n",
       "7474                            ооо \"нон-стоп продакшн\"   \n",
       "7475                                               вгик   \n",
       "7476                                         свон филмз   \n",
       "7477                               севен артс продакшнз   \n",
       "7478  дэниел гродник продакшнз, вандерфилм медиа кор...   \n",
       "7479           никелодеон анимейшн студиос, спин мастер   \n",
       "7480           анимаккорд лтд., ооо студия \"анимаккорд\"   \n",
       "7481           анимаккорд лтд., ооо студия \"анимаккорд\"   \n",
       "\n",
       "           production_country                            director  \\\n",
       "7472                   Россия                           И.Северов   \n",
       "7473                 Германия                      Симона Костова   \n",
       "7474                   Россия  М.Бальчюнас (псевдоним М.Вайсберг)   \n",
       "7475                   Россия                         Д.Григорьев   \n",
       "7476           Великобритания                           Ник Пойнц   \n",
       "7477           Великобритания                         Фил Грабски   \n",
       "7478                      США                          Ник Пауэлл   \n",
       "7479             США - Канада                    Чарльз Е.Бастьен   \n",
       "7480  Республика Кипр, Россия                            А.Беляев   \n",
       "7481  Республика Кипр, Россия                            И.Трусов   \n",
       "\n",
       "                                               producer  \\\n",
       "7472                                           с.зернов   \n",
       "7473                               джейлан атаман-джека   \n",
       "7474  с.мелькумов, а.роднянский, м.вайсберг, р.минас...   \n",
       "7475                                               вгик   \n",
       "7476                             поппи бегум, ник пойнц   \n",
       "7477                                        фил грабски   \n",
       "7478  джефф боулер, дэниэл гродник, луильо руис, брэ...   \n",
       "7479                                     дженнифер додж   \n",
       "7480                                          д.ловейко   \n",
       "7481                                          д.ловейко   \n",
       "\n",
       "                             age_restriction  refundable_support  \\\n",
       "7472         «12+» - для детей старше 12 лет                0.00   \n",
       "7473         «16+» - для детей старше 16 лет                 NaN   \n",
       "7474         «12+» - для детей старше 12 лет         40000000.00   \n",
       "7475             «18+» - запрещено для детей                 NaN   \n",
       "7476         «12+» - для детей старше 12 лет                 NaN   \n",
       "7477         «12+» - для детей старше 12 лет                 NaN   \n",
       "7478         «16+» - для детей старше 16 лет                 NaN   \n",
       "7479  «0+» - для любой зрительской аудитории                 NaN   \n",
       "7480  «0+» - для любой зрительской аудитории                 NaN   \n",
       "7481  «0+» - для любой зрительской аудитории                 NaN   \n",
       "\n",
       "      nonrefundable_support       budget       financing_source  ratings  \\\n",
       "7472            30000000.00  46154000.00  Министерство культуры     5.90   \n",
       "7473                    NaN          NaN           не определён     6.30   \n",
       "7474            60000000.00 150147502.00              Фонд кино     4.50   \n",
       "7475                    NaN          NaN           не определён      NaN   \n",
       "7476                    NaN          NaN           не определён      NaN   \n",
       "7477                    NaN          NaN           не определён      NaN   \n",
       "7478                    NaN          NaN           не определён     5.40   \n",
       "7479                    NaN          NaN           не определён      NaN   \n",
       "7480                    NaN          NaN           не определён      NaN   \n",
       "7481                    NaN          NaN           не определён     6.30   \n",
       "\n",
       "                            genres  box_office  show_start_year  \\\n",
       "7472                         драма         NaN             2019   \n",
       "7473                         драма         NaN             2019   \n",
       "7474  комедия,фантастика,мелодрама         NaN             2019   \n",
       "7475                  не определён         NaN             2019   \n",
       "7476                  не определён   219569.00             2019   \n",
       "7477                  не определён         NaN             2019   \n",
       "7478                боевик,триллер         NaN             2019   \n",
       "7479                  не определён         NaN             2019   \n",
       "7480                  не определён         NaN             2019   \n",
       "7481               комедия,вестерн         NaN             2019   \n",
       "\n",
       "                          first_director   major_genre  amount_of_support  \n",
       "7472                           И.Северов         драма               0.35  \n",
       "7473                      Симона Костова         драма                NaN  \n",
       "7474  М.Бальчюнас (псевдоним М.Вайсберг)       комедия               0.33  \n",
       "7475                         Д.Григорьев  не определён                NaN  \n",
       "7476                           Ник Пойнц  не определён                NaN  \n",
       "7477                         Фил Грабски  не определён                NaN  \n",
       "7478                          Ник Пауэлл        боевик                NaN  \n",
       "7479                    Чарльз Е.Бастьен  не определён                NaN  \n",
       "7480                            А.Беляев  не определён                NaN  \n",
       "7481                            И.Трусов       комедия                NaN  "
      ]
     },
     "execution_count": 76,
     "metadata": {},
     "output_type": "execute_result"
    }
   ],
   "source": [
    "# просмотр последних 10 строк таблицы df\n",
    "\n",
    "df.tail(10)"
   ]
  },
  {
   "cell_type": "markdown",
   "metadata": {},
   "source": [
    "**Вывод**\n",
    "\n",
    "Таким образом, в таблицу были добавлены столбцы с новой информацией о фильмах, а именно:\n",
    "\n",
    "- столбец `show_start_year`, где указан год проката фильма;\n",
    "- столбец `first_director`, где указаны имя и фамилия главного режиссёра;\n",
    "- столбец `major_genre`, где указан основной жанр фильма;\n",
    "- столбец `amount_of_support`, где указана доля государственной поддержки от общего бюджета.\n",
    "\n",
    "После предобработки данных, замены пропущенных значений, удаления неявных дубликатов, изменения типа данных в столбцах, подсчёта, получения новой информации и добавления столбцов в таблицу можно приступить к исследовательскому анализу данных."
   ]
  },
  {
   "cell_type": "markdown",
   "metadata": {
    "id": "6t4EukPLgFyV"
   },
   "source": [
    "# 4. Исследовательский анализ данных <a id='intro3'></a>\n"
   ]
  },
  {
   "cell_type": "markdown",
   "metadata": {
    "id": "vAH8WCzugFyV"
   },
   "source": [
    "## Просмотр количества фильмов, которые выходили в прокат, по годам. Подсчёт доли данных фильмов от общего количества."
   ]
  },
  {
   "cell_type": "code",
   "execution_count": 77,
   "metadata": {},
   "outputs": [],
   "source": [
    "df_not_null = df.query('box_office != 0')\n",
    "#df_not_null = df.dropna(subset = ['box_office'])"
   ]
  },
  {
   "cell_type": "code",
   "execution_count": 78,
   "metadata": {},
   "outputs": [
    {
     "data": {
      "text/html": [
       "<div>\n",
       "<style scoped>\n",
       "    .dataframe tbody tr th:only-of-type {\n",
       "        vertical-align: middle;\n",
       "    }\n",
       "\n",
       "    .dataframe tbody tr th {\n",
       "        vertical-align: top;\n",
       "    }\n",
       "\n",
       "    .dataframe thead th {\n",
       "        text-align: right;\n",
       "    }\n",
       "</style>\n",
       "<table border=\"1\" class=\"dataframe\">\n",
       "  <thead>\n",
       "    <tr style=\"text-align: right;\">\n",
       "      <th></th>\n",
       "      <th>box_office</th>\n",
       "    </tr>\n",
       "    <tr>\n",
       "      <th>show_start_year</th>\n",
       "      <th></th>\n",
       "    </tr>\n",
       "  </thead>\n",
       "  <tbody>\n",
       "    <tr>\n",
       "      <th>2010</th>\n",
       "      <td>105</td>\n",
       "    </tr>\n",
       "    <tr>\n",
       "      <th>2011</th>\n",
       "      <td>109</td>\n",
       "    </tr>\n",
       "    <tr>\n",
       "      <th>2012</th>\n",
       "      <td>128</td>\n",
       "    </tr>\n",
       "    <tr>\n",
       "      <th>2013</th>\n",
       "      <td>184</td>\n",
       "    </tr>\n",
       "    <tr>\n",
       "      <th>2014</th>\n",
       "      <td>279</td>\n",
       "    </tr>\n",
       "    <tr>\n",
       "      <th>2015</th>\n",
       "      <td>465</td>\n",
       "    </tr>\n",
       "    <tr>\n",
       "      <th>2016</th>\n",
       "      <td>526</td>\n",
       "    </tr>\n",
       "    <tr>\n",
       "      <th>2017</th>\n",
       "      <td>357</td>\n",
       "    </tr>\n",
       "    <tr>\n",
       "      <th>2018</th>\n",
       "      <td>475</td>\n",
       "    </tr>\n",
       "    <tr>\n",
       "      <th>2019</th>\n",
       "      <td>530</td>\n",
       "    </tr>\n",
       "  </tbody>\n",
       "</table>\n",
       "</div>"
      ],
      "text/plain": [
       "                 box_office\n",
       "show_start_year            \n",
       "2010                    105\n",
       "2011                    109\n",
       "2012                    128\n",
       "2013                    184\n",
       "2014                    279\n",
       "2015                    465\n",
       "2016                    526\n",
       "2017                    357\n",
       "2018                    475\n",
       "2019                    530"
      ]
     },
     "execution_count": 78,
     "metadata": {},
     "output_type": "execute_result"
    }
   ],
   "source": [
    "# создание сводной таблицы, где\n",
    "# указано количество фильмов, которые\n",
    "# вышли в прокат\n",
    "\n",
    "table_count_films_box_office = df.pivot_table(index = 'show_start_year', values = 'box_office', aggfunc = 'count')\n",
    "table_count_films_box_office"
   ]
  },
  {
   "cell_type": "code",
   "execution_count": 79,
   "metadata": {},
   "outputs": [
    {
     "data": {
      "text/html": [
       "<div>\n",
       "<style scoped>\n",
       "    .dataframe tbody tr th:only-of-type {\n",
       "        vertical-align: middle;\n",
       "    }\n",
       "\n",
       "    .dataframe tbody tr th {\n",
       "        vertical-align: top;\n",
       "    }\n",
       "\n",
       "    .dataframe thead th {\n",
       "        text-align: right;\n",
       "    }\n",
       "</style>\n",
       "<table border=\"1\" class=\"dataframe\">\n",
       "  <thead>\n",
       "    <tr style=\"text-align: right;\">\n",
       "      <th></th>\n",
       "      <th>title</th>\n",
       "    </tr>\n",
       "    <tr>\n",
       "      <th>show_start_year</th>\n",
       "      <th></th>\n",
       "    </tr>\n",
       "  </thead>\n",
       "  <tbody>\n",
       "    <tr>\n",
       "      <th>2010</th>\n",
       "      <td>981</td>\n",
       "    </tr>\n",
       "    <tr>\n",
       "      <th>2011</th>\n",
       "      <td>622</td>\n",
       "    </tr>\n",
       "    <tr>\n",
       "      <th>2012</th>\n",
       "      <td>593</td>\n",
       "    </tr>\n",
       "    <tr>\n",
       "      <th>2013</th>\n",
       "      <td>630</td>\n",
       "    </tr>\n",
       "    <tr>\n",
       "      <th>2014</th>\n",
       "      <td>807</td>\n",
       "    </tr>\n",
       "    <tr>\n",
       "      <th>2015</th>\n",
       "      <td>705</td>\n",
       "    </tr>\n",
       "    <tr>\n",
       "      <th>2016</th>\n",
       "      <td>818</td>\n",
       "    </tr>\n",
       "    <tr>\n",
       "      <th>2017</th>\n",
       "      <td>505</td>\n",
       "    </tr>\n",
       "    <tr>\n",
       "      <th>2018</th>\n",
       "      <td>891</td>\n",
       "    </tr>\n",
       "    <tr>\n",
       "      <th>2019</th>\n",
       "      <td>930</td>\n",
       "    </tr>\n",
       "  </tbody>\n",
       "</table>\n",
       "</div>"
      ],
      "text/plain": [
       "                 title\n",
       "show_start_year       \n",
       "2010               981\n",
       "2011               622\n",
       "2012               593\n",
       "2013               630\n",
       "2014               807\n",
       "2015               705\n",
       "2016               818\n",
       "2017               505\n",
       "2018               891\n",
       "2019               930"
      ]
     },
     "execution_count": 79,
     "metadata": {},
     "output_type": "execute_result"
    }
   ],
   "source": [
    "# создание сводной таблицы, где\n",
    "# указано общее количество фильмов\n",
    "\n",
    "table_count_films = df.pivot_table(index = 'show_start_year', values = 'title', aggfunc = 'count')\n",
    "table_count_films"
   ]
  },
  {
   "cell_type": "code",
   "execution_count": 80,
   "metadata": {},
   "outputs": [
    {
     "data": {
      "text/plain": [
       "show_start_year\n",
       "2010   0.11\n",
       "2011   0.18\n",
       "2012   0.22\n",
       "2013   0.29\n",
       "2014   0.35\n",
       "2015   0.66\n",
       "2016   0.64\n",
       "2017   0.71\n",
       "2018   0.53\n",
       "2019   0.57\n",
       "dtype: float64"
      ]
     },
     "execution_count": 80,
     "metadata": {},
     "output_type": "execute_result"
    }
   ],
   "source": [
    "# расчёт доли фильмов, которые\n",
    "# вышли в прокат, от общего \n",
    "# количества фильмов\n",
    "\n",
    "table_part_films_box_office = table_count_films_box_office['box_office'] / table_count_films['title']\n",
    "table_part_films_box_office = table_part_films_box_office.round(2)\n",
    "table_part_films_box_office"
   ]
  },
  {
   "cell_type": "markdown",
   "metadata": {},
   "source": [
    "Согласно сводной таблице `table_count_films` в 2010 году было выдано больше всего прокатных удостоверений - 981, а самое минимальное число прокатных удостоверений было в 2017 году. \n",
    "\n",
    "Если посмотреть на сводную таблицу `table_count_films_box_office` можно заметить, что до 2016 года количество фильмов, которые вышли в прокат, возрастает. В 2019 году насчитывается самое большое количество фильмов, вышедших в прокат - 530.\n",
    "\n",
    "Однако, по сводной таблице `table_part_films_box_office` мы видим, что самая большая доля фильмов, по которым имеется информация о выходе в прокат, от общего количества фильмов, получившим прокатные удостоверения, было в 2017 году, там доля составила 0.71. Также, по данной сводной таблице мы наблюдаем такой же рост количества фильмов, которые вышли в прокат, но до 2017 года."
   ]
  },
  {
   "cell_type": "markdown",
   "metadata": {
    "id": "BEOdcIrIgFyW"
   },
   "source": [
    "## Изучение динамики проката фильмов по годам.  Определение максимальной и минимальной суммы."
   ]
  },
  {
   "cell_type": "code",
   "execution_count": 81,
   "metadata": {
    "id": "tfEhofYvgFyX"
   },
   "outputs": [
    {
     "data": {
      "image/png": "[encoded data removed]",
      "text/plain": [
       "<Figure size 720x360 with 1 Axes>"
      ]
     },
     "metadata": {
      "needs_background": "light"
     },
     "output_type": "display_data"
    }
   ],
   "source": [
    "# группировка значений и \n",
    "# построение столбчатой диаграммы\n",
    "\n",
    "df.groupby('show_start_year')['box_office'].sum().plot(\n",
    "    x = 'show_start_year', y = 'box_office', kind = 'bar', grid = True, figsize = (10,5)\n",
    ")\n",
    "plt.title('Динамика проката фильмов по годам')\n",
    "plt.ylabel('box_office')\n",
    "plt.show()"
   ]
  },
  {
   "cell_type": "markdown",
   "metadata": {},
   "source": [
    "Согласно столбчатой диаграмме мы видим, что с `2014` до `2018` происходит рост по сумме сборов, далее сумма сборов уменьшается.\n",
    "\n",
    "В `2018` году самая максимальная сумма сборов была где то около `2 миллиардов`, а минимальная сумма была в `2010`. Далее мы видим, что в `2011`, `2012` и `2013` годах сумма сборов совсем немного выше `2010` года и не превышает `1,5 миллионов`.\n",
    "\n",
    "Однако, согласно данным, не по всем годам дана полная информация о фильмах, вышедших в прокат, где то такая информация отсутствует в большей степени. Как раз таки в `2010`, `2011`, `2012` и `2013` подобная информация представлена в малом количестве от общего числа всех фильмов, которые получили прокатные удостоверения."
   ]
  },
  {
   "cell_type": "markdown",
   "metadata": {
    "id": "G-7qS-N-gFyY"
   },
   "source": [
    "## Построение сводной таблицы для подсчёта средней и медианной суммы сборов для каждого года."
   ]
  },
  {
   "cell_type": "code",
   "execution_count": 82,
   "metadata": {
    "id": "jmp-rgg9gFyY"
   },
   "outputs": [
    {
     "data": {
      "text/html": [
       "<div>\n",
       "<style scoped>\n",
       "    .dataframe tbody tr th:only-of-type {\n",
       "        vertical-align: middle;\n",
       "    }\n",
       "\n",
       "    .dataframe tbody tr th {\n",
       "        vertical-align: top;\n",
       "    }\n",
       "\n",
       "    .dataframe thead th {\n",
       "        text-align: right;\n",
       "    }\n",
       "</style>\n",
       "<table border=\"1\" class=\"dataframe\">\n",
       "  <thead>\n",
       "    <tr style=\"text-align: right;\">\n",
       "      <th></th>\n",
       "      <th>mean_box_office</th>\n",
       "      <th>median_box_office</th>\n",
       "    </tr>\n",
       "    <tr>\n",
       "      <th>show_start_year</th>\n",
       "      <th></th>\n",
       "      <th></th>\n",
       "    </tr>\n",
       "  </thead>\n",
       "  <tbody>\n",
       "    <tr>\n",
       "      <th>2010</th>\n",
       "      <td>23130.04</td>\n",
       "      <td>1700.00</td>\n",
       "    </tr>\n",
       "    <tr>\n",
       "      <th>2011</th>\n",
       "      <td>129383.17</td>\n",
       "      <td>3000.00</td>\n",
       "    </tr>\n",
       "    <tr>\n",
       "      <th>2012</th>\n",
       "      <td>54339.24</td>\n",
       "      <td>5660.00</td>\n",
       "    </tr>\n",
       "    <tr>\n",
       "      <th>2013</th>\n",
       "      <td>161954.92</td>\n",
       "      <td>3522.50</td>\n",
       "    </tr>\n",
       "    <tr>\n",
       "      <th>2014</th>\n",
       "      <td>26684415.27</td>\n",
       "      <td>18160.00</td>\n",
       "    </tr>\n",
       "    <tr>\n",
       "      <th>2015</th>\n",
       "      <td>84940570.32</td>\n",
       "      <td>4920933.00</td>\n",
       "    </tr>\n",
       "    <tr>\n",
       "      <th>2016</th>\n",
       "      <td>91000569.85</td>\n",
       "      <td>3846679.40</td>\n",
       "    </tr>\n",
       "    <tr>\n",
       "      <th>2017</th>\n",
       "      <td>136032793.33</td>\n",
       "      <td>9968340.00</td>\n",
       "    </tr>\n",
       "    <tr>\n",
       "      <th>2018</th>\n",
       "      <td>104565059.23</td>\n",
       "      <td>8891102.20</td>\n",
       "    </tr>\n",
       "    <tr>\n",
       "      <th>2019</th>\n",
       "      <td>91369261.85</td>\n",
       "      <td>4627798.35</td>\n",
       "    </tr>\n",
       "  </tbody>\n",
       "</table>\n",
       "</div>"
      ],
      "text/plain": [
       "                 mean_box_office  median_box_office\n",
       "show_start_year                                    \n",
       "2010                    23130.04            1700.00\n",
       "2011                   129383.17            3000.00\n",
       "2012                    54339.24            5660.00\n",
       "2013                   161954.92            3522.50\n",
       "2014                 26684415.27           18160.00\n",
       "2015                 84940570.32         4920933.00\n",
       "2016                 91000569.85         3846679.40\n",
       "2017                136032793.33         9968340.00\n",
       "2018                104565059.23         8891102.20\n",
       "2019                 91369261.85         4627798.35"
      ]
     },
     "execution_count": 82,
     "metadata": {},
     "output_type": "execute_result"
    }
   ],
   "source": [
    "# создание сводной таблицы\n",
    "\n",
    "table_box_office_mean_median = df.pivot_table(index = 'show_start_year' , values = 'box_office', aggfunc = ['mean', 'median'])\n",
    "table_box_office_mean_median.columns = ['mean_box_office', 'median_box_office']\n",
    "table_box_office_mean_median"
   ]
  },
  {
   "cell_type": "markdown",
   "metadata": {},
   "source": [
    "Согласно сводной таблице мы видим, что средняя сумма сборов сильно отличается от медианной. Однако, при подсчёте значений с помощью медианы значения получаются более точные, поэтому медианная сумма сборов более верная по сравнению со средней.\n",
    "\n",
    "Также, стоит отметить, что медианная сумма сборов в 2017 году самая высокая, а самая низкая в 2010 году. "
   ]
  },
  {
   "cell_type": "markdown",
   "metadata": {
    "id": "Ok89WFwJgFyZ"
   },
   "source": [
    "## Определение влияния возрастного ограничения аудитории на сборы фильма в прокате по годам. Определение фильмов с возрастным ограничением, собравших больше всего денег в прокате.  "
   ]
  },
  {
   "cell_type": "code",
   "execution_count": 83,
   "metadata": {
    "id": "jsSbEqfjgFya"
   },
   "outputs": [],
   "source": [
    "# создание переменной 'df_period_of_years', где\n",
    "# сохранён срез данных таблицы df\n",
    "\n",
    "df_period_of_years = df.query('show_start_year >= 2015')"
   ]
  },
  {
   "cell_type": "code",
   "execution_count": 84,
   "metadata": {},
   "outputs": [
    {
     "data": {
      "image/png": "[encoded data removed]",
      "text/plain": [
       "<Figure size 1080x360 with 1 Axes>"
      ]
     },
     "metadata": {
      "needs_background": "light"
     },
     "output_type": "display_data"
    }
   ],
   "source": [
    "# создание сводной таблицы и \n",
    "# построение линейного графика\n",
    "\n",
    "df_period_of_years.pivot_table(\n",
    "    index = 'show_start_year', values = 'box_office', \n",
    "    columns = 'age_restriction', aggfunc = 'sum'\n",
    ").plot(grid = True, figsize = (15,5))\n",
    "plt.title('Суммы сборов фильмов по годам и возрастным категориям')\n",
    "plt.ylabel('млн. - млрд. руб.')\n",
    "plt.xlabel('год')\n",
    "plt.show()"
   ]
  },
  {
   "cell_type": "markdown",
   "metadata": {},
   "source": [
    "Согласно графику можно утверждать, что возрастное ограничение аудитории влияет на сборы фильма в прокате.\n",
    "\n",
    "Мы видим, что фильмы с возрастным ограничением `16+` собрали больше всего денег в прокате, самый пик кассовых сборов наблюдается в 2017 году и составил около `1,9 миллиардов рублей`.\n",
    "\n",
    "Также, можно заметить, что картина меняется в зависимости от года. Фильмы с возрастным ограничением `12+` имеют не такое стабильное положение по сравнению с фильмами других категорий. В начале `2015` года данные фильмы имели самый больший успех в плане кассовых сборов, однако после они стали опускаться до `2017` года и их кассовые сборы были практически ниже всех других фильмов, кроме `0+`. Однако, с `2017` они стали подниматся и к началу `2019` года достигли одинаковых показателей с фильмами, категории `16+` и `6+`.\n",
    "\n",
    "Возможно, что смена фильмов с разным возрастным ограничением в определённое время зависит от популярности вида фильмов на тот момент, количества выпущенных фильмов с определённым возрастным ограничением и суммы кассового сбора соответственно."
   ]
  },
  {
   "cell_type": "markdown",
   "metadata": {
    "id": "l_Kg6Ku4gFya"
   },
   "source": [
    "## Исследование фильмов, которые получили государственную поддержку."
   ]
  },
  {
   "cell_type": "markdown",
   "metadata": {},
   "source": [
    "### Просмотр средств, выделяемых на поддержку кино."
   ]
  },
  {
   "cell_type": "code",
   "execution_count": 85,
   "metadata": {},
   "outputs": [],
   "source": [
    "# создание таблицы, где \n",
    "# указан срез данных по столбцу 'amount_of_support'\n",
    "\n",
    "df_films_support = df.query('amount_of_support != 0 and amount_of_support != \"nan\"')"
   ]
  },
  {
   "cell_type": "code",
   "execution_count": 86,
   "metadata": {},
   "outputs": [
    {
     "data": {
      "text/html": [
       "<div>\n",
       "<style scoped>\n",
       "    .dataframe tbody tr th:only-of-type {\n",
       "        vertical-align: middle;\n",
       "    }\n",
       "\n",
       "    .dataframe tbody tr th {\n",
       "        vertical-align: top;\n",
       "    }\n",
       "\n",
       "    .dataframe thead th {\n",
       "        text-align: right;\n",
       "    }\n",
       "</style>\n",
       "<table border=\"1\" class=\"dataframe\">\n",
       "  <thead>\n",
       "    <tr style=\"text-align: right;\">\n",
       "      <th></th>\n",
       "      <th>title</th>\n",
       "      <th>pu_number</th>\n",
       "      <th>show_start_date</th>\n",
       "      <th>type</th>\n",
       "      <th>film_studio</th>\n",
       "      <th>production_country</th>\n",
       "      <th>director</th>\n",
       "      <th>producer</th>\n",
       "      <th>age_restriction</th>\n",
       "      <th>refundable_support</th>\n",
       "      <th>nonrefundable_support</th>\n",
       "      <th>budget</th>\n",
       "      <th>financing_source</th>\n",
       "      <th>ratings</th>\n",
       "      <th>genres</th>\n",
       "      <th>box_office</th>\n",
       "      <th>show_start_year</th>\n",
       "      <th>first_director</th>\n",
       "      <th>major_genre</th>\n",
       "      <th>amount_of_support</th>\n",
       "    </tr>\n",
       "  </thead>\n",
       "  <tbody>\n",
       "    <tr>\n",
       "      <th>0</th>\n",
       "      <td>открытый простор</td>\n",
       "      <td>221048915</td>\n",
       "      <td>2015-11-27 12:00:00</td>\n",
       "      <td>художественный</td>\n",
       "      <td>тачстоун пикчерз, кобальт пикчерз, бикон пикче...</td>\n",
       "      <td>США</td>\n",
       "      <td>Кевин Костнер</td>\n",
       "      <td>дэвид валдес, кевин костнер, джейк эбертс</td>\n",
       "      <td>«18+» - запрещено для детей</td>\n",
       "      <td>NaN</td>\n",
       "      <td>NaN</td>\n",
       "      <td>NaN</td>\n",
       "      <td>не определён</td>\n",
       "      <td>7.20</td>\n",
       "      <td>боевик,драма,мелодрама</td>\n",
       "      <td>NaN</td>\n",
       "      <td>2015</td>\n",
       "      <td>Кевин Костнер</td>\n",
       "      <td>боевик</td>\n",
       "      <td>NaN</td>\n",
       "    </tr>\n",
       "    <tr>\n",
       "      <th>1</th>\n",
       "      <td>особо важное задание</td>\n",
       "      <td>111013716</td>\n",
       "      <td>2016-09-13 12:00:00</td>\n",
       "      <td>художественный</td>\n",
       "      <td>киностудия \"мосфильм\"</td>\n",
       "      <td>СССР</td>\n",
       "      <td>Е.Матвеев</td>\n",
       "      <td>не определён</td>\n",
       "      <td>«6+» - для детей старше 6 лет</td>\n",
       "      <td>NaN</td>\n",
       "      <td>NaN</td>\n",
       "      <td>NaN</td>\n",
       "      <td>не определён</td>\n",
       "      <td>6.60</td>\n",
       "      <td>драма,военный</td>\n",
       "      <td>NaN</td>\n",
       "      <td>2016</td>\n",
       "      <td>Е.Матвеев</td>\n",
       "      <td>драма</td>\n",
       "      <td>NaN</td>\n",
       "    </tr>\n",
       "    <tr>\n",
       "      <th>2</th>\n",
       "      <td>особо опасен</td>\n",
       "      <td>221038416</td>\n",
       "      <td>2016-10-10 12:00:00</td>\n",
       "      <td>художественный</td>\n",
       "      <td>юниверсал пикчерз, кикстарт продакшнз, марк пл...</td>\n",
       "      <td>США</td>\n",
       "      <td>Тимур Бекмамбетов</td>\n",
       "      <td>джим лемли, джейсон нетер, марк е.платт, яйн смит</td>\n",
       "      <td>«18+» - запрещено для детей</td>\n",
       "      <td>NaN</td>\n",
       "      <td>NaN</td>\n",
       "      <td>NaN</td>\n",
       "      <td>не определён</td>\n",
       "      <td>6.80</td>\n",
       "      <td>фантастика,боевик,триллер</td>\n",
       "      <td>NaN</td>\n",
       "      <td>2016</td>\n",
       "      <td>Тимур Бекмамбетов</td>\n",
       "      <td>фантастика</td>\n",
       "      <td>NaN</td>\n",
       "    </tr>\n",
       "    <tr>\n",
       "      <th>3</th>\n",
       "      <td>особо опасен</td>\n",
       "      <td>221026916</td>\n",
       "      <td>2016-06-10 12:00:00</td>\n",
       "      <td>художественный</td>\n",
       "      <td>юниверсал пикчерз, кикстарт продакшнз, марк пл...</td>\n",
       "      <td>США</td>\n",
       "      <td>Тимур Бекмамбетов</td>\n",
       "      <td>джим лемли, джейсон нетер, марк е.платт, яйн смит</td>\n",
       "      <td>«18+» - запрещено для детей</td>\n",
       "      <td>NaN</td>\n",
       "      <td>NaN</td>\n",
       "      <td>NaN</td>\n",
       "      <td>не определён</td>\n",
       "      <td>6.80</td>\n",
       "      <td>фантастика,боевик,триллер</td>\n",
       "      <td>NaN</td>\n",
       "      <td>2016</td>\n",
       "      <td>Тимур Бекмамбетов</td>\n",
       "      <td>фантастика</td>\n",
       "      <td>NaN</td>\n",
       "    </tr>\n",
       "    <tr>\n",
       "      <th>4</th>\n",
       "      <td>особо опасен</td>\n",
       "      <td>221030815</td>\n",
       "      <td>2015-07-29 12:00:00</td>\n",
       "      <td>художественный</td>\n",
       "      <td>юниверсал пикчерз, кикстарт продакшнз, марк пл...</td>\n",
       "      <td>США</td>\n",
       "      <td>Тимур Бекмамбетов</td>\n",
       "      <td>джим лемли, джейсон нетер, марк е.платт, яйн смит</td>\n",
       "      <td>«18+» - запрещено для детей</td>\n",
       "      <td>NaN</td>\n",
       "      <td>NaN</td>\n",
       "      <td>NaN</td>\n",
       "      <td>не определён</td>\n",
       "      <td>6.80</td>\n",
       "      <td>фантастика,боевик,триллер</td>\n",
       "      <td>NaN</td>\n",
       "      <td>2015</td>\n",
       "      <td>Тимур Бекмамбетов</td>\n",
       "      <td>фантастика</td>\n",
       "      <td>NaN</td>\n",
       "    </tr>\n",
       "  </tbody>\n",
       "</table>\n",
       "</div>"
      ],
      "text/plain": [
       "                  title  pu_number     show_start_date            type  \\\n",
       "0      открытый простор  221048915 2015-11-27 12:00:00  художественный   \n",
       "1  особо важное задание  111013716 2016-09-13 12:00:00  художественный   \n",
       "2          особо опасен  221038416 2016-10-10 12:00:00  художественный   \n",
       "3          особо опасен  221026916 2016-06-10 12:00:00  художественный   \n",
       "4          особо опасен  221030815 2015-07-29 12:00:00  художественный   \n",
       "\n",
       "                                         film_studio production_country  \\\n",
       "0  тачстоун пикчерз, кобальт пикчерз, бикон пикче...                США   \n",
       "1                              киностудия \"мосфильм\"               СССР   \n",
       "2  юниверсал пикчерз, кикстарт продакшнз, марк пл...                США   \n",
       "3  юниверсал пикчерз, кикстарт продакшнз, марк пл...                США   \n",
       "4  юниверсал пикчерз, кикстарт продакшнз, марк пл...                США   \n",
       "\n",
       "            director                                           producer  \\\n",
       "0      Кевин Костнер          дэвид валдес, кевин костнер, джейк эбертс   \n",
       "1          Е.Матвеев                                       не определён   \n",
       "2  Тимур Бекмамбетов  джим лемли, джейсон нетер, марк е.платт, яйн смит   \n",
       "3  Тимур Бекмамбетов  джим лемли, джейсон нетер, марк е.платт, яйн смит   \n",
       "4  Тимур Бекмамбетов  джим лемли, джейсон нетер, марк е.платт, яйн смит   \n",
       "\n",
       "                 age_restriction  refundable_support  nonrefundable_support  \\\n",
       "0    «18+» - запрещено для детей                 NaN                    NaN   \n",
       "1  «6+» - для детей старше 6 лет                 NaN                    NaN   \n",
       "2    «18+» - запрещено для детей                 NaN                    NaN   \n",
       "3    «18+» - запрещено для детей                 NaN                    NaN   \n",
       "4    «18+» - запрещено для детей                 NaN                    NaN   \n",
       "\n",
       "   budget financing_source  ratings                     genres  box_office  \\\n",
       "0     NaN     не определён     7.20     боевик,драма,мелодрама         NaN   \n",
       "1     NaN     не определён     6.60              драма,военный         NaN   \n",
       "2     NaN     не определён     6.80  фантастика,боевик,триллер         NaN   \n",
       "3     NaN     не определён     6.80  фантастика,боевик,триллер         NaN   \n",
       "4     NaN     не определён     6.80  фантастика,боевик,триллер         NaN   \n",
       "\n",
       "   show_start_year     first_director major_genre  amount_of_support  \n",
       "0             2015      Кевин Костнер      боевик                NaN  \n",
       "1             2016          Е.Матвеев       драма                NaN  \n",
       "2             2016  Тимур Бекмамбетов  фантастика                NaN  \n",
       "3             2016  Тимур Бекмамбетов  фантастика                NaN  \n",
       "4             2015  Тимур Бекмамбетов  фантастика                NaN  "
      ]
     },
     "execution_count": 86,
     "metadata": {},
     "output_type": "execute_result"
    }
   ],
   "source": [
    "# просмотр таблицы df_films_support\n",
    "\n",
    "df_films_support.head()"
   ]
  },
  {
   "cell_type": "code",
   "execution_count": 87,
   "metadata": {},
   "outputs": [
    {
     "data": {
      "image/png": "[encoded data removed]",
      "text/plain": [
       "<Figure size 1152x360 with 1 Axes>"
      ]
     },
     "metadata": {
      "needs_background": "light"
     },
     "output_type": "display_data"
    }
   ],
   "source": [
    "# построение гистограммы для столбца 'amount_of_support'\n",
    "\n",
    "df_films_support.hist('amount_of_support', bins = 10, range = (0,2), figsize = (16,5))\n",
    "plt.title('Доля средств, выделяемых на поддержку кино')\n",
    "plt.xlabel('доля')\n",
    "plt.ylabel('количество')\n",
    "plt.show()"
   ]
  },
  {
   "cell_type": "markdown",
   "metadata": {},
   "source": [
    "По гистограмме мы видим, что, в основном, доля средств, выделяемых на поддержку кино, значится в цифрах от `0.20` до `0.40` от общего бюджета.\n",
    "\n",
    "Меньше всего встречаются случаи, когда доля государственной поддержки составляет от `0.80` до `0.96`.\n",
    "\n",
    "Также, стоит заметить, что доля государственной поддержки начинается с цифры `0.20`, меньше доли средств, выделяемой на поддержку кино, не встречается."
   ]
  },
  {
   "cell_type": "markdown",
   "metadata": {},
   "source": [
    "### Просмотр окупаемости фильмов с государственной поддержкой."
   ]
  },
  {
   "cell_type": "code",
   "execution_count": 88,
   "metadata": {},
   "outputs": [
    {
     "data": {
      "image/png": "[encoded data removed]",
      "text/plain": [
       "<Figure size 1008x504 with 1 Axes>"
      ]
     },
     "metadata": {
      "needs_background": "light"
     },
     "output_type": "display_data"
    }
   ],
   "source": [
    "# построение точечной диаграммы\n",
    "\n",
    "df_films_support.plot(\n",
    "    x = 'budget', y = 'box_office', style = 'o' , grid = True, figsize = (14,7), alpha = 0.5 \n",
    ") \n",
    "plt.title('Окупаемость фильмов с государственной поддержкой')\n",
    "plt.xlabel('общий бюджет')\n",
    "plt.ylabel('кассовые сборы')\n",
    "plt.show()"
   ]
  },
  {
   "cell_type": "markdown",
   "metadata": {},
   "source": [
    "По графику мы видим, что окупаемость существует, но, в большинстве случаев, она небольшая.\n",
    "\n",
    "Есть значения, где кассовые сборы намного больше общего бюджета, однако, таких значений малое количество."
   ]
  },
  {
   "cell_type": "markdown",
   "metadata": {},
   "source": [
    "### Просмотр рейтинга фильмов с государственной поддержкой."
   ]
  },
  {
   "cell_type": "code",
   "execution_count": 89,
   "metadata": {},
   "outputs": [
    {
     "data": {
      "image/png": "[encoded data removed]",
      "text/plain": [
       "<Figure size 1152x360 with 1 Axes>"
      ]
     },
     "metadata": {
      "needs_background": "light"
     },
     "output_type": "display_data"
    }
   ],
   "source": [
    "# построение гистограммы для столбца 'ratings'\n",
    "\n",
    "df_films_support.hist('ratings', bins = 10, range = (0,10), figsize = (16,5))\n",
    "plt.title('Рейтинг фильмов с государственной поддержкой')\n",
    "plt.xlabel('рейтинг')\n",
    "plt.ylabel('количество')\n",
    "plt.show()"
   ]
  },
  {
   "cell_type": "markdown",
   "metadata": {},
   "source": [
    "По гистограмме мы видим, что, в большинстве случаев, рейтинг фильмов с государственной поддержкой это цифры от `6.0` до `7.0`, что говорит о неплохих результатах и средней популярности данных фильмов.\n",
    "\n",
    "Также, стоит отметить, что редко встречаются фильмы из данной категории с рейтингом `1.0` или `10.0`"
   ]
  },
  {
   "cell_type": "markdown",
   "metadata": {
    "id": "V2gYwMcPgFyd"
   },
   "source": [
    "# 5. Общий вывод <a id='intro4'></a>"
   ]
  },
  {
   "cell_type": "markdown",
   "metadata": {
    "id": "AYRg3dzXgFye"
   },
   "source": [
    "В процессе исследования для начала мы провели предобработку данных:\n",
    "\n",
    "1) заменили пропущенные значения в столбцах `film_studio`, `production_country`, `director`, `producer`, ` financing_source` и  `genres`;\n",
    "\n",
    "2) перевели значения к типу `float` в столбце `ratings`;\n",
    "\n",
    "3) изменили в столбце `show_stat_date` тип данных на `datetime` и убрали часовой пояс;\n",
    "\n",
    "4) привели название столбца `puNumber` к нижнему регистру и добавили нижнее подчёркивание;\n",
    "\n",
    "5) убрали в столбце:\n",
    "* `title` лишние символы, пробелы в начале и в конце строки, тем самым удалили неявные дубликаты, привели значения к нижнему регистру;  \n",
    "* `type` пробелы в начале и в конце строки, тем самым удалили неявные дубликаты, привели значения к нижнему регистру;  \n",
    "* `production_country` и `director` пробелы в начале и в конце строки;\n",
    "* `producer` лишние символы, пробелы в начале и в конце строки, привели значения к нижнему регистру.\n",
    "\n",
    "6) заменили в столбце `film_studio` следующие значения: `Пикчерс` на `Пикчерз`, `Продакшен, Продакшнз, Продакшнс` на `Продакшн` и `Фильмс, Фильмз, Филмс` на `Филмз`, `Коламбиа, Каламбиа` на `Коламбия`, тем самым удалив неявные дубликаты и  привели значения к нижнему регистру. \n",
    "\n",
    "Далее сделали необходимы расчёты и добавили столбцы с новой информацией о фильмах, а именно:\n",
    "\n",
    "* столбец `show_start_year` с информацией о годе проката;\n",
    "* столбец `first_director` с именем и фамилией главного режиссёра и столбец `major_genre` с основным жанром фильма;\n",
    "* столбец `amount_of_support` с долей государственной поддержки от общего бюджета.\n",
    "\n",
    "Следующим шагом был исследовательский анализ данных, в котором мы выявили:\n",
    "\n",
    "* С каждым годом доля фильмов, вышедших в прокат, возрастает. Самый максимум насчитывается в 2017 году, там доля составила 0.71 от общего числа фильмов, получивших прокатное удостоверение;\n",
    "\n",
    "\n",
    "* В `2018` году самая максимальная сумма сборов была где то около `2 миллиардов`, а минимальная сумма была в `2010`. Однако, в `2011`, `2012` и `2013` годах сумма сборов совсем немного выше `2010` года и не превышает `1,5 миллионов`.\n",
    "\n",
    "\n",
    "* Фильмы с возрастным ограничением `16+` собрали больше всего денег в прокате, самый пик кассовых сборов наблюдается в 2017 году и составил около `1,9 миллиардов рублей`. Однако, стоит отметить, что так было не всегда, в начале `2015` года самыми популярными были фильмы с ограничением в `12+`, а в начале `2019` сразу три категории фильмов: `6+`, `12+` и `16+`.\n",
    "\n",
    "Однако, исходя из анализа, данные представлены и распределены по годам не в полном объёме, где то данных намного больше, а где то наоборот, поэтому для более точной информации, указанной выше, необходимо, чтобы были представлены приблизительные по количеству значения. \n",
    "\n",
    "* В основном, доля средств, выделяемых на поддержку кино, значится в цифрах от `0.20` до `0.40` от общего бюджета. Меньше всего встречаются случаи, когда доля государственной поддержки составляет от `0.80` до `0.96`;\n",
    "\n",
    "\n",
    "* У фильмов с государственной поддержкой средний рейтинг от `6.0` до `7.0`, однако, окупаемость данных фильмов низкая, поэтому, можно сказать, что подобные фильмы интересны зрителю, но у них существует своя, определённая аудитория. "
   ]
  }
 ],
 "metadata": {
  "ExecuteTimeLog": [
   {
    "duration": 537,
    "start_time": "2021-07-07T10:12:08.634Z"
   },
   {
    "duration": 206,
    "start_time": "2021-07-07T10:12:30.191Z"
   },
   {
    "duration": 227,
    "start_time": "2021-07-07T10:12:33.078Z"
   },
   {
    "duration": 153,
    "start_time": "2021-07-07T10:13:42.146Z"
   },
   {
    "duration": 233,
    "start_time": "2021-07-07T10:30:09.252Z"
   },
   {
    "duration": 19,
    "start_time": "2021-07-07T10:30:15.577Z"
   },
   {
    "duration": 18,
    "start_time": "2021-07-07T10:30:57.348Z"
   },
   {
    "duration": 19,
    "start_time": "2021-07-07T10:31:17.452Z"
   },
   {
    "duration": 21,
    "start_time": "2021-07-07T10:31:32.227Z"
   },
   {
    "duration": 27,
    "start_time": "2021-07-07T10:32:06.588Z"
   },
   {
    "duration": 23,
    "start_time": "2021-07-07T10:32:43.645Z"
   },
   {
    "duration": 24,
    "start_time": "2021-07-07T10:33:06.948Z"
   },
   {
    "duration": 7,
    "start_time": "2021-07-07T10:33:28.558Z"
   },
   {
    "duration": 23,
    "start_time": "2021-07-07T10:33:43.761Z"
   },
   {
    "duration": 28,
    "start_time": "2021-07-07T10:34:13.466Z"
   },
   {
    "duration": 23,
    "start_time": "2021-07-07T10:35:56.187Z"
   },
   {
    "duration": 6,
    "start_time": "2021-07-07T10:36:48.182Z"
   },
   {
    "duration": 14,
    "start_time": "2021-07-07T10:37:49.641Z"
   },
   {
    "duration": 6,
    "start_time": "2021-07-07T10:38:06.694Z"
   },
   {
    "duration": 6,
    "start_time": "2021-07-07T10:38:13.493Z"
   },
   {
    "duration": 19,
    "start_time": "2021-07-07T10:38:44.056Z"
   },
   {
    "duration": 186,
    "start_time": "2021-07-07T10:48:35.618Z"
   },
   {
    "duration": 24,
    "start_time": "2021-07-07T10:48:51.498Z"
   },
   {
    "duration": 20,
    "start_time": "2021-07-07T10:48:59.415Z"
   },
   {
    "duration": 20,
    "start_time": "2021-07-07T10:53:02.195Z"
   },
   {
    "duration": 188,
    "start_time": "2021-07-07T10:54:40.486Z"
   },
   {
    "duration": 115,
    "start_time": "2021-07-07T10:54:52.552Z"
   },
   {
    "duration": 214,
    "start_time": "2021-07-07T10:54:56.354Z"
   },
   {
    "duration": 47,
    "start_time": "2021-07-07T10:54:58.282Z"
   },
   {
    "duration": 217,
    "start_time": "2021-07-07T10:59:16.075Z"
   },
   {
    "duration": 51,
    "start_time": "2021-07-07T10:59:16.243Z"
   },
   {
    "duration": 578,
    "start_time": "2021-07-07T10:59:18.774Z"
   },
   {
    "duration": 161,
    "start_time": "2021-07-07T10:59:21.238Z"
   },
   {
    "duration": 59,
    "start_time": "2021-07-07T10:59:21.453Z"
   },
   {
    "duration": 3,
    "start_time": "2021-07-07T11:02:10.786Z"
   },
   {
    "duration": 13,
    "start_time": "2021-07-07T11:07:07.722Z"
   },
   {
    "duration": 26,
    "start_time": "2021-07-07T11:07:17.958Z"
   },
   {
    "duration": 22,
    "start_time": "2021-07-07T11:08:17.939Z"
   },
   {
    "duration": 212,
    "start_time": "2021-07-07T11:08:19.665Z"
   },
   {
    "duration": 21,
    "start_time": "2021-07-07T11:08:29.945Z"
   },
   {
    "duration": 31,
    "start_time": "2021-07-07T11:08:38.899Z"
   },
   {
    "duration": 23,
    "start_time": "2021-07-07T11:08:54.527Z"
   },
   {
    "duration": 8,
    "start_time": "2021-07-07T11:18:55.974Z"
   },
   {
    "duration": 7,
    "start_time": "2021-07-07T11:19:03.639Z"
   },
   {
    "duration": 7,
    "start_time": "2021-07-07T11:19:06.444Z"
   },
   {
    "duration": 578,
    "start_time": "2021-07-07T12:09:59.576Z"
   },
   {
    "duration": 195,
    "start_time": "2021-07-07T12:10:00.156Z"
   },
   {
    "duration": 115,
    "start_time": "2021-07-07T12:10:00.353Z"
   },
   {
    "duration": 3,
    "start_time": "2021-07-07T12:10:00.470Z"
   },
   {
    "duration": 32,
    "start_time": "2021-07-07T12:10:00.474Z"
   },
   {
    "duration": 23,
    "start_time": "2021-07-07T12:10:00.508Z"
   },
   {
    "duration": 19,
    "start_time": "2021-07-07T12:10:00.533Z"
   },
   {
    "duration": 44,
    "start_time": "2021-07-07T12:10:00.553Z"
   },
   {
    "duration": 7,
    "start_time": "2021-07-07T12:10:00.600Z"
   },
   {
    "duration": 7,
    "start_time": "2021-07-07T12:19:45.761Z"
   },
   {
    "duration": 21,
    "start_time": "2021-07-07T12:21:35.482Z"
   },
   {
    "duration": 21,
    "start_time": "2021-07-07T12:29:23.569Z"
   },
   {
    "duration": 525,
    "start_time": "2021-07-07T12:29:44.542Z"
   },
   {
    "duration": 214,
    "start_time": "2021-07-07T12:29:45.069Z"
   },
   {
    "duration": 92,
    "start_time": "2021-07-07T12:29:45.285Z"
   },
   {
    "duration": 3,
    "start_time": "2021-07-07T12:29:45.379Z"
   },
   {
    "duration": 28,
    "start_time": "2021-07-07T12:29:45.384Z"
   },
   {
    "duration": 23,
    "start_time": "2021-07-07T12:29:45.413Z"
   },
   {
    "duration": 21,
    "start_time": "2021-07-07T12:29:45.437Z"
   },
   {
    "duration": 41,
    "start_time": "2021-07-07T12:29:45.460Z"
   },
   {
    "duration": 7,
    "start_time": "2021-07-07T12:29:45.502Z"
   },
   {
    "duration": 20,
    "start_time": "2021-07-07T12:29:45.511Z"
   },
   {
    "duration": 12,
    "start_time": "2021-07-07T12:34:02.800Z"
   },
   {
    "duration": 7,
    "start_time": "2021-07-07T12:35:10.479Z"
   },
   {
    "duration": 8,
    "start_time": "2021-07-07T12:35:22.440Z"
   },
   {
    "duration": 6,
    "start_time": "2021-07-07T12:35:35.649Z"
   },
   {
    "duration": 6,
    "start_time": "2021-07-07T12:35:43.107Z"
   },
   {
    "duration": 22,
    "start_time": "2021-07-07T12:38:03.029Z"
   },
   {
    "duration": 10,
    "start_time": "2021-07-07T12:38:06.592Z"
   },
   {
    "duration": 563,
    "start_time": "2021-07-07T12:38:46.493Z"
   },
   {
    "duration": 265,
    "start_time": "2021-07-07T12:38:47.058Z"
   },
   {
    "duration": 94,
    "start_time": "2021-07-07T12:38:47.325Z"
   },
   {
    "duration": 3,
    "start_time": "2021-07-07T12:38:47.422Z"
   },
   {
    "duration": 30,
    "start_time": "2021-07-07T12:38:47.427Z"
   },
   {
    "duration": 16,
    "start_time": "2021-07-07T12:38:53.305Z"
   },
   {
    "duration": 10,
    "start_time": "2021-07-07T12:38:53.499Z"
   },
   {
    "duration": 8,
    "start_time": "2021-07-07T12:39:48.161Z"
   },
   {
    "duration": 27,
    "start_time": "2021-07-07T12:41:17.629Z"
   },
   {
    "duration": 17,
    "start_time": "2021-07-07T12:41:17.867Z"
   },
   {
    "duration": 21,
    "start_time": "2021-07-07T12:41:19.310Z"
   },
   {
    "duration": 7,
    "start_time": "2021-07-07T12:41:19.544Z"
   },
   {
    "duration": 20,
    "start_time": "2021-07-07T12:41:20.504Z"
   },
   {
    "duration": 554,
    "start_time": "2021-07-07T12:56:23.696Z"
   },
   {
    "duration": 200,
    "start_time": "2021-07-07T12:56:25.234Z"
   },
   {
    "duration": 119,
    "start_time": "2021-07-07T12:56:25.480Z"
   },
   {
    "duration": 4,
    "start_time": "2021-07-07T12:56:25.762Z"
   },
   {
    "duration": 26,
    "start_time": "2021-07-07T12:56:27.172Z"
   },
   {
    "duration": 12,
    "start_time": "2021-07-07T12:56:29.051Z"
   },
   {
    "duration": 10,
    "start_time": "2021-07-07T12:56:29.291Z"
   },
   {
    "duration": 8,
    "start_time": "2021-07-07T12:56:29.623Z"
   },
   {
    "duration": 28,
    "start_time": "2021-07-07T12:56:32.137Z"
   },
   {
    "duration": 19,
    "start_time": "2021-07-07T12:56:39.785Z"
   },
   {
    "duration": 20,
    "start_time": "2021-07-07T12:56:44.297Z"
   },
   {
    "duration": 7,
    "start_time": "2021-07-07T12:56:45.392Z"
   },
   {
    "duration": 23,
    "start_time": "2021-07-07T12:56:46.615Z"
   },
   {
    "duration": 4,
    "start_time": "2021-07-07T12:57:06.625Z"
   },
   {
    "duration": 32,
    "start_time": "2021-07-07T12:57:36.690Z"
   },
   {
    "duration": 18,
    "start_time": "2021-07-07T12:58:00.149Z"
   },
   {
    "duration": 15,
    "start_time": "2021-07-07T12:59:16.793Z"
   },
   {
    "duration": 7,
    "start_time": "2021-07-07T13:19:22.624Z"
   },
   {
    "duration": 6,
    "start_time": "2021-07-07T14:17:33.527Z"
   },
   {
    "duration": 9,
    "start_time": "2021-07-07T14:17:48.409Z"
   },
   {
    "duration": 8,
    "start_time": "2021-07-07T14:20:13.060Z"
   },
   {
    "duration": 8,
    "start_time": "2021-07-07T14:20:37.957Z"
   },
   {
    "duration": 8,
    "start_time": "2021-07-07T14:20:47.470Z"
   },
   {
    "duration": 9,
    "start_time": "2021-07-07T14:20:54.503Z"
   },
   {
    "duration": 10,
    "start_time": "2021-07-07T14:28:57.763Z"
   },
   {
    "duration": 3,
    "start_time": "2021-07-07T14:30:23.377Z"
   },
   {
    "duration": 3,
    "start_time": "2021-07-07T14:30:36.489Z"
   },
   {
    "duration": 103,
    "start_time": "2021-07-07T14:30:52.351Z"
   },
   {
    "duration": 8,
    "start_time": "2021-07-07T14:30:54.763Z"
   },
   {
    "duration": 8,
    "start_time": "2021-07-07T14:31:29.301Z"
   },
   {
    "duration": 13,
    "start_time": "2021-07-07T14:31:44.516Z"
   },
   {
    "duration": 7,
    "start_time": "2021-07-07T14:33:10.972Z"
   },
   {
    "duration": 11,
    "start_time": "2021-07-07T14:33:27.780Z"
   },
   {
    "duration": 8,
    "start_time": "2021-07-07T14:34:44.588Z"
   },
   {
    "duration": 57,
    "start_time": "2021-07-07T14:35:59.042Z"
   },
   {
    "duration": 3,
    "start_time": "2021-07-07T14:36:28.168Z"
   },
   {
    "duration": 5,
    "start_time": "2021-07-07T14:36:46.254Z"
   },
   {
    "duration": 4,
    "start_time": "2021-07-07T14:36:52.714Z"
   },
   {
    "duration": 3,
    "start_time": "2021-07-07T14:36:56.612Z"
   },
   {
    "duration": 4,
    "start_time": "2021-07-07T14:36:57.049Z"
   },
   {
    "duration": 3,
    "start_time": "2021-07-07T14:39:21.214Z"
   },
   {
    "duration": 7,
    "start_time": "2021-07-07T14:39:52.406Z"
   },
   {
    "duration": 11,
    "start_time": "2021-07-07T14:39:58.576Z"
   },
   {
    "duration": 9,
    "start_time": "2021-07-07T14:40:26.301Z"
   },
   {
    "duration": 10,
    "start_time": "2021-07-07T14:40:31.704Z"
   },
   {
    "duration": 11,
    "start_time": "2021-07-07T14:40:36.249Z"
   },
   {
    "duration": 10,
    "start_time": "2021-07-07T14:40:39.783Z"
   },
   {
    "duration": 9,
    "start_time": "2021-07-07T14:40:48.558Z"
   },
   {
    "duration": 10,
    "start_time": "2021-07-07T14:40:57.143Z"
   },
   {
    "duration": 9,
    "start_time": "2021-07-07T14:41:06.074Z"
   },
   {
    "duration": 4324,
    "start_time": "2021-07-07T14:41:22.004Z"
   },
   {
    "duration": 11,
    "start_time": "2021-07-07T14:41:33.392Z"
   },
   {
    "duration": 9,
    "start_time": "2021-07-07T14:41:39.288Z"
   },
   {
    "duration": 569,
    "start_time": "2021-07-07T14:42:14.387Z"
   },
   {
    "duration": 197,
    "start_time": "2021-07-07T14:42:14.959Z"
   },
   {
    "duration": 84,
    "start_time": "2021-07-07T14:42:16.052Z"
   },
   {
    "duration": 4,
    "start_time": "2021-07-07T14:42:16.900Z"
   },
   {
    "duration": 27,
    "start_time": "2021-07-07T14:42:19.898Z"
   },
   {
    "duration": 12,
    "start_time": "2021-07-07T14:42:21.577Z"
   },
   {
    "duration": 9,
    "start_time": "2021-07-07T14:42:21.813Z"
   },
   {
    "duration": 9,
    "start_time": "2021-07-07T14:42:22.569Z"
   },
   {
    "duration": 29,
    "start_time": "2021-07-07T14:42:25.837Z"
   },
   {
    "duration": 20,
    "start_time": "2021-07-07T14:42:27.003Z"
   },
   {
    "duration": 21,
    "start_time": "2021-07-07T14:42:28.767Z"
   },
   {
    "duration": 7,
    "start_time": "2021-07-07T14:42:29.838Z"
   },
   {
    "duration": 4,
    "start_time": "2021-07-07T14:43:25.493Z"
   },
   {
    "duration": 7,
    "start_time": "2021-07-07T14:43:26.573Z"
   },
   {
    "duration": 10,
    "start_time": "2021-07-07T14:43:31.639Z"
   },
   {
    "duration": 9,
    "start_time": "2021-07-07T14:43:32.046Z"
   },
   {
    "duration": 10,
    "start_time": "2021-07-07T14:43:33.301Z"
   },
   {
    "duration": 12,
    "start_time": "2021-07-07T14:43:33.658Z"
   },
   {
    "duration": 8,
    "start_time": "2021-07-07T14:43:34.552Z"
   },
   {
    "duration": 9,
    "start_time": "2021-07-07T14:43:35.058Z"
   },
   {
    "duration": 12,
    "start_time": "2021-07-07T14:43:35.914Z"
   },
   {
    "duration": 17,
    "start_time": "2021-07-07T14:45:34.368Z"
   },
   {
    "duration": 512,
    "start_time": "2021-07-07T14:51:58.236Z"
   },
   {
    "duration": 223,
    "start_time": "2021-07-07T14:51:58.750Z"
   },
   {
    "duration": 93,
    "start_time": "2021-07-07T14:51:58.977Z"
   },
   {
    "duration": 4,
    "start_time": "2021-07-07T14:51:59.071Z"
   },
   {
    "duration": 37,
    "start_time": "2021-07-07T14:51:59.077Z"
   },
   {
    "duration": 18,
    "start_time": "2021-07-07T14:51:59.116Z"
   },
   {
    "duration": 10,
    "start_time": "2021-07-07T14:51:59.137Z"
   },
   {
    "duration": 8,
    "start_time": "2021-07-07T14:51:59.149Z"
   },
   {
    "duration": 54,
    "start_time": "2021-07-07T14:51:59.158Z"
   },
   {
    "duration": 18,
    "start_time": "2021-07-07T14:51:59.213Z"
   },
   {
    "duration": 22,
    "start_time": "2021-07-07T14:51:59.232Z"
   },
   {
    "duration": 36,
    "start_time": "2021-07-07T14:51:59.255Z"
   },
   {
    "duration": 7,
    "start_time": "2021-07-07T14:51:59.293Z"
   },
   {
    "duration": 10,
    "start_time": "2021-07-07T14:51:59.302Z"
   },
   {
    "duration": 9,
    "start_time": "2021-07-07T14:51:59.313Z"
   },
   {
    "duration": 11,
    "start_time": "2021-07-07T14:51:59.324Z"
   },
   {
    "duration": 8,
    "start_time": "2021-07-07T14:51:59.337Z"
   },
   {
    "duration": 46,
    "start_time": "2021-07-07T14:51:59.347Z"
   },
   {
    "duration": 22,
    "start_time": "2021-07-07T14:51:59.395Z"
   },
   {
    "duration": 24,
    "start_time": "2021-07-07T14:57:32.911Z"
   },
   {
    "duration": 7,
    "start_time": "2021-07-07T14:58:22.070Z"
   },
   {
    "duration": 4,
    "start_time": "2021-07-07T14:59:11.239Z"
   },
   {
    "duration": 25,
    "start_time": "2021-07-07T15:07:22.208Z"
   },
   {
    "duration": 16,
    "start_time": "2021-07-07T15:08:25.560Z"
   },
   {
    "duration": 15,
    "start_time": "2021-07-07T15:08:40.647Z"
   },
   {
    "duration": 14,
    "start_time": "2021-07-07T15:08:46.669Z"
   },
   {
    "duration": 533,
    "start_time": "2021-07-07T15:18:07.440Z"
   },
   {
    "duration": 173,
    "start_time": "2021-07-07T15:18:07.974Z"
   },
   {
    "duration": 84,
    "start_time": "2021-07-07T15:18:08.149Z"
   },
   {
    "duration": 3,
    "start_time": "2021-07-07T15:18:08.235Z"
   },
   {
    "duration": 30,
    "start_time": "2021-07-07T15:18:08.240Z"
   },
   {
    "duration": 22,
    "start_time": "2021-07-07T15:18:08.272Z"
   },
   {
    "duration": 11,
    "start_time": "2021-07-07T15:18:08.295Z"
   },
   {
    "duration": 11,
    "start_time": "2021-07-07T15:18:08.309Z"
   },
   {
    "duration": 40,
    "start_time": "2021-07-07T15:18:08.322Z"
   },
   {
    "duration": 42,
    "start_time": "2021-07-07T15:18:08.364Z"
   },
   {
    "duration": 22,
    "start_time": "2021-07-07T15:18:08.408Z"
   },
   {
    "duration": 5,
    "start_time": "2021-07-07T15:18:08.432Z"
   },
   {
    "duration": 13,
    "start_time": "2021-07-07T15:18:08.439Z"
   },
   {
    "duration": 9,
    "start_time": "2021-07-07T15:18:08.454Z"
   },
   {
    "duration": 32,
    "start_time": "2021-07-07T15:18:08.465Z"
   },
   {
    "duration": 10,
    "start_time": "2021-07-07T15:18:08.501Z"
   },
   {
    "duration": 7,
    "start_time": "2021-07-07T15:18:08.513Z"
   },
   {
    "duration": 11,
    "start_time": "2021-07-07T15:18:08.521Z"
   },
   {
    "duration": 17,
    "start_time": "2021-07-07T15:18:08.534Z"
   },
   {
    "duration": 44,
    "start_time": "2021-07-07T15:18:08.553Z"
   },
   {
    "duration": 22,
    "start_time": "2021-07-07T15:18:08.599Z"
   },
   {
    "duration": 61,
    "start_time": "2021-07-07T15:18:08.622Z"
   },
   {
    "duration": 7,
    "start_time": "2021-07-07T15:18:39.457Z"
   },
   {
    "duration": 5,
    "start_time": "2021-07-07T16:05:17.020Z"
   },
   {
    "duration": 5,
    "start_time": "2021-07-07T16:51:28.794Z"
   },
   {
    "duration": 546,
    "start_time": "2021-07-07T16:52:26.306Z"
   },
   {
    "duration": 203,
    "start_time": "2021-07-07T16:52:27.523Z"
   },
   {
    "duration": 85,
    "start_time": "2021-07-07T16:52:27.736Z"
   },
   {
    "duration": 4,
    "start_time": "2021-07-07T16:52:27.899Z"
   },
   {
    "duration": 25,
    "start_time": "2021-07-07T16:52:28.674Z"
   },
   {
    "duration": 8,
    "start_time": "2021-07-07T16:52:32.956Z"
   },
   {
    "duration": 18,
    "start_time": "2021-07-07T16:52:35.616Z"
   },
   {
    "duration": 6,
    "start_time": "2021-07-07T16:52:36.913Z"
   },
   {
    "duration": 11,
    "start_time": "2021-07-07T16:52:40.258Z"
   },
   {
    "duration": 10,
    "start_time": "2021-07-07T16:52:46.251Z"
   },
   {
    "duration": 8,
    "start_time": "2021-07-07T16:52:47.182Z"
   },
   {
    "duration": 27,
    "start_time": "2021-07-07T16:53:20.391Z"
   },
   {
    "duration": 20,
    "start_time": "2021-07-07T16:53:22.022Z"
   },
   {
    "duration": 23,
    "start_time": "2021-07-07T16:53:23.690Z"
   },
   {
    "duration": 8,
    "start_time": "2021-07-07T16:53:24.261Z"
   },
   {
    "duration": 4,
    "start_time": "2021-07-07T16:53:38.733Z"
   },
   {
    "duration": 7,
    "start_time": "2021-07-07T16:53:40.445Z"
   },
   {
    "duration": 11,
    "start_time": "2021-07-07T16:53:41.348Z"
   },
   {
    "duration": 13,
    "start_time": "2021-07-07T16:53:45.250Z"
   },
   {
    "duration": 12,
    "start_time": "2021-07-07T16:53:45.467Z"
   },
   {
    "duration": 4,
    "start_time": "2021-07-07T16:55:32.704Z"
   },
   {
    "duration": 12,
    "start_time": "2021-07-07T16:55:49.012Z"
   },
   {
    "duration": 18,
    "start_time": "2021-07-07T16:55:49.547Z"
   },
   {
    "duration": 611,
    "start_time": "2021-07-07T16:58:35.156Z"
   },
   {
    "duration": 200,
    "start_time": "2021-07-07T16:58:35.770Z"
   },
   {
    "duration": 86,
    "start_time": "2021-07-07T16:58:35.972Z"
   },
   {
    "duration": 3,
    "start_time": "2021-07-07T16:58:36.060Z"
   },
   {
    "duration": 27,
    "start_time": "2021-07-07T16:58:36.065Z"
   },
   {
    "duration": 8,
    "start_time": "2021-07-07T16:58:36.094Z"
   },
   {
    "duration": 17,
    "start_time": "2021-07-07T16:58:36.103Z"
   },
   {
    "duration": 5,
    "start_time": "2021-07-07T16:58:36.123Z"
   },
   {
    "duration": 11,
    "start_time": "2021-07-07T16:58:36.130Z"
   },
   {
    "duration": 7,
    "start_time": "2021-07-07T16:58:36.143Z"
   },
   {
    "duration": 37,
    "start_time": "2021-07-07T16:58:36.152Z"
   },
   {
    "duration": 27,
    "start_time": "2021-07-07T16:58:36.191Z"
   },
   {
    "duration": 19,
    "start_time": "2021-07-07T16:58:36.219Z"
   },
   {
    "duration": 49,
    "start_time": "2021-07-07T16:58:36.240Z"
   },
   {
    "duration": 6,
    "start_time": "2021-07-07T16:58:36.291Z"
   },
   {
    "duration": 3,
    "start_time": "2021-07-07T16:58:36.299Z"
   },
   {
    "duration": 13,
    "start_time": "2021-07-07T16:58:36.304Z"
   },
   {
    "duration": 10,
    "start_time": "2021-07-07T16:58:36.319Z"
   },
   {
    "duration": 10,
    "start_time": "2021-07-07T16:58:36.331Z"
   },
   {
    "duration": 44,
    "start_time": "2021-07-07T16:58:36.343Z"
   },
   {
    "duration": 4,
    "start_time": "2021-07-07T16:58:36.388Z"
   },
   {
    "duration": 13,
    "start_time": "2021-07-07T16:58:36.394Z"
   },
   {
    "duration": 16,
    "start_time": "2021-07-07T16:58:36.410Z"
   },
   {
    "duration": 8,
    "start_time": "2021-07-07T17:02:31.629Z"
   },
   {
    "duration": 8,
    "start_time": "2021-07-07T17:02:34.308Z"
   },
   {
    "duration": 6,
    "start_time": "2021-07-07T17:05:13.483Z"
   },
   {
    "duration": 17,
    "start_time": "2021-07-07T17:05:20.606Z"
   },
   {
    "duration": 7,
    "start_time": "2021-07-07T17:05:34.638Z"
   },
   {
    "duration": 3,
    "start_time": "2021-07-07T17:06:31.883Z"
   },
   {
    "duration": 570,
    "start_time": "2021-07-07T17:06:37.165Z"
   },
   {
    "duration": 174,
    "start_time": "2021-07-07T17:06:37.737Z"
   },
   {
    "duration": 47,
    "start_time": "2021-07-07T17:06:37.913Z"
   },
   {
    "duration": 3,
    "start_time": "2021-07-07T17:06:37.962Z"
   },
   {
    "duration": 27,
    "start_time": "2021-07-07T17:06:37.967Z"
   },
   {
    "duration": 7,
    "start_time": "2021-07-07T17:06:37.996Z"
   },
   {
    "duration": 16,
    "start_time": "2021-07-07T17:06:38.005Z"
   },
   {
    "duration": 6,
    "start_time": "2021-07-07T17:06:38.024Z"
   },
   {
    "duration": 12,
    "start_time": "2021-07-07T17:06:38.031Z"
   },
   {
    "duration": 41,
    "start_time": "2021-07-07T17:06:38.045Z"
   },
   {
    "duration": 8,
    "start_time": "2021-07-07T17:06:38.088Z"
   },
   {
    "duration": 26,
    "start_time": "2021-07-07T17:06:38.098Z"
   },
   {
    "duration": 17,
    "start_time": "2021-07-07T17:06:38.126Z"
   },
   {
    "duration": 43,
    "start_time": "2021-07-07T17:06:38.144Z"
   },
   {
    "duration": 6,
    "start_time": "2021-07-07T17:06:38.188Z"
   },
   {
    "duration": 5,
    "start_time": "2021-07-07T17:06:38.195Z"
   },
   {
    "duration": 9,
    "start_time": "2021-07-07T17:06:38.201Z"
   },
   {
    "duration": 12,
    "start_time": "2021-07-07T17:06:38.212Z"
   },
   {
    "duration": 11,
    "start_time": "2021-07-07T17:06:38.226Z"
   },
   {
    "duration": 47,
    "start_time": "2021-07-07T17:06:38.239Z"
   },
   {
    "duration": 4,
    "start_time": "2021-07-07T17:06:38.288Z"
   },
   {
    "duration": 13,
    "start_time": "2021-07-07T17:06:38.293Z"
   },
   {
    "duration": 5,
    "start_time": "2021-07-07T17:06:38.309Z"
   },
   {
    "duration": 18,
    "start_time": "2021-07-07T17:06:38.325Z"
   },
   {
    "duration": 20,
    "start_time": "2021-07-07T17:07:02.805Z"
   },
   {
    "duration": 19,
    "start_time": "2021-07-07T17:07:08.527Z"
   },
   {
    "duration": 19,
    "start_time": "2021-07-07T17:07:12.758Z"
   },
   {
    "duration": 22,
    "start_time": "2021-07-07T17:07:17.497Z"
   },
   {
    "duration": 19,
    "start_time": "2021-07-07T17:07:19.645Z"
   },
   {
    "duration": 10,
    "start_time": "2021-07-07T17:07:34.239Z"
   },
   {
    "duration": 17,
    "start_time": "2021-07-07T17:07:54.144Z"
   },
   {
    "duration": 14,
    "start_time": "2021-07-07T17:08:14.357Z"
   },
   {
    "duration": 616,
    "start_time": "2021-07-07T17:08:45.254Z"
   },
   {
    "duration": 178,
    "start_time": "2021-07-07T17:08:45.872Z"
   },
   {
    "duration": 60,
    "start_time": "2021-07-07T17:08:46.054Z"
   },
   {
    "duration": 3,
    "start_time": "2021-07-07T17:08:46.116Z"
   },
   {
    "duration": 26,
    "start_time": "2021-07-07T17:08:46.121Z"
   },
   {
    "duration": 7,
    "start_time": "2021-07-07T17:08:46.149Z"
   },
   {
    "duration": 17,
    "start_time": "2021-07-07T17:08:46.158Z"
   },
   {
    "duration": 14,
    "start_time": "2021-07-07T17:08:46.176Z"
   },
   {
    "duration": 17,
    "start_time": "2021-07-07T17:08:46.193Z"
   },
   {
    "duration": 9,
    "start_time": "2021-07-07T17:08:46.211Z"
   },
   {
    "duration": 21,
    "start_time": "2021-07-07T17:08:46.221Z"
   },
   {
    "duration": 49,
    "start_time": "2021-07-07T17:08:46.244Z"
   },
   {
    "duration": 24,
    "start_time": "2021-07-07T17:08:46.295Z"
   },
   {
    "duration": 22,
    "start_time": "2021-07-07T17:08:46.321Z"
   },
   {
    "duration": 6,
    "start_time": "2021-07-07T17:08:46.345Z"
   },
   {
    "duration": 5,
    "start_time": "2021-07-07T17:08:46.353Z"
   },
   {
    "duration": 13,
    "start_time": "2021-07-07T17:08:46.386Z"
   },
   {
    "duration": 12,
    "start_time": "2021-07-07T17:08:46.402Z"
   },
   {
    "duration": 10,
    "start_time": "2021-07-07T17:08:46.415Z"
   },
   {
    "duration": 7,
    "start_time": "2021-07-07T17:08:46.427Z"
   },
   {
    "duration": 8,
    "start_time": "2021-07-07T17:08:46.435Z"
   },
   {
    "duration": 68,
    "start_time": "2021-07-07T17:08:46.446Z"
   },
   {
    "duration": 13,
    "start_time": "2021-07-07T17:08:46.516Z"
   },
   {
    "duration": 78,
    "start_time": "2021-07-07T17:08:46.530Z"
   },
   {
    "duration": 40,
    "start_time": "2021-07-07T17:09:08.185Z"
   },
   {
    "duration": 16,
    "start_time": "2021-07-07T17:09:19.324Z"
   },
   {
    "duration": 21,
    "start_time": "2021-07-07T17:09:23.290Z"
   },
   {
    "duration": 13,
    "start_time": "2021-07-07T17:09:54.812Z"
   },
   {
    "duration": 13,
    "start_time": "2021-07-07T17:10:02.039Z"
   },
   {
    "duration": 10,
    "start_time": "2021-07-07T17:10:29.632Z"
   },
   {
    "duration": 13,
    "start_time": "2021-07-07T17:10:52.372Z"
   },
   {
    "duration": 13,
    "start_time": "2021-07-07T17:11:17.270Z"
   },
   {
    "duration": 13,
    "start_time": "2021-07-07T17:14:59.284Z"
   },
   {
    "duration": 547,
    "start_time": "2021-07-07T17:18:52.403Z"
   },
   {
    "duration": 163,
    "start_time": "2021-07-07T17:18:52.952Z"
   },
   {
    "duration": 44,
    "start_time": "2021-07-07T17:18:53.117Z"
   },
   {
    "duration": 3,
    "start_time": "2021-07-07T17:18:53.162Z"
   },
   {
    "duration": 26,
    "start_time": "2021-07-07T17:18:53.167Z"
   },
   {
    "duration": 6,
    "start_time": "2021-07-07T17:18:53.195Z"
   },
   {
    "duration": 15,
    "start_time": "2021-07-07T17:18:53.203Z"
   },
   {
    "duration": 5,
    "start_time": "2021-07-07T17:18:53.220Z"
   },
   {
    "duration": 11,
    "start_time": "2021-07-07T17:18:53.228Z"
   },
   {
    "duration": 9,
    "start_time": "2021-07-07T17:18:53.241Z"
   },
   {
    "duration": 41,
    "start_time": "2021-07-07T17:18:53.252Z"
   },
   {
    "duration": 33,
    "start_time": "2021-07-07T17:18:53.295Z"
   },
   {
    "duration": 19,
    "start_time": "2021-07-07T17:18:53.330Z"
   },
   {
    "duration": 49,
    "start_time": "2021-07-07T17:18:53.350Z"
   },
   {
    "duration": 5,
    "start_time": "2021-07-07T17:18:53.401Z"
   },
   {
    "duration": 5,
    "start_time": "2021-07-07T17:18:53.408Z"
   },
   {
    "duration": 11,
    "start_time": "2021-07-07T17:18:53.414Z"
   },
   {
    "duration": 9,
    "start_time": "2021-07-07T17:18:53.427Z"
   },
   {
    "duration": 10,
    "start_time": "2021-07-07T17:18:53.437Z"
   },
   {
    "duration": 39,
    "start_time": "2021-07-07T17:18:53.448Z"
   },
   {
    "duration": 26,
    "start_time": "2021-07-07T17:18:55.799Z"
   },
   {
    "duration": 598,
    "start_time": "2021-07-07T17:20:17.862Z"
   },
   {
    "duration": 161,
    "start_time": "2021-07-07T17:20:18.462Z"
   },
   {
    "duration": 45,
    "start_time": "2021-07-07T17:20:18.626Z"
   },
   {
    "duration": 4,
    "start_time": "2021-07-07T17:20:18.673Z"
   },
   {
    "duration": 38,
    "start_time": "2021-07-07T17:20:26.877Z"
   },
   {
    "duration": 7,
    "start_time": "2021-07-07T17:20:37.405Z"
   },
   {
    "duration": 19,
    "start_time": "2021-07-07T17:20:51.534Z"
   },
   {
    "duration": 5,
    "start_time": "2021-07-07T17:20:57.228Z"
   },
   {
    "duration": 7,
    "start_time": "2021-07-07T17:21:08.235Z"
   },
   {
    "duration": 19,
    "start_time": "2021-07-07T17:21:42.158Z"
   },
   {
    "duration": 14,
    "start_time": "2021-07-07T17:21:50.225Z"
   },
   {
    "duration": 22,
    "start_time": "2021-07-07T17:22:54.104Z"
   },
   {
    "duration": 5,
    "start_time": "2021-07-07T17:22:56.371Z"
   },
   {
    "duration": 14,
    "start_time": "2021-07-07T17:22:58.316Z"
   },
   {
    "duration": 5,
    "start_time": "2021-07-07T17:22:58.493Z"
   },
   {
    "duration": 35,
    "start_time": "2021-07-07T17:22:59.666Z"
   },
   {
    "duration": 6,
    "start_time": "2021-07-07T17:23:02.410Z"
   },
   {
    "duration": 611,
    "start_time": "2021-07-07T17:24:59.664Z"
   },
   {
    "duration": 178,
    "start_time": "2021-07-07T17:25:01.945Z"
   },
   {
    "duration": 47,
    "start_time": "2021-07-07T17:25:02.125Z"
   },
   {
    "duration": 2,
    "start_time": "2021-07-07T17:25:07.903Z"
   },
   {
    "duration": 254,
    "start_time": "2021-07-07T17:25:08.232Z"
   },
   {
    "duration": 182,
    "start_time": "2021-07-07T17:25:08.671Z"
   },
   {
    "duration": 6,
    "start_time": "2021-07-07T17:25:13.104Z"
   },
   {
    "duration": 36,
    "start_time": "2021-07-07T17:25:13.662Z"
   },
   {
    "duration": 7,
    "start_time": "2021-07-07T17:25:14.528Z"
   },
   {
    "duration": 24,
    "start_time": "2021-07-07T17:25:27.982Z"
   },
   {
    "duration": 3,
    "start_time": "2021-07-07T17:25:48.982Z"
   },
   {
    "duration": 165,
    "start_time": "2021-07-07T17:25:48.987Z"
   },
   {
    "duration": 50,
    "start_time": "2021-07-07T17:25:49.154Z"
   },
   {
    "duration": 4,
    "start_time": "2021-07-07T17:25:49.206Z"
   },
   {
    "duration": 26,
    "start_time": "2021-07-07T17:25:49.212Z"
   },
   {
    "duration": 7,
    "start_time": "2021-07-07T17:25:49.240Z"
   },
   {
    "duration": 16,
    "start_time": "2021-07-07T17:25:49.249Z"
   },
   {
    "duration": 22,
    "start_time": "2021-07-07T17:25:49.266Z"
   },
   {
    "duration": 16,
    "start_time": "2021-07-07T17:25:49.291Z"
   },
   {
    "duration": 9,
    "start_time": "2021-07-07T17:25:49.309Z"
   },
   {
    "duration": 7,
    "start_time": "2021-07-07T17:25:49.319Z"
   },
   {
    "duration": 28,
    "start_time": "2021-07-07T17:25:49.328Z"
   },
   {
    "duration": 44,
    "start_time": "2021-07-07T17:25:49.357Z"
   },
   {
    "duration": 22,
    "start_time": "2021-07-07T17:25:49.403Z"
   },
   {
    "duration": 7,
    "start_time": "2021-07-07T17:25:49.427Z"
   },
   {
    "duration": 3,
    "start_time": "2021-07-07T17:25:49.436Z"
   },
   {
    "duration": 44,
    "start_time": "2021-07-07T17:25:49.441Z"
   },
   {
    "duration": 12,
    "start_time": "2021-07-07T17:25:49.488Z"
   },
   {
    "duration": 13,
    "start_time": "2021-07-07T17:25:49.502Z"
   },
   {
    "duration": 10,
    "start_time": "2021-07-07T17:25:49.516Z"
   },
   {
    "duration": 62,
    "start_time": "2021-07-07T17:25:49.527Z"
   },
   {
    "duration": 26,
    "start_time": "2021-07-07T17:26:51.809Z"
   },
   {
    "duration": 26,
    "start_time": "2021-07-07T17:26:55.759Z"
   },
   {
    "duration": 26,
    "start_time": "2021-07-07T17:27:04.501Z"
   },
   {
    "duration": 25,
    "start_time": "2021-07-07T17:28:24.859Z"
   },
   {
    "duration": 21,
    "start_time": "2021-07-07T17:28:55.250Z"
   },
   {
    "duration": 21,
    "start_time": "2021-07-07T17:28:58.885Z"
   },
   {
    "duration": 7,
    "start_time": "2021-07-07T17:45:40.972Z"
   },
   {
    "duration": 13,
    "start_time": "2021-07-07T17:45:42.529Z"
   },
   {
    "duration": 27,
    "start_time": "2021-07-07T17:45:51.026Z"
   },
   {
    "duration": 518,
    "start_time": "2021-07-07T17:46:15.532Z"
   },
   {
    "duration": 235,
    "start_time": "2021-07-07T17:46:16.053Z"
   },
   {
    "duration": 80,
    "start_time": "2021-07-07T17:46:16.292Z"
   },
   {
    "duration": 5,
    "start_time": "2021-07-07T17:46:16.373Z"
   },
   {
    "duration": 26,
    "start_time": "2021-07-07T17:46:16.380Z"
   },
   {
    "duration": 7,
    "start_time": "2021-07-07T17:46:16.408Z"
   },
   {
    "duration": 16,
    "start_time": "2021-07-07T17:46:16.418Z"
   },
   {
    "duration": 5,
    "start_time": "2021-07-07T17:46:16.436Z"
   },
   {
    "duration": 13,
    "start_time": "2021-07-07T17:46:16.442Z"
   },
   {
    "duration": 35,
    "start_time": "2021-07-07T17:46:16.456Z"
   },
   {
    "duration": 8,
    "start_time": "2021-07-07T17:46:16.493Z"
   },
   {
    "duration": 28,
    "start_time": "2021-07-07T17:46:16.502Z"
   },
   {
    "duration": 17,
    "start_time": "2021-07-07T17:46:16.532Z"
   },
   {
    "duration": 44,
    "start_time": "2021-07-07T17:46:16.551Z"
   },
   {
    "duration": 6,
    "start_time": "2021-07-07T17:46:16.597Z"
   },
   {
    "duration": 4,
    "start_time": "2021-07-07T17:46:16.605Z"
   },
   {
    "duration": 9,
    "start_time": "2021-07-07T17:46:16.610Z"
   },
   {
    "duration": 9,
    "start_time": "2021-07-07T17:46:16.621Z"
   },
   {
    "duration": 10,
    "start_time": "2021-07-07T17:46:16.632Z"
   },
   {
    "duration": 43,
    "start_time": "2021-07-07T17:46:16.644Z"
   },
   {
    "duration": 26,
    "start_time": "2021-07-07T17:46:16.689Z"
   },
   {
    "duration": 19,
    "start_time": "2021-07-07T17:46:16.718Z"
   },
   {
    "duration": 8,
    "start_time": "2021-07-07T17:46:16.738Z"
   },
   {
    "duration": 43,
    "start_time": "2021-07-07T17:46:16.747Z"
   },
   {
    "duration": 19,
    "start_time": "2021-07-07T17:46:16.791Z"
   },
   {
    "duration": 9,
    "start_time": "2021-07-07T17:46:16.812Z"
   },
   {
    "duration": 60,
    "start_time": "2021-07-07T17:46:16.822Z"
   },
   {
    "duration": -8,
    "start_time": "2021-07-07T17:46:16.892Z"
   },
   {
    "duration": 12,
    "start_time": "2021-07-07T17:48:47.707Z"
   },
   {
    "duration": 553,
    "start_time": "2021-07-07T18:10:09.350Z"
   },
   {
    "duration": 230,
    "start_time": "2021-07-07T18:10:09.905Z"
   },
   {
    "duration": 97,
    "start_time": "2021-07-07T18:10:10.137Z"
   },
   {
    "duration": 5,
    "start_time": "2021-07-07T18:10:10.236Z"
   },
   {
    "duration": 29,
    "start_time": "2021-07-07T18:10:10.242Z"
   },
   {
    "duration": 7,
    "start_time": "2021-07-07T18:10:10.272Z"
   },
   {
    "duration": 15,
    "start_time": "2021-07-07T18:10:10.281Z"
   },
   {
    "duration": 4,
    "start_time": "2021-07-07T18:10:10.299Z"
   },
   {
    "duration": 14,
    "start_time": "2021-07-07T18:10:10.305Z"
   },
   {
    "duration": 8,
    "start_time": "2021-07-07T18:10:10.321Z"
   },
   {
    "duration": 8,
    "start_time": "2021-07-07T18:10:10.331Z"
   },
   {
    "duration": 56,
    "start_time": "2021-07-07T18:10:10.341Z"
   },
   {
    "duration": 19,
    "start_time": "2021-07-07T18:10:10.399Z"
   },
   {
    "duration": 23,
    "start_time": "2021-07-07T18:10:10.419Z"
   },
   {
    "duration": 6,
    "start_time": "2021-07-07T18:10:10.444Z"
   },
   {
    "duration": 9,
    "start_time": "2021-07-07T18:10:10.451Z"
   },
   {
    "duration": 30,
    "start_time": "2021-07-07T18:10:10.462Z"
   },
   {
    "duration": 9,
    "start_time": "2021-07-07T18:10:10.494Z"
   },
   {
    "duration": 14,
    "start_time": "2021-07-07T18:10:10.505Z"
   },
   {
    "duration": 7,
    "start_time": "2021-07-07T18:10:10.521Z"
   },
   {
    "duration": 26,
    "start_time": "2021-07-07T18:10:10.530Z"
   },
   {
    "duration": 44,
    "start_time": "2021-07-07T18:10:10.558Z"
   },
   {
    "duration": 7,
    "start_time": "2021-07-07T18:10:10.605Z"
   },
   {
    "duration": 11,
    "start_time": "2021-07-07T18:10:10.614Z"
   },
   {
    "duration": 19,
    "start_time": "2021-07-07T18:10:10.626Z"
   },
   {
    "duration": 44,
    "start_time": "2021-07-07T18:10:10.646Z"
   },
   {
    "duration": 516,
    "start_time": "2021-07-07T18:14:00.826Z"
   },
   {
    "duration": 230,
    "start_time": "2021-07-07T18:14:01.344Z"
   },
   {
    "duration": 105,
    "start_time": "2021-07-07T18:14:01.576Z"
   },
   {
    "duration": 5,
    "start_time": "2021-07-07T18:14:01.683Z"
   },
   {
    "duration": 46,
    "start_time": "2021-07-07T18:14:01.690Z"
   },
   {
    "duration": 7,
    "start_time": "2021-07-07T18:14:01.738Z"
   },
   {
    "duration": 20,
    "start_time": "2021-07-07T18:14:01.747Z"
   },
   {
    "duration": 16,
    "start_time": "2021-07-07T18:14:01.769Z"
   },
   {
    "duration": 14,
    "start_time": "2021-07-07T18:14:01.787Z"
   },
   {
    "duration": 15,
    "start_time": "2021-07-07T18:14:01.803Z"
   },
   {
    "duration": 12,
    "start_time": "2021-07-07T18:14:01.820Z"
   },
   {
    "duration": 35,
    "start_time": "2021-07-07T18:14:01.833Z"
   },
   {
    "duration": 31,
    "start_time": "2021-07-07T18:14:01.869Z"
   },
   {
    "duration": 37,
    "start_time": "2021-07-07T18:14:01.902Z"
   },
   {
    "duration": 8,
    "start_time": "2021-07-07T18:14:01.942Z"
   },
   {
    "duration": 16,
    "start_time": "2021-07-07T18:14:01.952Z"
   },
   {
    "duration": 13,
    "start_time": "2021-07-07T18:14:01.970Z"
   },
   {
    "duration": 32,
    "start_time": "2021-07-07T18:14:01.985Z"
   },
   {
    "duration": 11,
    "start_time": "2021-07-07T18:14:02.019Z"
   },
   {
    "duration": 22,
    "start_time": "2021-07-07T18:14:02.031Z"
   },
   {
    "duration": 27,
    "start_time": "2021-07-07T18:14:02.055Z"
   },
   {
    "duration": 18,
    "start_time": "2021-07-07T18:14:02.084Z"
   },
   {
    "duration": 18,
    "start_time": "2021-07-07T18:14:02.106Z"
   },
   {
    "duration": 11,
    "start_time": "2021-07-07T18:14:02.126Z"
   },
   {
    "duration": 21,
    "start_time": "2021-07-07T18:14:02.138Z"
   },
   {
    "duration": 32,
    "start_time": "2021-07-07T18:14:02.161Z"
   },
   {
    "duration": 28,
    "start_time": "2021-07-07T18:14:44.295Z"
   },
   {
    "duration": 6,
    "start_time": "2021-07-07T18:15:05.834Z"
   },
   {
    "duration": 511,
    "start_time": "2021-07-07T18:15:41.541Z"
   },
   {
    "duration": 183,
    "start_time": "2021-07-07T18:15:42.054Z"
   },
   {
    "duration": 50,
    "start_time": "2021-07-07T18:15:42.239Z"
   },
   {
    "duration": 5,
    "start_time": "2021-07-07T18:15:42.291Z"
   },
   {
    "duration": 48,
    "start_time": "2021-07-07T18:15:42.297Z"
   },
   {
    "duration": 8,
    "start_time": "2021-07-07T18:15:42.346Z"
   },
   {
    "duration": 17,
    "start_time": "2021-07-07T18:15:42.356Z"
   },
   {
    "duration": 15,
    "start_time": "2021-07-07T18:15:42.375Z"
   },
   {
    "duration": 12,
    "start_time": "2021-07-07T18:15:42.392Z"
   },
   {
    "duration": 7,
    "start_time": "2021-07-07T18:15:42.406Z"
   },
   {
    "duration": 7,
    "start_time": "2021-07-07T18:15:42.415Z"
   },
   {
    "duration": 29,
    "start_time": "2021-07-07T18:15:42.423Z"
   },
   {
    "duration": 43,
    "start_time": "2021-07-07T18:15:42.453Z"
   },
   {
    "duration": 18,
    "start_time": "2021-07-07T18:15:42.497Z"
   },
   {
    "duration": 6,
    "start_time": "2021-07-07T18:15:42.516Z"
   },
   {
    "duration": 3,
    "start_time": "2021-07-07T18:15:42.523Z"
   },
   {
    "duration": 18,
    "start_time": "2021-07-07T18:15:42.528Z"
   },
   {
    "duration": 10,
    "start_time": "2021-07-07T18:15:42.547Z"
   },
   {
    "duration": 36,
    "start_time": "2021-07-07T18:15:42.559Z"
   },
   {
    "duration": 8,
    "start_time": "2021-07-07T18:15:42.597Z"
   },
   {
    "duration": 28,
    "start_time": "2021-07-07T18:15:42.606Z"
   },
   {
    "duration": 52,
    "start_time": "2021-07-07T18:15:42.635Z"
   },
   {
    "duration": 7,
    "start_time": "2021-07-07T18:15:42.690Z"
   },
   {
    "duration": 10,
    "start_time": "2021-07-07T18:15:42.699Z"
   },
   {
    "duration": 19,
    "start_time": "2021-07-07T18:15:42.711Z"
   },
   {
    "duration": 9,
    "start_time": "2021-07-07T18:15:42.732Z"
   },
   {
    "duration": 5,
    "start_time": "2021-07-07T18:15:42.743Z"
   },
   {
    "duration": 1450,
    "start_time": "2021-07-07T18:15:51.984Z"
   },
   {
    "duration": 161,
    "start_time": "2021-07-07T18:15:53.435Z"
   },
   {
    "duration": 124,
    "start_time": "2021-07-07T18:15:53.598Z"
   },
   {
    "duration": 5,
    "start_time": "2021-07-07T18:15:53.724Z"
   },
   {
    "duration": 34,
    "start_time": "2021-07-07T18:15:53.730Z"
   },
   {
    "duration": 7,
    "start_time": "2021-07-07T18:15:53.765Z"
   },
   {
    "duration": 15,
    "start_time": "2021-07-07T18:15:53.773Z"
   },
   {
    "duration": 5,
    "start_time": "2021-07-07T18:15:53.791Z"
   },
   {
    "duration": 19,
    "start_time": "2021-07-07T18:15:53.798Z"
   },
   {
    "duration": 9,
    "start_time": "2021-07-07T18:15:53.818Z"
   },
   {
    "duration": 19,
    "start_time": "2021-07-07T18:15:53.828Z"
   },
   {
    "duration": 27,
    "start_time": "2021-07-07T18:15:53.848Z"
   },
   {
    "duration": 16,
    "start_time": "2021-07-07T18:15:53.884Z"
   },
   {
    "duration": 29,
    "start_time": "2021-07-07T18:15:53.901Z"
   },
   {
    "duration": 5,
    "start_time": "2021-07-07T18:15:53.932Z"
   },
   {
    "duration": 15,
    "start_time": "2021-07-07T18:15:53.939Z"
   },
   {
    "duration": 13,
    "start_time": "2021-07-07T18:15:53.956Z"
   },
   {
    "duration": 20,
    "start_time": "2021-07-07T18:15:53.971Z"
   },
   {
    "duration": 14,
    "start_time": "2021-07-07T18:15:53.992Z"
   },
   {
    "duration": 9,
    "start_time": "2021-07-07T18:15:54.009Z"
   },
   {
    "duration": 28,
    "start_time": "2021-07-07T18:15:54.020Z"
   },
   {
    "duration": 50,
    "start_time": "2021-07-07T18:15:54.051Z"
   },
   {
    "duration": 8,
    "start_time": "2021-07-07T18:15:54.105Z"
   },
   {
    "duration": 11,
    "start_time": "2021-07-07T18:15:54.115Z"
   },
   {
    "duration": 20,
    "start_time": "2021-07-07T18:15:54.128Z"
   },
   {
    "duration": 13,
    "start_time": "2021-07-07T18:15:54.184Z"
   },
   {
    "duration": 7,
    "start_time": "2021-07-07T18:15:54.199Z"
   },
   {
    "duration": 7,
    "start_time": "2021-07-07T18:17:08.042Z"
   },
   {
    "duration": 8,
    "start_time": "2021-07-07T18:17:21.008Z"
   },
   {
    "duration": 7,
    "start_time": "2021-07-07T18:17:29.003Z"
   },
   {
    "duration": 8,
    "start_time": "2021-07-07T18:17:32.492Z"
   },
   {
    "duration": 9,
    "start_time": "2021-07-07T18:17:41.758Z"
   },
   {
    "duration": 255,
    "start_time": "2021-07-07T18:20:20.897Z"
   },
   {
    "duration": 173,
    "start_time": "2021-07-07T18:20:26.636Z"
   },
   {
    "duration": 7,
    "start_time": "2021-07-07T18:21:47.164Z"
   },
   {
    "duration": 254,
    "start_time": "2021-07-07T18:23:08.703Z"
   },
   {
    "duration": 21,
    "start_time": "2021-07-07T18:23:22.506Z"
   },
   {
    "duration": 315,
    "start_time": "2021-07-07T18:25:54.801Z"
   },
   {
    "duration": 34,
    "start_time": "2021-07-07T18:26:51.817Z"
   },
   {
    "duration": 327,
    "start_time": "2021-07-07T18:26:56.147Z"
   },
   {
    "duration": 342,
    "start_time": "2021-07-07T18:27:15.887Z"
   },
   {
    "duration": 302,
    "start_time": "2021-07-07T18:28:18.569Z"
   },
   {
    "duration": 226,
    "start_time": "2021-07-07T18:29:20.879Z"
   },
   {
    "duration": 207,
    "start_time": "2021-07-07T18:29:58.114Z"
   },
   {
    "duration": 140,
    "start_time": "2021-07-07T18:32:04.372Z"
   },
   {
    "duration": 158,
    "start_time": "2021-07-07T18:32:32.508Z"
   },
   {
    "duration": 145,
    "start_time": "2021-07-07T18:32:41.365Z"
   },
   {
    "duration": 132,
    "start_time": "2021-07-07T18:32:45.199Z"
   },
   {
    "duration": 11,
    "start_time": "2021-07-07T18:35:24.679Z"
   },
   {
    "duration": 268,
    "start_time": "2021-07-07T18:36:16.145Z"
   },
   {
    "duration": 227,
    "start_time": "2021-07-07T18:37:04.918Z"
   },
   {
    "duration": 3,
    "start_time": "2021-07-07T18:37:33.012Z"
   },
   {
    "duration": 671,
    "start_time": "2021-07-07T18:37:38.295Z"
   },
   {
    "duration": 54,
    "start_time": "2021-07-07T18:37:53.406Z"
   },
   {
    "duration": 631,
    "start_time": "2021-07-07T18:37:56.463Z"
   },
   {
    "duration": 19,
    "start_time": "2021-07-07T18:39:40.535Z"
   },
   {
    "duration": 20,
    "start_time": "2021-07-07T18:40:12.236Z"
   },
   {
    "duration": 633,
    "start_time": "2021-07-07T18:42:00.398Z"
   },
   {
    "duration": 218,
    "start_time": "2021-07-07T18:42:01.033Z"
   },
   {
    "duration": 49,
    "start_time": "2021-07-07T18:42:01.253Z"
   },
   {
    "duration": 5,
    "start_time": "2021-07-07T18:42:01.303Z"
   },
   {
    "duration": 27,
    "start_time": "2021-07-07T18:42:01.310Z"
   },
   {
    "duration": 8,
    "start_time": "2021-07-07T18:42:01.339Z"
   },
   {
    "duration": 20,
    "start_time": "2021-07-07T18:42:01.348Z"
   },
   {
    "duration": 6,
    "start_time": "2021-07-07T18:42:01.386Z"
   },
   {
    "duration": 16,
    "start_time": "2021-07-07T18:42:01.394Z"
   },
   {
    "duration": 9,
    "start_time": "2021-07-07T18:42:01.411Z"
   },
   {
    "duration": 11,
    "start_time": "2021-07-07T18:42:01.421Z"
   },
   {
    "duration": 31,
    "start_time": "2021-07-07T18:42:01.434Z"
   },
   {
    "duration": 18,
    "start_time": "2021-07-07T18:42:01.485Z"
   },
   {
    "duration": 23,
    "start_time": "2021-07-07T18:42:01.505Z"
   },
   {
    "duration": 6,
    "start_time": "2021-07-07T18:42:01.530Z"
   },
   {
    "duration": 10,
    "start_time": "2021-07-07T18:42:01.538Z"
   },
   {
    "duration": 13,
    "start_time": "2021-07-07T18:42:01.550Z"
   },
   {
    "duration": 24,
    "start_time": "2021-07-07T18:42:01.564Z"
   },
   {
    "duration": 20,
    "start_time": "2021-07-07T18:42:01.590Z"
   },
   {
    "duration": 8,
    "start_time": "2021-07-07T18:42:01.611Z"
   },
   {
    "duration": 31,
    "start_time": "2021-07-07T18:42:01.620Z"
   },
   {
    "duration": 39,
    "start_time": "2021-07-07T18:42:01.653Z"
   },
   {
    "duration": 8,
    "start_time": "2021-07-07T18:42:01.696Z"
   },
   {
    "duration": 13,
    "start_time": "2021-07-07T18:42:01.705Z"
   },
   {
    "duration": 20,
    "start_time": "2021-07-07T18:42:01.720Z"
   },
   {
    "duration": 12,
    "start_time": "2021-07-07T18:42:01.741Z"
   },
   {
    "duration": 35,
    "start_time": "2021-07-07T18:42:01.755Z"
   },
   {
    "duration": 14,
    "start_time": "2021-07-07T18:42:01.792Z"
   },
   {
    "duration": 188,
    "start_time": "2021-07-07T18:42:01.808Z"
   },
   {
    "duration": 19,
    "start_time": "2021-07-07T18:42:01.998Z"
   },
   {
    "duration": 175,
    "start_time": "2021-07-07T18:42:02.019Z"
   },
   {
    "duration": 134,
    "start_time": "2021-07-07T18:42:02.196Z"
   },
   {
    "duration": 10,
    "start_time": "2021-07-07T18:42:02.331Z"
   },
   {
    "duration": 19,
    "start_time": "2021-07-07T18:42:02.343Z"
   },
   {
    "duration": 628,
    "start_time": "2021-07-07T18:46:30.701Z"
   },
   {
    "duration": 183,
    "start_time": "2021-07-07T18:46:31.331Z"
   },
   {
    "duration": 48,
    "start_time": "2021-07-07T18:46:31.516Z"
   },
   {
    "duration": 5,
    "start_time": "2021-07-07T18:46:31.566Z"
   },
   {
    "duration": 28,
    "start_time": "2021-07-07T18:46:31.572Z"
   },
   {
    "duration": 8,
    "start_time": "2021-07-07T18:46:31.602Z"
   },
   {
    "duration": 19,
    "start_time": "2021-07-07T18:46:31.611Z"
   },
   {
    "duration": 6,
    "start_time": "2021-07-07T18:46:31.633Z"
   },
   {
    "duration": 17,
    "start_time": "2021-07-07T18:46:31.642Z"
   },
   {
    "duration": 10,
    "start_time": "2021-07-07T18:46:31.684Z"
   },
   {
    "duration": 9,
    "start_time": "2021-07-07T18:46:31.695Z"
   },
   {
    "duration": 28,
    "start_time": "2021-07-07T18:46:31.705Z"
   },
   {
    "duration": 18,
    "start_time": "2021-07-07T18:46:31.735Z"
   },
   {
    "duration": 48,
    "start_time": "2021-07-07T18:46:31.755Z"
   },
   {
    "duration": 6,
    "start_time": "2021-07-07T18:46:31.804Z"
   },
   {
    "duration": 4,
    "start_time": "2021-07-07T18:46:31.812Z"
   },
   {
    "duration": 9,
    "start_time": "2021-07-07T18:46:31.817Z"
   },
   {
    "duration": 10,
    "start_time": "2021-07-07T18:46:31.827Z"
   },
   {
    "duration": 12,
    "start_time": "2021-07-07T18:46:31.838Z"
   },
   {
    "duration": 39,
    "start_time": "2021-07-07T18:46:31.851Z"
   },
   {
    "duration": 24,
    "start_time": "2021-07-07T18:46:31.892Z"
   },
   {
    "duration": 15,
    "start_time": "2021-07-07T18:46:31.918Z"
   },
   {
    "duration": 7,
    "start_time": "2021-07-07T18:46:31.936Z"
   },
   {
    "duration": 8,
    "start_time": "2021-07-07T18:46:31.944Z"
   },
   {
    "duration": 19,
    "start_time": "2021-07-07T18:46:31.984Z"
   },
   {
    "duration": 10,
    "start_time": "2021-07-07T18:46:32.004Z"
   },
   {
    "duration": 5,
    "start_time": "2021-07-07T18:46:32.016Z"
   },
   {
    "duration": 9,
    "start_time": "2021-07-07T18:46:32.023Z"
   },
   {
    "duration": 199,
    "start_time": "2021-07-07T18:46:32.033Z"
   },
   {
    "duration": 19,
    "start_time": "2021-07-07T18:46:32.234Z"
   },
   {
    "duration": 159,
    "start_time": "2021-07-07T18:46:32.255Z"
   },
   {
    "duration": 134,
    "start_time": "2021-07-07T18:46:32.416Z"
   },
   {
    "duration": 10,
    "start_time": "2021-07-07T18:46:32.552Z"
   },
   {
    "duration": 34,
    "start_time": "2021-07-07T18:46:32.563Z"
   },
   {
    "duration": 1039,
    "start_time": "2021-07-08T08:41:09.419Z"
   },
   {
    "duration": 333,
    "start_time": "2021-07-08T08:41:10.459Z"
   },
   {
    "duration": 173,
    "start_time": "2021-07-08T08:41:10.794Z"
   },
   {
    "duration": 5,
    "start_time": "2021-07-08T08:41:10.968Z"
   },
   {
    "duration": 25,
    "start_time": "2021-07-08T08:41:10.975Z"
   },
   {
    "duration": 9,
    "start_time": "2021-07-08T08:41:11.002Z"
   },
   {
    "duration": 18,
    "start_time": "2021-07-08T08:41:11.013Z"
   },
   {
    "duration": 6,
    "start_time": "2021-07-08T08:41:11.033Z"
   },
   {
    "duration": 44,
    "start_time": "2021-07-08T08:41:11.042Z"
   },
   {
    "duration": 10,
    "start_time": "2021-07-08T08:41:11.088Z"
   },
   {
    "duration": 9,
    "start_time": "2021-07-08T08:41:11.100Z"
   },
   {
    "duration": 27,
    "start_time": "2021-07-08T08:41:11.111Z"
   },
   {
    "duration": 46,
    "start_time": "2021-07-08T08:41:11.140Z"
   },
   {
    "duration": 17,
    "start_time": "2021-07-08T08:41:11.187Z"
   },
   {
    "duration": 6,
    "start_time": "2021-07-08T08:41:11.206Z"
   },
   {
    "duration": 5,
    "start_time": "2021-07-08T08:41:11.213Z"
   },
   {
    "duration": 10,
    "start_time": "2021-07-08T08:41:11.219Z"
   },
   {
    "duration": 9,
    "start_time": "2021-07-08T08:41:11.230Z"
   },
   {
    "duration": 45,
    "start_time": "2021-07-08T08:41:11.241Z"
   },
   {
    "duration": 7,
    "start_time": "2021-07-08T08:41:11.287Z"
   },
   {
    "duration": 24,
    "start_time": "2021-07-08T08:41:11.296Z"
   },
   {
    "duration": 16,
    "start_time": "2021-07-08T08:41:11.322Z"
   },
   {
    "duration": 7,
    "start_time": "2021-07-08T08:41:11.341Z"
   },
   {
    "duration": 41,
    "start_time": "2021-07-08T08:41:11.349Z"
   },
   {
    "duration": 17,
    "start_time": "2021-07-08T08:41:11.391Z"
   },
   {
    "duration": 9,
    "start_time": "2021-07-08T08:41:11.410Z"
   },
   {
    "duration": 5,
    "start_time": "2021-07-08T08:41:11.421Z"
   },
   {
    "duration": 6,
    "start_time": "2021-07-08T08:41:11.428Z"
   },
   {
    "duration": 198,
    "start_time": "2021-07-08T08:41:11.435Z"
   },
   {
    "duration": 18,
    "start_time": "2021-07-08T08:41:11.635Z"
   },
   {
    "duration": 155,
    "start_time": "2021-07-08T08:41:11.655Z"
   },
   {
    "duration": 138,
    "start_time": "2021-07-08T08:41:11.811Z"
   },
   {
    "duration": 10,
    "start_time": "2021-07-08T08:41:11.950Z"
   },
   {
    "duration": 29,
    "start_time": "2021-07-08T08:41:11.961Z"
   },
   {
    "duration": 171,
    "start_time": "2021-07-08T08:47:44.522Z"
   },
   {
    "duration": 124,
    "start_time": "2021-07-08T08:47:46.872Z"
   },
   {
    "duration": 191,
    "start_time": "2021-07-08T08:47:58.148Z"
   },
   {
    "duration": 191,
    "start_time": "2021-07-08T08:48:07.412Z"
   },
   {
    "duration": 261,
    "start_time": "2021-07-08T08:48:10.385Z"
   },
   {
    "duration": 255,
    "start_time": "2021-07-08T08:48:14.494Z"
   },
   {
    "duration": 219,
    "start_time": "2021-07-08T08:48:22.752Z"
   },
   {
    "duration": 173,
    "start_time": "2021-07-08T08:49:06.395Z"
   },
   {
    "duration": 180,
    "start_time": "2021-07-08T08:49:21.011Z"
   },
   {
    "duration": 6,
    "start_time": "2021-07-08T08:50:31.697Z"
   },
   {
    "duration": 10,
    "start_time": "2021-07-08T08:50:47.394Z"
   },
   {
    "duration": 11,
    "start_time": "2021-07-08T08:53:49.332Z"
   },
   {
    "duration": 171,
    "start_time": "2021-07-08T08:54:28.408Z"
   },
   {
    "duration": 636,
    "start_time": "2021-07-08T09:02:48.385Z"
   },
   {
    "duration": 227,
    "start_time": "2021-07-08T09:02:49.023Z"
   },
   {
    "duration": 104,
    "start_time": "2021-07-08T09:02:49.252Z"
   },
   {
    "duration": 5,
    "start_time": "2021-07-08T09:02:49.358Z"
   },
   {
    "duration": 27,
    "start_time": "2021-07-08T09:02:49.365Z"
   },
   {
    "duration": 8,
    "start_time": "2021-07-08T09:02:49.394Z"
   },
   {
    "duration": 18,
    "start_time": "2021-07-08T09:02:49.404Z"
   },
   {
    "duration": 6,
    "start_time": "2021-07-08T09:02:49.424Z"
   },
   {
    "duration": 11,
    "start_time": "2021-07-08T09:02:49.433Z"
   },
   {
    "duration": 13,
    "start_time": "2021-07-08T09:02:49.485Z"
   },
   {
    "duration": 9,
    "start_time": "2021-07-08T09:02:49.500Z"
   },
   {
    "duration": 38,
    "start_time": "2021-07-08T09:02:49.511Z"
   },
   {
    "duration": 42,
    "start_time": "2021-07-08T09:02:49.551Z"
   },
   {
    "duration": 21,
    "start_time": "2021-07-08T09:02:49.594Z"
   },
   {
    "duration": 6,
    "start_time": "2021-07-08T09:02:49.616Z"
   },
   {
    "duration": 3,
    "start_time": "2021-07-08T09:02:49.623Z"
   },
   {
    "duration": 9,
    "start_time": "2021-07-08T09:02:49.628Z"
   },
   {
    "duration": 52,
    "start_time": "2021-07-08T09:02:49.638Z"
   },
   {
    "duration": 11,
    "start_time": "2021-07-08T09:02:49.692Z"
   },
   {
    "duration": 8,
    "start_time": "2021-07-08T09:02:49.704Z"
   },
   {
    "duration": 27,
    "start_time": "2021-07-08T09:02:49.713Z"
   },
   {
    "duration": 59,
    "start_time": "2021-07-08T09:02:49.741Z"
   },
   {
    "duration": 8,
    "start_time": "2021-07-08T09:02:49.803Z"
   },
   {
    "duration": 14,
    "start_time": "2021-07-08T09:02:49.813Z"
   },
   {
    "duration": 20,
    "start_time": "2021-07-08T09:02:49.829Z"
   },
   {
    "duration": 44,
    "start_time": "2021-07-08T09:02:49.851Z"
   },
   {
    "duration": 14,
    "start_time": "2021-07-08T09:02:49.896Z"
   },
   {
    "duration": 221,
    "start_time": "2021-07-08T09:02:49.912Z"
   },
   {
    "duration": 6,
    "start_time": "2021-07-08T09:02:50.134Z"
   },
   {
    "duration": 206,
    "start_time": "2021-07-08T09:02:50.142Z"
   },
   {
    "duration": 19,
    "start_time": "2021-07-08T09:02:50.350Z"
   },
   {
    "duration": 21,
    "start_time": "2021-07-08T09:02:50.370Z"
   },
   {
    "duration": 20,
    "start_time": "2021-07-08T09:02:50.393Z"
   },
   {
    "duration": 5,
    "start_time": "2021-07-08T09:02:50.414Z"
   },
   {
    "duration": 5,
    "start_time": "2021-07-08T09:03:34.173Z"
   },
   {
    "duration": 6,
    "start_time": "2021-07-08T09:04:49.062Z"
   },
   {
    "duration": 9,
    "start_time": "2021-07-08T09:04:50.118Z"
   },
   {
    "duration": 14,
    "start_time": "2021-07-08T09:04:58.512Z"
   },
   {
    "duration": 9,
    "start_time": "2021-07-08T09:05:10.988Z"
   },
   {
    "duration": 11,
    "start_time": "2021-07-08T09:05:11.743Z"
   },
   {
    "duration": 7,
    "start_time": "2021-07-08T09:05:25.677Z"
   },
   {
    "duration": 13,
    "start_time": "2021-07-08T09:05:47.189Z"
   },
   {
    "duration": 13,
    "start_time": "2021-07-08T09:05:54.755Z"
   },
   {
    "duration": 4,
    "start_time": "2021-07-08T09:06:29.189Z"
   },
   {
    "duration": 244,
    "start_time": "2021-07-08T09:06:29.195Z"
   },
   {
    "duration": 91,
    "start_time": "2021-07-08T09:06:29.441Z"
   },
   {
    "duration": 4,
    "start_time": "2021-07-08T09:06:29.534Z"
   },
   {
    "duration": 28,
    "start_time": "2021-07-08T09:06:29.540Z"
   },
   {
    "duration": 6,
    "start_time": "2021-07-08T09:06:29.570Z"
   },
   {
    "duration": 18,
    "start_time": "2021-07-08T09:06:29.578Z"
   },
   {
    "duration": 5,
    "start_time": "2021-07-08T09:06:29.597Z"
   },
   {
    "duration": 13,
    "start_time": "2021-07-08T09:06:29.605Z"
   },
   {
    "duration": 8,
    "start_time": "2021-07-08T09:06:29.620Z"
   },
   {
    "duration": 7,
    "start_time": "2021-07-08T09:06:29.630Z"
   },
   {
    "duration": 63,
    "start_time": "2021-07-08T09:06:29.639Z"
   },
   {
    "duration": 17,
    "start_time": "2021-07-08T09:06:29.704Z"
   },
   {
    "duration": 20,
    "start_time": "2021-07-08T09:06:29.723Z"
   },
   {
    "duration": 6,
    "start_time": "2021-07-08T09:06:29.745Z"
   },
   {
    "duration": 3,
    "start_time": "2021-07-08T09:06:29.752Z"
   },
   {
    "duration": 7,
    "start_time": "2021-07-08T09:06:29.785Z"
   },
   {
    "duration": 11,
    "start_time": "2021-07-08T09:06:29.794Z"
   },
   {
    "duration": 15,
    "start_time": "2021-07-08T09:06:29.807Z"
   },
   {
    "duration": 8,
    "start_time": "2021-07-08T09:06:29.823Z"
   },
   {
    "duration": 70,
    "start_time": "2021-07-08T09:06:29.832Z"
   },
   {
    "duration": 17,
    "start_time": "2021-07-08T09:06:29.903Z"
   },
   {
    "duration": 9,
    "start_time": "2021-07-08T09:06:29.921Z"
   },
   {
    "duration": 9,
    "start_time": "2021-07-08T09:06:29.932Z"
   },
   {
    "duration": 57,
    "start_time": "2021-07-08T09:06:29.942Z"
   },
   {
    "duration": 11,
    "start_time": "2021-07-08T09:06:30.001Z"
   },
   {
    "duration": 19,
    "start_time": "2021-07-08T09:06:30.016Z"
   },
   {
    "duration": 217,
    "start_time": "2021-07-08T09:06:30.037Z"
   },
   {
    "duration": 6,
    "start_time": "2021-07-08T09:06:30.255Z"
   },
   {
    "duration": 205,
    "start_time": "2021-07-08T09:06:30.263Z"
   },
   {
    "duration": 27,
    "start_time": "2021-07-08T09:06:30.470Z"
   },
   {
    "duration": 11,
    "start_time": "2021-07-08T09:06:30.500Z"
   },
   {
    "duration": 31,
    "start_time": "2021-07-08T09:06:30.513Z"
   },
   {
    "duration": 18,
    "start_time": "2021-07-08T09:06:30.546Z"
   },
   {
    "duration": 11,
    "start_time": "2021-07-08T09:06:30.566Z"
   },
   {
    "duration": 19,
    "start_time": "2021-07-08T09:06:30.579Z"
   },
   {
    "duration": 20,
    "start_time": "2021-07-08T09:06:49.466Z"
   },
   {
    "duration": 9,
    "start_time": "2021-07-08T09:06:51.994Z"
   },
   {
    "duration": 20,
    "start_time": "2021-07-08T09:06:52.273Z"
   },
   {
    "duration": 246,
    "start_time": "2021-07-08T09:10:21.272Z"
   },
   {
    "duration": 84,
    "start_time": "2021-07-08T09:10:21.436Z"
   },
   {
    "duration": 7,
    "start_time": "2021-07-08T09:10:37.608Z"
   },
   {
    "duration": 189,
    "start_time": "2021-07-08T09:10:38.573Z"
   },
   {
    "duration": 185,
    "start_time": "2021-07-08T09:10:53.181Z"
   },
   {
    "duration": 11,
    "start_time": "2021-07-08T09:10:59.549Z"
   },
   {
    "duration": 42,
    "start_time": "2021-07-08T09:10:59.709Z"
   },
   {
    "duration": 12,
    "start_time": "2021-07-08T09:11:02.857Z"
   },
   {
    "duration": 28,
    "start_time": "2021-07-08T09:11:10.062Z"
   },
   {
    "duration": 249,
    "start_time": "2021-07-08T09:11:37.388Z"
   },
   {
    "duration": 232,
    "start_time": "2021-07-08T09:11:49.485Z"
   },
   {
    "duration": 453,
    "start_time": "2021-07-08T09:12:01.546Z"
   },
   {
    "duration": 440,
    "start_time": "2021-07-08T09:12:12.347Z"
   },
   {
    "duration": 213,
    "start_time": "2021-07-08T09:13:32.196Z"
   },
   {
    "duration": 172,
    "start_time": "2021-07-08T09:14:07.400Z"
   },
   {
    "duration": 185,
    "start_time": "2021-07-08T09:14:14.905Z"
   },
   {
    "duration": 209,
    "start_time": "2021-07-08T09:14:40.109Z"
   },
   {
    "duration": 201,
    "start_time": "2021-07-08T09:14:54.506Z"
   },
   {
    "duration": 622,
    "start_time": "2021-07-08T09:18:14.497Z"
   },
   {
    "duration": 220,
    "start_time": "2021-07-08T09:18:15.121Z"
   },
   {
    "duration": 79,
    "start_time": "2021-07-08T09:18:15.343Z"
   },
   {
    "duration": 4,
    "start_time": "2021-07-08T09:18:15.425Z"
   },
   {
    "duration": 24,
    "start_time": "2021-07-08T09:18:15.431Z"
   },
   {
    "duration": 8,
    "start_time": "2021-07-08T09:18:15.457Z"
   },
   {
    "duration": 16,
    "start_time": "2021-07-08T09:18:15.466Z"
   },
   {
    "duration": 5,
    "start_time": "2021-07-08T09:18:15.484Z"
   },
   {
    "duration": 10,
    "start_time": "2021-07-08T09:18:15.493Z"
   },
   {
    "duration": 8,
    "start_time": "2021-07-08T09:18:15.504Z"
   },
   {
    "duration": 7,
    "start_time": "2021-07-08T09:18:15.513Z"
   },
   {
    "duration": 26,
    "start_time": "2021-07-08T09:18:15.522Z"
   },
   {
    "duration": 49,
    "start_time": "2021-07-08T09:18:15.550Z"
   },
   {
    "duration": 21,
    "start_time": "2021-07-08T09:18:15.601Z"
   },
   {
    "duration": 8,
    "start_time": "2021-07-08T09:18:15.624Z"
   },
   {
    "duration": 3,
    "start_time": "2021-07-08T09:18:15.634Z"
   },
   {
    "duration": 8,
    "start_time": "2021-07-08T09:18:15.639Z"
   },
   {
    "duration": 45,
    "start_time": "2021-07-08T09:18:15.649Z"
   },
   {
    "duration": 13,
    "start_time": "2021-07-08T09:18:15.696Z"
   },
   {
    "duration": 10,
    "start_time": "2021-07-08T09:18:15.711Z"
   },
   {
    "duration": 64,
    "start_time": "2021-07-08T09:18:15.722Z"
   },
   {
    "duration": 19,
    "start_time": "2021-07-08T09:18:15.788Z"
   },
   {
    "duration": 9,
    "start_time": "2021-07-08T09:18:15.809Z"
   },
   {
    "duration": 9,
    "start_time": "2021-07-08T09:18:15.820Z"
   },
   {
    "duration": 18,
    "start_time": "2021-07-08T09:18:15.831Z"
   },
   {
    "duration": 43,
    "start_time": "2021-07-08T09:18:15.851Z"
   },
   {
    "duration": 12,
    "start_time": "2021-07-08T09:18:15.897Z"
   },
   {
    "duration": 219,
    "start_time": "2021-07-08T09:18:15.911Z"
   },
   {
    "duration": 8,
    "start_time": "2021-07-08T09:18:16.132Z"
   },
   {
    "duration": 199,
    "start_time": "2021-07-08T09:18:16.141Z"
   },
   {
    "duration": 18,
    "start_time": "2021-07-08T09:18:16.341Z"
   },
   {
    "duration": 24,
    "start_time": "2021-07-08T09:18:16.361Z"
   },
   {
    "duration": 24,
    "start_time": "2021-07-08T09:18:16.387Z"
   },
   {
    "duration": 211,
    "start_time": "2021-07-08T09:18:16.413Z"
   },
   {
    "duration": 18,
    "start_time": "2021-07-08T09:18:16.626Z"
   },
   {
    "duration": 596,
    "start_time": "2021-07-08T10:06:33.623Z"
   },
   {
    "duration": 181,
    "start_time": "2021-07-08T10:06:34.221Z"
   },
   {
    "duration": 176,
    "start_time": "2021-07-08T10:06:34.635Z"
   },
   {
    "duration": 239,
    "start_time": "2021-07-08T10:06:55.572Z"
   },
   {
    "duration": 6,
    "start_time": "2021-07-08T10:06:57.687Z"
   },
   {
    "duration": 4,
    "start_time": "2021-07-08T10:07:03.956Z"
   },
   {
    "duration": 4,
    "start_time": "2021-07-08T10:07:10.376Z"
   },
   {
    "duration": 4,
    "start_time": "2021-07-08T10:17:19.889Z"
   },
   {
    "duration": 3,
    "start_time": "2021-07-08T10:19:19.407Z"
   },
   {
    "duration": 197,
    "start_time": "2021-07-08T10:19:19.412Z"
   },
   {
    "duration": 127,
    "start_time": "2021-07-08T10:19:19.611Z"
   },
   {
    "duration": 4,
    "start_time": "2021-07-08T10:19:19.740Z"
   },
   {
    "duration": 27,
    "start_time": "2021-07-08T10:19:19.746Z"
   },
   {
    "duration": 7,
    "start_time": "2021-07-08T10:19:19.775Z"
   },
   {
    "duration": 30,
    "start_time": "2021-07-08T10:19:19.784Z"
   },
   {
    "duration": 7,
    "start_time": "2021-07-08T10:19:19.817Z"
   },
   {
    "duration": 26,
    "start_time": "2021-07-08T10:19:19.826Z"
   },
   {
    "duration": 18,
    "start_time": "2021-07-08T10:19:19.854Z"
   },
   {
    "duration": 14,
    "start_time": "2021-07-08T10:19:19.874Z"
   },
   {
    "duration": 48,
    "start_time": "2021-07-08T10:19:19.890Z"
   },
   {
    "duration": 17,
    "start_time": "2021-07-08T10:19:19.940Z"
   },
   {
    "duration": 38,
    "start_time": "2021-07-08T10:19:19.959Z"
   },
   {
    "duration": 8,
    "start_time": "2021-07-08T10:19:19.999Z"
   },
   {
    "duration": 15,
    "start_time": "2021-07-08T10:19:20.009Z"
   },
   {
    "duration": 22,
    "start_time": "2021-07-08T10:19:20.026Z"
   },
   {
    "duration": 10,
    "start_time": "2021-07-08T10:19:20.050Z"
   },
   {
    "duration": 10,
    "start_time": "2021-07-08T10:19:20.062Z"
   },
   {
    "duration": 20,
    "start_time": "2021-07-08T10:19:20.073Z"
   },
   {
    "duration": 29,
    "start_time": "2021-07-08T10:19:20.095Z"
   },
   {
    "duration": 17,
    "start_time": "2021-07-08T10:19:20.126Z"
   },
   {
    "duration": 40,
    "start_time": "2021-07-08T10:19:20.146Z"
   },
   {
    "duration": 15,
    "start_time": "2021-07-08T10:19:20.189Z"
   },
   {
    "duration": 19,
    "start_time": "2021-07-08T10:19:20.206Z"
   },
   {
    "duration": 10,
    "start_time": "2021-07-08T10:19:20.226Z"
   },
   {
    "duration": 11,
    "start_time": "2021-07-08T10:19:20.238Z"
   },
   {
    "duration": 297,
    "start_time": "2021-07-08T10:19:20.250Z"
   },
   {
    "duration": 6,
    "start_time": "2021-07-08T10:19:20.549Z"
   },
   {
    "duration": 191,
    "start_time": "2021-07-08T10:19:20.557Z"
   },
   {
    "duration": 19,
    "start_time": "2021-07-08T10:19:20.750Z"
   },
   {
    "duration": 20,
    "start_time": "2021-07-08T10:19:20.771Z"
   },
   {
    "duration": 15,
    "start_time": "2021-07-08T10:19:20.793Z"
   },
   {
    "duration": 222,
    "start_time": "2021-07-08T10:19:20.809Z"
   },
   {
    "duration": 20,
    "start_time": "2021-07-08T10:19:21.033Z"
   },
   {
    "duration": 27,
    "start_time": "2021-07-08T10:45:04.055Z"
   },
   {
    "duration": 8,
    "start_time": "2021-07-08T10:45:08.478Z"
   },
   {
    "duration": 8,
    "start_time": "2021-07-08T10:45:31.982Z"
   },
   {
    "duration": 10,
    "start_time": "2021-07-08T10:46:01.221Z"
   },
   {
    "duration": 17,
    "start_time": "2021-07-08T10:46:40.011Z"
   },
   {
    "duration": 193,
    "start_time": "2021-07-08T10:48:19.471Z"
   },
   {
    "duration": 225,
    "start_time": "2021-07-08T10:49:26.480Z"
   },
   {
    "duration": 204,
    "start_time": "2021-07-08T10:49:59.992Z"
   },
   {
    "duration": 435,
    "start_time": "2021-07-08T10:50:06.779Z"
   },
   {
    "duration": 199,
    "start_time": "2021-07-08T10:50:14.891Z"
   },
   {
    "duration": 204,
    "start_time": "2021-07-08T10:50:18.501Z"
   },
   {
    "duration": 244,
    "start_time": "2021-07-08T10:50:23.359Z"
   },
   {
    "duration": 192,
    "start_time": "2021-07-08T10:50:29.135Z"
   },
   {
    "duration": 218,
    "start_time": "2021-07-08T10:50:33.092Z"
   },
   {
    "duration": 207,
    "start_time": "2021-07-08T10:52:45.381Z"
   },
   {
    "duration": 5,
    "start_time": "2021-07-08T10:53:34.641Z"
   },
   {
    "duration": 196,
    "start_time": "2021-07-08T10:53:41.478Z"
   },
   {
    "duration": 43,
    "start_time": "2021-07-08T10:53:50.335Z"
   },
   {
    "duration": 32,
    "start_time": "2021-07-08T10:53:55.294Z"
   },
   {
    "duration": 55,
    "start_time": "2021-07-08T10:54:09.675Z"
   },
   {
    "duration": 16,
    "start_time": "2021-07-08T10:54:12.260Z"
   },
   {
    "duration": 15,
    "start_time": "2021-07-08T10:54:49.150Z"
   },
   {
    "duration": 20,
    "start_time": "2021-07-08T10:56:07.596Z"
   },
   {
    "duration": 16,
    "start_time": "2021-07-08T10:58:26.276Z"
   },
   {
    "duration": 22,
    "start_time": "2021-07-08T10:59:00.486Z"
   },
   {
    "duration": 18,
    "start_time": "2021-07-08T11:02:09.653Z"
   },
   {
    "duration": 10,
    "start_time": "2021-07-08T11:03:44.331Z"
   },
   {
    "duration": 10,
    "start_time": "2021-07-08T11:03:54.055Z"
   },
   {
    "duration": 12,
    "start_time": "2021-07-08T11:04:41.967Z"
   },
   {
    "duration": 24,
    "start_time": "2021-07-08T11:07:30.732Z"
   },
   {
    "duration": 6,
    "start_time": "2021-07-08T11:07:37.364Z"
   },
   {
    "duration": 16,
    "start_time": "2021-07-08T11:08:01.819Z"
   },
   {
    "duration": 17,
    "start_time": "2021-07-08T11:09:47.488Z"
   },
   {
    "duration": 246,
    "start_time": "2021-07-08T11:10:00.830Z"
   },
   {
    "duration": 18,
    "start_time": "2021-07-08T11:13:55.195Z"
   },
   {
    "duration": 204,
    "start_time": "2021-07-08T11:14:04.951Z"
   },
   {
    "duration": 19,
    "start_time": "2021-07-08T11:15:10.613Z"
   },
   {
    "duration": 680,
    "start_time": "2021-07-08T11:16:25.793Z"
   },
   {
    "duration": 451,
    "start_time": "2021-07-08T11:16:40.313Z"
   },
   {
    "duration": 469,
    "start_time": "2021-07-08T11:17:21.286Z"
   },
   {
    "duration": 20,
    "start_time": "2021-07-08T11:19:12.554Z"
   },
   {
    "duration": 35,
    "start_time": "2021-07-08T11:20:05.484Z"
   },
   {
    "duration": 53,
    "start_time": "2021-07-08T11:21:40.050Z"
   },
   {
    "duration": 13,
    "start_time": "2021-07-08T11:22:26.059Z"
   },
   {
    "duration": 19,
    "start_time": "2021-07-08T11:22:47.419Z"
   },
   {
    "duration": 25,
    "start_time": "2021-07-08T11:23:19.958Z"
   },
   {
    "duration": 29,
    "start_time": "2021-07-08T11:23:25.415Z"
   },
   {
    "duration": 10,
    "start_time": "2021-07-08T11:24:45.138Z"
   },
   {
    "duration": 19,
    "start_time": "2021-07-08T11:24:54.498Z"
   },
   {
    "duration": 12,
    "start_time": "2021-07-08T11:25:32.225Z"
   },
   {
    "duration": 19,
    "start_time": "2021-07-08T11:25:37.092Z"
   },
   {
    "duration": 17,
    "start_time": "2021-07-08T11:25:58.116Z"
   },
   {
    "duration": 15,
    "start_time": "2021-07-08T11:26:02.258Z"
   },
   {
    "duration": 8,
    "start_time": "2021-07-08T11:26:59.682Z"
   },
   {
    "duration": 184,
    "start_time": "2021-07-08T11:27:21.894Z"
   },
   {
    "duration": 8,
    "start_time": "2021-07-08T11:27:23.824Z"
   },
   {
    "duration": 202,
    "start_time": "2021-07-08T11:27:23.962Z"
   },
   {
    "duration": 360,
    "start_time": "2021-07-08T11:28:33.215Z"
   },
   {
    "duration": 231,
    "start_time": "2021-07-08T11:32:05.542Z"
   },
   {
    "duration": 607,
    "start_time": "2021-07-08T11:36:27.854Z"
   },
   {
    "duration": 241,
    "start_time": "2021-07-08T11:36:28.463Z"
   },
   {
    "duration": 67,
    "start_time": "2021-07-08T11:36:28.709Z"
   },
   {
    "duration": 5,
    "start_time": "2021-07-08T11:36:28.778Z"
   },
   {
    "duration": 32,
    "start_time": "2021-07-08T11:36:28.784Z"
   },
   {
    "duration": 11,
    "start_time": "2021-07-08T11:36:28.819Z"
   },
   {
    "duration": 20,
    "start_time": "2021-07-08T11:36:28.834Z"
   },
   {
    "duration": 36,
    "start_time": "2021-07-08T11:36:28.857Z"
   },
   {
    "duration": 16,
    "start_time": "2021-07-08T11:36:28.895Z"
   },
   {
    "duration": 14,
    "start_time": "2021-07-08T11:36:28.913Z"
   },
   {
    "duration": 9,
    "start_time": "2021-07-08T11:36:28.930Z"
   },
   {
    "duration": 55,
    "start_time": "2021-07-08T11:36:28.941Z"
   },
   {
    "duration": 27,
    "start_time": "2021-07-08T11:36:28.999Z"
   },
   {
    "duration": 30,
    "start_time": "2021-07-08T11:36:29.028Z"
   },
   {
    "duration": 31,
    "start_time": "2021-07-08T11:36:29.060Z"
   },
   {
    "duration": 3,
    "start_time": "2021-07-08T11:36:29.093Z"
   },
   {
    "duration": 12,
    "start_time": "2021-07-08T11:36:29.099Z"
   },
   {
    "duration": 11,
    "start_time": "2021-07-08T11:36:29.112Z"
   },
   {
    "duration": 12,
    "start_time": "2021-07-08T11:36:29.125Z"
   },
   {
    "duration": 9,
    "start_time": "2021-07-08T11:36:29.139Z"
   },
   {
    "duration": 31,
    "start_time": "2021-07-08T11:36:29.191Z"
   },
   {
    "duration": 17,
    "start_time": "2021-07-08T11:36:29.226Z"
   },
   {
    "duration": 7,
    "start_time": "2021-07-08T11:36:29.245Z"
   },
   {
    "duration": 10,
    "start_time": "2021-07-08T11:36:29.254Z"
   },
   {
    "duration": 30,
    "start_time": "2021-07-08T11:36:29.292Z"
   },
   {
    "duration": 11,
    "start_time": "2021-07-08T11:36:29.324Z"
   },
   {
    "duration": 11,
    "start_time": "2021-07-08T11:36:29.337Z"
   },
   {
    "duration": 230,
    "start_time": "2021-07-08T11:36:29.349Z"
   },
   {
    "duration": 13,
    "start_time": "2021-07-08T11:36:29.588Z"
   },
   {
    "duration": 205,
    "start_time": "2021-07-08T11:36:29.603Z"
   },
   {
    "duration": 20,
    "start_time": "2021-07-08T11:36:29.810Z"
   },
   {
    "duration": 9,
    "start_time": "2021-07-08T11:36:29.832Z"
   },
   {
    "duration": 16,
    "start_time": "2021-07-08T11:36:29.843Z"
   },
   {
    "duration": 283,
    "start_time": "2021-07-08T11:36:29.861Z"
   },
   {
    "duration": 50,
    "start_time": "2021-07-08T11:36:30.146Z"
   },
   {
    "duration": 14,
    "start_time": "2021-07-08T11:36:30.198Z"
   },
   {
    "duration": 11,
    "start_time": "2021-07-08T11:36:30.214Z"
   },
   {
    "duration": 245,
    "start_time": "2021-07-08T11:36:30.227Z"
   },
   {
    "duration": 439,
    "start_time": "2021-07-08T11:36:30.474Z"
   },
   {
    "duration": 210,
    "start_time": "2021-07-08T11:36:30.915Z"
   },
   {
    "duration": 15,
    "start_time": "2021-07-08T11:36:31.127Z"
   },
   {
    "duration": 17,
    "start_time": "2021-07-08T11:38:20.451Z"
   },
   {
    "duration": 642,
    "start_time": "2021-07-08T11:46:17.881Z"
   },
   {
    "duration": 210,
    "start_time": "2021-07-08T11:46:18.525Z"
   },
   {
    "duration": 104,
    "start_time": "2021-07-08T11:46:18.741Z"
   },
   {
    "duration": 8,
    "start_time": "2021-07-08T11:46:18.847Z"
   },
   {
    "duration": 25,
    "start_time": "2021-07-08T11:46:18.857Z"
   },
   {
    "duration": 14,
    "start_time": "2021-07-08T11:46:18.884Z"
   },
   {
    "duration": 22,
    "start_time": "2021-07-08T11:46:18.900Z"
   },
   {
    "duration": 5,
    "start_time": "2021-07-08T11:46:18.924Z"
   },
   {
    "duration": 13,
    "start_time": "2021-07-08T11:46:18.931Z"
   },
   {
    "duration": 45,
    "start_time": "2021-07-08T11:46:18.946Z"
   },
   {
    "duration": 12,
    "start_time": "2021-07-08T11:46:18.993Z"
   },
   {
    "duration": 38,
    "start_time": "2021-07-08T11:46:19.006Z"
   },
   {
    "duration": 50,
    "start_time": "2021-07-08T11:46:19.046Z"
   },
   {
    "duration": 29,
    "start_time": "2021-07-08T11:46:19.099Z"
   },
   {
    "duration": 7,
    "start_time": "2021-07-08T11:46:19.130Z"
   },
   {
    "duration": 3,
    "start_time": "2021-07-08T11:46:19.139Z"
   },
   {
    "duration": 11,
    "start_time": "2021-07-08T11:46:19.144Z"
   },
   {
    "duration": 40,
    "start_time": "2021-07-08T11:46:19.157Z"
   },
   {
    "duration": 15,
    "start_time": "2021-07-08T11:46:19.199Z"
   },
   {
    "duration": 10,
    "start_time": "2021-07-08T11:46:19.217Z"
   },
   {
    "duration": 68,
    "start_time": "2021-07-08T11:46:19.230Z"
   },
   {
    "duration": 17,
    "start_time": "2021-07-08T11:46:19.301Z"
   },
   {
    "duration": 7,
    "start_time": "2021-07-08T11:46:19.321Z"
   },
   {
    "duration": 11,
    "start_time": "2021-07-08T11:46:19.330Z"
   },
   {
    "duration": 59,
    "start_time": "2021-07-08T11:46:19.343Z"
   },
   {
    "duration": 17,
    "start_time": "2021-07-08T11:46:19.405Z"
   },
   {
    "duration": 16,
    "start_time": "2021-07-08T11:46:19.424Z"
   },
   {
    "duration": 252,
    "start_time": "2021-07-08T11:46:19.443Z"
   },
   {
    "duration": 9,
    "start_time": "2021-07-08T11:46:19.697Z"
   },
   {
    "duration": 224,
    "start_time": "2021-07-08T11:46:19.708Z"
   },
   {
    "duration": 21,
    "start_time": "2021-07-08T11:46:19.934Z"
   },
   {
    "duration": 9,
    "start_time": "2021-07-08T11:46:19.956Z"
   },
   {
    "duration": 32,
    "start_time": "2021-07-08T11:46:19.967Z"
   },
   {
    "duration": 288,
    "start_time": "2021-07-08T11:46:20.004Z"
   },
   {
    "duration": 23,
    "start_time": "2021-07-08T11:46:20.300Z"
   },
   {
    "duration": 11,
    "start_time": "2021-07-08T11:46:20.325Z"
   },
   {
    "duration": 11,
    "start_time": "2021-07-08T11:46:20.339Z"
   },
   {
    "duration": 259,
    "start_time": "2021-07-08T11:46:20.352Z"
   },
   {
    "duration": 438,
    "start_time": "2021-07-08T11:46:20.613Z"
   },
   {
    "duration": 207,
    "start_time": "2021-07-08T11:46:21.054Z"
   },
   {
    "duration": 27,
    "start_time": "2021-07-08T11:46:21.262Z"
   },
   {
    "duration": 19,
    "start_time": "2021-07-08T11:46:21.291Z"
   },
   {
    "duration": 820,
    "start_time": "2021-07-08T11:49:01.655Z"
   },
   {
    "duration": 372,
    "start_time": "2021-07-08T11:49:02.478Z"
   },
   {
    "duration": 98,
    "start_time": "2021-07-08T11:49:02.853Z"
   },
   {
    "duration": 6,
    "start_time": "2021-07-08T11:49:02.953Z"
   },
   {
    "duration": 39,
    "start_time": "2021-07-08T11:49:02.960Z"
   },
   {
    "duration": 9,
    "start_time": "2021-07-08T11:49:03.003Z"
   },
   {
    "duration": 23,
    "start_time": "2021-07-08T11:49:03.014Z"
   },
   {
    "duration": 6,
    "start_time": "2021-07-08T11:49:03.041Z"
   },
   {
    "duration": 20,
    "start_time": "2021-07-08T11:49:03.049Z"
   },
   {
    "duration": 18,
    "start_time": "2021-07-08T11:49:03.084Z"
   },
   {
    "duration": 14,
    "start_time": "2021-07-08T11:49:03.104Z"
   },
   {
    "duration": 39,
    "start_time": "2021-07-08T11:49:03.119Z"
   },
   {
    "duration": 38,
    "start_time": "2021-07-08T11:49:03.160Z"
   },
   {
    "duration": 26,
    "start_time": "2021-07-08T11:49:03.200Z"
   },
   {
    "duration": 7,
    "start_time": "2021-07-08T11:49:03.227Z"
   },
   {
    "duration": 4,
    "start_time": "2021-07-08T11:49:03.236Z"
   },
   {
    "duration": 15,
    "start_time": "2021-07-08T11:49:03.243Z"
   },
   {
    "duration": 21,
    "start_time": "2021-07-08T11:49:03.285Z"
   },
   {
    "duration": 17,
    "start_time": "2021-07-08T11:49:03.309Z"
   },
   {
    "duration": 10,
    "start_time": "2021-07-08T11:49:03.328Z"
   },
   {
    "duration": 65,
    "start_time": "2021-07-08T11:49:03.340Z"
   },
   {
    "duration": 18,
    "start_time": "2021-07-08T11:49:03.407Z"
   },
   {
    "duration": 8,
    "start_time": "2021-07-08T11:49:03.428Z"
   },
   {
    "duration": 15,
    "start_time": "2021-07-08T11:49:03.438Z"
   },
   {
    "duration": 40,
    "start_time": "2021-07-08T11:49:03.455Z"
   },
   {
    "duration": 12,
    "start_time": "2021-07-08T11:49:03.497Z"
   },
   {
    "duration": 29,
    "start_time": "2021-07-08T11:49:03.511Z"
   },
   {
    "duration": 285,
    "start_time": "2021-07-08T11:49:03.542Z"
   },
   {
    "duration": 8,
    "start_time": "2021-07-08T11:49:03.829Z"
   },
   {
    "duration": 227,
    "start_time": "2021-07-08T11:49:03.838Z"
   },
   {
    "duration": 40,
    "start_time": "2021-07-08T11:49:04.066Z"
   },
   {
    "duration": 10,
    "start_time": "2021-07-08T11:49:04.108Z"
   },
   {
    "duration": 26,
    "start_time": "2021-07-08T11:49:04.121Z"
   },
   {
    "duration": 290,
    "start_time": "2021-07-08T11:49:04.149Z"
   },
   {
    "duration": 26,
    "start_time": "2021-07-08T11:49:04.441Z"
   },
   {
    "duration": 31,
    "start_time": "2021-07-08T11:49:04.470Z"
   },
   {
    "duration": 14,
    "start_time": "2021-07-08T11:49:04.503Z"
   },
   {
    "duration": 259,
    "start_time": "2021-07-08T11:49:04.521Z"
   },
   {
    "duration": 480,
    "start_time": "2021-07-08T11:49:04.782Z"
   },
   {
    "duration": 225,
    "start_time": "2021-07-08T11:49:05.264Z"
   },
   {
    "duration": 22,
    "start_time": "2021-07-08T11:49:05.491Z"
   },
   {
    "duration": 24,
    "start_time": "2021-07-08T11:49:05.515Z"
   },
   {
    "duration": 634,
    "start_time": "2021-07-08T11:52:24.960Z"
   },
   {
    "duration": 199,
    "start_time": "2021-07-08T11:52:25.599Z"
   },
   {
    "duration": 106,
    "start_time": "2021-07-08T11:52:25.803Z"
   },
   {
    "duration": 7,
    "start_time": "2021-07-08T11:52:25.911Z"
   },
   {
    "duration": 29,
    "start_time": "2021-07-08T11:52:25.920Z"
   },
   {
    "duration": 7,
    "start_time": "2021-07-08T11:52:25.951Z"
   },
   {
    "duration": 26,
    "start_time": "2021-07-08T11:52:25.961Z"
   },
   {
    "duration": 11,
    "start_time": "2021-07-08T11:52:25.990Z"
   },
   {
    "duration": 29,
    "start_time": "2021-07-08T11:52:26.005Z"
   },
   {
    "duration": 9,
    "start_time": "2021-07-08T11:52:26.036Z"
   },
   {
    "duration": 8,
    "start_time": "2021-07-08T11:52:26.047Z"
   },
   {
    "duration": 63,
    "start_time": "2021-07-08T11:52:26.057Z"
   },
   {
    "duration": 17,
    "start_time": "2021-07-08T11:52:26.122Z"
   },
   {
    "duration": 43,
    "start_time": "2021-07-08T11:52:26.142Z"
   },
   {
    "duration": 17,
    "start_time": "2021-07-08T11:52:26.187Z"
   },
   {
    "duration": 5,
    "start_time": "2021-07-08T11:52:26.206Z"
   },
   {
    "duration": 12,
    "start_time": "2021-07-08T11:52:26.212Z"
   },
   {
    "duration": 11,
    "start_time": "2021-07-08T11:52:26.226Z"
   },
   {
    "duration": 12,
    "start_time": "2021-07-08T11:52:26.238Z"
   },
   {
    "duration": 38,
    "start_time": "2021-07-08T11:52:26.252Z"
   },
   {
    "duration": 40,
    "start_time": "2021-07-08T11:52:26.292Z"
   },
   {
    "duration": 17,
    "start_time": "2021-07-08T11:52:26.336Z"
   },
   {
    "duration": 39,
    "start_time": "2021-07-08T11:52:26.355Z"
   },
   {
    "duration": 11,
    "start_time": "2021-07-08T11:52:26.395Z"
   },
   {
    "duration": 23,
    "start_time": "2021-07-08T11:52:26.408Z"
   },
   {
    "duration": 12,
    "start_time": "2021-07-08T11:52:26.432Z"
   },
   {
    "duration": 41,
    "start_time": "2021-07-08T11:52:26.446Z"
   },
   {
    "duration": 215,
    "start_time": "2021-07-08T11:52:26.493Z"
   },
   {
    "duration": 8,
    "start_time": "2021-07-08T11:52:26.710Z"
   },
   {
    "duration": 228,
    "start_time": "2021-07-08T11:52:26.720Z"
   },
   {
    "duration": 18,
    "start_time": "2021-07-08T11:52:26.950Z"
   },
   {
    "duration": 35,
    "start_time": "2021-07-08T11:52:26.969Z"
   },
   {
    "duration": 23,
    "start_time": "2021-07-08T11:52:27.006Z"
   },
   {
    "duration": 258,
    "start_time": "2021-07-08T11:52:27.030Z"
   },
   {
    "duration": 24,
    "start_time": "2021-07-08T11:52:27.290Z"
   },
   {
    "duration": 12,
    "start_time": "2021-07-08T11:52:27.316Z"
   },
   {
    "duration": 10,
    "start_time": "2021-07-08T11:52:27.329Z"
   },
   {
    "duration": 298,
    "start_time": "2021-07-08T11:52:27.341Z"
   },
   {
    "duration": 436,
    "start_time": "2021-07-08T11:52:27.641Z"
   },
   {
    "duration": 216,
    "start_time": "2021-07-08T11:52:28.079Z"
   },
   {
    "duration": 20,
    "start_time": "2021-07-08T11:52:28.297Z"
   },
   {
    "duration": 17,
    "start_time": "2021-07-08T11:52:28.319Z"
   },
   {
    "duration": 599,
    "start_time": "2022-01-24T08:06:20.697Z"
   },
   {
    "duration": 280,
    "start_time": "2022-01-24T08:06:22.449Z"
   },
   {
    "duration": 3,
    "start_time": "2022-01-24T08:06:31.943Z"
   },
   {
    "duration": 439,
    "start_time": "2022-01-24T08:06:33.369Z"
   },
   {
    "duration": 107,
    "start_time": "2022-01-24T08:06:56.625Z"
   },
   {
    "duration": 109,
    "start_time": "2022-01-24T08:07:04.441Z"
   },
   {
    "duration": 8,
    "start_time": "2022-01-24T08:07:13.985Z"
   },
   {
    "duration": 12,
    "start_time": "2022-01-24T08:12:27.265Z"
   },
   {
    "duration": 6,
    "start_time": "2022-01-24T08:12:42.282Z"
   },
   {
    "duration": 11,
    "start_time": "2022-01-24T08:13:08.970Z"
   },
   {
    "duration": 6,
    "start_time": "2022-01-24T08:13:27.834Z"
   },
   {
    "duration": 3207,
    "start_time": "2022-01-24T08:15:01.442Z"
   },
   {
    "duration": 3,
    "start_time": "2022-01-24T08:17:22.563Z"
   },
   {
    "duration": 120,
    "start_time": "2022-01-24T08:17:22.568Z"
   },
   {
    "duration": 7,
    "start_time": "2022-01-24T08:17:22.690Z"
   },
   {
    "duration": 15,
    "start_time": "2022-01-24T08:17:22.699Z"
   },
   {
    "duration": 6,
    "start_time": "2022-01-24T08:17:22.715Z"
   },
   {
    "duration": 802,
    "start_time": "2022-01-24T08:17:22.723Z"
   },
   {
    "duration": 703,
    "start_time": "2022-01-24T08:17:30.155Z"
   },
   {
    "duration": 12,
    "start_time": "2022-01-24T08:22:22.204Z"
   },
   {
    "duration": 5,
    "start_time": "2022-01-24T08:22:33.284Z"
   },
   {
    "duration": 12,
    "start_time": "2022-01-24T08:23:11.171Z"
   },
   {
    "duration": 5,
    "start_time": "2022-01-24T08:23:50.995Z"
   },
   {
    "duration": 5,
    "start_time": "2022-01-24T08:24:18.556Z"
   },
   {
    "duration": 5,
    "start_time": "2022-01-24T08:26:00.821Z"
   },
   {
    "duration": 5,
    "start_time": "2022-01-24T08:26:14.365Z"
   },
   {
    "duration": 5,
    "start_time": "2022-01-24T08:26:22.796Z"
   },
   {
    "duration": 7,
    "start_time": "2022-01-24T08:26:31.835Z"
   },
   {
    "duration": 61,
    "start_time": "2022-01-24T08:33:09.500Z"
   },
   {
    "duration": 178,
    "start_time": "2022-01-24T08:33:21.029Z"
   },
   {
    "duration": 3,
    "start_time": "2022-01-24T08:33:49.156Z"
   },
   {
    "duration": 3,
    "start_time": "2022-01-24T08:33:52.213Z"
   },
   {
    "duration": 183,
    "start_time": "2022-01-24T08:34:03.868Z"
   },
   {
    "duration": 205,
    "start_time": "2022-01-24T08:37:32.597Z"
   },
   {
    "duration": 5,
    "start_time": "2022-01-24T08:40:09.397Z"
   },
   {
    "duration": 8,
    "start_time": "2022-01-24T08:42:28.990Z"
   },
   {
    "duration": 4,
    "start_time": "2022-01-24T08:42:39.685Z"
   },
   {
    "duration": 6,
    "start_time": "2022-01-24T08:43:06.421Z"
   },
   {
    "duration": 5,
    "start_time": "2022-01-24T08:43:19.333Z"
   },
   {
    "duration": 6,
    "start_time": "2022-01-24T08:43:21.077Z"
   },
   {
    "duration": 1468,
    "start_time": "2022-01-24T08:49:49.885Z"
   },
   {
    "duration": 3115,
    "start_time": "2022-01-24T08:52:44.006Z"
   },
   {
    "duration": 185,
    "start_time": "2022-01-24T08:54:10.686Z"
   },
   {
    "duration": 16,
    "start_time": "2022-01-24T08:54:21.767Z"
   },
   {
    "duration": 13,
    "start_time": "2022-01-24T08:57:23.485Z"
   },
   {
    "duration": 10,
    "start_time": "2022-01-24T08:57:30.918Z"
   },
   {
    "duration": 192,
    "start_time": "2022-01-24T08:57:37.350Z"
   },
   {
    "duration": 18,
    "start_time": "2022-01-24T08:58:36.488Z"
   },
   {
    "duration": 362,
    "start_time": "2022-01-24T09:07:21.486Z"
   },
   {
    "duration": 190,
    "start_time": "2022-01-24T09:07:38.374Z"
   },
   {
    "duration": 6,
    "start_time": "2022-01-24T09:07:57.174Z"
   },
   {
    "duration": 6,
    "start_time": "2022-01-24T09:08:05.197Z"
   },
   {
    "duration": 4,
    "start_time": "2022-01-24T09:14:23.687Z"
   },
   {
    "duration": 12,
    "start_time": "2022-01-24T09:14:38.430Z"
   },
   {
    "duration": 6,
    "start_time": "2022-01-24T09:15:07.134Z"
   },
   {
    "duration": 11,
    "start_time": "2022-01-24T09:15:19.487Z"
   },
   {
    "duration": 12,
    "start_time": "2022-01-24T09:16:15.487Z"
   },
   {
    "duration": 199,
    "start_time": "2022-01-24T09:16:22.095Z"
   },
   {
    "duration": 13,
    "start_time": "2022-01-24T09:19:31.839Z"
   },
   {
    "duration": 11,
    "start_time": "2022-01-24T09:19:44.399Z"
   },
   {
    "duration": 588,
    "start_time": "2022-01-24T09:24:52.980Z"
   },
   {
    "duration": 31,
    "start_time": "2022-01-24T09:27:10.236Z"
   },
   {
    "duration": 186,
    "start_time": "2022-01-24T09:29:34.058Z"
   },
   {
    "duration": 2,
    "start_time": "2022-01-24T09:30:20.462Z"
   },
   {
    "duration": 126,
    "start_time": "2022-01-24T09:30:20.466Z"
   },
   {
    "duration": 7,
    "start_time": "2022-01-24T09:30:20.595Z"
   },
   {
    "duration": 21,
    "start_time": "2022-01-24T09:30:20.603Z"
   },
   {
    "duration": 5,
    "start_time": "2022-01-24T09:30:20.626Z"
   },
   {
    "duration": 1393,
    "start_time": "2022-01-24T09:30:20.633Z"
   },
   {
    "duration": 140,
    "start_time": "2022-01-24T09:30:21.888Z"
   },
   {
    "duration": 130,
    "start_time": "2022-01-24T09:30:21.899Z"
   },
   {
    "duration": 127,
    "start_time": "2022-01-24T09:30:21.903Z"
   },
   {
    "duration": 119,
    "start_time": "2022-01-24T09:30:21.912Z"
   },
   {
    "duration": 16,
    "start_time": "2022-01-24T09:30:28.843Z"
   },
   {
    "duration": 5,
    "start_time": "2022-01-24T09:30:31.251Z"
   },
   {
    "duration": 6,
    "start_time": "2022-01-24T09:30:33.891Z"
   },
   {
    "duration": 180,
    "start_time": "2022-01-24T09:30:35.434Z"
   },
   {
    "duration": 183,
    "start_time": "2022-01-24T09:30:47.763Z"
   },
   {
    "duration": 30,
    "start_time": "2022-01-24T09:32:02.955Z"
   },
   {
    "duration": 32,
    "start_time": "2022-01-24T09:32:22.579Z"
   },
   {
    "duration": 187,
    "start_time": "2022-01-24T09:34:05.147Z"
   },
   {
    "duration": 10,
    "start_time": "2022-01-24T09:34:50.818Z"
   },
   {
    "duration": 41,
    "start_time": "2022-01-24T09:39:06.794Z"
   },
   {
    "duration": 10,
    "start_time": "2022-01-24T09:39:20.306Z"
   },
   {
    "duration": 13,
    "start_time": "2022-01-24T09:39:52.786Z"
   },
   {
    "duration": 14,
    "start_time": "2022-01-24T09:39:55.569Z"
   },
   {
    "duration": 26,
    "start_time": "2022-01-24T09:44:04.226Z"
   },
   {
    "duration": 178,
    "start_time": "2022-01-24T09:44:19.682Z"
   },
   {
    "duration": 19,
    "start_time": "2022-01-24T09:44:29.850Z"
   },
   {
    "duration": 13,
    "start_time": "2022-01-24T09:45:18.579Z"
   },
   {
    "duration": 25,
    "start_time": "2022-01-24T09:45:26.738Z"
   },
   {
    "duration": 16,
    "start_time": "2022-01-24T09:46:38.722Z"
   },
   {
    "duration": 64,
    "start_time": "2022-01-24T09:48:13.401Z"
   },
   {
    "duration": 11,
    "start_time": "2022-01-24T09:48:53.106Z"
   },
   {
    "duration": 10,
    "start_time": "2022-01-24T09:49:44.877Z"
   },
   {
    "duration": 15,
    "start_time": "2022-01-24T09:50:28.585Z"
   },
   {
    "duration": 15,
    "start_time": "2022-01-24T09:51:35.450Z"
   },
   {
    "duration": 15,
    "start_time": "2022-01-24T09:57:17.819Z"
   },
   {
    "duration": 15,
    "start_time": "2022-01-24T09:57:54.458Z"
   },
   {
    "duration": 15,
    "start_time": "2022-01-24T09:58:51.507Z"
   },
   {
    "duration": 10,
    "start_time": "2022-01-24T09:59:46.578Z"
   },
   {
    "duration": 15,
    "start_time": "2022-01-24T10:00:05.894Z"
   },
   {
    "duration": 14,
    "start_time": "2022-01-24T10:00:39.187Z"
   },
   {
    "duration": 22,
    "start_time": "2022-01-24T10:01:06.897Z"
   },
   {
    "duration": 10,
    "start_time": "2022-01-24T10:02:26.300Z"
   },
   {
    "duration": 20,
    "start_time": "2022-01-24T10:04:03.914Z"
   },
   {
    "duration": 16,
    "start_time": "2022-01-24T10:05:39.844Z"
   },
   {
    "duration": 107,
    "start_time": "2022-01-24T10:07:29.916Z"
   },
   {
    "duration": 7,
    "start_time": "2022-01-24T10:07:36.843Z"
   },
   {
    "duration": 552,
    "start_time": "2022-01-24T13:31:27.424Z"
   },
   {
    "duration": 699,
    "start_time": "2022-01-24T13:31:32.194Z"
   },
   {
    "duration": 299,
    "start_time": "2022-01-24T13:31:32.896Z"
   },
   {
    "duration": 9,
    "start_time": "2022-01-24T13:31:33.198Z"
   },
   {
    "duration": 27,
    "start_time": "2022-01-24T13:31:33.210Z"
   },
   {
    "duration": 8,
    "start_time": "2022-01-24T13:31:33.240Z"
   },
   {
    "duration": 1993,
    "start_time": "2022-01-24T13:31:33.265Z"
   },
   {
    "duration": 1643,
    "start_time": "2022-01-24T13:31:33.619Z"
   },
   {
    "duration": 1630,
    "start_time": "2022-01-24T13:31:33.634Z"
   },
   {
    "duration": 1627,
    "start_time": "2022-01-24T13:31:33.639Z"
   },
   {
    "duration": 1626,
    "start_time": "2022-01-24T13:31:33.643Z"
   },
   {
    "duration": 1624,
    "start_time": "2022-01-24T13:31:33.647Z"
   },
   {
    "duration": 1617,
    "start_time": "2022-01-24T13:31:33.656Z"
   },
   {
    "duration": 1617,
    "start_time": "2022-01-24T13:31:33.659Z"
   },
   {
    "duration": 28,
    "start_time": "2022-01-24T13:31:42.352Z"
   },
   {
    "duration": 6,
    "start_time": "2022-01-24T13:31:44.904Z"
   },
   {
    "duration": 5,
    "start_time": "2022-01-24T13:31:51.992Z"
   },
   {
    "duration": 7,
    "start_time": "2022-01-24T13:31:53.879Z"
   },
   {
    "duration": 18,
    "start_time": "2022-01-24T13:31:55.567Z"
   },
   {
    "duration": 30,
    "start_time": "2022-01-24T13:31:57.983Z"
   },
   {
    "duration": 17,
    "start_time": "2022-01-24T13:32:01.399Z"
   },
   {
    "duration": 38,
    "start_time": "2022-01-24T13:32:04.216Z"
   },
   {
    "duration": 30,
    "start_time": "2022-01-24T14:30:44.021Z"
   },
   {
    "duration": 322,
    "start_time": "2022-01-24T16:56:16.356Z"
   },
   {
    "duration": 758,
    "start_time": "2022-01-24T16:56:26.277Z"
   },
   {
    "duration": 141,
    "start_time": "2022-01-24T16:56:27.037Z"
   },
   {
    "duration": 8,
    "start_time": "2022-01-24T16:56:27.181Z"
   },
   {
    "duration": 23,
    "start_time": "2022-01-24T16:56:27.192Z"
   },
   {
    "duration": 8,
    "start_time": "2022-01-24T16:56:27.218Z"
   },
   {
    "duration": 3271,
    "start_time": "2022-01-24T16:56:27.228Z"
   },
   {
    "duration": 666,
    "start_time": "2022-01-24T16:56:29.836Z"
   },
   {
    "duration": 653,
    "start_time": "2022-01-24T16:56:29.850Z"
   },
   {
    "duration": 646,
    "start_time": "2022-01-24T16:56:29.859Z"
   },
   {
    "duration": 633,
    "start_time": "2022-01-24T16:56:29.874Z"
   },
   {
    "duration": 627,
    "start_time": "2022-01-24T16:56:29.881Z"
   },
   {
    "duration": 620,
    "start_time": "2022-01-24T16:56:29.889Z"
   },
   {
    "duration": 613,
    "start_time": "2022-01-24T16:56:29.898Z"
   },
   {
    "duration": 27,
    "start_time": "2022-01-24T16:56:36.882Z"
   },
   {
    "duration": 5,
    "start_time": "2022-01-24T16:56:39.264Z"
   },
   {
    "duration": 7,
    "start_time": "2022-01-24T16:56:41.392Z"
   },
   {
    "duration": 274,
    "start_time": "2022-01-24T16:56:43.748Z"
   },
   {
    "duration": 5,
    "start_time": "2022-01-24T16:57:15.272Z"
   },
   {
    "duration": 10,
    "start_time": "2022-01-24T17:08:15.381Z"
   },
   {
    "duration": 31,
    "start_time": "2022-01-24T17:08:20.281Z"
   },
   {
    "duration": 36,
    "start_time": "2022-01-24T17:08:52.517Z"
   },
   {
    "duration": 30,
    "start_time": "2022-01-24T17:10:18.753Z"
   },
   {
    "duration": 22,
    "start_time": "2022-01-24T17:13:02.213Z"
   },
   {
    "duration": 17,
    "start_time": "2022-01-24T17:13:50.418Z"
   },
   {
    "duration": 15,
    "start_time": "2022-01-24T17:14:07.629Z"
   },
   {
    "duration": 17,
    "start_time": "2022-01-24T17:14:13.328Z"
   },
   {
    "duration": 25,
    "start_time": "2022-01-24T17:16:00.209Z"
   },
   {
    "duration": 23,
    "start_time": "2022-01-24T17:16:55.773Z"
   },
   {
    "duration": 18,
    "start_time": "2022-01-24T17:18:34.129Z"
   },
   {
    "duration": 34,
    "start_time": "2022-01-24T17:18:36.809Z"
   },
   {
    "duration": 4,
    "start_time": "2022-01-24T17:19:14.053Z"
   },
   {
    "duration": 160,
    "start_time": "2022-01-24T17:19:14.061Z"
   },
   {
    "duration": 9,
    "start_time": "2022-01-24T17:19:14.224Z"
   },
   {
    "duration": 16,
    "start_time": "2022-01-24T17:19:14.236Z"
   },
   {
    "duration": 7,
    "start_time": "2022-01-24T17:19:14.254Z"
   },
   {
    "duration": 1834,
    "start_time": "2022-01-24T17:19:14.264Z"
   },
   {
    "duration": 698,
    "start_time": "2022-01-24T17:19:15.402Z"
   },
   {
    "duration": 692,
    "start_time": "2022-01-24T17:19:15.410Z"
   },
   {
    "duration": 684,
    "start_time": "2022-01-24T17:19:15.419Z"
   },
   {
    "duration": 672,
    "start_time": "2022-01-24T17:19:15.433Z"
   },
   {
    "duration": 669,
    "start_time": "2022-01-24T17:19:15.438Z"
   },
   {
    "duration": 663,
    "start_time": "2022-01-24T17:19:15.445Z"
   },
   {
    "duration": 658,
    "start_time": "2022-01-24T17:19:15.452Z"
   },
   {
    "duration": 652,
    "start_time": "2022-01-24T17:19:15.459Z"
   },
   {
    "duration": 28,
    "start_time": "2022-01-24T17:19:21.025Z"
   },
   {
    "duration": 6,
    "start_time": "2022-01-24T17:19:24.404Z"
   },
   {
    "duration": 7,
    "start_time": "2022-01-24T17:19:26.712Z"
   },
   {
    "duration": 19,
    "start_time": "2022-01-24T17:19:28.572Z"
   },
   {
    "duration": 30,
    "start_time": "2022-01-24T17:19:31.209Z"
   },
   {
    "duration": 296,
    "start_time": "2022-01-24T17:19:48.752Z"
   },
   {
    "duration": 26,
    "start_time": "2022-01-24T17:20:01.681Z"
   },
   {
    "duration": 15,
    "start_time": "2022-01-24T17:20:17.733Z"
   },
   {
    "duration": 39,
    "start_time": "2022-01-24T17:20:22.580Z"
   },
   {
    "duration": 25,
    "start_time": "2022-01-24T17:22:02.621Z"
   },
   {
    "duration": 18,
    "start_time": "2022-01-24T17:29:50.003Z"
   },
   {
    "duration": 33,
    "start_time": "2022-01-24T17:29:53.963Z"
   },
   {
    "duration": 31,
    "start_time": "2022-01-24T17:30:17.961Z"
   },
   {
    "duration": 19,
    "start_time": "2022-01-24T17:30:30.665Z"
   },
   {
    "duration": 31,
    "start_time": "2022-01-24T17:31:09.325Z"
   },
   {
    "duration": 36,
    "start_time": "2022-01-24T17:33:01.017Z"
   },
   {
    "duration": 18,
    "start_time": "2022-01-24T17:33:14.997Z"
   },
   {
    "duration": 33,
    "start_time": "2022-01-24T17:33:18.185Z"
   },
   {
    "duration": 4,
    "start_time": "2022-01-24T17:33:30.758Z"
   },
   {
    "duration": 190,
    "start_time": "2022-01-24T17:33:30.766Z"
   },
   {
    "duration": 11,
    "start_time": "2022-01-24T17:33:30.960Z"
   },
   {
    "duration": 25,
    "start_time": "2022-01-24T17:33:30.975Z"
   },
   {
    "duration": 21,
    "start_time": "2022-01-24T17:33:31.004Z"
   },
   {
    "duration": 3780,
    "start_time": "2022-01-24T17:33:31.029Z"
   },
   {
    "duration": 692,
    "start_time": "2022-01-24T17:33:34.121Z"
   },
   {
    "duration": 675,
    "start_time": "2022-01-24T17:33:34.140Z"
   },
   {
    "duration": 669,
    "start_time": "2022-01-24T17:33:34.148Z"
   },
   {
    "duration": 663,
    "start_time": "2022-01-24T17:33:34.156Z"
   },
   {
    "duration": 650,
    "start_time": "2022-01-24T17:33:34.171Z"
   },
   {
    "duration": 644,
    "start_time": "2022-01-24T17:33:34.179Z"
   },
   {
    "duration": 639,
    "start_time": "2022-01-24T17:33:34.185Z"
   },
   {
    "duration": 634,
    "start_time": "2022-01-24T17:33:34.192Z"
   },
   {
    "duration": 23,
    "start_time": "2022-01-24T17:33:42.369Z"
   },
   {
    "duration": 6,
    "start_time": "2022-01-24T17:33:44.750Z"
   },
   {
    "duration": 8,
    "start_time": "2022-01-24T17:33:48.713Z"
   },
   {
    "duration": 18,
    "start_time": "2022-01-24T17:33:50.663Z"
   },
   {
    "duration": 32,
    "start_time": "2022-01-24T17:33:52.960Z"
   },
   {
    "duration": 26,
    "start_time": "2022-01-24T17:34:08.357Z"
   },
   {
    "duration": 16,
    "start_time": "2022-01-24T17:34:12.473Z"
   },
   {
    "duration": 50,
    "start_time": "2022-01-24T17:34:23.937Z"
   },
   {
    "duration": 28,
    "start_time": "2022-01-24T17:37:39.365Z"
   },
   {
    "duration": 12,
    "start_time": "2022-01-24T17:38:51.522Z"
   },
   {
    "duration": 24,
    "start_time": "2022-01-24T17:42:22.617Z"
   },
   {
    "duration": 219,
    "start_time": "2022-01-25T12:44:55.320Z"
   },
   {
    "duration": 578,
    "start_time": "2022-01-25T12:44:58.288Z"
   },
   {
    "duration": 130,
    "start_time": "2022-01-25T12:44:58.868Z"
   },
   {
    "duration": 18,
    "start_time": "2022-01-25T12:44:59.001Z"
   },
   {
    "duration": 27,
    "start_time": "2022-01-25T12:44:59.021Z"
   },
   {
    "duration": 10,
    "start_time": "2022-01-25T12:44:59.049Z"
   },
   {
    "duration": 11,
    "start_time": "2022-01-25T12:44:59.061Z"
   },
   {
    "duration": 2160,
    "start_time": "2022-01-25T12:44:59.074Z"
   },
   {
    "duration": -59,
    "start_time": "2022-01-25T12:45:01.296Z"
   },
   {
    "duration": -70,
    "start_time": "2022-01-25T12:45:01.308Z"
   },
   {
    "duration": -72,
    "start_time": "2022-01-25T12:45:01.311Z"
   },
   {
    "duration": -73,
    "start_time": "2022-01-25T12:45:01.313Z"
   },
   {
    "duration": -77,
    "start_time": "2022-01-25T12:45:01.318Z"
   },
   {
    "duration": -83,
    "start_time": "2022-01-25T12:45:01.325Z"
   },
   {
    "duration": -83,
    "start_time": "2022-01-25T12:45:01.326Z"
   },
   {
    "duration": 16,
    "start_time": "2022-01-25T12:46:03.374Z"
   },
   {
    "duration": 4,
    "start_time": "2022-01-25T12:46:05.496Z"
   },
   {
    "duration": 5,
    "start_time": "2022-01-25T12:46:07.455Z"
   },
   {
    "duration": 12,
    "start_time": "2022-01-25T12:46:09.215Z"
   },
   {
    "duration": 20,
    "start_time": "2022-01-25T12:46:11.294Z"
   },
   {
    "duration": 14,
    "start_time": "2022-01-25T12:46:17.414Z"
   },
   {
    "duration": 27,
    "start_time": "2022-01-25T12:46:19.910Z"
   },
   {
    "duration": 4579,
    "start_time": "2022-01-25T13:07:31.175Z"
   },
   {
    "duration": 7,
    "start_time": "2022-01-25T13:08:22.328Z"
   },
   {
    "duration": 185,
    "start_time": "2022-01-25T13:09:58.311Z"
   },
   {
    "duration": 10,
    "start_time": "2022-01-25T13:11:13.616Z"
   },
   {
    "duration": 10,
    "start_time": "2022-01-25T13:11:55.217Z"
   },
   {
    "duration": 7,
    "start_time": "2022-01-25T13:12:06.928Z"
   },
   {
    "duration": 19,
    "start_time": "2022-01-25T13:12:33.472Z"
   },
   {
    "duration": 14,
    "start_time": "2022-01-25T13:19:49.392Z"
   },
   {
    "duration": 22,
    "start_time": "2022-01-25T13:20:41.479Z"
   },
   {
    "duration": 11,
    "start_time": "2022-01-25T13:21:29.144Z"
   },
   {
    "duration": 20,
    "start_time": "2022-01-25T13:21:39.991Z"
   },
   {
    "duration": 12,
    "start_time": "2022-01-25T13:22:11.352Z"
   },
   {
    "duration": 10,
    "start_time": "2022-01-25T13:23:03.455Z"
   },
   {
    "duration": 21,
    "start_time": "2022-01-25T13:23:08.743Z"
   },
   {
    "duration": 7,
    "start_time": "2022-01-25T13:32:00.743Z"
   },
   {
    "duration": 5,
    "start_time": "2022-01-25T13:32:14.247Z"
   },
   {
    "duration": 5,
    "start_time": "2022-01-25T13:32:44.255Z"
   },
   {
    "duration": 21,
    "start_time": "2022-01-25T13:33:07.023Z"
   },
   {
    "duration": 6,
    "start_time": "2022-01-25T13:33:16.935Z"
   },
   {
    "duration": 3,
    "start_time": "2022-01-25T13:33:22.586Z"
   },
   {
    "duration": 117,
    "start_time": "2022-01-25T13:33:22.591Z"
   },
   {
    "duration": 6,
    "start_time": "2022-01-25T13:33:22.710Z"
   },
   {
    "duration": 9,
    "start_time": "2022-01-25T13:33:22.718Z"
   },
   {
    "duration": 11,
    "start_time": "2022-01-25T13:33:22.728Z"
   },
   {
    "duration": 6,
    "start_time": "2022-01-25T13:33:22.740Z"
   },
   {
    "duration": 1195,
    "start_time": "2022-01-25T13:33:22.747Z"
   },
   {
    "duration": -54,
    "start_time": "2022-01-25T13:33:23.998Z"
   },
   {
    "duration": -63,
    "start_time": "2022-01-25T13:33:24.008Z"
   },
   {
    "duration": -65,
    "start_time": "2022-01-25T13:33:24.011Z"
   },
   {
    "duration": -67,
    "start_time": "2022-01-25T13:33:24.014Z"
   },
   {
    "duration": -68,
    "start_time": "2022-01-25T13:33:24.016Z"
   },
   {
    "duration": -71,
    "start_time": "2022-01-25T13:33:24.021Z"
   },
   {
    "duration": -73,
    "start_time": "2022-01-25T13:33:24.024Z"
   },
   {
    "duration": -74,
    "start_time": "2022-01-25T13:33:24.026Z"
   },
   {
    "duration": -75,
    "start_time": "2022-01-25T13:33:24.028Z"
   },
   {
    "duration": -76,
    "start_time": "2022-01-25T13:33:24.030Z"
   },
   {
    "duration": -76,
    "start_time": "2022-01-25T13:33:24.031Z"
   },
   {
    "duration": -77,
    "start_time": "2022-01-25T13:33:24.033Z"
   },
   {
    "duration": 3,
    "start_time": "2022-01-25T13:33:34.241Z"
   },
   {
    "duration": 132,
    "start_time": "2022-01-25T13:33:34.247Z"
   },
   {
    "duration": 6,
    "start_time": "2022-01-25T13:33:34.382Z"
   },
   {
    "duration": 15,
    "start_time": "2022-01-25T13:33:34.389Z"
   },
   {
    "duration": 11,
    "start_time": "2022-01-25T13:33:34.406Z"
   },
   {
    "duration": 20,
    "start_time": "2022-01-25T13:33:34.419Z"
   },
   {
    "duration": 10,
    "start_time": "2022-01-25T13:33:34.441Z"
   },
   {
    "duration": 20,
    "start_time": "2022-01-25T13:33:34.453Z"
   },
   {
    "duration": 6,
    "start_time": "2022-01-25T13:33:34.475Z"
   },
   {
    "duration": 16,
    "start_time": "2022-01-25T13:33:34.483Z"
   },
   {
    "duration": 25,
    "start_time": "2022-01-25T13:33:34.501Z"
   },
   {
    "duration": 19,
    "start_time": "2022-01-25T13:33:34.527Z"
   },
   {
    "duration": 16,
    "start_time": "2022-01-25T13:33:34.548Z"
   },
   {
    "duration": 24,
    "start_time": "2022-01-25T13:33:34.566Z"
   },
   {
    "duration": 9,
    "start_time": "2022-01-25T13:33:34.597Z"
   },
   {
    "duration": 24,
    "start_time": "2022-01-25T13:33:34.608Z"
   },
   {
    "duration": 10,
    "start_time": "2022-01-25T13:33:34.634Z"
   },
   {
    "duration": 24,
    "start_time": "2022-01-25T13:33:34.645Z"
   },
   {
    "duration": 29,
    "start_time": "2022-01-25T13:33:34.670Z"
   },
   {
    "duration": 8,
    "start_time": "2022-01-25T13:38:11.383Z"
   },
   {
    "duration": 6,
    "start_time": "2022-01-25T13:38:26.822Z"
   },
   {
    "duration": 13,
    "start_time": "2022-01-25T13:42:37.263Z"
   },
   {
    "duration": 6,
    "start_time": "2022-01-25T13:42:39.134Z"
   },
   {
    "duration": 10,
    "start_time": "2022-01-25T13:43:40.255Z"
   },
   {
    "duration": 6,
    "start_time": "2022-01-25T13:44:09.403Z"
   },
   {
    "duration": 13,
    "start_time": "2022-01-25T13:44:30.279Z"
   },
   {
    "duration": 8,
    "start_time": "2022-01-25T13:50:42.332Z"
   },
   {
    "duration": 6,
    "start_time": "2022-01-25T13:51:02.607Z"
   },
   {
    "duration": 7,
    "start_time": "2022-01-25T13:53:26.654Z"
   },
   {
    "duration": 7,
    "start_time": "2022-01-25T13:53:28.608Z"
   },
   {
    "duration": 231,
    "start_time": "2022-01-25T14:06:51.589Z"
   },
   {
    "duration": 251,
    "start_time": "2022-01-25T14:07:02.415Z"
   },
   {
    "duration": 188,
    "start_time": "2022-01-25T14:09:11.126Z"
   },
   {
    "duration": 4,
    "start_time": "2022-01-25T14:11:44.741Z"
   },
   {
    "duration": 14,
    "start_time": "2022-01-25T14:12:11.605Z"
   },
   {
    "duration": 27,
    "start_time": "2022-01-25T14:13:32.348Z"
   },
   {
    "duration": 2,
    "start_time": "2022-01-25T14:13:38.753Z"
   },
   {
    "duration": 114,
    "start_time": "2022-01-25T14:13:38.757Z"
   },
   {
    "duration": 7,
    "start_time": "2022-01-25T14:13:38.873Z"
   },
   {
    "duration": 13,
    "start_time": "2022-01-25T14:13:38.882Z"
   },
   {
    "duration": 16,
    "start_time": "2022-01-25T14:13:38.896Z"
   },
   {
    "duration": 5,
    "start_time": "2022-01-25T14:13:38.913Z"
   },
   {
    "duration": 14,
    "start_time": "2022-01-25T14:13:38.920Z"
   },
   {
    "duration": 543,
    "start_time": "2022-01-25T14:13:58.661Z"
   },
   {
    "duration": 122,
    "start_time": "2022-01-25T14:13:59.206Z"
   },
   {
    "duration": 7,
    "start_time": "2022-01-25T14:13:59.330Z"
   },
   {
    "duration": 12,
    "start_time": "2022-01-25T14:13:59.339Z"
   },
   {
    "duration": 12,
    "start_time": "2022-01-25T14:13:59.353Z"
   },
   {
    "duration": 5,
    "start_time": "2022-01-25T14:13:59.366Z"
   },
   {
    "duration": 10,
    "start_time": "2022-01-25T14:13:59.373Z"
   },
   {
    "duration": 4,
    "start_time": "2022-01-25T14:14:05.714Z"
   },
   {
    "duration": 17,
    "start_time": "2022-01-25T14:14:10.081Z"
   },
   {
    "duration": 5,
    "start_time": "2022-01-25T14:14:46.745Z"
   },
   {
    "duration": 5,
    "start_time": "2022-01-25T14:14:49.562Z"
   },
   {
    "duration": 19,
    "start_time": "2022-01-25T14:14:51.754Z"
   },
   {
    "duration": 20,
    "start_time": "2022-01-25T14:14:53.674Z"
   },
   {
    "duration": 12,
    "start_time": "2022-01-25T14:14:59.785Z"
   },
   {
    "duration": 26,
    "start_time": "2022-01-25T14:15:05.473Z"
   },
   {
    "duration": 3,
    "start_time": "2022-01-25T14:18:52.348Z"
   },
   {
    "duration": 150,
    "start_time": "2022-01-25T14:18:52.354Z"
   },
   {
    "duration": 8,
    "start_time": "2022-01-25T14:18:52.507Z"
   },
   {
    "duration": 11,
    "start_time": "2022-01-25T14:18:52.518Z"
   },
   {
    "duration": 15,
    "start_time": "2022-01-25T14:18:52.531Z"
   },
   {
    "duration": 7,
    "start_time": "2022-01-25T14:18:52.548Z"
   },
   {
    "duration": 43,
    "start_time": "2022-01-25T14:18:52.558Z"
   },
   {
    "duration": 22,
    "start_time": "2022-01-25T14:18:52.605Z"
   },
   {
    "duration": 5,
    "start_time": "2022-01-25T14:18:52.631Z"
   },
   {
    "duration": 15,
    "start_time": "2022-01-25T14:18:52.641Z"
   },
   {
    "duration": 42,
    "start_time": "2022-01-25T14:18:52.658Z"
   },
   {
    "duration": 34,
    "start_time": "2022-01-25T14:18:52.703Z"
   },
   {
    "duration": 25,
    "start_time": "2022-01-25T14:18:52.739Z"
   },
   {
    "duration": 66,
    "start_time": "2022-01-25T14:18:52.766Z"
   },
   {
    "duration": 11,
    "start_time": "2022-01-25T14:18:52.834Z"
   },
   {
    "duration": 25,
    "start_time": "2022-01-25T14:18:52.848Z"
   },
   {
    "duration": 33,
    "start_time": "2022-01-25T14:18:52.875Z"
   },
   {
    "duration": 31,
    "start_time": "2022-01-25T14:18:52.910Z"
   },
   {
    "duration": 2016,
    "start_time": "2022-01-25T14:18:52.944Z"
   },
   {
    "duration": -69,
    "start_time": "2022-01-25T14:18:55.032Z"
   },
   {
    "duration": -73,
    "start_time": "2022-01-25T14:18:55.038Z"
   },
   {
    "duration": -80,
    "start_time": "2022-01-25T14:18:55.046Z"
   },
   {
    "duration": -82,
    "start_time": "2022-01-25T14:18:55.049Z"
   },
   {
    "duration": 13,
    "start_time": "2022-01-25T14:22:17.523Z"
   },
   {
    "duration": 7,
    "start_time": "2022-01-25T14:22:19.363Z"
   },
   {
    "duration": 55,
    "start_time": "2022-01-25T14:46:23.333Z"
   },
   {
    "duration": 6,
    "start_time": "2022-01-25T14:46:25.765Z"
   },
   {
    "duration": 582,
    "start_time": "2022-01-26T09:59:58.061Z"
   },
   {
    "duration": 112,
    "start_time": "2022-01-26T09:59:58.645Z"
   },
   {
    "duration": 6,
    "start_time": "2022-01-26T09:59:58.760Z"
   },
   {
    "duration": 13,
    "start_time": "2022-01-26T09:59:58.768Z"
   },
   {
    "duration": 10,
    "start_time": "2022-01-26T09:59:58.783Z"
   },
   {
    "duration": 8,
    "start_time": "2022-01-26T09:59:58.795Z"
   },
   {
    "duration": 10,
    "start_time": "2022-01-26T09:59:58.805Z"
   },
   {
    "duration": 18,
    "start_time": "2022-01-26T09:59:58.817Z"
   },
   {
    "duration": 3,
    "start_time": "2022-01-26T09:59:58.838Z"
   },
   {
    "duration": 6,
    "start_time": "2022-01-26T09:59:58.843Z"
   },
   {
    "duration": 13,
    "start_time": "2022-01-26T09:59:58.851Z"
   },
   {
    "duration": 38,
    "start_time": "2022-01-26T09:59:58.866Z"
   },
   {
    "duration": 13,
    "start_time": "2022-01-26T09:59:58.907Z"
   },
   {
    "duration": 28,
    "start_time": "2022-01-26T09:59:58.922Z"
   },
   {
    "duration": 10,
    "start_time": "2022-01-26T09:59:58.952Z"
   },
   {
    "duration": 56,
    "start_time": "2022-01-26T09:59:58.964Z"
   },
   {
    "duration": 13,
    "start_time": "2022-01-26T09:59:59.022Z"
   },
   {
    "duration": 29,
    "start_time": "2022-01-26T09:59:59.037Z"
   },
   {
    "duration": 86,
    "start_time": "2022-01-26T09:59:59.068Z"
   },
   {
    "duration": 6,
    "start_time": "2022-01-26T09:59:59.156Z"
   },
   {
    "duration": 8,
    "start_time": "2022-01-26T09:59:59.164Z"
   },
   {
    "duration": 10,
    "start_time": "2022-01-26T09:59:59.199Z"
   },
   {
    "duration": 10,
    "start_time": "2022-01-26T09:59:59.211Z"
   },
   {
    "duration": 8,
    "start_time": "2022-01-26T10:09:01.071Z"
   },
   {
    "duration": 20,
    "start_time": "2022-01-26T10:09:02.710Z"
   },
   {
    "duration": 10,
    "start_time": "2022-01-26T10:17:24.407Z"
   },
   {
    "duration": 23,
    "start_time": "2022-01-26T10:17:27.095Z"
   },
   {
    "duration": 12,
    "start_time": "2022-01-26T10:21:19.054Z"
   },
   {
    "duration": 22,
    "start_time": "2022-01-26T10:21:21.185Z"
   },
   {
    "duration": 13,
    "start_time": "2022-01-26T10:22:25.263Z"
   },
   {
    "duration": 33,
    "start_time": "2022-01-26T10:22:27.239Z"
   },
   {
    "duration": 12,
    "start_time": "2022-01-26T10:26:23.909Z"
   },
   {
    "duration": 16,
    "start_time": "2022-01-26T10:26:42.054Z"
   },
   {
    "duration": 14,
    "start_time": "2022-01-26T10:27:26.991Z"
   },
   {
    "duration": 20,
    "start_time": "2022-01-26T10:27:28.934Z"
   },
   {
    "duration": 14,
    "start_time": "2022-01-26T10:29:26.719Z"
   },
   {
    "duration": 17,
    "start_time": "2022-01-26T10:29:33.783Z"
   },
   {
    "duration": 561,
    "start_time": "2022-01-26T10:30:12.743Z"
   },
   {
    "duration": 111,
    "start_time": "2022-01-26T10:30:13.306Z"
   },
   {
    "duration": 7,
    "start_time": "2022-01-26T10:30:13.420Z"
   },
   {
    "duration": 12,
    "start_time": "2022-01-26T10:30:13.429Z"
   },
   {
    "duration": 7,
    "start_time": "2022-01-26T10:30:13.443Z"
   },
   {
    "duration": 9,
    "start_time": "2022-01-26T10:30:13.452Z"
   },
   {
    "duration": 43,
    "start_time": "2022-01-26T10:30:13.463Z"
   },
   {
    "duration": 3,
    "start_time": "2022-01-26T10:30:13.510Z"
   },
   {
    "duration": 5,
    "start_time": "2022-01-26T10:30:13.516Z"
   },
   {
    "duration": 13,
    "start_time": "2022-01-26T10:30:13.523Z"
   },
   {
    "duration": 21,
    "start_time": "2022-01-26T10:30:13.537Z"
   },
   {
    "duration": 42,
    "start_time": "2022-01-26T10:30:13.560Z"
   },
   {
    "duration": 27,
    "start_time": "2022-01-26T10:30:13.604Z"
   },
   {
    "duration": 10,
    "start_time": "2022-01-26T10:30:13.633Z"
   },
   {
    "duration": 19,
    "start_time": "2022-01-26T10:30:13.645Z"
   },
   {
    "duration": 44,
    "start_time": "2022-01-26T10:30:13.666Z"
   },
   {
    "duration": 28,
    "start_time": "2022-01-26T10:30:13.712Z"
   },
   {
    "duration": 97,
    "start_time": "2022-01-26T10:30:13.742Z"
   },
   {
    "duration": -136,
    "start_time": "2022-01-26T10:30:13.977Z"
   },
   {
    "duration": -136,
    "start_time": "2022-01-26T10:30:13.978Z"
   },
   {
    "duration": -141,
    "start_time": "2022-01-26T10:30:13.983Z"
   },
   {
    "duration": -142,
    "start_time": "2022-01-26T10:30:13.985Z"
   },
   {
    "duration": -142,
    "start_time": "2022-01-26T10:30:13.987Z"
   },
   {
    "duration": 11,
    "start_time": "2022-01-26T10:35:53.669Z"
   },
   {
    "duration": 22,
    "start_time": "2022-01-26T10:36:02.459Z"
   },
   {
    "duration": 10,
    "start_time": "2022-01-26T10:37:33.484Z"
   },
   {
    "duration": 21,
    "start_time": "2022-01-26T10:37:35.155Z"
   },
   {
    "duration": 11,
    "start_time": "2022-01-26T10:46:42.371Z"
   },
   {
    "duration": 20,
    "start_time": "2022-01-26T10:46:44.243Z"
   },
   {
    "duration": 9,
    "start_time": "2022-01-26T10:49:06.863Z"
   },
   {
    "duration": 19,
    "start_time": "2022-01-26T10:49:08.788Z"
   },
   {
    "duration": 632,
    "start_time": "2022-01-26T10:49:44.772Z"
   },
   {
    "duration": 133,
    "start_time": "2022-01-26T10:49:45.405Z"
   },
   {
    "duration": 7,
    "start_time": "2022-01-26T10:49:45.540Z"
   },
   {
    "duration": 45,
    "start_time": "2022-01-26T10:49:45.549Z"
   },
   {
    "duration": 20,
    "start_time": "2022-01-26T10:49:45.596Z"
   },
   {
    "duration": 44,
    "start_time": "2022-01-26T10:49:45.617Z"
   },
   {
    "duration": 32,
    "start_time": "2022-01-26T10:49:45.663Z"
   },
   {
    "duration": 23,
    "start_time": "2022-01-26T10:49:45.698Z"
   },
   {
    "duration": 21,
    "start_time": "2022-01-26T10:49:45.723Z"
   },
   {
    "duration": 39,
    "start_time": "2022-01-26T10:49:45.745Z"
   },
   {
    "duration": 58,
    "start_time": "2022-01-26T10:49:45.786Z"
   },
   {
    "duration": 28,
    "start_time": "2022-01-26T10:49:45.845Z"
   },
   {
    "duration": 48,
    "start_time": "2022-01-26T10:49:45.874Z"
   },
   {
    "duration": 9,
    "start_time": "2022-01-26T10:49:45.924Z"
   },
   {
    "duration": 38,
    "start_time": "2022-01-26T10:49:45.935Z"
   },
   {
    "duration": 9,
    "start_time": "2022-01-26T10:49:45.975Z"
   },
   {
    "duration": 26,
    "start_time": "2022-01-26T10:49:45.986Z"
   },
   {
    "duration": 89,
    "start_time": "2022-01-26T10:49:46.014Z"
   },
   {
    "duration": -102,
    "start_time": "2022-01-26T10:49:46.206Z"
   },
   {
    "duration": -101,
    "start_time": "2022-01-26T10:49:46.207Z"
   },
   {
    "duration": -104,
    "start_time": "2022-01-26T10:49:46.211Z"
   },
   {
    "duration": -104,
    "start_time": "2022-01-26T10:49:46.213Z"
   },
   {
    "duration": -105,
    "start_time": "2022-01-26T10:49:46.215Z"
   },
   {
    "duration": 16,
    "start_time": "2022-01-26T10:51:08.154Z"
   },
   {
    "duration": 4,
    "start_time": "2022-01-26T11:20:23.809Z"
   },
   {
    "duration": 21,
    "start_time": "2022-01-26T11:20:43.377Z"
   },
   {
    "duration": 10,
    "start_time": "2022-01-26T11:27:52.121Z"
   },
   {
    "duration": 21,
    "start_time": "2022-01-26T11:27:54.408Z"
   },
   {
    "duration": 10,
    "start_time": "2022-01-26T11:41:30.680Z"
   },
   {
    "duration": 21,
    "start_time": "2022-01-26T11:41:34.304Z"
   },
   {
    "duration": 11,
    "start_time": "2022-01-26T11:44:18.231Z"
   },
   {
    "duration": 32,
    "start_time": "2022-01-26T11:44:21.664Z"
   },
   {
    "duration": 15,
    "start_time": "2022-01-26T12:55:03.752Z"
   },
   {
    "duration": 91,
    "start_time": "2022-01-26T12:55:09.448Z"
   },
   {
    "duration": 90,
    "start_time": "2022-01-26T12:55:23.746Z"
   },
   {
    "duration": 91,
    "start_time": "2022-01-26T12:56:16.818Z"
   },
   {
    "duration": 11,
    "start_time": "2022-01-26T12:56:28.122Z"
   },
   {
    "duration": 10,
    "start_time": "2022-01-26T13:01:30.618Z"
   },
   {
    "duration": 16,
    "start_time": "2022-01-26T13:02:11.730Z"
   },
   {
    "duration": 16,
    "start_time": "2022-01-26T13:03:17.354Z"
   },
   {
    "duration": 26,
    "start_time": "2022-01-26T13:04:36.843Z"
   },
   {
    "duration": 18,
    "start_time": "2022-01-26T13:07:16.882Z"
   },
   {
    "duration": 26,
    "start_time": "2022-01-26T13:11:41.177Z"
   },
   {
    "duration": 25,
    "start_time": "2022-01-26T13:12:17.554Z"
   },
   {
    "duration": 302,
    "start_time": "2022-01-26T13:13:32.818Z"
   },
   {
    "duration": 98,
    "start_time": "2022-01-26T13:13:42.489Z"
   },
   {
    "duration": 25,
    "start_time": "2022-01-26T13:13:48.121Z"
   },
   {
    "duration": 10,
    "start_time": "2022-01-26T13:15:25.586Z"
   },
   {
    "duration": 21,
    "start_time": "2022-01-26T13:15:27.826Z"
   },
   {
    "duration": 27,
    "start_time": "2022-01-26T13:15:49.593Z"
   },
   {
    "duration": 86,
    "start_time": "2022-01-26T13:16:22.364Z"
   },
   {
    "duration": 16,
    "start_time": "2022-01-26T13:16:30.402Z"
   },
   {
    "duration": 10,
    "start_time": "2022-01-26T13:16:47.625Z"
   },
   {
    "duration": 21,
    "start_time": "2022-01-26T13:16:49.368Z"
   },
   {
    "duration": 6,
    "start_time": "2022-01-26T13:18:15.114Z"
   },
   {
    "duration": 60,
    "start_time": "2022-01-26T13:18:21.922Z"
   },
   {
    "duration": 5,
    "start_time": "2022-01-26T13:18:21.984Z"
   },
   {
    "duration": 6,
    "start_time": "2022-01-26T13:18:22.906Z"
   },
   {
    "duration": 5,
    "start_time": "2022-01-26T13:18:27.177Z"
   },
   {
    "duration": 13,
    "start_time": "2022-01-26T13:18:59.113Z"
   },
   {
    "duration": 6,
    "start_time": "2022-01-26T13:19:01.561Z"
   },
   {
    "duration": 624,
    "start_time": "2022-01-26T13:20:35.281Z"
   },
   {
    "duration": 290,
    "start_time": "2022-01-26T13:20:42.512Z"
   },
   {
    "duration": 7,
    "start_time": "2022-01-26T13:20:47.585Z"
   },
   {
    "duration": 10,
    "start_time": "2022-01-26T13:21:31.762Z"
   },
   {
    "duration": 18,
    "start_time": "2022-01-26T13:22:08.808Z"
   },
   {
    "duration": 18,
    "start_time": "2022-01-26T13:22:24.929Z"
   },
   {
    "duration": 19,
    "start_time": "2022-01-26T13:22:47.145Z"
   },
   {
    "duration": 279,
    "start_time": "2022-01-26T13:23:27.018Z"
   },
   {
    "duration": 5,
    "start_time": "2022-01-26T13:26:42.777Z"
   },
   {
    "duration": 10,
    "start_time": "2022-01-26T13:26:57.906Z"
   },
   {
    "duration": 26,
    "start_time": "2022-01-26T13:28:22.090Z"
   },
   {
    "duration": 5,
    "start_time": "2022-01-26T13:31:52.305Z"
   },
   {
    "duration": 6,
    "start_time": "2022-01-26T13:32:39.681Z"
   },
   {
    "duration": 5,
    "start_time": "2022-01-26T13:32:45.314Z"
   },
   {
    "duration": 32,
    "start_time": "2022-01-26T13:33:11.241Z"
   },
   {
    "duration": 17,
    "start_time": "2022-01-26T13:33:42.683Z"
   },
   {
    "duration": 24,
    "start_time": "2022-01-26T13:34:08.410Z"
   },
   {
    "duration": 6,
    "start_time": "2022-01-26T13:39:19.680Z"
   },
   {
    "duration": 21,
    "start_time": "2022-01-26T13:40:00.169Z"
   },
   {
    "duration": 13,
    "start_time": "2022-01-26T13:42:30.009Z"
   },
   {
    "duration": 546,
    "start_time": "2022-01-26T13:46:56.457Z"
   },
   {
    "duration": 140,
    "start_time": "2022-01-26T13:46:57.005Z"
   },
   {
    "duration": 7,
    "start_time": "2022-01-26T13:46:57.147Z"
   },
   {
    "duration": 13,
    "start_time": "2022-01-26T13:46:57.157Z"
   },
   {
    "duration": 7,
    "start_time": "2022-01-26T13:46:57.172Z"
   },
   {
    "duration": 9,
    "start_time": "2022-01-26T13:46:57.181Z"
   },
   {
    "duration": 19,
    "start_time": "2022-01-26T13:46:57.192Z"
   },
   {
    "duration": 4,
    "start_time": "2022-01-26T13:46:57.213Z"
   },
   {
    "duration": 5,
    "start_time": "2022-01-26T13:46:57.221Z"
   },
   {
    "duration": 14,
    "start_time": "2022-01-26T13:46:57.229Z"
   },
   {
    "duration": 22,
    "start_time": "2022-01-26T13:46:57.245Z"
   },
   {
    "duration": 14,
    "start_time": "2022-01-26T13:46:57.298Z"
   },
   {
    "duration": 27,
    "start_time": "2022-01-26T13:46:57.314Z"
   },
   {
    "duration": 9,
    "start_time": "2022-01-26T13:46:57.343Z"
   },
   {
    "duration": 50,
    "start_time": "2022-01-26T13:46:57.354Z"
   },
   {
    "duration": 10,
    "start_time": "2022-01-26T13:46:57.406Z"
   },
   {
    "duration": 15,
    "start_time": "2022-01-26T13:46:57.417Z"
   },
   {
    "duration": 27,
    "start_time": "2022-01-26T13:46:57.433Z"
   },
   {
    "duration": 82,
    "start_time": "2022-01-26T13:46:57.462Z"
   },
   {
    "duration": 5,
    "start_time": "2022-01-26T13:46:57.546Z"
   },
   {
    "duration": 7,
    "start_time": "2022-01-26T13:46:57.552Z"
   },
   {
    "duration": 10,
    "start_time": "2022-01-26T13:46:57.560Z"
   },
   {
    "duration": 11,
    "start_time": "2022-01-26T13:46:57.571Z"
   },
   {
    "duration": 17,
    "start_time": "2022-01-26T13:46:57.584Z"
   },
   {
    "duration": 27,
    "start_time": "2022-01-26T13:46:57.603Z"
   },
   {
    "duration": 6,
    "start_time": "2022-01-26T13:46:57.632Z"
   },
   {
    "duration": 22,
    "start_time": "2022-01-26T13:46:57.641Z"
   },
   {
    "duration": 39,
    "start_time": "2022-01-26T13:46:57.664Z"
   },
   {
    "duration": 3355,
    "start_time": "2022-01-26T13:47:39.353Z"
   },
   {
    "duration": 757,
    "start_time": "2022-01-26T13:48:05.614Z"
   },
   {
    "duration": 600,
    "start_time": "2022-01-26T13:48:31.163Z"
   },
   {
    "duration": 146,
    "start_time": "2022-01-26T13:48:31.765Z"
   },
   {
    "duration": 6,
    "start_time": "2022-01-26T13:48:31.914Z"
   },
   {
    "duration": 32,
    "start_time": "2022-01-26T13:48:31.923Z"
   },
   {
    "duration": 33,
    "start_time": "2022-01-26T13:48:31.957Z"
   },
   {
    "duration": 21,
    "start_time": "2022-01-26T13:48:31.992Z"
   },
   {
    "duration": 55,
    "start_time": "2022-01-26T13:48:32.015Z"
   },
   {
    "duration": 24,
    "start_time": "2022-01-26T13:48:32.074Z"
   },
   {
    "duration": 30,
    "start_time": "2022-01-26T13:48:32.101Z"
   },
   {
    "duration": 32,
    "start_time": "2022-01-26T13:48:32.133Z"
   },
   {
    "duration": 32,
    "start_time": "2022-01-26T13:48:32.167Z"
   },
   {
    "duration": 24,
    "start_time": "2022-01-26T13:48:32.200Z"
   },
   {
    "duration": 58,
    "start_time": "2022-01-26T13:48:32.226Z"
   },
   {
    "duration": 26,
    "start_time": "2022-01-26T13:48:32.286Z"
   },
   {
    "duration": 25,
    "start_time": "2022-01-26T13:48:32.314Z"
   },
   {
    "duration": 15,
    "start_time": "2022-01-26T13:48:32.340Z"
   },
   {
    "duration": 121,
    "start_time": "2022-01-26T13:48:32.357Z"
   },
   {
    "duration": 59,
    "start_time": "2022-01-26T13:48:32.479Z"
   },
   {
    "duration": 66,
    "start_time": "2022-01-26T13:48:32.539Z"
   },
   {
    "duration": 6,
    "start_time": "2022-01-26T13:48:32.607Z"
   },
   {
    "duration": 46,
    "start_time": "2022-01-26T13:48:32.614Z"
   },
   {
    "duration": 25,
    "start_time": "2022-01-26T13:48:32.661Z"
   },
   {
    "duration": 23,
    "start_time": "2022-01-26T13:48:32.689Z"
   },
   {
    "duration": 18,
    "start_time": "2022-01-26T13:48:32.713Z"
   },
   {
    "duration": 44,
    "start_time": "2022-01-26T13:48:32.732Z"
   },
   {
    "duration": 6,
    "start_time": "2022-01-26T13:48:32.778Z"
   },
   {
    "duration": 43,
    "start_time": "2022-01-26T13:48:32.786Z"
   },
   {
    "duration": 3190,
    "start_time": "2022-01-26T13:48:32.830Z"
   },
   {
    "duration": 29,
    "start_time": "2022-01-26T13:48:36.021Z"
   },
   {
    "duration": 355,
    "start_time": "2022-01-26T14:14:14.216Z"
   },
   {
    "duration": 5,
    "start_time": "2022-01-26T14:14:56.888Z"
   },
   {
    "duration": 5,
    "start_time": "2022-01-26T14:14:59.535Z"
   },
   {
    "duration": 21,
    "start_time": "2022-01-26T14:15:10.343Z"
   },
   {
    "duration": 4,
    "start_time": "2022-01-26T14:17:09.880Z"
   },
   {
    "duration": 23,
    "start_time": "2022-01-26T14:17:11.774Z"
   },
   {
    "duration": 312,
    "start_time": "2022-01-26T14:17:30.768Z"
   },
   {
    "duration": 91,
    "start_time": "2022-01-26T14:17:51.096Z"
   },
   {
    "duration": 6,
    "start_time": "2022-01-26T14:17:58.694Z"
   },
   {
    "duration": 24,
    "start_time": "2022-01-26T14:18:00.343Z"
   },
   {
    "duration": 5,
    "start_time": "2022-01-26T14:18:59.767Z"
   },
   {
    "duration": 21,
    "start_time": "2022-01-26T14:19:01.824Z"
   },
   {
    "duration": 15,
    "start_time": "2022-01-26T14:19:26.431Z"
   },
   {
    "duration": 22,
    "start_time": "2022-01-26T14:19:28.982Z"
   },
   {
    "duration": 14,
    "start_time": "2022-01-26T14:20:04.911Z"
   },
   {
    "duration": 21,
    "start_time": "2022-01-26T14:20:06.383Z"
   },
   {
    "duration": 13,
    "start_time": "2022-01-26T14:20:33.417Z"
   },
   {
    "duration": 23,
    "start_time": "2022-01-26T14:20:35.752Z"
   },
   {
    "duration": 287,
    "start_time": "2022-01-26T14:28:48.727Z"
   },
   {
    "duration": 87,
    "start_time": "2022-01-26T14:28:55.328Z"
   },
   {
    "duration": 15,
    "start_time": "2022-01-26T14:29:03.720Z"
   },
   {
    "duration": 376,
    "start_time": "2022-01-26T18:37:59.910Z"
   },
   {
    "duration": 12,
    "start_time": "2022-01-26T18:38:10.654Z"
   },
   {
    "duration": 259,
    "start_time": "2022-01-26T18:40:13.474Z"
   },
   {
    "duration": 269,
    "start_time": "2022-01-26T18:40:26.542Z"
   },
   {
    "duration": 314,
    "start_time": "2022-01-26T18:40:46.502Z"
   },
   {
    "duration": 127,
    "start_time": "2022-01-26T18:41:00.374Z"
   },
   {
    "duration": 14,
    "start_time": "2022-01-26T18:41:49.974Z"
   },
   {
    "duration": 255,
    "start_time": "2022-01-26T18:41:52.286Z"
   },
   {
    "duration": 119,
    "start_time": "2022-01-26T18:41:54.849Z"
   },
   {
    "duration": 16,
    "start_time": "2022-01-26T20:25:39.815Z"
   },
   {
    "duration": 26,
    "start_time": "2022-01-26T20:25:48.434Z"
   },
   {
    "duration": 22,
    "start_time": "2022-01-26T20:25:54.838Z"
   },
   {
    "duration": 19,
    "start_time": "2022-01-26T20:27:10.631Z"
   },
   {
    "duration": 21,
    "start_time": "2022-01-26T20:27:14.021Z"
   },
   {
    "duration": 25,
    "start_time": "2022-01-26T20:27:51.055Z"
   },
   {
    "duration": 24,
    "start_time": "2022-01-26T20:30:27.303Z"
   },
   {
    "duration": 24,
    "start_time": "2022-01-26T20:30:30.355Z"
   },
   {
    "duration": 25,
    "start_time": "2022-01-26T20:31:13.463Z"
   },
   {
    "duration": 23,
    "start_time": "2022-01-26T20:31:17.911Z"
   },
   {
    "duration": 662,
    "start_time": "2022-01-26T20:31:33.632Z"
   },
   {
    "duration": 115,
    "start_time": "2022-01-26T20:31:34.296Z"
   },
   {
    "duration": 7,
    "start_time": "2022-01-26T20:31:34.414Z"
   },
   {
    "duration": 21,
    "start_time": "2022-01-26T20:31:34.423Z"
   },
   {
    "duration": 10,
    "start_time": "2022-01-26T20:31:34.447Z"
   },
   {
    "duration": 18,
    "start_time": "2022-01-26T20:31:34.458Z"
   },
   {
    "duration": 47,
    "start_time": "2022-01-26T20:31:34.478Z"
   },
   {
    "duration": 12,
    "start_time": "2022-01-26T20:31:34.526Z"
   },
   {
    "duration": 5,
    "start_time": "2022-01-26T20:31:34.541Z"
   },
   {
    "duration": 15,
    "start_time": "2022-01-26T20:31:34.549Z"
   },
   {
    "duration": 44,
    "start_time": "2022-01-26T20:31:34.566Z"
   },
   {
    "duration": 15,
    "start_time": "2022-01-26T20:31:34.612Z"
   },
   {
    "duration": 27,
    "start_time": "2022-01-26T20:31:34.630Z"
   },
   {
    "duration": 45,
    "start_time": "2022-01-26T20:31:34.659Z"
   },
   {
    "duration": 21,
    "start_time": "2022-01-26T20:31:34.707Z"
   },
   {
    "duration": 14,
    "start_time": "2022-01-26T20:31:34.730Z"
   },
   {
    "duration": 56,
    "start_time": "2022-01-26T20:31:34.746Z"
   },
   {
    "duration": 24,
    "start_time": "2022-01-26T20:31:34.804Z"
   },
   {
    "duration": 90,
    "start_time": "2022-01-26T20:31:34.830Z"
   },
   {
    "duration": 6,
    "start_time": "2022-01-26T20:31:34.922Z"
   },
   {
    "duration": 6,
    "start_time": "2022-01-26T20:31:34.930Z"
   },
   {
    "duration": 12,
    "start_time": "2022-01-26T20:31:34.938Z"
   },
   {
    "duration": 8,
    "start_time": "2022-01-26T20:31:34.952Z"
   },
   {
    "duration": 40,
    "start_time": "2022-01-26T20:31:34.962Z"
   },
   {
    "duration": 27,
    "start_time": "2022-01-26T20:31:35.004Z"
   },
   {
    "duration": 9,
    "start_time": "2022-01-26T20:31:35.033Z"
   },
   {
    "duration": 63,
    "start_time": "2022-01-26T20:31:35.046Z"
   },
   {
    "duration": 266,
    "start_time": "2022-01-26T20:31:35.111Z"
   },
   {
    "duration": 138,
    "start_time": "2022-01-26T20:31:35.379Z"
   },
   {
    "duration": 39,
    "start_time": "2022-01-26T20:31:35.519Z"
   },
   {
    "duration": 57,
    "start_time": "2022-01-26T20:31:35.560Z"
   },
   {
    "duration": 27,
    "start_time": "2022-01-26T20:31:35.618Z"
   },
   {
    "duration": 18,
    "start_time": "2022-01-26T20:32:10.644Z"
   },
   {
    "duration": 22,
    "start_time": "2022-01-26T20:32:15.744Z"
   },
   {
    "duration": 20,
    "start_time": "2022-01-26T20:32:36.688Z"
   },
   {
    "duration": 21,
    "start_time": "2022-01-26T20:32:39.241Z"
   },
   {
    "duration": 631,
    "start_time": "2022-01-26T20:34:15.871Z"
   },
   {
    "duration": 114,
    "start_time": "2022-01-26T20:34:16.504Z"
   },
   {
    "duration": 6,
    "start_time": "2022-01-26T20:34:16.621Z"
   },
   {
    "duration": 13,
    "start_time": "2022-01-26T20:34:16.629Z"
   },
   {
    "duration": 7,
    "start_time": "2022-01-26T20:34:16.644Z"
   },
   {
    "duration": 25,
    "start_time": "2022-01-26T20:34:16.652Z"
   },
   {
    "duration": 29,
    "start_time": "2022-01-26T20:34:16.679Z"
   },
   {
    "duration": 7,
    "start_time": "2022-01-26T20:34:16.711Z"
   },
   {
    "duration": 16,
    "start_time": "2022-01-26T20:34:16.720Z"
   },
   {
    "duration": 24,
    "start_time": "2022-01-26T20:34:16.738Z"
   },
   {
    "duration": 33,
    "start_time": "2022-01-26T20:34:16.764Z"
   },
   {
    "duration": 27,
    "start_time": "2022-01-26T20:34:16.798Z"
   },
   {
    "duration": 29,
    "start_time": "2022-01-26T20:34:16.827Z"
   },
   {
    "duration": 9,
    "start_time": "2022-01-26T20:34:16.858Z"
   },
   {
    "duration": 38,
    "start_time": "2022-01-26T20:34:16.868Z"
   },
   {
    "duration": 11,
    "start_time": "2022-01-26T20:34:16.908Z"
   },
   {
    "duration": 16,
    "start_time": "2022-01-26T20:34:16.920Z"
   },
   {
    "duration": 39,
    "start_time": "2022-01-26T20:34:16.938Z"
   },
   {
    "duration": 73,
    "start_time": "2022-01-26T20:34:16.979Z"
   },
   {
    "duration": 5,
    "start_time": "2022-01-26T20:34:17.055Z"
   },
   {
    "duration": 6,
    "start_time": "2022-01-26T20:34:17.062Z"
   },
   {
    "duration": 32,
    "start_time": "2022-01-26T20:34:17.070Z"
   },
   {
    "duration": 8,
    "start_time": "2022-01-26T20:34:17.105Z"
   },
   {
    "duration": 6,
    "start_time": "2022-01-26T20:34:17.115Z"
   },
   {
    "duration": 27,
    "start_time": "2022-01-26T20:34:17.123Z"
   },
   {
    "duration": 3,
    "start_time": "2022-01-26T20:34:17.152Z"
   },
   {
    "duration": 42,
    "start_time": "2022-01-26T20:34:17.157Z"
   },
   {
    "duration": 4,
    "start_time": "2022-01-26T20:34:17.201Z"
   },
   {
    "duration": 367,
    "start_time": "2022-01-26T20:34:17.207Z"
   },
   {
    "duration": -394,
    "start_time": "2022-01-26T20:34:17.970Z"
   },
   {
    "duration": -400,
    "start_time": "2022-01-26T20:34:17.978Z"
   },
   {
    "duration": -405,
    "start_time": "2022-01-26T20:34:17.984Z"
   },
   {
    "duration": 22,
    "start_time": "2022-01-26T20:34:29.848Z"
   },
   {
    "duration": 19,
    "start_time": "2022-01-26T20:34:33.667Z"
   },
   {
    "duration": 22,
    "start_time": "2022-01-26T20:34:38.127Z"
   },
   {
    "duration": 25,
    "start_time": "2022-01-26T20:35:28.783Z"
   },
   {
    "duration": 23,
    "start_time": "2022-01-26T20:35:32.779Z"
   },
   {
    "duration": 590,
    "start_time": "2022-01-26T20:36:11.218Z"
   },
   {
    "duration": 111,
    "start_time": "2022-01-26T20:36:11.810Z"
   },
   {
    "duration": 6,
    "start_time": "2022-01-26T20:36:11.925Z"
   },
   {
    "duration": 13,
    "start_time": "2022-01-26T20:36:11.933Z"
   },
   {
    "duration": 6,
    "start_time": "2022-01-26T20:36:11.948Z"
   },
   {
    "duration": 10,
    "start_time": "2022-01-26T20:36:11.955Z"
   },
   {
    "duration": 42,
    "start_time": "2022-01-26T20:36:11.968Z"
   },
   {
    "duration": 4,
    "start_time": "2022-01-26T20:36:12.012Z"
   },
   {
    "duration": 5,
    "start_time": "2022-01-26T20:36:12.017Z"
   },
   {
    "duration": 15,
    "start_time": "2022-01-26T20:36:12.024Z"
   },
   {
    "duration": 21,
    "start_time": "2022-01-26T20:36:12.041Z"
   },
   {
    "duration": 45,
    "start_time": "2022-01-26T20:36:12.064Z"
   },
   {
    "duration": 26,
    "start_time": "2022-01-26T20:36:12.110Z"
   },
   {
    "duration": 9,
    "start_time": "2022-01-26T20:36:12.137Z"
   },
   {
    "duration": 58,
    "start_time": "2022-01-26T20:36:12.148Z"
   },
   {
    "duration": 10,
    "start_time": "2022-01-26T20:36:12.208Z"
   },
   {
    "duration": 10,
    "start_time": "2022-01-26T20:36:12.220Z"
   },
   {
    "duration": 26,
    "start_time": "2022-01-26T20:36:12.232Z"
   },
   {
    "duration": 88,
    "start_time": "2022-01-26T20:36:12.259Z"
   },
   {
    "duration": 5,
    "start_time": "2022-01-26T20:36:12.349Z"
   },
   {
    "duration": 6,
    "start_time": "2022-01-26T20:36:12.355Z"
   },
   {
    "duration": 38,
    "start_time": "2022-01-26T20:36:12.363Z"
   },
   {
    "duration": 8,
    "start_time": "2022-01-26T20:36:12.403Z"
   },
   {
    "duration": 5,
    "start_time": "2022-01-26T20:36:12.413Z"
   },
   {
    "duration": 30,
    "start_time": "2022-01-26T20:36:12.421Z"
   },
   {
    "duration": 2,
    "start_time": "2022-01-26T20:36:12.453Z"
   },
   {
    "duration": 7,
    "start_time": "2022-01-26T20:36:12.457Z"
   },
   {
    "duration": 7,
    "start_time": "2022-01-26T20:36:12.499Z"
   },
   {
    "duration": 6,
    "start_time": "2022-01-26T20:36:12.507Z"
   },
   {
    "duration": 25,
    "start_time": "2022-01-26T20:36:12.514Z"
   },
   {
    "duration": 27,
    "start_time": "2022-01-26T20:36:12.540Z"
   },
   {
    "duration": 23,
    "start_time": "2022-01-26T20:36:12.599Z"
   },
   {
    "duration": 344,
    "start_time": "2022-01-26T20:36:52.042Z"
   },
   {
    "duration": 16,
    "start_time": "2022-01-26T20:37:03.818Z"
   },
   {
    "duration": 22,
    "start_time": "2022-01-26T20:37:08.630Z"
   },
   {
    "duration": 23,
    "start_time": "2022-01-26T20:37:42.710Z"
   },
   {
    "duration": 16,
    "start_time": "2022-01-26T20:37:46.274Z"
   },
   {
    "duration": 22,
    "start_time": "2022-01-26T20:37:50.366Z"
   },
   {
    "duration": 645,
    "start_time": "2022-01-26T20:38:01.716Z"
   },
   {
    "duration": 117,
    "start_time": "2022-01-26T20:38:02.362Z"
   },
   {
    "duration": 8,
    "start_time": "2022-01-26T20:38:02.481Z"
   },
   {
    "duration": 16,
    "start_time": "2022-01-26T20:38:02.491Z"
   },
   {
    "duration": 6,
    "start_time": "2022-01-26T20:38:02.509Z"
   },
   {
    "duration": 11,
    "start_time": "2022-01-26T20:38:02.517Z"
   },
   {
    "duration": 25,
    "start_time": "2022-01-26T20:38:02.530Z"
   },
   {
    "duration": 4,
    "start_time": "2022-01-26T20:38:02.557Z"
   },
   {
    "duration": 39,
    "start_time": "2022-01-26T20:38:02.564Z"
   },
   {
    "duration": 16,
    "start_time": "2022-01-26T20:38:02.605Z"
   },
   {
    "duration": 21,
    "start_time": "2022-01-26T20:38:02.623Z"
   },
   {
    "duration": 14,
    "start_time": "2022-01-26T20:38:02.646Z"
   },
   {
    "duration": 58,
    "start_time": "2022-01-26T20:38:02.662Z"
   },
   {
    "duration": 10,
    "start_time": "2022-01-26T20:38:02.722Z"
   },
   {
    "duration": 23,
    "start_time": "2022-01-26T20:38:02.734Z"
   },
   {
    "duration": 45,
    "start_time": "2022-01-26T20:38:02.759Z"
   },
   {
    "duration": 14,
    "start_time": "2022-01-26T20:38:02.806Z"
   },
   {
    "duration": 24,
    "start_time": "2022-01-26T20:38:02.822Z"
   },
   {
    "duration": 88,
    "start_time": "2022-01-26T20:38:02.848Z"
   },
   {
    "duration": 5,
    "start_time": "2022-01-26T20:38:02.938Z"
   },
   {
    "duration": 6,
    "start_time": "2022-01-26T20:38:02.945Z"
   },
   {
    "duration": 12,
    "start_time": "2022-01-26T20:38:02.953Z"
   },
   {
    "duration": 34,
    "start_time": "2022-01-26T20:38:02.966Z"
   },
   {
    "duration": 5,
    "start_time": "2022-01-26T20:38:03.002Z"
   },
   {
    "duration": 28,
    "start_time": "2022-01-26T20:38:03.008Z"
   },
   {
    "duration": 2,
    "start_time": "2022-01-26T20:38:03.038Z"
   },
   {
    "duration": 9,
    "start_time": "2022-01-26T20:38:03.044Z"
   },
   {
    "duration": 10,
    "start_time": "2022-01-26T20:38:03.055Z"
   },
   {
    "duration": 3,
    "start_time": "2022-01-26T20:38:03.099Z"
   },
   {
    "duration": 25,
    "start_time": "2022-01-26T20:38:03.103Z"
   },
   {
    "duration": 17,
    "start_time": "2022-01-26T20:38:03.130Z"
   },
   {
    "duration": 56,
    "start_time": "2022-01-26T20:38:03.149Z"
   },
   {
    "duration": 19,
    "start_time": "2022-01-26T20:41:22.640Z"
   },
   {
    "duration": 22,
    "start_time": "2022-01-26T20:41:24.524Z"
   },
   {
    "duration": 26,
    "start_time": "2022-01-26T20:41:43.479Z"
   },
   {
    "duration": 24,
    "start_time": "2022-01-26T20:41:45.772Z"
   },
   {
    "duration": 634,
    "start_time": "2022-01-26T20:41:55.293Z"
   },
   {
    "duration": 122,
    "start_time": "2022-01-26T20:41:55.929Z"
   },
   {
    "duration": 7,
    "start_time": "2022-01-26T20:41:56.054Z"
   },
   {
    "duration": 14,
    "start_time": "2022-01-26T20:41:56.064Z"
   },
   {
    "duration": 7,
    "start_time": "2022-01-26T20:41:56.079Z"
   },
   {
    "duration": 13,
    "start_time": "2022-01-26T20:41:56.088Z"
   },
   {
    "duration": 22,
    "start_time": "2022-01-26T20:41:56.103Z"
   },
   {
    "duration": 4,
    "start_time": "2022-01-26T20:41:56.127Z"
   },
   {
    "duration": 12,
    "start_time": "2022-01-26T20:41:56.133Z"
   },
   {
    "duration": 16,
    "start_time": "2022-01-26T20:41:56.147Z"
   },
   {
    "duration": 47,
    "start_time": "2022-01-26T20:41:56.165Z"
   },
   {
    "duration": 15,
    "start_time": "2022-01-26T20:41:56.214Z"
   },
   {
    "duration": 28,
    "start_time": "2022-01-26T20:41:56.231Z"
   },
   {
    "duration": 45,
    "start_time": "2022-01-26T20:41:56.261Z"
   },
   {
    "duration": 22,
    "start_time": "2022-01-26T20:41:56.308Z"
   },
   {
    "duration": 11,
    "start_time": "2022-01-26T20:41:56.332Z"
   },
   {
    "duration": 11,
    "start_time": "2022-01-26T20:41:56.345Z"
   },
   {
    "duration": 59,
    "start_time": "2022-01-26T20:41:56.357Z"
   },
   {
    "duration": 87,
    "start_time": "2022-01-26T20:41:56.418Z"
   },
   {
    "duration": 5,
    "start_time": "2022-01-26T20:41:56.506Z"
   },
   {
    "duration": 7,
    "start_time": "2022-01-26T20:41:56.513Z"
   },
   {
    "duration": 10,
    "start_time": "2022-01-26T20:41:56.521Z"
   },
   {
    "duration": 5,
    "start_time": "2022-01-26T20:41:56.533Z"
   },
   {
    "duration": 6,
    "start_time": "2022-01-26T20:41:56.539Z"
   },
   {
    "duration": 68,
    "start_time": "2022-01-26T20:41:56.547Z"
   },
   {
    "duration": 2,
    "start_time": "2022-01-26T20:41:56.617Z"
   },
   {
    "duration": 4,
    "start_time": "2022-01-26T20:41:56.622Z"
   },
   {
    "duration": 5,
    "start_time": "2022-01-26T20:41:56.628Z"
   },
   {
    "duration": 5,
    "start_time": "2022-01-26T20:41:56.634Z"
   },
   {
    "duration": 61,
    "start_time": "2022-01-26T20:41:56.641Z"
   },
   {
    "duration": 27,
    "start_time": "2022-01-26T20:41:56.704Z"
   },
   {
    "duration": 27,
    "start_time": "2022-01-26T20:41:56.733Z"
   },
   {
    "duration": 29,
    "start_time": "2022-01-26T20:42:18.684Z"
   },
   {
    "duration": 23,
    "start_time": "2022-01-26T20:42:20.428Z"
   },
   {
    "duration": 22,
    "start_time": "2022-01-26T20:42:45.656Z"
   },
   {
    "duration": 22,
    "start_time": "2022-01-26T20:42:47.828Z"
   },
   {
    "duration": 20,
    "start_time": "2022-01-26T20:42:58.693Z"
   },
   {
    "duration": 22,
    "start_time": "2022-01-26T20:43:00.848Z"
   },
   {
    "duration": 22,
    "start_time": "2022-01-26T20:43:05.164Z"
   },
   {
    "duration": 630,
    "start_time": "2022-01-26T20:43:30.205Z"
   },
   {
    "duration": 124,
    "start_time": "2022-01-26T20:43:30.837Z"
   },
   {
    "duration": 147,
    "start_time": "2022-01-26T20:43:30.963Z"
   },
   {
    "duration": 261,
    "start_time": "2022-01-26T20:43:31.112Z"
   },
   {
    "duration": 12,
    "start_time": "2022-01-26T20:43:31.375Z"
   },
   {
    "duration": 14,
    "start_time": "2022-01-26T20:43:31.389Z"
   },
   {
    "duration": 28,
    "start_time": "2022-01-26T20:43:31.404Z"
   },
   {
    "duration": 9,
    "start_time": "2022-01-26T20:43:31.433Z"
   },
   {
    "duration": 8,
    "start_time": "2022-01-26T20:43:31.445Z"
   },
   {
    "duration": 30,
    "start_time": "2022-01-26T20:43:31.455Z"
   },
   {
    "duration": 30,
    "start_time": "2022-01-26T20:43:31.487Z"
   },
   {
    "duration": 16,
    "start_time": "2022-01-26T20:43:31.518Z"
   },
   {
    "duration": 65,
    "start_time": "2022-01-26T20:43:31.535Z"
   },
   {
    "duration": 9,
    "start_time": "2022-01-26T20:43:31.601Z"
   },
   {
    "duration": 25,
    "start_time": "2022-01-26T20:43:31.612Z"
   },
   {
    "duration": 10,
    "start_time": "2022-01-26T20:43:31.639Z"
   },
   {
    "duration": 50,
    "start_time": "2022-01-26T20:43:31.651Z"
   },
   {
    "duration": 26,
    "start_time": "2022-01-26T20:43:31.703Z"
   },
   {
    "duration": 83,
    "start_time": "2022-01-26T20:43:31.731Z"
   },
   {
    "duration": 5,
    "start_time": "2022-01-26T20:43:31.816Z"
   },
   {
    "duration": 7,
    "start_time": "2022-01-26T20:43:31.822Z"
   },
   {
    "duration": 12,
    "start_time": "2022-01-26T20:43:31.831Z"
   },
   {
    "duration": 6,
    "start_time": "2022-01-26T20:43:31.845Z"
   },
   {
    "duration": 14,
    "start_time": "2022-01-26T20:43:31.853Z"
   },
   {
    "duration": 26,
    "start_time": "2022-01-26T20:43:31.898Z"
   },
   {
    "duration": 7,
    "start_time": "2022-01-26T20:43:31.926Z"
   },
   {
    "duration": 6,
    "start_time": "2022-01-26T20:43:31.937Z"
   },
   {
    "duration": 5,
    "start_time": "2022-01-26T20:43:31.945Z"
   },
   {
    "duration": 6,
    "start_time": "2022-01-26T20:43:31.951Z"
   },
   {
    "duration": 63,
    "start_time": "2022-01-26T20:43:31.959Z"
   },
   {
    "duration": 21,
    "start_time": "2022-01-26T20:43:32.024Z"
   },
   {
    "duration": 54,
    "start_time": "2022-01-26T20:43:32.047Z"
   },
   {
    "duration": 21,
    "start_time": "2022-01-26T20:57:54.560Z"
   },
   {
    "duration": 7,
    "start_time": "2022-01-26T21:38:53.552Z"
   },
   {
    "duration": 317,
    "start_time": "2022-01-26T21:54:44.187Z"
   },
   {
    "duration": 648,
    "start_time": "2022-01-26T21:54:43.858Z"
   },
   {
    "duration": 246,
    "start_time": "2022-01-26T22:07:41.196Z"
   },
   {
    "duration": 4,
    "start_time": "2022-01-26T22:07:45.962Z"
   },
   {
    "duration": 8,
    "start_time": "2022-01-26T22:07:48.191Z"
   },
   {
    "duration": 22,
    "start_time": "2022-01-26T22:08:01.227Z"
   },
   {
    "duration": 7,
    "start_time": "2022-01-26T22:08:39.311Z"
   },
   {
    "duration": 20,
    "start_time": "2022-01-26T22:08:41.203Z"
   },
   {
    "duration": 273,
    "start_time": "2022-01-26T22:16:02.858Z"
   },
   {
    "duration": 5,
    "start_time": "2022-01-26T22:16:27.538Z"
   },
   {
    "duration": 5,
    "start_time": "2022-01-26T22:16:31.406Z"
   },
   {
    "duration": 20,
    "start_time": "2022-01-26T22:16:44.528Z"
   },
   {
    "duration": 313,
    "start_time": "2022-01-26T22:17:22.202Z"
   },
   {
    "duration": 5,
    "start_time": "2022-01-26T22:17:40.362Z"
   },
   {
    "duration": 6,
    "start_time": "2022-01-26T22:17:43.794Z"
   },
   {
    "duration": 21,
    "start_time": "2022-01-26T22:17:45.778Z"
   },
   {
    "duration": 41,
    "start_time": "2022-01-26T22:18:15.521Z"
   },
   {
    "duration": 21,
    "start_time": "2022-01-26T22:18:18.178Z"
   },
   {
    "duration": 10,
    "start_time": "2022-01-26T22:23:25.498Z"
   },
   {
    "duration": 8,
    "start_time": "2022-01-26T22:24:03.498Z"
   },
   {
    "duration": 267,
    "start_time": "2022-01-26T22:25:15.537Z"
   },
   {
    "duration": 9,
    "start_time": "2022-01-26T22:25:24.434Z"
   },
   {
    "duration": 20,
    "start_time": "2022-01-26T22:26:30.458Z"
   },
   {
    "duration": 5,
    "start_time": "2022-01-26T22:28:05.774Z"
   },
   {
    "duration": 270,
    "start_time": "2022-01-26T22:28:47.378Z"
   },
   {
    "duration": 4,
    "start_time": "2022-01-26T22:29:02.338Z"
   },
   {
    "duration": 255,
    "start_time": "2022-01-26T22:29:04.326Z"
   },
   {
    "duration": 625,
    "start_time": "2022-01-26T22:29:20.680Z"
   },
   {
    "duration": 114,
    "start_time": "2022-01-26T22:29:21.307Z"
   },
   {
    "duration": 7,
    "start_time": "2022-01-26T22:29:21.423Z"
   },
   {
    "duration": 17,
    "start_time": "2022-01-26T22:29:21.432Z"
   },
   {
    "duration": 5,
    "start_time": "2022-01-26T22:29:21.451Z"
   },
   {
    "duration": 9,
    "start_time": "2022-01-26T22:29:21.458Z"
   },
   {
    "duration": 40,
    "start_time": "2022-01-26T22:29:21.469Z"
   },
   {
    "duration": 7,
    "start_time": "2022-01-26T22:29:21.512Z"
   },
   {
    "duration": 4,
    "start_time": "2022-01-26T22:29:21.521Z"
   },
   {
    "duration": 15,
    "start_time": "2022-01-26T22:29:21.527Z"
   },
   {
    "duration": 60,
    "start_time": "2022-01-26T22:29:21.544Z"
   },
   {
    "duration": 17,
    "start_time": "2022-01-26T22:29:21.606Z"
   },
   {
    "duration": 29,
    "start_time": "2022-01-26T22:29:21.625Z"
   },
   {
    "duration": 9,
    "start_time": "2022-01-26T22:29:21.656Z"
   },
   {
    "duration": 48,
    "start_time": "2022-01-26T22:29:21.667Z"
   },
   {
    "duration": 10,
    "start_time": "2022-01-26T22:29:21.717Z"
   },
   {
    "duration": 24,
    "start_time": "2022-01-26T22:29:21.729Z"
   },
   {
    "duration": 23,
    "start_time": "2022-01-26T22:29:21.755Z"
   },
   {
    "duration": 75,
    "start_time": "2022-01-26T22:29:21.780Z"
   },
   {
    "duration": 5,
    "start_time": "2022-01-26T22:29:21.857Z"
   },
   {
    "duration": 6,
    "start_time": "2022-01-26T22:29:21.863Z"
   },
   {
    "duration": 35,
    "start_time": "2022-01-26T22:29:21.871Z"
   },
   {
    "duration": 7,
    "start_time": "2022-01-26T22:29:21.909Z"
   },
   {
    "duration": 6,
    "start_time": "2022-01-26T22:29:21.918Z"
   },
   {
    "duration": 27,
    "start_time": "2022-01-26T22:29:21.926Z"
   },
   {
    "duration": 46,
    "start_time": "2022-01-26T22:29:21.954Z"
   },
   {
    "duration": 7,
    "start_time": "2022-01-26T22:29:22.002Z"
   },
   {
    "duration": 7,
    "start_time": "2022-01-26T22:29:22.011Z"
   },
   {
    "duration": 6,
    "start_time": "2022-01-26T22:29:22.019Z"
   },
   {
    "duration": 43,
    "start_time": "2022-01-26T22:29:22.027Z"
   },
   {
    "duration": 39,
    "start_time": "2022-01-26T22:29:22.071Z"
   },
   {
    "duration": 21,
    "start_time": "2022-01-26T22:29:22.112Z"
   },
   {
    "duration": 5,
    "start_time": "2022-01-26T22:29:22.135Z"
   },
   {
    "duration": 333,
    "start_time": "2022-01-26T22:29:22.141Z"
   },
   {
    "duration": 9,
    "start_time": "2022-01-26T22:29:39.117Z"
   },
   {
    "duration": 5,
    "start_time": "2022-01-26T22:30:46.712Z"
   },
   {
    "duration": 98,
    "start_time": "2022-01-27T14:11:21.661Z"
   },
   {
    "duration": 108,
    "start_time": "2022-01-27T14:11:34.237Z"
   },
   {
    "duration": 92,
    "start_time": "2022-01-27T14:12:10.039Z"
   },
   {
    "duration": 99,
    "start_time": "2022-01-27T14:12:31.342Z"
   },
   {
    "duration": 99,
    "start_time": "2022-01-27T14:12:50.558Z"
   },
   {
    "duration": 98,
    "start_time": "2022-01-27T14:13:42.871Z"
   },
   {
    "duration": 578,
    "start_time": "2022-01-27T14:13:48.366Z"
   },
   {
    "duration": 548,
    "start_time": "2022-01-27T14:14:29.115Z"
   },
   {
    "duration": 683,
    "start_time": "2022-01-27T14:14:29.665Z"
   },
   {
    "duration": 6,
    "start_time": "2022-01-27T14:14:30.350Z"
   },
   {
    "duration": 13,
    "start_time": "2022-01-27T14:14:30.357Z"
   },
   {
    "duration": 4,
    "start_time": "2022-01-27T14:14:30.372Z"
   },
   {
    "duration": 11,
    "start_time": "2022-01-27T14:14:30.378Z"
   },
   {
    "duration": 25,
    "start_time": "2022-01-27T14:14:30.390Z"
   },
   {
    "duration": 3,
    "start_time": "2022-01-27T14:14:30.417Z"
   },
   {
    "duration": 7,
    "start_time": "2022-01-27T14:14:30.422Z"
   },
   {
    "duration": 19,
    "start_time": "2022-01-27T14:14:30.430Z"
   },
   {
    "duration": 26,
    "start_time": "2022-01-27T14:14:30.451Z"
   },
   {
    "duration": 23,
    "start_time": "2022-01-27T14:14:30.479Z"
   },
   {
    "duration": 27,
    "start_time": "2022-01-27T14:14:30.504Z"
   },
   {
    "duration": 8,
    "start_time": "2022-01-27T14:14:30.532Z"
   },
   {
    "duration": 33,
    "start_time": "2022-01-27T14:14:30.542Z"
   },
   {
    "duration": 10,
    "start_time": "2022-01-27T14:14:30.577Z"
   },
   {
    "duration": 27,
    "start_time": "2022-01-27T14:14:30.589Z"
   },
   {
    "duration": 26,
    "start_time": "2022-01-27T14:14:30.618Z"
   },
   {
    "duration": 66,
    "start_time": "2022-01-27T14:14:30.646Z"
   },
   {
    "duration": 5,
    "start_time": "2022-01-27T14:14:30.714Z"
   },
   {
    "duration": 13,
    "start_time": "2022-01-27T14:14:30.721Z"
   },
   {
    "duration": 12,
    "start_time": "2022-01-27T14:14:30.736Z"
   },
   {
    "duration": 16,
    "start_time": "2022-01-27T14:14:30.751Z"
   },
   {
    "duration": 21,
    "start_time": "2022-01-27T14:14:30.769Z"
   },
   {
    "duration": 32,
    "start_time": "2022-01-27T14:14:30.792Z"
   },
   {
    "duration": 6,
    "start_time": "2022-01-27T14:14:30.826Z"
   },
   {
    "duration": 24,
    "start_time": "2022-01-27T14:14:30.833Z"
   },
   {
    "duration": 9,
    "start_time": "2022-01-27T14:14:30.859Z"
   },
   {
    "duration": 40,
    "start_time": "2022-01-27T14:14:30.870Z"
   },
   {
    "duration": 17,
    "start_time": "2022-01-27T14:14:30.912Z"
   },
   {
    "duration": 3,
    "start_time": "2022-01-27T14:14:30.931Z"
   },
   {
    "duration": 14,
    "start_time": "2022-01-27T14:14:30.936Z"
   },
   {
    "duration": 7,
    "start_time": "2022-01-27T14:14:30.952Z"
   },
   {
    "duration": 33,
    "start_time": "2022-01-27T14:16:24.345Z"
   },
   {
    "duration": 33,
    "start_time": "2022-01-27T14:17:46.457Z"
   },
   {
    "duration": 616,
    "start_time": "2022-01-27T14:18:41.075Z"
   },
   {
    "duration": 124,
    "start_time": "2022-01-27T14:18:41.693Z"
   },
   {
    "duration": 6,
    "start_time": "2022-01-27T14:18:41.820Z"
   },
   {
    "duration": 9,
    "start_time": "2022-01-27T14:18:41.828Z"
   },
   {
    "duration": 4,
    "start_time": "2022-01-27T14:18:41.839Z"
   },
   {
    "duration": 7,
    "start_time": "2022-01-27T14:18:41.845Z"
   },
   {
    "duration": 15,
    "start_time": "2022-01-27T14:18:41.853Z"
   },
   {
    "duration": 3,
    "start_time": "2022-01-27T14:18:41.870Z"
   },
   {
    "duration": 3,
    "start_time": "2022-01-27T14:18:41.876Z"
   },
   {
    "duration": 17,
    "start_time": "2022-01-27T14:18:41.881Z"
   },
   {
    "duration": 18,
    "start_time": "2022-01-27T14:18:41.900Z"
   },
   {
    "duration": 13,
    "start_time": "2022-01-27T14:18:41.919Z"
   },
   {
    "duration": 46,
    "start_time": "2022-01-27T14:18:41.934Z"
   },
   {
    "duration": 8,
    "start_time": "2022-01-27T14:18:41.981Z"
   },
   {
    "duration": 19,
    "start_time": "2022-01-27T14:18:41.990Z"
   },
   {
    "duration": 8,
    "start_time": "2022-01-27T14:18:42.011Z"
   },
   {
    "duration": 11,
    "start_time": "2022-01-27T14:18:42.021Z"
   },
   {
    "duration": 47,
    "start_time": "2022-01-27T14:18:42.033Z"
   },
   {
    "duration": 55,
    "start_time": "2022-01-27T14:18:42.082Z"
   },
   {
    "duration": 5,
    "start_time": "2022-01-27T14:18:42.138Z"
   },
   {
    "duration": 5,
    "start_time": "2022-01-27T14:18:42.144Z"
   },
   {
    "duration": 8,
    "start_time": "2022-01-27T14:18:42.171Z"
   },
   {
    "duration": 6,
    "start_time": "2022-01-27T14:18:42.181Z"
   },
   {
    "duration": 3,
    "start_time": "2022-01-27T14:18:42.189Z"
   },
   {
    "duration": 26,
    "start_time": "2022-01-27T14:18:42.194Z"
   },
   {
    "duration": 6,
    "start_time": "2022-01-27T14:18:42.221Z"
   },
   {
    "duration": 59,
    "start_time": "2022-01-27T14:18:42.229Z"
   },
   {
    "duration": 2,
    "start_time": "2022-01-27T14:18:42.290Z"
   },
   {
    "duration": 24,
    "start_time": "2022-01-27T14:18:42.294Z"
   },
   {
    "duration": 16,
    "start_time": "2022-01-27T14:18:42.320Z"
   },
   {
    "duration": 8,
    "start_time": "2022-01-27T14:18:42.337Z"
   },
   {
    "duration": 8,
    "start_time": "2022-01-27T14:18:42.371Z"
   },
   {
    "duration": 5,
    "start_time": "2022-01-27T14:18:42.380Z"
   },
   {
    "duration": 33,
    "start_time": "2022-01-27T14:22:27.727Z"
   },
   {
    "duration": 1614,
    "start_time": "2022-01-27T14:23:01.200Z"
   },
   {
    "duration": 1480,
    "start_time": "2022-01-27T14:23:32.144Z"
   },
   {
    "duration": 57,
    "start_time": "2022-01-27T14:24:35.424Z"
   },
   {
    "duration": 157,
    "start_time": "2022-01-27T14:25:30.880Z"
   },
   {
    "duration": 41,
    "start_time": "2022-01-27T14:25:39.711Z"
   },
   {
    "duration": 46,
    "start_time": "2022-01-27T14:26:20.671Z"
   },
   {
    "duration": 20,
    "start_time": "2022-01-27T14:26:56.479Z"
   },
   {
    "duration": 564,
    "start_time": "2022-01-27T14:27:04.895Z"
   },
   {
    "duration": 155,
    "start_time": "2022-01-27T14:27:05.461Z"
   },
   {
    "duration": 6,
    "start_time": "2022-01-27T14:27:05.618Z"
   },
   {
    "duration": 10,
    "start_time": "2022-01-27T14:27:05.627Z"
   },
   {
    "duration": 11,
    "start_time": "2022-01-27T14:27:05.639Z"
   },
   {
    "duration": 8,
    "start_time": "2022-01-27T14:27:05.651Z"
   },
   {
    "duration": 15,
    "start_time": "2022-01-27T14:27:05.661Z"
   },
   {
    "duration": 3,
    "start_time": "2022-01-27T14:27:05.679Z"
   },
   {
    "duration": 3,
    "start_time": "2022-01-27T14:27:05.685Z"
   },
   {
    "duration": 18,
    "start_time": "2022-01-27T14:27:05.690Z"
   },
   {
    "duration": 17,
    "start_time": "2022-01-27T14:27:05.710Z"
   },
   {
    "duration": 10,
    "start_time": "2022-01-27T14:27:05.729Z"
   },
   {
    "duration": 43,
    "start_time": "2022-01-27T14:27:05.740Z"
   },
   {
    "duration": 8,
    "start_time": "2022-01-27T14:27:05.784Z"
   },
   {
    "duration": 20,
    "start_time": "2022-01-27T14:27:05.793Z"
   },
   {
    "duration": 9,
    "start_time": "2022-01-27T14:27:05.815Z"
   },
   {
    "duration": 11,
    "start_time": "2022-01-27T14:27:05.825Z"
   },
   {
    "duration": 47,
    "start_time": "2022-01-27T14:27:05.837Z"
   },
   {
    "duration": 55,
    "start_time": "2022-01-27T14:27:05.886Z"
   },
   {
    "duration": 5,
    "start_time": "2022-01-27T14:27:05.943Z"
   },
   {
    "duration": 22,
    "start_time": "2022-01-27T14:27:05.950Z"
   },
   {
    "duration": 8,
    "start_time": "2022-01-27T14:27:05.974Z"
   },
   {
    "duration": 5,
    "start_time": "2022-01-27T14:27:05.984Z"
   },
   {
    "duration": 4,
    "start_time": "2022-01-27T14:27:05.991Z"
   },
   {
    "duration": 24,
    "start_time": "2022-01-27T14:27:05.997Z"
   },
   {
    "duration": 5,
    "start_time": "2022-01-27T14:27:06.022Z"
   },
   {
    "duration": 56,
    "start_time": "2022-01-27T14:27:06.028Z"
   },
   {
    "duration": 2,
    "start_time": "2022-01-27T14:27:06.085Z"
   },
   {
    "duration": 21,
    "start_time": "2022-01-27T14:27:06.088Z"
   },
   {
    "duration": 16,
    "start_time": "2022-01-27T14:27:06.110Z"
   },
   {
    "duration": 6,
    "start_time": "2022-01-27T14:27:06.128Z"
   },
   {
    "duration": 15,
    "start_time": "2022-01-27T14:27:06.135Z"
   },
   {
    "duration": 23,
    "start_time": "2022-01-27T14:27:06.151Z"
   },
   {
    "duration": 24,
    "start_time": "2022-01-27T14:27:23.741Z"
   },
   {
    "duration": 20,
    "start_time": "2022-01-27T14:28:44.788Z"
   },
   {
    "duration": 30,
    "start_time": "2022-01-27T14:29:30.933Z"
   },
   {
    "duration": 50,
    "start_time": "2022-01-27T14:33:05.555Z"
   },
   {
    "duration": 14,
    "start_time": "2022-01-27T14:33:54.156Z"
   },
   {
    "duration": 8,
    "start_time": "2022-01-27T14:34:12.932Z"
   },
   {
    "duration": 18,
    "start_time": "2022-01-27T14:34:14.564Z"
   },
   {
    "duration": 20,
    "start_time": "2022-01-27T14:39:04.372Z"
   },
   {
    "duration": 9,
    "start_time": "2022-01-27T14:40:09.396Z"
   },
   {
    "duration": 5,
    "start_time": "2022-01-27T14:40:48.114Z"
   },
   {
    "duration": 7,
    "start_time": "2022-01-27T14:41:05.316Z"
   },
   {
    "duration": 17,
    "start_time": "2022-01-27T14:41:16.968Z"
   },
   {
    "duration": 6,
    "start_time": "2022-01-27T14:44:16.820Z"
   },
   {
    "duration": 16,
    "start_time": "2022-01-27T14:44:25.836Z"
   },
   {
    "duration": 220,
    "start_time": "2022-01-28T07:51:59.005Z"
   },
   {
    "duration": 597,
    "start_time": "2022-01-28T07:52:08.071Z"
   },
   {
    "duration": 115,
    "start_time": "2022-01-28T07:52:08.670Z"
   },
   {
    "duration": 6,
    "start_time": "2022-01-28T07:52:08.787Z"
   },
   {
    "duration": 13,
    "start_time": "2022-01-28T07:52:08.795Z"
   },
   {
    "duration": 5,
    "start_time": "2022-01-28T07:52:08.809Z"
   },
   {
    "duration": 10,
    "start_time": "2022-01-28T07:52:08.816Z"
   },
   {
    "duration": 18,
    "start_time": "2022-01-28T07:52:08.828Z"
   },
   {
    "duration": 3,
    "start_time": "2022-01-28T07:52:08.848Z"
   },
   {
    "duration": 7,
    "start_time": "2022-01-28T07:52:08.854Z"
   },
   {
    "duration": 39,
    "start_time": "2022-01-28T07:52:08.863Z"
   },
   {
    "duration": 20,
    "start_time": "2022-01-28T07:52:08.904Z"
   },
   {
    "duration": 18,
    "start_time": "2022-01-28T07:52:08.927Z"
   },
   {
    "duration": 30,
    "start_time": "2022-01-28T07:52:08.947Z"
   },
   {
    "duration": 28,
    "start_time": "2022-01-28T07:52:08.980Z"
   },
   {
    "duration": 28,
    "start_time": "2022-01-28T07:52:09.010Z"
   },
   {
    "duration": 13,
    "start_time": "2022-01-28T07:52:09.040Z"
   },
   {
    "duration": 15,
    "start_time": "2022-01-28T07:52:09.055Z"
   },
   {
    "duration": 40,
    "start_time": "2022-01-28T07:52:09.072Z"
   },
   {
    "duration": 59,
    "start_time": "2022-01-28T07:52:09.114Z"
   },
   {
    "duration": 23,
    "start_time": "2022-01-28T07:52:09.175Z"
   },
   {
    "duration": 7,
    "start_time": "2022-01-28T07:52:09.200Z"
   },
   {
    "duration": 25,
    "start_time": "2022-01-28T07:52:09.209Z"
   },
   {
    "duration": 14,
    "start_time": "2022-01-28T07:52:09.235Z"
   },
   {
    "duration": 19,
    "start_time": "2022-01-28T07:52:09.251Z"
   },
   {
    "duration": 36,
    "start_time": "2022-01-28T07:52:09.272Z"
   },
   {
    "duration": 10,
    "start_time": "2022-01-28T07:52:09.310Z"
   },
   {
    "duration": 25,
    "start_time": "2022-01-28T07:52:09.324Z"
   },
   {
    "duration": 19,
    "start_time": "2022-01-28T07:52:09.351Z"
   },
   {
    "duration": 37,
    "start_time": "2022-01-28T07:52:09.372Z"
   },
   {
    "duration": 20,
    "start_time": "2022-01-28T07:52:09.411Z"
   },
   {
    "duration": 8,
    "start_time": "2022-01-28T07:52:09.433Z"
   },
   {
    "duration": 11,
    "start_time": "2022-01-28T07:52:09.443Z"
   },
   {
    "duration": 14,
    "start_time": "2022-01-28T07:52:09.456Z"
   },
   {
    "duration": 29,
    "start_time": "2022-01-28T07:52:09.471Z"
   },
   {
    "duration": 22,
    "start_time": "2022-01-28T07:52:09.502Z"
   },
   {
    "duration": 8,
    "start_time": "2022-01-28T07:52:09.526Z"
   },
   {
    "duration": 10,
    "start_time": "2022-01-28T07:52:09.535Z"
   },
   {
    "duration": 13,
    "start_time": "2022-01-28T07:52:28.948Z"
   },
   {
    "duration": 7,
    "start_time": "2022-01-28T07:52:48.291Z"
   },
   {
    "duration": 19,
    "start_time": "2022-01-28T07:53:11.602Z"
   },
   {
    "duration": 6,
    "start_time": "2022-01-28T08:10:27.116Z"
   },
   {
    "duration": 18,
    "start_time": "2022-01-28T08:10:36.467Z"
   },
   {
    "duration": 6,
    "start_time": "2022-01-28T08:11:02.258Z"
   },
   {
    "duration": 34,
    "start_time": "2022-01-28T08:11:04.382Z"
   },
   {
    "duration": 7,
    "start_time": "2022-01-28T08:13:07.627Z"
   },
   {
    "duration": 5,
    "start_time": "2022-01-28T08:14:48.643Z"
   },
   {
    "duration": 4,
    "start_time": "2022-01-28T08:14:53.699Z"
   },
   {
    "duration": 7,
    "start_time": "2022-01-28T08:15:27.995Z"
   },
   {
    "duration": 14,
    "start_time": "2022-01-28T08:18:54.938Z"
   },
   {
    "duration": 7,
    "start_time": "2022-01-28T08:27:52.041Z"
   },
   {
    "duration": 5,
    "start_time": "2022-01-28T08:30:26.314Z"
   },
   {
    "duration": 6,
    "start_time": "2022-01-28T08:31:12.483Z"
   },
   {
    "duration": 4,
    "start_time": "2022-01-28T08:31:38.196Z"
   },
   {
    "duration": 6,
    "start_time": "2022-01-28T08:32:08.307Z"
   },
   {
    "duration": 8,
    "start_time": "2022-01-28T08:34:02.932Z"
   },
   {
    "duration": 4,
    "start_time": "2022-01-28T08:34:34.091Z"
   },
   {
    "duration": 13,
    "start_time": "2022-01-28T08:34:55.635Z"
   },
   {
    "duration": 299,
    "start_time": "2022-01-28T10:42:33.485Z"
   },
   {
    "duration": 624,
    "start_time": "2022-01-28T10:42:40.293Z"
   },
   {
    "duration": 162,
    "start_time": "2022-01-28T10:42:40.919Z"
   },
   {
    "duration": 7,
    "start_time": "2022-01-28T10:42:41.083Z"
   },
   {
    "duration": 13,
    "start_time": "2022-01-28T10:42:41.091Z"
   },
   {
    "duration": 5,
    "start_time": "2022-01-28T10:42:41.106Z"
   },
   {
    "duration": 10,
    "start_time": "2022-01-28T10:42:41.112Z"
   },
   {
    "duration": 23,
    "start_time": "2022-01-28T10:42:41.123Z"
   },
   {
    "duration": 3,
    "start_time": "2022-01-28T10:42:41.148Z"
   },
   {
    "duration": 6,
    "start_time": "2022-01-28T10:42:41.153Z"
   },
   {
    "duration": 37,
    "start_time": "2022-01-28T10:42:41.161Z"
   },
   {
    "duration": 20,
    "start_time": "2022-01-28T10:42:41.200Z"
   },
   {
    "duration": 11,
    "start_time": "2022-01-28T10:42:41.222Z"
   },
   {
    "duration": 25,
    "start_time": "2022-01-28T10:42:41.235Z"
   },
   {
    "duration": 38,
    "start_time": "2022-01-28T10:42:41.262Z"
   },
   {
    "duration": 20,
    "start_time": "2022-01-28T10:42:41.302Z"
   },
   {
    "duration": 10,
    "start_time": "2022-01-28T10:42:41.323Z"
   },
   {
    "duration": 10,
    "start_time": "2022-01-28T10:42:41.334Z"
   },
   {
    "duration": 27,
    "start_time": "2022-01-28T10:42:41.346Z"
   },
   {
    "duration": 78,
    "start_time": "2022-01-28T10:42:41.374Z"
   },
   {
    "duration": 5,
    "start_time": "2022-01-28T10:42:41.453Z"
   },
   {
    "duration": 8,
    "start_time": "2022-01-28T10:42:41.459Z"
   },
   {
    "duration": 10,
    "start_time": "2022-01-28T10:42:41.468Z"
   },
   {
    "duration": 5,
    "start_time": "2022-01-28T10:42:41.499Z"
   },
   {
    "duration": 7,
    "start_time": "2022-01-28T10:42:41.506Z"
   },
   {
    "duration": 28,
    "start_time": "2022-01-28T10:42:41.514Z"
   },
   {
    "duration": 6,
    "start_time": "2022-01-28T10:42:41.543Z"
   },
   {
    "duration": 17,
    "start_time": "2022-01-28T10:42:41.550Z"
   },
   {
    "duration": 31,
    "start_time": "2022-01-28T10:42:41.568Z"
   },
   {
    "duration": 23,
    "start_time": "2022-01-28T10:42:41.601Z"
   },
   {
    "duration": 17,
    "start_time": "2022-01-28T10:42:41.626Z"
   },
   {
    "duration": 6,
    "start_time": "2022-01-28T10:42:41.645Z"
   },
   {
    "duration": 12,
    "start_time": "2022-01-28T10:42:41.652Z"
   },
   {
    "duration": 32,
    "start_time": "2022-01-28T10:42:41.666Z"
   },
   {
    "duration": 4,
    "start_time": "2022-01-28T10:42:41.700Z"
   },
   {
    "duration": 24,
    "start_time": "2022-01-28T10:42:41.705Z"
   },
   {
    "duration": 5,
    "start_time": "2022-01-28T10:42:41.730Z"
   },
   {
    "duration": 7,
    "start_time": "2022-01-28T10:42:41.737Z"
   },
   {
    "duration": 23,
    "start_time": "2022-01-28T10:42:41.746Z"
   },
   {
    "duration": 28,
    "start_time": "2022-01-28T10:42:41.770Z"
   },
   {
    "duration": 6,
    "start_time": "2022-01-28T10:42:41.800Z"
   },
   {
    "duration": 6,
    "start_time": "2022-01-28T10:42:41.808Z"
   },
   {
    "duration": 9,
    "start_time": "2022-01-28T10:42:41.815Z"
   },
   {
    "duration": 8,
    "start_time": "2022-01-28T10:42:41.826Z"
   },
   {
    "duration": 15,
    "start_time": "2022-01-28T10:42:41.836Z"
   },
   {
    "duration": 18,
    "start_time": "2022-01-28T10:42:41.852Z"
   },
   {
    "duration": 5,
    "start_time": "2022-01-28T10:53:20.863Z"
   },
   {
    "duration": 5,
    "start_time": "2022-01-28T10:53:37.776Z"
   },
   {
    "duration": 349,
    "start_time": "2022-01-28T10:57:42.000Z"
   },
   {
    "duration": 23,
    "start_time": "2022-01-28T10:58:15.648Z"
   },
   {
    "duration": 22,
    "start_time": "2022-01-28T10:59:20.296Z"
   },
   {
    "duration": 23,
    "start_time": "2022-01-28T10:59:56.327Z"
   },
   {
    "duration": 632,
    "start_time": "2022-01-28T11:00:31.855Z"
   },
   {
    "duration": 150,
    "start_time": "2022-01-28T11:00:32.490Z"
   },
   {
    "duration": 9,
    "start_time": "2022-01-28T11:00:32.642Z"
   },
   {
    "duration": 20,
    "start_time": "2022-01-28T11:00:32.653Z"
   },
   {
    "duration": 11,
    "start_time": "2022-01-28T11:00:32.675Z"
   },
   {
    "duration": 15,
    "start_time": "2022-01-28T11:00:32.688Z"
   },
   {
    "duration": 23,
    "start_time": "2022-01-28T11:00:32.705Z"
   },
   {
    "duration": 4,
    "start_time": "2022-01-28T11:00:32.729Z"
   },
   {
    "duration": 13,
    "start_time": "2022-01-28T11:00:32.736Z"
   },
   {
    "duration": 47,
    "start_time": "2022-01-28T11:00:32.752Z"
   },
   {
    "duration": 24,
    "start_time": "2022-01-28T11:00:32.801Z"
   },
   {
    "duration": 20,
    "start_time": "2022-01-28T11:00:32.827Z"
   },
   {
    "duration": 61,
    "start_time": "2022-01-28T11:00:32.849Z"
   },
   {
    "duration": 11,
    "start_time": "2022-01-28T11:00:32.911Z"
   },
   {
    "duration": 30,
    "start_time": "2022-01-28T11:00:32.924Z"
   },
   {
    "duration": 48,
    "start_time": "2022-01-28T11:00:32.955Z"
   },
   {
    "duration": 11,
    "start_time": "2022-01-28T11:00:33.005Z"
   },
   {
    "duration": 19,
    "start_time": "2022-01-28T11:00:33.018Z"
   },
   {
    "duration": 31,
    "start_time": "2022-01-28T11:00:33.039Z"
   },
   {
    "duration": 89,
    "start_time": "2022-01-28T11:00:33.072Z"
   },
   {
    "duration": 6,
    "start_time": "2022-01-28T11:00:33.163Z"
   },
   {
    "duration": 29,
    "start_time": "2022-01-28T11:00:33.171Z"
   },
   {
    "duration": 14,
    "start_time": "2022-01-28T11:00:33.202Z"
   },
   {
    "duration": 14,
    "start_time": "2022-01-28T11:00:33.219Z"
   },
   {
    "duration": 8,
    "start_time": "2022-01-28T11:00:33.235Z"
   },
   {
    "duration": 79,
    "start_time": "2022-01-28T11:00:33.246Z"
   },
   {
    "duration": 8,
    "start_time": "2022-01-28T11:00:33.333Z"
   },
   {
    "duration": 22,
    "start_time": "2022-01-28T11:00:33.344Z"
   },
   {
    "duration": 34,
    "start_time": "2022-01-28T11:00:33.369Z"
   },
   {
    "duration": 31,
    "start_time": "2022-01-28T11:00:33.405Z"
   },
   {
    "duration": 21,
    "start_time": "2022-01-28T11:00:33.438Z"
   },
   {
    "duration": 8,
    "start_time": "2022-01-28T11:00:33.461Z"
   },
   {
    "duration": 33,
    "start_time": "2022-01-28T11:00:33.470Z"
   },
   {
    "duration": 11,
    "start_time": "2022-01-28T11:00:33.506Z"
   },
   {
    "duration": 9,
    "start_time": "2022-01-28T11:00:33.519Z"
   },
   {
    "duration": 40,
    "start_time": "2022-01-28T11:00:33.531Z"
   },
   {
    "duration": 31,
    "start_time": "2022-01-28T11:00:33.573Z"
   },
   {
    "duration": 9,
    "start_time": "2022-01-28T11:00:33.607Z"
   },
   {
    "duration": 31,
    "start_time": "2022-01-28T11:00:33.618Z"
   },
   {
    "duration": 10,
    "start_time": "2022-01-28T11:00:33.652Z"
   },
   {
    "duration": 34,
    "start_time": "2022-01-28T11:00:33.665Z"
   },
   {
    "duration": 6,
    "start_time": "2022-01-28T11:00:33.702Z"
   },
   {
    "duration": 10,
    "start_time": "2022-01-28T11:00:33.711Z"
   },
   {
    "duration": 6,
    "start_time": "2022-01-28T11:00:33.723Z"
   },
   {
    "duration": 19,
    "start_time": "2022-01-28T11:00:33.731Z"
   },
   {
    "duration": 7,
    "start_time": "2022-01-28T11:02:12.888Z"
   },
   {
    "duration": 34,
    "start_time": "2022-01-28T11:02:43.503Z"
   },
   {
    "duration": 7,
    "start_time": "2022-01-28T13:03:23.025Z"
   },
   {
    "duration": 5,
    "start_time": "2022-01-28T13:05:01.592Z"
   },
   {
    "duration": 7,
    "start_time": "2022-01-28T13:05:19.058Z"
   },
   {
    "duration": 34,
    "start_time": "2022-01-28T13:06:56.393Z"
   },
   {
    "duration": 26,
    "start_time": "2022-01-28T13:07:08.321Z"
   },
   {
    "duration": 14,
    "start_time": "2022-01-28T13:11:20.018Z"
   },
   {
    "duration": 18,
    "start_time": "2022-01-28T13:11:26.401Z"
   },
   {
    "duration": 9,
    "start_time": "2022-01-28T13:11:28.361Z"
   },
   {
    "duration": 27,
    "start_time": "2022-01-28T13:11:30.337Z"
   },
   {
    "duration": 19,
    "start_time": "2022-01-28T13:11:54.808Z"
   },
   {
    "duration": 4,
    "start_time": "2022-01-28T13:12:05.562Z"
   },
   {
    "duration": 9,
    "start_time": "2022-01-28T13:12:07.106Z"
   },
   {
    "duration": 5,
    "start_time": "2022-01-28T13:12:10.394Z"
   },
   {
    "duration": 4,
    "start_time": "2022-01-28T13:12:12.218Z"
   },
   {
    "duration": 18,
    "start_time": "2022-01-28T13:12:14.371Z"
   },
   {
    "duration": 6,
    "start_time": "2022-01-28T13:12:17.402Z"
   },
   {
    "duration": 4,
    "start_time": "2022-01-28T13:12:19.321Z"
   },
   {
    "duration": 20,
    "start_time": "2022-01-28T13:12:20.617Z"
   },
   {
    "duration": 6,
    "start_time": "2022-01-28T13:12:24.841Z"
   },
   {
    "duration": 7,
    "start_time": "2022-01-28T13:12:26.833Z"
   },
   {
    "duration": 4,
    "start_time": "2022-01-28T13:12:28.713Z"
   },
   {
    "duration": 5,
    "start_time": "2022-01-28T13:12:30.490Z"
   },
   {
    "duration": 5,
    "start_time": "2022-01-28T13:12:32.537Z"
   },
   {
    "duration": 27,
    "start_time": "2022-01-28T13:12:37.306Z"
   },
   {
    "duration": 6,
    "start_time": "2022-01-28T13:15:38.466Z"
   },
   {
    "duration": 23,
    "start_time": "2022-01-28T13:15:44.131Z"
   },
   {
    "duration": 643,
    "start_time": "2022-01-28T13:16:09.020Z"
   },
   {
    "duration": 117,
    "start_time": "2022-01-28T13:16:09.665Z"
   },
   {
    "duration": 6,
    "start_time": "2022-01-28T13:16:09.785Z"
   },
   {
    "duration": 31,
    "start_time": "2022-01-28T13:16:09.793Z"
   },
   {
    "duration": 37,
    "start_time": "2022-01-28T13:16:09.826Z"
   },
   {
    "duration": 35,
    "start_time": "2022-01-28T13:16:09.865Z"
   },
   {
    "duration": 51,
    "start_time": "2022-01-28T13:16:09.902Z"
   },
   {
    "duration": 16,
    "start_time": "2022-01-28T13:16:09.955Z"
   },
   {
    "duration": 21,
    "start_time": "2022-01-28T13:16:09.974Z"
   },
   {
    "duration": 22,
    "start_time": "2022-01-28T13:16:09.998Z"
   },
   {
    "duration": 39,
    "start_time": "2022-01-28T13:16:10.022Z"
   },
   {
    "duration": 47,
    "start_time": "2022-01-28T13:16:10.062Z"
   },
   {
    "duration": 39,
    "start_time": "2022-01-28T13:16:10.111Z"
   },
   {
    "duration": 25,
    "start_time": "2022-01-28T13:16:10.151Z"
   },
   {
    "duration": 70,
    "start_time": "2022-01-28T13:16:10.178Z"
   },
   {
    "duration": 23,
    "start_time": "2022-01-28T13:16:10.251Z"
   },
   {
    "duration": 12,
    "start_time": "2022-01-28T13:16:10.277Z"
   },
   {
    "duration": 11,
    "start_time": "2022-01-28T13:16:10.291Z"
   },
   {
    "duration": 26,
    "start_time": "2022-01-28T13:16:10.304Z"
   },
   {
    "duration": 67,
    "start_time": "2022-01-28T13:16:10.331Z"
   },
   {
    "duration": 5,
    "start_time": "2022-01-28T13:16:10.400Z"
   },
   {
    "duration": 6,
    "start_time": "2022-01-28T13:16:10.407Z"
   },
   {
    "duration": 12,
    "start_time": "2022-01-28T13:16:10.414Z"
   },
   {
    "duration": 8,
    "start_time": "2022-01-28T13:16:10.427Z"
   },
   {
    "duration": 8,
    "start_time": "2022-01-28T13:16:10.437Z"
   },
   {
    "duration": 53,
    "start_time": "2022-01-28T13:16:10.446Z"
   },
   {
    "duration": 17,
    "start_time": "2022-01-28T13:16:10.505Z"
   },
   {
    "duration": 17,
    "start_time": "2022-01-28T13:16:10.525Z"
   },
   {
    "duration": 9,
    "start_time": "2022-01-28T13:16:10.544Z"
   },
   {
    "duration": 55,
    "start_time": "2022-01-28T13:16:10.555Z"
   },
   {
    "duration": 22,
    "start_time": "2022-01-28T13:16:10.613Z"
   },
   {
    "duration": 4,
    "start_time": "2022-01-28T13:16:10.637Z"
   },
   {
    "duration": 12,
    "start_time": "2022-01-28T13:16:10.643Z"
   },
   {
    "duration": 6,
    "start_time": "2022-01-28T13:16:10.657Z"
   },
   {
    "duration": 38,
    "start_time": "2022-01-28T13:16:10.664Z"
   },
   {
    "duration": 23,
    "start_time": "2022-01-28T13:16:10.704Z"
   },
   {
    "duration": 7,
    "start_time": "2022-01-28T13:16:10.729Z"
   },
   {
    "duration": 11,
    "start_time": "2022-01-28T13:16:10.738Z"
   },
   {
    "duration": 23,
    "start_time": "2022-01-28T13:16:10.751Z"
   },
   {
    "duration": 6,
    "start_time": "2022-01-28T13:16:10.798Z"
   },
   {
    "duration": 9,
    "start_time": "2022-01-28T13:16:10.806Z"
   },
   {
    "duration": 7,
    "start_time": "2022-01-28T13:16:10.817Z"
   },
   {
    "duration": 15,
    "start_time": "2022-01-28T13:16:10.826Z"
   },
   {
    "duration": 4,
    "start_time": "2022-01-28T13:16:10.843Z"
   },
   {
    "duration": 17,
    "start_time": "2022-01-28T13:16:10.849Z"
   },
   {
    "duration": 51,
    "start_time": "2022-01-28T13:16:10.868Z"
   },
   {
    "duration": 31,
    "start_time": "2022-01-28T13:27:33.591Z"
   },
   {
    "duration": 28,
    "start_time": "2022-01-28T13:29:30.328Z"
   },
   {
    "duration": 32,
    "start_time": "2022-01-28T13:29:51.568Z"
   },
   {
    "duration": 8,
    "start_time": "2022-01-28T13:37:39.904Z"
   },
   {
    "duration": 23,
    "start_time": "2022-01-28T13:48:54.779Z"
   },
   {
    "duration": 20,
    "start_time": "2022-01-28T13:49:44.818Z"
   },
   {
    "duration": 565,
    "start_time": "2022-01-28T13:50:02.723Z"
   },
   {
    "duration": 28,
    "start_time": "2022-01-28T13:50:19.153Z"
   },
   {
    "duration": 32,
    "start_time": "2022-01-28T13:50:24.595Z"
   },
   {
    "duration": 362,
    "start_time": "2022-01-28T14:10:43.558Z"
   },
   {
    "duration": 95,
    "start_time": "2022-01-28T14:11:58.823Z"
   },
   {
    "duration": 319,
    "start_time": "2022-01-28T14:12:22.841Z"
   },
   {
    "duration": 268,
    "start_time": "2022-01-28T14:13:12.855Z"
   },
   {
    "duration": 269,
    "start_time": "2022-01-28T14:13:51.326Z"
   },
   {
    "duration": 378,
    "start_time": "2022-01-28T14:14:03.158Z"
   },
   {
    "duration": 6,
    "start_time": "2022-01-28T14:16:13.439Z"
   },
   {
    "duration": 8,
    "start_time": "2022-01-28T14:16:22.478Z"
   },
   {
    "duration": 259,
    "start_time": "2022-01-28T14:17:50.671Z"
   },
   {
    "duration": 6,
    "start_time": "2022-01-28T14:18:05.807Z"
   },
   {
    "duration": 5,
    "start_time": "2022-01-28T14:18:53.617Z"
   },
   {
    "duration": 6,
    "start_time": "2022-01-28T14:19:31.584Z"
   },
   {
    "duration": 21,
    "start_time": "2022-01-28T14:19:51.815Z"
   },
   {
    "duration": 29,
    "start_time": "2022-01-28T14:20:43.711Z"
   },
   {
    "duration": 23,
    "start_time": "2022-01-28T14:21:16.675Z"
   },
   {
    "duration": 82,
    "start_time": "2022-01-28T14:24:14.160Z"
   },
   {
    "duration": 6,
    "start_time": "2022-01-28T14:25:27.961Z"
   },
   {
    "duration": 92,
    "start_time": "2022-01-28T14:28:03.634Z"
   },
   {
    "duration": 6,
    "start_time": "2022-01-28T14:28:40.152Z"
   },
   {
    "duration": 12,
    "start_time": "2022-01-28T14:28:48.231Z"
   },
   {
    "duration": 9,
    "start_time": "2022-01-28T14:29:32.952Z"
   },
   {
    "duration": 13,
    "start_time": "2022-01-28T14:29:54.465Z"
   },
   {
    "duration": 353,
    "start_time": "2022-01-29T11:28:37.090Z"
   },
   {
    "duration": 775,
    "start_time": "2022-01-29T11:30:35.623Z"
   },
   {
    "duration": 161,
    "start_time": "2022-01-29T11:30:36.401Z"
   },
   {
    "duration": 9,
    "start_time": "2022-01-29T11:30:36.565Z"
   },
   {
    "duration": 15,
    "start_time": "2022-01-29T11:30:36.576Z"
   },
   {
    "duration": 8,
    "start_time": "2022-01-29T11:30:36.624Z"
   },
   {
    "duration": 13,
    "start_time": "2022-01-29T11:30:36.636Z"
   },
   {
    "duration": 74,
    "start_time": "2022-01-29T11:30:36.651Z"
   },
   {
    "duration": 5,
    "start_time": "2022-01-29T11:30:36.728Z"
   },
   {
    "duration": 11,
    "start_time": "2022-01-29T11:30:36.737Z"
   },
   {
    "duration": 25,
    "start_time": "2022-01-29T11:30:36.752Z"
   },
   {
    "duration": 68,
    "start_time": "2022-01-29T11:30:36.779Z"
   },
   {
    "duration": 16,
    "start_time": "2022-01-29T11:30:36.849Z"
   },
   {
    "duration": 80,
    "start_time": "2022-01-29T11:30:36.867Z"
   },
   {
    "duration": 14,
    "start_time": "2022-01-29T11:30:36.949Z"
   },
   {
    "duration": 59,
    "start_time": "2022-01-29T11:30:36.966Z"
   },
   {
    "duration": 39,
    "start_time": "2022-01-29T11:30:37.029Z"
   },
   {
    "duration": 15,
    "start_time": "2022-01-29T11:30:37.071Z"
   },
   {
    "duration": 52,
    "start_time": "2022-01-29T11:30:37.088Z"
   },
   {
    "duration": 31,
    "start_time": "2022-01-29T11:30:37.142Z"
   },
   {
    "duration": 133,
    "start_time": "2022-01-29T11:30:37.175Z"
   },
   {
    "duration": 15,
    "start_time": "2022-01-29T11:30:37.311Z"
   },
   {
    "duration": 21,
    "start_time": "2022-01-29T11:30:37.329Z"
   },
   {
    "duration": 12,
    "start_time": "2022-01-29T11:30:37.352Z"
   },
   {
    "duration": 8,
    "start_time": "2022-01-29T11:30:37.367Z"
   },
   {
    "duration": 46,
    "start_time": "2022-01-29T11:30:37.377Z"
   },
   {
    "duration": 40,
    "start_time": "2022-01-29T11:30:37.426Z"
   },
   {
    "duration": 68,
    "start_time": "2022-01-29T11:30:37.473Z"
   },
   {
    "duration": 22,
    "start_time": "2022-01-29T11:30:37.544Z"
   },
   {
    "duration": 18,
    "start_time": "2022-01-29T11:30:37.569Z"
   },
   {
    "duration": 41,
    "start_time": "2022-01-29T11:30:37.623Z"
   },
   {
    "duration": 62,
    "start_time": "2022-01-29T11:30:37.666Z"
   },
   {
    "duration": 13,
    "start_time": "2022-01-29T11:30:37.731Z"
   },
   {
    "duration": 23,
    "start_time": "2022-01-29T11:30:37.747Z"
   },
   {
    "duration": 9,
    "start_time": "2022-01-29T11:30:37.772Z"
   },
   {
    "duration": 7,
    "start_time": "2022-01-29T11:30:37.823Z"
   },
   {
    "duration": 38,
    "start_time": "2022-01-29T11:30:37.833Z"
   },
   {
    "duration": 7,
    "start_time": "2022-01-29T11:30:37.873Z"
   },
   {
    "duration": 41,
    "start_time": "2022-01-29T11:30:37.883Z"
   },
   {
    "duration": 39,
    "start_time": "2022-01-29T11:30:37.927Z"
   },
   {
    "duration": 14,
    "start_time": "2022-01-29T11:30:37.968Z"
   },
   {
    "duration": 39,
    "start_time": "2022-01-29T11:30:37.985Z"
   },
   {
    "duration": 14,
    "start_time": "2022-01-29T11:30:38.027Z"
   },
   {
    "duration": 8,
    "start_time": "2022-01-29T11:30:38.043Z"
   },
   {
    "duration": 5,
    "start_time": "2022-01-29T11:30:38.054Z"
   },
   {
    "duration": 74,
    "start_time": "2022-01-29T11:30:38.061Z"
   },
   {
    "duration": 48,
    "start_time": "2022-01-29T11:30:38.138Z"
   },
   {
    "duration": 66,
    "start_time": "2022-01-29T11:30:38.188Z"
   },
   {
    "duration": 13,
    "start_time": "2022-01-29T11:30:38.256Z"
   },
   {
    "duration": 9,
    "start_time": "2022-01-29T11:33:42.008Z"
   },
   {
    "duration": 7,
    "start_time": "2022-01-29T11:34:38.333Z"
   },
   {
    "duration": 474,
    "start_time": "2022-01-29T11:47:08.080Z"
   },
   {
    "duration": 1901,
    "start_time": "2022-01-29T11:48:17.688Z"
   },
   {
    "duration": 9,
    "start_time": "2022-01-29T11:49:53.008Z"
   },
   {
    "duration": 6,
    "start_time": "2022-01-29T11:50:06.264Z"
   },
   {
    "duration": 10,
    "start_time": "2022-01-29T11:51:10.892Z"
   },
   {
    "duration": 13,
    "start_time": "2022-01-29T11:51:13.624Z"
   },
   {
    "duration": 331,
    "start_time": "2022-01-29T11:52:05.448Z"
   },
   {
    "duration": 309,
    "start_time": "2022-01-29T11:53:15.488Z"
   },
   {
    "duration": 2105,
    "start_time": "2022-01-29T11:53:24.892Z"
   },
   {
    "duration": 384,
    "start_time": "2022-01-29T11:54:18.380Z"
   },
   {
    "duration": 298,
    "start_time": "2022-01-29T11:57:37.940Z"
   },
   {
    "duration": 808,
    "start_time": "2022-01-29T11:57:49.318Z"
   },
   {
    "duration": 160,
    "start_time": "2022-01-29T11:57:50.129Z"
   },
   {
    "duration": 9,
    "start_time": "2022-01-29T11:57:50.292Z"
   },
   {
    "duration": 15,
    "start_time": "2022-01-29T11:57:50.303Z"
   },
   {
    "duration": 12,
    "start_time": "2022-01-29T11:57:50.320Z"
   },
   {
    "duration": 18,
    "start_time": "2022-01-29T11:57:50.334Z"
   },
   {
    "duration": 36,
    "start_time": "2022-01-29T11:57:50.355Z"
   },
   {
    "duration": 5,
    "start_time": "2022-01-29T11:57:50.395Z"
   },
   {
    "duration": 25,
    "start_time": "2022-01-29T11:57:50.403Z"
   },
   {
    "duration": 19,
    "start_time": "2022-01-29T11:57:50.436Z"
   },
   {
    "duration": 32,
    "start_time": "2022-01-29T11:57:50.458Z"
   },
   {
    "duration": 47,
    "start_time": "2022-01-29T11:57:50.493Z"
   },
   {
    "duration": 39,
    "start_time": "2022-01-29T11:57:50.544Z"
   },
   {
    "duration": 53,
    "start_time": "2022-01-29T11:57:50.585Z"
   },
   {
    "duration": 28,
    "start_time": "2022-01-29T11:57:50.641Z"
   },
   {
    "duration": 70,
    "start_time": "2022-01-29T11:57:50.672Z"
   },
   {
    "duration": 14,
    "start_time": "2022-01-29T11:57:50.744Z"
   },
   {
    "duration": 13,
    "start_time": "2022-01-29T11:57:50.760Z"
   },
   {
    "duration": 65,
    "start_time": "2022-01-29T11:57:50.775Z"
   },
   {
    "duration": 107,
    "start_time": "2022-01-29T11:57:50.842Z"
   },
   {
    "duration": 6,
    "start_time": "2022-01-29T11:57:50.952Z"
   },
   {
    "duration": 14,
    "start_time": "2022-01-29T11:57:50.960Z"
   },
   {
    "duration": 11,
    "start_time": "2022-01-29T11:57:50.980Z"
   },
   {
    "duration": 55,
    "start_time": "2022-01-29T11:57:50.994Z"
   },
   {
    "duration": 7,
    "start_time": "2022-01-29T11:57:51.052Z"
   },
   {
    "duration": 41,
    "start_time": "2022-01-29T11:57:51.062Z"
   },
   {
    "duration": 42,
    "start_time": "2022-01-29T11:57:51.106Z"
   },
   {
    "duration": 24,
    "start_time": "2022-01-29T11:57:51.151Z"
   },
   {
    "duration": 61,
    "start_time": "2022-01-29T11:57:51.178Z"
   },
   {
    "duration": 42,
    "start_time": "2022-01-29T11:57:51.241Z"
   },
   {
    "duration": 58,
    "start_time": "2022-01-29T11:57:51.286Z"
   },
   {
    "duration": 5,
    "start_time": "2022-01-29T11:57:51.347Z"
   },
   {
    "duration": 16,
    "start_time": "2022-01-29T11:57:51.355Z"
   },
   {
    "duration": 8,
    "start_time": "2022-01-29T11:57:51.373Z"
   },
   {
    "duration": 43,
    "start_time": "2022-01-29T11:57:51.384Z"
   },
   {
    "duration": 40,
    "start_time": "2022-01-29T11:57:51.429Z"
   },
   {
    "duration": 7,
    "start_time": "2022-01-29T11:57:51.471Z"
   },
   {
    "duration": 7,
    "start_time": "2022-01-29T11:57:51.481Z"
   },
   {
    "duration": 31,
    "start_time": "2022-01-29T11:57:51.532Z"
   },
   {
    "duration": 14,
    "start_time": "2022-01-29T11:57:51.565Z"
   },
   {
    "duration": 42,
    "start_time": "2022-01-29T11:57:51.581Z"
   },
   {
    "duration": 7,
    "start_time": "2022-01-29T11:57:51.625Z"
   },
   {
    "duration": 19,
    "start_time": "2022-01-29T11:57:51.633Z"
   },
   {
    "duration": 5,
    "start_time": "2022-01-29T11:57:51.655Z"
   },
   {
    "duration": 75,
    "start_time": "2022-01-29T11:57:51.663Z"
   },
   {
    "duration": 46,
    "start_time": "2022-01-29T11:57:51.742Z"
   },
   {
    "duration": 62,
    "start_time": "2022-01-29T11:57:51.790Z"
   },
   {
    "duration": 12,
    "start_time": "2022-01-29T11:57:51.854Z"
   },
   {
    "duration": 8,
    "start_time": "2022-01-29T11:57:51.869Z"
   },
   {
    "duration": 540,
    "start_time": "2022-01-29T11:57:51.880Z"
   },
   {
    "duration": 12,
    "start_time": "2022-01-29T11:58:32.459Z"
   },
   {
    "duration": 8,
    "start_time": "2022-01-29T11:58:38.534Z"
   },
   {
    "duration": 9,
    "start_time": "2022-01-29T11:59:14.447Z"
   },
   {
    "duration": 327,
    "start_time": "2022-01-29T12:00:30.539Z"
   },
   {
    "duration": 418,
    "start_time": "2022-01-29T12:00:40.436Z"
   },
   {
    "duration": 750,
    "start_time": "2022-01-29T12:00:52.867Z"
   },
   {
    "duration": 153,
    "start_time": "2022-01-29T12:00:53.620Z"
   },
   {
    "duration": 8,
    "start_time": "2022-01-29T12:00:53.776Z"
   },
   {
    "duration": 14,
    "start_time": "2022-01-29T12:00:53.787Z"
   },
   {
    "duration": 22,
    "start_time": "2022-01-29T12:00:53.804Z"
   },
   {
    "duration": 16,
    "start_time": "2022-01-29T12:00:53.829Z"
   },
   {
    "duration": 27,
    "start_time": "2022-01-29T12:00:53.847Z"
   },
   {
    "duration": 4,
    "start_time": "2022-01-29T12:00:53.878Z"
   },
   {
    "duration": 41,
    "start_time": "2022-01-29T12:00:53.885Z"
   },
   {
    "duration": 27,
    "start_time": "2022-01-29T12:00:53.929Z"
   },
   {
    "duration": 33,
    "start_time": "2022-01-29T12:00:53.958Z"
   },
   {
    "duration": 52,
    "start_time": "2022-01-29T12:00:53.994Z"
   },
   {
    "duration": 40,
    "start_time": "2022-01-29T12:00:54.049Z"
   },
   {
    "duration": 40,
    "start_time": "2022-01-29T12:00:54.091Z"
   },
   {
    "duration": 37,
    "start_time": "2022-01-29T12:00:54.134Z"
   },
   {
    "duration": 57,
    "start_time": "2022-01-29T12:00:54.173Z"
   },
   {
    "duration": 16,
    "start_time": "2022-01-29T12:00:54.233Z"
   },
   {
    "duration": 17,
    "start_time": "2022-01-29T12:00:54.251Z"
   },
   {
    "duration": 78,
    "start_time": "2022-01-29T12:00:54.270Z"
   },
   {
    "duration": 103,
    "start_time": "2022-01-29T12:00:54.350Z"
   },
   {
    "duration": 7,
    "start_time": "2022-01-29T12:00:54.455Z"
   },
   {
    "duration": 6,
    "start_time": "2022-01-29T12:00:54.465Z"
   },
   {
    "duration": 11,
    "start_time": "2022-01-29T12:00:54.477Z"
   },
   {
    "duration": 42,
    "start_time": "2022-01-29T12:00:54.491Z"
   },
   {
    "duration": 7,
    "start_time": "2022-01-29T12:00:54.536Z"
   },
   {
    "duration": 45,
    "start_time": "2022-01-29T12:00:54.545Z"
   },
   {
    "duration": 50,
    "start_time": "2022-01-29T12:00:54.592Z"
   },
   {
    "duration": 23,
    "start_time": "2022-01-29T12:00:54.644Z"
   },
   {
    "duration": 12,
    "start_time": "2022-01-29T12:00:54.669Z"
   },
   {
    "duration": 73,
    "start_time": "2022-01-29T12:00:54.684Z"
   },
   {
    "duration": 29,
    "start_time": "2022-01-29T12:00:54.759Z"
   },
   {
    "duration": 17,
    "start_time": "2022-01-29T12:00:54.824Z"
   },
   {
    "duration": 14,
    "start_time": "2022-01-29T12:00:54.844Z"
   },
   {
    "duration": 8,
    "start_time": "2022-01-29T12:00:54.860Z"
   },
   {
    "duration": 5,
    "start_time": "2022-01-29T12:00:54.871Z"
   },
   {
    "duration": 70,
    "start_time": "2022-01-29T12:00:54.878Z"
   },
   {
    "duration": 7,
    "start_time": "2022-01-29T12:00:54.951Z"
   },
   {
    "duration": 10,
    "start_time": "2022-01-29T12:00:54.960Z"
   },
   {
    "duration": 69,
    "start_time": "2022-01-29T12:00:54.972Z"
   },
   {
    "duration": 14,
    "start_time": "2022-01-29T12:00:55.044Z"
   },
   {
    "duration": 11,
    "start_time": "2022-01-29T12:00:55.061Z"
   },
   {
    "duration": 12,
    "start_time": "2022-01-29T12:00:55.074Z"
   },
   {
    "duration": 40,
    "start_time": "2022-01-29T12:00:55.088Z"
   },
   {
    "duration": 15,
    "start_time": "2022-01-29T12:00:55.131Z"
   },
   {
    "duration": 23,
    "start_time": "2022-01-29T12:00:55.149Z"
   },
   {
    "duration": 77,
    "start_time": "2022-01-29T12:00:55.174Z"
   },
   {
    "duration": 34,
    "start_time": "2022-01-29T12:00:55.255Z"
   },
   {
    "duration": 22,
    "start_time": "2022-01-29T12:00:55.323Z"
   },
   {
    "duration": 7,
    "start_time": "2022-01-29T12:00:55.348Z"
   },
   {
    "duration": 14,
    "start_time": "2022-01-29T12:00:55.359Z"
   },
   {
    "duration": 50,
    "start_time": "2022-01-29T12:00:55.376Z"
   },
   {
    "duration": 474,
    "start_time": "2022-01-29T12:11:37.395Z"
   },
   {
    "duration": 844,
    "start_time": "2022-01-29T12:11:45.537Z"
   },
   {
    "duration": 143,
    "start_time": "2022-01-29T12:11:46.384Z"
   },
   {
    "duration": 12,
    "start_time": "2022-01-29T12:11:46.531Z"
   },
   {
    "duration": 389,
    "start_time": "2022-01-29T12:11:46.546Z"
   },
   {
    "duration": 16,
    "start_time": "2022-01-29T12:11:46.938Z"
   },
   {
    "duration": 13,
    "start_time": "2022-01-29T12:11:46.956Z"
   },
   {
    "duration": 30,
    "start_time": "2022-01-29T12:11:46.971Z"
   },
   {
    "duration": 26,
    "start_time": "2022-01-29T12:11:47.003Z"
   },
   {
    "duration": 11,
    "start_time": "2022-01-29T12:11:47.033Z"
   },
   {
    "duration": 21,
    "start_time": "2022-01-29T12:11:47.047Z"
   },
   {
    "duration": 59,
    "start_time": "2022-01-29T12:11:47.072Z"
   },
   {
    "duration": 22,
    "start_time": "2022-01-29T12:11:47.134Z"
   },
   {
    "duration": 72,
    "start_time": "2022-01-29T12:11:47.159Z"
   },
   {
    "duration": 12,
    "start_time": "2022-01-29T12:11:47.234Z"
   },
   {
    "duration": 40,
    "start_time": "2022-01-29T12:11:47.249Z"
   },
   {
    "duration": 57,
    "start_time": "2022-01-29T12:11:47.292Z"
   },
   {
    "duration": 15,
    "start_time": "2022-01-29T12:11:47.352Z"
   },
   {
    "duration": 13,
    "start_time": "2022-01-29T12:11:47.370Z"
   },
   {
    "duration": 34,
    "start_time": "2022-01-29T12:11:47.423Z"
   },
   {
    "duration": 123,
    "start_time": "2022-01-29T12:11:47.460Z"
   },
   {
    "duration": 7,
    "start_time": "2022-01-29T12:11:47.585Z"
   },
   {
    "duration": 7,
    "start_time": "2022-01-29T12:11:47.595Z"
   },
   {
    "duration": 18,
    "start_time": "2022-01-29T12:11:47.625Z"
   },
   {
    "duration": 8,
    "start_time": "2022-01-29T12:11:47.645Z"
   },
   {
    "duration": 10,
    "start_time": "2022-01-29T12:11:47.655Z"
   },
   {
    "duration": 82,
    "start_time": "2022-01-29T12:11:47.668Z"
   },
   {
    "duration": 19,
    "start_time": "2022-01-29T12:11:47.756Z"
   },
   {
    "duration": 66,
    "start_time": "2022-01-29T12:11:47.780Z"
   },
   {
    "duration": 11,
    "start_time": "2022-01-29T12:11:47.848Z"
   },
   {
    "duration": 35,
    "start_time": "2022-01-29T12:11:47.862Z"
   },
   {
    "duration": 31,
    "start_time": "2022-01-29T12:11:47.923Z"
   },
   {
    "duration": 5,
    "start_time": "2022-01-29T12:11:47.957Z"
   },
   {
    "duration": 61,
    "start_time": "2022-01-29T12:11:47.964Z"
   },
   {
    "duration": 11,
    "start_time": "2022-01-29T12:11:48.028Z"
   },
   {
    "duration": 5,
    "start_time": "2022-01-29T12:11:48.042Z"
   },
   {
    "duration": 31,
    "start_time": "2022-01-29T12:11:48.049Z"
   },
   {
    "duration": 53,
    "start_time": "2022-01-29T12:11:48.082Z"
   },
   {
    "duration": 13,
    "start_time": "2022-01-29T12:11:48.138Z"
   },
   {
    "duration": 34,
    "start_time": "2022-01-29T12:11:48.153Z"
   },
   {
    "duration": 48,
    "start_time": "2022-01-29T12:11:48.190Z"
   },
   {
    "duration": 14,
    "start_time": "2022-01-29T12:11:48.241Z"
   },
   {
    "duration": 10,
    "start_time": "2022-01-29T12:11:48.258Z"
   },
   {
    "duration": 17,
    "start_time": "2022-01-29T12:11:48.271Z"
   },
   {
    "duration": 38,
    "start_time": "2022-01-29T12:11:48.291Z"
   },
   {
    "duration": 41,
    "start_time": "2022-01-29T12:11:48.332Z"
   },
   {
    "duration": 96,
    "start_time": "2022-01-29T12:11:48.376Z"
   },
   {
    "duration": 57,
    "start_time": "2022-01-29T12:11:48.475Z"
   },
   {
    "duration": 15,
    "start_time": "2022-01-29T12:11:48.534Z"
   },
   {
    "duration": 17,
    "start_time": "2022-01-29T12:11:48.552Z"
   },
   {
    "duration": 14,
    "start_time": "2022-01-29T12:11:48.572Z"
   },
   {
    "duration": 39,
    "start_time": "2022-01-29T12:11:48.589Z"
   },
   {
    "duration": 365,
    "start_time": "2022-01-29T12:12:24.992Z"
   },
   {
    "duration": 806,
    "start_time": "2022-01-29T12:12:36.493Z"
   },
   {
    "duration": 139,
    "start_time": "2022-01-29T12:12:37.302Z"
   },
   {
    "duration": 9,
    "start_time": "2022-01-29T12:12:37.445Z"
   },
   {
    "duration": 16,
    "start_time": "2022-01-29T12:12:37.457Z"
   },
   {
    "duration": 8,
    "start_time": "2022-01-29T12:12:37.475Z"
   },
   {
    "duration": 11,
    "start_time": "2022-01-29T12:12:37.523Z"
   },
   {
    "duration": 29,
    "start_time": "2022-01-29T12:12:37.536Z"
   },
   {
    "duration": 4,
    "start_time": "2022-01-29T12:12:37.568Z"
   },
   {
    "duration": 5,
    "start_time": "2022-01-29T12:12:37.577Z"
   },
   {
    "duration": 54,
    "start_time": "2022-01-29T12:12:37.585Z"
   },
   {
    "duration": 31,
    "start_time": "2022-01-29T12:12:37.642Z"
   },
   {
    "duration": 51,
    "start_time": "2022-01-29T12:12:37.675Z"
   },
   {
    "duration": 37,
    "start_time": "2022-01-29T12:12:37.728Z"
   },
   {
    "duration": 13,
    "start_time": "2022-01-29T12:12:37.767Z"
   },
   {
    "duration": 67,
    "start_time": "2022-01-29T12:12:37.782Z"
   },
   {
    "duration": 28,
    "start_time": "2022-01-29T12:12:37.852Z"
   },
   {
    "duration": 48,
    "start_time": "2022-01-29T12:12:37.882Z"
   },
   {
    "duration": 16,
    "start_time": "2022-01-29T12:12:37.933Z"
   },
   {
    "duration": 43,
    "start_time": "2022-01-29T12:12:37.952Z"
   },
   {
    "duration": 115,
    "start_time": "2022-01-29T12:12:38.023Z"
   },
   {
    "duration": 7,
    "start_time": "2022-01-29T12:12:38.140Z"
   },
   {
    "duration": 17,
    "start_time": "2022-01-29T12:12:38.150Z"
   },
   {
    "duration": 39,
    "start_time": "2022-01-29T12:12:38.169Z"
   },
   {
    "duration": 15,
    "start_time": "2022-01-29T12:12:38.222Z"
   },
   {
    "duration": 27,
    "start_time": "2022-01-29T12:12:38.240Z"
   },
   {
    "duration": 57,
    "start_time": "2022-01-29T12:12:38.269Z"
   },
   {
    "duration": 21,
    "start_time": "2022-01-29T12:12:38.332Z"
   },
   {
    "duration": 42,
    "start_time": "2022-01-29T12:12:38.356Z"
   },
   {
    "duration": 26,
    "start_time": "2022-01-29T12:12:38.400Z"
   },
   {
    "duration": 37,
    "start_time": "2022-01-29T12:12:38.429Z"
   },
   {
    "duration": 66,
    "start_time": "2022-01-29T12:12:38.469Z"
   },
   {
    "duration": 6,
    "start_time": "2022-01-29T12:12:38.538Z"
   },
   {
    "duration": 16,
    "start_time": "2022-01-29T12:12:38.546Z"
   },
   {
    "duration": 7,
    "start_time": "2022-01-29T12:12:38.565Z"
   },
   {
    "duration": 50,
    "start_time": "2022-01-29T12:12:38.574Z"
   },
   {
    "duration": 33,
    "start_time": "2022-01-29T12:12:38.627Z"
   },
   {
    "duration": 7,
    "start_time": "2022-01-29T12:12:38.663Z"
   },
   {
    "duration": 8,
    "start_time": "2022-01-29T12:12:38.673Z"
   },
   {
    "duration": 30,
    "start_time": "2022-01-29T12:12:38.723Z"
   },
   {
    "duration": 13,
    "start_time": "2022-01-29T12:12:38.756Z"
   },
   {
    "duration": 11,
    "start_time": "2022-01-29T12:12:38.772Z"
   },
   {
    "duration": 6,
    "start_time": "2022-01-29T12:12:38.824Z"
   },
   {
    "duration": 9,
    "start_time": "2022-01-29T12:12:38.832Z"
   },
   {
    "duration": 6,
    "start_time": "2022-01-29T12:12:38.843Z"
   },
   {
    "duration": 22,
    "start_time": "2022-01-29T12:12:38.851Z"
   },
   {
    "duration": 46,
    "start_time": "2022-01-29T12:12:38.923Z"
   },
   {
    "duration": 57,
    "start_time": "2022-01-29T12:12:38.972Z"
   },
   {
    "duration": 12,
    "start_time": "2022-01-29T12:12:39.031Z"
   },
   {
    "duration": 10,
    "start_time": "2022-01-29T12:12:39.045Z"
   },
   {
    "duration": 393,
    "start_time": "2022-01-29T12:12:39.057Z"
   },
   {
    "duration": -2968,
    "start_time": "2022-01-29T12:12:42.420Z"
   },
   {
    "duration": 394,
    "start_time": "2022-01-29T12:13:02.499Z"
   },
   {
    "duration": 307,
    "start_time": "2022-01-29T12:21:03.059Z"
   },
   {
    "duration": 787,
    "start_time": "2022-01-29T12:21:15.580Z"
   },
   {
    "duration": 136,
    "start_time": "2022-01-29T12:21:16.369Z"
   },
   {
    "duration": 9,
    "start_time": "2022-01-29T12:21:16.508Z"
   },
   {
    "duration": 23,
    "start_time": "2022-01-29T12:21:16.520Z"
   },
   {
    "duration": 8,
    "start_time": "2022-01-29T12:21:16.547Z"
   },
   {
    "duration": 18,
    "start_time": "2022-01-29T12:21:16.558Z"
   },
   {
    "duration": 69,
    "start_time": "2022-01-29T12:21:16.579Z"
   },
   {
    "duration": 6,
    "start_time": "2022-01-29T12:21:16.651Z"
   },
   {
    "duration": 7,
    "start_time": "2022-01-29T12:21:16.663Z"
   },
   {
    "duration": 66,
    "start_time": "2022-01-29T12:21:16.673Z"
   },
   {
    "duration": 31,
    "start_time": "2022-01-29T12:21:16.742Z"
   },
   {
    "duration": 59,
    "start_time": "2022-01-29T12:21:16.776Z"
   },
   {
    "duration": 38,
    "start_time": "2022-01-29T12:21:16.838Z"
   },
   {
    "duration": 12,
    "start_time": "2022-01-29T12:21:16.879Z"
   },
   {
    "duration": 57,
    "start_time": "2022-01-29T12:21:16.894Z"
   },
   {
    "duration": 76,
    "start_time": "2022-01-29T12:21:16.954Z"
   },
   {
    "duration": 18,
    "start_time": "2022-01-29T12:21:17.033Z"
   },
   {
    "duration": 15,
    "start_time": "2022-01-29T12:21:17.053Z"
   },
   {
    "duration": 77,
    "start_time": "2022-01-29T12:21:17.071Z"
   },
   {
    "duration": 120,
    "start_time": "2022-01-29T12:21:17.151Z"
   },
   {
    "duration": 8,
    "start_time": "2022-01-29T12:21:17.274Z"
   },
   {
    "duration": 8,
    "start_time": "2022-01-29T12:21:17.285Z"
   },
   {
    "duration": 44,
    "start_time": "2022-01-29T12:21:17.296Z"
   },
   {
    "duration": 16,
    "start_time": "2022-01-29T12:21:17.343Z"
   },
   {
    "duration": 8,
    "start_time": "2022-01-29T12:21:17.362Z"
   },
   {
    "duration": 73,
    "start_time": "2022-01-29T12:21:17.373Z"
   },
   {
    "duration": 17,
    "start_time": "2022-01-29T12:21:17.452Z"
   },
   {
    "duration": 55,
    "start_time": "2022-01-29T12:21:17.472Z"
   },
   {
    "duration": 16,
    "start_time": "2022-01-29T12:21:17.529Z"
   },
   {
    "duration": 34,
    "start_time": "2022-01-29T12:21:17.547Z"
   },
   {
    "duration": 64,
    "start_time": "2022-01-29T12:21:17.583Z"
   },
   {
    "duration": 5,
    "start_time": "2022-01-29T12:21:17.650Z"
   },
   {
    "duration": 16,
    "start_time": "2022-01-29T12:21:17.657Z"
   },
   {
    "duration": 54,
    "start_time": "2022-01-29T12:21:17.676Z"
   },
   {
    "duration": 13,
    "start_time": "2022-01-29T12:21:17.733Z"
   },
   {
    "duration": 32,
    "start_time": "2022-01-29T12:21:17.748Z"
   },
   {
    "duration": 53,
    "start_time": "2022-01-29T12:21:17.783Z"
   },
   {
    "duration": 9,
    "start_time": "2022-01-29T12:21:17.839Z"
   },
   {
    "duration": 31,
    "start_time": "2022-01-29T12:21:17.851Z"
   },
   {
    "duration": 58,
    "start_time": "2022-01-29T12:21:17.885Z"
   },
   {
    "duration": 9,
    "start_time": "2022-01-29T12:21:17.945Z"
   },
   {
    "duration": 5,
    "start_time": "2022-01-29T12:21:17.956Z"
   },
   {
    "duration": 7,
    "start_time": "2022-01-29T12:21:17.963Z"
   },
   {
    "duration": 5,
    "start_time": "2022-01-29T12:21:17.972Z"
   },
   {
    "duration": 67,
    "start_time": "2022-01-29T12:21:17.979Z"
   },
   {
    "duration": 85,
    "start_time": "2022-01-29T12:21:18.049Z"
   },
   {
    "duration": 36,
    "start_time": "2022-01-29T12:21:18.137Z"
   },
   {
    "duration": 12,
    "start_time": "2022-01-29T12:21:18.176Z"
   },
   {
    "duration": 38,
    "start_time": "2022-01-29T12:21:18.191Z"
   },
   {
    "duration": 24,
    "start_time": "2022-01-29T12:21:18.232Z"
   },
   {
    "duration": 11,
    "start_time": "2022-01-29T12:21:18.259Z"
   },
   {
    "duration": 7,
    "start_time": "2022-01-29T12:22:15.948Z"
   },
   {
    "duration": 457,
    "start_time": "2022-01-29T12:24:17.995Z"
   },
   {
    "duration": 727,
    "start_time": "2022-01-29T12:24:25.666Z"
   },
   {
    "duration": 147,
    "start_time": "2022-01-29T12:24:26.396Z"
   },
   {
    "duration": 10,
    "start_time": "2022-01-29T12:24:26.548Z"
   },
   {
    "duration": 20,
    "start_time": "2022-01-29T12:24:26.561Z"
   },
   {
    "duration": 49,
    "start_time": "2022-01-29T12:24:26.584Z"
   },
   {
    "duration": 15,
    "start_time": "2022-01-29T12:24:26.636Z"
   },
   {
    "duration": 26,
    "start_time": "2022-01-29T12:24:26.653Z"
   },
   {
    "duration": 4,
    "start_time": "2022-01-29T12:24:26.682Z"
   },
   {
    "duration": 8,
    "start_time": "2022-01-29T12:24:26.727Z"
   },
   {
    "duration": 23,
    "start_time": "2022-01-29T12:24:26.739Z"
   },
   {
    "duration": 67,
    "start_time": "2022-01-29T12:24:26.765Z"
   },
   {
    "duration": 17,
    "start_time": "2022-01-29T12:24:26.837Z"
   },
   {
    "duration": 36,
    "start_time": "2022-01-29T12:24:26.856Z"
   },
   {
    "duration": 17,
    "start_time": "2022-01-29T12:24:26.922Z"
   },
   {
    "duration": 34,
    "start_time": "2022-01-29T12:24:26.941Z"
   },
   {
    "duration": 72,
    "start_time": "2022-01-29T12:24:26.977Z"
   },
   {
    "duration": 15,
    "start_time": "2022-01-29T12:24:27.051Z"
   },
   {
    "duration": 14,
    "start_time": "2022-01-29T12:24:27.068Z"
   },
   {
    "duration": 63,
    "start_time": "2022-01-29T12:24:27.085Z"
   },
   {
    "duration": 133,
    "start_time": "2022-01-29T12:24:27.152Z"
   },
   {
    "duration": 8,
    "start_time": "2022-01-29T12:24:27.288Z"
   },
   {
    "duration": 27,
    "start_time": "2022-01-29T12:24:27.299Z"
   },
   {
    "duration": 25,
    "start_time": "2022-01-29T12:24:27.329Z"
   },
   {
    "duration": 9,
    "start_time": "2022-01-29T12:24:27.357Z"
   },
   {
    "duration": 7,
    "start_time": "2022-01-29T12:24:27.369Z"
   },
   {
    "duration": 38,
    "start_time": "2022-01-29T12:24:27.422Z"
   },
   {
    "duration": 17,
    "start_time": "2022-01-29T12:24:27.467Z"
   },
   {
    "duration": 32,
    "start_time": "2022-01-29T12:24:27.524Z"
   },
   {
    "duration": 11,
    "start_time": "2022-01-29T12:24:27.559Z"
   },
   {
    "duration": 67,
    "start_time": "2022-01-29T12:24:27.572Z"
   },
   {
    "duration": 28,
    "start_time": "2022-01-29T12:24:27.641Z"
   },
   {
    "duration": 6,
    "start_time": "2022-01-29T12:24:27.672Z"
   },
   {
    "duration": 49,
    "start_time": "2022-01-29T12:24:27.682Z"
   },
   {
    "duration": 8,
    "start_time": "2022-01-29T12:24:27.741Z"
   },
   {
    "duration": 9,
    "start_time": "2022-01-29T12:24:27.751Z"
   },
   {
    "duration": 77,
    "start_time": "2022-01-29T12:24:27.763Z"
   },
   {
    "duration": 7,
    "start_time": "2022-01-29T12:24:27.842Z"
   },
   {
    "duration": 8,
    "start_time": "2022-01-29T12:24:27.852Z"
   },
   {
    "duration": 31,
    "start_time": "2022-01-29T12:24:27.862Z"
   },
   {
    "duration": 49,
    "start_time": "2022-01-29T12:24:27.895Z"
   },
   {
    "duration": 9,
    "start_time": "2022-01-29T12:24:27.947Z"
   },
   {
    "duration": 5,
    "start_time": "2022-01-29T12:24:27.959Z"
   },
   {
    "duration": 7,
    "start_time": "2022-01-29T12:24:27.967Z"
   },
   {
    "duration": 49,
    "start_time": "2022-01-29T12:24:27.977Z"
   },
   {
    "duration": 31,
    "start_time": "2022-01-29T12:24:28.029Z"
   },
   {
    "duration": 68,
    "start_time": "2022-01-29T12:24:28.062Z"
   },
   {
    "duration": 33,
    "start_time": "2022-01-29T12:24:28.133Z"
   },
   {
    "duration": 13,
    "start_time": "2022-01-29T12:24:28.168Z"
   },
   {
    "duration": 48,
    "start_time": "2022-01-29T12:24:28.184Z"
   },
   {
    "duration": 410,
    "start_time": "2022-01-29T12:24:28.235Z"
   },
   {
    "duration": -1712,
    "start_time": "2022-01-29T12:24:30.361Z"
   },
   {
    "duration": 13,
    "start_time": "2022-01-29T12:24:50.710Z"
   },
   {
    "duration": 8,
    "start_time": "2022-01-29T12:24:54.040Z"
   },
   {
    "duration": 377,
    "start_time": "2022-01-29T12:26:09.978Z"
   },
   {
    "duration": 734,
    "start_time": "2022-01-29T12:26:17.470Z"
   },
   {
    "duration": 135,
    "start_time": "2022-01-29T12:26:18.206Z"
   },
   {
    "duration": 15,
    "start_time": "2022-01-29T12:26:18.345Z"
   },
   {
    "duration": 20,
    "start_time": "2022-01-29T12:26:18.364Z"
   },
   {
    "duration": 40,
    "start_time": "2022-01-29T12:26:18.387Z"
   },
   {
    "duration": 17,
    "start_time": "2022-01-29T12:26:18.431Z"
   },
   {
    "duration": 29,
    "start_time": "2022-01-29T12:26:18.451Z"
   },
   {
    "duration": 6,
    "start_time": "2022-01-29T12:26:18.524Z"
   },
   {
    "duration": 5,
    "start_time": "2022-01-29T12:26:18.537Z"
   },
   {
    "duration": 20,
    "start_time": "2022-01-29T12:26:18.547Z"
   },
   {
    "duration": 84,
    "start_time": "2022-01-29T12:26:18.569Z"
   },
   {
    "duration": 22,
    "start_time": "2022-01-29T12:26:18.656Z"
   },
   {
    "duration": 76,
    "start_time": "2022-01-29T12:26:18.681Z"
   },
   {
    "duration": 13,
    "start_time": "2022-01-29T12:26:18.760Z"
   },
   {
    "duration": 60,
    "start_time": "2022-01-29T12:26:18.776Z"
   },
   {
    "duration": 29,
    "start_time": "2022-01-29T12:26:18.839Z"
   },
   {
    "duration": 53,
    "start_time": "2022-01-29T12:26:18.870Z"
   },
   {
    "duration": 13,
    "start_time": "2022-01-29T12:26:18.926Z"
   },
   {
    "duration": 32,
    "start_time": "2022-01-29T12:26:18.941Z"
   },
   {
    "duration": 124,
    "start_time": "2022-01-29T12:26:18.976Z"
   },
   {
    "duration": 7,
    "start_time": "2022-01-29T12:26:19.102Z"
   },
   {
    "duration": 17,
    "start_time": "2022-01-29T12:26:19.111Z"
   },
   {
    "duration": 13,
    "start_time": "2022-01-29T12:26:19.130Z"
   },
   {
    "duration": 8,
    "start_time": "2022-01-29T12:26:19.145Z"
   },
   {
    "duration": 6,
    "start_time": "2022-01-29T12:26:19.155Z"
   },
   {
    "duration": 87,
    "start_time": "2022-01-29T12:26:19.163Z"
   },
   {
    "duration": 16,
    "start_time": "2022-01-29T12:26:19.256Z"
   },
   {
    "duration": 55,
    "start_time": "2022-01-29T12:26:19.275Z"
   },
   {
    "duration": 11,
    "start_time": "2022-01-29T12:26:19.332Z"
   },
   {
    "duration": 34,
    "start_time": "2022-01-29T12:26:19.345Z"
   },
   {
    "duration": 62,
    "start_time": "2022-01-29T12:26:19.381Z"
   },
   {
    "duration": 6,
    "start_time": "2022-01-29T12:26:19.445Z"
   },
   {
    "duration": 17,
    "start_time": "2022-01-29T12:26:19.453Z"
   },
   {
    "duration": 51,
    "start_time": "2022-01-29T12:26:19.472Z"
   },
   {
    "duration": 8,
    "start_time": "2022-01-29T12:26:19.525Z"
   },
   {
    "duration": 28,
    "start_time": "2022-01-29T12:26:19.535Z"
   },
   {
    "duration": 8,
    "start_time": "2022-01-29T12:26:19.565Z"
   },
   {
    "duration": 47,
    "start_time": "2022-01-29T12:26:19.576Z"
   },
   {
    "duration": 28,
    "start_time": "2022-01-29T12:26:19.626Z"
   },
   {
    "duration": 15,
    "start_time": "2022-01-29T12:26:19.656Z"
   },
   {
    "duration": 9,
    "start_time": "2022-01-29T12:26:19.673Z"
   },
   {
    "duration": 6,
    "start_time": "2022-01-29T12:26:19.724Z"
   },
   {
    "duration": 9,
    "start_time": "2022-01-29T12:26:19.732Z"
   },
   {
    "duration": 14,
    "start_time": "2022-01-29T12:26:19.743Z"
   },
   {
    "duration": 20,
    "start_time": "2022-01-29T12:26:19.759Z"
   },
   {
    "duration": 76,
    "start_time": "2022-01-29T12:26:19.782Z"
   },
   {
    "duration": 32,
    "start_time": "2022-01-29T12:26:19.860Z"
   },
   {
    "duration": 13,
    "start_time": "2022-01-29T12:26:19.924Z"
   },
   {
    "duration": 10,
    "start_time": "2022-01-29T12:26:19.939Z"
   },
   {
    "duration": 12,
    "start_time": "2022-01-29T12:26:19.951Z"
   },
   {
    "duration": 17,
    "start_time": "2022-01-29T12:26:19.965Z"
   },
   {
    "duration": 15,
    "start_time": "2022-01-29T12:27:10.583Z"
   },
   {
    "duration": 2165,
    "start_time": "2022-01-29T12:33:54.429Z"
   },
   {
    "duration": 1234,
    "start_time": "2022-01-29T12:34:13.522Z"
   },
   {
    "duration": 315,
    "start_time": "2022-01-29T12:35:11.048Z"
   },
   {
    "duration": 343,
    "start_time": "2022-01-29T12:35:30.065Z"
   },
   {
    "duration": 361,
    "start_time": "2022-01-29T12:36:14.753Z"
   },
   {
    "duration": 929,
    "start_time": "2022-01-29T12:36:22.581Z"
   },
   {
    "duration": 140,
    "start_time": "2022-01-29T12:36:23.513Z"
   },
   {
    "duration": 8,
    "start_time": "2022-01-29T12:36:23.656Z"
   },
   {
    "duration": 17,
    "start_time": "2022-01-29T12:36:23.667Z"
   },
   {
    "duration": 37,
    "start_time": "2022-01-29T12:36:23.687Z"
   },
   {
    "duration": 14,
    "start_time": "2022-01-29T12:36:23.728Z"
   },
   {
    "duration": 38,
    "start_time": "2022-01-29T12:36:23.745Z"
   },
   {
    "duration": 6,
    "start_time": "2022-01-29T12:36:23.824Z"
   },
   {
    "duration": 5,
    "start_time": "2022-01-29T12:36:23.834Z"
   },
   {
    "duration": 20,
    "start_time": "2022-01-29T12:36:23.841Z"
   },
   {
    "duration": 72,
    "start_time": "2022-01-29T12:36:23.864Z"
   },
   {
    "duration": 16,
    "start_time": "2022-01-29T12:36:23.939Z"
   },
   {
    "duration": 74,
    "start_time": "2022-01-29T12:36:23.958Z"
   },
   {
    "duration": 13,
    "start_time": "2022-01-29T12:36:24.035Z"
   },
   {
    "duration": 28,
    "start_time": "2022-01-29T12:36:24.051Z"
   },
   {
    "duration": 60,
    "start_time": "2022-01-29T12:36:24.081Z"
   },
   {
    "duration": 14,
    "start_time": "2022-01-29T12:36:24.144Z"
   },
   {
    "duration": 15,
    "start_time": "2022-01-29T12:36:24.160Z"
   },
   {
    "duration": 74,
    "start_time": "2022-01-29T12:36:24.177Z"
   },
   {
    "duration": 117,
    "start_time": "2022-01-29T12:36:24.254Z"
   },
   {
    "duration": 7,
    "start_time": "2022-01-29T12:36:24.373Z"
   },
   {
    "duration": 11,
    "start_time": "2022-01-29T12:36:24.382Z"
   },
   {
    "duration": 13,
    "start_time": "2022-01-29T12:36:24.422Z"
   },
   {
    "duration": 8,
    "start_time": "2022-01-29T12:36:24.438Z"
   },
   {
    "duration": 7,
    "start_time": "2022-01-29T12:36:24.449Z"
   },
   {
    "duration": 80,
    "start_time": "2022-01-29T12:36:24.459Z"
   },
   {
    "duration": 21,
    "start_time": "2022-01-29T12:36:24.541Z"
   },
   {
    "duration": 59,
    "start_time": "2022-01-29T12:36:24.564Z"
   },
   {
    "duration": 16,
    "start_time": "2022-01-29T12:36:24.626Z"
   },
   {
    "duration": 39,
    "start_time": "2022-01-29T12:36:24.645Z"
   },
   {
    "duration": 58,
    "start_time": "2022-01-29T12:36:24.686Z"
   },
   {
    "duration": 5,
    "start_time": "2022-01-29T12:36:24.746Z"
   },
   {
    "duration": 18,
    "start_time": "2022-01-29T12:36:24.754Z"
   },
   {
    "duration": 55,
    "start_time": "2022-01-29T12:36:24.774Z"
   },
   {
    "duration": 7,
    "start_time": "2022-01-29T12:36:24.832Z"
   },
   {
    "duration": 35,
    "start_time": "2022-01-29T12:36:24.841Z"
   },
   {
    "duration": 45,
    "start_time": "2022-01-29T12:36:24.878Z"
   },
   {
    "duration": 6,
    "start_time": "2022-01-29T12:36:24.926Z"
   },
   {
    "duration": 34,
    "start_time": "2022-01-29T12:36:24.934Z"
   },
   {
    "duration": 14,
    "start_time": "2022-01-29T12:36:24.970Z"
   },
   {
    "duration": 44,
    "start_time": "2022-01-29T12:36:24.987Z"
   },
   {
    "duration": 7,
    "start_time": "2022-01-29T12:36:25.035Z"
   },
   {
    "duration": 9,
    "start_time": "2022-01-29T12:36:25.045Z"
   },
   {
    "duration": 5,
    "start_time": "2022-01-29T12:36:25.057Z"
   },
   {
    "duration": 74,
    "start_time": "2022-01-29T12:36:25.065Z"
   },
   {
    "duration": 82,
    "start_time": "2022-01-29T12:36:25.141Z"
   },
   {
    "duration": 53,
    "start_time": "2022-01-29T12:36:25.227Z"
   },
   {
    "duration": 43,
    "start_time": "2022-01-29T12:36:25.283Z"
   },
   {
    "duration": 9,
    "start_time": "2022-01-29T12:36:25.329Z"
   },
   {
    "duration": 10,
    "start_time": "2022-01-29T12:36:25.341Z"
   },
   {
    "duration": 13,
    "start_time": "2022-01-29T12:36:25.354Z"
   },
   {
    "duration": 5,
    "start_time": "2022-01-29T12:38:38.664Z"
   },
   {
    "duration": 7,
    "start_time": "2022-01-29T12:38:41.189Z"
   },
   {
    "duration": 8,
    "start_time": "2022-01-29T12:38:58.924Z"
   },
   {
    "duration": 7,
    "start_time": "2022-01-29T12:39:00.968Z"
   },
   {
    "duration": 5,
    "start_time": "2022-01-29T12:39:13.964Z"
   },
   {
    "duration": 7,
    "start_time": "2022-01-29T12:39:17.017Z"
   },
   {
    "duration": 6,
    "start_time": "2022-01-29T12:40:11.089Z"
   },
   {
    "duration": 6,
    "start_time": "2022-01-29T12:40:17.205Z"
   },
   {
    "duration": 372,
    "start_time": "2022-01-29T12:40:20.093Z"
   },
   {
    "duration": 768,
    "start_time": "2022-01-29T12:40:30.445Z"
   },
   {
    "duration": 150,
    "start_time": "2022-01-29T12:40:31.216Z"
   },
   {
    "duration": 10,
    "start_time": "2022-01-29T12:40:31.369Z"
   },
   {
    "duration": 16,
    "start_time": "2022-01-29T12:40:31.382Z"
   },
   {
    "duration": 29,
    "start_time": "2022-01-29T12:40:31.400Z"
   },
   {
    "duration": 13,
    "start_time": "2022-01-29T12:40:31.431Z"
   },
   {
    "duration": 36,
    "start_time": "2022-01-29T12:40:31.446Z"
   },
   {
    "duration": 5,
    "start_time": "2022-01-29T12:40:31.486Z"
   },
   {
    "duration": 5,
    "start_time": "2022-01-29T12:40:31.523Z"
   },
   {
    "duration": 21,
    "start_time": "2022-01-29T12:40:31.531Z"
   },
   {
    "duration": 31,
    "start_time": "2022-01-29T12:40:31.554Z"
   },
   {
    "duration": 50,
    "start_time": "2022-01-29T12:40:31.587Z"
   },
   {
    "duration": 38,
    "start_time": "2022-01-29T12:40:31.640Z"
   },
   {
    "duration": 49,
    "start_time": "2022-01-29T12:40:31.680Z"
   },
   {
    "duration": 31,
    "start_time": "2022-01-29T12:40:31.732Z"
   },
   {
    "duration": 72,
    "start_time": "2022-01-29T12:40:31.766Z"
   },
   {
    "duration": 19,
    "start_time": "2022-01-29T12:40:31.841Z"
   },
   {
    "duration": 16,
    "start_time": "2022-01-29T12:40:31.863Z"
   },
   {
    "duration": 30,
    "start_time": "2022-01-29T12:40:31.923Z"
   },
   {
    "duration": 124,
    "start_time": "2022-01-29T12:40:31.956Z"
   },
   {
    "duration": 8,
    "start_time": "2022-01-29T12:40:32.083Z"
   },
   {
    "duration": 30,
    "start_time": "2022-01-29T12:40:32.094Z"
   },
   {
    "duration": 14,
    "start_time": "2022-01-29T12:40:32.132Z"
   },
   {
    "duration": 10,
    "start_time": "2022-01-29T12:40:32.150Z"
   },
   {
    "duration": 7,
    "start_time": "2022-01-29T12:40:32.163Z"
   },
   {
    "duration": 36,
    "start_time": "2022-01-29T12:40:32.223Z"
   },
   {
    "duration": 17,
    "start_time": "2022-01-29T12:40:32.262Z"
   },
   {
    "duration": 63,
    "start_time": "2022-01-29T12:40:32.282Z"
   },
   {
    "duration": 17,
    "start_time": "2022-01-29T12:40:32.348Z"
   },
   {
    "duration": 62,
    "start_time": "2022-01-29T12:40:32.367Z"
   },
   {
    "duration": 33,
    "start_time": "2022-01-29T12:40:32.432Z"
   },
   {
    "duration": 8,
    "start_time": "2022-01-29T12:40:32.467Z"
   },
   {
    "duration": 55,
    "start_time": "2022-01-29T12:40:32.477Z"
   },
   {
    "duration": 8,
    "start_time": "2022-01-29T12:40:32.534Z"
   },
   {
    "duration": 6,
    "start_time": "2022-01-29T12:40:32.545Z"
   },
   {
    "duration": 74,
    "start_time": "2022-01-29T12:40:32.553Z"
   },
   {
    "duration": 7,
    "start_time": "2022-01-29T12:40:32.630Z"
   },
   {
    "duration": 8,
    "start_time": "2022-01-29T12:40:32.639Z"
   },
   {
    "duration": 32,
    "start_time": "2022-01-29T12:40:32.650Z"
   },
   {
    "duration": 46,
    "start_time": "2022-01-29T12:40:32.685Z"
   },
   {
    "duration": 9,
    "start_time": "2022-01-29T12:40:32.734Z"
   },
   {
    "duration": 6,
    "start_time": "2022-01-29T12:40:32.745Z"
   },
   {
    "duration": 9,
    "start_time": "2022-01-29T12:40:32.753Z"
   },
   {
    "duration": 59,
    "start_time": "2022-01-29T12:40:32.764Z"
   },
   {
    "duration": 23,
    "start_time": "2022-01-29T12:40:32.826Z"
   },
   {
    "duration": 74,
    "start_time": "2022-01-29T12:40:32.852Z"
   },
   {
    "duration": 36,
    "start_time": "2022-01-29T12:40:32.929Z"
   },
   {
    "duration": 57,
    "start_time": "2022-01-29T12:40:32.968Z"
   },
   {
    "duration": 8,
    "start_time": "2022-01-29T12:40:33.028Z"
   },
   {
    "duration": 11,
    "start_time": "2022-01-29T12:40:33.039Z"
   },
   {
    "duration": 8,
    "start_time": "2022-01-29T12:40:33.053Z"
   },
   {
    "duration": 8,
    "start_time": "2022-01-29T12:46:42.533Z"
   },
   {
    "duration": 9,
    "start_time": "2022-01-29T12:56:48.609Z"
   },
   {
    "duration": 8,
    "start_time": "2022-01-29T12:56:52.009Z"
   },
   {
    "duration": 526,
    "start_time": "2022-01-29T12:57:45.081Z"
   },
   {
    "duration": 917,
    "start_time": "2022-01-29T12:57:57.374Z"
   },
   {
    "duration": 190,
    "start_time": "2022-01-29T12:57:58.294Z"
   },
   {
    "duration": 11,
    "start_time": "2022-01-29T12:57:58.488Z"
   },
   {
    "duration": 39,
    "start_time": "2022-01-29T12:57:58.501Z"
   },
   {
    "duration": 10,
    "start_time": "2022-01-29T12:57:58.543Z"
   },
   {
    "duration": 14,
    "start_time": "2022-01-29T12:57:58.555Z"
   },
   {
    "duration": 61,
    "start_time": "2022-01-29T12:57:58.572Z"
   },
   {
    "duration": 5,
    "start_time": "2022-01-29T12:57:58.637Z"
   },
   {
    "duration": 7,
    "start_time": "2022-01-29T12:57:58.645Z"
   },
   {
    "duration": 21,
    "start_time": "2022-01-29T12:57:58.654Z"
   },
   {
    "duration": 74,
    "start_time": "2022-01-29T12:57:58.678Z"
   },
   {
    "duration": 18,
    "start_time": "2022-01-29T12:57:58.755Z"
   },
   {
    "duration": 72,
    "start_time": "2022-01-29T12:57:58.776Z"
   },
   {
    "duration": 12,
    "start_time": "2022-01-29T12:57:58.851Z"
   },
   {
    "duration": 65,
    "start_time": "2022-01-29T12:57:58.866Z"
   },
   {
    "duration": 28,
    "start_time": "2022-01-29T12:57:58.934Z"
   },
   {
    "duration": 17,
    "start_time": "2022-01-29T12:57:58.964Z"
   },
   {
    "duration": 48,
    "start_time": "2022-01-29T12:57:58.984Z"
   },
   {
    "duration": 36,
    "start_time": "2022-01-29T12:57:59.035Z"
   },
   {
    "duration": 109,
    "start_time": "2022-01-29T12:57:59.074Z"
   },
   {
    "duration": 7,
    "start_time": "2022-01-29T12:57:59.186Z"
   },
   {
    "duration": 31,
    "start_time": "2022-01-29T12:57:59.195Z"
   },
   {
    "duration": 12,
    "start_time": "2022-01-29T12:57:59.234Z"
   },
   {
    "duration": 8,
    "start_time": "2022-01-29T12:57:59.250Z"
   },
   {
    "duration": 6,
    "start_time": "2022-01-29T12:57:59.260Z"
   },
   {
    "duration": 75,
    "start_time": "2022-01-29T12:57:59.268Z"
   },
   {
    "duration": 16,
    "start_time": "2022-01-29T12:57:59.346Z"
   },
   {
    "duration": 68,
    "start_time": "2022-01-29T12:57:59.365Z"
   },
   {
    "duration": 10,
    "start_time": "2022-01-29T12:57:59.436Z"
   },
   {
    "duration": 34,
    "start_time": "2022-01-29T12:57:59.449Z"
   },
   {
    "duration": 60,
    "start_time": "2022-01-29T12:57:59.485Z"
   },
   {
    "duration": 6,
    "start_time": "2022-01-29T12:57:59.548Z"
   },
   {
    "duration": 18,
    "start_time": "2022-01-29T12:57:59.556Z"
   },
   {
    "duration": 7,
    "start_time": "2022-01-29T12:57:59.576Z"
   },
   {
    "duration": 42,
    "start_time": "2022-01-29T12:57:59.585Z"
   },
   {
    "duration": 28,
    "start_time": "2022-01-29T12:57:59.630Z"
   },
   {
    "duration": 8,
    "start_time": "2022-01-29T12:57:59.661Z"
   },
   {
    "duration": 7,
    "start_time": "2022-01-29T12:57:59.671Z"
   },
   {
    "duration": 35,
    "start_time": "2022-01-29T12:57:59.724Z"
   },
   {
    "duration": 15,
    "start_time": "2022-01-29T12:57:59.761Z"
   },
   {
    "duration": 50,
    "start_time": "2022-01-29T12:57:59.779Z"
   },
   {
    "duration": 16,
    "start_time": "2022-01-29T12:57:59.831Z"
   },
   {
    "duration": 11,
    "start_time": "2022-01-29T12:57:59.849Z"
   },
   {
    "duration": 7,
    "start_time": "2022-01-29T12:57:59.862Z"
   },
   {
    "duration": 24,
    "start_time": "2022-01-29T12:57:59.871Z"
   },
   {
    "duration": 77,
    "start_time": "2022-01-29T12:57:59.897Z"
   },
   {
    "duration": 77,
    "start_time": "2022-01-29T12:57:59.977Z"
   },
   {
    "duration": 12,
    "start_time": "2022-01-29T12:58:00.057Z"
   },
   {
    "duration": 12,
    "start_time": "2022-01-29T12:58:00.071Z"
   },
   {
    "duration": 1394,
    "start_time": "2022-01-29T12:58:00.086Z"
   },
   {
    "duration": -1145,
    "start_time": "2022-01-29T12:58:02.628Z"
   },
   {
    "duration": 11,
    "start_time": "2022-01-29T12:58:59.382Z"
   },
   {
    "duration": 8,
    "start_time": "2022-01-29T12:59:01.762Z"
   },
   {
    "duration": 321,
    "start_time": "2022-01-29T13:05:49.810Z"
   },
   {
    "duration": 901,
    "start_time": "2022-01-29T13:05:59.327Z"
   },
   {
    "duration": 173,
    "start_time": "2022-01-29T13:06:00.231Z"
   },
   {
    "duration": 9,
    "start_time": "2022-01-29T13:06:00.408Z"
   },
   {
    "duration": 26,
    "start_time": "2022-01-29T13:06:00.420Z"
   },
   {
    "duration": 9,
    "start_time": "2022-01-29T13:06:00.449Z"
   },
   {
    "duration": 17,
    "start_time": "2022-01-29T13:06:00.460Z"
   },
   {
    "duration": 74,
    "start_time": "2022-01-29T13:06:00.480Z"
   },
   {
    "duration": 7,
    "start_time": "2022-01-29T13:06:00.560Z"
   },
   {
    "duration": 20,
    "start_time": "2022-01-29T13:06:00.571Z"
   },
   {
    "duration": 49,
    "start_time": "2022-01-29T13:06:00.594Z"
   },
   {
    "duration": 36,
    "start_time": "2022-01-29T13:06:00.647Z"
   },
   {
    "duration": 51,
    "start_time": "2022-01-29T13:06:00.686Z"
   },
   {
    "duration": 41,
    "start_time": "2022-01-29T13:06:00.740Z"
   },
   {
    "duration": 45,
    "start_time": "2022-01-29T13:06:00.783Z"
   },
   {
    "duration": 32,
    "start_time": "2022-01-29T13:06:00.832Z"
   },
   {
    "duration": 72,
    "start_time": "2022-01-29T13:06:00.866Z"
   },
   {
    "duration": 18,
    "start_time": "2022-01-29T13:06:00.940Z"
   },
   {
    "duration": 19,
    "start_time": "2022-01-29T13:06:00.961Z"
   },
   {
    "duration": 73,
    "start_time": "2022-01-29T13:06:00.983Z"
   },
   {
    "duration": 121,
    "start_time": "2022-01-29T13:06:01.059Z"
   },
   {
    "duration": 10,
    "start_time": "2022-01-29T13:06:01.183Z"
   },
   {
    "duration": 30,
    "start_time": "2022-01-29T13:06:01.196Z"
   },
   {
    "duration": 16,
    "start_time": "2022-01-29T13:06:01.236Z"
   },
   {
    "duration": 17,
    "start_time": "2022-01-29T13:06:01.256Z"
   },
   {
    "duration": 48,
    "start_time": "2022-01-29T13:06:01.276Z"
   },
   {
    "duration": 39,
    "start_time": "2022-01-29T13:06:01.326Z"
   },
   {
    "duration": 61,
    "start_time": "2022-01-29T13:06:01.368Z"
   },
   {
    "duration": 26,
    "start_time": "2022-01-29T13:06:01.431Z"
   },
   {
    "duration": 15,
    "start_time": "2022-01-29T13:06:01.460Z"
   },
   {
    "duration": 76,
    "start_time": "2022-01-29T13:06:01.478Z"
   },
   {
    "duration": 32,
    "start_time": "2022-01-29T13:06:01.557Z"
   },
   {
    "duration": 8,
    "start_time": "2022-01-29T13:06:01.625Z"
   },
   {
    "duration": 24,
    "start_time": "2022-01-29T13:06:01.636Z"
   },
   {
    "duration": 7,
    "start_time": "2022-01-29T13:06:01.662Z"
   },
   {
    "duration": 9,
    "start_time": "2022-01-29T13:06:01.672Z"
   },
   {
    "duration": 67,
    "start_time": "2022-01-29T13:06:01.684Z"
   },
   {
    "duration": 10,
    "start_time": "2022-01-29T13:06:01.753Z"
   },
   {
    "duration": 11,
    "start_time": "2022-01-29T13:06:01.765Z"
   },
   {
    "duration": 69,
    "start_time": "2022-01-29T13:06:01.779Z"
   },
   {
    "duration": 20,
    "start_time": "2022-01-29T13:06:01.851Z"
   },
   {
    "duration": 53,
    "start_time": "2022-01-29T13:06:01.874Z"
   },
   {
    "duration": 8,
    "start_time": "2022-01-29T13:06:01.929Z"
   },
   {
    "duration": 10,
    "start_time": "2022-01-29T13:06:01.939Z"
   },
   {
    "duration": 16,
    "start_time": "2022-01-29T13:06:01.952Z"
   },
   {
    "duration": 54,
    "start_time": "2022-01-29T13:06:01.971Z"
   },
   {
    "duration": 49,
    "start_time": "2022-01-29T13:06:02.027Z"
   },
   {
    "duration": 67,
    "start_time": "2022-01-29T13:06:02.078Z"
   },
   {
    "duration": 14,
    "start_time": "2022-01-29T13:06:02.148Z"
   },
   {
    "duration": 8,
    "start_time": "2022-01-29T13:06:02.165Z"
   },
   {
    "duration": 1399,
    "start_time": "2022-01-29T13:06:02.176Z"
   },
   {
    "duration": -301,
    "start_time": "2022-01-29T13:06:03.879Z"
   },
   {
    "duration": 16,
    "start_time": "2022-01-29T13:06:30.485Z"
   },
   {
    "duration": 8,
    "start_time": "2022-01-29T13:06:33.847Z"
   },
   {
    "duration": 10,
    "start_time": "2022-01-29T13:09:31.619Z"
   },
   {
    "duration": 8,
    "start_time": "2022-01-29T13:09:35.427Z"
   },
   {
    "duration": 10,
    "start_time": "2022-01-29T13:10:33.733Z"
   },
   {
    "duration": 7,
    "start_time": "2022-01-29T13:10:36.513Z"
   },
   {
    "duration": 6,
    "start_time": "2022-01-29T13:10:48.374Z"
   },
   {
    "duration": 7,
    "start_time": "2022-01-29T13:10:50.627Z"
   },
   {
    "duration": 775,
    "start_time": "2022-01-29T13:11:06.902Z"
   },
   {
    "duration": 153,
    "start_time": "2022-01-29T13:11:07.679Z"
   },
   {
    "duration": 9,
    "start_time": "2022-01-29T13:11:07.835Z"
   },
   {
    "duration": 16,
    "start_time": "2022-01-29T13:11:07.847Z"
   },
   {
    "duration": 7,
    "start_time": "2022-01-29T13:11:07.866Z"
   },
   {
    "duration": 51,
    "start_time": "2022-01-29T13:11:07.875Z"
   },
   {
    "duration": 31,
    "start_time": "2022-01-29T13:11:07.928Z"
   },
   {
    "duration": 4,
    "start_time": "2022-01-29T13:11:07.962Z"
   },
   {
    "duration": 7,
    "start_time": "2022-01-29T13:11:07.970Z"
   },
   {
    "duration": 54,
    "start_time": "2022-01-29T13:11:07.980Z"
   },
   {
    "duration": 29,
    "start_time": "2022-01-29T13:11:08.036Z"
   },
   {
    "duration": 17,
    "start_time": "2022-01-29T13:11:08.068Z"
   },
   {
    "duration": 38,
    "start_time": "2022-01-29T13:11:08.122Z"
   },
   {
    "duration": 13,
    "start_time": "2022-01-29T13:11:08.163Z"
   },
   {
    "duration": 73,
    "start_time": "2022-01-29T13:11:08.179Z"
   },
   {
    "duration": 41,
    "start_time": "2022-01-29T13:11:08.255Z"
   },
   {
    "duration": 15,
    "start_time": "2022-01-29T13:11:08.324Z"
   },
   {
    "duration": 15,
    "start_time": "2022-01-29T13:11:08.341Z"
   },
   {
    "duration": 77,
    "start_time": "2022-01-29T13:11:08.359Z"
   },
   {
    "duration": 105,
    "start_time": "2022-01-29T13:11:08.438Z"
   },
   {
    "duration": 7,
    "start_time": "2022-01-29T13:11:08.545Z"
   },
   {
    "duration": 15,
    "start_time": "2022-01-29T13:11:08.554Z"
   },
   {
    "duration": 17,
    "start_time": "2022-01-29T13:11:08.571Z"
   },
   {
    "duration": 34,
    "start_time": "2022-01-29T13:11:08.590Z"
   },
   {
    "duration": 6,
    "start_time": "2022-01-29T13:11:08.626Z"
   },
   {
    "duration": 35,
    "start_time": "2022-01-29T13:11:08.634Z"
   },
   {
    "duration": 58,
    "start_time": "2022-01-29T13:11:08.677Z"
   },
   {
    "duration": 22,
    "start_time": "2022-01-29T13:11:08.738Z"
   },
   {
    "duration": 14,
    "start_time": "2022-01-29T13:11:08.763Z"
   },
   {
    "duration": 70,
    "start_time": "2022-01-29T13:11:08.779Z"
   },
   {
    "duration": 32,
    "start_time": "2022-01-29T13:11:08.852Z"
   },
   {
    "duration": 37,
    "start_time": "2022-01-29T13:11:08.886Z"
   },
   {
    "duration": 15,
    "start_time": "2022-01-29T13:11:08.926Z"
   },
   {
    "duration": 8,
    "start_time": "2022-01-29T13:11:08.943Z"
   },
   {
    "duration": 13,
    "start_time": "2022-01-29T13:11:08.953Z"
   },
   {
    "duration": 64,
    "start_time": "2022-01-29T13:11:08.968Z"
   },
   {
    "duration": 8,
    "start_time": "2022-01-29T13:11:09.034Z"
   },
   {
    "duration": 15,
    "start_time": "2022-01-29T13:11:09.044Z"
   },
   {
    "duration": 44,
    "start_time": "2022-01-29T13:11:09.062Z"
   },
   {
    "duration": 27,
    "start_time": "2022-01-29T13:11:09.109Z"
   },
   {
    "duration": 24,
    "start_time": "2022-01-29T13:11:09.139Z"
   },
   {
    "duration": 18,
    "start_time": "2022-01-29T13:11:09.166Z"
   },
   {
    "duration": 16,
    "start_time": "2022-01-29T13:11:09.187Z"
   },
   {
    "duration": 21,
    "start_time": "2022-01-29T13:11:09.205Z"
   },
   {
    "duration": 27,
    "start_time": "2022-01-29T13:11:09.228Z"
   },
   {
    "duration": 68,
    "start_time": "2022-01-29T13:11:09.258Z"
   },
   {
    "duration": 31,
    "start_time": "2022-01-29T13:11:09.328Z"
   },
   {
    "duration": 12,
    "start_time": "2022-01-29T13:11:09.361Z"
   },
   {
    "duration": 31,
    "start_time": "2022-01-29T13:11:09.375Z"
   },
   {
    "duration": 509,
    "start_time": "2022-01-29T13:11:09.409Z"
   },
   {
    "duration": -1327,
    "start_time": "2022-01-29T13:11:11.248Z"
   },
   {
    "duration": 324,
    "start_time": "2022-01-29T13:11:23.601Z"
   },
   {
    "duration": 258,
    "start_time": "2022-01-29T13:11:50.553Z"
   },
   {
    "duration": 301,
    "start_time": "2022-01-29T13:12:00.081Z"
   },
   {
    "duration": 9,
    "start_time": "2022-01-29T13:12:17.578Z"
   },
   {
    "duration": 8,
    "start_time": "2022-01-29T13:12:19.765Z"
   },
   {
    "duration": 4,
    "start_time": "2022-01-29T13:12:58.057Z"
   },
   {
    "duration": 8,
    "start_time": "2022-01-29T13:13:00.961Z"
   },
   {
    "duration": 876,
    "start_time": "2022-01-29T13:13:09.510Z"
   },
   {
    "duration": 159,
    "start_time": "2022-01-29T13:13:10.389Z"
   },
   {
    "duration": 10,
    "start_time": "2022-01-29T13:13:10.551Z"
   },
   {
    "duration": 15,
    "start_time": "2022-01-29T13:13:10.563Z"
   },
   {
    "duration": 7,
    "start_time": "2022-01-29T13:13:10.580Z"
   },
   {
    "duration": 11,
    "start_time": "2022-01-29T13:13:10.624Z"
   },
   {
    "duration": 28,
    "start_time": "2022-01-29T13:13:10.637Z"
   },
   {
    "duration": 5,
    "start_time": "2022-01-29T13:13:10.667Z"
   },
   {
    "duration": 48,
    "start_time": "2022-01-29T13:13:10.676Z"
   },
   {
    "duration": 21,
    "start_time": "2022-01-29T13:13:10.728Z"
   },
   {
    "duration": 27,
    "start_time": "2022-01-29T13:13:10.752Z"
   },
   {
    "duration": 45,
    "start_time": "2022-01-29T13:13:10.782Z"
   },
   {
    "duration": 36,
    "start_time": "2022-01-29T13:13:10.829Z"
   },
   {
    "duration": 12,
    "start_time": "2022-01-29T13:13:10.868Z"
   },
   {
    "duration": 27,
    "start_time": "2022-01-29T13:13:10.922Z"
   },
   {
    "duration": 28,
    "start_time": "2022-01-29T13:13:10.951Z"
   },
   {
    "duration": 51,
    "start_time": "2022-01-29T13:13:10.982Z"
   },
   {
    "duration": 14,
    "start_time": "2022-01-29T13:13:11.035Z"
   },
   {
    "duration": 31,
    "start_time": "2022-01-29T13:13:11.052Z"
   },
   {
    "duration": 140,
    "start_time": "2022-01-29T13:13:11.085Z"
   },
   {
    "duration": 7,
    "start_time": "2022-01-29T13:13:11.227Z"
   },
   {
    "duration": 17,
    "start_time": "2022-01-29T13:13:11.236Z"
   },
   {
    "duration": 16,
    "start_time": "2022-01-29T13:13:11.255Z"
   },
   {
    "duration": 16,
    "start_time": "2022-01-29T13:13:11.273Z"
   },
   {
    "duration": 33,
    "start_time": "2022-01-29T13:13:11.292Z"
   },
   {
    "duration": 39,
    "start_time": "2022-01-29T13:13:11.327Z"
   },
   {
    "duration": 53,
    "start_time": "2022-01-29T13:13:11.371Z"
   },
   {
    "duration": 24,
    "start_time": "2022-01-29T13:13:11.427Z"
   },
   {
    "duration": 21,
    "start_time": "2022-01-29T13:13:11.453Z"
   },
   {
    "duration": 62,
    "start_time": "2022-01-29T13:13:11.476Z"
   },
   {
    "duration": 28,
    "start_time": "2022-01-29T13:13:11.540Z"
   },
   {
    "duration": 8,
    "start_time": "2022-01-29T13:13:11.570Z"
   },
   {
    "duration": 51,
    "start_time": "2022-01-29T13:13:11.580Z"
   },
   {
    "duration": 9,
    "start_time": "2022-01-29T13:13:11.633Z"
   },
   {
    "duration": 8,
    "start_time": "2022-01-29T13:13:11.645Z"
   },
   {
    "duration": 70,
    "start_time": "2022-01-29T13:13:11.655Z"
   },
   {
    "duration": 8,
    "start_time": "2022-01-29T13:13:11.727Z"
   },
   {
    "duration": 7,
    "start_time": "2022-01-29T13:13:11.737Z"
   },
   {
    "duration": 32,
    "start_time": "2022-01-29T13:13:11.746Z"
   },
   {
    "duration": 50,
    "start_time": "2022-01-29T13:13:11.780Z"
   },
   {
    "duration": 15,
    "start_time": "2022-01-29T13:13:11.832Z"
   },
   {
    "duration": 5,
    "start_time": "2022-01-29T13:13:11.850Z"
   },
   {
    "duration": 8,
    "start_time": "2022-01-29T13:13:11.857Z"
   },
   {
    "duration": 5,
    "start_time": "2022-01-29T13:13:11.867Z"
   },
   {
    "duration": 63,
    "start_time": "2022-01-29T13:13:11.874Z"
   },
   {
    "duration": 47,
    "start_time": "2022-01-29T13:13:11.939Z"
   },
   {
    "duration": 65,
    "start_time": "2022-01-29T13:13:11.988Z"
   },
   {
    "duration": 13,
    "start_time": "2022-01-29T13:13:12.055Z"
   },
   {
    "duration": 9,
    "start_time": "2022-01-29T13:13:12.071Z"
   },
   {
    "duration": 417,
    "start_time": "2022-01-29T13:13:12.082Z"
   },
   {
    "duration": -1984,
    "start_time": "2022-01-29T13:13:14.487Z"
   },
   {
    "duration": 1914,
    "start_time": "2022-01-29T13:13:45.150Z"
   },
   {
    "duration": 19,
    "start_time": "2022-01-29T13:15:09.194Z"
   },
   {
    "duration": 7,
    "start_time": "2022-01-29T13:15:11.614Z"
   },
   {
    "duration": 1334,
    "start_time": "2022-01-29T13:15:27.102Z"
   },
   {
    "duration": 298,
    "start_time": "2022-01-29T13:15:39.630Z"
   },
   {
    "duration": 789,
    "start_time": "2022-01-29T13:15:48.085Z"
   },
   {
    "duration": 145,
    "start_time": "2022-01-29T13:15:48.877Z"
   },
   {
    "duration": 9,
    "start_time": "2022-01-29T13:15:49.025Z"
   },
   {
    "duration": 16,
    "start_time": "2022-01-29T13:15:49.038Z"
   },
   {
    "duration": 7,
    "start_time": "2022-01-29T13:15:49.056Z"
   },
   {
    "duration": 57,
    "start_time": "2022-01-29T13:15:49.066Z"
   },
   {
    "duration": 31,
    "start_time": "2022-01-29T13:15:49.125Z"
   },
   {
    "duration": 4,
    "start_time": "2022-01-29T13:15:49.160Z"
   },
   {
    "duration": 6,
    "start_time": "2022-01-29T13:15:49.167Z"
   },
   {
    "duration": 58,
    "start_time": "2022-01-29T13:15:49.176Z"
   },
   {
    "duration": 31,
    "start_time": "2022-01-29T13:15:49.237Z"
   },
   {
    "duration": 16,
    "start_time": "2022-01-29T13:15:49.270Z"
   },
   {
    "duration": 72,
    "start_time": "2022-01-29T13:15:49.289Z"
   },
   {
    "duration": 13,
    "start_time": "2022-01-29T13:15:49.363Z"
   },
   {
    "duration": 65,
    "start_time": "2022-01-29T13:15:49.379Z"
   },
   {
    "duration": 31,
    "start_time": "2022-01-29T13:15:49.448Z"
   },
   {
    "duration": 54,
    "start_time": "2022-01-29T13:15:49.482Z"
   },
   {
    "duration": 12,
    "start_time": "2022-01-29T13:15:49.539Z"
   },
   {
    "duration": 30,
    "start_time": "2022-01-29T13:15:49.554Z"
   },
   {
    "duration": 119,
    "start_time": "2022-01-29T13:15:49.586Z"
   },
   {
    "duration": 8,
    "start_time": "2022-01-29T13:15:49.723Z"
   },
   {
    "duration": 8,
    "start_time": "2022-01-29T13:15:49.733Z"
   },
   {
    "duration": 12,
    "start_time": "2022-01-29T13:15:49.746Z"
   },
   {
    "duration": 8,
    "start_time": "2022-01-29T13:15:49.761Z"
   },
   {
    "duration": 56,
    "start_time": "2022-01-29T13:15:49.771Z"
   },
   {
    "duration": 37,
    "start_time": "2022-01-29T13:15:49.829Z"
   },
   {
    "duration": 56,
    "start_time": "2022-01-29T13:15:49.868Z"
   },
   {
    "duration": 22,
    "start_time": "2022-01-29T13:15:49.927Z"
   },
   {
    "duration": 11,
    "start_time": "2022-01-29T13:15:49.952Z"
   },
   {
    "duration": 61,
    "start_time": "2022-01-29T13:15:49.965Z"
   },
   {
    "duration": 28,
    "start_time": "2022-01-29T13:15:50.028Z"
   },
   {
    "duration": 7,
    "start_time": "2022-01-29T13:15:50.058Z"
   },
   {
    "duration": 56,
    "start_time": "2022-01-29T13:15:50.067Z"
   },
   {
    "duration": 11,
    "start_time": "2022-01-29T13:15:50.127Z"
   },
   {
    "duration": 10,
    "start_time": "2022-01-29T13:15:50.141Z"
   },
   {
    "duration": 71,
    "start_time": "2022-01-29T13:15:50.154Z"
   },
   {
    "duration": 11,
    "start_time": "2022-01-29T13:15:50.228Z"
   },
   {
    "duration": 11,
    "start_time": "2022-01-29T13:15:50.242Z"
   },
   {
    "duration": 70,
    "start_time": "2022-01-29T13:15:50.255Z"
   },
   {
    "duration": 15,
    "start_time": "2022-01-29T13:15:50.328Z"
   },
   {
    "duration": 15,
    "start_time": "2022-01-29T13:15:50.346Z"
   },
   {
    "duration": 7,
    "start_time": "2022-01-29T13:15:50.363Z"
   },
   {
    "duration": 9,
    "start_time": "2022-01-29T13:15:50.373Z"
   },
   {
    "duration": 5,
    "start_time": "2022-01-29T13:15:50.425Z"
   },
   {
    "duration": 23,
    "start_time": "2022-01-29T13:15:50.433Z"
   },
   {
    "duration": 77,
    "start_time": "2022-01-29T13:15:50.459Z"
   },
   {
    "duration": 33,
    "start_time": "2022-01-29T13:15:50.538Z"
   },
   {
    "duration": 49,
    "start_time": "2022-01-29T13:15:50.574Z"
   },
   {
    "duration": 7,
    "start_time": "2022-01-29T13:15:50.625Z"
   },
   {
    "duration": 13,
    "start_time": "2022-01-29T13:15:50.634Z"
   },
   {
    "duration": 8,
    "start_time": "2022-01-29T13:15:50.649Z"
   },
   {
    "duration": 533,
    "start_time": "2022-01-29T13:16:36.369Z"
   },
   {
    "duration": 451,
    "start_time": "2022-01-29T13:16:36.454Z"
   },
   {
    "duration": 341,
    "start_time": "2022-01-29T13:17:48.146Z"
   },
   {
    "duration": 882,
    "start_time": "2022-01-29T13:17:57.795Z"
   },
   {
    "duration": 134,
    "start_time": "2022-01-29T13:17:58.679Z"
   },
   {
    "duration": 12,
    "start_time": "2022-01-29T13:17:58.817Z"
   },
   {
    "duration": 18,
    "start_time": "2022-01-29T13:17:58.833Z"
   },
   {
    "duration": 7,
    "start_time": "2022-01-29T13:17:58.853Z"
   },
   {
    "duration": 10,
    "start_time": "2022-01-29T13:17:58.862Z"
   },
   {
    "duration": 66,
    "start_time": "2022-01-29T13:17:58.875Z"
   },
   {
    "duration": 4,
    "start_time": "2022-01-29T13:17:58.945Z"
   },
   {
    "duration": 6,
    "start_time": "2022-01-29T13:17:58.952Z"
   },
   {
    "duration": 19,
    "start_time": "2022-01-29T13:17:58.960Z"
   },
   {
    "duration": 31,
    "start_time": "2022-01-29T13:17:59.024Z"
   },
   {
    "duration": 15,
    "start_time": "2022-01-29T13:17:59.058Z"
   },
   {
    "duration": 73,
    "start_time": "2022-01-29T13:17:59.076Z"
   },
   {
    "duration": 13,
    "start_time": "2022-01-29T13:17:59.151Z"
   },
   {
    "duration": 59,
    "start_time": "2022-01-29T13:17:59.166Z"
   },
   {
    "duration": 27,
    "start_time": "2022-01-29T13:17:59.228Z"
   },
   {
    "duration": 13,
    "start_time": "2022-01-29T13:17:59.258Z"
   },
   {
    "duration": 49,
    "start_time": "2022-01-29T13:17:59.274Z"
   },
   {
    "duration": 31,
    "start_time": "2022-01-29T13:17:59.326Z"
   },
   {
    "duration": 121,
    "start_time": "2022-01-29T13:17:59.359Z"
   },
   {
    "duration": 7,
    "start_time": "2022-01-29T13:17:59.483Z"
   },
   {
    "duration": 8,
    "start_time": "2022-01-29T13:17:59.492Z"
   },
   {
    "duration": 12,
    "start_time": "2022-01-29T13:17:59.527Z"
   },
   {
    "duration": 9,
    "start_time": "2022-01-29T13:17:59.542Z"
   },
   {
    "duration": 6,
    "start_time": "2022-01-29T13:17:59.553Z"
   },
   {
    "duration": 80,
    "start_time": "2022-01-29T13:17:59.561Z"
   },
   {
    "duration": 19,
    "start_time": "2022-01-29T13:17:59.644Z"
   },
   {
    "duration": 31,
    "start_time": "2022-01-29T13:17:59.665Z"
   },
   {
    "duration": 16,
    "start_time": "2022-01-29T13:17:59.725Z"
   },
   {
    "duration": 49,
    "start_time": "2022-01-29T13:17:59.744Z"
   },
   {
    "duration": 66,
    "start_time": "2022-01-29T13:17:59.796Z"
   },
   {
    "duration": 9,
    "start_time": "2022-01-29T13:17:59.865Z"
   },
   {
    "duration": 61,
    "start_time": "2022-01-29T13:17:59.877Z"
   },
   {
    "duration": 10,
    "start_time": "2022-01-29T13:17:59.941Z"
   },
   {
    "duration": 10,
    "start_time": "2022-01-29T13:17:59.954Z"
   },
   {
    "duration": 63,
    "start_time": "2022-01-29T13:17:59.967Z"
   },
   {
    "duration": 8,
    "start_time": "2022-01-29T13:18:00.032Z"
   },
   {
    "duration": 22,
    "start_time": "2022-01-29T13:18:00.042Z"
   },
   {
    "duration": 40,
    "start_time": "2022-01-29T13:18:00.067Z"
   },
   {
    "duration": 23,
    "start_time": "2022-01-29T13:18:00.110Z"
   },
   {
    "duration": 20,
    "start_time": "2022-01-29T13:18:00.136Z"
   },
   {
    "duration": 23,
    "start_time": "2022-01-29T13:18:00.158Z"
   },
   {
    "duration": 47,
    "start_time": "2022-01-29T13:18:00.183Z"
   },
   {
    "duration": 23,
    "start_time": "2022-01-29T13:18:00.232Z"
   },
   {
    "duration": 49,
    "start_time": "2022-01-29T13:18:00.258Z"
   },
   {
    "duration": 67,
    "start_time": "2022-01-29T13:18:00.309Z"
   },
   {
    "duration": 58,
    "start_time": "2022-01-29T13:18:00.379Z"
   },
   {
    "duration": 13,
    "start_time": "2022-01-29T13:18:00.439Z"
   },
   {
    "duration": 13,
    "start_time": "2022-01-29T13:18:00.455Z"
   },
   {
    "duration": 60,
    "start_time": "2022-01-29T13:18:00.471Z"
   },
   {
    "duration": 19,
    "start_time": "2022-01-29T13:18:00.534Z"
   },
   {
    "duration": 377,
    "start_time": "2022-01-29T13:18:11.212Z"
   },
   {
    "duration": 777,
    "start_time": "2022-01-29T13:18:17.751Z"
   },
   {
    "duration": 139,
    "start_time": "2022-01-29T13:18:18.531Z"
   },
   {
    "duration": 11,
    "start_time": "2022-01-29T13:18:18.674Z"
   },
   {
    "duration": 15,
    "start_time": "2022-01-29T13:18:18.689Z"
   },
   {
    "duration": 8,
    "start_time": "2022-01-29T13:18:18.723Z"
   },
   {
    "duration": 12,
    "start_time": "2022-01-29T13:18:18.733Z"
   },
   {
    "duration": 30,
    "start_time": "2022-01-29T13:18:18.747Z"
   },
   {
    "duration": 4,
    "start_time": "2022-01-29T13:18:18.779Z"
   },
   {
    "duration": 5,
    "start_time": "2022-01-29T13:18:18.826Z"
   },
   {
    "duration": 18,
    "start_time": "2022-01-29T13:18:18.834Z"
   },
   {
    "duration": 70,
    "start_time": "2022-01-29T13:18:18.854Z"
   },
   {
    "duration": 17,
    "start_time": "2022-01-29T13:18:18.927Z"
   },
   {
    "duration": 38,
    "start_time": "2022-01-29T13:18:18.947Z"
   },
   {
    "duration": 44,
    "start_time": "2022-01-29T13:18:18.988Z"
   },
   {
    "duration": 27,
    "start_time": "2022-01-29T13:18:19.035Z"
   },
   {
    "duration": 67,
    "start_time": "2022-01-29T13:18:19.064Z"
   },
   {
    "duration": 14,
    "start_time": "2022-01-29T13:18:19.134Z"
   },
   {
    "duration": 14,
    "start_time": "2022-01-29T13:18:19.151Z"
   },
   {
    "duration": 76,
    "start_time": "2022-01-29T13:18:19.169Z"
   },
   {
    "duration": 122,
    "start_time": "2022-01-29T13:18:19.247Z"
   },
   {
    "duration": 6,
    "start_time": "2022-01-29T13:18:19.372Z"
   },
   {
    "duration": 12,
    "start_time": "2022-01-29T13:18:19.381Z"
   },
   {
    "duration": 40,
    "start_time": "2022-01-29T13:18:19.397Z"
   },
   {
    "duration": 9,
    "start_time": "2022-01-29T13:18:19.440Z"
   },
   {
    "duration": 7,
    "start_time": "2022-01-29T13:18:19.452Z"
   },
   {
    "duration": 78,
    "start_time": "2022-01-29T13:18:19.462Z"
   },
   {
    "duration": 17,
    "start_time": "2022-01-29T13:18:19.545Z"
   },
   {
    "duration": 64,
    "start_time": "2022-01-29T13:18:19.566Z"
   },
   {
    "duration": 14,
    "start_time": "2022-01-29T13:18:19.632Z"
   },
   {
    "duration": 76,
    "start_time": "2022-01-29T13:18:19.649Z"
   },
   {
    "duration": 35,
    "start_time": "2022-01-29T13:18:19.728Z"
   },
   {
    "duration": 15,
    "start_time": "2022-01-29T13:18:19.766Z"
   },
   {
    "duration": 53,
    "start_time": "2022-01-29T13:18:19.784Z"
   },
   {
    "duration": 10,
    "start_time": "2022-01-29T13:18:19.840Z"
   },
   {
    "duration": 7,
    "start_time": "2022-01-29T13:18:19.853Z"
   },
   {
    "duration": 82,
    "start_time": "2022-01-29T13:18:19.863Z"
   },
   {
    "duration": 11,
    "start_time": "2022-01-29T13:18:19.948Z"
   },
   {
    "duration": 8,
    "start_time": "2022-01-29T13:18:19.961Z"
   },
   {
    "duration": 67,
    "start_time": "2022-01-29T13:18:19.971Z"
   },
   {
    "duration": 15,
    "start_time": "2022-01-29T13:18:20.040Z"
   },
   {
    "duration": 11,
    "start_time": "2022-01-29T13:18:20.057Z"
   },
   {
    "duration": 6,
    "start_time": "2022-01-29T13:18:20.070Z"
   },
   {
    "duration": 50,
    "start_time": "2022-01-29T13:18:20.078Z"
   },
   {
    "duration": 5,
    "start_time": "2022-01-29T13:18:20.130Z"
   },
   {
    "duration": 26,
    "start_time": "2022-01-29T13:18:20.137Z"
   },
   {
    "duration": 86,
    "start_time": "2022-01-29T13:18:20.166Z"
   },
   {
    "duration": 68,
    "start_time": "2022-01-29T13:18:20.255Z"
   },
   {
    "duration": 12,
    "start_time": "2022-01-29T13:18:20.326Z"
   },
   {
    "duration": 9,
    "start_time": "2022-01-29T13:18:20.341Z"
   },
   {
    "duration": 27,
    "start_time": "2022-01-29T13:18:20.353Z"
   },
   {
    "duration": 42,
    "start_time": "2022-01-29T13:18:20.383Z"
   },
   {
    "duration": 8,
    "start_time": "2022-01-29T13:29:04.298Z"
   },
   {
    "duration": 4,
    "start_time": "2022-01-29T13:32:00.485Z"
   },
   {
    "duration": 7,
    "start_time": "2022-01-29T13:32:12.506Z"
   },
   {
    "duration": 5,
    "start_time": "2022-01-29T13:32:36.271Z"
   },
   {
    "duration": 7,
    "start_time": "2022-01-29T13:32:37.322Z"
   },
   {
    "duration": 847,
    "start_time": "2022-01-29T13:55:04.186Z"
   },
   {
    "duration": 141,
    "start_time": "2022-01-29T13:55:05.037Z"
   },
   {
    "duration": 8,
    "start_time": "2022-01-29T13:55:05.181Z"
   },
   {
    "duration": 19,
    "start_time": "2022-01-29T13:55:05.192Z"
   },
   {
    "duration": 14,
    "start_time": "2022-01-29T13:55:05.214Z"
   },
   {
    "duration": 12,
    "start_time": "2022-01-29T13:55:05.230Z"
   },
   {
    "duration": 30,
    "start_time": "2022-01-29T13:55:05.244Z"
   },
   {
    "duration": 5,
    "start_time": "2022-01-29T13:55:05.278Z"
   },
   {
    "duration": 42,
    "start_time": "2022-01-29T13:55:05.286Z"
   },
   {
    "duration": 28,
    "start_time": "2022-01-29T13:55:05.331Z"
   },
   {
    "duration": 62,
    "start_time": "2022-01-29T13:55:05.361Z"
   },
   {
    "duration": 20,
    "start_time": "2022-01-29T13:55:05.427Z"
   },
   {
    "duration": 76,
    "start_time": "2022-01-29T13:55:05.450Z"
   },
   {
    "duration": 16,
    "start_time": "2022-01-29T13:55:05.529Z"
   },
   {
    "duration": 29,
    "start_time": "2022-01-29T13:55:05.549Z"
   },
   {
    "duration": 74,
    "start_time": "2022-01-29T13:55:05.580Z"
   },
   {
    "duration": 16,
    "start_time": "2022-01-29T13:55:05.657Z"
   },
   {
    "duration": 56,
    "start_time": "2022-01-29T13:55:05.675Z"
   },
   {
    "duration": 47,
    "start_time": "2022-01-29T13:55:05.735Z"
   },
   {
    "duration": 180,
    "start_time": "2022-01-29T13:55:05.785Z"
   },
   {
    "duration": 8,
    "start_time": "2022-01-29T13:55:05.968Z"
   },
   {
    "duration": 7,
    "start_time": "2022-01-29T13:55:05.979Z"
   },
   {
    "duration": 39,
    "start_time": "2022-01-29T13:55:05.991Z"
   },
   {
    "duration": 20,
    "start_time": "2022-01-29T13:55:06.034Z"
   },
   {
    "duration": 7,
    "start_time": "2022-01-29T13:55:06.057Z"
   },
   {
    "duration": 82,
    "start_time": "2022-01-29T13:55:06.068Z"
   },
   {
    "duration": 16,
    "start_time": "2022-01-29T13:55:06.153Z"
   },
   {
    "duration": 60,
    "start_time": "2022-01-29T13:55:06.172Z"
   },
   {
    "duration": 11,
    "start_time": "2022-01-29T13:55:06.234Z"
   },
   {
    "duration": 38,
    "start_time": "2022-01-29T13:55:06.248Z"
   },
   {
    "duration": 71,
    "start_time": "2022-01-29T13:55:06.289Z"
   },
   {
    "duration": 5,
    "start_time": "2022-01-29T13:55:06.363Z"
   },
   {
    "duration": 55,
    "start_time": "2022-01-29T13:55:06.372Z"
   },
   {
    "duration": 9,
    "start_time": "2022-01-29T13:55:06.431Z"
   },
   {
    "duration": 8,
    "start_time": "2022-01-29T13:55:06.444Z"
   },
   {
    "duration": 80,
    "start_time": "2022-01-29T13:55:06.454Z"
   },
   {
    "duration": 8,
    "start_time": "2022-01-29T13:55:06.536Z"
   },
   {
    "duration": 10,
    "start_time": "2022-01-29T13:55:06.546Z"
   },
   {
    "duration": 65,
    "start_time": "2022-01-29T13:55:06.558Z"
   },
   {
    "duration": 14,
    "start_time": "2022-01-29T13:55:06.625Z"
   },
   {
    "duration": 15,
    "start_time": "2022-01-29T13:55:06.643Z"
   },
   {
    "duration": 7,
    "start_time": "2022-01-29T13:55:06.660Z"
   },
   {
    "duration": 11,
    "start_time": "2022-01-29T13:55:06.669Z"
   },
   {
    "duration": 7,
    "start_time": "2022-01-29T13:55:06.725Z"
   },
   {
    "duration": 23,
    "start_time": "2022-01-29T13:55:06.735Z"
   },
   {
    "duration": 81,
    "start_time": "2022-01-29T13:55:06.760Z"
   },
   {
    "duration": 48,
    "start_time": "2022-01-29T13:55:06.844Z"
   },
   {
    "duration": 37,
    "start_time": "2022-01-29T13:55:06.895Z"
   },
   {
    "duration": 13,
    "start_time": "2022-01-29T13:55:06.935Z"
   },
   {
    "duration": 25,
    "start_time": "2022-01-29T13:55:06.951Z"
   },
   {
    "duration": 8,
    "start_time": "2022-01-29T13:55:06.978Z"
   },
   {
    "duration": 36,
    "start_time": "2022-01-29T13:55:06.989Z"
   },
   {
    "duration": 4,
    "start_time": "2022-01-29T13:55:07.027Z"
   },
   {
    "duration": 18,
    "start_time": "2022-01-29T13:55:07.033Z"
   },
   {
    "duration": 5,
    "start_time": "2022-01-29T13:55:34.106Z"
   },
   {
    "duration": 8,
    "start_time": "2022-01-29T13:55:36.110Z"
   },
   {
    "duration": 11,
    "start_time": "2022-01-29T14:32:53.019Z"
   },
   {
    "duration": 5,
    "start_time": "2022-01-29T14:33:47.628Z"
   },
   {
    "duration": 9,
    "start_time": "2022-01-29T14:33:51.206Z"
   },
   {
    "duration": 780,
    "start_time": "2022-01-29T14:33:57.264Z"
   },
   {
    "duration": 212,
    "start_time": "2022-01-29T14:33:58.047Z"
   },
   {
    "duration": 12,
    "start_time": "2022-01-29T14:33:58.263Z"
   },
   {
    "duration": 20,
    "start_time": "2022-01-29T14:33:58.279Z"
   },
   {
    "duration": 28,
    "start_time": "2022-01-29T14:33:58.302Z"
   },
   {
    "duration": 18,
    "start_time": "2022-01-29T14:33:58.332Z"
   },
   {
    "duration": 31,
    "start_time": "2022-01-29T14:33:58.353Z"
   },
   {
    "duration": 5,
    "start_time": "2022-01-29T14:33:58.425Z"
   },
   {
    "duration": 6,
    "start_time": "2022-01-29T14:33:58.434Z"
   },
   {
    "duration": 24,
    "start_time": "2022-01-29T14:33:58.443Z"
   },
   {
    "duration": 82,
    "start_time": "2022-01-29T14:33:58.469Z"
   },
   {
    "duration": 16,
    "start_time": "2022-01-29T14:33:58.554Z"
   },
   {
    "duration": 69,
    "start_time": "2022-01-29T14:33:58.573Z"
   },
   {
    "duration": 14,
    "start_time": "2022-01-29T14:33:58.645Z"
   },
   {
    "duration": 70,
    "start_time": "2022-01-29T14:33:58.661Z"
   },
   {
    "duration": 30,
    "start_time": "2022-01-29T14:33:58.733Z"
   },
   {
    "duration": 59,
    "start_time": "2022-01-29T14:33:58.766Z"
   },
   {
    "duration": 17,
    "start_time": "2022-01-29T14:33:58.828Z"
   },
   {
    "duration": 39,
    "start_time": "2022-01-29T14:33:58.848Z"
   },
   {
    "duration": 136,
    "start_time": "2022-01-29T14:33:58.890Z"
   },
   {
    "duration": 8,
    "start_time": "2022-01-29T14:33:59.028Z"
   },
   {
    "duration": 7,
    "start_time": "2022-01-29T14:33:59.039Z"
   },
   {
    "duration": 19,
    "start_time": "2022-01-29T14:33:59.056Z"
   },
   {
    "duration": 55,
    "start_time": "2022-01-29T14:33:59.079Z"
   },
   {
    "duration": 7,
    "start_time": "2022-01-29T14:33:59.137Z"
   },
   {
    "duration": 37,
    "start_time": "2022-01-29T14:33:59.146Z"
   },
   {
    "duration": 17,
    "start_time": "2022-01-29T14:33:59.224Z"
   },
   {
    "duration": 29,
    "start_time": "2022-01-29T14:33:59.244Z"
   },
   {
    "duration": 60,
    "start_time": "2022-01-29T14:33:59.276Z"
   },
   {
    "duration": 41,
    "start_time": "2022-01-29T14:33:59.339Z"
   },
   {
    "duration": 70,
    "start_time": "2022-01-29T14:33:59.382Z"
   },
   {
    "duration": 5,
    "start_time": "2022-01-29T14:33:59.455Z"
   },
   {
    "duration": 63,
    "start_time": "2022-01-29T14:33:59.463Z"
   },
   {
    "duration": 10,
    "start_time": "2022-01-29T14:33:59.528Z"
   },
   {
    "duration": 7,
    "start_time": "2022-01-29T14:33:59.540Z"
   },
   {
    "duration": 78,
    "start_time": "2022-01-29T14:33:59.549Z"
   },
   {
    "duration": 8,
    "start_time": "2022-01-29T14:33:59.630Z"
   },
   {
    "duration": 11,
    "start_time": "2022-01-29T14:33:59.641Z"
   },
   {
    "duration": 93,
    "start_time": "2022-01-29T14:33:59.655Z"
   },
   {
    "duration": 16,
    "start_time": "2022-01-29T14:33:59.756Z"
   },
   {
    "duration": 15,
    "start_time": "2022-01-29T14:33:59.775Z"
   },
   {
    "duration": 6,
    "start_time": "2022-01-29T14:33:59.825Z"
   },
   {
    "duration": 12,
    "start_time": "2022-01-29T14:33:59.833Z"
   },
   {
    "duration": 8,
    "start_time": "2022-01-29T14:33:59.847Z"
   },
   {
    "duration": 68,
    "start_time": "2022-01-29T14:33:59.857Z"
   },
   {
    "duration": 68,
    "start_time": "2022-01-29T14:33:59.929Z"
   },
   {
    "duration": 52,
    "start_time": "2022-01-29T14:34:00.027Z"
   },
   {
    "duration": 42,
    "start_time": "2022-01-29T14:34:00.082Z"
   },
   {
    "duration": 15,
    "start_time": "2022-01-29T14:34:00.128Z"
   },
   {
    "duration": 14,
    "start_time": "2022-01-29T14:34:00.146Z"
   },
   {
    "duration": 7,
    "start_time": "2022-01-29T14:34:00.162Z"
   },
   {
    "duration": 55,
    "start_time": "2022-01-29T14:34:00.172Z"
   },
   {
    "duration": 5,
    "start_time": "2022-01-29T14:34:25.152Z"
   },
   {
    "duration": 6,
    "start_time": "2022-01-29T14:34:27.832Z"
   },
   {
    "duration": 393,
    "start_time": "2022-01-29T14:34:46.519Z"
   },
   {
    "duration": 794,
    "start_time": "2022-01-29T14:35:01.229Z"
   },
   {
    "duration": 151,
    "start_time": "2022-01-29T14:35:02.027Z"
   },
   {
    "duration": 11,
    "start_time": "2022-01-29T14:35:02.182Z"
   },
   {
    "duration": 26,
    "start_time": "2022-01-29T14:35:02.197Z"
   },
   {
    "duration": 8,
    "start_time": "2022-01-29T14:35:02.225Z"
   },
   {
    "duration": 12,
    "start_time": "2022-01-29T14:35:02.236Z"
   },
   {
    "duration": 72,
    "start_time": "2022-01-29T14:35:02.251Z"
   },
   {
    "duration": 6,
    "start_time": "2022-01-29T14:35:02.329Z"
   },
   {
    "duration": 6,
    "start_time": "2022-01-29T14:35:02.339Z"
   },
   {
    "duration": 26,
    "start_time": "2022-01-29T14:35:02.348Z"
   },
   {
    "duration": 71,
    "start_time": "2022-01-29T14:35:02.377Z"
   },
   {
    "duration": 23,
    "start_time": "2022-01-29T14:35:02.450Z"
   },
   {
    "duration": 65,
    "start_time": "2022-01-29T14:35:02.475Z"
   },
   {
    "duration": 13,
    "start_time": "2022-01-29T14:35:02.542Z"
   },
   {
    "duration": 27,
    "start_time": "2022-01-29T14:35:02.558Z"
   },
   {
    "duration": 64,
    "start_time": "2022-01-29T14:35:02.587Z"
   },
   {
    "duration": 15,
    "start_time": "2022-01-29T14:35:02.653Z"
   },
   {
    "duration": 55,
    "start_time": "2022-01-29T14:35:02.671Z"
   },
   {
    "duration": 32,
    "start_time": "2022-01-29T14:35:02.728Z"
   },
   {
    "duration": 183,
    "start_time": "2022-01-29T14:35:02.762Z"
   },
   {
    "duration": 9,
    "start_time": "2022-01-29T14:35:02.948Z"
   },
   {
    "duration": 8,
    "start_time": "2022-01-29T14:35:02.960Z"
   },
   {
    "duration": 54,
    "start_time": "2022-01-29T14:35:02.977Z"
   },
   {
    "duration": 9,
    "start_time": "2022-01-29T14:35:03.035Z"
   },
   {
    "duration": 9,
    "start_time": "2022-01-29T14:35:03.047Z"
   },
   {
    "duration": 90,
    "start_time": "2022-01-29T14:35:03.059Z"
   },
   {
    "duration": 25,
    "start_time": "2022-01-29T14:35:03.152Z"
   },
   {
    "duration": 59,
    "start_time": "2022-01-29T14:35:03.180Z"
   },
   {
    "duration": 15,
    "start_time": "2022-01-29T14:35:03.242Z"
   },
   {
    "duration": 75,
    "start_time": "2022-01-29T14:35:03.260Z"
   },
   {
    "duration": 30,
    "start_time": "2022-01-29T14:35:03.338Z"
   },
   {
    "duration": 5,
    "start_time": "2022-01-29T14:35:03.370Z"
   },
   {
    "duration": 52,
    "start_time": "2022-01-29T14:35:03.378Z"
   },
   {
    "duration": 9,
    "start_time": "2022-01-29T14:35:03.433Z"
   },
   {
    "duration": 11,
    "start_time": "2022-01-29T14:35:03.444Z"
   },
   {
    "duration": 83,
    "start_time": "2022-01-29T14:35:03.458Z"
   },
   {
    "duration": 9,
    "start_time": "2022-01-29T14:35:03.544Z"
   },
   {
    "duration": 15,
    "start_time": "2022-01-29T14:35:03.555Z"
   },
   {
    "duration": 63,
    "start_time": "2022-01-29T14:35:03.572Z"
   },
   {
    "duration": 23,
    "start_time": "2022-01-29T14:35:03.638Z"
   },
   {
    "duration": 10,
    "start_time": "2022-01-29T14:35:03.664Z"
   },
   {
    "duration": 7,
    "start_time": "2022-01-29T14:35:03.676Z"
   },
   {
    "duration": 39,
    "start_time": "2022-01-29T14:35:03.685Z"
   },
   {
    "duration": 9,
    "start_time": "2022-01-29T14:35:03.727Z"
   },
   {
    "duration": 23,
    "start_time": "2022-01-29T14:35:03.738Z"
   },
   {
    "duration": 92,
    "start_time": "2022-01-29T14:35:03.764Z"
   },
   {
    "duration": 32,
    "start_time": "2022-01-29T14:35:03.859Z"
   },
   {
    "duration": 40,
    "start_time": "2022-01-29T14:35:03.894Z"
   },
   {
    "duration": 11,
    "start_time": "2022-01-29T14:35:03.937Z"
   },
   {
    "duration": 9,
    "start_time": "2022-01-29T14:35:03.950Z"
   },
   {
    "duration": 488,
    "start_time": "2022-01-29T14:35:03.961Z"
   },
   {
    "duration": -425,
    "start_time": "2022-01-29T14:35:04.877Z"
   },
   {
    "duration": 742,
    "start_time": "2022-01-29T14:38:25.147Z"
   },
   {
    "duration": 145,
    "start_time": "2022-01-29T14:38:25.892Z"
   },
   {
    "duration": 11,
    "start_time": "2022-01-29T14:38:26.041Z"
   },
   {
    "duration": 21,
    "start_time": "2022-01-29T14:38:26.055Z"
   },
   {
    "duration": 46,
    "start_time": "2022-01-29T14:38:26.079Z"
   },
   {
    "duration": 11,
    "start_time": "2022-01-29T14:38:26.128Z"
   },
   {
    "duration": 27,
    "start_time": "2022-01-29T14:38:26.141Z"
   },
   {
    "duration": 4,
    "start_time": "2022-01-29T14:38:26.171Z"
   },
   {
    "duration": 6,
    "start_time": "2022-01-29T14:38:26.227Z"
   },
   {
    "duration": 21,
    "start_time": "2022-01-29T14:38:26.236Z"
   },
   {
    "duration": 70,
    "start_time": "2022-01-29T14:38:26.259Z"
   },
   {
    "duration": 17,
    "start_time": "2022-01-29T14:38:26.331Z"
   },
   {
    "duration": 81,
    "start_time": "2022-01-29T14:38:26.351Z"
   },
   {
    "duration": 16,
    "start_time": "2022-01-29T14:38:26.435Z"
   },
   {
    "duration": 29,
    "start_time": "2022-01-29T14:38:26.454Z"
   },
   {
    "duration": 67,
    "start_time": "2022-01-29T14:38:26.486Z"
   },
   {
    "duration": 20,
    "start_time": "2022-01-29T14:38:26.556Z"
   },
   {
    "duration": 59,
    "start_time": "2022-01-29T14:38:26.578Z"
   },
   {
    "duration": 31,
    "start_time": "2022-01-29T14:38:26.641Z"
   },
   {
    "duration": 116,
    "start_time": "2022-01-29T14:38:26.674Z"
   },
   {
    "duration": 7,
    "start_time": "2022-01-29T14:38:26.793Z"
   },
   {
    "duration": 23,
    "start_time": "2022-01-29T14:38:26.802Z"
   },
   {
    "duration": 12,
    "start_time": "2022-01-29T14:38:26.828Z"
   },
   {
    "duration": 8,
    "start_time": "2022-01-29T14:38:26.842Z"
   },
   {
    "duration": 6,
    "start_time": "2022-01-29T14:38:26.853Z"
   },
   {
    "duration": 86,
    "start_time": "2022-01-29T14:38:26.861Z"
   },
   {
    "duration": 17,
    "start_time": "2022-01-29T14:38:26.952Z"
   },
   {
    "duration": 63,
    "start_time": "2022-01-29T14:38:26.972Z"
   },
   {
    "duration": 17,
    "start_time": "2022-01-29T14:38:27.037Z"
   },
   {
    "duration": 33,
    "start_time": "2022-01-29T14:38:27.056Z"
   },
   {
    "duration": 52,
    "start_time": "2022-01-29T14:38:27.091Z"
   },
   {
    "duration": 11,
    "start_time": "2022-01-29T14:38:27.145Z"
   },
   {
    "duration": 15,
    "start_time": "2022-01-29T14:38:27.158Z"
   },
   {
    "duration": 7,
    "start_time": "2022-01-29T14:38:27.175Z"
   },
   {
    "duration": 4,
    "start_time": "2022-01-29T14:38:27.224Z"
   },
   {
    "duration": 30,
    "start_time": "2022-01-29T14:38:27.231Z"
   },
   {
    "duration": 7,
    "start_time": "2022-01-29T14:38:27.263Z"
   },
   {
    "duration": 9,
    "start_time": "2022-01-29T14:38:27.272Z"
   },
   {
    "duration": 30,
    "start_time": "2022-01-29T14:38:27.324Z"
   },
   {
    "duration": 13,
    "start_time": "2022-01-29T14:38:27.357Z"
   },
   {
    "duration": 53,
    "start_time": "2022-01-29T14:38:27.374Z"
   },
   {
    "duration": 7,
    "start_time": "2022-01-29T14:38:27.430Z"
   },
   {
    "duration": 9,
    "start_time": "2022-01-29T14:38:27.440Z"
   },
   {
    "duration": 5,
    "start_time": "2022-01-29T14:38:27.451Z"
   },
   {
    "duration": 70,
    "start_time": "2022-01-29T14:38:27.458Z"
   },
   {
    "duration": 45,
    "start_time": "2022-01-29T14:38:27.530Z"
   },
   {
    "duration": 65,
    "start_time": "2022-01-29T14:38:27.577Z"
   },
   {
    "duration": 13,
    "start_time": "2022-01-29T14:38:27.645Z"
   },
   {
    "duration": 12,
    "start_time": "2022-01-29T14:38:27.661Z"
   },
   {
    "duration": 7,
    "start_time": "2022-01-29T14:38:27.676Z"
   },
   {
    "duration": 416,
    "start_time": "2022-01-29T14:38:27.685Z"
   },
   {
    "duration": -1736,
    "start_time": "2022-01-29T14:38:29.840Z"
   },
   {
    "duration": 364,
    "start_time": "2022-01-29T14:39:03.123Z"
   },
   {
    "duration": 463,
    "start_time": "2022-01-29T14:39:28.287Z"
   },
   {
    "duration": 4,
    "start_time": "2022-01-29T14:40:55.494Z"
   },
   {
    "duration": 5,
    "start_time": "2022-01-29T14:41:06.642Z"
   },
   {
    "duration": 6,
    "start_time": "2022-01-29T14:41:20.842Z"
   },
   {
    "duration": 38,
    "start_time": "2022-01-29T14:45:23.311Z"
   },
   {
    "duration": 6,
    "start_time": "2022-01-29T14:47:10.159Z"
   },
   {
    "duration": 9,
    "start_time": "2022-01-29T14:47:24.887Z"
   },
   {
    "duration": 12,
    "start_time": "2022-01-29T14:47:33.167Z"
   },
   {
    "duration": 11,
    "start_time": "2022-01-29T14:47:47.642Z"
   },
   {
    "duration": 43,
    "start_time": "2022-01-29T14:53:25.767Z"
   },
   {
    "duration": 43,
    "start_time": "2022-01-29T14:54:16.990Z"
   },
   {
    "duration": 40,
    "start_time": "2022-01-29T14:57:53.251Z"
   },
   {
    "duration": 6,
    "start_time": "2022-01-29T15:02:44.047Z"
   },
   {
    "duration": 25,
    "start_time": "2022-01-29T15:02:56.419Z"
   },
   {
    "duration": 24,
    "start_time": "2022-01-29T15:14:23.048Z"
   },
   {
    "duration": 40,
    "start_time": "2022-01-29T15:14:34.227Z"
   },
   {
    "duration": 15,
    "start_time": "2022-01-29T15:19:30.174Z"
   },
   {
    "duration": 8626,
    "start_time": "2022-01-29T15:32:47.407Z"
   },
   {
    "duration": 8929,
    "start_time": "2022-01-29T15:32:57.599Z"
   },
   {
    "duration": 8219,
    "start_time": "2022-01-29T15:33:15.262Z"
   },
   {
    "duration": 9,
    "start_time": "2022-01-29T15:33:37.279Z"
   },
   {
    "duration": 39,
    "start_time": "2022-01-29T15:33:45.967Z"
   },
   {
    "duration": 43,
    "start_time": "2022-01-29T15:33:58.367Z"
   },
   {
    "duration": 38,
    "start_time": "2022-01-29T15:34:09.942Z"
   },
   {
    "duration": 534,
    "start_time": "2022-01-29T15:38:39.167Z"
   },
   {
    "duration": 23,
    "start_time": "2022-01-29T15:38:49.179Z"
   },
   {
    "duration": 19,
    "start_time": "2022-01-29T15:39:02.471Z"
   },
   {
    "duration": 37,
    "start_time": "2022-01-29T15:39:54.736Z"
   },
   {
    "duration": 669,
    "start_time": "2022-01-29T15:47:51.515Z"
   },
   {
    "duration": 540,
    "start_time": "2022-01-29T15:48:38.295Z"
   },
   {
    "duration": 489,
    "start_time": "2022-01-29T15:48:56.275Z"
   },
   {
    "duration": 500,
    "start_time": "2022-01-29T15:49:07.310Z"
   },
   {
    "duration": 538,
    "start_time": "2022-01-29T15:49:32.839Z"
   },
   {
    "duration": 519,
    "start_time": "2022-01-29T15:49:46.195Z"
   },
   {
    "duration": 891,
    "start_time": "2022-01-29T15:51:54.097Z"
   },
   {
    "duration": 224,
    "start_time": "2022-01-29T15:51:54.991Z"
   },
   {
    "duration": 9,
    "start_time": "2022-01-29T15:51:55.219Z"
   },
   {
    "duration": 16,
    "start_time": "2022-01-29T15:51:55.231Z"
   },
   {
    "duration": 7,
    "start_time": "2022-01-29T15:51:55.250Z"
   },
   {
    "duration": 12,
    "start_time": "2022-01-29T15:51:55.260Z"
   },
   {
    "duration": 73,
    "start_time": "2022-01-29T15:51:55.274Z"
   },
   {
    "duration": 5,
    "start_time": "2022-01-29T15:51:55.349Z"
   },
   {
    "duration": 7,
    "start_time": "2022-01-29T15:51:55.360Z"
   },
   {
    "duration": 64,
    "start_time": "2022-01-29T15:51:55.371Z"
   },
   {
    "duration": 32,
    "start_time": "2022-01-29T15:51:55.437Z"
   },
   {
    "duration": 16,
    "start_time": "2022-01-29T15:51:55.471Z"
   },
   {
    "duration": 71,
    "start_time": "2022-01-29T15:51:55.489Z"
   },
   {
    "duration": 12,
    "start_time": "2022-01-29T15:51:55.563Z"
   },
   {
    "duration": 64,
    "start_time": "2022-01-29T15:51:55.577Z"
   },
   {
    "duration": 28,
    "start_time": "2022-01-29T15:51:55.643Z"
   },
   {
    "duration": 49,
    "start_time": "2022-01-29T15:51:55.674Z"
   },
   {
    "duration": 14,
    "start_time": "2022-01-29T15:51:55.726Z"
   },
   {
    "duration": 31,
    "start_time": "2022-01-29T15:51:55.743Z"
   },
   {
    "duration": 120,
    "start_time": "2022-01-29T15:51:55.777Z"
   },
   {
    "duration": 23,
    "start_time": "2022-01-29T15:51:55.900Z"
   },
   {
    "duration": 7,
    "start_time": "2022-01-29T15:51:55.926Z"
   },
   {
    "duration": 16,
    "start_time": "2022-01-29T15:51:55.935Z"
   },
   {
    "duration": 9,
    "start_time": "2022-01-29T15:51:55.954Z"
   },
   {
    "duration": 6,
    "start_time": "2022-01-29T15:51:55.966Z"
   },
   {
    "duration": 83,
    "start_time": "2022-01-29T15:51:55.975Z"
   },
   {
    "duration": 60,
    "start_time": "2022-01-29T15:51:56.064Z"
   },
   {
    "duration": 26,
    "start_time": "2022-01-29T15:51:56.128Z"
   },
   {
    "duration": 11,
    "start_time": "2022-01-29T15:51:56.157Z"
   },
   {
    "duration": 65,
    "start_time": "2022-01-29T15:51:56.171Z"
   },
   {
    "duration": 29,
    "start_time": "2022-01-29T15:51:56.239Z"
   },
   {
    "duration": 7,
    "start_time": "2022-01-29T15:51:56.270Z"
   },
   {
    "duration": 54,
    "start_time": "2022-01-29T15:51:56.281Z"
   },
   {
    "duration": 12,
    "start_time": "2022-01-29T15:51:56.338Z"
   },
   {
    "duration": 17,
    "start_time": "2022-01-29T15:51:56.354Z"
   },
   {
    "duration": 65,
    "start_time": "2022-01-29T15:51:56.374Z"
   },
   {
    "duration": 11,
    "start_time": "2022-01-29T15:51:56.442Z"
   },
   {
    "duration": 12,
    "start_time": "2022-01-29T15:51:56.457Z"
   },
   {
    "duration": 67,
    "start_time": "2022-01-29T15:51:56.471Z"
   },
   {
    "duration": 19,
    "start_time": "2022-01-29T15:51:56.541Z"
   },
   {
    "duration": 15,
    "start_time": "2022-01-29T15:51:56.563Z"
   },
   {
    "duration": 46,
    "start_time": "2022-01-29T15:51:56.580Z"
   },
   {
    "duration": 18,
    "start_time": "2022-01-29T15:51:56.628Z"
   },
   {
    "duration": 11,
    "start_time": "2022-01-29T15:51:56.648Z"
   },
   {
    "duration": 37,
    "start_time": "2022-01-29T15:51:56.662Z"
   },
   {
    "duration": 51,
    "start_time": "2022-01-29T15:51:56.722Z"
   },
   {
    "duration": 55,
    "start_time": "2022-01-29T15:51:56.775Z"
   },
   {
    "duration": 14,
    "start_time": "2022-01-29T15:51:56.832Z"
   },
   {
    "duration": 19,
    "start_time": "2022-01-29T15:51:56.849Z"
   },
   {
    "duration": 64,
    "start_time": "2022-01-29T15:51:56.871Z"
   },
   {
    "duration": 11,
    "start_time": "2022-01-29T15:51:56.937Z"
   },
   {
    "duration": 23,
    "start_time": "2022-01-29T15:51:56.951Z"
   },
   {
    "duration": 23,
    "start_time": "2022-01-29T15:51:56.977Z"
   },
   {
    "duration": 20,
    "start_time": "2022-01-29T15:51:57.003Z"
   },
   {
    "duration": 249,
    "start_time": "2022-01-29T15:51:57.026Z"
   },
   {
    "duration": 232,
    "start_time": "2022-01-29T15:52:29.225Z"
   },
   {
    "duration": 250,
    "start_time": "2022-01-29T15:52:50.297Z"
   },
   {
    "duration": 216,
    "start_time": "2022-01-29T15:52:55.729Z"
   },
   {
    "duration": 212,
    "start_time": "2022-01-29T15:53:23.865Z"
   },
   {
    "duration": 246,
    "start_time": "2022-01-29T15:53:38.777Z"
   },
   {
    "duration": 11,
    "start_time": "2022-01-29T15:54:26.449Z"
   },
   {
    "duration": 238,
    "start_time": "2022-01-29T15:54:55.426Z"
   },
   {
    "duration": 239,
    "start_time": "2022-01-29T15:55:16.357Z"
   },
   {
    "duration": 230,
    "start_time": "2022-01-29T15:55:21.953Z"
   },
   {
    "duration": 231,
    "start_time": "2022-01-29T15:55:27.772Z"
   },
   {
    "duration": 249,
    "start_time": "2022-01-29T15:55:39.357Z"
   },
   {
    "duration": 229,
    "start_time": "2022-01-29T15:55:43.372Z"
   },
   {
    "duration": 239,
    "start_time": "2022-01-29T15:55:50.120Z"
   },
   {
    "duration": 303,
    "start_time": "2022-01-29T15:56:04.245Z"
   },
   {
    "duration": 224,
    "start_time": "2022-01-29T15:56:10.773Z"
   },
   {
    "duration": 230,
    "start_time": "2022-01-29T15:56:17.276Z"
   },
   {
    "duration": 236,
    "start_time": "2022-01-29T15:56:21.025Z"
   },
   {
    "duration": 243,
    "start_time": "2022-01-29T15:56:27.204Z"
   },
   {
    "duration": 213,
    "start_time": "2022-01-29T15:56:36.303Z"
   },
   {
    "duration": 246,
    "start_time": "2022-01-29T15:56:44.281Z"
   },
   {
    "duration": 237,
    "start_time": "2022-01-29T15:56:51.807Z"
   },
   {
    "duration": 211,
    "start_time": "2022-01-29T15:56:58.772Z"
   },
   {
    "duration": 210,
    "start_time": "2022-01-29T15:57:26.501Z"
   },
   {
    "duration": 216,
    "start_time": "2022-01-29T15:57:31.028Z"
   },
   {
    "duration": 274,
    "start_time": "2022-01-29T15:57:41.725Z"
   },
   {
    "duration": 223,
    "start_time": "2022-01-29T15:57:45.732Z"
   },
   {
    "duration": 247,
    "start_time": "2022-01-29T15:57:49.877Z"
   },
   {
    "duration": 290,
    "start_time": "2022-01-29T15:57:57.921Z"
   },
   {
    "duration": 296,
    "start_time": "2022-01-29T15:58:03.409Z"
   },
   {
    "duration": 221,
    "start_time": "2022-01-29T15:58:08.397Z"
   },
   {
    "duration": 208,
    "start_time": "2022-01-29T15:58:14.048Z"
   },
   {
    "duration": 320,
    "start_time": "2022-01-29T15:58:20.620Z"
   },
   {
    "duration": 218,
    "start_time": "2022-01-29T15:58:26.820Z"
   },
   {
    "duration": 216,
    "start_time": "2022-01-29T15:58:32.456Z"
   },
   {
    "duration": 204,
    "start_time": "2022-01-29T15:58:37.381Z"
   },
   {
    "duration": 274,
    "start_time": "2022-01-29T15:58:41.348Z"
   },
   {
    "duration": 210,
    "start_time": "2022-01-29T15:58:46.508Z"
   },
   {
    "duration": 215,
    "start_time": "2022-01-29T15:58:51.196Z"
   },
   {
    "duration": 207,
    "start_time": "2022-01-29T15:58:55.685Z"
   },
   {
    "duration": 220,
    "start_time": "2022-01-29T15:59:02.592Z"
   },
   {
    "duration": 209,
    "start_time": "2022-01-29T15:59:11.809Z"
   },
   {
    "duration": 214,
    "start_time": "2022-01-29T15:59:17.649Z"
   },
   {
    "duration": 238,
    "start_time": "2022-01-29T15:59:23.629Z"
   },
   {
    "duration": 223,
    "start_time": "2022-01-29T15:59:58.240Z"
   },
   {
    "duration": 231,
    "start_time": "2022-01-29T16:00:03.600Z"
   },
   {
    "duration": 223,
    "start_time": "2022-01-29T16:00:11.573Z"
   },
   {
    "duration": 271,
    "start_time": "2022-01-29T16:00:25.220Z"
   },
   {
    "duration": 211,
    "start_time": "2022-01-29T16:00:32.896Z"
   },
   {
    "duration": 229,
    "start_time": "2022-01-29T16:00:38.140Z"
   },
   {
    "duration": 240,
    "start_time": "2022-01-29T16:00:43.120Z"
   },
   {
    "duration": 234,
    "start_time": "2022-01-29T16:00:49.037Z"
   },
   {
    "duration": 230,
    "start_time": "2022-01-29T16:00:53.812Z"
   },
   {
    "duration": 266,
    "start_time": "2022-01-29T16:00:58.080Z"
   },
   {
    "duration": 218,
    "start_time": "2022-01-29T16:01:05.200Z"
   },
   {
    "duration": 221,
    "start_time": "2022-01-29T16:01:11.604Z"
   },
   {
    "duration": 212,
    "start_time": "2022-01-29T16:01:21.484Z"
   },
   {
    "duration": 219,
    "start_time": "2022-01-29T16:01:32.265Z"
   },
   {
    "duration": 342,
    "start_time": "2022-01-29T16:01:37.169Z"
   },
   {
    "duration": 222,
    "start_time": "2022-01-29T16:01:44.337Z"
   },
   {
    "duration": 222,
    "start_time": "2022-01-29T16:01:56.029Z"
   },
   {
    "duration": 233,
    "start_time": "2022-01-29T16:02:01.070Z"
   },
   {
    "duration": 226,
    "start_time": "2022-01-29T16:02:07.885Z"
   },
   {
    "duration": 248,
    "start_time": "2022-01-29T16:02:13.221Z"
   },
   {
    "duration": 231,
    "start_time": "2022-01-29T16:02:20.276Z"
   },
   {
    "duration": 240,
    "start_time": "2022-01-29T16:02:24.185Z"
   },
   {
    "duration": 228,
    "start_time": "2022-01-29T16:02:27.157Z"
   },
   {
    "duration": 341,
    "start_time": "2022-01-29T16:02:36.900Z"
   },
   {
    "duration": 219,
    "start_time": "2022-01-29T16:02:43.746Z"
   },
   {
    "duration": 311,
    "start_time": "2022-01-29T16:02:46.585Z"
   },
   {
    "duration": 242,
    "start_time": "2022-01-29T16:02:49.773Z"
   },
   {
    "duration": 227,
    "start_time": "2022-01-29T16:02:53.772Z"
   },
   {
    "duration": 361,
    "start_time": "2022-01-29T16:03:07.962Z"
   },
   {
    "duration": 219,
    "start_time": "2022-01-29T16:03:14.748Z"
   },
   {
    "duration": 375,
    "start_time": "2022-01-29T16:04:22.741Z"
   },
   {
    "duration": 262,
    "start_time": "2022-01-29T16:04:36.905Z"
   },
   {
    "duration": 245,
    "start_time": "2022-01-29T16:04:43.497Z"
   },
   {
    "duration": 326,
    "start_time": "2022-01-29T16:04:46.689Z"
   },
   {
    "duration": 385,
    "start_time": "2022-01-29T16:04:50.093Z"
   },
   {
    "duration": 790,
    "start_time": "2022-01-29T16:04:54.076Z"
   },
   {
    "duration": 596,
    "start_time": "2022-01-29T16:05:09.621Z"
   },
   {
    "duration": 585,
    "start_time": "2022-01-29T16:05:19.408Z"
   },
   {
    "duration": 337,
    "start_time": "2022-01-29T16:05:22.793Z"
   },
   {
    "duration": 538,
    "start_time": "2022-01-29T16:05:28.873Z"
   },
   {
    "duration": 240,
    "start_time": "2022-01-29T16:05:36.053Z"
   },
   {
    "duration": 244,
    "start_time": "2022-01-29T16:05:46.985Z"
   },
   {
    "duration": 38,
    "start_time": "2022-01-29T16:06:41.728Z"
   },
   {
    "duration": 7,
    "start_time": "2022-01-29T16:16:52.004Z"
   },
   {
    "duration": 18,
    "start_time": "2022-01-29T16:17:55.124Z"
   },
   {
    "duration": 8,
    "start_time": "2022-01-29T16:18:32.784Z"
   },
   {
    "duration": 6,
    "start_time": "2022-01-29T16:37:13.485Z"
   },
   {
    "duration": 580,
    "start_time": "2022-01-30T11:14:43.036Z"
   },
   {
    "duration": 902,
    "start_time": "2022-01-30T11:14:50.525Z"
   },
   {
    "duration": 127,
    "start_time": "2022-01-30T11:14:51.430Z"
   },
   {
    "duration": 9,
    "start_time": "2022-01-30T11:14:51.560Z"
   },
   {
    "duration": 21,
    "start_time": "2022-01-30T11:14:51.571Z"
   },
   {
    "duration": 7,
    "start_time": "2022-01-30T11:14:51.594Z"
   },
   {
    "duration": 14,
    "start_time": "2022-01-30T11:14:51.625Z"
   },
   {
    "duration": 41,
    "start_time": "2022-01-30T11:14:51.641Z"
   },
   {
    "duration": 4,
    "start_time": "2022-01-30T11:14:51.685Z"
   },
   {
    "duration": 33,
    "start_time": "2022-01-30T11:14:51.693Z"
   },
   {
    "duration": 22,
    "start_time": "2022-01-30T11:14:51.731Z"
   },
   {
    "duration": 31,
    "start_time": "2022-01-30T11:14:51.755Z"
   },
   {
    "duration": 23,
    "start_time": "2022-01-30T11:14:51.824Z"
   },
   {
    "duration": 37,
    "start_time": "2022-01-30T11:14:51.850Z"
   },
   {
    "duration": 50,
    "start_time": "2022-01-30T11:14:51.889Z"
   },
   {
    "duration": 40,
    "start_time": "2022-01-30T11:14:51.942Z"
   },
   {
    "duration": 62,
    "start_time": "2022-01-30T11:14:51.984Z"
   },
   {
    "duration": 17,
    "start_time": "2022-01-30T11:14:52.048Z"
   },
   {
    "duration": 15,
    "start_time": "2022-01-30T11:14:52.067Z"
   },
   {
    "duration": 35,
    "start_time": "2022-01-30T11:14:52.125Z"
   },
   {
    "duration": 135,
    "start_time": "2022-01-30T11:14:52.164Z"
   },
   {
    "duration": 7,
    "start_time": "2022-01-30T11:14:52.301Z"
   },
   {
    "duration": 19,
    "start_time": "2022-01-30T11:14:52.312Z"
   },
   {
    "duration": 17,
    "start_time": "2022-01-30T11:14:52.333Z"
   },
   {
    "duration": 8,
    "start_time": "2022-01-30T11:14:52.353Z"
   },
   {
    "duration": 5,
    "start_time": "2022-01-30T11:14:52.364Z"
   },
   {
    "duration": 98,
    "start_time": "2022-01-30T11:14:52.371Z"
   },
   {
    "duration": 48,
    "start_time": "2022-01-30T11:14:52.475Z"
   },
   {
    "duration": 26,
    "start_time": "2022-01-30T11:14:52.527Z"
   },
   {
    "duration": 12,
    "start_time": "2022-01-30T11:14:52.556Z"
   },
   {
    "duration": 83,
    "start_time": "2022-01-30T11:14:52.570Z"
   },
   {
    "duration": 27,
    "start_time": "2022-01-30T11:14:52.656Z"
   },
   {
    "duration": 40,
    "start_time": "2022-01-30T11:14:52.685Z"
   },
   {
    "duration": 22,
    "start_time": "2022-01-30T11:14:52.728Z"
   },
   {
    "duration": 8,
    "start_time": "2022-01-30T11:14:52.752Z"
   },
   {
    "duration": 8,
    "start_time": "2022-01-30T11:14:52.763Z"
   },
   {
    "duration": 75,
    "start_time": "2022-01-30T11:14:52.773Z"
   },
   {
    "duration": 7,
    "start_time": "2022-01-30T11:14:52.850Z"
   },
   {
    "duration": 7,
    "start_time": "2022-01-30T11:14:52.859Z"
   },
   {
    "duration": 70,
    "start_time": "2022-01-30T11:14:52.868Z"
   },
   {
    "duration": 21,
    "start_time": "2022-01-30T11:14:52.941Z"
   },
   {
    "duration": 13,
    "start_time": "2022-01-30T11:14:52.965Z"
   },
   {
    "duration": 7,
    "start_time": "2022-01-30T11:14:52.981Z"
   },
   {
    "duration": 41,
    "start_time": "2022-01-30T11:14:52.990Z"
   },
   {
    "duration": 17,
    "start_time": "2022-01-30T11:14:53.034Z"
   },
   {
    "duration": 21,
    "start_time": "2022-01-30T11:14:53.054Z"
   },
   {
    "duration": 92,
    "start_time": "2022-01-30T11:14:53.077Z"
   },
   {
    "duration": 54,
    "start_time": "2022-01-30T11:14:53.172Z"
   },
   {
    "duration": 20,
    "start_time": "2022-01-30T11:14:53.228Z"
   },
   {
    "duration": 13,
    "start_time": "2022-01-30T11:14:53.250Z"
   },
   {
    "duration": 59,
    "start_time": "2022-01-30T11:14:53.266Z"
   },
   {
    "duration": 9,
    "start_time": "2022-01-30T11:14:53.328Z"
   },
   {
    "duration": 39,
    "start_time": "2022-01-30T11:14:53.341Z"
   },
   {
    "duration": 11,
    "start_time": "2022-01-30T11:14:53.382Z"
   },
   {
    "duration": 30,
    "start_time": "2022-01-30T11:14:53.395Z"
   },
   {
    "duration": 19,
    "start_time": "2022-01-30T11:14:53.428Z"
   },
   {
    "duration": 6,
    "start_time": "2022-01-30T11:14:53.449Z"
   },
   {
    "duration": 73,
    "start_time": "2022-01-30T11:14:53.458Z"
   },
   {
    "duration": 38,
    "start_time": "2022-01-30T11:15:23.076Z"
   },
   {
    "duration": 31,
    "start_time": "2022-01-30T11:15:37.983Z"
   },
   {
    "duration": 38,
    "start_time": "2022-01-30T11:16:02.228Z"
   },
   {
    "duration": 29,
    "start_time": "2022-01-30T11:21:41.625Z"
   },
   {
    "duration": 24,
    "start_time": "2022-01-30T11:22:14.364Z"
   },
   {
    "duration": 18,
    "start_time": "2022-01-30T11:22:24.845Z"
   },
   {
    "duration": 7,
    "start_time": "2022-01-30T11:27:04.820Z"
   },
   {
    "duration": 18,
    "start_time": "2022-01-30T11:27:33.788Z"
   },
   {
    "duration": 516,
    "start_time": "2022-01-30T11:31:38.361Z"
   },
   {
    "duration": 405,
    "start_time": "2022-01-30T11:31:47.604Z"
   },
   {
    "duration": 307,
    "start_time": "2022-01-30T11:32:27.124Z"
   },
   {
    "duration": 291,
    "start_time": "2022-01-30T11:35:41.332Z"
   },
   {
    "duration": 286,
    "start_time": "2022-01-30T11:36:31.160Z"
   },
   {
    "duration": 285,
    "start_time": "2022-01-30T11:36:43.916Z"
   },
   {
    "duration": 49,
    "start_time": "2022-01-30T11:37:29.804Z"
   },
   {
    "duration": 46,
    "start_time": "2022-01-30T11:37:49.304Z"
   },
   {
    "duration": 45,
    "start_time": "2022-01-30T11:38:03.477Z"
   },
   {
    "duration": 44,
    "start_time": "2022-01-30T11:38:14.056Z"
   },
   {
    "duration": 50,
    "start_time": "2022-01-30T11:38:24.073Z"
   },
   {
    "duration": 51,
    "start_time": "2022-01-30T11:38:42.904Z"
   },
   {
    "duration": 48,
    "start_time": "2022-01-30T11:39:23.560Z"
   },
   {
    "duration": 49,
    "start_time": "2022-01-30T11:39:40.348Z"
   },
   {
    "duration": 51,
    "start_time": "2022-01-30T11:39:53.108Z"
   },
   {
    "duration": 50,
    "start_time": "2022-01-30T11:40:08.700Z"
   },
   {
    "duration": 9,
    "start_time": "2022-01-30T11:43:35.920Z"
   },
   {
    "duration": 29,
    "start_time": "2022-01-30T11:44:16.968Z"
   },
   {
    "duration": 25,
    "start_time": "2022-01-30T11:45:17.196Z"
   },
   {
    "duration": 12,
    "start_time": "2022-01-30T11:53:06.075Z"
   },
   {
    "duration": 40,
    "start_time": "2022-01-30T11:53:40.296Z"
   },
   {
    "duration": 1032,
    "start_time": "2022-01-30T11:58:07.493Z"
   },
   {
    "duration": 154,
    "start_time": "2022-01-30T11:58:08.528Z"
   },
   {
    "duration": 9,
    "start_time": "2022-01-30T11:58:08.685Z"
   },
   {
    "duration": 20,
    "start_time": "2022-01-30T11:58:08.696Z"
   },
   {
    "duration": 7,
    "start_time": "2022-01-30T11:58:08.718Z"
   },
   {
    "duration": 10,
    "start_time": "2022-01-30T11:58:08.728Z"
   },
   {
    "duration": 30,
    "start_time": "2022-01-30T11:58:08.740Z"
   },
   {
    "duration": 4,
    "start_time": "2022-01-30T11:58:08.774Z"
   },
   {
    "duration": 44,
    "start_time": "2022-01-30T11:58:08.782Z"
   },
   {
    "duration": 21,
    "start_time": "2022-01-30T11:58:08.828Z"
   },
   {
    "duration": 31,
    "start_time": "2022-01-30T11:58:08.852Z"
   },
   {
    "duration": 47,
    "start_time": "2022-01-30T11:58:08.885Z"
   },
   {
    "duration": 39,
    "start_time": "2022-01-30T11:58:08.934Z"
   },
   {
    "duration": 48,
    "start_time": "2022-01-30T11:58:08.975Z"
   },
   {
    "duration": 27,
    "start_time": "2022-01-30T11:58:09.026Z"
   },
   {
    "duration": 30,
    "start_time": "2022-01-30T11:58:09.056Z"
   },
   {
    "duration": 18,
    "start_time": "2022-01-30T11:58:09.124Z"
   },
   {
    "duration": 14,
    "start_time": "2022-01-30T11:58:09.145Z"
   },
   {
    "duration": 75,
    "start_time": "2022-01-30T11:58:09.162Z"
   },
   {
    "duration": 102,
    "start_time": "2022-01-30T11:58:09.239Z"
   },
   {
    "duration": 7,
    "start_time": "2022-01-30T11:58:09.343Z"
   },
   {
    "duration": 10,
    "start_time": "2022-01-30T11:58:09.353Z"
   },
   {
    "duration": 13,
    "start_time": "2022-01-30T11:58:09.369Z"
   },
   {
    "duration": 7,
    "start_time": "2022-01-30T11:58:09.425Z"
   },
   {
    "duration": 6,
    "start_time": "2022-01-30T11:58:09.434Z"
   },
   {
    "duration": 39,
    "start_time": "2022-01-30T11:58:09.442Z"
   },
   {
    "duration": 61,
    "start_time": "2022-01-30T11:58:09.484Z"
   },
   {
    "duration": 26,
    "start_time": "2022-01-30T11:58:09.547Z"
   },
   {
    "duration": 57,
    "start_time": "2022-01-30T11:58:09.576Z"
   },
   {
    "duration": 36,
    "start_time": "2022-01-30T11:58:09.636Z"
   },
   {
    "duration": 60,
    "start_time": "2022-01-30T11:58:09.675Z"
   },
   {
    "duration": 6,
    "start_time": "2022-01-30T11:58:09.738Z"
   },
   {
    "duration": 15,
    "start_time": "2022-01-30T11:58:09.746Z"
   },
   {
    "duration": 7,
    "start_time": "2022-01-30T11:58:09.764Z"
   },
   {
    "duration": 52,
    "start_time": "2022-01-30T11:58:09.774Z"
   },
   {
    "duration": 32,
    "start_time": "2022-01-30T11:58:09.829Z"
   },
   {
    "duration": 7,
    "start_time": "2022-01-30T11:58:09.864Z"
   },
   {
    "duration": 7,
    "start_time": "2022-01-30T11:58:09.874Z"
   },
   {
    "duration": 29,
    "start_time": "2022-01-30T11:58:09.924Z"
   },
   {
    "duration": 17,
    "start_time": "2022-01-30T11:58:09.955Z"
   },
   {
    "duration": 53,
    "start_time": "2022-01-30T11:58:09.975Z"
   },
   {
    "duration": 7,
    "start_time": "2022-01-30T11:58:10.032Z"
   },
   {
    "duration": 15,
    "start_time": "2022-01-30T11:58:10.043Z"
   },
   {
    "duration": 11,
    "start_time": "2022-01-30T11:58:10.061Z"
   },
   {
    "duration": 64,
    "start_time": "2022-01-30T11:58:10.075Z"
   },
   {
    "duration": 83,
    "start_time": "2022-01-30T11:58:10.142Z"
   },
   {
    "duration": 34,
    "start_time": "2022-01-30T11:58:10.227Z"
   },
   {
    "duration": 17,
    "start_time": "2022-01-30T11:58:10.264Z"
   },
   {
    "duration": 44,
    "start_time": "2022-01-30T11:58:10.284Z"
   },
   {
    "duration": 27,
    "start_time": "2022-01-30T11:58:10.330Z"
   },
   {
    "duration": 8,
    "start_time": "2022-01-30T11:58:10.359Z"
   },
   {
    "duration": 72,
    "start_time": "2022-01-30T11:58:10.370Z"
   },
   {
    "duration": 10,
    "start_time": "2022-01-30T11:58:10.445Z"
   },
   {
    "duration": 65,
    "start_time": "2022-01-30T11:58:10.458Z"
   },
   {
    "duration": 12,
    "start_time": "2022-01-30T11:58:10.526Z"
   },
   {
    "duration": 5,
    "start_time": "2022-01-30T11:58:10.541Z"
   },
   {
    "duration": 15,
    "start_time": "2022-01-30T11:58:10.549Z"
   },
   {
    "duration": 9,
    "start_time": "2022-01-30T11:58:10.566Z"
   },
   {
    "duration": 80,
    "start_time": "2022-01-30T11:58:10.577Z"
   },
   {
    "duration": 19,
    "start_time": "2022-01-30T11:58:10.660Z"
   },
   {
    "duration": 379,
    "start_time": "2022-01-30T11:58:10.682Z"
   },
   {
    "duration": 28,
    "start_time": "2022-01-30T11:58:11.064Z"
   },
   {
    "duration": 11,
    "start_time": "2022-01-30T12:11:26.805Z"
   },
   {
    "duration": 8,
    "start_time": "2022-01-30T12:11:42.661Z"
   },
   {
    "duration": 8,
    "start_time": "2022-01-30T12:12:03.281Z"
   },
   {
    "duration": 357,
    "start_time": "2022-01-30T12:13:04.512Z"
   },
   {
    "duration": 29,
    "start_time": "2022-01-30T12:13:33.793Z"
   },
   {
    "duration": 537,
    "start_time": "2022-01-30T12:15:32.085Z"
   },
   {
    "duration": 880,
    "start_time": "2022-01-30T12:15:44.953Z"
   },
   {
    "duration": 10,
    "start_time": "2022-01-30T12:15:52.501Z"
   },
   {
    "duration": 11,
    "start_time": "2022-01-30T12:16:11.769Z"
   },
   {
    "duration": 346,
    "start_time": "2022-01-30T12:16:52.029Z"
   },
   {
    "duration": 30,
    "start_time": "2022-01-30T12:17:03.718Z"
   },
   {
    "duration": 30,
    "start_time": "2022-01-30T13:14:31.845Z"
   },
   {
    "duration": 30,
    "start_time": "2022-01-30T13:16:19.269Z"
   },
   {
    "duration": 8,
    "start_time": "2022-01-30T13:28:54.575Z"
   },
   {
    "duration": 36,
    "start_time": "2022-01-30T13:31:18.325Z"
   },
   {
    "duration": 24,
    "start_time": "2022-01-30T13:31:54.086Z"
   },
   {
    "duration": 25,
    "start_time": "2022-01-30T13:32:16.125Z"
   },
   {
    "duration": 832,
    "start_time": "2022-01-30T13:32:23.907Z"
   },
   {
    "duration": 150,
    "start_time": "2022-01-30T13:32:24.741Z"
   },
   {
    "duration": 9,
    "start_time": "2022-01-30T13:32:24.894Z"
   },
   {
    "duration": 16,
    "start_time": "2022-01-30T13:32:24.905Z"
   },
   {
    "duration": 8,
    "start_time": "2022-01-30T13:32:24.923Z"
   },
   {
    "duration": 14,
    "start_time": "2022-01-30T13:32:24.934Z"
   },
   {
    "duration": 28,
    "start_time": "2022-01-30T13:32:24.950Z"
   },
   {
    "duration": 6,
    "start_time": "2022-01-30T13:32:24.981Z"
   },
   {
    "duration": 6,
    "start_time": "2022-01-30T13:32:25.027Z"
   },
   {
    "duration": 21,
    "start_time": "2022-01-30T13:32:25.038Z"
   },
   {
    "duration": 74,
    "start_time": "2022-01-30T13:32:25.062Z"
   },
   {
    "duration": 20,
    "start_time": "2022-01-30T13:32:25.139Z"
   },
   {
    "duration": 81,
    "start_time": "2022-01-30T13:32:25.162Z"
   },
   {
    "duration": 16,
    "start_time": "2022-01-30T13:32:25.246Z"
   },
   {
    "duration": 66,
    "start_time": "2022-01-30T13:32:25.264Z"
   },
   {
    "duration": 32,
    "start_time": "2022-01-30T13:32:25.333Z"
   },
   {
    "duration": 58,
    "start_time": "2022-01-30T13:32:25.368Z"
   },
   {
    "duration": 14,
    "start_time": "2022-01-30T13:32:25.430Z"
   },
   {
    "duration": 33,
    "start_time": "2022-01-30T13:32:25.447Z"
   },
   {
    "duration": 120,
    "start_time": "2022-01-30T13:32:25.482Z"
   },
   {
    "duration": 6,
    "start_time": "2022-01-30T13:32:25.605Z"
   },
   {
    "duration": 6,
    "start_time": "2022-01-30T13:32:25.623Z"
   },
   {
    "duration": 15,
    "start_time": "2022-01-30T13:32:25.631Z"
   },
   {
    "duration": 12,
    "start_time": "2022-01-30T13:32:25.648Z"
   },
   {
    "duration": 7,
    "start_time": "2022-01-30T13:32:25.662Z"
   },
   {
    "duration": 84,
    "start_time": "2022-01-30T13:32:25.671Z"
   },
   {
    "duration": 17,
    "start_time": "2022-01-30T13:32:25.761Z"
   },
   {
    "duration": 58,
    "start_time": "2022-01-30T13:32:25.781Z"
   },
   {
    "duration": 13,
    "start_time": "2022-01-30T13:32:25.842Z"
   },
   {
    "duration": 34,
    "start_time": "2022-01-30T13:32:25.858Z"
   },
   {
    "duration": 53,
    "start_time": "2022-01-30T13:32:25.894Z"
   },
   {
    "duration": 6,
    "start_time": "2022-01-30T13:32:25.950Z"
   },
   {
    "duration": 14,
    "start_time": "2022-01-30T13:32:25.958Z"
   },
   {
    "duration": 53,
    "start_time": "2022-01-30T13:32:25.975Z"
   },
   {
    "duration": 6,
    "start_time": "2022-01-30T13:32:26.031Z"
   },
   {
    "duration": 27,
    "start_time": "2022-01-30T13:32:26.040Z"
   },
   {
    "duration": 7,
    "start_time": "2022-01-30T13:32:26.070Z"
   },
   {
    "duration": 6,
    "start_time": "2022-01-30T13:32:26.123Z"
   },
   {
    "duration": 30,
    "start_time": "2022-01-30T13:32:26.132Z"
   },
   {
    "duration": 14,
    "start_time": "2022-01-30T13:32:26.165Z"
   },
   {
    "duration": 42,
    "start_time": "2022-01-30T13:32:26.182Z"
   },
   {
    "duration": 6,
    "start_time": "2022-01-30T13:32:26.227Z"
   },
   {
    "duration": 12,
    "start_time": "2022-01-30T13:32:26.235Z"
   },
   {
    "duration": 12,
    "start_time": "2022-01-30T13:32:26.249Z"
   },
   {
    "duration": 60,
    "start_time": "2022-01-30T13:32:26.263Z"
   },
   {
    "duration": 44,
    "start_time": "2022-01-30T13:32:26.325Z"
   },
   {
    "duration": 59,
    "start_time": "2022-01-30T13:32:26.371Z"
   },
   {
    "duration": 12,
    "start_time": "2022-01-30T13:32:26.432Z"
   },
   {
    "duration": 9,
    "start_time": "2022-01-30T13:32:26.446Z"
   },
   {
    "duration": 17,
    "start_time": "2022-01-30T13:32:26.457Z"
   },
   {
    "duration": 51,
    "start_time": "2022-01-30T13:32:26.477Z"
   },
   {
    "duration": 27,
    "start_time": "2022-01-30T13:32:26.530Z"
   },
   {
    "duration": 11,
    "start_time": "2022-01-30T13:32:26.559Z"
   },
   {
    "duration": 65,
    "start_time": "2022-01-30T13:32:26.572Z"
   },
   {
    "duration": 12,
    "start_time": "2022-01-30T13:32:26.639Z"
   },
   {
    "duration": 5,
    "start_time": "2022-01-30T13:32:26.653Z"
   },
   {
    "duration": 16,
    "start_time": "2022-01-30T13:32:26.660Z"
   },
   {
    "duration": 48,
    "start_time": "2022-01-30T13:32:26.679Z"
   },
   {
    "duration": 34,
    "start_time": "2022-01-30T13:32:26.729Z"
   },
   {
    "duration": 14,
    "start_time": "2022-01-30T13:32:26.766Z"
   },
   {
    "duration": 45,
    "start_time": "2022-01-30T13:32:26.783Z"
   },
   {
    "duration": 317,
    "start_time": "2022-01-30T13:32:26.831Z"
   },
   {
    "duration": 29,
    "start_time": "2022-01-30T13:32:27.151Z"
   },
   {
    "duration": 61,
    "start_time": "2022-01-30T13:32:27.183Z"
   },
   {
    "duration": 76,
    "start_time": "2022-01-30T13:32:27.247Z"
   },
   {
    "duration": 31,
    "start_time": "2022-01-30T13:32:48.837Z"
   },
   {
    "duration": 1415,
    "start_time": "2022-01-30T13:37:04.691Z"
   },
   {
    "duration": 292,
    "start_time": "2022-01-30T13:44:09.852Z"
   },
   {
    "duration": 292,
    "start_time": "2022-01-30T13:44:35.669Z"
   },
   {
    "duration": 839,
    "start_time": "2022-01-30T13:45:28.081Z"
   },
   {
    "duration": 828,
    "start_time": "2022-01-30T13:45:40.176Z"
   },
   {
    "duration": 343,
    "start_time": "2022-01-30T13:52:10.665Z"
   },
   {
    "duration": 287,
    "start_time": "2022-01-30T13:52:24.621Z"
   },
   {
    "duration": 293,
    "start_time": "2022-01-30T13:52:37.693Z"
   },
   {
    "duration": 337,
    "start_time": "2022-01-30T13:53:00.017Z"
   },
   {
    "duration": 280,
    "start_time": "2022-01-30T13:53:29.705Z"
   },
   {
    "duration": 280,
    "start_time": "2022-01-30T13:58:39.620Z"
   },
   {
    "duration": 141,
    "start_time": "2022-01-30T13:58:50.429Z"
   },
   {
    "duration": 129,
    "start_time": "2022-01-30T13:59:01.172Z"
   },
   {
    "duration": 354,
    "start_time": "2022-01-30T14:11:09.957Z"
   },
   {
    "duration": 380,
    "start_time": "2022-01-30T14:11:41.509Z"
   },
   {
    "duration": 285,
    "start_time": "2022-01-30T14:12:02.076Z"
   },
   {
    "duration": 540,
    "start_time": "2022-01-30T14:12:09.788Z"
   },
   {
    "duration": 383,
    "start_time": "2022-01-30T14:12:28.161Z"
   },
   {
    "duration": 410,
    "start_time": "2022-01-30T14:12:51.197Z"
   },
   {
    "duration": 408,
    "start_time": "2022-01-30T14:13:29.774Z"
   },
   {
    "duration": 33,
    "start_time": "2022-01-30T14:15:47.800Z"
   },
   {
    "duration": 29,
    "start_time": "2022-01-30T14:16:48.089Z"
   },
   {
    "duration": 89,
    "start_time": "2022-01-30T14:17:57.142Z"
   },
   {
    "duration": 108,
    "start_time": "2022-01-30T14:18:09.797Z"
   },
   {
    "duration": 437,
    "start_time": "2022-01-30T14:18:19.325Z"
   },
   {
    "duration": 398,
    "start_time": "2022-01-30T14:18:37.741Z"
   },
   {
    "duration": 416,
    "start_time": "2022-01-30T14:18:51.152Z"
   },
   {
    "duration": 406,
    "start_time": "2022-01-30T14:19:52.526Z"
   },
   {
    "duration": 402,
    "start_time": "2022-01-30T14:20:08.252Z"
   },
   {
    "duration": 420,
    "start_time": "2022-01-30T14:20:15.405Z"
   },
   {
    "duration": 388,
    "start_time": "2022-01-30T14:23:11.764Z"
   },
   {
    "duration": 898,
    "start_time": "2022-01-30T14:24:06.460Z"
   },
   {
    "duration": 336,
    "start_time": "2022-01-30T14:24:24.422Z"
   },
   {
    "duration": 150,
    "start_time": "2022-01-30T14:24:40.989Z"
   },
   {
    "duration": 453,
    "start_time": "2022-01-30T14:24:49.749Z"
   },
   {
    "duration": 479,
    "start_time": "2022-01-30T14:25:03.669Z"
   },
   {
    "duration": 549,
    "start_time": "2022-01-30T14:25:37.608Z"
   },
   {
    "duration": 474,
    "start_time": "2022-01-30T14:25:46.500Z"
   },
   {
    "duration": 731,
    "start_time": "2022-01-30T14:25:55.801Z"
   },
   {
    "duration": 559,
    "start_time": "2022-01-30T14:26:02.100Z"
   },
   {
    "duration": 580,
    "start_time": "2022-01-30T14:31:52.310Z"
   },
   {
    "duration": 1461,
    "start_time": "2022-01-30T14:32:59.173Z"
   },
   {
    "duration": 855,
    "start_time": "2022-01-30T14:33:19.631Z"
   },
   {
    "duration": 822,
    "start_time": "2022-01-30T14:33:35.181Z"
   },
   {
    "duration": 8753,
    "start_time": "2022-01-30T14:34:50.013Z"
   },
   {
    "duration": 8677,
    "start_time": "2022-01-30T14:36:11.317Z"
   },
   {
    "duration": 542,
    "start_time": "2022-01-30T14:36:30.694Z"
   },
   {
    "duration": 926,
    "start_time": "2022-01-30T14:36:57.589Z"
   },
   {
    "duration": 442,
    "start_time": "2022-01-30T14:37:28.913Z"
   },
   {
    "duration": 516,
    "start_time": "2022-01-30T14:37:40.989Z"
   },
   {
    "duration": 798,
    "start_time": "2022-01-30T14:42:53.636Z"
   },
   {
    "duration": 504,
    "start_time": "2022-01-30T14:43:53.152Z"
   },
   {
    "duration": 784,
    "start_time": "2022-01-30T14:52:04.089Z"
   },
   {
    "duration": 574,
    "start_time": "2022-01-30T14:52:27.653Z"
   },
   {
    "duration": 491,
    "start_time": "2022-01-30T14:52:41.669Z"
   },
   {
    "duration": 288,
    "start_time": "2022-01-30T14:53:15.125Z"
   },
   {
    "duration": 367,
    "start_time": "2022-01-30T14:54:01.137Z"
   },
   {
    "duration": 303,
    "start_time": "2022-01-30T14:54:20.020Z"
   },
   {
    "duration": 1021,
    "start_time": "2022-01-30T14:54:28.013Z"
   },
   {
    "duration": 128,
    "start_time": "2022-01-30T14:54:29.037Z"
   },
   {
    "duration": 8,
    "start_time": "2022-01-30T14:54:29.168Z"
   },
   {
    "duration": 17,
    "start_time": "2022-01-30T14:54:29.179Z"
   },
   {
    "duration": 8,
    "start_time": "2022-01-30T14:54:29.198Z"
   },
   {
    "duration": 12,
    "start_time": "2022-01-30T14:54:29.224Z"
   },
   {
    "duration": 31,
    "start_time": "2022-01-30T14:54:29.239Z"
   },
   {
    "duration": 50,
    "start_time": "2022-01-30T14:54:29.275Z"
   },
   {
    "duration": 5,
    "start_time": "2022-01-30T14:54:29.330Z"
   },
   {
    "duration": 22,
    "start_time": "2022-01-30T14:54:29.338Z"
   },
   {
    "duration": 89,
    "start_time": "2022-01-30T14:54:29.363Z"
   },
   {
    "duration": 18,
    "start_time": "2022-01-30T14:54:29.456Z"
   },
   {
    "duration": 71,
    "start_time": "2022-01-30T14:54:29.477Z"
   },
   {
    "duration": 13,
    "start_time": "2022-01-30T14:54:29.551Z"
   },
   {
    "duration": 69,
    "start_time": "2022-01-30T14:54:29.567Z"
   },
   {
    "duration": 30,
    "start_time": "2022-01-30T14:54:29.639Z"
   },
   {
    "duration": 56,
    "start_time": "2022-01-30T14:54:29.671Z"
   },
   {
    "duration": 15,
    "start_time": "2022-01-30T14:54:29.730Z"
   },
   {
    "duration": 34,
    "start_time": "2022-01-30T14:54:29.747Z"
   },
   {
    "duration": 123,
    "start_time": "2022-01-30T14:54:29.783Z"
   },
   {
    "duration": 16,
    "start_time": "2022-01-30T14:54:29.909Z"
   },
   {
    "duration": 9,
    "start_time": "2022-01-30T14:54:29.928Z"
   },
   {
    "duration": 13,
    "start_time": "2022-01-30T14:54:29.944Z"
   },
   {
    "duration": 10,
    "start_time": "2022-01-30T14:54:29.960Z"
   },
   {
    "duration": 53,
    "start_time": "2022-01-30T14:54:29.972Z"
   },
   {
    "duration": 37,
    "start_time": "2022-01-30T14:54:30.027Z"
   },
   {
    "duration": 17,
    "start_time": "2022-01-30T14:54:30.067Z"
   },
   {
    "duration": 55,
    "start_time": "2022-01-30T14:54:30.087Z"
   },
   {
    "duration": 15,
    "start_time": "2022-01-30T14:54:30.144Z"
   },
   {
    "duration": 71,
    "start_time": "2022-01-30T14:54:30.162Z"
   },
   {
    "duration": 27,
    "start_time": "2022-01-30T14:54:30.235Z"
   },
   {
    "duration": 12,
    "start_time": "2022-01-30T14:54:30.265Z"
   },
   {
    "duration": 46,
    "start_time": "2022-01-30T14:54:30.279Z"
   },
   {
    "duration": 7,
    "start_time": "2022-01-30T14:54:30.328Z"
   },
   {
    "duration": 12,
    "start_time": "2022-01-30T14:54:30.338Z"
   },
   {
    "duration": 71,
    "start_time": "2022-01-30T14:54:30.352Z"
   },
   {
    "duration": 8,
    "start_time": "2022-01-30T14:54:30.426Z"
   },
   {
    "duration": 9,
    "start_time": "2022-01-30T14:54:30.436Z"
   },
   {
    "duration": 40,
    "start_time": "2022-01-30T14:54:30.447Z"
   },
   {
    "duration": 14,
    "start_time": "2022-01-30T14:54:30.524Z"
   },
   {
    "duration": 11,
    "start_time": "2022-01-30T14:54:30.541Z"
   },
   {
    "duration": 8,
    "start_time": "2022-01-30T14:54:30.555Z"
   },
   {
    "duration": 9,
    "start_time": "2022-01-30T14:54:30.565Z"
   },
   {
    "duration": 6,
    "start_time": "2022-01-30T14:54:30.624Z"
   },
   {
    "duration": 27,
    "start_time": "2022-01-30T14:54:30.632Z"
   },
   {
    "duration": 93,
    "start_time": "2022-01-30T14:54:30.661Z"
   },
   {
    "duration": 35,
    "start_time": "2022-01-30T14:54:30.756Z"
   },
   {
    "duration": 14,
    "start_time": "2022-01-30T14:54:30.824Z"
   },
   {
    "duration": 23,
    "start_time": "2022-01-30T14:54:30.841Z"
   },
   {
    "duration": 44,
    "start_time": "2022-01-30T14:54:30.867Z"
   },
   {
    "duration": 24,
    "start_time": "2022-01-30T14:54:30.914Z"
   },
   {
    "duration": 28,
    "start_time": "2022-01-30T14:54:30.941Z"
   },
   {
    "duration": 22,
    "start_time": "2022-01-30T14:54:30.972Z"
   },
   {
    "duration": 66,
    "start_time": "2022-01-30T14:54:30.997Z"
   },
   {
    "duration": 10,
    "start_time": "2022-01-30T14:54:31.066Z"
   },
   {
    "duration": 6,
    "start_time": "2022-01-30T14:54:31.079Z"
   },
   {
    "duration": 47,
    "start_time": "2022-01-30T14:54:31.088Z"
   },
   {
    "duration": 16,
    "start_time": "2022-01-30T14:54:31.138Z"
   },
   {
    "duration": 41,
    "start_time": "2022-01-30T14:54:31.156Z"
   },
   {
    "duration": 18,
    "start_time": "2022-01-30T14:54:31.223Z"
   },
   {
    "duration": 12,
    "start_time": "2022-01-30T14:54:31.244Z"
   },
   {
    "duration": 332,
    "start_time": "2022-01-30T14:54:31.258Z"
   },
   {
    "duration": 44,
    "start_time": "2022-01-30T14:54:31.593Z"
   },
   {
    "duration": 28,
    "start_time": "2022-01-30T14:54:31.640Z"
   },
   {
    "duration": 84,
    "start_time": "2022-01-30T14:54:31.670Z"
   },
   {
    "duration": 552,
    "start_time": "2022-01-30T14:54:31.756Z"
   },
   {
    "duration": 304,
    "start_time": "2022-01-30T14:54:52.144Z"
   },
   {
    "duration": 500,
    "start_time": "2022-01-30T14:55:36.394Z"
   },
   {
    "duration": 1251,
    "start_time": "2022-01-30T15:30:20.256Z"
   },
   {
    "duration": 1208,
    "start_time": "2022-01-30T15:30:38.024Z"
   },
   {
    "duration": 1046,
    "start_time": "2022-01-30T15:31:11.211Z"
   },
   {
    "duration": 792,
    "start_time": "2022-01-30T15:34:09.548Z"
   },
   {
    "duration": 551,
    "start_time": "2022-01-30T15:35:12.615Z"
   },
   {
    "duration": 471,
    "start_time": "2022-01-30T15:37:08.452Z"
   },
   {
    "duration": 491,
    "start_time": "2022-01-30T15:37:18.569Z"
   },
   {
    "duration": 882,
    "start_time": "2022-01-30T15:38:13.248Z"
   },
   {
    "duration": 570,
    "start_time": "2022-01-30T15:38:24.307Z"
   },
   {
    "duration": 289,
    "start_time": "2022-01-30T15:49:08.255Z"
   },
   {
    "duration": 274,
    "start_time": "2022-01-30T15:49:14.634Z"
   },
   {
    "duration": 106,
    "start_time": "2022-01-30T15:49:25.735Z"
   },
   {
    "duration": 17,
    "start_time": "2022-01-30T15:49:34.259Z"
   },
   {
    "duration": 29,
    "start_time": "2022-01-30T15:50:11.268Z"
   },
   {
    "duration": 747,
    "start_time": "2022-01-31T13:33:58.189Z"
   },
   {
    "duration": 112,
    "start_time": "2022-01-31T13:33:58.938Z"
   },
   {
    "duration": 6,
    "start_time": "2022-01-31T13:33:59.052Z"
   },
   {
    "duration": 11,
    "start_time": "2022-01-31T13:33:59.061Z"
   },
   {
    "duration": 7,
    "start_time": "2022-01-31T13:33:59.073Z"
   },
   {
    "duration": 7,
    "start_time": "2022-01-31T13:33:59.082Z"
   },
   {
    "duration": 37,
    "start_time": "2022-01-31T13:33:59.091Z"
   },
   {
    "duration": 3,
    "start_time": "2022-01-31T13:33:59.132Z"
   },
   {
    "duration": 7,
    "start_time": "2022-01-31T13:33:59.137Z"
   },
   {
    "duration": 13,
    "start_time": "2022-01-31T13:33:59.146Z"
   },
   {
    "duration": 17,
    "start_time": "2022-01-31T13:33:59.161Z"
   },
   {
    "duration": 12,
    "start_time": "2022-01-31T13:33:59.179Z"
   },
   {
    "duration": 45,
    "start_time": "2022-01-31T13:33:59.193Z"
   },
   {
    "duration": 7,
    "start_time": "2022-01-31T13:33:59.240Z"
   },
   {
    "duration": 19,
    "start_time": "2022-01-31T13:33:59.248Z"
   },
   {
    "duration": 16,
    "start_time": "2022-01-31T13:33:59.268Z"
   },
   {
    "duration": 8,
    "start_time": "2022-01-31T13:33:59.285Z"
   },
   {
    "duration": 44,
    "start_time": "2022-01-31T13:33:59.295Z"
   },
   {
    "duration": 4,
    "start_time": "2022-01-31T13:33:59.341Z"
   },
   {
    "duration": 53,
    "start_time": "2022-01-31T13:33:59.347Z"
   },
   {
    "duration": 25,
    "start_time": "2022-01-31T13:33:59.402Z"
   },
   {
    "duration": 5,
    "start_time": "2022-01-31T13:33:59.428Z"
   },
   {
    "duration": 7,
    "start_time": "2022-01-31T13:33:59.437Z"
   },
   {
    "duration": 6,
    "start_time": "2022-01-31T13:33:59.446Z"
   },
   {
    "duration": 3,
    "start_time": "2022-01-31T13:33:59.454Z"
   },
   {
    "duration": 22,
    "start_time": "2022-01-31T13:33:59.459Z"
   },
   {
    "duration": 44,
    "start_time": "2022-01-31T13:33:59.483Z"
   },
   {
    "duration": 13,
    "start_time": "2022-01-31T13:33:59.528Z"
   },
   {
    "duration": 8,
    "start_time": "2022-01-31T13:33:59.542Z"
   },
   {
    "duration": 20,
    "start_time": "2022-01-31T13:33:59.552Z"
   },
   {
    "duration": 16,
    "start_time": "2022-01-31T13:33:59.574Z"
   },
   {
    "duration": 6,
    "start_time": "2022-01-31T13:33:59.591Z"
   },
   {
    "duration": 35,
    "start_time": "2022-01-31T13:33:59.599Z"
   },
   {
    "duration": 6,
    "start_time": "2022-01-31T13:33:59.636Z"
   },
   {
    "duration": 10,
    "start_time": "2022-01-31T13:33:59.643Z"
   },
   {
    "duration": 31,
    "start_time": "2022-01-31T13:33:59.655Z"
   },
   {
    "duration": 4,
    "start_time": "2022-01-31T13:33:59.688Z"
   },
   {
    "duration": 16,
    "start_time": "2022-01-31T13:33:59.693Z"
   },
   {
    "duration": 24,
    "start_time": "2022-01-31T13:33:59.710Z"
   },
   {
    "duration": 8,
    "start_time": "2022-01-31T13:33:59.736Z"
   },
   {
    "duration": 7,
    "start_time": "2022-01-31T13:33:59.746Z"
   },
   {
    "duration": 5,
    "start_time": "2022-01-31T13:33:59.754Z"
   },
   {
    "duration": 6,
    "start_time": "2022-01-31T13:33:59.760Z"
   },
   {
    "duration": 3,
    "start_time": "2022-01-31T13:33:59.768Z"
   },
   {
    "duration": 13,
    "start_time": "2022-01-31T13:33:59.773Z"
   },
   {
    "duration": 54,
    "start_time": "2022-01-31T13:33:59.787Z"
   },
   {
    "duration": 17,
    "start_time": "2022-01-31T13:33:59.842Z"
   },
   {
    "duration": 7,
    "start_time": "2022-01-31T13:33:59.861Z"
   },
   {
    "duration": 7,
    "start_time": "2022-01-31T13:33:59.869Z"
   },
   {
    "duration": 13,
    "start_time": "2022-01-31T13:33:59.877Z"
   },
   {
    "duration": 5,
    "start_time": "2022-01-31T13:33:59.891Z"
   },
   {
    "duration": 43,
    "start_time": "2022-01-31T13:33:59.898Z"
   },
   {
    "duration": 8,
    "start_time": "2022-01-31T13:33:59.942Z"
   },
   {
    "duration": 19,
    "start_time": "2022-01-31T13:33:59.951Z"
   },
   {
    "duration": 8,
    "start_time": "2022-01-31T13:33:59.972Z"
   },
   {
    "duration": 4,
    "start_time": "2022-01-31T13:33:59.981Z"
   },
   {
    "duration": 11,
    "start_time": "2022-01-31T13:33:59.986Z"
   },
   {
    "duration": 30,
    "start_time": "2022-01-31T13:33:59.998Z"
   },
   {
    "duration": 22,
    "start_time": "2022-01-31T13:34:00.030Z"
   },
   {
    "duration": 10,
    "start_time": "2022-01-31T13:34:00.053Z"
   },
   {
    "duration": 5,
    "start_time": "2022-01-31T13:34:00.064Z"
   },
   {
    "duration": 191,
    "start_time": "2022-01-31T13:34:00.070Z"
   },
   {
    "duration": 18,
    "start_time": "2022-01-31T13:34:00.262Z"
   },
   {
    "duration": 17,
    "start_time": "2022-01-31T13:34:00.281Z"
   },
   {
    "duration": 62,
    "start_time": "2022-01-31T13:34:00.300Z"
   },
   {
    "duration": 297,
    "start_time": "2022-01-31T13:34:00.363Z"
   },
   {
    "duration": 9,
    "start_time": "2022-01-31T14:31:39.777Z"
   },
   {
    "duration": 606,
    "start_time": "2022-01-31T14:33:20.355Z"
   },
   {
    "duration": 121,
    "start_time": "2022-01-31T14:33:20.962Z"
   },
   {
    "duration": 6,
    "start_time": "2022-01-31T14:33:21.085Z"
   },
   {
    "duration": 11,
    "start_time": "2022-01-31T14:33:21.093Z"
   },
   {
    "duration": 4,
    "start_time": "2022-01-31T14:33:21.105Z"
   },
   {
    "duration": 9,
    "start_time": "2022-01-31T14:33:21.111Z"
   },
   {
    "duration": 15,
    "start_time": "2022-01-31T14:33:21.121Z"
   },
   {
    "duration": 3,
    "start_time": "2022-01-31T14:33:21.138Z"
   },
   {
    "duration": 7,
    "start_time": "2022-01-31T14:33:21.142Z"
   },
   {
    "duration": 12,
    "start_time": "2022-01-31T14:33:21.150Z"
   },
   {
    "duration": 17,
    "start_time": "2022-01-31T14:33:21.163Z"
   },
   {
    "duration": 12,
    "start_time": "2022-01-31T14:33:21.181Z"
   },
   {
    "duration": 46,
    "start_time": "2022-01-31T14:33:21.195Z"
   },
   {
    "duration": 7,
    "start_time": "2022-01-31T14:33:21.243Z"
   },
   {
    "duration": 16,
    "start_time": "2022-01-31T14:33:21.251Z"
   },
   {
    "duration": 24,
    "start_time": "2022-01-31T14:33:21.269Z"
   },
   {
    "duration": 8,
    "start_time": "2022-01-31T14:33:21.295Z"
   },
   {
    "duration": 40,
    "start_time": "2022-01-31T14:33:21.304Z"
   },
   {
    "duration": 3,
    "start_time": "2022-01-31T14:33:21.345Z"
   },
   {
    "duration": 64,
    "start_time": "2022-01-31T14:33:21.350Z"
   },
   {
    "duration": 13,
    "start_time": "2022-01-31T14:33:21.415Z"
   },
   {
    "duration": 7,
    "start_time": "2022-01-31T14:33:21.429Z"
   },
   {
    "duration": 8,
    "start_time": "2022-01-31T14:33:21.439Z"
   },
   {
    "duration": 4,
    "start_time": "2022-01-31T14:33:21.450Z"
   },
   {
    "duration": 7,
    "start_time": "2022-01-31T14:33:21.455Z"
   },
   {
    "duration": 28,
    "start_time": "2022-01-31T14:33:21.463Z"
   },
   {
    "duration": 38,
    "start_time": "2022-01-31T14:33:21.493Z"
   },
   {
    "duration": 13,
    "start_time": "2022-01-31T14:33:21.533Z"
   },
   {
    "duration": 10,
    "start_time": "2022-01-31T14:33:21.547Z"
   },
   {
    "duration": 24,
    "start_time": "2022-01-31T14:33:21.558Z"
   },
   {
    "duration": 17,
    "start_time": "2022-01-31T14:33:21.583Z"
   },
   {
    "duration": 5,
    "start_time": "2022-01-31T14:33:21.601Z"
   },
   {
    "duration": 21,
    "start_time": "2022-01-31T14:33:21.607Z"
   },
   {
    "duration": 7,
    "start_time": "2022-01-31T14:33:21.630Z"
   },
   {
    "duration": 5,
    "start_time": "2022-01-31T14:33:21.638Z"
   },
   {
    "duration": 17,
    "start_time": "2022-01-31T14:33:21.645Z"
   },
   {
    "duration": 5,
    "start_time": "2022-01-31T14:33:21.663Z"
   },
   {
    "duration": 5,
    "start_time": "2022-01-31T14:33:21.670Z"
   },
   {
    "duration": 23,
    "start_time": "2022-01-31T14:33:21.677Z"
   },
   {
    "duration": 33,
    "start_time": "2022-01-31T14:33:21.702Z"
   },
   {
    "duration": 6,
    "start_time": "2022-01-31T14:33:21.737Z"
   },
   {
    "duration": 6,
    "start_time": "2022-01-31T14:33:21.745Z"
   },
   {
    "duration": 5,
    "start_time": "2022-01-31T14:33:21.753Z"
   },
   {
    "duration": 4,
    "start_time": "2022-01-31T14:33:21.760Z"
   },
   {
    "duration": 13,
    "start_time": "2022-01-31T14:33:21.766Z"
   },
   {
    "duration": 62,
    "start_time": "2022-01-31T14:33:21.780Z"
   },
   {
    "duration": 19,
    "start_time": "2022-01-31T14:33:21.844Z"
   },
   {
    "duration": 8,
    "start_time": "2022-01-31T14:33:21.865Z"
   },
   {
    "duration": 5,
    "start_time": "2022-01-31T14:33:21.875Z"
   },
   {
    "duration": 12,
    "start_time": "2022-01-31T14:33:21.882Z"
   },
   {
    "duration": 33,
    "start_time": "2022-01-31T14:33:21.895Z"
   },
   {
    "duration": 15,
    "start_time": "2022-01-31T14:33:21.929Z"
   },
   {
    "duration": 8,
    "start_time": "2022-01-31T14:33:21.946Z"
   },
   {
    "duration": 16,
    "start_time": "2022-01-31T14:33:21.955Z"
   },
   {
    "duration": 8,
    "start_time": "2022-01-31T14:33:21.973Z"
   },
   {
    "duration": 8,
    "start_time": "2022-01-31T14:33:21.982Z"
   },
   {
    "duration": 3,
    "start_time": "2022-01-31T14:33:22.027Z"
   },
   {
    "duration": 9,
    "start_time": "2022-01-31T14:33:22.032Z"
   },
   {
    "duration": 7,
    "start_time": "2022-01-31T14:33:22.042Z"
   },
   {
    "duration": 22,
    "start_time": "2022-01-31T14:33:22.050Z"
   },
   {
    "duration": 9,
    "start_time": "2022-01-31T14:33:22.073Z"
   },
   {
    "duration": 4,
    "start_time": "2022-01-31T14:33:22.084Z"
   },
   {
    "duration": 187,
    "start_time": "2022-01-31T14:33:22.089Z"
   },
   {
    "duration": 18,
    "start_time": "2022-01-31T14:33:22.277Z"
   },
   {
    "duration": 14,
    "start_time": "2022-01-31T14:33:22.296Z"
   },
   {
    "duration": 53,
    "start_time": "2022-01-31T14:33:22.311Z"
   },
   {
    "duration": 285,
    "start_time": "2022-01-31T14:33:22.366Z"
   },
   {
    "duration": 884,
    "start_time": "2022-02-01T09:25:40.935Z"
   },
   {
    "duration": 139,
    "start_time": "2022-02-01T09:25:41.823Z"
   },
   {
    "duration": 10,
    "start_time": "2022-02-01T09:25:41.965Z"
   },
   {
    "duration": 20,
    "start_time": "2022-02-01T09:25:41.978Z"
   },
   {
    "duration": 7,
    "start_time": "2022-02-01T09:25:42.001Z"
   },
   {
    "duration": 24,
    "start_time": "2022-02-01T09:25:42.011Z"
   },
   {
    "duration": 34,
    "start_time": "2022-02-01T09:25:42.038Z"
   },
   {
    "duration": 4,
    "start_time": "2022-02-01T09:25:42.075Z"
   },
   {
    "duration": 5,
    "start_time": "2022-02-01T09:25:42.083Z"
   },
   {
    "duration": 52,
    "start_time": "2022-02-01T09:25:42.091Z"
   },
   {
    "duration": 33,
    "start_time": "2022-02-01T09:25:42.146Z"
   },
   {
    "duration": 53,
    "start_time": "2022-02-01T09:25:42.182Z"
   },
   {
    "duration": 37,
    "start_time": "2022-02-01T09:25:42.237Z"
   },
   {
    "duration": 13,
    "start_time": "2022-02-01T09:25:42.276Z"
   },
   {
    "duration": 59,
    "start_time": "2022-02-01T09:25:42.291Z"
   },
   {
    "duration": 26,
    "start_time": "2022-02-01T09:25:42.352Z"
   },
   {
    "duration": 13,
    "start_time": "2022-02-01T09:25:42.380Z"
   },
   {
    "duration": 34,
    "start_time": "2022-02-01T09:25:42.426Z"
   },
   {
    "duration": 6,
    "start_time": "2022-02-01T09:25:42.462Z"
   },
   {
    "duration": 117,
    "start_time": "2022-02-01T09:25:42.471Z"
   },
   {
    "duration": 6,
    "start_time": "2022-02-01T09:25:42.591Z"
   },
   {
    "duration": 25,
    "start_time": "2022-02-01T09:25:42.600Z"
   },
   {
    "duration": 15,
    "start_time": "2022-02-01T09:25:42.627Z"
   },
   {
    "duration": 13,
    "start_time": "2022-02-01T09:25:42.645Z"
   },
   {
    "duration": 7,
    "start_time": "2022-02-01T09:25:42.660Z"
   },
   {
    "duration": 73,
    "start_time": "2022-02-01T09:25:42.669Z"
   },
   {
    "duration": 18,
    "start_time": "2022-02-01T09:25:42.752Z"
   },
   {
    "duration": 61,
    "start_time": "2022-02-01T09:25:42.775Z"
   },
   {
    "duration": 12,
    "start_time": "2022-02-01T09:25:42.840Z"
   },
   {
    "duration": 40,
    "start_time": "2022-02-01T09:25:42.856Z"
   },
   {
    "duration": 52,
    "start_time": "2022-02-01T09:25:42.898Z"
   },
   {
    "duration": 7,
    "start_time": "2022-02-01T09:25:42.953Z"
   },
   {
    "duration": 17,
    "start_time": "2022-02-01T09:25:42.963Z"
   },
   {
    "duration": 45,
    "start_time": "2022-02-01T09:25:42.983Z"
   },
   {
    "duration": 19,
    "start_time": "2022-02-01T09:25:43.031Z"
   },
   {
    "duration": 31,
    "start_time": "2022-02-01T09:25:43.052Z"
   },
   {
    "duration": 7,
    "start_time": "2022-02-01T09:25:43.086Z"
   },
   {
    "duration": 29,
    "start_time": "2022-02-01T09:25:43.095Z"
   },
   {
    "duration": 41,
    "start_time": "2022-02-01T09:25:43.127Z"
   },
   {
    "duration": 15,
    "start_time": "2022-02-01T09:25:43.170Z"
   },
   {
    "duration": 12,
    "start_time": "2022-02-01T09:25:43.187Z"
   },
   {
    "duration": 7,
    "start_time": "2022-02-01T09:25:43.225Z"
   },
   {
    "duration": 12,
    "start_time": "2022-02-01T09:25:43.235Z"
   },
   {
    "duration": 8,
    "start_time": "2022-02-01T09:25:43.250Z"
   },
   {
    "duration": 24,
    "start_time": "2022-02-01T09:25:43.260Z"
   },
   {
    "duration": 80,
    "start_time": "2022-02-01T09:25:43.286Z"
   },
   {
    "duration": 31,
    "start_time": "2022-02-01T09:25:43.368Z"
   },
   {
    "duration": 14,
    "start_time": "2022-02-01T09:25:43.423Z"
   },
   {
    "duration": 13,
    "start_time": "2022-02-01T09:25:43.441Z"
   },
   {
    "duration": 18,
    "start_time": "2022-02-01T09:25:43.456Z"
   },
   {
    "duration": 7,
    "start_time": "2022-02-01T09:25:43.477Z"
   },
   {
    "duration": 66,
    "start_time": "2022-02-01T09:25:43.487Z"
   },
   {
    "duration": 11,
    "start_time": "2022-02-01T09:25:43.556Z"
   },
   {
    "duration": 53,
    "start_time": "2022-02-01T09:25:43.570Z"
   },
   {
    "duration": 16,
    "start_time": "2022-02-01T09:25:43.626Z"
   },
   {
    "duration": 21,
    "start_time": "2022-02-01T09:25:43.645Z"
   },
   {
    "duration": 7,
    "start_time": "2022-02-01T09:25:43.670Z"
   },
   {
    "duration": 60,
    "start_time": "2022-02-01T09:25:43.679Z"
   },
   {
    "duration": 6,
    "start_time": "2022-02-01T09:25:43.741Z"
   },
   {
    "duration": 34,
    "start_time": "2022-02-01T09:25:43.750Z"
   },
   {
    "duration": 43,
    "start_time": "2022-02-01T09:25:43.786Z"
   },
   {
    "duration": 10,
    "start_time": "2022-02-01T09:25:43.834Z"
   },
   {
    "duration": 338,
    "start_time": "2022-02-01T09:25:43.847Z"
   },
   {
    "duration": 50,
    "start_time": "2022-02-01T09:25:44.188Z"
   },
   {
    "duration": 27,
    "start_time": "2022-02-01T09:25:44.241Z"
   },
   {
    "duration": 83,
    "start_time": "2022-02-01T09:25:44.270Z"
   },
   {
    "duration": 541,
    "start_time": "2022-02-01T09:25:44.355Z"
   },
   {
    "duration": 6,
    "start_time": "2022-02-01T09:27:53.020Z"
   },
   {
    "duration": 52,
    "start_time": "2022-02-01T09:28:06.110Z"
   },
   {
    "duration": 6,
    "start_time": "2022-02-01T09:37:12.484Z"
   },
   {
    "duration": 48,
    "start_time": "2022-02-01T09:37:15.302Z"
   },
   {
    "duration": 12,
    "start_time": "2022-02-01T09:39:10.045Z"
   },
   {
    "duration": 44,
    "start_time": "2022-02-01T09:39:11.948Z"
   },
   {
    "duration": 1012,
    "start_time": "2022-02-01T09:39:32.927Z"
   },
   {
    "duration": 152,
    "start_time": "2022-02-01T09:39:33.943Z"
   },
   {
    "duration": 9,
    "start_time": "2022-02-01T09:39:34.098Z"
   },
   {
    "duration": 28,
    "start_time": "2022-02-01T09:39:34.110Z"
   },
   {
    "duration": 18,
    "start_time": "2022-02-01T09:39:34.142Z"
   },
   {
    "duration": 17,
    "start_time": "2022-02-01T09:39:34.163Z"
   },
   {
    "duration": 31,
    "start_time": "2022-02-01T09:39:34.182Z"
   },
   {
    "duration": 17,
    "start_time": "2022-02-01T09:39:34.218Z"
   },
   {
    "duration": 9,
    "start_time": "2022-02-01T09:39:34.239Z"
   },
   {
    "duration": 25,
    "start_time": "2022-02-01T09:39:34.251Z"
   },
   {
    "duration": 52,
    "start_time": "2022-02-01T09:39:34.278Z"
   },
   {
    "duration": 32,
    "start_time": "2022-02-01T09:39:34.333Z"
   },
   {
    "duration": 37,
    "start_time": "2022-02-01T09:39:34.368Z"
   },
   {
    "duration": 34,
    "start_time": "2022-02-01T09:39:34.408Z"
   },
   {
    "duration": 31,
    "start_time": "2022-02-01T09:39:34.446Z"
   },
   {
    "duration": 79,
    "start_time": "2022-02-01T09:39:34.479Z"
   },
   {
    "duration": 17,
    "start_time": "2022-02-01T09:39:34.560Z"
   },
   {
    "duration": 50,
    "start_time": "2022-02-01T09:39:34.579Z"
   },
   {
    "duration": 7,
    "start_time": "2022-02-01T09:39:34.633Z"
   },
   {
    "duration": 124,
    "start_time": "2022-02-01T09:39:34.643Z"
   },
   {
    "duration": 7,
    "start_time": "2022-02-01T09:39:34.770Z"
   },
   {
    "duration": 8,
    "start_time": "2022-02-01T09:39:34.779Z"
   },
   {
    "duration": 43,
    "start_time": "2022-02-01T09:39:34.793Z"
   },
   {
    "duration": 19,
    "start_time": "2022-02-01T09:39:34.842Z"
   },
   {
    "duration": 8,
    "start_time": "2022-02-01T09:39:34.864Z"
   },
   {
    "duration": 66,
    "start_time": "2022-02-01T09:39:34.875Z"
   },
   {
    "duration": 28,
    "start_time": "2022-02-01T09:39:34.944Z"
   },
   {
    "duration": 24,
    "start_time": "2022-02-01T09:39:34.975Z"
   },
   {
    "duration": 28,
    "start_time": "2022-02-01T09:39:35.002Z"
   },
   {
    "duration": 52,
    "start_time": "2022-02-01T09:39:35.039Z"
   },
   {
    "duration": 57,
    "start_time": "2022-02-01T09:39:35.093Z"
   },
   {
    "duration": 7,
    "start_time": "2022-02-01T09:39:35.153Z"
   },
   {
    "duration": 25,
    "start_time": "2022-02-01T09:39:35.163Z"
   },
   {
    "duration": 11,
    "start_time": "2022-02-01T09:39:35.191Z"
   },
   {
    "duration": 55,
    "start_time": "2022-02-01T09:39:35.204Z"
   },
   {
    "duration": 31,
    "start_time": "2022-02-01T09:39:35.262Z"
   },
   {
    "duration": 8,
    "start_time": "2022-02-01T09:39:35.295Z"
   },
   {
    "duration": 13,
    "start_time": "2022-02-01T09:39:35.305Z"
   },
   {
    "duration": 56,
    "start_time": "2022-02-01T09:39:35.320Z"
   },
   {
    "duration": 14,
    "start_time": "2022-02-01T09:39:35.379Z"
   },
   {
    "duration": 22,
    "start_time": "2022-02-01T09:39:35.396Z"
   },
   {
    "duration": 37,
    "start_time": "2022-02-01T09:39:35.421Z"
   },
   {
    "duration": 15,
    "start_time": "2022-02-01T09:39:35.460Z"
   },
   {
    "duration": 6,
    "start_time": "2022-02-01T09:39:35.478Z"
   },
   {
    "duration": 22,
    "start_time": "2022-02-01T09:39:35.486Z"
   },
   {
    "duration": 58,
    "start_time": "2022-02-01T09:39:35.510Z"
   },
   {
    "duration": 35,
    "start_time": "2022-02-01T09:39:35.571Z"
   },
   {
    "duration": 17,
    "start_time": "2022-02-01T09:39:35.629Z"
   },
   {
    "duration": 16,
    "start_time": "2022-02-01T09:39:35.649Z"
   },
   {
    "duration": 23,
    "start_time": "2022-02-01T09:39:35.667Z"
   },
   {
    "duration": 6,
    "start_time": "2022-02-01T09:39:35.693Z"
   },
   {
    "duration": 57,
    "start_time": "2022-02-01T09:39:35.702Z"
   },
   {
    "duration": 11,
    "start_time": "2022-02-01T09:39:35.761Z"
   },
   {
    "duration": 57,
    "start_time": "2022-02-01T09:39:35.775Z"
   },
   {
    "duration": 22,
    "start_time": "2022-02-01T09:39:35.835Z"
   },
   {
    "duration": 14,
    "start_time": "2022-02-01T09:39:35.861Z"
   },
   {
    "duration": 14,
    "start_time": "2022-02-01T09:39:35.877Z"
   },
   {
    "duration": 49,
    "start_time": "2022-02-01T09:39:35.894Z"
   },
   {
    "duration": 8,
    "start_time": "2022-02-01T09:39:35.952Z"
   },
   {
    "duration": 36,
    "start_time": "2022-02-01T09:39:35.962Z"
   },
   {
    "duration": 43,
    "start_time": "2022-02-01T09:39:36.001Z"
   },
   {
    "duration": 12,
    "start_time": "2022-02-01T09:39:36.047Z"
   },
   {
    "duration": 7,
    "start_time": "2022-02-01T09:39:36.061Z"
   },
   {
    "duration": 357,
    "start_time": "2022-02-01T09:39:36.070Z"
   },
   {
    "duration": 41,
    "start_time": "2022-02-01T09:39:36.431Z"
   },
   {
    "duration": 55,
    "start_time": "2022-02-01T09:39:36.474Z"
   },
   {
    "duration": 62,
    "start_time": "2022-02-01T09:39:36.533Z"
   },
   {
    "duration": 625,
    "start_time": "2022-02-01T09:39:36.602Z"
   },
   {
    "duration": 34,
    "start_time": "2022-02-01T09:43:50.649Z"
   },
   {
    "duration": 29,
    "start_time": "2022-02-01T09:44:52.458Z"
   },
   {
    "duration": 40,
    "start_time": "2022-02-01T09:45:51.401Z"
   },
   {
    "duration": 28,
    "start_time": "2022-02-01T09:46:27.978Z"
   },
   {
    "duration": 47,
    "start_time": "2022-02-01T09:48:07.054Z"
   },
   {
    "duration": 53,
    "start_time": "2022-02-01T09:48:41.377Z"
   },
   {
    "duration": 493,
    "start_time": "2022-02-01T09:59:11.241Z"
   },
   {
    "duration": 12,
    "start_time": "2022-02-01T10:07:00.150Z"
   },
   {
    "duration": 46,
    "start_time": "2022-02-01T10:07:14.017Z"
   },
   {
    "duration": 9836,
    "start_time": "2022-02-01T10:07:58.768Z"
   },
   {
    "duration": 14,
    "start_time": "2022-02-01T10:08:16.761Z"
   },
   {
    "duration": 14,
    "start_time": "2022-02-01T10:08:40.649Z"
   },
   {
    "duration": 12,
    "start_time": "2022-02-01T10:09:14.056Z"
   },
   {
    "duration": 7,
    "start_time": "2022-02-01T10:11:12.984Z"
   },
   {
    "duration": 16,
    "start_time": "2022-02-01T10:11:27.442Z"
   },
   {
    "duration": 7,
    "start_time": "2022-02-01T10:12:44.305Z"
   },
   {
    "duration": 9,
    "start_time": "2022-02-01T10:15:18.569Z"
   },
   {
    "duration": 9,
    "start_time": "2022-02-01T10:15:29.745Z"
   },
   {
    "duration": 13,
    "start_time": "2022-02-01T10:15:49.736Z"
   },
   {
    "duration": 31,
    "start_time": "2022-02-01T10:16:06.521Z"
   },
   {
    "duration": 230,
    "start_time": "2022-02-01T12:36:57.553Z"
   },
   {
    "duration": 659,
    "start_time": "2022-02-01T12:37:04.443Z"
   },
   {
    "duration": 105,
    "start_time": "2022-02-01T12:37:05.104Z"
   },
   {
    "duration": 14,
    "start_time": "2022-02-01T12:37:05.211Z"
   },
   {
    "duration": 10,
    "start_time": "2022-02-01T12:37:05.227Z"
   },
   {
    "duration": 7,
    "start_time": "2022-02-01T12:37:05.239Z"
   },
   {
    "duration": 7,
    "start_time": "2022-02-01T12:37:05.248Z"
   },
   {
    "duration": 17,
    "start_time": "2022-02-01T12:37:05.257Z"
   },
   {
    "duration": 3,
    "start_time": "2022-02-01T12:37:05.275Z"
   },
   {
    "duration": 39,
    "start_time": "2022-02-01T12:37:05.280Z"
   },
   {
    "duration": 13,
    "start_time": "2022-02-01T12:37:05.322Z"
   },
   {
    "duration": 20,
    "start_time": "2022-02-01T12:37:05.337Z"
   },
   {
    "duration": 17,
    "start_time": "2022-02-01T12:37:05.359Z"
   },
   {
    "duration": 43,
    "start_time": "2022-02-01T12:37:05.377Z"
   },
   {
    "duration": 8,
    "start_time": "2022-02-01T12:37:05.429Z"
   },
   {
    "duration": 20,
    "start_time": "2022-02-01T12:37:05.439Z"
   },
   {
    "duration": 18,
    "start_time": "2022-02-01T12:37:05.461Z"
   },
   {
    "duration": 9,
    "start_time": "2022-02-01T12:37:05.481Z"
   },
   {
    "duration": 46,
    "start_time": "2022-02-01T12:37:05.492Z"
   },
   {
    "duration": 4,
    "start_time": "2022-02-01T12:37:05.540Z"
   },
   {
    "duration": 78,
    "start_time": "2022-02-01T12:37:05.545Z"
   },
   {
    "duration": 5,
    "start_time": "2022-02-01T12:37:05.626Z"
   },
   {
    "duration": 5,
    "start_time": "2022-02-01T12:37:05.633Z"
   },
   {
    "duration": 9,
    "start_time": "2022-02-01T12:37:05.639Z"
   },
   {
    "duration": 8,
    "start_time": "2022-02-01T12:37:05.649Z"
   },
   {
    "duration": 7,
    "start_time": "2022-02-01T12:37:05.658Z"
   },
   {
    "duration": 24,
    "start_time": "2022-02-01T12:37:05.666Z"
   },
   {
    "duration": 38,
    "start_time": "2022-02-01T12:37:05.694Z"
   },
   {
    "duration": 15,
    "start_time": "2022-02-01T12:37:05.734Z"
   },
   {
    "duration": 9,
    "start_time": "2022-02-01T12:37:05.751Z"
   },
   {
    "duration": 25,
    "start_time": "2022-02-01T12:37:05.761Z"
   },
   {
    "duration": 41,
    "start_time": "2022-02-01T12:37:05.787Z"
   },
   {
    "duration": 5,
    "start_time": "2022-02-01T12:37:05.830Z"
   },
   {
    "duration": 12,
    "start_time": "2022-02-01T12:37:05.837Z"
   },
   {
    "duration": 5,
    "start_time": "2022-02-01T12:37:05.850Z"
   },
   {
    "duration": 5,
    "start_time": "2022-02-01T12:37:05.857Z"
   },
   {
    "duration": 21,
    "start_time": "2022-02-01T12:37:05.864Z"
   },
   {
    "duration": 13,
    "start_time": "2022-02-01T12:37:05.913Z"
   },
   {
    "duration": 6,
    "start_time": "2022-02-01T12:37:05.928Z"
   },
   {
    "duration": 22,
    "start_time": "2022-02-01T12:37:05.936Z"
   },
   {
    "duration": 12,
    "start_time": "2022-02-01T12:37:05.960Z"
   },
   {
    "duration": 9,
    "start_time": "2022-02-01T12:37:05.974Z"
   },
   {
    "duration": 31,
    "start_time": "2022-02-01T12:37:05.985Z"
   },
   {
    "duration": 6,
    "start_time": "2022-02-01T12:37:06.018Z"
   },
   {
    "duration": 6,
    "start_time": "2022-02-01T12:37:06.026Z"
   },
   {
    "duration": 17,
    "start_time": "2022-02-01T12:37:06.034Z"
   },
   {
    "duration": 30,
    "start_time": "2022-02-01T12:37:06.052Z"
   },
   {
    "duration": 51,
    "start_time": "2022-02-01T12:37:06.084Z"
   },
   {
    "duration": 10,
    "start_time": "2022-02-01T12:37:06.137Z"
   },
   {
    "duration": 5,
    "start_time": "2022-02-01T12:37:06.149Z"
   },
   {
    "duration": 14,
    "start_time": "2022-02-01T12:37:06.156Z"
   },
   {
    "duration": 45,
    "start_time": "2022-02-01T12:37:06.172Z"
   },
   {
    "duration": 19,
    "start_time": "2022-02-01T12:37:06.219Z"
   },
   {
    "duration": 8,
    "start_time": "2022-02-01T12:37:06.240Z"
   },
   {
    "duration": 20,
    "start_time": "2022-02-01T12:37:06.250Z"
   },
   {
    "duration": 9,
    "start_time": "2022-02-01T12:37:06.272Z"
   },
   {
    "duration": 43,
    "start_time": "2022-02-01T12:37:06.283Z"
   },
   {
    "duration": 5,
    "start_time": "2022-02-01T12:37:06.328Z"
   },
   {
    "duration": 12,
    "start_time": "2022-02-01T12:37:06.335Z"
   },
   {
    "duration": 6,
    "start_time": "2022-02-01T12:37:06.348Z"
   },
   {
    "duration": 23,
    "start_time": "2022-02-01T12:37:06.355Z"
   },
   {
    "duration": 50,
    "start_time": "2022-02-01T12:37:06.380Z"
   },
   {
    "duration": 6,
    "start_time": "2022-02-01T12:37:06.432Z"
   },
   {
    "duration": 3,
    "start_time": "2022-02-01T12:37:06.440Z"
   },
   {
    "duration": 230,
    "start_time": "2022-02-01T12:37:06.445Z"
   },
   {
    "duration": 42,
    "start_time": "2022-02-01T12:37:06.677Z"
   },
   {
    "duration": 19,
    "start_time": "2022-02-01T12:37:06.721Z"
   },
   {
    "duration": 77,
    "start_time": "2022-02-01T12:37:06.742Z"
   },
   {
    "duration": 7,
    "start_time": "2022-02-01T12:37:06.822Z"
   },
   {
    "duration": 360,
    "start_time": "2022-02-01T12:37:06.831Z"
   },
   {
    "duration": 4,
    "start_time": "2022-02-01T12:37:55.932Z"
   },
   {
    "duration": 23,
    "start_time": "2022-02-01T12:37:59.253Z"
   },
   {
    "duration": 6,
    "start_time": "2022-02-01T12:40:30.268Z"
   },
   {
    "duration": 22,
    "start_time": "2022-02-01T12:40:32.165Z"
   },
   {
    "duration": 9,
    "start_time": "2022-02-01T12:47:50.020Z"
   },
   {
    "duration": 9,
    "start_time": "2022-02-01T12:47:52.812Z"
   },
   {
    "duration": 8,
    "start_time": "2022-02-01T12:48:13.892Z"
   },
   {
    "duration": 15,
    "start_time": "2022-02-01T12:49:08.404Z"
   },
   {
    "duration": 12,
    "start_time": "2022-02-01T12:50:56.532Z"
   },
   {
    "duration": 6,
    "start_time": "2022-02-01T12:54:34.547Z"
   },
   {
    "duration": 6,
    "start_time": "2022-02-01T12:56:26.885Z"
   },
   {
    "duration": 6,
    "start_time": "2022-02-01T12:56:32.924Z"
   },
   {
    "duration": 5,
    "start_time": "2022-02-01T12:57:49.381Z"
   },
   {
    "duration": 6,
    "start_time": "2022-02-01T12:57:57.364Z"
   },
   {
    "duration": 8,
    "start_time": "2022-02-01T12:58:08.317Z"
   },
   {
    "duration": 23,
    "start_time": "2022-02-01T13:48:28.624Z"
   },
   {
    "duration": 26,
    "start_time": "2022-02-01T13:48:45.694Z"
   },
   {
    "duration": 24,
    "start_time": "2022-02-01T13:49:11.031Z"
   },
   {
    "duration": 247,
    "start_time": "2022-02-02T14:20:38.387Z"
   },
   {
    "duration": 693,
    "start_time": "2022-02-02T14:20:49.735Z"
   },
   {
    "duration": 99,
    "start_time": "2022-02-02T14:20:50.430Z"
   },
   {
    "duration": 7,
    "start_time": "2022-02-02T14:20:50.532Z"
   },
   {
    "duration": 13,
    "start_time": "2022-02-02T14:20:50.541Z"
   },
   {
    "duration": 5,
    "start_time": "2022-02-02T14:20:50.555Z"
   },
   {
    "duration": 9,
    "start_time": "2022-02-02T14:20:50.562Z"
   },
   {
    "duration": 42,
    "start_time": "2022-02-02T14:20:50.573Z"
   },
   {
    "duration": 3,
    "start_time": "2022-02-02T14:20:50.618Z"
   },
   {
    "duration": 5,
    "start_time": "2022-02-02T14:20:50.623Z"
   },
   {
    "duration": 15,
    "start_time": "2022-02-02T14:20:50.630Z"
   },
   {
    "duration": 20,
    "start_time": "2022-02-02T14:20:50.646Z"
   },
   {
    "duration": 13,
    "start_time": "2022-02-02T14:20:50.667Z"
   },
   {
    "duration": 52,
    "start_time": "2022-02-02T14:20:50.682Z"
   },
   {
    "duration": 9,
    "start_time": "2022-02-02T14:20:50.735Z"
   },
   {
    "duration": 22,
    "start_time": "2022-02-02T14:20:50.746Z"
   },
   {
    "duration": 44,
    "start_time": "2022-02-02T14:20:50.770Z"
   },
   {
    "duration": 9,
    "start_time": "2022-02-02T14:20:50.816Z"
   },
   {
    "duration": 23,
    "start_time": "2022-02-02T14:20:50.827Z"
   },
   {
    "duration": 4,
    "start_time": "2022-02-02T14:20:50.851Z"
   },
   {
    "duration": 80,
    "start_time": "2022-02-02T14:20:50.857Z"
   },
   {
    "duration": 4,
    "start_time": "2022-02-02T14:20:50.939Z"
   },
   {
    "duration": 10,
    "start_time": "2022-02-02T14:20:50.945Z"
   },
   {
    "duration": 9,
    "start_time": "2022-02-02T14:20:50.959Z"
   },
   {
    "duration": 12,
    "start_time": "2022-02-02T14:20:50.970Z"
   },
   {
    "duration": 5,
    "start_time": "2022-02-02T14:20:50.984Z"
   },
   {
    "duration": 41,
    "start_time": "2022-02-02T14:20:50.991Z"
   },
   {
    "duration": 12,
    "start_time": "2022-02-02T14:20:51.033Z"
   },
   {
    "duration": 16,
    "start_time": "2022-02-02T14:20:51.047Z"
   },
   {
    "duration": 11,
    "start_time": "2022-02-02T14:20:51.064Z"
   },
   {
    "duration": 46,
    "start_time": "2022-02-02T14:20:51.077Z"
   },
   {
    "duration": 20,
    "start_time": "2022-02-02T14:20:51.125Z"
   },
   {
    "duration": 3,
    "start_time": "2022-02-02T14:20:51.147Z"
   },
   {
    "duration": 10,
    "start_time": "2022-02-02T14:20:51.152Z"
   },
   {
    "duration": 4,
    "start_time": "2022-02-02T14:20:51.164Z"
   },
   {
    "duration": 8,
    "start_time": "2022-02-02T14:20:51.170Z"
   },
   {
    "duration": 48,
    "start_time": "2022-02-02T14:20:51.180Z"
   },
   {
    "duration": 5,
    "start_time": "2022-02-02T14:20:51.229Z"
   },
   {
    "duration": 6,
    "start_time": "2022-02-02T14:20:51.236Z"
   },
   {
    "duration": 22,
    "start_time": "2022-02-02T14:20:51.244Z"
   },
   {
    "duration": 10,
    "start_time": "2022-02-02T14:20:51.267Z"
   },
   {
    "duration": 35,
    "start_time": "2022-02-02T14:20:51.278Z"
   },
   {
    "duration": 4,
    "start_time": "2022-02-02T14:20:51.315Z"
   },
   {
    "duration": 9,
    "start_time": "2022-02-02T14:20:51.320Z"
   },
   {
    "duration": 4,
    "start_time": "2022-02-02T14:20:51.330Z"
   },
   {
    "duration": 15,
    "start_time": "2022-02-02T14:20:51.335Z"
   },
   {
    "duration": 29,
    "start_time": "2022-02-02T14:20:51.352Z"
   },
   {
    "duration": 45,
    "start_time": "2022-02-02T14:20:51.382Z"
   },
   {
    "duration": 8,
    "start_time": "2022-02-02T14:20:51.429Z"
   },
   {
    "duration": 6,
    "start_time": "2022-02-02T14:20:51.439Z"
   },
   {
    "duration": 14,
    "start_time": "2022-02-02T14:20:51.447Z"
   },
   {
    "duration": 5,
    "start_time": "2022-02-02T14:20:51.463Z"
   },
   {
    "duration": 45,
    "start_time": "2022-02-02T14:20:51.469Z"
   },
   {
    "duration": 8,
    "start_time": "2022-02-02T14:20:51.516Z"
   },
   {
    "duration": 21,
    "start_time": "2022-02-02T14:20:51.525Z"
   },
   {
    "duration": 10,
    "start_time": "2022-02-02T14:20:51.548Z"
   },
   {
    "duration": 9,
    "start_time": "2022-02-02T14:20:51.559Z"
   },
   {
    "duration": 4,
    "start_time": "2022-02-02T14:20:51.570Z"
   },
   {
    "duration": 41,
    "start_time": "2022-02-02T14:20:51.576Z"
   },
   {
    "duration": 5,
    "start_time": "2022-02-02T14:20:51.619Z"
   },
   {
    "duration": 24,
    "start_time": "2022-02-02T14:20:51.626Z"
   },
   {
    "duration": 13,
    "start_time": "2022-02-02T14:20:51.651Z"
   },
   {
    "duration": 11,
    "start_time": "2022-02-02T14:20:51.665Z"
   },
   {
    "duration": 11,
    "start_time": "2022-02-02T14:20:51.677Z"
   },
   {
    "duration": 5,
    "start_time": "2022-02-02T14:20:51.713Z"
   },
   {
    "duration": 244,
    "start_time": "2022-02-02T14:20:51.720Z"
   },
   {
    "duration": 18,
    "start_time": "2022-02-02T14:20:51.966Z"
   },
   {
    "duration": 27,
    "start_time": "2022-02-02T14:20:51.986Z"
   },
   {
    "duration": 6,
    "start_time": "2022-02-02T14:20:52.018Z"
   },
   {
    "duration": 381,
    "start_time": "2022-02-02T14:20:52.026Z"
   },
   {
    "duration": 923,
    "start_time": "2022-02-02T14:21:58.467Z"
   },
   {
    "duration": 8,
    "start_time": "2022-02-02T14:25:04.691Z"
   },
   {
    "duration": 17,
    "start_time": "2022-02-02T14:25:06.979Z"
   },
   {
    "duration": 8,
    "start_time": "2022-02-02T14:25:14.339Z"
   },
   {
    "duration": 5,
    "start_time": "2022-02-02T14:25:31.874Z"
   },
   {
    "duration": 8,
    "start_time": "2022-02-02T14:26:36.283Z"
   },
   {
    "duration": 16,
    "start_time": "2022-02-02T14:26:38.468Z"
   },
   {
    "duration": 8,
    "start_time": "2022-02-02T14:27:00.315Z"
   },
   {
    "duration": 4,
    "start_time": "2022-02-02T14:27:04.964Z"
   },
   {
    "duration": 7,
    "start_time": "2022-02-02T14:27:34.667Z"
   },
   {
    "duration": 17,
    "start_time": "2022-02-02T14:27:36.787Z"
   },
   {
    "duration": 4,
    "start_time": "2022-02-02T14:27:40.027Z"
   },
   {
    "duration": 5,
    "start_time": "2022-02-02T14:28:29.787Z"
   },
   {
    "duration": 2,
    "start_time": "2022-02-02T14:36:03.267Z"
   },
   {
    "duration": 676,
    "start_time": "2022-02-02T14:36:11.891Z"
   },
   {
    "duration": 100,
    "start_time": "2022-02-02T14:36:12.568Z"
   },
   {
    "duration": 6,
    "start_time": "2022-02-02T14:36:12.670Z"
   },
   {
    "duration": 11,
    "start_time": "2022-02-02T14:36:12.678Z"
   },
   {
    "duration": 4,
    "start_time": "2022-02-02T14:36:12.691Z"
   },
   {
    "duration": 9,
    "start_time": "2022-02-02T14:36:12.697Z"
   },
   {
    "duration": 18,
    "start_time": "2022-02-02T14:36:12.707Z"
   },
   {
    "duration": 3,
    "start_time": "2022-02-02T14:36:12.727Z"
   },
   {
    "duration": 5,
    "start_time": "2022-02-02T14:36:12.733Z"
   },
   {
    "duration": 14,
    "start_time": "2022-02-02T14:36:12.739Z"
   },
   {
    "duration": 20,
    "start_time": "2022-02-02T14:36:12.754Z"
   },
   {
    "duration": 40,
    "start_time": "2022-02-02T14:36:12.776Z"
   },
   {
    "duration": 25,
    "start_time": "2022-02-02T14:36:12.817Z"
   },
   {
    "duration": 8,
    "start_time": "2022-02-02T14:36:12.843Z"
   },
   {
    "duration": 19,
    "start_time": "2022-02-02T14:36:12.853Z"
   },
   {
    "duration": 47,
    "start_time": "2022-02-02T14:36:12.873Z"
   },
   {
    "duration": 10,
    "start_time": "2022-02-02T14:36:12.922Z"
   },
   {
    "duration": 23,
    "start_time": "2022-02-02T14:36:12.933Z"
   },
   {
    "duration": 4,
    "start_time": "2022-02-02T14:36:12.958Z"
   },
   {
    "duration": 79,
    "start_time": "2022-02-02T14:36:12.964Z"
   },
   {
    "duration": 4,
    "start_time": "2022-02-02T14:36:13.045Z"
   },
   {
    "duration": 6,
    "start_time": "2022-02-02T14:36:13.051Z"
   },
   {
    "duration": 9,
    "start_time": "2022-02-02T14:36:13.060Z"
   },
   {
    "duration": 6,
    "start_time": "2022-02-02T14:36:13.071Z"
   },
   {
    "duration": 4,
    "start_time": "2022-02-02T14:36:13.079Z"
   },
   {
    "duration": 50,
    "start_time": "2022-02-02T14:36:13.084Z"
   },
   {
    "duration": 11,
    "start_time": "2022-02-02T14:36:13.136Z"
   },
   {
    "duration": 15,
    "start_time": "2022-02-02T14:36:13.148Z"
   },
   {
    "duration": 11,
    "start_time": "2022-02-02T14:36:13.165Z"
   },
   {
    "duration": 52,
    "start_time": "2022-02-02T14:36:13.177Z"
   },
   {
    "duration": 18,
    "start_time": "2022-02-02T14:36:13.231Z"
   },
   {
    "duration": 4,
    "start_time": "2022-02-02T14:36:13.252Z"
   },
   {
    "duration": 10,
    "start_time": "2022-02-02T14:36:13.258Z"
   },
   {
    "duration": 6,
    "start_time": "2022-02-02T14:36:13.269Z"
   },
   {
    "duration": 4,
    "start_time": "2022-02-02T14:36:13.312Z"
   },
   {
    "duration": 19,
    "start_time": "2022-02-02T14:36:13.318Z"
   },
   {
    "duration": 7,
    "start_time": "2022-02-02T14:36:13.339Z"
   },
   {
    "duration": 5,
    "start_time": "2022-02-02T14:36:13.348Z"
   },
   {
    "duration": 21,
    "start_time": "2022-02-02T14:36:13.355Z"
   },
   {
    "duration": 12,
    "start_time": "2022-02-02T14:36:13.413Z"
   },
   {
    "duration": 8,
    "start_time": "2022-02-02T14:36:13.427Z"
   },
   {
    "duration": 7,
    "start_time": "2022-02-02T14:36:13.437Z"
   },
   {
    "duration": 6,
    "start_time": "2022-02-02T14:36:13.446Z"
   },
   {
    "duration": 4,
    "start_time": "2022-02-02T14:36:13.454Z"
   },
   {
    "duration": 14,
    "start_time": "2022-02-02T14:36:13.461Z"
   },
   {
    "duration": 65,
    "start_time": "2022-02-02T14:36:13.476Z"
   },
   {
    "duration": 21,
    "start_time": "2022-02-02T14:36:13.543Z"
   },
   {
    "duration": 9,
    "start_time": "2022-02-02T14:36:13.566Z"
   },
   {
    "duration": 36,
    "start_time": "2022-02-02T14:36:13.577Z"
   },
   {
    "duration": 13,
    "start_time": "2022-02-02T14:36:13.615Z"
   },
   {
    "duration": 7,
    "start_time": "2022-02-02T14:36:13.630Z"
   },
   {
    "duration": 19,
    "start_time": "2022-02-02T14:36:13.639Z"
   },
   {
    "duration": 10,
    "start_time": "2022-02-02T14:36:13.660Z"
   },
   {
    "duration": 51,
    "start_time": "2022-02-02T14:36:13.672Z"
   },
   {
    "duration": 4,
    "start_time": "2022-02-02T14:36:13.725Z"
   },
   {
    "duration": 13,
    "start_time": "2022-02-02T14:36:13.731Z"
   },
   {
    "duration": 10,
    "start_time": "2022-02-02T14:36:13.745Z"
   },
   {
    "duration": 4,
    "start_time": "2022-02-02T14:36:13.756Z"
   },
   {
    "duration": 10,
    "start_time": "2022-02-02T14:36:13.762Z"
   },
   {
    "duration": 6,
    "start_time": "2022-02-02T14:36:13.774Z"
   },
   {
    "duration": 20,
    "start_time": "2022-02-02T14:36:13.812Z"
   },
   {
    "duration": 11,
    "start_time": "2022-02-02T14:36:13.834Z"
   },
   {
    "duration": 11,
    "start_time": "2022-02-02T14:36:13.847Z"
   },
   {
    "duration": 12,
    "start_time": "2022-02-02T14:36:13.860Z"
   },
   {
    "duration": 39,
    "start_time": "2022-02-02T14:36:13.874Z"
   },
   {
    "duration": 217,
    "start_time": "2022-02-02T14:36:13.915Z"
   },
   {
    "duration": 21,
    "start_time": "2022-02-02T14:36:14.134Z"
   },
   {
    "duration": 17,
    "start_time": "2022-02-02T14:36:14.159Z"
   },
   {
    "duration": 6,
    "start_time": "2022-02-02T14:36:14.178Z"
   },
   {
    "duration": 414,
    "start_time": "2022-02-02T14:36:14.186Z"
   },
   {
    "duration": 948,
    "start_time": "2022-02-02T14:37:01.830Z"
   },
   {
    "duration": 13,
    "start_time": "2022-02-02T14:37:40.374Z"
   },
   {
    "duration": 172,
    "start_time": "2022-02-02T14:37:43.501Z"
   },
   {
    "duration": 4,
    "start_time": "2022-02-02T14:38:22.086Z"
   },
   {
    "duration": 17,
    "start_time": "2022-02-02T14:38:24.453Z"
   },
   {
    "duration": 4,
    "start_time": "2022-02-02T14:38:59.910Z"
   },
   {
    "duration": 4,
    "start_time": "2022-02-02T14:39:03.014Z"
   },
   {
    "duration": 5,
    "start_time": "2022-02-02T14:39:06.630Z"
   },
   {
    "duration": 8,
    "start_time": "2022-02-02T14:39:08.372Z"
   },
   {
    "duration": 64,
    "start_time": "2022-02-02T14:39:29.221Z"
   },
   {
    "duration": 10,
    "start_time": "2022-02-02T14:39:34.325Z"
   },
   {
    "duration": 4,
    "start_time": "2022-02-02T14:39:36.126Z"
   },
   {
    "duration": 18,
    "start_time": "2022-02-02T14:39:38.501Z"
   },
   {
    "duration": 6,
    "start_time": "2022-02-02T14:39:44.907Z"
   },
   {
    "duration": 9,
    "start_time": "2022-02-02T14:39:47.013Z"
   },
   {
    "duration": 10,
    "start_time": "2022-02-02T14:39:50.693Z"
   },
   {
    "duration": 627,
    "start_time": "2022-02-02T14:39:57.533Z"
   },
   {
    "duration": 98,
    "start_time": "2022-02-02T14:39:58.162Z"
   },
   {
    "duration": 7,
    "start_time": "2022-02-02T14:39:58.262Z"
   },
   {
    "duration": 11,
    "start_time": "2022-02-02T14:39:58.271Z"
   },
   {
    "duration": 5,
    "start_time": "2022-02-02T14:39:58.284Z"
   },
   {
    "duration": 8,
    "start_time": "2022-02-02T14:39:58.291Z"
   },
   {
    "duration": 18,
    "start_time": "2022-02-02T14:39:58.301Z"
   },
   {
    "duration": 3,
    "start_time": "2022-02-02T14:39:58.321Z"
   },
   {
    "duration": 5,
    "start_time": "2022-02-02T14:39:58.326Z"
   },
   {
    "duration": 12,
    "start_time": "2022-02-02T14:39:58.332Z"
   },
   {
    "duration": 19,
    "start_time": "2022-02-02T14:39:58.345Z"
   },
   {
    "duration": 13,
    "start_time": "2022-02-02T14:39:58.365Z"
   },
   {
    "duration": 60,
    "start_time": "2022-02-02T14:39:58.380Z"
   },
   {
    "duration": 10,
    "start_time": "2022-02-02T14:39:58.442Z"
   },
   {
    "duration": 24,
    "start_time": "2022-02-02T14:39:58.453Z"
   },
   {
    "duration": 47,
    "start_time": "2022-02-02T14:39:58.478Z"
   },
   {
    "duration": 16,
    "start_time": "2022-02-02T14:39:58.528Z"
   },
   {
    "duration": 23,
    "start_time": "2022-02-02T14:39:58.546Z"
   },
   {
    "duration": 4,
    "start_time": "2022-02-02T14:39:58.571Z"
   },
   {
    "duration": 106,
    "start_time": "2022-02-02T14:39:58.577Z"
   },
   {
    "duration": 5,
    "start_time": "2022-02-02T14:39:58.684Z"
   },
   {
    "duration": 6,
    "start_time": "2022-02-02T14:39:58.691Z"
   },
   {
    "duration": 9,
    "start_time": "2022-02-02T14:39:58.715Z"
   },
   {
    "duration": 7,
    "start_time": "2022-02-02T14:39:58.727Z"
   },
   {
    "duration": 7,
    "start_time": "2022-02-02T14:39:58.736Z"
   },
   {
    "duration": 36,
    "start_time": "2022-02-02T14:39:58.745Z"
   },
   {
    "duration": 38,
    "start_time": "2022-02-02T14:39:58.783Z"
   },
   {
    "duration": 18,
    "start_time": "2022-02-02T14:39:58.822Z"
   },
   {
    "duration": 13,
    "start_time": "2022-02-02T14:39:58.842Z"
   },
   {
    "duration": 24,
    "start_time": "2022-02-02T14:39:58.857Z"
   },
   {
    "duration": 44,
    "start_time": "2022-02-02T14:39:58.883Z"
   },
   {
    "duration": 5,
    "start_time": "2022-02-02T14:39:58.929Z"
   },
   {
    "duration": 9,
    "start_time": "2022-02-02T14:39:58.936Z"
   },
   {
    "duration": 4,
    "start_time": "2022-02-02T14:39:58.947Z"
   },
   {
    "duration": 6,
    "start_time": "2022-02-02T14:39:58.953Z"
   },
   {
    "duration": 21,
    "start_time": "2022-02-02T14:39:58.960Z"
   },
   {
    "duration": 34,
    "start_time": "2022-02-02T14:39:58.983Z"
   },
   {
    "duration": 6,
    "start_time": "2022-02-02T14:39:59.019Z"
   },
   {
    "duration": 20,
    "start_time": "2022-02-02T14:39:59.027Z"
   },
   {
    "duration": 10,
    "start_time": "2022-02-02T14:39:59.049Z"
   },
   {
    "duration": 14,
    "start_time": "2022-02-02T14:39:59.061Z"
   },
   {
    "duration": 4,
    "start_time": "2022-02-02T14:39:59.077Z"
   },
   {
    "duration": 33,
    "start_time": "2022-02-02T14:39:59.082Z"
   },
   {
    "duration": 4,
    "start_time": "2022-02-02T14:39:59.117Z"
   },
   {
    "duration": 16,
    "start_time": "2022-02-02T14:39:59.122Z"
   },
   {
    "duration": 30,
    "start_time": "2022-02-02T14:39:59.140Z"
   },
   {
    "duration": 62,
    "start_time": "2022-02-02T14:39:59.172Z"
   },
   {
    "duration": 49,
    "start_time": "2022-02-02T14:39:59.237Z"
   },
   {
    "duration": 15,
    "start_time": "2022-02-02T14:39:59.288Z"
   },
   {
    "duration": 45,
    "start_time": "2022-02-02T14:39:59.305Z"
   },
   {
    "duration": 16,
    "start_time": "2022-02-02T14:39:59.352Z"
   },
   {
    "duration": 25,
    "start_time": "2022-02-02T14:39:59.370Z"
   },
   {
    "duration": 24,
    "start_time": "2022-02-02T14:39:59.397Z"
   },
   {
    "duration": 84,
    "start_time": "2022-02-02T14:39:59.423Z"
   },
   {
    "duration": 33,
    "start_time": "2022-02-02T14:39:59.509Z"
   },
   {
    "duration": 8,
    "start_time": "2022-02-02T14:39:59.544Z"
   },
   {
    "duration": 19,
    "start_time": "2022-02-02T14:39:59.554Z"
   },
   {
    "duration": 25,
    "start_time": "2022-02-02T14:39:59.575Z"
   },
   {
    "duration": 4,
    "start_time": "2022-02-02T14:39:59.601Z"
   },
   {
    "duration": 18,
    "start_time": "2022-02-02T14:39:59.607Z"
   },
   {
    "duration": 26,
    "start_time": "2022-02-02T14:39:59.627Z"
   },
   {
    "duration": 37,
    "start_time": "2022-02-02T14:39:59.655Z"
   },
   {
    "duration": 12,
    "start_time": "2022-02-02T14:39:59.693Z"
   },
   {
    "duration": 11,
    "start_time": "2022-02-02T14:39:59.707Z"
   },
   {
    "duration": 13,
    "start_time": "2022-02-02T14:39:59.720Z"
   },
   {
    "duration": 19,
    "start_time": "2022-02-02T14:39:59.734Z"
   },
   {
    "duration": 211,
    "start_time": "2022-02-02T14:39:59.754Z"
   },
   {
    "duration": 20,
    "start_time": "2022-02-02T14:39:59.969Z"
   },
   {
    "duration": 32,
    "start_time": "2022-02-02T14:39:59.991Z"
   },
   {
    "duration": 14,
    "start_time": "2022-02-02T14:40:00.025Z"
   },
   {
    "duration": 390,
    "start_time": "2022-02-02T14:40:00.041Z"
   },
   {
    "duration": 8,
    "start_time": "2022-02-02T14:40:26.582Z"
   },
   {
    "duration": 17,
    "start_time": "2022-02-02T14:40:28.294Z"
   },
   {
    "duration": 5,
    "start_time": "2022-02-02T14:40:36.103Z"
   },
   {
    "duration": 8,
    "start_time": "2022-02-02T14:40:41.039Z"
   },
   {
    "duration": 657,
    "start_time": "2022-02-02T14:40:50.913Z"
   },
   {
    "duration": 97,
    "start_time": "2022-02-02T14:40:51.572Z"
   },
   {
    "duration": 6,
    "start_time": "2022-02-02T14:40:51.672Z"
   },
   {
    "duration": 17,
    "start_time": "2022-02-02T14:40:51.680Z"
   },
   {
    "duration": 5,
    "start_time": "2022-02-02T14:40:51.699Z"
   },
   {
    "duration": 11,
    "start_time": "2022-02-02T14:40:51.705Z"
   },
   {
    "duration": 15,
    "start_time": "2022-02-02T14:40:51.717Z"
   },
   {
    "duration": 3,
    "start_time": "2022-02-02T14:40:51.734Z"
   },
   {
    "duration": 6,
    "start_time": "2022-02-02T14:40:51.739Z"
   },
   {
    "duration": 16,
    "start_time": "2022-02-02T14:40:51.747Z"
   },
   {
    "duration": 19,
    "start_time": "2022-02-02T14:40:51.765Z"
   },
   {
    "duration": 35,
    "start_time": "2022-02-02T14:40:51.786Z"
   },
   {
    "duration": 27,
    "start_time": "2022-02-02T14:40:51.822Z"
   },
   {
    "duration": 9,
    "start_time": "2022-02-02T14:40:51.851Z"
   },
   {
    "duration": 24,
    "start_time": "2022-02-02T14:40:51.861Z"
   },
   {
    "duration": 42,
    "start_time": "2022-02-02T14:40:51.887Z"
   },
   {
    "duration": 9,
    "start_time": "2022-02-02T14:40:51.931Z"
   },
   {
    "duration": 27,
    "start_time": "2022-02-02T14:40:51.942Z"
   },
   {
    "duration": 4,
    "start_time": "2022-02-02T14:40:51.970Z"
   },
   {
    "duration": 84,
    "start_time": "2022-02-02T14:40:51.976Z"
   },
   {
    "duration": 5,
    "start_time": "2022-02-02T14:40:52.062Z"
   },
   {
    "duration": 13,
    "start_time": "2022-02-02T14:40:52.068Z"
   },
   {
    "duration": 10,
    "start_time": "2022-02-02T14:40:52.083Z"
   },
   {
    "duration": 19,
    "start_time": "2022-02-02T14:40:52.094Z"
   },
   {
    "duration": 3,
    "start_time": "2022-02-02T14:40:52.115Z"
   },
   {
    "duration": 27,
    "start_time": "2022-02-02T14:40:52.120Z"
   },
   {
    "duration": 12,
    "start_time": "2022-02-02T14:40:52.151Z"
   },
   {
    "duration": 14,
    "start_time": "2022-02-02T14:40:52.165Z"
   },
   {
    "duration": 36,
    "start_time": "2022-02-02T14:40:52.181Z"
   },
   {
    "duration": 29,
    "start_time": "2022-02-02T14:40:52.219Z"
   },
   {
    "duration": 17,
    "start_time": "2022-02-02T14:40:52.249Z"
   },
   {
    "duration": 4,
    "start_time": "2022-02-02T14:40:52.268Z"
   },
   {
    "duration": 10,
    "start_time": "2022-02-02T14:40:52.273Z"
   },
   {
    "duration": 5,
    "start_time": "2022-02-02T14:40:52.312Z"
   },
   {
    "duration": 6,
    "start_time": "2022-02-02T14:40:52.319Z"
   },
   {
    "duration": 18,
    "start_time": "2022-02-02T14:40:52.327Z"
   },
   {
    "duration": 5,
    "start_time": "2022-02-02T14:40:52.347Z"
   },
   {
    "duration": 9,
    "start_time": "2022-02-02T14:40:52.353Z"
   },
   {
    "duration": 20,
    "start_time": "2022-02-02T14:40:52.364Z"
   },
   {
    "duration": 31,
    "start_time": "2022-02-02T14:40:52.386Z"
   },
   {
    "duration": 9,
    "start_time": "2022-02-02T14:40:52.418Z"
   },
   {
    "duration": 8,
    "start_time": "2022-02-02T14:40:52.429Z"
   },
   {
    "duration": 7,
    "start_time": "2022-02-02T14:40:52.438Z"
   },
   {
    "duration": 3,
    "start_time": "2022-02-02T14:40:52.447Z"
   },
   {
    "duration": 18,
    "start_time": "2022-02-02T14:40:52.452Z"
   },
   {
    "duration": 60,
    "start_time": "2022-02-02T14:40:52.471Z"
   },
   {
    "duration": 20,
    "start_time": "2022-02-02T14:40:52.533Z"
   },
   {
    "duration": 8,
    "start_time": "2022-02-02T14:40:52.555Z"
   },
   {
    "duration": 8,
    "start_time": "2022-02-02T14:40:52.564Z"
   },
   {
    "duration": 20,
    "start_time": "2022-02-02T14:40:52.574Z"
   },
   {
    "duration": 6,
    "start_time": "2022-02-02T14:40:52.612Z"
   },
   {
    "duration": 18,
    "start_time": "2022-02-02T14:40:52.621Z"
   },
   {
    "duration": 7,
    "start_time": "2022-02-02T14:40:52.640Z"
   },
   {
    "duration": 18,
    "start_time": "2022-02-02T14:40:52.648Z"
   },
   {
    "duration": 7,
    "start_time": "2022-02-02T14:40:52.668Z"
   },
   {
    "duration": 42,
    "start_time": "2022-02-02T14:40:52.676Z"
   },
   {
    "duration": 4,
    "start_time": "2022-02-02T14:40:52.719Z"
   },
   {
    "duration": 9,
    "start_time": "2022-02-02T14:40:52.725Z"
   },
   {
    "duration": 5,
    "start_time": "2022-02-02T14:40:52.736Z"
   },
   {
    "duration": 24,
    "start_time": "2022-02-02T14:40:52.743Z"
   },
   {
    "duration": 44,
    "start_time": "2022-02-02T14:40:52.769Z"
   },
   {
    "duration": 12,
    "start_time": "2022-02-02T14:40:52.814Z"
   },
   {
    "duration": 13,
    "start_time": "2022-02-02T14:40:52.828Z"
   },
   {
    "duration": 6,
    "start_time": "2022-02-02T14:40:52.842Z"
   },
   {
    "duration": 228,
    "start_time": "2022-02-02T14:40:52.849Z"
   },
   {
    "duration": 33,
    "start_time": "2022-02-02T14:40:53.079Z"
   },
   {
    "duration": 17,
    "start_time": "2022-02-02T14:40:53.114Z"
   },
   {
    "duration": 44,
    "start_time": "2022-02-02T14:40:53.132Z"
   },
   {
    "duration": 368,
    "start_time": "2022-02-02T14:40:53.178Z"
   },
   {
    "duration": 34,
    "start_time": "2022-02-02T14:53:58.641Z"
   },
   {
    "duration": 13,
    "start_time": "2022-02-02T14:56:00.323Z"
   },
   {
    "duration": 31,
    "start_time": "2022-02-02T14:56:13.083Z"
   },
   {
    "duration": 7,
    "start_time": "2022-02-02T15:33:06.947Z"
   },
   {
    "duration": 5,
    "start_time": "2022-02-02T15:33:09.193Z"
   },
   {
    "duration": 8,
    "start_time": "2022-02-02T15:33:25.009Z"
   },
   {
    "duration": 4,
    "start_time": "2022-02-02T15:33:26.809Z"
   },
   {
    "duration": 4,
    "start_time": "2022-02-02T15:33:30.346Z"
   },
   {
    "duration": 7,
    "start_time": "2022-02-02T15:33:38.817Z"
   },
   {
    "duration": 5,
    "start_time": "2022-02-02T15:33:40.472Z"
   },
   {
    "duration": 643,
    "start_time": "2022-02-02T15:33:45.617Z"
   },
   {
    "duration": 129,
    "start_time": "2022-02-02T15:33:46.262Z"
   },
   {
    "duration": 6,
    "start_time": "2022-02-02T15:33:46.394Z"
   },
   {
    "duration": 10,
    "start_time": "2022-02-02T15:33:46.402Z"
   },
   {
    "duration": 5,
    "start_time": "2022-02-02T15:33:46.414Z"
   },
   {
    "duration": 8,
    "start_time": "2022-02-02T15:33:46.421Z"
   },
   {
    "duration": 18,
    "start_time": "2022-02-02T15:33:46.431Z"
   },
   {
    "duration": 4,
    "start_time": "2022-02-02T15:33:46.451Z"
   },
   {
    "duration": 4,
    "start_time": "2022-02-02T15:33:46.457Z"
   },
   {
    "duration": 17,
    "start_time": "2022-02-02T15:33:46.463Z"
   },
   {
    "duration": 42,
    "start_time": "2022-02-02T15:33:46.481Z"
   },
   {
    "duration": 13,
    "start_time": "2022-02-02T15:33:46.524Z"
   },
   {
    "duration": 26,
    "start_time": "2022-02-02T15:33:46.539Z"
   },
   {
    "duration": 8,
    "start_time": "2022-02-02T15:33:46.567Z"
   },
   {
    "duration": 48,
    "start_time": "2022-02-02T15:33:46.576Z"
   },
   {
    "duration": 19,
    "start_time": "2022-02-02T15:33:46.625Z"
   },
   {
    "duration": 10,
    "start_time": "2022-02-02T15:33:46.646Z"
   },
   {
    "duration": 23,
    "start_time": "2022-02-02T15:33:46.657Z"
   },
   {
    "duration": 31,
    "start_time": "2022-02-02T15:33:46.681Z"
   },
   {
    "duration": 59,
    "start_time": "2022-02-02T15:33:46.714Z"
   },
   {
    "duration": 5,
    "start_time": "2022-02-02T15:33:46.774Z"
   },
   {
    "duration": 5,
    "start_time": "2022-02-02T15:33:46.781Z"
   },
   {
    "duration": 29,
    "start_time": "2022-02-02T15:33:46.789Z"
   },
   {
    "duration": 6,
    "start_time": "2022-02-02T15:33:46.821Z"
   },
   {
    "duration": 4,
    "start_time": "2022-02-02T15:33:46.829Z"
   },
   {
    "duration": 27,
    "start_time": "2022-02-02T15:33:46.834Z"
   },
   {
    "duration": 12,
    "start_time": "2022-02-02T15:33:46.863Z"
   },
   {
    "duration": 50,
    "start_time": "2022-02-02T15:33:46.876Z"
   },
   {
    "duration": 11,
    "start_time": "2022-02-02T15:33:46.927Z"
   },
   {
    "duration": 27,
    "start_time": "2022-02-02T15:33:46.939Z"
   },
   {
    "duration": 17,
    "start_time": "2022-02-02T15:33:46.967Z"
   },
   {
    "duration": 26,
    "start_time": "2022-02-02T15:33:46.986Z"
   },
   {
    "duration": 8,
    "start_time": "2022-02-02T15:33:47.013Z"
   },
   {
    "duration": 5,
    "start_time": "2022-02-02T15:33:47.023Z"
   },
   {
    "duration": 6,
    "start_time": "2022-02-02T15:33:47.029Z"
   },
   {
    "duration": 18,
    "start_time": "2022-02-02T15:33:47.037Z"
   },
   {
    "duration": 6,
    "start_time": "2022-02-02T15:33:47.056Z"
   },
   {
    "duration": 5,
    "start_time": "2022-02-02T15:33:47.063Z"
   },
   {
    "duration": 49,
    "start_time": "2022-02-02T15:33:47.070Z"
   },
   {
    "duration": 9,
    "start_time": "2022-02-02T15:33:47.121Z"
   },
   {
    "duration": 8,
    "start_time": "2022-02-02T15:33:47.132Z"
   },
   {
    "duration": 17,
    "start_time": "2022-02-02T15:33:47.142Z"
   },
   {
    "duration": 11,
    "start_time": "2022-02-02T15:33:47.161Z"
   },
   {
    "duration": 4,
    "start_time": "2022-02-02T15:33:47.173Z"
   },
   {
    "duration": 16,
    "start_time": "2022-02-02T15:33:47.179Z"
   },
   {
    "duration": 40,
    "start_time": "2022-02-02T15:33:47.197Z"
   },
   {
    "duration": 19,
    "start_time": "2022-02-02T15:33:47.239Z"
   },
   {
    "duration": 9,
    "start_time": "2022-02-02T15:33:47.260Z"
   },
   {
    "duration": 4,
    "start_time": "2022-02-02T15:33:47.271Z"
   },
   {
    "duration": 37,
    "start_time": "2022-02-02T15:33:47.276Z"
   },
   {
    "duration": 4,
    "start_time": "2022-02-02T15:33:47.315Z"
   },
   {
    "duration": 19,
    "start_time": "2022-02-02T15:33:47.321Z"
   },
   {
    "duration": 8,
    "start_time": "2022-02-02T15:33:47.341Z"
   },
   {
    "duration": 19,
    "start_time": "2022-02-02T15:33:47.350Z"
   },
   {
    "duration": 7,
    "start_time": "2022-02-02T15:33:47.370Z"
   },
   {
    "duration": 37,
    "start_time": "2022-02-02T15:33:47.379Z"
   },
   {
    "duration": 3,
    "start_time": "2022-02-02T15:33:47.418Z"
   },
   {
    "duration": 10,
    "start_time": "2022-02-02T15:33:47.423Z"
   },
   {
    "duration": 7,
    "start_time": "2022-02-02T15:33:47.435Z"
   },
   {
    "duration": 21,
    "start_time": "2022-02-02T15:33:47.444Z"
   },
   {
    "duration": 11,
    "start_time": "2022-02-02T15:33:47.467Z"
   },
   {
    "duration": 41,
    "start_time": "2022-02-02T15:33:47.480Z"
   },
   {
    "duration": 11,
    "start_time": "2022-02-02T15:33:47.523Z"
   },
   {
    "duration": 5,
    "start_time": "2022-02-02T15:33:47.536Z"
   },
   {
    "duration": 224,
    "start_time": "2022-02-02T15:33:47.543Z"
   },
   {
    "duration": 20,
    "start_time": "2022-02-02T15:33:47.768Z"
   },
   {
    "duration": 33,
    "start_time": "2022-02-02T15:33:47.789Z"
   },
   {
    "duration": 5,
    "start_time": "2022-02-02T15:33:47.827Z"
   },
   {
    "duration": 390,
    "start_time": "2022-02-02T15:33:47.834Z"
   },
   {
    "duration": 4,
    "start_time": "2022-02-02T15:34:40.418Z"
   },
   {
    "duration": 18,
    "start_time": "2022-02-02T15:34:42.283Z"
   },
   {
    "duration": 9,
    "start_time": "2022-02-02T15:34:52.457Z"
   },
   {
    "duration": 673,
    "start_time": "2022-02-02T15:34:58.543Z"
   },
   {
    "duration": 113,
    "start_time": "2022-02-02T15:34:59.217Z"
   },
   {
    "duration": 8,
    "start_time": "2022-02-02T15:34:59.333Z"
   },
   {
    "duration": 11,
    "start_time": "2022-02-02T15:34:59.343Z"
   },
   {
    "duration": 5,
    "start_time": "2022-02-02T15:34:59.356Z"
   },
   {
    "duration": 10,
    "start_time": "2022-02-02T15:34:59.364Z"
   },
   {
    "duration": 42,
    "start_time": "2022-02-02T15:34:59.375Z"
   },
   {
    "duration": 4,
    "start_time": "2022-02-02T15:34:59.420Z"
   },
   {
    "duration": 8,
    "start_time": "2022-02-02T15:34:59.426Z"
   },
   {
    "duration": 15,
    "start_time": "2022-02-02T15:34:59.436Z"
   },
   {
    "duration": 20,
    "start_time": "2022-02-02T15:34:59.453Z"
   },
   {
    "duration": 46,
    "start_time": "2022-02-02T15:34:59.474Z"
   },
   {
    "duration": 27,
    "start_time": "2022-02-02T15:34:59.521Z"
   },
   {
    "duration": 8,
    "start_time": "2022-02-02T15:34:59.550Z"
   },
   {
    "duration": 20,
    "start_time": "2022-02-02T15:34:59.560Z"
   },
   {
    "duration": 45,
    "start_time": "2022-02-02T15:34:59.582Z"
   },
   {
    "duration": 10,
    "start_time": "2022-02-02T15:34:59.629Z"
   },
   {
    "duration": 25,
    "start_time": "2022-02-02T15:34:59.641Z"
   },
   {
    "duration": 4,
    "start_time": "2022-02-02T15:34:59.667Z"
   },
   {
    "duration": 84,
    "start_time": "2022-02-02T15:34:59.673Z"
   },
   {
    "duration": 4,
    "start_time": "2022-02-02T15:34:59.760Z"
   },
   {
    "duration": 6,
    "start_time": "2022-02-02T15:34:59.766Z"
   },
   {
    "duration": 8,
    "start_time": "2022-02-02T15:34:59.777Z"
   },
   {
    "duration": 25,
    "start_time": "2022-02-02T15:34:59.787Z"
   },
   {
    "duration": 4,
    "start_time": "2022-02-02T15:34:59.814Z"
   },
   {
    "duration": 26,
    "start_time": "2022-02-02T15:34:59.819Z"
   },
   {
    "duration": 11,
    "start_time": "2022-02-02T15:34:59.847Z"
   },
   {
    "duration": 15,
    "start_time": "2022-02-02T15:34:59.860Z"
   },
   {
    "duration": 40,
    "start_time": "2022-02-02T15:34:59.877Z"
   },
   {
    "duration": 22,
    "start_time": "2022-02-02T15:34:59.918Z"
   },
   {
    "duration": 16,
    "start_time": "2022-02-02T15:34:59.942Z"
   },
   {
    "duration": 5,
    "start_time": "2022-02-02T15:34:59.960Z"
   },
   {
    "duration": 12,
    "start_time": "2022-02-02T15:34:59.967Z"
   },
   {
    "duration": 36,
    "start_time": "2022-02-02T15:34:59.980Z"
   },
   {
    "duration": 39,
    "start_time": "2022-02-02T15:35:00.017Z"
   },
   {
    "duration": 43,
    "start_time": "2022-02-02T15:35:00.057Z"
   },
   {
    "duration": 43,
    "start_time": "2022-02-02T15:35:00.102Z"
   },
   {
    "duration": 20,
    "start_time": "2022-02-02T15:35:00.147Z"
   },
   {
    "duration": 29,
    "start_time": "2022-02-02T15:35:00.169Z"
   },
   {
    "duration": 10,
    "start_time": "2022-02-02T15:35:00.200Z"
   },
   {
    "duration": 16,
    "start_time": "2022-02-02T15:35:00.211Z"
   },
   {
    "duration": 7,
    "start_time": "2022-02-02T15:35:00.229Z"
   },
   {
    "duration": 29,
    "start_time": "2022-02-02T15:35:00.238Z"
   },
   {
    "duration": 17,
    "start_time": "2022-02-02T15:35:00.269Z"
   },
   {
    "duration": 40,
    "start_time": "2022-02-02T15:35:00.287Z"
   },
   {
    "duration": 45,
    "start_time": "2022-02-02T15:35:00.329Z"
   },
   {
    "duration": 21,
    "start_time": "2022-02-02T15:35:00.375Z"
   },
   {
    "duration": 8,
    "start_time": "2022-02-02T15:35:00.398Z"
   },
   {
    "duration": 32,
    "start_time": "2022-02-02T15:35:00.407Z"
   },
   {
    "duration": 25,
    "start_time": "2022-02-02T15:35:00.441Z"
   },
   {
    "duration": 12,
    "start_time": "2022-02-02T15:35:00.468Z"
   },
   {
    "duration": 22,
    "start_time": "2022-02-02T15:35:00.482Z"
   },
   {
    "duration": 12,
    "start_time": "2022-02-02T15:35:00.506Z"
   },
   {
    "duration": 31,
    "start_time": "2022-02-02T15:35:00.520Z"
   },
   {
    "duration": 25,
    "start_time": "2022-02-02T15:35:00.552Z"
   },
   {
    "duration": 7,
    "start_time": "2022-02-02T15:35:00.579Z"
   },
   {
    "duration": 11,
    "start_time": "2022-02-02T15:35:00.588Z"
   },
   {
    "duration": 21,
    "start_time": "2022-02-02T15:35:00.601Z"
   },
   {
    "duration": 31,
    "start_time": "2022-02-02T15:35:00.624Z"
   },
   {
    "duration": 20,
    "start_time": "2022-02-02T15:35:00.657Z"
   },
   {
    "duration": 40,
    "start_time": "2022-02-02T15:35:00.679Z"
   },
   {
    "duration": 15,
    "start_time": "2022-02-02T15:35:00.721Z"
   },
   {
    "duration": 23,
    "start_time": "2022-02-02T15:35:00.738Z"
   },
   {
    "duration": 23,
    "start_time": "2022-02-02T15:35:00.763Z"
   },
   {
    "duration": 12,
    "start_time": "2022-02-02T15:35:00.788Z"
   },
   {
    "duration": 212,
    "start_time": "2022-02-02T15:35:00.802Z"
   },
   {
    "duration": 20,
    "start_time": "2022-02-02T15:35:01.016Z"
   },
   {
    "duration": 16,
    "start_time": "2022-02-02T15:35:01.040Z"
   },
   {
    "duration": 6,
    "start_time": "2022-02-02T15:35:01.057Z"
   },
   {
    "duration": 416,
    "start_time": "2022-02-02T15:35:01.064Z"
   },
   {
    "duration": 830,
    "start_time": "2022-02-02T15:36:54.219Z"
   },
   {
    "duration": 755,
    "start_time": "2022-02-02T15:38:51.459Z"
   },
   {
    "duration": 741,
    "start_time": "2022-02-02T15:39:48.411Z"
   },
   {
    "duration": 8,
    "start_time": "2022-02-02T15:39:57.811Z"
   },
   {
    "duration": 16,
    "start_time": "2022-02-02T15:40:00.210Z"
   },
   {
    "duration": 861,
    "start_time": "2022-02-02T15:40:26.058Z"
   },
   {
    "duration": 1204,
    "start_time": "2022-02-02T15:41:14.838Z"
   },
   {
    "duration": 598,
    "start_time": "2022-02-02T15:41:22.766Z"
   },
   {
    "duration": 107,
    "start_time": "2022-02-02T15:41:23.365Z"
   },
   {
    "duration": 6,
    "start_time": "2022-02-02T15:41:23.473Z"
   },
   {
    "duration": 21,
    "start_time": "2022-02-02T15:41:23.481Z"
   },
   {
    "duration": 5,
    "start_time": "2022-02-02T15:41:23.503Z"
   },
   {
    "duration": 10,
    "start_time": "2022-02-02T15:41:23.510Z"
   },
   {
    "duration": 18,
    "start_time": "2022-02-02T15:41:23.521Z"
   },
   {
    "duration": 3,
    "start_time": "2022-02-02T15:41:23.541Z"
   },
   {
    "duration": 14,
    "start_time": "2022-02-02T15:41:23.546Z"
   },
   {
    "duration": 17,
    "start_time": "2022-02-02T15:41:23.561Z"
   },
   {
    "duration": 20,
    "start_time": "2022-02-02T15:41:23.580Z"
   },
   {
    "duration": 12,
    "start_time": "2022-02-02T15:41:23.613Z"
   },
   {
    "duration": 27,
    "start_time": "2022-02-02T15:41:23.626Z"
   },
   {
    "duration": 8,
    "start_time": "2022-02-02T15:41:23.655Z"
   },
   {
    "duration": 48,
    "start_time": "2022-02-02T15:41:23.665Z"
   },
   {
    "duration": 19,
    "start_time": "2022-02-02T15:41:23.715Z"
   },
   {
    "duration": 10,
    "start_time": "2022-02-02T15:41:23.735Z"
   },
   {
    "duration": 23,
    "start_time": "2022-02-02T15:41:23.746Z"
   },
   {
    "duration": 4,
    "start_time": "2022-02-02T15:41:23.770Z"
   },
   {
    "duration": 87,
    "start_time": "2022-02-02T15:41:23.776Z"
   },
   {
    "duration": 6,
    "start_time": "2022-02-02T15:41:23.864Z"
   },
   {
    "duration": 6,
    "start_time": "2022-02-02T15:41:23.871Z"
   },
   {
    "duration": 8,
    "start_time": "2022-02-02T15:41:23.880Z"
   },
   {
    "duration": 25,
    "start_time": "2022-02-02T15:41:23.891Z"
   },
   {
    "duration": 5,
    "start_time": "2022-02-02T15:41:23.917Z"
   },
   {
    "duration": 26,
    "start_time": "2022-02-02T15:41:23.923Z"
   },
   {
    "duration": 12,
    "start_time": "2022-02-02T15:41:23.950Z"
   },
   {
    "duration": 15,
    "start_time": "2022-02-02T15:41:23.964Z"
   },
   {
    "duration": 36,
    "start_time": "2022-02-02T15:41:23.981Z"
   },
   {
    "duration": 23,
    "start_time": "2022-02-02T15:41:24.019Z"
   },
   {
    "duration": 18,
    "start_time": "2022-02-02T15:41:24.044Z"
   },
   {
    "duration": 5,
    "start_time": "2022-02-02T15:41:24.064Z"
   },
   {
    "duration": 9,
    "start_time": "2022-02-02T15:41:24.071Z"
   },
   {
    "duration": 31,
    "start_time": "2022-02-02T15:41:24.082Z"
   },
   {
    "duration": 5,
    "start_time": "2022-02-02T15:41:24.115Z"
   },
   {
    "duration": 20,
    "start_time": "2022-02-02T15:41:24.122Z"
   },
   {
    "duration": 4,
    "start_time": "2022-02-02T15:41:24.144Z"
   },
   {
    "duration": 5,
    "start_time": "2022-02-02T15:41:24.150Z"
   },
   {
    "duration": 23,
    "start_time": "2022-02-02T15:41:24.157Z"
   },
   {
    "duration": 33,
    "start_time": "2022-02-02T15:41:24.181Z"
   },
   {
    "duration": 9,
    "start_time": "2022-02-02T15:41:24.216Z"
   },
   {
    "duration": 5,
    "start_time": "2022-02-02T15:41:24.226Z"
   },
   {
    "duration": 6,
    "start_time": "2022-02-02T15:41:24.233Z"
   },
   {
    "duration": 4,
    "start_time": "2022-02-02T15:41:24.241Z"
   },
   {
    "duration": 15,
    "start_time": "2022-02-02T15:41:24.246Z"
   },
   {
    "duration": 62,
    "start_time": "2022-02-02T15:41:24.262Z"
   },
   {
    "duration": 23,
    "start_time": "2022-02-02T15:41:24.326Z"
   },
   {
    "duration": 8,
    "start_time": "2022-02-02T15:41:24.350Z"
   },
   {
    "duration": 5,
    "start_time": "2022-02-02T15:41:24.360Z"
   },
   {
    "duration": 13,
    "start_time": "2022-02-02T15:41:24.366Z"
   },
   {
    "duration": 34,
    "start_time": "2022-02-02T15:41:24.381Z"
   },
   {
    "duration": 22,
    "start_time": "2022-02-02T15:41:24.416Z"
   },
   {
    "duration": 2,
    "start_time": "2022-02-02T15:41:24.439Z"
   },
   {
    "duration": 9,
    "start_time": "2022-02-02T15:41:24.443Z"
   },
   {
    "duration": 17,
    "start_time": "2022-02-02T15:41:24.454Z"
   },
   {
    "duration": 40,
    "start_time": "2022-02-02T15:41:24.473Z"
   },
   {
    "duration": 12,
    "start_time": "2022-02-02T15:41:24.515Z"
   },
   {
    "duration": 4,
    "start_time": "2022-02-02T15:41:24.528Z"
   },
   {
    "duration": 10,
    "start_time": "2022-02-02T15:41:24.534Z"
   },
   {
    "duration": 7,
    "start_time": "2022-02-02T15:41:24.545Z"
   },
   {
    "duration": 20,
    "start_time": "2022-02-02T15:41:24.554Z"
   },
   {
    "duration": 48,
    "start_time": "2022-02-02T15:41:24.576Z"
   },
   {
    "duration": 11,
    "start_time": "2022-02-02T15:41:24.626Z"
   },
   {
    "duration": 16,
    "start_time": "2022-02-02T15:41:24.639Z"
   },
   {
    "duration": 16,
    "start_time": "2022-02-02T15:41:24.657Z"
   },
   {
    "duration": 273,
    "start_time": "2022-02-02T15:41:24.675Z"
   },
   {
    "duration": 6108,
    "start_time": "2022-02-02T15:41:18.842Z"
   },
   {
    "duration": 6107,
    "start_time": "2022-02-02T15:41:18.844Z"
   },
   {
    "duration": 6106,
    "start_time": "2022-02-02T15:41:18.847Z"
   },
   {
    "duration": 6102,
    "start_time": "2022-02-02T15:41:18.852Z"
   },
   {
    "duration": 851,
    "start_time": "2022-02-02T15:42:27.561Z"
   },
   {
    "duration": 853,
    "start_time": "2022-02-02T15:42:37.161Z"
   },
   {
    "duration": 5,
    "start_time": "2022-02-02T15:43:21.712Z"
   },
   {
    "duration": 18,
    "start_time": "2022-02-02T15:43:25.129Z"
   },
   {
    "duration": 624,
    "start_time": "2022-02-02T15:43:41.810Z"
   },
   {
    "duration": 127,
    "start_time": "2022-02-02T15:43:42.436Z"
   },
   {
    "duration": 5,
    "start_time": "2022-02-02T15:43:42.565Z"
   },
   {
    "duration": 11,
    "start_time": "2022-02-02T15:43:42.572Z"
   },
   {
    "duration": 5,
    "start_time": "2022-02-02T15:43:42.584Z"
   },
   {
    "duration": 11,
    "start_time": "2022-02-02T15:43:42.590Z"
   },
   {
    "duration": 15,
    "start_time": "2022-02-02T15:43:42.602Z"
   },
   {
    "duration": 3,
    "start_time": "2022-02-02T15:43:42.620Z"
   },
   {
    "duration": 5,
    "start_time": "2022-02-02T15:43:42.625Z"
   },
   {
    "duration": 12,
    "start_time": "2022-02-02T15:43:42.631Z"
   },
   {
    "duration": 19,
    "start_time": "2022-02-02T15:43:42.645Z"
   },
   {
    "duration": 11,
    "start_time": "2022-02-02T15:43:42.665Z"
   },
   {
    "duration": 55,
    "start_time": "2022-02-02T15:43:42.677Z"
   },
   {
    "duration": 8,
    "start_time": "2022-02-02T15:43:42.733Z"
   },
   {
    "duration": 20,
    "start_time": "2022-02-02T15:43:42.743Z"
   },
   {
    "duration": 47,
    "start_time": "2022-02-02T15:43:42.765Z"
   },
   {
    "duration": 11,
    "start_time": "2022-02-02T15:43:42.814Z"
   },
   {
    "duration": 34,
    "start_time": "2022-02-02T15:43:42.827Z"
   },
   {
    "duration": 4,
    "start_time": "2022-02-02T15:43:42.863Z"
   },
   {
    "duration": 79,
    "start_time": "2022-02-02T15:43:42.869Z"
   },
   {
    "duration": 5,
    "start_time": "2022-02-02T15:43:42.949Z"
   },
   {
    "duration": 8,
    "start_time": "2022-02-02T15:43:42.955Z"
   },
   {
    "duration": 8,
    "start_time": "2022-02-02T15:43:42.967Z"
   },
   {
    "duration": 10,
    "start_time": "2022-02-02T15:43:42.978Z"
   },
   {
    "duration": 24,
    "start_time": "2022-02-02T15:43:42.989Z"
   },
   {
    "duration": 23,
    "start_time": "2022-02-02T15:43:43.014Z"
   },
   {
    "duration": 12,
    "start_time": "2022-02-02T15:43:43.039Z"
   },
   {
    "duration": 20,
    "start_time": "2022-02-02T15:43:43.053Z"
   },
   {
    "duration": 15,
    "start_time": "2022-02-02T15:43:43.075Z"
   },
   {
    "duration": 41,
    "start_time": "2022-02-02T15:43:43.091Z"
   },
   {
    "duration": 20,
    "start_time": "2022-02-02T15:43:43.134Z"
   },
   {
    "duration": 4,
    "start_time": "2022-02-02T15:43:43.156Z"
   },
   {
    "duration": 11,
    "start_time": "2022-02-02T15:43:43.162Z"
   },
   {
    "duration": 43,
    "start_time": "2022-02-02T15:43:43.175Z"
   },
   {
    "duration": 5,
    "start_time": "2022-02-02T15:43:43.220Z"
   },
   {
    "duration": 18,
    "start_time": "2022-02-02T15:43:43.227Z"
   },
   {
    "duration": 6,
    "start_time": "2022-02-02T15:43:43.247Z"
   },
   {
    "duration": 6,
    "start_time": "2022-02-02T15:43:43.254Z"
   },
   {
    "duration": 51,
    "start_time": "2022-02-02T15:43:43.261Z"
   },
   {
    "duration": 9,
    "start_time": "2022-02-02T15:43:43.314Z"
   },
   {
    "duration": 10,
    "start_time": "2022-02-02T15:43:43.325Z"
   },
   {
    "duration": 12,
    "start_time": "2022-02-02T15:43:43.336Z"
   },
   {
    "duration": 12,
    "start_time": "2022-02-02T15:43:43.350Z"
   },
   {
    "duration": 4,
    "start_time": "2022-02-02T15:43:43.364Z"
   },
   {
    "duration": 16,
    "start_time": "2022-02-02T15:43:43.369Z"
   },
   {
    "duration": 42,
    "start_time": "2022-02-02T15:43:43.386Z"
   },
   {
    "duration": 20,
    "start_time": "2022-02-02T15:43:43.430Z"
   },
   {
    "duration": 10,
    "start_time": "2022-02-02T15:43:43.452Z"
   },
   {
    "duration": 4,
    "start_time": "2022-02-02T15:43:43.463Z"
   },
   {
    "duration": 11,
    "start_time": "2022-02-02T15:43:43.469Z"
   },
   {
    "duration": 33,
    "start_time": "2022-02-02T15:43:43.482Z"
   },
   {
    "duration": 19,
    "start_time": "2022-02-02T15:43:43.516Z"
   },
   {
    "duration": 2,
    "start_time": "2022-02-02T15:43:43.536Z"
   },
   {
    "duration": 9,
    "start_time": "2022-02-02T15:43:43.540Z"
   },
   {
    "duration": 5,
    "start_time": "2022-02-02T15:43:43.550Z"
   },
   {
    "duration": 18,
    "start_time": "2022-02-02T15:43:43.557Z"
   },
   {
    "duration": 40,
    "start_time": "2022-02-02T15:43:43.576Z"
   },
   {
    "duration": 12,
    "start_time": "2022-02-02T15:43:43.618Z"
   },
   {
    "duration": 5,
    "start_time": "2022-02-02T15:43:43.632Z"
   },
   {
    "duration": 12,
    "start_time": "2022-02-02T15:43:43.638Z"
   },
   {
    "duration": 7,
    "start_time": "2022-02-02T15:43:43.652Z"
   },
   {
    "duration": 61,
    "start_time": "2022-02-02T15:43:43.661Z"
   },
   {
    "duration": 14,
    "start_time": "2022-02-02T15:43:43.724Z"
   },
   {
    "duration": 13,
    "start_time": "2022-02-02T15:43:43.740Z"
   },
   {
    "duration": 13,
    "start_time": "2022-02-02T15:43:43.755Z"
   },
   {
    "duration": 7,
    "start_time": "2022-02-02T15:43:43.770Z"
   },
   {
    "duration": 209,
    "start_time": "2022-02-02T15:43:43.813Z"
   },
   {
    "duration": 21,
    "start_time": "2022-02-02T15:43:44.027Z"
   },
   {
    "duration": 19,
    "start_time": "2022-02-02T15:43:44.050Z"
   },
   {
    "duration": 7,
    "start_time": "2022-02-02T15:43:44.071Z"
   },
   {
    "duration": 404,
    "start_time": "2022-02-02T15:43:44.080Z"
   },
   {
    "duration": 4,
    "start_time": "2022-02-02T15:45:49.004Z"
   },
   {
    "duration": 4,
    "start_time": "2022-02-02T15:46:04.276Z"
   },
   {
    "duration": 3,
    "start_time": "2022-02-02T15:46:09.133Z"
   },
   {
    "duration": 3,
    "start_time": "2022-02-02T15:46:14.014Z"
   },
   {
    "duration": 578,
    "start_time": "2022-02-02T15:46:18.368Z"
   },
   {
    "duration": 116,
    "start_time": "2022-02-02T15:46:18.947Z"
   },
   {
    "duration": 6,
    "start_time": "2022-02-02T15:46:19.065Z"
   },
   {
    "duration": 14,
    "start_time": "2022-02-02T15:46:19.073Z"
   },
   {
    "duration": 5,
    "start_time": "2022-02-02T15:46:19.089Z"
   },
   {
    "duration": 9,
    "start_time": "2022-02-02T15:46:19.096Z"
   },
   {
    "duration": 18,
    "start_time": "2022-02-02T15:46:19.106Z"
   },
   {
    "duration": 3,
    "start_time": "2022-02-02T15:46:19.126Z"
   },
   {
    "duration": 7,
    "start_time": "2022-02-02T15:46:19.131Z"
   },
   {
    "duration": 15,
    "start_time": "2022-02-02T15:46:19.139Z"
   },
   {
    "duration": 20,
    "start_time": "2022-02-02T15:46:19.156Z"
   },
   {
    "duration": 38,
    "start_time": "2022-02-02T15:46:19.178Z"
   },
   {
    "duration": 25,
    "start_time": "2022-02-02T15:46:19.217Z"
   },
   {
    "duration": 8,
    "start_time": "2022-02-02T15:46:19.243Z"
   },
   {
    "duration": 18,
    "start_time": "2022-02-02T15:46:19.253Z"
   },
   {
    "duration": 41,
    "start_time": "2022-02-02T15:46:19.272Z"
   },
   {
    "duration": 9,
    "start_time": "2022-02-02T15:46:19.315Z"
   },
   {
    "duration": 24,
    "start_time": "2022-02-02T15:46:19.326Z"
   },
   {
    "duration": 4,
    "start_time": "2022-02-02T15:46:19.351Z"
   },
   {
    "duration": 79,
    "start_time": "2022-02-02T15:46:19.357Z"
   },
   {
    "duration": 5,
    "start_time": "2022-02-02T15:46:19.437Z"
   },
   {
    "duration": 5,
    "start_time": "2022-02-02T15:46:19.444Z"
   },
   {
    "duration": 9,
    "start_time": "2022-02-02T15:46:19.452Z"
   },
   {
    "duration": 5,
    "start_time": "2022-02-02T15:46:19.464Z"
   },
   {
    "duration": 5,
    "start_time": "2022-02-02T15:46:19.471Z"
   },
   {
    "duration": 57,
    "start_time": "2022-02-02T15:46:19.478Z"
   },
   {
    "duration": 14,
    "start_time": "2022-02-02T15:46:19.537Z"
   },
   {
    "duration": 16,
    "start_time": "2022-02-02T15:46:19.553Z"
   },
   {
    "duration": 10,
    "start_time": "2022-02-02T15:46:19.571Z"
   },
   {
    "duration": 50,
    "start_time": "2022-02-02T15:46:19.583Z"
   },
   {
    "duration": 20,
    "start_time": "2022-02-02T15:46:19.635Z"
   },
   {
    "duration": 4,
    "start_time": "2022-02-02T15:46:19.657Z"
   },
   {
    "duration": 12,
    "start_time": "2022-02-02T15:46:19.663Z"
   },
   {
    "duration": 39,
    "start_time": "2022-02-02T15:46:19.677Z"
   },
   {
    "duration": 5,
    "start_time": "2022-02-02T15:46:19.718Z"
   },
   {
    "duration": 19,
    "start_time": "2022-02-02T15:46:19.724Z"
   },
   {
    "duration": 5,
    "start_time": "2022-02-02T15:46:19.744Z"
   },
   {
    "duration": 16,
    "start_time": "2022-02-02T15:46:19.751Z"
   },
   {
    "duration": 20,
    "start_time": "2022-02-02T15:46:19.769Z"
   },
   {
    "duration": 30,
    "start_time": "2022-02-02T15:46:19.791Z"
   },
   {
    "duration": 8,
    "start_time": "2022-02-02T15:46:19.823Z"
   },
   {
    "duration": 4,
    "start_time": "2022-02-02T15:46:19.833Z"
   },
   {
    "duration": 5,
    "start_time": "2022-02-02T15:46:19.839Z"
   },
   {
    "duration": 3,
    "start_time": "2022-02-02T15:46:19.846Z"
   },
   {
    "duration": 14,
    "start_time": "2022-02-02T15:46:19.851Z"
   },
   {
    "duration": 64,
    "start_time": "2022-02-02T15:46:19.867Z"
   },
   {
    "duration": 20,
    "start_time": "2022-02-02T15:46:19.933Z"
   },
   {
    "duration": 12,
    "start_time": "2022-02-02T15:46:19.954Z"
   },
   {
    "duration": 4,
    "start_time": "2022-02-02T15:46:19.968Z"
   },
   {
    "duration": 14,
    "start_time": "2022-02-02T15:46:19.974Z"
   },
   {
    "duration": 26,
    "start_time": "2022-02-02T15:46:19.989Z"
   },
   {
    "duration": 22,
    "start_time": "2022-02-02T15:46:20.017Z"
   },
   {
    "duration": 6,
    "start_time": "2022-02-02T15:46:20.041Z"
   },
   {
    "duration": 5914,
    "start_time": "2022-02-02T15:46:14.136Z"
   },
   {
    "duration": 5913,
    "start_time": "2022-02-02T15:46:14.138Z"
   },
   {
    "duration": 5912,
    "start_time": "2022-02-02T15:46:14.140Z"
   },
   {
    "duration": 5910,
    "start_time": "2022-02-02T15:46:14.143Z"
   },
   {
    "duration": 5909,
    "start_time": "2022-02-02T15:46:14.145Z"
   },
   {
    "duration": 5907,
    "start_time": "2022-02-02T15:46:14.147Z"
   },
   {
    "duration": 5906,
    "start_time": "2022-02-02T15:46:14.149Z"
   },
   {
    "duration": 5905,
    "start_time": "2022-02-02T15:46:14.151Z"
   },
   {
    "duration": 5904,
    "start_time": "2022-02-02T15:46:14.153Z"
   },
   {
    "duration": 5903,
    "start_time": "2022-02-02T15:46:14.155Z"
   },
   {
    "duration": 5902,
    "start_time": "2022-02-02T15:46:14.157Z"
   },
   {
    "duration": 5901,
    "start_time": "2022-02-02T15:46:14.159Z"
   },
   {
    "duration": 5898,
    "start_time": "2022-02-02T15:46:14.162Z"
   },
   {
    "duration": 5897,
    "start_time": "2022-02-02T15:46:14.164Z"
   },
   {
    "duration": 5896,
    "start_time": "2022-02-02T15:46:14.166Z"
   },
   {
    "duration": 5895,
    "start_time": "2022-02-02T15:46:14.168Z"
   },
   {
    "duration": 5894,
    "start_time": "2022-02-02T15:46:14.170Z"
   },
   {
    "duration": 4,
    "start_time": "2022-02-02T15:48:02.609Z"
   },
   {
    "duration": 5,
    "start_time": "2022-02-02T15:48:05.754Z"
   },
   {
    "duration": 8,
    "start_time": "2022-02-02T15:48:17.217Z"
   },
   {
    "duration": 14,
    "start_time": "2022-02-02T15:48:23.370Z"
   },
   {
    "duration": 4,
    "start_time": "2022-02-02T15:49:02.353Z"
   },
   {
    "duration": 4,
    "start_time": "2022-02-02T15:49:04.466Z"
   },
   {
    "duration": 626,
    "start_time": "2022-02-02T15:49:10.081Z"
   },
   {
    "duration": 116,
    "start_time": "2022-02-02T15:49:10.709Z"
   },
   {
    "duration": 7,
    "start_time": "2022-02-02T15:49:10.827Z"
   },
   {
    "duration": 12,
    "start_time": "2022-02-02T15:49:10.836Z"
   },
   {
    "duration": 5,
    "start_time": "2022-02-02T15:49:10.849Z"
   },
   {
    "duration": 11,
    "start_time": "2022-02-02T15:49:10.856Z"
   },
   {
    "duration": 16,
    "start_time": "2022-02-02T15:49:10.869Z"
   },
   {
    "duration": 3,
    "start_time": "2022-02-02T15:49:10.912Z"
   },
   {
    "duration": 4,
    "start_time": "2022-02-02T15:49:10.918Z"
   },
   {
    "duration": 14,
    "start_time": "2022-02-02T15:49:10.924Z"
   },
   {
    "duration": 19,
    "start_time": "2022-02-02T15:49:10.940Z"
   },
   {
    "duration": 12,
    "start_time": "2022-02-02T15:49:10.961Z"
   },
   {
    "duration": 55,
    "start_time": "2022-02-02T15:49:10.975Z"
   },
   {
    "duration": 8,
    "start_time": "2022-02-02T15:49:11.032Z"
   },
   {
    "duration": 19,
    "start_time": "2022-02-02T15:49:11.042Z"
   },
   {
    "duration": 49,
    "start_time": "2022-02-02T15:49:11.063Z"
   },
   {
    "duration": 12,
    "start_time": "2022-02-02T15:49:11.114Z"
   },
   {
    "duration": 23,
    "start_time": "2022-02-02T15:49:11.128Z"
   },
   {
    "duration": 4,
    "start_time": "2022-02-02T15:49:11.153Z"
   },
   {
    "duration": 83,
    "start_time": "2022-02-02T15:49:11.158Z"
   },
   {
    "duration": 5,
    "start_time": "2022-02-02T15:49:11.243Z"
   },
   {
    "duration": 7,
    "start_time": "2022-02-02T15:49:11.249Z"
   },
   {
    "duration": 10,
    "start_time": "2022-02-02T15:49:11.260Z"
   },
   {
    "duration": 12,
    "start_time": "2022-02-02T15:49:11.273Z"
   },
   {
    "duration": 4,
    "start_time": "2022-02-02T15:49:11.286Z"
   },
   {
    "duration": 39,
    "start_time": "2022-02-02T15:49:11.292Z"
   },
   {
    "duration": 14,
    "start_time": "2022-02-02T15:49:11.333Z"
   },
   {
    "duration": 26,
    "start_time": "2022-02-02T15:49:11.349Z"
   },
   {
    "duration": 37,
    "start_time": "2022-02-02T15:49:11.377Z"
   },
   {
    "duration": 32,
    "start_time": "2022-02-02T15:49:11.416Z"
   },
   {
    "duration": 20,
    "start_time": "2022-02-02T15:49:11.450Z"
   },
   {
    "duration": 3,
    "start_time": "2022-02-02T15:49:11.472Z"
   },
   {
    "duration": 37,
    "start_time": "2022-02-02T15:49:11.477Z"
   },
   {
    "duration": 6,
    "start_time": "2022-02-02T15:49:11.516Z"
   },
   {
    "duration": 4,
    "start_time": "2022-02-02T15:49:11.524Z"
   },
   {
    "duration": 18,
    "start_time": "2022-02-02T15:49:11.530Z"
   },
   {
    "duration": 5,
    "start_time": "2022-02-02T15:49:11.550Z"
   },
   {
    "duration": 6,
    "start_time": "2022-02-02T15:49:11.556Z"
   },
   {
    "duration": 50,
    "start_time": "2022-02-02T15:49:11.563Z"
   },
   {
    "duration": 10,
    "start_time": "2022-02-02T15:49:11.615Z"
   },
   {
    "duration": 9,
    "start_time": "2022-02-02T15:49:11.627Z"
   },
   {
    "duration": 3,
    "start_time": "2022-02-02T15:49:11.638Z"
   },
   {
    "duration": 7,
    "start_time": "2022-02-02T15:49:11.643Z"
   },
   {
    "duration": 3,
    "start_time": "2022-02-02T15:49:11.652Z"
   },
   {
    "duration": 14,
    "start_time": "2022-02-02T15:49:11.657Z"
   },
   {
    "duration": 57,
    "start_time": "2022-02-02T15:49:11.672Z"
   },
   {
    "duration": 21,
    "start_time": "2022-02-02T15:49:11.731Z"
   },
   {
    "duration": 9,
    "start_time": "2022-02-02T15:49:11.754Z"
   },
   {
    "duration": 4,
    "start_time": "2022-02-02T15:49:11.765Z"
   },
   {
    "duration": 47,
    "start_time": "2022-02-02T15:49:11.771Z"
   },
   {
    "duration": 7,
    "start_time": "2022-02-02T15:49:11.819Z"
   },
   {
    "duration": 23,
    "start_time": "2022-02-02T15:49:11.827Z"
   },
   {
    "duration": 64,
    "start_time": "2022-02-02T15:49:11.852Z"
   },
   {
    "duration": 6066,
    "start_time": "2022-02-02T15:49:05.852Z"
   },
   {
    "duration": 6064,
    "start_time": "2022-02-02T15:49:05.855Z"
   },
   {
    "duration": 6063,
    "start_time": "2022-02-02T15:49:05.857Z"
   },
   {
    "duration": 6061,
    "start_time": "2022-02-02T15:49:05.860Z"
   },
   {
    "duration": 6060,
    "start_time": "2022-02-02T15:49:05.862Z"
   },
   {
    "duration": 6058,
    "start_time": "2022-02-02T15:49:05.865Z"
   },
   {
    "duration": 6057,
    "start_time": "2022-02-02T15:49:05.867Z"
   },
   {
    "duration": 6056,
    "start_time": "2022-02-02T15:49:05.869Z"
   },
   {
    "duration": 6055,
    "start_time": "2022-02-02T15:49:05.871Z"
   },
   {
    "duration": 6054,
    "start_time": "2022-02-02T15:49:05.873Z"
   },
   {
    "duration": 6053,
    "start_time": "2022-02-02T15:49:05.875Z"
   },
   {
    "duration": 6052,
    "start_time": "2022-02-02T15:49:05.877Z"
   },
   {
    "duration": 6050,
    "start_time": "2022-02-02T15:49:05.880Z"
   },
   {
    "duration": 6048,
    "start_time": "2022-02-02T15:49:05.883Z"
   },
   {
    "duration": 6047,
    "start_time": "2022-02-02T15:49:05.885Z"
   },
   {
    "duration": 6046,
    "start_time": "2022-02-02T15:49:05.887Z"
   },
   {
    "duration": 6044,
    "start_time": "2022-02-02T15:49:05.889Z"
   },
   {
    "duration": 4,
    "start_time": "2022-02-02T15:49:33.235Z"
   },
   {
    "duration": 5,
    "start_time": "2022-02-02T15:49:34.579Z"
   },
   {
    "duration": 8,
    "start_time": "2022-02-02T15:49:36.395Z"
   },
   {
    "duration": 3,
    "start_time": "2022-02-02T15:50:27.051Z"
   },
   {
    "duration": 5,
    "start_time": "2022-02-02T15:50:29.179Z"
   },
   {
    "duration": 638,
    "start_time": "2022-02-02T15:50:40.426Z"
   },
   {
    "duration": 102,
    "start_time": "2022-02-02T15:50:41.066Z"
   },
   {
    "duration": 6,
    "start_time": "2022-02-02T15:50:41.170Z"
   },
   {
    "duration": 11,
    "start_time": "2022-02-02T15:50:41.178Z"
   },
   {
    "duration": 5,
    "start_time": "2022-02-02T15:50:41.190Z"
   },
   {
    "duration": 9,
    "start_time": "2022-02-02T15:50:41.196Z"
   },
   {
    "duration": 20,
    "start_time": "2022-02-02T15:50:41.206Z"
   },
   {
    "duration": 3,
    "start_time": "2022-02-02T15:50:41.228Z"
   },
   {
    "duration": 5,
    "start_time": "2022-02-02T15:50:41.232Z"
   },
   {
    "duration": 13,
    "start_time": "2022-02-02T15:50:41.239Z"
   },
   {
    "duration": 20,
    "start_time": "2022-02-02T15:50:41.253Z"
   },
   {
    "duration": 37,
    "start_time": "2022-02-02T15:50:41.275Z"
   },
   {
    "duration": 26,
    "start_time": "2022-02-02T15:50:41.314Z"
   },
   {
    "duration": 8,
    "start_time": "2022-02-02T15:50:41.342Z"
   },
   {
    "duration": 27,
    "start_time": "2022-02-02T15:50:41.352Z"
   },
   {
    "duration": 47,
    "start_time": "2022-02-02T15:50:41.380Z"
   },
   {
    "duration": 10,
    "start_time": "2022-02-02T15:50:41.429Z"
   },
   {
    "duration": 22,
    "start_time": "2022-02-02T15:50:41.440Z"
   },
   {
    "duration": 4,
    "start_time": "2022-02-02T15:50:41.463Z"
   },
   {
    "duration": 88,
    "start_time": "2022-02-02T15:50:41.468Z"
   },
   {
    "duration": 4,
    "start_time": "2022-02-02T15:50:41.558Z"
   },
   {
    "duration": 6,
    "start_time": "2022-02-02T15:50:41.564Z"
   },
   {
    "duration": 8,
    "start_time": "2022-02-02T15:50:41.574Z"
   },
   {
    "duration": 4,
    "start_time": "2022-02-02T15:50:41.585Z"
   },
   {
    "duration": 24,
    "start_time": "2022-02-02T15:50:41.591Z"
   },
   {
    "duration": 25,
    "start_time": "2022-02-02T15:50:41.616Z"
   },
   {
    "duration": 12,
    "start_time": "2022-02-02T15:50:41.642Z"
   },
   {
    "duration": 14,
    "start_time": "2022-02-02T15:50:41.656Z"
   },
   {
    "duration": 11,
    "start_time": "2022-02-02T15:50:41.672Z"
   },
   {
    "duration": 49,
    "start_time": "2022-02-02T15:50:41.685Z"
   },
   {
    "duration": 16,
    "start_time": "2022-02-02T15:50:41.736Z"
   },
   {
    "duration": 3,
    "start_time": "2022-02-02T15:50:41.754Z"
   },
   {
    "duration": 10,
    "start_time": "2022-02-02T15:50:41.759Z"
   },
   {
    "duration": 5,
    "start_time": "2022-02-02T15:50:41.771Z"
   },
   {
    "duration": 36,
    "start_time": "2022-02-02T15:50:41.777Z"
   },
   {
    "duration": 18,
    "start_time": "2022-02-02T15:50:41.814Z"
   },
   {
    "duration": 5,
    "start_time": "2022-02-02T15:50:41.833Z"
   },
   {
    "duration": 8,
    "start_time": "2022-02-02T15:50:41.839Z"
   },
   {
    "duration": 23,
    "start_time": "2022-02-02T15:50:41.849Z"
   },
   {
    "duration": 43,
    "start_time": "2022-02-02T15:50:41.874Z"
   },
   {
    "duration": 24,
    "start_time": "2022-02-02T15:50:41.918Z"
   },
   {
    "duration": 9,
    "start_time": "2022-02-02T15:50:41.943Z"
   },
   {
    "duration": 7,
    "start_time": "2022-02-02T15:50:41.953Z"
   },
   {
    "duration": 4,
    "start_time": "2022-02-02T15:50:41.962Z"
   },
   {
    "duration": 18,
    "start_time": "2022-02-02T15:50:41.967Z"
   },
   {
    "duration": 29,
    "start_time": "2022-02-02T15:50:41.986Z"
   },
   {
    "duration": 23,
    "start_time": "2022-02-02T15:50:42.016Z"
   },
   {
    "duration": 11,
    "start_time": "2022-02-02T15:50:42.040Z"
   },
   {
    "duration": 5,
    "start_time": "2022-02-02T15:50:42.053Z"
   },
   {
    "duration": 13,
    "start_time": "2022-02-02T15:50:42.060Z"
   },
   {
    "duration": 7,
    "start_time": "2022-02-02T15:50:42.074Z"
   },
   {
    "duration": 41,
    "start_time": "2022-02-02T15:50:42.082Z"
   },
   {
    "duration": 3,
    "start_time": "2022-02-02T15:50:42.125Z"
   },
   {
    "duration": 10,
    "start_time": "2022-02-02T15:50:42.129Z"
   },
   {
    "duration": 18,
    "start_time": "2022-02-02T15:50:42.140Z"
   },
   {
    "duration": 7,
    "start_time": "2022-02-02T15:50:42.159Z"
   },
   {
    "duration": 8,
    "start_time": "2022-02-02T15:50:42.168Z"
   },
   {
    "duration": 34,
    "start_time": "2022-02-02T15:50:42.178Z"
   },
   {
    "duration": 10,
    "start_time": "2022-02-02T15:50:42.213Z"
   },
   {
    "duration": 10,
    "start_time": "2022-02-02T15:50:42.225Z"
   },
   {
    "duration": 19,
    "start_time": "2022-02-02T15:50:42.236Z"
   },
   {
    "duration": 11,
    "start_time": "2022-02-02T15:50:42.256Z"
   },
   {
    "duration": 11,
    "start_time": "2022-02-02T15:50:42.268Z"
   },
   {
    "duration": 35,
    "start_time": "2022-02-02T15:50:42.280Z"
   },
   {
    "duration": 4,
    "start_time": "2022-02-02T15:50:42.316Z"
   },
   {
    "duration": 212,
    "start_time": "2022-02-02T15:50:42.322Z"
   },
   {
    "duration": 18,
    "start_time": "2022-02-02T15:50:42.536Z"
   },
   {
    "duration": 16,
    "start_time": "2022-02-02T15:50:42.558Z"
   },
   {
    "duration": 6,
    "start_time": "2022-02-02T15:50:42.575Z"
   },
   {
    "duration": 393,
    "start_time": "2022-02-02T15:50:42.582Z"
   },
   {
    "duration": 8,
    "start_time": "2022-02-02T15:51:15.000Z"
   },
   {
    "duration": 4,
    "start_time": "2022-02-02T15:54:07.357Z"
   },
   {
    "duration": 19,
    "start_time": "2022-02-02T15:54:09.604Z"
   },
   {
    "duration": 9,
    "start_time": "2022-02-02T15:54:15.157Z"
   },
   {
    "duration": 672,
    "start_time": "2022-02-02T15:54:21.097Z"
   },
   {
    "duration": 108,
    "start_time": "2022-02-02T15:54:21.771Z"
   },
   {
    "duration": 7,
    "start_time": "2022-02-02T15:54:21.881Z"
   },
   {
    "duration": 10,
    "start_time": "2022-02-02T15:54:21.890Z"
   },
   {
    "duration": 6,
    "start_time": "2022-02-02T15:54:21.902Z"
   },
   {
    "duration": 8,
    "start_time": "2022-02-02T15:54:21.909Z"
   },
   {
    "duration": 16,
    "start_time": "2022-02-02T15:54:21.919Z"
   },
   {
    "duration": 3,
    "start_time": "2022-02-02T15:54:21.937Z"
   },
   {
    "duration": 8,
    "start_time": "2022-02-02T15:54:21.942Z"
   },
   {
    "duration": 15,
    "start_time": "2022-02-02T15:54:21.951Z"
   },
   {
    "duration": 47,
    "start_time": "2022-02-02T15:54:21.967Z"
   },
   {
    "duration": 11,
    "start_time": "2022-02-02T15:54:22.016Z"
   },
   {
    "duration": 26,
    "start_time": "2022-02-02T15:54:22.029Z"
   },
   {
    "duration": 9,
    "start_time": "2022-02-02T15:54:22.056Z"
   },
   {
    "duration": 48,
    "start_time": "2022-02-02T15:54:22.066Z"
   },
   {
    "duration": 20,
    "start_time": "2022-02-02T15:54:22.115Z"
   },
   {
    "duration": 10,
    "start_time": "2022-02-02T15:54:22.137Z"
   },
   {
    "duration": 21,
    "start_time": "2022-02-02T15:54:22.149Z"
   },
   {
    "duration": 3,
    "start_time": "2022-02-02T15:54:22.172Z"
   },
   {
    "duration": 88,
    "start_time": "2022-02-02T15:54:22.177Z"
   },
   {
    "duration": 5,
    "start_time": "2022-02-02T15:54:22.266Z"
   },
   {
    "duration": 6,
    "start_time": "2022-02-02T15:54:22.273Z"
   },
   {
    "duration": 29,
    "start_time": "2022-02-02T15:54:22.284Z"
   },
   {
    "duration": 9,
    "start_time": "2022-02-02T15:54:22.315Z"
   },
   {
    "duration": 6,
    "start_time": "2022-02-02T15:54:22.325Z"
   },
   {
    "duration": 24,
    "start_time": "2022-02-02T15:54:22.333Z"
   },
   {
    "duration": 11,
    "start_time": "2022-02-02T15:54:22.359Z"
   },
   {
    "duration": 40,
    "start_time": "2022-02-02T15:54:22.372Z"
   },
   {
    "duration": 8,
    "start_time": "2022-02-02T15:54:22.414Z"
   },
   {
    "duration": 28,
    "start_time": "2022-02-02T15:54:22.424Z"
   },
   {
    "duration": 19,
    "start_time": "2022-02-02T15:54:22.453Z"
   },
   {
    "duration": 11,
    "start_time": "2022-02-02T15:54:22.473Z"
   },
   {
    "duration": 35,
    "start_time": "2022-02-02T15:54:22.485Z"
   },
   {
    "duration": 5,
    "start_time": "2022-02-02T15:54:22.521Z"
   },
   {
    "duration": 5,
    "start_time": "2022-02-02T15:54:22.528Z"
   },
   {
    "duration": 20,
    "start_time": "2022-02-02T15:54:22.534Z"
   },
   {
    "duration": 5,
    "start_time": "2022-02-02T15:54:22.555Z"
   },
   {
    "duration": 6,
    "start_time": "2022-02-02T15:54:22.562Z"
   },
   {
    "duration": 46,
    "start_time": "2022-02-02T15:54:22.570Z"
   },
   {
    "duration": 11,
    "start_time": "2022-02-02T15:54:22.618Z"
   },
   {
    "duration": 11,
    "start_time": "2022-02-02T15:54:22.630Z"
   },
   {
    "duration": 6,
    "start_time": "2022-02-02T15:54:22.642Z"
   },
   {
    "duration": 9,
    "start_time": "2022-02-02T15:54:22.649Z"
   },
   {
    "duration": 6,
    "start_time": "2022-02-02T15:54:22.659Z"
   },
   {
    "duration": 14,
    "start_time": "2022-02-02T15:54:22.667Z"
   },
   {
    "duration": 51,
    "start_time": "2022-02-02T15:54:22.683Z"
   },
   {
    "duration": 20,
    "start_time": "2022-02-02T15:54:22.736Z"
   },
   {
    "duration": 8,
    "start_time": "2022-02-02T15:54:22.757Z"
   },
   {
    "duration": 4,
    "start_time": "2022-02-02T15:54:22.767Z"
   },
   {
    "duration": 40,
    "start_time": "2022-02-02T15:54:22.772Z"
   },
   {
    "duration": 8,
    "start_time": "2022-02-02T15:54:22.814Z"
   },
   {
    "duration": 18,
    "start_time": "2022-02-02T15:54:22.823Z"
   },
   {
    "duration": 2,
    "start_time": "2022-02-02T15:54:22.842Z"
   },
   {
    "duration": 6,
    "start_time": "2022-02-02T15:54:22.846Z"
   },
   {
    "duration": 18,
    "start_time": "2022-02-02T15:54:22.853Z"
   },
   {
    "duration": 40,
    "start_time": "2022-02-02T15:54:22.873Z"
   },
   {
    "duration": 10,
    "start_time": "2022-02-02T15:54:22.915Z"
   },
   {
    "duration": 4,
    "start_time": "2022-02-02T15:54:22.927Z"
   },
   {
    "duration": 10,
    "start_time": "2022-02-02T15:54:22.932Z"
   },
   {
    "duration": 6,
    "start_time": "2022-02-02T15:54:22.944Z"
   },
   {
    "duration": 24,
    "start_time": "2022-02-02T15:54:22.951Z"
   },
   {
    "duration": 44,
    "start_time": "2022-02-02T15:54:22.977Z"
   },
   {
    "duration": 11,
    "start_time": "2022-02-02T15:54:23.023Z"
   },
   {
    "duration": 11,
    "start_time": "2022-02-02T15:54:23.036Z"
   },
   {
    "duration": 5,
    "start_time": "2022-02-02T15:54:23.049Z"
   },
   {
    "duration": 242,
    "start_time": "2022-02-02T15:54:23.055Z"
   },
   {
    "duration": 24,
    "start_time": "2022-02-02T15:54:23.299Z"
   },
   {
    "duration": 17,
    "start_time": "2022-02-02T15:54:23.328Z"
   },
   {
    "duration": 7,
    "start_time": "2022-02-02T15:54:23.346Z"
   },
   {
    "duration": 409,
    "start_time": "2022-02-02T15:54:23.354Z"
   },
   {
    "duration": 4,
    "start_time": "2022-02-02T15:56:34.098Z"
   },
   {
    "duration": 722,
    "start_time": "2022-02-02T15:56:40.157Z"
   },
   {
    "duration": 95,
    "start_time": "2022-02-02T15:56:40.880Z"
   },
   {
    "duration": 5,
    "start_time": "2022-02-02T15:56:40.977Z"
   },
   {
    "duration": 11,
    "start_time": "2022-02-02T15:56:40.984Z"
   },
   {
    "duration": 5,
    "start_time": "2022-02-02T15:56:40.996Z"
   },
   {
    "duration": 9,
    "start_time": "2022-02-02T15:56:41.003Z"
   },
   {
    "duration": 15,
    "start_time": "2022-02-02T15:56:41.014Z"
   },
   {
    "duration": 3,
    "start_time": "2022-02-02T15:56:41.030Z"
   },
   {
    "duration": 3,
    "start_time": "2022-02-02T15:56:41.036Z"
   },
   {
    "duration": 13,
    "start_time": "2022-02-02T15:56:41.040Z"
   },
   {
    "duration": 17,
    "start_time": "2022-02-02T15:56:41.055Z"
   },
   {
    "duration": 43,
    "start_time": "2022-02-02T15:56:41.073Z"
   },
   {
    "duration": 22,
    "start_time": "2022-02-02T15:56:41.118Z"
   },
   {
    "duration": 8,
    "start_time": "2022-02-02T15:56:41.142Z"
   },
   {
    "duration": 19,
    "start_time": "2022-02-02T15:56:41.152Z"
   },
   {
    "duration": 43,
    "start_time": "2022-02-02T15:56:41.172Z"
   },
   {
    "duration": 9,
    "start_time": "2022-02-02T15:56:41.217Z"
   },
   {
    "duration": 20,
    "start_time": "2022-02-02T15:56:41.228Z"
   },
   {
    "duration": 3,
    "start_time": "2022-02-02T15:56:41.250Z"
   },
   {
    "duration": 79,
    "start_time": "2022-02-02T15:56:41.255Z"
   },
   {
    "duration": 5,
    "start_time": "2022-02-02T15:56:41.335Z"
   },
   {
    "duration": 7,
    "start_time": "2022-02-02T15:56:41.342Z"
   },
   {
    "duration": 11,
    "start_time": "2022-02-02T15:56:41.350Z"
   },
   {
    "duration": 9,
    "start_time": "2022-02-02T15:56:41.363Z"
   },
   {
    "duration": 12,
    "start_time": "2022-02-02T15:56:41.374Z"
   },
   {
    "duration": 45,
    "start_time": "2022-02-02T15:56:41.387Z"
   },
   {
    "duration": 12,
    "start_time": "2022-02-02T15:56:41.436Z"
   },
   {
    "duration": 25,
    "start_time": "2022-02-02T15:56:41.450Z"
   },
   {
    "duration": 10,
    "start_time": "2022-02-02T15:56:41.477Z"
   },
   {
    "duration": 35,
    "start_time": "2022-02-02T15:56:41.489Z"
   },
   {
    "duration": 16,
    "start_time": "2022-02-02T15:56:41.526Z"
   },
   {
    "duration": 4,
    "start_time": "2022-02-02T15:56:41.544Z"
   },
   {
    "duration": 10,
    "start_time": "2022-02-02T15:56:41.549Z"
   },
   {
    "duration": 5,
    "start_time": "2022-02-02T15:56:41.560Z"
   },
   {
    "duration": 5,
    "start_time": "2022-02-02T15:56:41.566Z"
   },
   {
    "duration": 46,
    "start_time": "2022-02-02T15:56:41.573Z"
   },
   {
    "duration": 5,
    "start_time": "2022-02-02T15:56:41.621Z"
   },
   {
    "duration": 6,
    "start_time": "2022-02-02T15:56:41.627Z"
   },
   {
    "duration": 20,
    "start_time": "2022-02-02T15:56:41.635Z"
   },
   {
    "duration": 10,
    "start_time": "2022-02-02T15:56:41.657Z"
   },
   {
    "duration": 8,
    "start_time": "2022-02-02T15:56:41.668Z"
   },
   {
    "duration": 34,
    "start_time": "2022-02-02T15:56:41.678Z"
   },
   {
    "duration": 5,
    "start_time": "2022-02-02T15:56:41.713Z"
   },
   {
    "duration": 4,
    "start_time": "2022-02-02T15:56:41.719Z"
   },
   {
    "duration": 14,
    "start_time": "2022-02-02T15:56:41.724Z"
   },
   {
    "duration": 26,
    "start_time": "2022-02-02T15:56:41.740Z"
   },
   {
    "duration": 47,
    "start_time": "2022-02-02T15:56:41.767Z"
   },
   {
    "duration": 8,
    "start_time": "2022-02-02T15:56:41.815Z"
   },
   {
    "duration": 5,
    "start_time": "2022-02-02T15:56:41.825Z"
   },
   {
    "duration": 13,
    "start_time": "2022-02-02T15:56:41.831Z"
   },
   {
    "duration": 5,
    "start_time": "2022-02-02T15:56:41.845Z"
   },
   {
    "duration": 17,
    "start_time": "2022-02-02T15:56:41.852Z"
   },
   {
    "duration": 5,
    "start_time": "2022-02-02T15:56:41.871Z"
   },
   {
    "duration": 5,
    "start_time": "2022-02-02T15:56:41.877Z"
   },
   {
    "duration": 15,
    "start_time": "2022-02-02T15:56:41.913Z"
   },
   {
    "duration": 8,
    "start_time": "2022-02-02T15:56:41.930Z"
   },
   {
    "duration": 9,
    "start_time": "2022-02-02T15:56:41.940Z"
   },
   {
    "duration": 3,
    "start_time": "2022-02-02T15:56:41.951Z"
   },
   {
    "duration": 10,
    "start_time": "2022-02-02T15:56:41.956Z"
   },
   {
    "duration": 6,
    "start_time": "2022-02-02T15:56:41.967Z"
   },
   {
    "duration": 52,
    "start_time": "2022-02-02T15:56:41.974Z"
   },
   {
    "duration": 12,
    "start_time": "2022-02-02T15:56:42.028Z"
   },
   {
    "duration": 11,
    "start_time": "2022-02-02T15:56:42.042Z"
   },
   {
    "duration": 13,
    "start_time": "2022-02-02T15:56:42.054Z"
   },
   {
    "duration": 5,
    "start_time": "2022-02-02T15:56:42.068Z"
   },
   {
    "duration": 226,
    "start_time": "2022-02-02T15:56:42.074Z"
   },
   {
    "duration": 24,
    "start_time": "2022-02-02T15:56:42.302Z"
   },
   {
    "duration": 16,
    "start_time": "2022-02-02T15:56:42.327Z"
   },
   {
    "duration": 67,
    "start_time": "2022-02-02T15:56:42.345Z"
   },
   {
    "duration": 340,
    "start_time": "2022-02-02T15:56:42.414Z"
   },
   {
    "duration": 6,
    "start_time": "2022-02-02T15:57:31.069Z"
   },
   {
    "duration": 5,
    "start_time": "2022-02-02T15:57:33.549Z"
   },
   {
    "duration": 5,
    "start_time": "2022-02-02T15:57:44.093Z"
   },
   {
    "duration": 30,
    "start_time": "2022-02-02T16:00:06.309Z"
   },
   {
    "duration": 892,
    "start_time": "2022-02-02T16:00:14.874Z"
   },
   {
    "duration": -140,
    "start_time": "2022-02-02T16:00:15.910Z"
   },
   {
    "duration": -147,
    "start_time": "2022-02-02T16:00:15.918Z"
   },
   {
    "duration": -159,
    "start_time": "2022-02-02T16:00:15.930Z"
   },
   {
    "duration": -164,
    "start_time": "2022-02-02T16:00:15.936Z"
   },
   {
    "duration": -167,
    "start_time": "2022-02-02T16:00:15.940Z"
   },
   {
    "duration": -168,
    "start_time": "2022-02-02T16:00:15.942Z"
   },
   {
    "duration": -170,
    "start_time": "2022-02-02T16:00:15.945Z"
   },
   {
    "duration": -172,
    "start_time": "2022-02-02T16:00:15.947Z"
   },
   {
    "duration": -174,
    "start_time": "2022-02-02T16:00:15.950Z"
   },
   {
    "duration": -175,
    "start_time": "2022-02-02T16:00:15.952Z"
   },
   {
    "duration": -177,
    "start_time": "2022-02-02T16:00:15.955Z"
   },
   {
    "duration": -179,
    "start_time": "2022-02-02T16:00:15.957Z"
   },
   {
    "duration": -183,
    "start_time": "2022-02-02T16:00:15.962Z"
   },
   {
    "duration": -185,
    "start_time": "2022-02-02T16:00:15.965Z"
   },
   {
    "duration": -187,
    "start_time": "2022-02-02T16:00:15.968Z"
   },
   {
    "duration": -189,
    "start_time": "2022-02-02T16:00:15.971Z"
   },
   {
    "duration": -191,
    "start_time": "2022-02-02T16:00:15.974Z"
   },
   {
    "duration": -192,
    "start_time": "2022-02-02T16:00:15.976Z"
   },
   {
    "duration": -194,
    "start_time": "2022-02-02T16:00:15.979Z"
   },
   {
    "duration": -196,
    "start_time": "2022-02-02T16:00:15.981Z"
   },
   {
    "duration": -197,
    "start_time": "2022-02-02T16:00:15.983Z"
   },
   {
    "duration": -199,
    "start_time": "2022-02-02T16:00:15.986Z"
   },
   {
    "duration": -200,
    "start_time": "2022-02-02T16:00:15.988Z"
   },
   {
    "duration": -201,
    "start_time": "2022-02-02T16:00:15.990Z"
   },
   {
    "duration": -202,
    "start_time": "2022-02-02T16:00:15.992Z"
   },
   {
    "duration": -213,
    "start_time": "2022-02-02T16:00:16.003Z"
   },
   {
    "duration": -215,
    "start_time": "2022-02-02T16:00:16.006Z"
   },
   {
    "duration": -217,
    "start_time": "2022-02-02T16:00:16.009Z"
   },
   {
    "duration": -219,
    "start_time": "2022-02-02T16:00:16.012Z"
   },
   {
    "duration": -221,
    "start_time": "2022-02-02T16:00:16.015Z"
   },
   {
    "duration": -224,
    "start_time": "2022-02-02T16:00:16.019Z"
   },
   {
    "duration": -226,
    "start_time": "2022-02-02T16:00:16.022Z"
   },
   {
    "duration": -228,
    "start_time": "2022-02-02T16:00:16.024Z"
   },
   {
    "duration": -230,
    "start_time": "2022-02-02T16:00:16.027Z"
   },
   {
    "duration": -232,
    "start_time": "2022-02-02T16:00:16.030Z"
   },
   {
    "duration": -234,
    "start_time": "2022-02-02T16:00:16.033Z"
   },
   {
    "duration": -236,
    "start_time": "2022-02-02T16:00:16.036Z"
   },
   {
    "duration": -238,
    "start_time": "2022-02-02T16:00:16.039Z"
   },
   {
    "duration": -239,
    "start_time": "2022-02-02T16:00:16.041Z"
   },
   {
    "duration": -242,
    "start_time": "2022-02-02T16:00:16.044Z"
   },
   {
    "duration": -243,
    "start_time": "2022-02-02T16:00:16.046Z"
   },
   {
    "duration": -244,
    "start_time": "2022-02-02T16:00:16.048Z"
   },
   {
    "duration": -246,
    "start_time": "2022-02-02T16:00:16.051Z"
   },
   {
    "duration": -247,
    "start_time": "2022-02-02T16:00:16.053Z"
   },
   {
    "duration": -250,
    "start_time": "2022-02-02T16:00:16.056Z"
   },
   {
    "duration": -252,
    "start_time": "2022-02-02T16:00:16.059Z"
   },
   {
    "duration": -254,
    "start_time": "2022-02-02T16:00:16.062Z"
   },
   {
    "duration": -256,
    "start_time": "2022-02-02T16:00:16.065Z"
   },
   {
    "duration": -258,
    "start_time": "2022-02-02T16:00:16.068Z"
   },
   {
    "duration": -260,
    "start_time": "2022-02-02T16:00:16.071Z"
   },
   {
    "duration": -261,
    "start_time": "2022-02-02T16:00:16.073Z"
   },
   {
    "duration": -262,
    "start_time": "2022-02-02T16:00:16.075Z"
   },
   {
    "duration": -269,
    "start_time": "2022-02-02T16:00:16.083Z"
   },
   {
    "duration": -270,
    "start_time": "2022-02-02T16:00:16.085Z"
   },
   {
    "duration": -272,
    "start_time": "2022-02-02T16:00:16.087Z"
   },
   {
    "duration": -273,
    "start_time": "2022-02-02T16:00:16.089Z"
   },
   {
    "duration": -274,
    "start_time": "2022-02-02T16:00:16.091Z"
   },
   {
    "duration": -276,
    "start_time": "2022-02-02T16:00:16.094Z"
   },
   {
    "duration": -277,
    "start_time": "2022-02-02T16:00:16.096Z"
   },
   {
    "duration": -279,
    "start_time": "2022-02-02T16:00:16.098Z"
   },
   {
    "duration": -281,
    "start_time": "2022-02-02T16:00:16.101Z"
   },
   {
    "duration": -291,
    "start_time": "2022-02-02T16:00:16.112Z"
   },
   {
    "duration": -293,
    "start_time": "2022-02-02T16:00:16.115Z"
   },
   {
    "duration": -294,
    "start_time": "2022-02-02T16:00:16.117Z"
   },
   {
    "duration": -297,
    "start_time": "2022-02-02T16:00:16.120Z"
   },
   {
    "duration": -300,
    "start_time": "2022-02-02T16:00:16.124Z"
   },
   {
    "duration": -301,
    "start_time": "2022-02-02T16:00:16.126Z"
   },
   {
    "duration": -302,
    "start_time": "2022-02-02T16:00:16.128Z"
   },
   {
    "duration": -304,
    "start_time": "2022-02-02T16:00:16.130Z"
   },
   {
    "duration": 634,
    "start_time": "2022-02-02T16:01:18.829Z"
   },
   {
    "duration": 100,
    "start_time": "2022-02-02T16:01:19.465Z"
   },
   {
    "duration": 6,
    "start_time": "2022-02-02T16:01:19.567Z"
   },
   {
    "duration": 12,
    "start_time": "2022-02-02T16:01:19.575Z"
   },
   {
    "duration": 6,
    "start_time": "2022-02-02T16:01:19.588Z"
   },
   {
    "duration": 9,
    "start_time": "2022-02-02T16:01:19.595Z"
   },
   {
    "duration": 16,
    "start_time": "2022-02-02T16:01:19.605Z"
   },
   {
    "duration": 3,
    "start_time": "2022-02-02T16:01:19.624Z"
   },
   {
    "duration": 4,
    "start_time": "2022-02-02T16:01:19.629Z"
   },
   {
    "duration": 13,
    "start_time": "2022-02-02T16:01:19.635Z"
   },
   {
    "duration": 20,
    "start_time": "2022-02-02T16:01:19.649Z"
   },
   {
    "duration": 42,
    "start_time": "2022-02-02T16:01:19.670Z"
   },
   {
    "duration": 25,
    "start_time": "2022-02-02T16:01:19.714Z"
   },
   {
    "duration": 8,
    "start_time": "2022-02-02T16:01:19.741Z"
   },
   {
    "duration": 19,
    "start_time": "2022-02-02T16:01:19.751Z"
   },
   {
    "duration": 46,
    "start_time": "2022-02-02T16:01:19.772Z"
   },
   {
    "duration": 10,
    "start_time": "2022-02-02T16:01:19.819Z"
   },
   {
    "duration": 22,
    "start_time": "2022-02-02T16:01:19.830Z"
   },
   {
    "duration": 3,
    "start_time": "2022-02-02T16:01:19.854Z"
   },
   {
    "duration": 80,
    "start_time": "2022-02-02T16:01:19.859Z"
   },
   {
    "duration": 5,
    "start_time": "2022-02-02T16:01:19.941Z"
   },
   {
    "duration": 5,
    "start_time": "2022-02-02T16:01:19.948Z"
   },
   {
    "duration": 8,
    "start_time": "2022-02-02T16:01:19.957Z"
   },
   {
    "duration": 6,
    "start_time": "2022-02-02T16:01:19.967Z"
   },
   {
    "duration": 4,
    "start_time": "2022-02-02T16:01:19.974Z"
   },
   {
    "duration": 54,
    "start_time": "2022-02-02T16:01:19.980Z"
   },
   {
    "duration": 12,
    "start_time": "2022-02-02T16:01:20.035Z"
   },
   {
    "duration": 18,
    "start_time": "2022-02-02T16:01:20.048Z"
   },
   {
    "duration": 10,
    "start_time": "2022-02-02T16:01:20.068Z"
   },
   {
    "duration": 39,
    "start_time": "2022-02-02T16:01:20.080Z"
   },
   {
    "duration": 18,
    "start_time": "2022-02-02T16:01:20.120Z"
   },
   {
    "duration": 5,
    "start_time": "2022-02-02T16:01:20.140Z"
   },
   {
    "duration": 11,
    "start_time": "2022-02-02T16:01:20.146Z"
   },
   {
    "duration": 5,
    "start_time": "2022-02-02T16:01:20.158Z"
   },
   {
    "duration": 6,
    "start_time": "2022-02-02T16:01:20.164Z"
   },
   {
    "duration": 52,
    "start_time": "2022-02-02T16:01:20.171Z"
   },
   {
    "duration": 5,
    "start_time": "2022-02-02T16:01:20.225Z"
   },
   {
    "duration": 6,
    "start_time": "2022-02-02T16:01:20.232Z"
   },
   {
    "duration": 22,
    "start_time": "2022-02-02T16:01:20.239Z"
   },
   {
    "duration": 9,
    "start_time": "2022-02-02T16:01:20.262Z"
   },
   {
    "duration": 7,
    "start_time": "2022-02-02T16:01:20.273Z"
   },
   {
    "duration": 31,
    "start_time": "2022-02-02T16:01:20.281Z"
   },
   {
    "duration": 4,
    "start_time": "2022-02-02T16:01:20.314Z"
   },
   {
    "duration": 5,
    "start_time": "2022-02-02T16:01:20.320Z"
   },
   {
    "duration": 19,
    "start_time": "2022-02-02T16:01:20.327Z"
   },
   {
    "duration": 29,
    "start_time": "2022-02-02T16:01:20.347Z"
   },
   {
    "duration": 49,
    "start_time": "2022-02-02T16:01:20.378Z"
   },
   {
    "duration": 8,
    "start_time": "2022-02-02T16:01:20.429Z"
   },
   {
    "duration": 11,
    "start_time": "2022-02-02T16:01:20.438Z"
   },
   {
    "duration": 13,
    "start_time": "2022-02-02T16:01:20.451Z"
   },
   {
    "duration": 5,
    "start_time": "2022-02-02T16:01:20.465Z"
   },
   {
    "duration": 19,
    "start_time": "2022-02-02T16:01:20.472Z"
   },
   {
    "duration": 2,
    "start_time": "2022-02-02T16:01:20.513Z"
   },
   {
    "duration": 11,
    "start_time": "2022-02-02T16:01:20.517Z"
   },
   {
    "duration": 18,
    "start_time": "2022-02-02T16:01:20.529Z"
   },
   {
    "duration": 7,
    "start_time": "2022-02-02T16:01:20.549Z"
   },
   {
    "duration": 10,
    "start_time": "2022-02-02T16:01:20.558Z"
   },
   {
    "duration": 4,
    "start_time": "2022-02-02T16:01:20.570Z"
   },
   {
    "duration": 46,
    "start_time": "2022-02-02T16:01:20.576Z"
   },
   {
    "duration": 8,
    "start_time": "2022-02-02T16:01:20.624Z"
   },
   {
    "duration": 25,
    "start_time": "2022-02-02T16:01:20.633Z"
   },
   {
    "duration": 12,
    "start_time": "2022-02-02T16:01:20.660Z"
   },
   {
    "duration": 12,
    "start_time": "2022-02-02T16:01:20.673Z"
   },
   {
    "duration": 13,
    "start_time": "2022-02-02T16:01:20.713Z"
   },
   {
    "duration": 6,
    "start_time": "2022-02-02T16:01:20.727Z"
   },
   {
    "duration": 228,
    "start_time": "2022-02-02T16:01:20.734Z"
   },
   {
    "duration": 20,
    "start_time": "2022-02-02T16:01:20.964Z"
   },
   {
    "duration": 29,
    "start_time": "2022-02-02T16:01:20.988Z"
   },
   {
    "duration": 8,
    "start_time": "2022-02-02T16:01:21.019Z"
   },
   {
    "duration": 403,
    "start_time": "2022-02-02T16:01:21.029Z"
   },
   {
    "duration": 32,
    "start_time": "2022-02-02T16:01:55.711Z"
   },
   {
    "duration": 7,
    "start_time": "2022-02-02T16:02:15.256Z"
   },
   {
    "duration": 3,
    "start_time": "2022-02-02T16:04:43.215Z"
   },
   {
    "duration": 596,
    "start_time": "2022-02-02T16:04:49.082Z"
   },
   {
    "duration": 103,
    "start_time": "2022-02-02T16:04:49.680Z"
   },
   {
    "duration": 6,
    "start_time": "2022-02-02T16:04:49.785Z"
   },
   {
    "duration": 11,
    "start_time": "2022-02-02T16:04:49.793Z"
   },
   {
    "duration": 5,
    "start_time": "2022-02-02T16:04:49.805Z"
   },
   {
    "duration": 7,
    "start_time": "2022-02-02T16:04:49.812Z"
   },
   {
    "duration": 14,
    "start_time": "2022-02-02T16:04:49.821Z"
   },
   {
    "duration": 3,
    "start_time": "2022-02-02T16:04:49.837Z"
   },
   {
    "duration": 4,
    "start_time": "2022-02-02T16:04:49.842Z"
   },
   {
    "duration": 13,
    "start_time": "2022-02-02T16:04:49.848Z"
   },
   {
    "duration": 17,
    "start_time": "2022-02-02T16:04:49.863Z"
   },
   {
    "duration": 40,
    "start_time": "2022-02-02T16:04:49.882Z"
   },
   {
    "duration": 23,
    "start_time": "2022-02-02T16:04:49.924Z"
   },
   {
    "duration": 9,
    "start_time": "2022-02-02T16:04:49.948Z"
   },
   {
    "duration": 18,
    "start_time": "2022-02-02T16:04:49.959Z"
   },
   {
    "duration": 48,
    "start_time": "2022-02-02T16:04:49.979Z"
   },
   {
    "duration": 11,
    "start_time": "2022-02-02T16:04:50.029Z"
   },
   {
    "duration": 23,
    "start_time": "2022-02-02T16:04:50.042Z"
   },
   {
    "duration": 4,
    "start_time": "2022-02-02T16:04:50.067Z"
   },
   {
    "duration": 92,
    "start_time": "2022-02-02T16:04:50.073Z"
   },
   {
    "duration": 5,
    "start_time": "2022-02-02T16:04:50.167Z"
   },
   {
    "duration": 7,
    "start_time": "2022-02-02T16:04:50.173Z"
   },
   {
    "duration": 8,
    "start_time": "2022-02-02T16:04:50.184Z"
   },
   {
    "duration": 21,
    "start_time": "2022-02-02T16:04:50.195Z"
   },
   {
    "duration": 5,
    "start_time": "2022-02-02T16:04:50.218Z"
   },
   {
    "duration": 28,
    "start_time": "2022-02-02T16:04:50.224Z"
   },
   {
    "duration": 11,
    "start_time": "2022-02-02T16:04:50.253Z"
   },
   {
    "duration": 16,
    "start_time": "2022-02-02T16:04:50.265Z"
   },
   {
    "duration": 7,
    "start_time": "2022-02-02T16:04:50.312Z"
   },
   {
    "duration": 24,
    "start_time": "2022-02-02T16:04:50.321Z"
   },
   {
    "duration": 17,
    "start_time": "2022-02-02T16:04:50.347Z"
   },
   {
    "duration": 6,
    "start_time": "2022-02-02T16:04:50.365Z"
   },
   {
    "duration": 12,
    "start_time": "2022-02-02T16:04:50.373Z"
   },
   {
    "duration": 29,
    "start_time": "2022-02-02T16:04:50.386Z"
   },
   {
    "duration": 7,
    "start_time": "2022-02-02T16:04:50.416Z"
   },
   {
    "duration": 18,
    "start_time": "2022-02-02T16:04:50.424Z"
   },
   {
    "duration": 5,
    "start_time": "2022-02-02T16:04:50.443Z"
   },
   {
    "duration": 6,
    "start_time": "2022-02-02T16:04:50.450Z"
   },
   {
    "duration": 21,
    "start_time": "2022-02-02T16:04:50.457Z"
   },
   {
    "duration": 37,
    "start_time": "2022-02-02T16:04:50.480Z"
   },
   {
    "duration": 7,
    "start_time": "2022-02-02T16:04:50.519Z"
   },
   {
    "duration": 5,
    "start_time": "2022-02-02T16:04:50.528Z"
   },
   {
    "duration": 6,
    "start_time": "2022-02-02T16:04:50.534Z"
   },
   {
    "duration": 4,
    "start_time": "2022-02-02T16:04:50.541Z"
   },
   {
    "duration": 16,
    "start_time": "2022-02-02T16:04:50.546Z"
   },
   {
    "duration": 50,
    "start_time": "2022-02-02T16:04:50.564Z"
   },
   {
    "duration": 21,
    "start_time": "2022-02-02T16:04:50.616Z"
   },
   {
    "duration": 9,
    "start_time": "2022-02-02T16:04:50.638Z"
   },
   {
    "duration": 4,
    "start_time": "2022-02-02T16:04:50.649Z"
   },
   {
    "duration": 13,
    "start_time": "2022-02-02T16:04:50.655Z"
   },
   {
    "duration": 5,
    "start_time": "2022-02-02T16:04:50.670Z"
   },
   {
    "duration": 17,
    "start_time": "2022-02-02T16:04:50.713Z"
   },
   {
    "duration": 2,
    "start_time": "2022-02-02T16:04:50.732Z"
   },
   {
    "duration": 26,
    "start_time": "2022-02-02T16:04:50.736Z"
   },
   {
    "duration": 7,
    "start_time": "2022-02-02T16:04:50.764Z"
   },
   {
    "duration": 17,
    "start_time": "2022-02-02T16:04:50.773Z"
   },
   {
    "duration": 21,
    "start_time": "2022-02-02T16:04:50.791Z"
   },
   {
    "duration": 17,
    "start_time": "2022-02-02T16:04:50.814Z"
   },
   {
    "duration": 7,
    "start_time": "2022-02-02T16:04:50.833Z"
   },
   {
    "duration": 21,
    "start_time": "2022-02-02T16:04:50.842Z"
   },
   {
    "duration": 15,
    "start_time": "2022-02-02T16:04:50.865Z"
   },
   {
    "duration": 30,
    "start_time": "2022-02-02T16:04:50.882Z"
   },
   {
    "duration": 13,
    "start_time": "2022-02-02T16:04:50.913Z"
   },
   {
    "duration": 5,
    "start_time": "2022-02-02T16:04:50.927Z"
   },
   {
    "duration": 226,
    "start_time": "2022-02-02T16:04:50.933Z"
   },
   {
    "duration": 20,
    "start_time": "2022-02-02T16:04:51.160Z"
   },
   {
    "duration": 32,
    "start_time": "2022-02-02T16:04:51.181Z"
   },
   {
    "duration": 7,
    "start_time": "2022-02-02T16:04:51.217Z"
   },
   {
    "duration": 390,
    "start_time": "2022-02-02T16:04:51.225Z"
   },
   {
    "duration": 4,
    "start_time": "2022-02-02T16:06:48.012Z"
   },
   {
    "duration": 8,
    "start_time": "2022-02-02T16:06:54.325Z"
   },
   {
    "duration": 17,
    "start_time": "2022-02-02T16:06:56.052Z"
   },
   {
    "duration": 8,
    "start_time": "2022-02-02T16:07:14.525Z"
   },
   {
    "duration": 643,
    "start_time": "2022-02-02T16:08:29.516Z"
   },
   {
    "duration": 108,
    "start_time": "2022-02-02T16:08:30.160Z"
   },
   {
    "duration": 7,
    "start_time": "2022-02-02T16:08:30.270Z"
   },
   {
    "duration": 21,
    "start_time": "2022-02-02T16:08:30.278Z"
   },
   {
    "duration": 20,
    "start_time": "2022-02-02T16:08:30.300Z"
   },
   {
    "duration": 13,
    "start_time": "2022-02-02T16:08:30.322Z"
   },
   {
    "duration": 38,
    "start_time": "2022-02-02T16:08:30.337Z"
   },
   {
    "duration": 3,
    "start_time": "2022-02-02T16:08:30.378Z"
   },
   {
    "duration": 7,
    "start_time": "2022-02-02T16:08:30.383Z"
   },
   {
    "duration": 20,
    "start_time": "2022-02-02T16:08:30.391Z"
   },
   {
    "duration": 17,
    "start_time": "2022-02-02T16:08:30.413Z"
   },
   {
    "duration": 14,
    "start_time": "2022-02-02T16:08:30.432Z"
   },
   {
    "duration": 34,
    "start_time": "2022-02-02T16:08:30.448Z"
   },
   {
    "duration": 14,
    "start_time": "2022-02-02T16:08:30.483Z"
   },
   {
    "duration": 37,
    "start_time": "2022-02-02T16:08:30.498Z"
   },
   {
    "duration": 19,
    "start_time": "2022-02-02T16:08:30.537Z"
   },
   {
    "duration": 17,
    "start_time": "2022-02-02T16:08:30.558Z"
   },
   {
    "duration": 32,
    "start_time": "2022-02-02T16:08:30.577Z"
   },
   {
    "duration": 5,
    "start_time": "2022-02-02T16:08:30.611Z"
   },
   {
    "duration": 60,
    "start_time": "2022-02-02T16:08:30.617Z"
   },
   {
    "duration": 5,
    "start_time": "2022-02-02T16:08:30.679Z"
   },
   {
    "duration": 9,
    "start_time": "2022-02-02T16:08:30.685Z"
   },
   {
    "duration": 9,
    "start_time": "2022-02-02T16:08:30.715Z"
   },
   {
    "duration": 15,
    "start_time": "2022-02-02T16:08:30.726Z"
   },
   {
    "duration": 22,
    "start_time": "2022-02-02T16:08:30.742Z"
   },
   {
    "duration": 30,
    "start_time": "2022-02-02T16:08:30.766Z"
   },
   {
    "duration": 15,
    "start_time": "2022-02-02T16:08:30.798Z"
   },
   {
    "duration": 27,
    "start_time": "2022-02-02T16:08:30.816Z"
   },
   {
    "duration": 14,
    "start_time": "2022-02-02T16:08:30.845Z"
   },
   {
    "duration": 35,
    "start_time": "2022-02-02T16:08:30.861Z"
   },
   {
    "duration": 17,
    "start_time": "2022-02-02T16:08:30.898Z"
   },
   {
    "duration": 5,
    "start_time": "2022-02-02T16:08:30.917Z"
   },
   {
    "duration": 11,
    "start_time": "2022-02-02T16:08:30.924Z"
   },
   {
    "duration": 4,
    "start_time": "2022-02-02T16:08:30.937Z"
   },
   {
    "duration": 9,
    "start_time": "2022-02-02T16:08:30.943Z"
   },
   {
    "duration": 20,
    "start_time": "2022-02-02T16:08:30.954Z"
   },
   {
    "duration": 6,
    "start_time": "2022-02-02T16:08:30.975Z"
   },
   {
    "duration": 30,
    "start_time": "2022-02-02T16:08:30.983Z"
   },
   {
    "duration": 21,
    "start_time": "2022-02-02T16:08:31.015Z"
   },
   {
    "duration": 10,
    "start_time": "2022-02-02T16:08:31.037Z"
   },
   {
    "duration": 8,
    "start_time": "2022-02-02T16:08:31.049Z"
   },
   {
    "duration": 4,
    "start_time": "2022-02-02T16:08:31.059Z"
   },
   {
    "duration": 6,
    "start_time": "2022-02-02T16:08:31.065Z"
   },
   {
    "duration": 4,
    "start_time": "2022-02-02T16:08:31.072Z"
   },
   {
    "duration": 12,
    "start_time": "2022-02-02T16:08:31.113Z"
   },
   {
    "duration": 27,
    "start_time": "2022-02-02T16:08:31.127Z"
   },
   {
    "duration": 19,
    "start_time": "2022-02-02T16:08:31.155Z"
   },
   {
    "duration": 8,
    "start_time": "2022-02-02T16:08:31.176Z"
   },
   {
    "duration": 29,
    "start_time": "2022-02-02T16:08:31.186Z"
   },
   {
    "duration": 14,
    "start_time": "2022-02-02T16:08:31.217Z"
   },
   {
    "duration": 5,
    "start_time": "2022-02-02T16:08:31.233Z"
   },
   {
    "duration": 17,
    "start_time": "2022-02-02T16:08:31.239Z"
   },
   {
    "duration": 7,
    "start_time": "2022-02-02T16:08:31.258Z"
   },
   {
    "duration": 46,
    "start_time": "2022-02-02T16:08:31.267Z"
   },
   {
    "duration": 7,
    "start_time": "2022-02-02T16:08:31.315Z"
   },
   {
    "duration": 17,
    "start_time": "2022-02-02T16:08:31.324Z"
   },
   {
    "duration": 4,
    "start_time": "2022-02-02T16:08:31.343Z"
   },
   {
    "duration": 11,
    "start_time": "2022-02-02T16:08:31.349Z"
   },
   {
    "duration": 6,
    "start_time": "2022-02-02T16:08:31.362Z"
   },
   {
    "duration": 18,
    "start_time": "2022-02-02T16:08:31.370Z"
   },
   {
    "duration": 33,
    "start_time": "2022-02-02T16:08:31.389Z"
   },
   {
    "duration": 12,
    "start_time": "2022-02-02T16:08:31.423Z"
   },
   {
    "duration": 15,
    "start_time": "2022-02-02T16:08:31.436Z"
   },
   {
    "duration": 5,
    "start_time": "2022-02-02T16:08:31.452Z"
   },
   {
    "duration": 226,
    "start_time": "2022-02-02T16:08:31.459Z"
   },
   {
    "duration": 34,
    "start_time": "2022-02-02T16:08:31.687Z"
   },
   {
    "duration": 21,
    "start_time": "2022-02-02T16:08:31.723Z"
   },
   {
    "duration": 6,
    "start_time": "2022-02-02T16:08:31.748Z"
   },
   {
    "duration": 381,
    "start_time": "2022-02-02T16:08:31.755Z"
   },
   {
    "duration": 3,
    "start_time": "2022-02-02T16:11:20.597Z"
   },
   {
    "duration": 694,
    "start_time": "2022-02-02T16:11:25.494Z"
   },
   {
    "duration": 103,
    "start_time": "2022-02-02T16:11:26.190Z"
   },
   {
    "duration": 8,
    "start_time": "2022-02-02T16:11:26.296Z"
   },
   {
    "duration": 13,
    "start_time": "2022-02-02T16:11:26.306Z"
   },
   {
    "duration": 6,
    "start_time": "2022-02-02T16:11:26.321Z"
   },
   {
    "duration": 12,
    "start_time": "2022-02-02T16:11:26.329Z"
   },
   {
    "duration": 23,
    "start_time": "2022-02-02T16:11:26.343Z"
   },
   {
    "duration": 4,
    "start_time": "2022-02-02T16:11:26.368Z"
   },
   {
    "duration": 8,
    "start_time": "2022-02-02T16:11:26.374Z"
   },
   {
    "duration": 44,
    "start_time": "2022-02-02T16:11:26.384Z"
   },
   {
    "duration": 21,
    "start_time": "2022-02-02T16:11:26.430Z"
   },
   {
    "duration": 14,
    "start_time": "2022-02-02T16:11:26.453Z"
   },
   {
    "duration": 54,
    "start_time": "2022-02-02T16:11:26.468Z"
   },
   {
    "duration": 9,
    "start_time": "2022-02-02T16:11:26.523Z"
   },
   {
    "duration": 19,
    "start_time": "2022-02-02T16:11:26.534Z"
   },
   {
    "duration": 19,
    "start_time": "2022-02-02T16:11:26.555Z"
   },
   {
    "duration": 37,
    "start_time": "2022-02-02T16:11:26.575Z"
   },
   {
    "duration": 22,
    "start_time": "2022-02-02T16:11:26.614Z"
   },
   {
    "duration": 5,
    "start_time": "2022-02-02T16:11:26.637Z"
   },
   {
    "duration": 79,
    "start_time": "2022-02-02T16:11:26.644Z"
   },
   {
    "duration": 5,
    "start_time": "2022-02-02T16:11:26.725Z"
   },
   {
    "duration": 6,
    "start_time": "2022-02-02T16:11:26.731Z"
   },
   {
    "duration": 9,
    "start_time": "2022-02-02T16:11:26.738Z"
   },
   {
    "duration": 7,
    "start_time": "2022-02-02T16:11:26.748Z"
   },
   {
    "duration": 4,
    "start_time": "2022-02-02T16:11:26.757Z"
   },
   {
    "duration": 57,
    "start_time": "2022-02-02T16:11:26.762Z"
   },
   {
    "duration": 12,
    "start_time": "2022-02-02T16:11:26.823Z"
   },
   {
    "duration": 16,
    "start_time": "2022-02-02T16:11:26.837Z"
   },
   {
    "duration": 7,
    "start_time": "2022-02-02T16:11:26.855Z"
   },
   {
    "duration": 51,
    "start_time": "2022-02-02T16:11:26.864Z"
   },
   {
    "duration": 18,
    "start_time": "2022-02-02T16:11:26.916Z"
   },
   {
    "duration": 5,
    "start_time": "2022-02-02T16:11:26.936Z"
   },
   {
    "duration": 12,
    "start_time": "2022-02-02T16:11:26.943Z"
   },
   {
    "duration": 5,
    "start_time": "2022-02-02T16:11:26.956Z"
   },
   {
    "duration": 4,
    "start_time": "2022-02-02T16:11:26.963Z"
   },
   {
    "duration": 53,
    "start_time": "2022-02-02T16:11:26.969Z"
   },
   {
    "duration": 6,
    "start_time": "2022-02-02T16:11:27.024Z"
   },
   {
    "duration": 5,
    "start_time": "2022-02-02T16:11:27.032Z"
   },
   {
    "duration": 21,
    "start_time": "2022-02-02T16:11:27.039Z"
   },
   {
    "duration": 10,
    "start_time": "2022-02-02T16:11:27.062Z"
   },
   {
    "duration": 41,
    "start_time": "2022-02-02T16:11:27.073Z"
   },
   {
    "duration": 7,
    "start_time": "2022-02-02T16:11:27.116Z"
   },
   {
    "duration": 7,
    "start_time": "2022-02-02T16:11:27.125Z"
   },
   {
    "duration": 7,
    "start_time": "2022-02-02T16:11:27.133Z"
   },
   {
    "duration": 17,
    "start_time": "2022-02-02T16:11:27.141Z"
   },
   {
    "duration": 53,
    "start_time": "2022-02-02T16:11:27.160Z"
   },
   {
    "duration": 20,
    "start_time": "2022-02-02T16:11:27.215Z"
   },
   {
    "duration": 9,
    "start_time": "2022-02-02T16:11:27.236Z"
   },
   {
    "duration": 6,
    "start_time": "2022-02-02T16:11:27.247Z"
   },
   {
    "duration": 13,
    "start_time": "2022-02-02T16:11:27.255Z"
   },
   {
    "duration": 5,
    "start_time": "2022-02-02T16:11:27.269Z"
   },
   {
    "duration": 47,
    "start_time": "2022-02-02T16:11:27.276Z"
   },
   {
    "duration": 8,
    "start_time": "2022-02-02T16:11:27.325Z"
   },
   {
    "duration": 21,
    "start_time": "2022-02-02T16:11:27.335Z"
   },
   {
    "duration": 8,
    "start_time": "2022-02-02T16:11:27.358Z"
   },
   {
    "duration": 10,
    "start_time": "2022-02-02T16:11:27.367Z"
   },
   {
    "duration": 35,
    "start_time": "2022-02-02T16:11:27.379Z"
   },
   {
    "duration": 12,
    "start_time": "2022-02-02T16:11:27.415Z"
   },
   {
    "duration": 7,
    "start_time": "2022-02-02T16:11:27.428Z"
   },
   {
    "duration": 20,
    "start_time": "2022-02-02T16:11:27.437Z"
   },
   {
    "duration": 13,
    "start_time": "2022-02-02T16:11:27.458Z"
   },
   {
    "duration": 39,
    "start_time": "2022-02-02T16:11:27.473Z"
   },
   {
    "duration": 15,
    "start_time": "2022-02-02T16:11:27.514Z"
   },
   {
    "duration": 5,
    "start_time": "2022-02-02T16:11:27.530Z"
   },
   {
    "duration": 224,
    "start_time": "2022-02-02T16:11:27.536Z"
   },
   {
    "duration": 19,
    "start_time": "2022-02-02T16:11:27.761Z"
   },
   {
    "duration": 31,
    "start_time": "2022-02-02T16:11:27.782Z"
   },
   {
    "duration": 49,
    "start_time": "2022-02-02T16:11:27.815Z"
   },
   {
    "duration": 356,
    "start_time": "2022-02-02T16:11:27.866Z"
   },
   {
    "duration": 3,
    "start_time": "2022-02-02T16:12:05.055Z"
   },
   {
    "duration": 643,
    "start_time": "2022-02-02T16:12:10.115Z"
   },
   {
    "duration": 99,
    "start_time": "2022-02-02T16:12:10.760Z"
   },
   {
    "duration": 6,
    "start_time": "2022-02-02T16:12:10.861Z"
   },
   {
    "duration": 12,
    "start_time": "2022-02-02T16:12:10.869Z"
   },
   {
    "duration": 5,
    "start_time": "2022-02-02T16:12:10.883Z"
   },
   {
    "duration": 8,
    "start_time": "2022-02-02T16:12:10.890Z"
   },
   {
    "duration": 21,
    "start_time": "2022-02-02T16:12:10.900Z"
   },
   {
    "duration": 3,
    "start_time": "2022-02-02T16:12:10.923Z"
   },
   {
    "duration": 9,
    "start_time": "2022-02-02T16:12:10.928Z"
   },
   {
    "duration": 13,
    "start_time": "2022-02-02T16:12:10.938Z"
   },
   {
    "duration": 17,
    "start_time": "2022-02-02T16:12:10.952Z"
   },
   {
    "duration": 11,
    "start_time": "2022-02-02T16:12:10.970Z"
   },
   {
    "duration": 48,
    "start_time": "2022-02-02T16:12:10.982Z"
   },
   {
    "duration": 8,
    "start_time": "2022-02-02T16:12:11.032Z"
   },
   {
    "duration": 23,
    "start_time": "2022-02-02T16:12:11.041Z"
   },
   {
    "duration": 19,
    "start_time": "2022-02-02T16:12:11.065Z"
   },
   {
    "duration": 30,
    "start_time": "2022-02-02T16:12:11.085Z"
   },
   {
    "duration": 21,
    "start_time": "2022-02-02T16:12:11.117Z"
   },
   {
    "duration": 4,
    "start_time": "2022-02-02T16:12:11.139Z"
   },
   {
    "duration": 83,
    "start_time": "2022-02-02T16:12:11.145Z"
   },
   {
    "duration": 5,
    "start_time": "2022-02-02T16:12:11.230Z"
   },
   {
    "duration": 9,
    "start_time": "2022-02-02T16:12:11.236Z"
   },
   {
    "duration": 9,
    "start_time": "2022-02-02T16:12:11.249Z"
   },
   {
    "duration": 6,
    "start_time": "2022-02-02T16:12:11.260Z"
   },
   {
    "duration": 4,
    "start_time": "2022-02-02T16:12:11.267Z"
   },
   {
    "duration": 58,
    "start_time": "2022-02-02T16:12:11.273Z"
   },
   {
    "duration": 13,
    "start_time": "2022-02-02T16:12:11.332Z"
   },
   {
    "duration": 17,
    "start_time": "2022-02-02T16:12:11.346Z"
   },
   {
    "duration": 10,
    "start_time": "2022-02-02T16:12:11.365Z"
   },
   {
    "duration": 48,
    "start_time": "2022-02-02T16:12:11.377Z"
   },
   {
    "duration": 17,
    "start_time": "2022-02-02T16:12:11.426Z"
   },
   {
    "duration": 5,
    "start_time": "2022-02-02T16:12:11.445Z"
   },
   {
    "duration": 9,
    "start_time": "2022-02-02T16:12:11.452Z"
   },
   {
    "duration": 5,
    "start_time": "2022-02-02T16:12:11.463Z"
   },
   {
    "duration": 45,
    "start_time": "2022-02-02T16:12:11.469Z"
   },
   {
    "duration": 20,
    "start_time": "2022-02-02T16:12:11.516Z"
   },
   {
    "duration": 5,
    "start_time": "2022-02-02T16:12:11.537Z"
   },
   {
    "duration": 6,
    "start_time": "2022-02-02T16:12:11.544Z"
   },
   {
    "duration": 24,
    "start_time": "2022-02-02T16:12:11.551Z"
   },
   {
    "duration": 40,
    "start_time": "2022-02-02T16:12:11.577Z"
   },
   {
    "duration": 7,
    "start_time": "2022-02-02T16:12:11.619Z"
   },
   {
    "duration": 6,
    "start_time": "2022-02-02T16:12:11.628Z"
   },
   {
    "duration": 6,
    "start_time": "2022-02-02T16:12:11.636Z"
   },
   {
    "duration": 5,
    "start_time": "2022-02-02T16:12:11.644Z"
   },
   {
    "duration": 14,
    "start_time": "2022-02-02T16:12:11.651Z"
   },
   {
    "duration": 65,
    "start_time": "2022-02-02T16:12:11.667Z"
   },
   {
    "duration": 20,
    "start_time": "2022-02-02T16:12:11.735Z"
   },
   {
    "duration": 9,
    "start_time": "2022-02-02T16:12:11.757Z"
   },
   {
    "duration": 5,
    "start_time": "2022-02-02T16:12:11.767Z"
   },
   {
    "duration": 42,
    "start_time": "2022-02-02T16:12:11.773Z"
   },
   {
    "duration": 5,
    "start_time": "2022-02-02T16:12:11.817Z"
   },
   {
    "duration": 17,
    "start_time": "2022-02-02T16:12:11.823Z"
   },
   {
    "duration": 8,
    "start_time": "2022-02-02T16:12:11.841Z"
   },
   {
    "duration": 19,
    "start_time": "2022-02-02T16:12:11.851Z"
   },
   {
    "duration": 40,
    "start_time": "2022-02-02T16:12:11.872Z"
   },
   {
    "duration": 12,
    "start_time": "2022-02-02T16:12:11.914Z"
   },
   {
    "duration": 4,
    "start_time": "2022-02-02T16:12:11.929Z"
   },
   {
    "duration": 12,
    "start_time": "2022-02-02T16:12:11.935Z"
   },
   {
    "duration": 7,
    "start_time": "2022-02-02T16:12:11.948Z"
   },
   {
    "duration": 55,
    "start_time": "2022-02-02T16:12:11.957Z"
   },
   {
    "duration": 14,
    "start_time": "2022-02-02T16:12:12.014Z"
   },
   {
    "duration": 11,
    "start_time": "2022-02-02T16:12:12.030Z"
   },
   {
    "duration": 13,
    "start_time": "2022-02-02T16:12:12.042Z"
   },
   {
    "duration": 7,
    "start_time": "2022-02-02T16:12:12.056Z"
   },
   {
    "duration": 253,
    "start_time": "2022-02-02T16:12:12.064Z"
   },
   {
    "duration": 20,
    "start_time": "2022-02-02T16:12:12.319Z"
   },
   {
    "duration": 16,
    "start_time": "2022-02-02T16:12:12.341Z"
   },
   {
    "duration": 7,
    "start_time": "2022-02-02T16:12:12.361Z"
   },
   {
    "duration": 424,
    "start_time": "2022-02-02T16:12:12.370Z"
   },
   {
    "duration": 3,
    "start_time": "2022-02-02T16:13:02.397Z"
   },
   {
    "duration": 640,
    "start_time": "2022-02-02T16:13:10.560Z"
   },
   {
    "duration": 103,
    "start_time": "2022-02-02T16:13:11.202Z"
   },
   {
    "duration": 6,
    "start_time": "2022-02-02T16:13:11.308Z"
   },
   {
    "duration": 14,
    "start_time": "2022-02-02T16:13:11.316Z"
   },
   {
    "duration": 8,
    "start_time": "2022-02-02T16:13:11.332Z"
   },
   {
    "duration": 15,
    "start_time": "2022-02-02T16:13:11.341Z"
   },
   {
    "duration": 28,
    "start_time": "2022-02-02T16:13:11.358Z"
   },
   {
    "duration": 23,
    "start_time": "2022-02-02T16:13:11.389Z"
   },
   {
    "duration": 4,
    "start_time": "2022-02-02T16:13:11.416Z"
   },
   {
    "duration": 18,
    "start_time": "2022-02-02T16:13:11.422Z"
   },
   {
    "duration": 20,
    "start_time": "2022-02-02T16:13:11.442Z"
   },
   {
    "duration": 14,
    "start_time": "2022-02-02T16:13:11.464Z"
   },
   {
    "duration": 26,
    "start_time": "2022-02-02T16:13:11.513Z"
   },
   {
    "duration": 10,
    "start_time": "2022-02-02T16:13:11.541Z"
   },
   {
    "duration": 21,
    "start_time": "2022-02-02T16:13:11.553Z"
   },
   {
    "duration": 53,
    "start_time": "2022-02-02T16:13:11.576Z"
   },
   {
    "duration": 13,
    "start_time": "2022-02-02T16:13:11.631Z"
   },
   {
    "duration": 28,
    "start_time": "2022-02-02T16:13:11.646Z"
   },
   {
    "duration": 5,
    "start_time": "2022-02-02T16:13:11.676Z"
   },
   {
    "duration": 87,
    "start_time": "2022-02-02T16:13:11.683Z"
   },
   {
    "duration": 5,
    "start_time": "2022-02-02T16:13:11.772Z"
   },
   {
    "duration": 6,
    "start_time": "2022-02-02T16:13:11.780Z"
   },
   {
    "duration": 9,
    "start_time": "2022-02-02T16:13:11.814Z"
   },
   {
    "duration": 6,
    "start_time": "2022-02-02T16:13:11.826Z"
   },
   {
    "duration": 5,
    "start_time": "2022-02-02T16:13:11.834Z"
   },
   {
    "duration": 25,
    "start_time": "2022-02-02T16:13:11.841Z"
   },
   {
    "duration": 12,
    "start_time": "2022-02-02T16:13:11.868Z"
   },
   {
    "duration": 46,
    "start_time": "2022-02-02T16:13:11.882Z"
   },
   {
    "duration": 11,
    "start_time": "2022-02-02T16:13:11.930Z"
   },
   {
    "duration": 25,
    "start_time": "2022-02-02T16:13:11.943Z"
   },
   {
    "duration": 46,
    "start_time": "2022-02-02T16:13:11.970Z"
   },
   {
    "duration": 6,
    "start_time": "2022-02-02T16:13:12.019Z"
   },
   {
    "duration": 10,
    "start_time": "2022-02-02T16:13:12.027Z"
   },
   {
    "duration": 7,
    "start_time": "2022-02-02T16:13:12.039Z"
   },
   {
    "duration": 5,
    "start_time": "2022-02-02T16:13:12.048Z"
   },
   {
    "duration": 21,
    "start_time": "2022-02-02T16:13:12.054Z"
   },
   {
    "duration": 38,
    "start_time": "2022-02-02T16:13:12.076Z"
   },
   {
    "duration": 6,
    "start_time": "2022-02-02T16:13:12.116Z"
   },
   {
    "duration": 22,
    "start_time": "2022-02-02T16:13:12.123Z"
   },
   {
    "duration": 10,
    "start_time": "2022-02-02T16:13:12.147Z"
   },
   {
    "duration": 9,
    "start_time": "2022-02-02T16:13:12.159Z"
   },
   {
    "duration": 6,
    "start_time": "2022-02-02T16:13:12.170Z"
   },
   {
    "duration": 35,
    "start_time": "2022-02-02T16:13:12.177Z"
   },
   {
    "duration": 5,
    "start_time": "2022-02-02T16:13:12.214Z"
   },
   {
    "duration": 15,
    "start_time": "2022-02-02T16:13:12.220Z"
   },
   {
    "duration": 29,
    "start_time": "2022-02-02T16:13:12.236Z"
   },
   {
    "duration": 20,
    "start_time": "2022-02-02T16:13:12.267Z"
   },
   {
    "duration": 9,
    "start_time": "2022-02-02T16:13:12.313Z"
   },
   {
    "duration": 10,
    "start_time": "2022-02-02T16:13:12.324Z"
   },
   {
    "duration": 16,
    "start_time": "2022-02-02T16:13:12.336Z"
   },
   {
    "duration": 5,
    "start_time": "2022-02-02T16:13:12.353Z"
   },
   {
    "duration": 18,
    "start_time": "2022-02-02T16:13:12.360Z"
   },
   {
    "duration": 38,
    "start_time": "2022-02-02T16:13:12.380Z"
   },
   {
    "duration": 20,
    "start_time": "2022-02-02T16:13:12.420Z"
   },
   {
    "duration": 8,
    "start_time": "2022-02-02T16:13:12.442Z"
   },
   {
    "duration": 11,
    "start_time": "2022-02-02T16:13:12.451Z"
   },
   {
    "duration": 4,
    "start_time": "2022-02-02T16:13:12.463Z"
   },
   {
    "duration": 10,
    "start_time": "2022-02-02T16:13:12.469Z"
   },
   {
    "duration": 6,
    "start_time": "2022-02-02T16:13:12.512Z"
   },
   {
    "duration": 18,
    "start_time": "2022-02-02T16:13:12.520Z"
   },
   {
    "duration": 12,
    "start_time": "2022-02-02T16:13:12.540Z"
   },
   {
    "duration": 11,
    "start_time": "2022-02-02T16:13:12.554Z"
   },
   {
    "duration": 46,
    "start_time": "2022-02-02T16:13:12.567Z"
   },
   {
    "duration": 5,
    "start_time": "2022-02-02T16:13:12.615Z"
   },
   {
    "duration": 221,
    "start_time": "2022-02-02T16:13:12.622Z"
   },
   {
    "duration": 19,
    "start_time": "2022-02-02T16:13:12.844Z"
   },
   {
    "duration": 18,
    "start_time": "2022-02-02T16:13:12.865Z"
   },
   {
    "duration": 28,
    "start_time": "2022-02-02T16:13:12.887Z"
   },
   {
    "duration": 398,
    "start_time": "2022-02-02T16:13:12.917Z"
   },
   {
    "duration": 3,
    "start_time": "2022-02-02T16:14:59.322Z"
   },
   {
    "duration": 629,
    "start_time": "2022-02-02T16:15:04.134Z"
   },
   {
    "duration": 99,
    "start_time": "2022-02-02T16:15:04.765Z"
   },
   {
    "duration": 6,
    "start_time": "2022-02-02T16:15:04.866Z"
   },
   {
    "duration": 11,
    "start_time": "2022-02-02T16:15:04.874Z"
   },
   {
    "duration": 5,
    "start_time": "2022-02-02T16:15:04.887Z"
   },
   {
    "duration": 8,
    "start_time": "2022-02-02T16:15:04.893Z"
   },
   {
    "duration": 19,
    "start_time": "2022-02-02T16:15:04.902Z"
   },
   {
    "duration": 6,
    "start_time": "2022-02-02T16:15:04.924Z"
   },
   {
    "duration": 5,
    "start_time": "2022-02-02T16:15:04.931Z"
   },
   {
    "duration": 15,
    "start_time": "2022-02-02T16:15:04.938Z"
   },
   {
    "duration": 18,
    "start_time": "2022-02-02T16:15:04.954Z"
   },
   {
    "duration": 40,
    "start_time": "2022-02-02T16:15:04.974Z"
   },
   {
    "duration": 23,
    "start_time": "2022-02-02T16:15:05.016Z"
   },
   {
    "duration": 9,
    "start_time": "2022-02-02T16:15:05.041Z"
   },
   {
    "duration": 19,
    "start_time": "2022-02-02T16:15:05.051Z"
   },
   {
    "duration": 46,
    "start_time": "2022-02-02T16:15:05.072Z"
   },
   {
    "duration": 10,
    "start_time": "2022-02-02T16:15:05.119Z"
   },
   {
    "duration": 22,
    "start_time": "2022-02-02T16:15:05.131Z"
   },
   {
    "duration": 4,
    "start_time": "2022-02-02T16:15:05.155Z"
   },
   {
    "duration": 88,
    "start_time": "2022-02-02T16:15:05.161Z"
   },
   {
    "duration": 5,
    "start_time": "2022-02-02T16:15:05.251Z"
   },
   {
    "duration": 14,
    "start_time": "2022-02-02T16:15:05.257Z"
   },
   {
    "duration": 9,
    "start_time": "2022-02-02T16:15:05.275Z"
   },
   {
    "duration": 5,
    "start_time": "2022-02-02T16:15:05.287Z"
   },
   {
    "duration": 20,
    "start_time": "2022-02-02T16:15:05.294Z"
   },
   {
    "duration": 30,
    "start_time": "2022-02-02T16:15:05.316Z"
   },
   {
    "duration": 12,
    "start_time": "2022-02-02T16:15:05.347Z"
   },
   {
    "duration": 15,
    "start_time": "2022-02-02T16:15:05.361Z"
   },
   {
    "duration": 11,
    "start_time": "2022-02-02T16:15:05.377Z"
   },
   {
    "duration": 22,
    "start_time": "2022-02-02T16:15:05.413Z"
   },
   {
    "duration": 17,
    "start_time": "2022-02-02T16:15:05.437Z"
   },
   {
    "duration": 6,
    "start_time": "2022-02-02T16:15:05.456Z"
   },
   {
    "duration": 12,
    "start_time": "2022-02-02T16:15:05.464Z"
   },
   {
    "duration": 34,
    "start_time": "2022-02-02T16:15:05.478Z"
   },
   {
    "duration": 4,
    "start_time": "2022-02-02T16:15:05.514Z"
   },
   {
    "duration": 21,
    "start_time": "2022-02-02T16:15:05.519Z"
   },
   {
    "duration": 7,
    "start_time": "2022-02-02T16:15:05.542Z"
   },
   {
    "duration": 6,
    "start_time": "2022-02-02T16:15:05.551Z"
   },
   {
    "duration": 23,
    "start_time": "2022-02-02T16:15:05.559Z"
   },
   {
    "duration": 11,
    "start_time": "2022-02-02T16:15:05.613Z"
   },
   {
    "duration": 10,
    "start_time": "2022-02-02T16:15:05.626Z"
   },
   {
    "duration": 7,
    "start_time": "2022-02-02T16:15:05.637Z"
   },
   {
    "duration": 11,
    "start_time": "2022-02-02T16:15:05.645Z"
   },
   {
    "duration": 6,
    "start_time": "2022-02-02T16:15:05.657Z"
   },
   {
    "duration": 18,
    "start_time": "2022-02-02T16:15:05.664Z"
   },
   {
    "duration": 56,
    "start_time": "2022-02-02T16:15:05.684Z"
   },
   {
    "duration": 18,
    "start_time": "2022-02-02T16:15:05.742Z"
   },
   {
    "duration": 8,
    "start_time": "2022-02-02T16:15:05.762Z"
   },
   {
    "duration": 6,
    "start_time": "2022-02-02T16:15:05.772Z"
   },
   {
    "duration": 43,
    "start_time": "2022-02-02T16:15:05.780Z"
   },
   {
    "duration": 5,
    "start_time": "2022-02-02T16:15:05.825Z"
   },
   {
    "duration": 19,
    "start_time": "2022-02-02T16:15:05.832Z"
   },
   {
    "duration": 8,
    "start_time": "2022-02-02T16:15:05.853Z"
   },
   {
    "duration": 21,
    "start_time": "2022-02-02T16:15:05.863Z"
   },
   {
    "duration": 29,
    "start_time": "2022-02-02T16:15:05.886Z"
   },
   {
    "duration": 10,
    "start_time": "2022-02-02T16:15:05.917Z"
   },
   {
    "duration": 4,
    "start_time": "2022-02-02T16:15:05.929Z"
   },
   {
    "duration": 11,
    "start_time": "2022-02-02T16:15:05.934Z"
   },
   {
    "duration": 11,
    "start_time": "2022-02-02T16:15:05.947Z"
   },
   {
    "duration": 21,
    "start_time": "2022-02-02T16:15:05.960Z"
   },
   {
    "duration": 40,
    "start_time": "2022-02-02T16:15:05.983Z"
   },
   {
    "duration": 11,
    "start_time": "2022-02-02T16:15:06.025Z"
   },
   {
    "duration": 12,
    "start_time": "2022-02-02T16:15:06.038Z"
   },
   {
    "duration": 5,
    "start_time": "2022-02-02T16:15:06.052Z"
   },
   {
    "duration": 237,
    "start_time": "2022-02-02T16:15:06.058Z"
   },
   {
    "duration": 27,
    "start_time": "2022-02-02T16:15:06.296Z"
   },
   {
    "duration": 16,
    "start_time": "2022-02-02T16:15:06.325Z"
   },
   {
    "duration": 6,
    "start_time": "2022-02-02T16:15:06.345Z"
   },
   {
    "duration": 403,
    "start_time": "2022-02-02T16:15:06.353Z"
   },
   {
    "duration": 8,
    "start_time": "2022-02-02T16:15:31.383Z"
   },
   {
    "duration": 238,
    "start_time": "2022-02-02T20:31:01.455Z"
   },
   {
    "duration": 699,
    "start_time": "2022-02-02T20:31:08.225Z"
   },
   {
    "duration": 100,
    "start_time": "2022-02-02T20:31:08.926Z"
   },
   {
    "duration": 5,
    "start_time": "2022-02-02T20:31:09.028Z"
   },
   {
    "duration": 10,
    "start_time": "2022-02-02T20:31:09.036Z"
   },
   {
    "duration": 5,
    "start_time": "2022-02-02T20:31:09.048Z"
   },
   {
    "duration": 10,
    "start_time": "2022-02-02T20:31:09.055Z"
   },
   {
    "duration": 60,
    "start_time": "2022-02-02T20:31:09.067Z"
   },
   {
    "duration": 4,
    "start_time": "2022-02-02T20:31:09.129Z"
   },
   {
    "duration": 7,
    "start_time": "2022-02-02T20:31:09.135Z"
   },
   {
    "duration": 26,
    "start_time": "2022-02-02T20:31:09.144Z"
   },
   {
    "duration": 63,
    "start_time": "2022-02-02T20:31:09.172Z"
   },
   {
    "duration": 17,
    "start_time": "2022-02-02T20:31:09.238Z"
   },
   {
    "duration": 59,
    "start_time": "2022-02-02T20:31:09.257Z"
   },
   {
    "duration": 11,
    "start_time": "2022-02-02T20:31:09.318Z"
   },
   {
    "duration": 24,
    "start_time": "2022-02-02T20:31:09.331Z"
   },
   {
    "duration": 19,
    "start_time": "2022-02-02T20:31:09.357Z"
   },
   {
    "duration": 40,
    "start_time": "2022-02-02T20:31:09.378Z"
   },
   {
    "duration": 24,
    "start_time": "2022-02-02T20:31:09.420Z"
   },
   {
    "duration": 6,
    "start_time": "2022-02-02T20:31:09.446Z"
   },
   {
    "duration": 98,
    "start_time": "2022-02-02T20:31:09.454Z"
   },
   {
    "duration": 5,
    "start_time": "2022-02-02T20:31:09.554Z"
   },
   {
    "duration": 6,
    "start_time": "2022-02-02T20:31:09.561Z"
   },
   {
    "duration": 9,
    "start_time": "2022-02-02T20:31:09.571Z"
   },
   {
    "duration": 34,
    "start_time": "2022-02-02T20:31:09.583Z"
   },
   {
    "duration": 7,
    "start_time": "2022-02-02T20:31:09.619Z"
   },
   {
    "duration": 37,
    "start_time": "2022-02-02T20:31:09.628Z"
   },
   {
    "duration": 46,
    "start_time": "2022-02-02T20:31:09.667Z"
   },
   {
    "duration": 20,
    "start_time": "2022-02-02T20:31:09.715Z"
   },
   {
    "duration": 9,
    "start_time": "2022-02-02T20:31:09.736Z"
   },
   {
    "duration": 65,
    "start_time": "2022-02-02T20:31:09.747Z"
   },
   {
    "duration": 25,
    "start_time": "2022-02-02T20:31:09.815Z"
   },
   {
    "duration": 5,
    "start_time": "2022-02-02T20:31:09.842Z"
   },
   {
    "duration": 14,
    "start_time": "2022-02-02T20:31:09.850Z"
   },
   {
    "duration": 47,
    "start_time": "2022-02-02T20:31:09.867Z"
   },
   {
    "duration": 10,
    "start_time": "2022-02-02T20:31:09.916Z"
   },
   {
    "duration": 21,
    "start_time": "2022-02-02T20:31:09.928Z"
   },
   {
    "duration": 6,
    "start_time": "2022-02-02T20:31:09.951Z"
   },
   {
    "duration": 7,
    "start_time": "2022-02-02T20:31:09.958Z"
   },
   {
    "duration": 53,
    "start_time": "2022-02-02T20:31:09.968Z"
   },
   {
    "duration": 18,
    "start_time": "2022-02-02T20:31:10.023Z"
   },
   {
    "duration": 7,
    "start_time": "2022-02-02T20:31:10.044Z"
   },
   {
    "duration": 12,
    "start_time": "2022-02-02T20:31:10.053Z"
   },
   {
    "duration": 19,
    "start_time": "2022-02-02T20:31:10.067Z"
   },
   {
    "duration": 10,
    "start_time": "2022-02-02T20:31:10.113Z"
   },
   {
    "duration": 28,
    "start_time": "2022-02-02T20:31:10.125Z"
   },
   {
    "duration": 28,
    "start_time": "2022-02-02T20:31:10.155Z"
   },
   {
    "duration": 36,
    "start_time": "2022-02-02T20:31:10.185Z"
   },
   {
    "duration": 16,
    "start_time": "2022-02-02T20:31:10.223Z"
   },
   {
    "duration": 9,
    "start_time": "2022-02-02T20:31:10.240Z"
   },
   {
    "duration": 22,
    "start_time": "2022-02-02T20:31:10.250Z"
   },
   {
    "duration": 12,
    "start_time": "2022-02-02T20:31:10.273Z"
   },
   {
    "duration": 37,
    "start_time": "2022-02-02T20:31:10.287Z"
   },
   {
    "duration": 8,
    "start_time": "2022-02-02T20:31:10.325Z"
   },
   {
    "duration": 24,
    "start_time": "2022-02-02T20:31:10.335Z"
   },
   {
    "duration": 9,
    "start_time": "2022-02-02T20:31:10.361Z"
   },
   {
    "duration": 40,
    "start_time": "2022-02-02T20:31:10.372Z"
   },
   {
    "duration": 7,
    "start_time": "2022-02-02T20:31:10.414Z"
   },
   {
    "duration": 32,
    "start_time": "2022-02-02T20:31:10.422Z"
   },
   {
    "duration": 17,
    "start_time": "2022-02-02T20:31:10.456Z"
   },
   {
    "duration": 36,
    "start_time": "2022-02-02T20:31:10.476Z"
   },
   {
    "duration": 15,
    "start_time": "2022-02-02T20:31:10.515Z"
   },
   {
    "duration": 12,
    "start_time": "2022-02-02T20:31:10.532Z"
   },
   {
    "duration": 14,
    "start_time": "2022-02-02T20:31:10.546Z"
   },
   {
    "duration": 52,
    "start_time": "2022-02-02T20:31:10.562Z"
   },
   {
    "duration": 215,
    "start_time": "2022-02-02T20:31:10.616Z"
   },
   {
    "duration": 22,
    "start_time": "2022-02-02T20:31:10.833Z"
   },
   {
    "duration": 7,
    "start_time": "2022-02-02T20:31:10.857Z"
   },
   {
    "duration": 445,
    "start_time": "2022-02-02T20:31:10.868Z"
   },
   {
    "duration": 35,
    "start_time": "2022-02-02T20:31:11.315Z"
   },
   {
    "duration": 32,
    "start_time": "2022-02-02T20:33:20.377Z"
   },
   {
    "duration": 91,
    "start_time": "2022-02-02T20:34:28.158Z"
   },
   {
    "duration": 57,
    "start_time": "2022-02-02T20:34:40.757Z"
   },
   {
    "duration": 14,
    "start_time": "2022-02-02T20:34:46.861Z"
   },
   {
    "duration": 72,
    "start_time": "2022-02-02T20:35:06.392Z"
   },
   {
    "duration": 61,
    "start_time": "2022-02-02T20:35:11.373Z"
   },
   {
    "duration": 66,
    "start_time": "2022-02-02T20:35:18.581Z"
   },
   {
    "duration": 20,
    "start_time": "2022-02-02T20:35:53.130Z"
   },
   {
    "duration": 13,
    "start_time": "2022-02-02T20:36:15.349Z"
   },
   {
    "duration": 30,
    "start_time": "2022-02-02T20:36:29.953Z"
   },
   {
    "duration": 200,
    "start_time": "2022-02-02T21:09:13.712Z"
   },
   {
    "duration": 33,
    "start_time": "2022-02-02T21:11:57.996Z"
   },
   {
    "duration": 29,
    "start_time": "2022-02-02T21:13:12.729Z"
   },
   {
    "duration": 27,
    "start_time": "2022-02-02T21:13:43.169Z"
   },
   {
    "duration": 27,
    "start_time": "2022-02-02T21:13:54.969Z"
   },
   {
    "duration": 198,
    "start_time": "2022-02-02T21:14:14.597Z"
   },
   {
    "duration": 201,
    "start_time": "2022-02-02T21:14:28.813Z"
   },
   {
    "duration": 258,
    "start_time": "2022-02-02T21:36:44.632Z"
   },
   {
    "duration": 8,
    "start_time": "2022-02-02T21:37:12.455Z"
   },
   {
    "duration": 8,
    "start_time": "2022-02-02T21:37:43.723Z"
   },
   {
    "duration": 9,
    "start_time": "2022-02-02T21:43:02.008Z"
   },
   {
    "duration": 15,
    "start_time": "2022-02-02T21:43:04.751Z"
   },
   {
    "duration": 10,
    "start_time": "2022-02-02T21:43:22.027Z"
   },
   {
    "duration": 1333,
    "start_time": "2022-02-02T21:44:07.119Z"
   },
   {
    "duration": 9,
    "start_time": "2022-02-02T21:45:35.011Z"
   },
   {
    "duration": 5,
    "start_time": "2022-02-02T21:45:39.299Z"
   },
   {
    "duration": 7,
    "start_time": "2022-02-02T21:46:03.255Z"
   },
   {
    "duration": 4,
    "start_time": "2022-02-02T21:46:35.049Z"
   },
   {
    "duration": 4,
    "start_time": "2022-02-02T21:47:07.427Z"
   },
   {
    "duration": 6,
    "start_time": "2022-02-02T21:47:10.695Z"
   },
   {
    "duration": 664,
    "start_time": "2022-02-02T21:47:26.901Z"
   },
   {
    "duration": 109,
    "start_time": "2022-02-02T21:47:27.567Z"
   },
   {
    "duration": 5,
    "start_time": "2022-02-02T21:47:27.678Z"
   },
   {
    "duration": 10,
    "start_time": "2022-02-02T21:47:27.685Z"
   },
   {
    "duration": 5,
    "start_time": "2022-02-02T21:47:27.696Z"
   },
   {
    "duration": 8,
    "start_time": "2022-02-02T21:47:27.702Z"
   },
   {
    "duration": 16,
    "start_time": "2022-02-02T21:47:27.711Z"
   },
   {
    "duration": 3,
    "start_time": "2022-02-02T21:47:27.729Z"
   },
   {
    "duration": 4,
    "start_time": "2022-02-02T21:47:27.736Z"
   },
   {
    "duration": 13,
    "start_time": "2022-02-02T21:47:27.742Z"
   },
   {
    "duration": 18,
    "start_time": "2022-02-02T21:47:27.757Z"
   },
   {
    "duration": 42,
    "start_time": "2022-02-02T21:47:27.777Z"
   },
   {
    "duration": 23,
    "start_time": "2022-02-02T21:47:27.821Z"
   },
   {
    "duration": 8,
    "start_time": "2022-02-02T21:47:27.845Z"
   },
   {
    "duration": 21,
    "start_time": "2022-02-02T21:47:27.855Z"
   },
   {
    "duration": 50,
    "start_time": "2022-02-02T21:47:27.878Z"
   },
   {
    "duration": 9,
    "start_time": "2022-02-02T21:47:27.930Z"
   },
   {
    "duration": 21,
    "start_time": "2022-02-02T21:47:27.940Z"
   },
   {
    "duration": 3,
    "start_time": "2022-02-02T21:47:27.963Z"
   },
   {
    "duration": 82,
    "start_time": "2022-02-02T21:47:27.968Z"
   },
   {
    "duration": 4,
    "start_time": "2022-02-02T21:47:28.052Z"
   },
   {
    "duration": 5,
    "start_time": "2022-02-02T21:47:28.058Z"
   },
   {
    "duration": 10,
    "start_time": "2022-02-02T21:47:28.065Z"
   },
   {
    "duration": 6,
    "start_time": "2022-02-02T21:47:28.076Z"
   },
   {
    "duration": 4,
    "start_time": "2022-02-02T21:47:28.084Z"
   },
   {
    "duration": 44,
    "start_time": "2022-02-02T21:47:28.089Z"
   },
   {
    "duration": 12,
    "start_time": "2022-02-02T21:47:28.137Z"
   },
   {
    "duration": 15,
    "start_time": "2022-02-02T21:47:28.151Z"
   },
   {
    "duration": 8,
    "start_time": "2022-02-02T21:47:28.167Z"
   },
   {
    "duration": 53,
    "start_time": "2022-02-02T21:47:28.176Z"
   },
   {
    "duration": 18,
    "start_time": "2022-02-02T21:47:28.230Z"
   },
   {
    "duration": 3,
    "start_time": "2022-02-02T21:47:28.250Z"
   },
   {
    "duration": 11,
    "start_time": "2022-02-02T21:47:28.255Z"
   },
   {
    "duration": 5,
    "start_time": "2022-02-02T21:47:28.267Z"
   },
   {
    "duration": 6,
    "start_time": "2022-02-02T21:47:28.274Z"
   },
   {
    "duration": 18,
    "start_time": "2022-02-02T21:47:28.313Z"
   },
   {
    "duration": 5,
    "start_time": "2022-02-02T21:47:28.333Z"
   },
   {
    "duration": 5,
    "start_time": "2022-02-02T21:47:28.340Z"
   },
   {
    "duration": 21,
    "start_time": "2022-02-02T21:47:28.347Z"
   },
   {
    "duration": 10,
    "start_time": "2022-02-02T21:47:28.370Z"
   },
   {
    "duration": 33,
    "start_time": "2022-02-02T21:47:28.382Z"
   },
   {
    "duration": 4,
    "start_time": "2022-02-02T21:47:28.417Z"
   },
   {
    "duration": 5,
    "start_time": "2022-02-02T21:47:28.423Z"
   },
   {
    "duration": 4,
    "start_time": "2022-02-02T21:47:28.430Z"
   },
   {
    "duration": 14,
    "start_time": "2022-02-02T21:47:28.436Z"
   },
   {
    "duration": 61,
    "start_time": "2022-02-02T21:47:28.452Z"
   },
   {
    "duration": 20,
    "start_time": "2022-02-02T21:47:28.515Z"
   },
   {
    "duration": 11,
    "start_time": "2022-02-02T21:47:28.536Z"
   },
   {
    "duration": 5,
    "start_time": "2022-02-02T21:47:28.548Z"
   },
   {
    "duration": 18,
    "start_time": "2022-02-02T21:47:28.554Z"
   },
   {
    "duration": 4,
    "start_time": "2022-02-02T21:47:28.574Z"
   },
   {
    "duration": 42,
    "start_time": "2022-02-02T21:47:28.580Z"
   },
   {
    "duration": 8,
    "start_time": "2022-02-02T21:47:28.623Z"
   },
   {
    "duration": 6,
    "start_time": "2022-02-02T21:47:28.632Z"
   },
   {
    "duration": 18,
    "start_time": "2022-02-02T21:47:28.639Z"
   },
   {
    "duration": 8,
    "start_time": "2022-02-02T21:47:28.660Z"
   },
   {
    "duration": 43,
    "start_time": "2022-02-02T21:47:28.670Z"
   },
   {
    "duration": 3,
    "start_time": "2022-02-02T21:47:28.715Z"
   },
   {
    "duration": 10,
    "start_time": "2022-02-02T21:47:28.720Z"
   },
   {
    "duration": 5,
    "start_time": "2022-02-02T21:47:28.732Z"
   },
   {
    "duration": 20,
    "start_time": "2022-02-02T21:47:28.739Z"
   },
   {
    "duration": 15,
    "start_time": "2022-02-02T21:47:28.761Z"
   },
   {
    "duration": 42,
    "start_time": "2022-02-02T21:47:28.778Z"
   },
   {
    "duration": 12,
    "start_time": "2022-02-02T21:47:28.821Z"
   },
   {
    "duration": 5,
    "start_time": "2022-02-02T21:47:28.835Z"
   },
   {
    "duration": 206,
    "start_time": "2022-02-02T21:47:28.841Z"
   },
   {
    "duration": 20,
    "start_time": "2022-02-02T21:47:29.049Z"
   },
   {
    "duration": 7,
    "start_time": "2022-02-02T21:47:29.070Z"
   },
   {
    "duration": 385,
    "start_time": "2022-02-02T21:47:29.078Z"
   },
   {
    "duration": 195,
    "start_time": "2022-02-02T21:47:29.465Z"
   },
   {
    "duration": 8,
    "start_time": "2022-02-02T21:48:36.297Z"
   },
   {
    "duration": 627,
    "start_time": "2022-02-02T21:49:01.822Z"
   },
   {
    "duration": 97,
    "start_time": "2022-02-02T21:49:02.451Z"
   },
   {
    "duration": 7,
    "start_time": "2022-02-02T21:49:02.550Z"
   },
   {
    "duration": 11,
    "start_time": "2022-02-02T21:49:02.559Z"
   },
   {
    "duration": 5,
    "start_time": "2022-02-02T21:49:02.572Z"
   },
   {
    "duration": 9,
    "start_time": "2022-02-02T21:49:02.579Z"
   },
   {
    "duration": 24,
    "start_time": "2022-02-02T21:49:02.589Z"
   },
   {
    "duration": 4,
    "start_time": "2022-02-02T21:49:02.614Z"
   },
   {
    "duration": 4,
    "start_time": "2022-02-02T21:49:02.621Z"
   },
   {
    "duration": 12,
    "start_time": "2022-02-02T21:49:02.628Z"
   },
   {
    "duration": 17,
    "start_time": "2022-02-02T21:49:02.641Z"
   },
   {
    "duration": 11,
    "start_time": "2022-02-02T21:49:02.659Z"
   },
   {
    "duration": 55,
    "start_time": "2022-02-02T21:49:02.672Z"
   },
   {
    "duration": 8,
    "start_time": "2022-02-02T21:49:02.729Z"
   },
   {
    "duration": 17,
    "start_time": "2022-02-02T21:49:02.739Z"
   },
   {
    "duration": 16,
    "start_time": "2022-02-02T21:49:02.758Z"
   },
   {
    "duration": 37,
    "start_time": "2022-02-02T21:49:02.775Z"
   },
   {
    "duration": 20,
    "start_time": "2022-02-02T21:49:02.814Z"
   },
   {
    "duration": 3,
    "start_time": "2022-02-02T21:49:02.836Z"
   },
   {
    "duration": 74,
    "start_time": "2022-02-02T21:49:02.841Z"
   },
   {
    "duration": 5,
    "start_time": "2022-02-02T21:49:02.917Z"
   },
   {
    "duration": 6,
    "start_time": "2022-02-02T21:49:02.923Z"
   },
   {
    "duration": 8,
    "start_time": "2022-02-02T21:49:02.930Z"
   },
   {
    "duration": 5,
    "start_time": "2022-02-02T21:49:02.940Z"
   },
   {
    "duration": 6,
    "start_time": "2022-02-02T21:49:02.947Z"
   },
   {
    "duration": 25,
    "start_time": "2022-02-02T21:49:02.955Z"
   },
   {
    "duration": 11,
    "start_time": "2022-02-02T21:49:03.013Z"
   },
   {
    "duration": 14,
    "start_time": "2022-02-02T21:49:03.026Z"
   },
   {
    "duration": 10,
    "start_time": "2022-02-02T21:49:03.042Z"
   },
   {
    "duration": 24,
    "start_time": "2022-02-02T21:49:03.053Z"
   },
   {
    "duration": 46,
    "start_time": "2022-02-02T21:49:03.079Z"
   },
   {
    "duration": 5,
    "start_time": "2022-02-02T21:49:03.127Z"
   },
   {
    "duration": 10,
    "start_time": "2022-02-02T21:49:03.133Z"
   },
   {
    "duration": 4,
    "start_time": "2022-02-02T21:49:03.145Z"
   },
   {
    "duration": 7,
    "start_time": "2022-02-02T21:49:03.150Z"
   },
   {
    "duration": 23,
    "start_time": "2022-02-02T21:49:03.158Z"
   },
   {
    "duration": 32,
    "start_time": "2022-02-02T21:49:03.183Z"
   },
   {
    "duration": 6,
    "start_time": "2022-02-02T21:49:03.217Z"
   },
   {
    "duration": 21,
    "start_time": "2022-02-02T21:49:03.224Z"
   },
   {
    "duration": 9,
    "start_time": "2022-02-02T21:49:03.247Z"
   },
   {
    "duration": 15,
    "start_time": "2022-02-02T21:49:03.258Z"
   },
   {
    "duration": 6,
    "start_time": "2022-02-02T21:49:03.274Z"
   },
   {
    "duration": 9,
    "start_time": "2022-02-02T21:49:03.281Z"
   },
   {
    "duration": 23,
    "start_time": "2022-02-02T21:49:03.291Z"
   },
   {
    "duration": 14,
    "start_time": "2022-02-02T21:49:03.315Z"
   },
   {
    "duration": 25,
    "start_time": "2022-02-02T21:49:03.330Z"
   },
   {
    "duration": 17,
    "start_time": "2022-02-02T21:49:03.357Z"
   },
   {
    "duration": 40,
    "start_time": "2022-02-02T21:49:03.376Z"
   },
   {
    "duration": 4,
    "start_time": "2022-02-02T21:49:03.418Z"
   },
   {
    "duration": 13,
    "start_time": "2022-02-02T21:49:03.423Z"
   },
   {
    "duration": 7,
    "start_time": "2022-02-02T21:49:03.437Z"
   },
   {
    "duration": 16,
    "start_time": "2022-02-02T21:49:03.445Z"
   },
   {
    "duration": 8,
    "start_time": "2022-02-02T21:49:03.463Z"
   },
   {
    "duration": 48,
    "start_time": "2022-02-02T21:49:03.472Z"
   },
   {
    "duration": 8,
    "start_time": "2022-02-02T21:49:03.522Z"
   },
   {
    "duration": 12,
    "start_time": "2022-02-02T21:49:03.532Z"
   },
   {
    "duration": 3,
    "start_time": "2022-02-02T21:49:03.546Z"
   },
   {
    "duration": 11,
    "start_time": "2022-02-02T21:49:03.551Z"
   },
   {
    "duration": 6,
    "start_time": "2022-02-02T21:49:03.564Z"
   },
   {
    "duration": 50,
    "start_time": "2022-02-02T21:49:03.571Z"
   },
   {
    "duration": 15,
    "start_time": "2022-02-02T21:49:03.623Z"
   },
   {
    "duration": 12,
    "start_time": "2022-02-02T21:49:03.640Z"
   },
   {
    "duration": 11,
    "start_time": "2022-02-02T21:49:03.653Z"
   },
   {
    "duration": 7,
    "start_time": "2022-02-02T21:49:03.666Z"
   },
   {
    "duration": 289,
    "start_time": "2022-02-02T21:49:03.675Z"
   },
   {
    "duration": -4125,
    "start_time": "2022-02-02T21:49:08.092Z"
   },
   {
    "duration": -4133,
    "start_time": "2022-02-02T21:49:08.101Z"
   },
   {
    "duration": -4140,
    "start_time": "2022-02-02T21:49:08.109Z"
   },
   {
    "duration": -4148,
    "start_time": "2022-02-02T21:49:08.119Z"
   },
   {
    "duration": 822,
    "start_time": "2022-02-02T21:50:53.498Z"
   },
   {
    "duration": 600,
    "start_time": "2022-02-02T21:51:01.253Z"
   },
   {
    "duration": 95,
    "start_time": "2022-02-02T21:51:01.855Z"
   },
   {
    "duration": 5,
    "start_time": "2022-02-02T21:51:01.952Z"
   },
   {
    "duration": 11,
    "start_time": "2022-02-02T21:51:01.958Z"
   },
   {
    "duration": 4,
    "start_time": "2022-02-02T21:51:01.971Z"
   },
   {
    "duration": 9,
    "start_time": "2022-02-02T21:51:01.977Z"
   },
   {
    "duration": 15,
    "start_time": "2022-02-02T21:51:01.988Z"
   },
   {
    "duration": 7,
    "start_time": "2022-02-02T21:51:02.006Z"
   },
   {
    "duration": 4,
    "start_time": "2022-02-02T21:51:02.016Z"
   },
   {
    "duration": 13,
    "start_time": "2022-02-02T21:51:02.022Z"
   },
   {
    "duration": 17,
    "start_time": "2022-02-02T21:51:02.037Z"
   },
   {
    "duration": 12,
    "start_time": "2022-02-02T21:51:02.056Z"
   },
   {
    "duration": 53,
    "start_time": "2022-02-02T21:51:02.070Z"
   },
   {
    "duration": 8,
    "start_time": "2022-02-02T21:51:02.125Z"
   },
   {
    "duration": 18,
    "start_time": "2022-02-02T21:51:02.134Z"
   },
   {
    "duration": 18,
    "start_time": "2022-02-02T21:51:02.153Z"
   },
   {
    "duration": 9,
    "start_time": "2022-02-02T21:51:02.173Z"
   },
   {
    "duration": 47,
    "start_time": "2022-02-02T21:51:02.184Z"
   },
   {
    "duration": 4,
    "start_time": "2022-02-02T21:51:02.233Z"
   },
   {
    "duration": 77,
    "start_time": "2022-02-02T21:51:02.238Z"
   },
   {
    "duration": 5,
    "start_time": "2022-02-02T21:51:02.316Z"
   },
   {
    "duration": 7,
    "start_time": "2022-02-02T21:51:02.322Z"
   },
   {
    "duration": 8,
    "start_time": "2022-02-02T21:51:02.333Z"
   },
   {
    "duration": 7,
    "start_time": "2022-02-02T21:51:02.344Z"
   },
   {
    "duration": 7,
    "start_time": "2022-02-02T21:51:02.352Z"
   },
   {
    "duration": 25,
    "start_time": "2022-02-02T21:51:02.361Z"
   },
   {
    "duration": 31,
    "start_time": "2022-02-02T21:51:02.387Z"
   },
   {
    "duration": 20,
    "start_time": "2022-02-02T21:51:02.420Z"
   },
   {
    "duration": 13,
    "start_time": "2022-02-02T21:51:02.442Z"
   },
   {
    "duration": 26,
    "start_time": "2022-02-02T21:51:02.457Z"
   },
   {
    "duration": 32,
    "start_time": "2022-02-02T21:51:02.485Z"
   },
   {
    "duration": 8,
    "start_time": "2022-02-02T21:51:02.519Z"
   },
   {
    "duration": 15,
    "start_time": "2022-02-02T21:51:02.529Z"
   },
   {
    "duration": 5,
    "start_time": "2022-02-02T21:51:02.546Z"
   },
   {
    "duration": 8,
    "start_time": "2022-02-02T21:51:02.552Z"
   },
   {
    "duration": 21,
    "start_time": "2022-02-02T21:51:02.561Z"
   },
   {
    "duration": 5,
    "start_time": "2022-02-02T21:51:02.583Z"
   },
   {
    "duration": 23,
    "start_time": "2022-02-02T21:51:02.589Z"
   },
   {
    "duration": 20,
    "start_time": "2022-02-02T21:51:02.613Z"
   },
   {
    "duration": 9,
    "start_time": "2022-02-02T21:51:02.635Z"
   },
   {
    "duration": 9,
    "start_time": "2022-02-02T21:51:02.646Z"
   },
   {
    "duration": 7,
    "start_time": "2022-02-02T21:51:02.656Z"
   },
   {
    "duration": 6,
    "start_time": "2022-02-02T21:51:02.664Z"
   },
   {
    "duration": 3,
    "start_time": "2022-02-02T21:51:02.672Z"
   },
   {
    "duration": 42,
    "start_time": "2022-02-02T21:51:02.677Z"
   },
   {
    "duration": 27,
    "start_time": "2022-02-02T21:51:02.721Z"
   },
   {
    "duration": 17,
    "start_time": "2022-02-02T21:51:02.750Z"
   },
   {
    "duration": 8,
    "start_time": "2022-02-02T21:51:02.769Z"
   },
   {
    "duration": 34,
    "start_time": "2022-02-02T21:51:02.778Z"
   },
   {
    "duration": 12,
    "start_time": "2022-02-02T21:51:02.814Z"
   },
   {
    "duration": 5,
    "start_time": "2022-02-02T21:51:02.827Z"
   },
   {
    "duration": 17,
    "start_time": "2022-02-02T21:51:02.833Z"
   },
   {
    "duration": 7,
    "start_time": "2022-02-02T21:51:02.852Z"
   },
   {
    "duration": 21,
    "start_time": "2022-02-02T21:51:02.861Z"
   },
   {
    "duration": 33,
    "start_time": "2022-02-02T21:51:02.884Z"
   },
   {
    "duration": 12,
    "start_time": "2022-02-02T21:51:02.918Z"
   },
   {
    "duration": 3,
    "start_time": "2022-02-02T21:51:02.932Z"
   },
   {
    "duration": 9,
    "start_time": "2022-02-02T21:51:02.937Z"
   },
   {
    "duration": 6,
    "start_time": "2022-02-02T21:51:02.947Z"
   },
   {
    "duration": 17,
    "start_time": "2022-02-02T21:51:02.954Z"
   },
   {
    "duration": 43,
    "start_time": "2022-02-02T21:51:02.972Z"
   },
   {
    "duration": 11,
    "start_time": "2022-02-02T21:51:03.017Z"
   },
   {
    "duration": 11,
    "start_time": "2022-02-02T21:51:03.030Z"
   },
   {
    "duration": 5,
    "start_time": "2022-02-02T21:51:03.042Z"
   },
   {
    "duration": 239,
    "start_time": "2022-02-02T21:51:03.049Z"
   },
   {
    "duration": 25,
    "start_time": "2022-02-02T21:51:03.290Z"
   },
   {
    "duration": 6,
    "start_time": "2022-02-02T21:51:03.317Z"
   },
   {
    "duration": 372,
    "start_time": "2022-02-02T21:51:03.327Z"
   },
   {
    "duration": 193,
    "start_time": "2022-02-02T21:51:03.701Z"
   },
   {
    "duration": 4,
    "start_time": "2022-02-02T22:00:12.691Z"
   },
   {
    "duration": 19,
    "start_time": "2022-02-02T22:00:14.538Z"
   },
   {
    "duration": 8,
    "start_time": "2022-02-02T22:00:18.699Z"
   },
   {
    "duration": 7,
    "start_time": "2022-02-02T22:00:22.667Z"
   },
   {
    "duration": 12,
    "start_time": "2022-02-02T22:00:27.938Z"
   },
   {
    "duration": 607,
    "start_time": "2022-02-02T22:01:13.370Z"
   },
   {
    "duration": 99,
    "start_time": "2022-02-02T22:01:13.979Z"
   },
   {
    "duration": 6,
    "start_time": "2022-02-02T22:01:14.081Z"
   },
   {
    "duration": 13,
    "start_time": "2022-02-02T22:01:14.089Z"
   },
   {
    "duration": 5,
    "start_time": "2022-02-02T22:01:14.103Z"
   },
   {
    "duration": 8,
    "start_time": "2022-02-02T22:01:14.110Z"
   },
   {
    "duration": 16,
    "start_time": "2022-02-02T22:01:14.120Z"
   },
   {
    "duration": 3,
    "start_time": "2022-02-02T22:01:14.139Z"
   },
   {
    "duration": 7,
    "start_time": "2022-02-02T22:01:14.144Z"
   },
   {
    "duration": 14,
    "start_time": "2022-02-02T22:01:14.152Z"
   },
   {
    "duration": 16,
    "start_time": "2022-02-02T22:01:14.168Z"
   },
   {
    "duration": 37,
    "start_time": "2022-02-02T22:01:14.186Z"
   },
   {
    "duration": 21,
    "start_time": "2022-02-02T22:01:14.225Z"
   },
   {
    "duration": 8,
    "start_time": "2022-02-02T22:01:14.248Z"
   },
   {
    "duration": 20,
    "start_time": "2022-02-02T22:01:14.257Z"
   },
   {
    "duration": 51,
    "start_time": "2022-02-02T22:01:14.278Z"
   },
   {
    "duration": 10,
    "start_time": "2022-02-02T22:01:14.330Z"
   },
   {
    "duration": 23,
    "start_time": "2022-02-02T22:01:14.342Z"
   },
   {
    "duration": 4,
    "start_time": "2022-02-02T22:01:14.367Z"
   },
   {
    "duration": 82,
    "start_time": "2022-02-02T22:01:14.373Z"
   },
   {
    "duration": 4,
    "start_time": "2022-02-02T22:01:14.457Z"
   },
   {
    "duration": 6,
    "start_time": "2022-02-02T22:01:14.463Z"
   },
   {
    "duration": 8,
    "start_time": "2022-02-02T22:01:14.473Z"
   },
   {
    "duration": 5,
    "start_time": "2022-02-02T22:01:14.484Z"
   },
   {
    "duration": 4,
    "start_time": "2022-02-02T22:01:14.512Z"
   },
   {
    "duration": 32,
    "start_time": "2022-02-02T22:01:14.517Z"
   },
   {
    "duration": 12,
    "start_time": "2022-02-02T22:01:14.550Z"
   },
   {
    "duration": 18,
    "start_time": "2022-02-02T22:01:14.563Z"
   },
   {
    "duration": 11,
    "start_time": "2022-02-02T22:01:14.583Z"
   },
   {
    "duration": 37,
    "start_time": "2022-02-02T22:01:14.596Z"
   },
   {
    "duration": 18,
    "start_time": "2022-02-02T22:01:14.635Z"
   },
   {
    "duration": 5,
    "start_time": "2022-02-02T22:01:14.654Z"
   },
   {
    "duration": 11,
    "start_time": "2022-02-02T22:01:14.661Z"
   },
   {
    "duration": 5,
    "start_time": "2022-02-02T22:01:14.673Z"
   },
   {
    "duration": 36,
    "start_time": "2022-02-02T22:01:14.680Z"
   },
   {
    "duration": 22,
    "start_time": "2022-02-02T22:01:14.717Z"
   },
   {
    "duration": 5,
    "start_time": "2022-02-02T22:01:14.741Z"
   },
   {
    "duration": 5,
    "start_time": "2022-02-02T22:01:14.748Z"
   },
   {
    "duration": 21,
    "start_time": "2022-02-02T22:01:14.754Z"
   },
   {
    "duration": 10,
    "start_time": "2022-02-02T22:01:14.777Z"
   },
   {
    "duration": 7,
    "start_time": "2022-02-02T22:01:14.812Z"
   },
   {
    "duration": 4,
    "start_time": "2022-02-02T22:01:14.821Z"
   },
   {
    "duration": 15,
    "start_time": "2022-02-02T22:01:14.826Z"
   },
   {
    "duration": 9,
    "start_time": "2022-02-02T22:01:14.843Z"
   },
   {
    "duration": 18,
    "start_time": "2022-02-02T22:01:14.854Z"
   },
   {
    "duration": 27,
    "start_time": "2022-02-02T22:01:14.873Z"
   },
   {
    "duration": 19,
    "start_time": "2022-02-02T22:01:14.912Z"
   },
   {
    "duration": 8,
    "start_time": "2022-02-02T22:01:14.933Z"
   },
   {
    "duration": 5,
    "start_time": "2022-02-02T22:01:14.942Z"
   },
   {
    "duration": 12,
    "start_time": "2022-02-02T22:01:14.948Z"
   },
   {
    "duration": 5,
    "start_time": "2022-02-02T22:01:14.961Z"
   },
   {
    "duration": 51,
    "start_time": "2022-02-02T22:01:14.967Z"
   },
   {
    "duration": 8,
    "start_time": "2022-02-02T22:01:15.020Z"
   },
   {
    "duration": 8,
    "start_time": "2022-02-02T22:01:15.029Z"
   },
   {
    "duration": 21,
    "start_time": "2022-02-02T22:01:15.038Z"
   },
   {
    "duration": 7,
    "start_time": "2022-02-02T22:01:15.061Z"
   },
   {
    "duration": 11,
    "start_time": "2022-02-02T22:01:15.070Z"
   },
   {
    "duration": 4,
    "start_time": "2022-02-02T22:01:15.114Z"
   },
   {
    "duration": 10,
    "start_time": "2022-02-02T22:01:15.120Z"
   },
   {
    "duration": 6,
    "start_time": "2022-02-02T22:01:15.132Z"
   },
   {
    "duration": 20,
    "start_time": "2022-02-02T22:01:15.139Z"
   },
   {
    "duration": 12,
    "start_time": "2022-02-02T22:01:15.160Z"
   },
   {
    "duration": 39,
    "start_time": "2022-02-02T22:01:15.174Z"
   },
   {
    "duration": 13,
    "start_time": "2022-02-02T22:01:15.215Z"
   },
   {
    "duration": 4,
    "start_time": "2022-02-02T22:01:15.230Z"
   },
   {
    "duration": 211,
    "start_time": "2022-02-02T22:01:15.236Z"
   },
   {
    "duration": 19,
    "start_time": "2022-02-02T22:01:15.449Z"
   },
   {
    "duration": 6,
    "start_time": "2022-02-02T22:01:15.473Z"
   },
   {
    "duration": 392,
    "start_time": "2022-02-02T22:01:15.481Z"
   },
   {
    "duration": 203,
    "start_time": "2022-02-02T22:01:15.875Z"
   },
   {
    "duration": 12,
    "start_time": "2022-02-02T22:01:39.297Z"
   },
   {
    "duration": 5,
    "start_time": "2022-02-02T22:02:13.157Z"
   },
   {
    "duration": 195,
    "start_time": "2022-02-02T22:03:08.566Z"
   },
   {
    "duration": 20,
    "start_time": "2022-02-02T22:03:35.766Z"
   },
   {
    "duration": 7,
    "start_time": "2022-02-02T22:04:19.650Z"
   },
   {
    "duration": 333,
    "start_time": "2022-02-02T22:04:22.206Z"
   },
   {
    "duration": 665,
    "start_time": "2022-02-02T22:04:52.696Z"
   },
   {
    "duration": 100,
    "start_time": "2022-02-02T22:04:53.363Z"
   },
   {
    "duration": 6,
    "start_time": "2022-02-02T22:04:53.464Z"
   },
   {
    "duration": 12,
    "start_time": "2022-02-02T22:04:53.472Z"
   },
   {
    "duration": 8,
    "start_time": "2022-02-02T22:04:53.486Z"
   },
   {
    "duration": 9,
    "start_time": "2022-02-02T22:04:53.495Z"
   },
   {
    "duration": 17,
    "start_time": "2022-02-02T22:04:53.505Z"
   },
   {
    "duration": 3,
    "start_time": "2022-02-02T22:04:53.523Z"
   },
   {
    "duration": 9,
    "start_time": "2022-02-02T22:04:53.528Z"
   },
   {
    "duration": 14,
    "start_time": "2022-02-02T22:04:53.539Z"
   },
   {
    "duration": 17,
    "start_time": "2022-02-02T22:04:53.554Z"
   },
   {
    "duration": 11,
    "start_time": "2022-02-02T22:04:53.572Z"
   },
   {
    "duration": 47,
    "start_time": "2022-02-02T22:04:53.584Z"
   },
   {
    "duration": 9,
    "start_time": "2022-02-02T22:04:53.633Z"
   },
   {
    "duration": 21,
    "start_time": "2022-02-02T22:04:53.643Z"
   },
   {
    "duration": 19,
    "start_time": "2022-02-02T22:04:53.665Z"
   },
   {
    "duration": 10,
    "start_time": "2022-02-02T22:04:53.712Z"
   },
   {
    "duration": 30,
    "start_time": "2022-02-02T22:04:53.724Z"
   },
   {
    "duration": 4,
    "start_time": "2022-02-02T22:04:53.755Z"
   },
   {
    "duration": 69,
    "start_time": "2022-02-02T22:04:53.761Z"
   },
   {
    "duration": 5,
    "start_time": "2022-02-02T22:04:53.831Z"
   },
   {
    "duration": 6,
    "start_time": "2022-02-02T22:04:53.837Z"
   },
   {
    "duration": 8,
    "start_time": "2022-02-02T22:04:53.845Z"
   },
   {
    "duration": 9,
    "start_time": "2022-02-02T22:04:53.855Z"
   },
   {
    "duration": 4,
    "start_time": "2022-02-02T22:04:53.866Z"
   },
   {
    "duration": 51,
    "start_time": "2022-02-02T22:04:53.872Z"
   },
   {
    "duration": 11,
    "start_time": "2022-02-02T22:04:53.928Z"
   },
   {
    "duration": 16,
    "start_time": "2022-02-02T22:04:53.941Z"
   },
   {
    "duration": 9,
    "start_time": "2022-02-02T22:04:53.959Z"
   },
   {
    "duration": 50,
    "start_time": "2022-02-02T22:04:53.970Z"
   },
   {
    "duration": 16,
    "start_time": "2022-02-02T22:04:54.022Z"
   },
   {
    "duration": 5,
    "start_time": "2022-02-02T22:04:54.039Z"
   },
   {
    "duration": 13,
    "start_time": "2022-02-02T22:04:54.046Z"
   },
   {
    "duration": 5,
    "start_time": "2022-02-02T22:04:54.060Z"
   },
   {
    "duration": 11,
    "start_time": "2022-02-02T22:04:54.067Z"
   },
   {
    "duration": 42,
    "start_time": "2022-02-02T22:04:54.080Z"
   },
   {
    "duration": 5,
    "start_time": "2022-02-02T22:04:54.124Z"
   },
   {
    "duration": 10,
    "start_time": "2022-02-02T22:04:54.130Z"
   },
   {
    "duration": 20,
    "start_time": "2022-02-02T22:04:54.141Z"
   },
   {
    "duration": 9,
    "start_time": "2022-02-02T22:04:54.163Z"
   },
   {
    "duration": 10,
    "start_time": "2022-02-02T22:04:54.174Z"
   },
   {
    "duration": 27,
    "start_time": "2022-02-02T22:04:54.186Z"
   },
   {
    "duration": 11,
    "start_time": "2022-02-02T22:04:54.214Z"
   },
   {
    "duration": 10,
    "start_time": "2022-02-02T22:04:54.226Z"
   },
   {
    "duration": 21,
    "start_time": "2022-02-02T22:04:54.237Z"
   },
   {
    "duration": 32,
    "start_time": "2022-02-02T22:04:54.260Z"
   },
   {
    "duration": 18,
    "start_time": "2022-02-02T22:04:54.294Z"
   },
   {
    "duration": 7,
    "start_time": "2022-02-02T22:04:54.314Z"
   },
   {
    "duration": 13,
    "start_time": "2022-02-02T22:04:54.322Z"
   },
   {
    "duration": 25,
    "start_time": "2022-02-02T22:04:54.337Z"
   },
   {
    "duration": 11,
    "start_time": "2022-02-02T22:04:54.363Z"
   },
   {
    "duration": 21,
    "start_time": "2022-02-02T22:04:54.375Z"
   },
   {
    "duration": 8,
    "start_time": "2022-02-02T22:04:54.397Z"
   },
   {
    "duration": 14,
    "start_time": "2022-02-02T22:04:54.406Z"
   },
   {
    "duration": 26,
    "start_time": "2022-02-02T22:04:54.422Z"
   },
   {
    "duration": 7,
    "start_time": "2022-02-02T22:04:54.450Z"
   },
   {
    "duration": 13,
    "start_time": "2022-02-02T22:04:54.458Z"
   },
   {
    "duration": 4,
    "start_time": "2022-02-02T22:04:54.473Z"
   },
   {
    "duration": 26,
    "start_time": "2022-02-02T22:04:54.478Z"
   },
   {
    "duration": 11,
    "start_time": "2022-02-02T22:04:54.505Z"
   },
   {
    "duration": 34,
    "start_time": "2022-02-02T22:04:54.517Z"
   },
   {
    "duration": 14,
    "start_time": "2022-02-02T22:04:54.553Z"
   },
   {
    "duration": 10,
    "start_time": "2022-02-02T22:04:54.569Z"
   },
   {
    "duration": 12,
    "start_time": "2022-02-02T22:04:54.581Z"
   },
   {
    "duration": 4,
    "start_time": "2022-02-02T22:04:54.595Z"
   },
   {
    "duration": 205,
    "start_time": "2022-02-02T22:04:54.611Z"
   },
   {
    "duration": 20,
    "start_time": "2022-02-02T22:04:54.818Z"
   },
   {
    "duration": 6,
    "start_time": "2022-02-02T22:04:54.840Z"
   },
   {
    "duration": 399,
    "start_time": "2022-02-02T22:04:54.848Z"
   },
   {
    "duration": 203,
    "start_time": "2022-02-02T22:04:55.248Z"
   },
   {
    "duration": 655,
    "start_time": "2022-02-02T22:06:23.520Z"
   },
   {
    "duration": 97,
    "start_time": "2022-02-02T22:06:24.176Z"
   },
   {
    "duration": 7,
    "start_time": "2022-02-02T22:06:24.275Z"
   },
   {
    "duration": 12,
    "start_time": "2022-02-02T22:06:24.284Z"
   },
   {
    "duration": 5,
    "start_time": "2022-02-02T22:06:24.298Z"
   },
   {
    "duration": 11,
    "start_time": "2022-02-02T22:06:24.305Z"
   },
   {
    "duration": 16,
    "start_time": "2022-02-02T22:06:24.317Z"
   },
   {
    "duration": 4,
    "start_time": "2022-02-02T22:06:24.335Z"
   },
   {
    "duration": 4,
    "start_time": "2022-02-02T22:06:24.343Z"
   },
   {
    "duration": 14,
    "start_time": "2022-02-02T22:06:24.349Z"
   },
   {
    "duration": 59,
    "start_time": "2022-02-02T22:06:24.365Z"
   },
   {
    "duration": 13,
    "start_time": "2022-02-02T22:06:24.426Z"
   },
   {
    "duration": 24,
    "start_time": "2022-02-02T22:06:24.441Z"
   },
   {
    "duration": 10,
    "start_time": "2022-02-02T22:06:24.468Z"
   },
   {
    "duration": 52,
    "start_time": "2022-02-02T22:06:24.480Z"
   },
   {
    "duration": 19,
    "start_time": "2022-02-02T22:06:24.534Z"
   },
   {
    "duration": 10,
    "start_time": "2022-02-02T22:06:24.554Z"
   },
   {
    "duration": 47,
    "start_time": "2022-02-02T22:06:24.566Z"
   },
   {
    "duration": 4,
    "start_time": "2022-02-02T22:06:24.615Z"
   },
   {
    "duration": 59,
    "start_time": "2022-02-02T22:06:24.621Z"
   },
   {
    "duration": 4,
    "start_time": "2022-02-02T22:06:24.682Z"
   },
   {
    "duration": 24,
    "start_time": "2022-02-02T22:06:24.688Z"
   },
   {
    "duration": 9,
    "start_time": "2022-02-02T22:06:24.714Z"
   },
   {
    "duration": 7,
    "start_time": "2022-02-02T22:06:24.725Z"
   },
   {
    "duration": 5,
    "start_time": "2022-02-02T22:06:24.733Z"
   },
   {
    "duration": 24,
    "start_time": "2022-02-02T22:06:24.739Z"
   },
   {
    "duration": 44,
    "start_time": "2022-02-02T22:06:24.768Z"
   },
   {
    "duration": 15,
    "start_time": "2022-02-02T22:06:24.815Z"
   },
   {
    "duration": 9,
    "start_time": "2022-02-02T22:06:24.832Z"
   },
   {
    "duration": 26,
    "start_time": "2022-02-02T22:06:24.842Z"
   },
   {
    "duration": 43,
    "start_time": "2022-02-02T22:06:24.870Z"
   },
   {
    "duration": 5,
    "start_time": "2022-02-02T22:06:24.915Z"
   },
   {
    "duration": 10,
    "start_time": "2022-02-02T22:06:24.922Z"
   },
   {
    "duration": 6,
    "start_time": "2022-02-02T22:06:24.934Z"
   },
   {
    "duration": 6,
    "start_time": "2022-02-02T22:06:24.942Z"
   },
   {
    "duration": 19,
    "start_time": "2022-02-02T22:06:24.949Z"
   },
   {
    "duration": 5,
    "start_time": "2022-02-02T22:06:24.970Z"
   },
   {
    "duration": 4,
    "start_time": "2022-02-02T22:06:25.013Z"
   },
   {
    "duration": 24,
    "start_time": "2022-02-02T22:06:25.018Z"
   },
   {
    "duration": 10,
    "start_time": "2022-02-02T22:06:25.043Z"
   },
   {
    "duration": 10,
    "start_time": "2022-02-02T22:06:25.054Z"
   },
   {
    "duration": 8,
    "start_time": "2022-02-02T22:06:25.066Z"
   },
   {
    "duration": 6,
    "start_time": "2022-02-02T22:06:25.076Z"
   },
   {
    "duration": 29,
    "start_time": "2022-02-02T22:06:25.083Z"
   },
   {
    "duration": 12,
    "start_time": "2022-02-02T22:06:25.114Z"
   },
   {
    "duration": 27,
    "start_time": "2022-02-02T22:06:25.128Z"
   },
   {
    "duration": 19,
    "start_time": "2022-02-02T22:06:25.157Z"
   },
   {
    "duration": 40,
    "start_time": "2022-02-02T22:06:25.178Z"
   },
   {
    "duration": 4,
    "start_time": "2022-02-02T22:06:25.220Z"
   },
   {
    "duration": 13,
    "start_time": "2022-02-02T22:06:25.226Z"
   },
   {
    "duration": 5,
    "start_time": "2022-02-02T22:06:25.241Z"
   },
   {
    "duration": 18,
    "start_time": "2022-02-02T22:06:25.247Z"
   },
   {
    "duration": 11,
    "start_time": "2022-02-02T22:06:25.267Z"
   },
   {
    "duration": 45,
    "start_time": "2022-02-02T22:06:25.280Z"
   },
   {
    "duration": 12,
    "start_time": "2022-02-02T22:06:25.328Z"
   },
   {
    "duration": 10,
    "start_time": "2022-02-02T22:06:25.343Z"
   },
   {
    "duration": 4,
    "start_time": "2022-02-02T22:06:25.355Z"
   },
   {
    "duration": 11,
    "start_time": "2022-02-02T22:06:25.360Z"
   },
   {
    "duration": 42,
    "start_time": "2022-02-02T22:06:25.373Z"
   },
   {
    "duration": 19,
    "start_time": "2022-02-02T22:06:25.417Z"
   },
   {
    "duration": 13,
    "start_time": "2022-02-02T22:06:25.438Z"
   },
   {
    "duration": 12,
    "start_time": "2022-02-02T22:06:25.452Z"
   },
   {
    "duration": 51,
    "start_time": "2022-02-02T22:06:25.465Z"
   },
   {
    "duration": 5,
    "start_time": "2022-02-02T22:06:25.518Z"
   },
   {
    "duration": 224,
    "start_time": "2022-02-02T22:06:25.524Z"
   },
   {
    "duration": 19,
    "start_time": "2022-02-02T22:06:25.750Z"
   },
   {
    "duration": 6,
    "start_time": "2022-02-02T22:06:25.770Z"
   },
   {
    "duration": 410,
    "start_time": "2022-02-02T22:06:25.778Z"
   },
   {
    "duration": 207,
    "start_time": "2022-02-02T22:06:26.189Z"
   },
   {
    "duration": 31,
    "start_time": "2022-02-02T22:12:47.159Z"
   },
   {
    "duration": 195,
    "start_time": "2022-02-02T22:14:16.391Z"
   },
   {
    "duration": 199,
    "start_time": "2022-02-02T22:14:55.152Z"
   },
   {
    "duration": 58,
    "start_time": "2022-02-02T22:16:55.275Z"
   },
   {
    "duration": 73,
    "start_time": "2022-02-02T22:17:21.400Z"
   },
   {
    "duration": 73,
    "start_time": "2022-02-02T22:17:36.599Z"
   },
   {
    "duration": 13,
    "start_time": "2022-02-02T22:17:59.764Z"
   },
   {
    "duration": 13,
    "start_time": "2022-02-02T22:18:08.591Z"
   },
   {
    "duration": 16,
    "start_time": "2022-02-02T22:18:58.547Z"
   },
   {
    "duration": 19,
    "start_time": "2022-02-02T22:19:43.240Z"
   },
   {
    "duration": 19,
    "start_time": "2022-02-02T22:20:23.191Z"
   },
   {
    "duration": 21,
    "start_time": "2022-02-02T22:22:18.384Z"
   },
   {
    "duration": 28,
    "start_time": "2022-02-02T22:25:02.027Z"
   },
   {
    "duration": 284,
    "start_time": "2022-02-03T06:57:16.669Z"
   },
   {
    "duration": 709,
    "start_time": "2022-02-03T06:57:30.374Z"
   },
   {
    "duration": 270,
    "start_time": "2022-02-03T06:57:31.085Z"
   },
   {
    "duration": 6,
    "start_time": "2022-02-03T06:57:31.357Z"
   },
   {
    "duration": 18,
    "start_time": "2022-02-03T06:57:31.365Z"
   },
   {
    "duration": 6,
    "start_time": "2022-02-03T06:57:31.385Z"
   },
   {
    "duration": 20,
    "start_time": "2022-02-03T06:57:31.393Z"
   },
   {
    "duration": 22,
    "start_time": "2022-02-03T06:57:31.415Z"
   },
   {
    "duration": 3,
    "start_time": "2022-02-03T06:57:31.440Z"
   },
   {
    "duration": 9,
    "start_time": "2022-02-03T06:57:31.445Z"
   },
   {
    "duration": 27,
    "start_time": "2022-02-03T06:57:31.456Z"
   },
   {
    "duration": 19,
    "start_time": "2022-02-03T06:57:31.486Z"
   },
   {
    "duration": 20,
    "start_time": "2022-02-03T06:57:31.506Z"
   },
   {
    "duration": 27,
    "start_time": "2022-02-03T06:57:31.528Z"
   },
   {
    "duration": 9,
    "start_time": "2022-02-03T06:57:31.557Z"
   },
   {
    "duration": 30,
    "start_time": "2022-02-03T06:57:31.568Z"
   },
   {
    "duration": 27,
    "start_time": "2022-02-03T06:57:31.600Z"
   },
   {
    "duration": 11,
    "start_time": "2022-02-03T06:57:31.628Z"
   },
   {
    "duration": 28,
    "start_time": "2022-02-03T06:57:31.640Z"
   },
   {
    "duration": 5,
    "start_time": "2022-02-03T06:57:31.670Z"
   },
   {
    "duration": 83,
    "start_time": "2022-02-03T06:57:31.676Z"
   },
   {
    "duration": 5,
    "start_time": "2022-02-03T06:57:31.761Z"
   },
   {
    "duration": 9,
    "start_time": "2022-02-03T06:57:31.767Z"
   },
   {
    "duration": 9,
    "start_time": "2022-02-03T06:57:31.779Z"
   },
   {
    "duration": 10,
    "start_time": "2022-02-03T06:57:31.791Z"
   },
   {
    "duration": 19,
    "start_time": "2022-02-03T06:57:31.802Z"
   },
   {
    "duration": 27,
    "start_time": "2022-02-03T06:57:31.823Z"
   },
   {
    "duration": 12,
    "start_time": "2022-02-03T06:57:31.851Z"
   },
   {
    "duration": 21,
    "start_time": "2022-02-03T06:57:31.865Z"
   },
   {
    "duration": 31,
    "start_time": "2022-02-03T06:57:31.888Z"
   },
   {
    "duration": 34,
    "start_time": "2022-02-03T06:57:31.921Z"
   },
   {
    "duration": 17,
    "start_time": "2022-02-03T06:57:31.956Z"
   },
   {
    "duration": 4,
    "start_time": "2022-02-03T06:57:31.975Z"
   },
   {
    "duration": 15,
    "start_time": "2022-02-03T06:57:31.981Z"
   },
   {
    "duration": 5,
    "start_time": "2022-02-03T06:57:32.019Z"
   },
   {
    "duration": 7,
    "start_time": "2022-02-03T06:57:32.026Z"
   },
   {
    "duration": 25,
    "start_time": "2022-02-03T06:57:32.035Z"
   },
   {
    "duration": 6,
    "start_time": "2022-02-03T06:57:32.062Z"
   },
   {
    "duration": 9,
    "start_time": "2022-02-03T06:57:32.070Z"
   },
   {
    "duration": 39,
    "start_time": "2022-02-03T06:57:32.081Z"
   },
   {
    "duration": 11,
    "start_time": "2022-02-03T06:57:32.122Z"
   },
   {
    "duration": 19,
    "start_time": "2022-02-03T06:57:32.134Z"
   },
   {
    "duration": 19,
    "start_time": "2022-02-03T06:57:32.155Z"
   },
   {
    "duration": 32,
    "start_time": "2022-02-03T06:57:32.176Z"
   },
   {
    "duration": 4,
    "start_time": "2022-02-03T06:57:32.210Z"
   },
   {
    "duration": 17,
    "start_time": "2022-02-03T06:57:32.216Z"
   },
   {
    "duration": 32,
    "start_time": "2022-02-03T06:57:32.236Z"
   },
   {
    "duration": 21,
    "start_time": "2022-02-03T06:57:32.270Z"
   },
   {
    "duration": 33,
    "start_time": "2022-02-03T06:57:32.294Z"
   },
   {
    "duration": 7,
    "start_time": "2022-02-03T06:57:32.329Z"
   },
   {
    "duration": 16,
    "start_time": "2022-02-03T06:57:32.338Z"
   },
   {
    "duration": 6,
    "start_time": "2022-02-03T06:57:32.357Z"
   },
   {
    "duration": 21,
    "start_time": "2022-02-03T06:57:32.365Z"
   },
   {
    "duration": 10,
    "start_time": "2022-02-03T06:57:32.419Z"
   },
   {
    "duration": 20,
    "start_time": "2022-02-03T06:57:32.431Z"
   },
   {
    "duration": 9,
    "start_time": "2022-02-03T06:57:32.454Z"
   },
   {
    "duration": 11,
    "start_time": "2022-02-03T06:57:32.465Z"
   },
   {
    "duration": 41,
    "start_time": "2022-02-03T06:57:32.478Z"
   },
   {
    "duration": 11,
    "start_time": "2022-02-03T06:57:32.521Z"
   },
   {
    "duration": 16,
    "start_time": "2022-02-03T06:57:32.534Z"
   },
   {
    "duration": 22,
    "start_time": "2022-02-03T06:57:32.552Z"
   },
   {
    "duration": 17,
    "start_time": "2022-02-03T06:57:32.575Z"
   },
   {
    "duration": 13,
    "start_time": "2022-02-03T06:57:32.594Z"
   },
   {
    "duration": 12,
    "start_time": "2022-02-03T06:57:32.619Z"
   },
   {
    "duration": 5,
    "start_time": "2022-02-03T06:57:32.633Z"
   },
   {
    "duration": 212,
    "start_time": "2022-02-03T06:57:32.640Z"
   },
   {
    "duration": 20,
    "start_time": "2022-02-03T06:57:32.854Z"
   },
   {
    "duration": 6,
    "start_time": "2022-02-03T06:57:32.875Z"
   },
   {
    "duration": 393,
    "start_time": "2022-02-03T06:57:32.886Z"
   },
   {
    "duration": 197,
    "start_time": "2022-02-03T06:57:33.281Z"
   },
   {
    "duration": 303,
    "start_time": "2022-02-03T06:57:53.455Z"
   },
   {
    "duration": 319,
    "start_time": "2022-02-03T06:58:01.534Z"
   },
   {
    "duration": 323,
    "start_time": "2022-02-03T06:58:18.319Z"
   },
   {
    "duration": 351,
    "start_time": "2022-02-03T06:58:30.311Z"
   },
   {
    "duration": 312,
    "start_time": "2022-02-03T07:01:56.774Z"
   },
   {
    "duration": 87,
    "start_time": "2022-02-03T07:02:33.535Z"
   },
   {
    "duration": 82,
    "start_time": "2022-02-03T07:02:46.047Z"
   },
   {
    "duration": 84,
    "start_time": "2022-02-03T07:02:54.088Z"
   },
   {
    "duration": 157,
    "start_time": "2022-02-03T07:03:02.263Z"
   },
   {
    "duration": 90,
    "start_time": "2022-02-03T07:03:12.943Z"
   },
   {
    "duration": 324,
    "start_time": "2022-02-03T07:03:18.223Z"
   },
   {
    "duration": 186,
    "start_time": "2022-02-03T07:05:23.991Z"
   },
   {
    "duration": 178,
    "start_time": "2022-02-03T07:05:48.927Z"
   },
   {
    "duration": 180,
    "start_time": "2022-02-03T07:10:01.552Z"
   },
   {
    "duration": 254,
    "start_time": "2022-02-03T07:10:12.942Z"
   },
   {
    "duration": 185,
    "start_time": "2022-02-03T07:10:37.871Z"
   },
   {
    "duration": 319,
    "start_time": "2022-02-03T07:12:33.159Z"
   },
   {
    "duration": 253,
    "start_time": "2022-02-03T07:13:12.095Z"
   },
   {
    "duration": 5,
    "start_time": "2022-02-03T07:13:33.376Z"
   },
   {
    "duration": 5,
    "start_time": "2022-02-03T07:15:15.934Z"
   },
   {
    "duration": 261,
    "start_time": "2022-02-03T07:16:31.192Z"
   },
   {
    "duration": 249,
    "start_time": "2022-02-03T07:16:40.056Z"
   },
   {
    "duration": 253,
    "start_time": "2022-02-03T07:16:50.991Z"
   },
   {
    "duration": 281,
    "start_time": "2022-02-03T07:17:00.496Z"
   },
   {
    "duration": 16,
    "start_time": "2022-02-03T07:18:08.767Z"
   },
   {
    "duration": 20,
    "start_time": "2022-02-03T07:18:48.248Z"
   },
   {
    "duration": 24,
    "start_time": "2022-02-03T07:20:02.049Z"
   },
   {
    "duration": 12,
    "start_time": "2022-02-03T07:21:11.728Z"
   },
   {
    "duration": 34,
    "start_time": "2022-02-03T07:21:28.271Z"
   },
   {
    "duration": 34,
    "start_time": "2022-02-03T07:23:58.985Z"
   },
   {
    "duration": 30,
    "start_time": "2022-02-03T07:25:36.746Z"
   },
   {
    "duration": 20,
    "start_time": "2022-02-03T07:25:47.808Z"
   },
   {
    "duration": 19,
    "start_time": "2022-02-03T07:27:00.407Z"
   },
   {
    "duration": 22,
    "start_time": "2022-02-03T07:27:16.576Z"
   },
   {
    "duration": 28,
    "start_time": "2022-02-03T07:27:53.072Z"
   },
   {
    "duration": 182,
    "start_time": "2022-02-03T07:29:01.440Z"
   },
   {
    "duration": 179,
    "start_time": "2022-02-03T07:29:21.424Z"
   },
   {
    "duration": 200,
    "start_time": "2022-02-03T07:29:33.169Z"
   },
   {
    "duration": 19,
    "start_time": "2022-02-03T07:29:58.024Z"
   },
   {
    "duration": 20,
    "start_time": "2022-02-03T07:30:19.921Z"
   },
   {
    "duration": 20,
    "start_time": "2022-02-03T07:30:49.616Z"
   },
   {
    "duration": 22,
    "start_time": "2022-02-03T07:31:17.265Z"
   },
   {
    "duration": 276,
    "start_time": "2022-02-03T07:34:41.191Z"
   },
   {
    "duration": 29,
    "start_time": "2022-02-03T07:34:47.185Z"
   },
   {
    "duration": 87,
    "start_time": "2022-02-03T07:37:11.633Z"
   },
   {
    "duration": 173,
    "start_time": "2022-02-03T07:37:28.384Z"
   },
   {
    "duration": 238,
    "start_time": "2022-02-03T07:38:21.104Z"
   },
   {
    "duration": 196,
    "start_time": "2022-02-03T07:38:42.200Z"
   },
   {
    "duration": 200,
    "start_time": "2022-02-03T07:38:50.815Z"
   },
   {
    "duration": 212,
    "start_time": "2022-02-03T07:38:57.879Z"
   },
   {
    "duration": 214,
    "start_time": "2022-02-03T07:39:27.369Z"
   },
   {
    "duration": 256,
    "start_time": "2022-02-03T07:39:52.624Z"
   },
   {
    "duration": 209,
    "start_time": "2022-02-03T07:40:18.264Z"
   },
   {
    "duration": 295,
    "start_time": "2022-02-03T07:47:48.376Z"
   },
   {
    "duration": 304,
    "start_time": "2022-02-03T07:48:21.376Z"
   },
   {
    "duration": 560,
    "start_time": "2022-02-03T07:48:39.384Z"
   },
   {
    "duration": 589,
    "start_time": "2022-02-03T07:48:59.152Z"
   },
   {
    "duration": 301,
    "start_time": "2022-02-03T07:49:07.752Z"
   },
   {
    "duration": 293,
    "start_time": "2022-02-03T07:49:18.031Z"
   },
   {
    "duration": 392,
    "start_time": "2022-02-03T07:49:30.192Z"
   },
   {
    "duration": 296,
    "start_time": "2022-02-03T07:49:37.079Z"
   },
   {
    "duration": 563,
    "start_time": "2022-02-03T07:49:49.512Z"
   },
   {
    "duration": 392,
    "start_time": "2022-02-03T07:50:20.800Z"
   },
   {
    "duration": 203,
    "start_time": "2022-02-03T07:51:25.577Z"
   },
   {
    "duration": 201,
    "start_time": "2022-02-03T07:51:37.695Z"
   },
   {
    "duration": 694,
    "start_time": "2022-02-03T07:54:49.219Z"
   },
   {
    "duration": 117,
    "start_time": "2022-02-03T07:54:49.915Z"
   },
   {
    "duration": 6,
    "start_time": "2022-02-03T07:54:50.034Z"
   },
   {
    "duration": 15,
    "start_time": "2022-02-03T07:54:50.042Z"
   },
   {
    "duration": 8,
    "start_time": "2022-02-03T07:54:50.059Z"
   },
   {
    "duration": 9,
    "start_time": "2022-02-03T07:54:50.069Z"
   },
   {
    "duration": 40,
    "start_time": "2022-02-03T07:54:50.080Z"
   },
   {
    "duration": 4,
    "start_time": "2022-02-03T07:54:50.121Z"
   },
   {
    "duration": 6,
    "start_time": "2022-02-03T07:54:50.128Z"
   },
   {
    "duration": 14,
    "start_time": "2022-02-03T07:54:50.136Z"
   },
   {
    "duration": 18,
    "start_time": "2022-02-03T07:54:50.152Z"
   },
   {
    "duration": 15,
    "start_time": "2022-02-03T07:54:50.172Z"
   },
   {
    "duration": 24,
    "start_time": "2022-02-03T07:54:50.218Z"
   },
   {
    "duration": 11,
    "start_time": "2022-02-03T07:54:50.244Z"
   },
   {
    "duration": 33,
    "start_time": "2022-02-03T07:54:50.257Z"
   },
   {
    "duration": 40,
    "start_time": "2022-02-03T07:54:50.292Z"
   },
   {
    "duration": 11,
    "start_time": "2022-02-03T07:54:50.333Z"
   },
   {
    "duration": 25,
    "start_time": "2022-02-03T07:54:50.346Z"
   },
   {
    "duration": 4,
    "start_time": "2022-02-03T07:54:50.373Z"
   },
   {
    "duration": 90,
    "start_time": "2022-02-03T07:54:50.379Z"
   },
   {
    "duration": 5,
    "start_time": "2022-02-03T07:54:50.471Z"
   },
   {
    "duration": 19,
    "start_time": "2022-02-03T07:54:50.477Z"
   },
   {
    "duration": 11,
    "start_time": "2022-02-03T07:54:50.498Z"
   },
   {
    "duration": 11,
    "start_time": "2022-02-03T07:54:50.511Z"
   },
   {
    "duration": 5,
    "start_time": "2022-02-03T07:54:50.524Z"
   },
   {
    "duration": 40,
    "start_time": "2022-02-03T07:54:50.530Z"
   },
   {
    "duration": 12,
    "start_time": "2022-02-03T07:54:50.575Z"
   },
   {
    "duration": 18,
    "start_time": "2022-02-03T07:54:50.589Z"
   },
   {
    "duration": 13,
    "start_time": "2022-02-03T07:54:50.609Z"
   },
   {
    "duration": 37,
    "start_time": "2022-02-03T07:54:50.624Z"
   },
   {
    "duration": 19,
    "start_time": "2022-02-03T07:54:50.663Z"
   },
   {
    "duration": 8,
    "start_time": "2022-02-03T07:54:50.684Z"
   },
   {
    "duration": 19,
    "start_time": "2022-02-03T07:54:50.694Z"
   },
   {
    "duration": 5,
    "start_time": "2022-02-03T07:54:50.718Z"
   },
   {
    "duration": 9,
    "start_time": "2022-02-03T07:54:50.725Z"
   },
   {
    "duration": 22,
    "start_time": "2022-02-03T07:54:50.735Z"
   },
   {
    "duration": 6,
    "start_time": "2022-02-03T07:54:50.758Z"
   },
   {
    "duration": 6,
    "start_time": "2022-02-03T07:54:50.765Z"
   },
   {
    "duration": 23,
    "start_time": "2022-02-03T07:54:50.772Z"
   },
   {
    "duration": 30,
    "start_time": "2022-02-03T07:54:50.796Z"
   },
   {
    "duration": 12,
    "start_time": "2022-02-03T07:54:50.828Z"
   },
   {
    "duration": 16,
    "start_time": "2022-02-03T07:54:50.841Z"
   },
   {
    "duration": 9,
    "start_time": "2022-02-03T07:54:50.859Z"
   },
   {
    "duration": 4,
    "start_time": "2022-02-03T07:54:50.869Z"
   },
   {
    "duration": 19,
    "start_time": "2022-02-03T07:54:50.875Z"
   },
   {
    "duration": 30,
    "start_time": "2022-02-03T07:54:50.896Z"
   },
   {
    "duration": 18,
    "start_time": "2022-02-03T07:54:50.927Z"
   },
   {
    "duration": 8,
    "start_time": "2022-02-03T07:54:50.947Z"
   },
   {
    "duration": 4,
    "start_time": "2022-02-03T07:54:50.957Z"
   },
   {
    "duration": 16,
    "start_time": "2022-02-03T07:54:50.962Z"
   },
   {
    "duration": 5,
    "start_time": "2022-02-03T07:54:50.979Z"
   },
   {
    "duration": 45,
    "start_time": "2022-02-03T07:54:50.986Z"
   },
   {
    "duration": 8,
    "start_time": "2022-02-03T07:54:51.033Z"
   },
   {
    "duration": 28,
    "start_time": "2022-02-03T07:54:51.043Z"
   },
   {
    "duration": 7,
    "start_time": "2022-02-03T07:54:51.073Z"
   },
   {
    "duration": 14,
    "start_time": "2022-02-03T07:54:51.082Z"
   },
   {
    "duration": 22,
    "start_time": "2022-02-03T07:54:51.097Z"
   },
   {
    "duration": 12,
    "start_time": "2022-02-03T07:54:51.121Z"
   },
   {
    "duration": 7,
    "start_time": "2022-02-03T07:54:51.135Z"
   },
   {
    "duration": 23,
    "start_time": "2022-02-03T07:54:51.143Z"
   },
   {
    "duration": 16,
    "start_time": "2022-02-03T07:54:51.168Z"
   },
   {
    "duration": 35,
    "start_time": "2022-02-03T07:54:51.186Z"
   },
   {
    "duration": 12,
    "start_time": "2022-02-03T07:54:51.222Z"
   },
   {
    "duration": 6,
    "start_time": "2022-02-03T07:54:51.236Z"
   },
   {
    "duration": 241,
    "start_time": "2022-02-03T07:54:51.243Z"
   },
   {
    "duration": 19,
    "start_time": "2022-02-03T07:54:51.486Z"
   },
   {
    "duration": 7,
    "start_time": "2022-02-03T07:54:51.519Z"
   },
   {
    "duration": 381,
    "start_time": "2022-02-03T07:54:51.527Z"
   },
   {
    "duration": 225,
    "start_time": "2022-02-03T07:54:51.909Z"
   },
   {
    "duration": 204,
    "start_time": "2022-02-03T07:55:17.125Z"
   },
   {
    "duration": 229,
    "start_time": "2022-02-03T07:56:40.636Z"
   },
   {
    "duration": 246,
    "start_time": "2022-02-03T07:56:54.212Z"
   },
   {
    "duration": 225,
    "start_time": "2022-02-03T07:57:02.013Z"
   },
   {
    "duration": 206,
    "start_time": "2022-02-03T07:57:12.181Z"
   },
   {
    "duration": 202,
    "start_time": "2022-02-03T07:57:18.732Z"
   },
   {
    "duration": 210,
    "start_time": "2022-02-03T07:57:24.573Z"
   },
   {
    "duration": 331,
    "start_time": "2022-02-03T12:42:39.583Z"
   },
   {
    "duration": 11,
    "start_time": "2022-02-03T12:42:49.999Z"
   },
   {
    "duration": 28,
    "start_time": "2022-02-03T12:43:00.123Z"
   },
   {
    "duration": 8,
    "start_time": "2022-02-03T12:43:19.235Z"
   },
   {
    "duration": 28,
    "start_time": "2022-02-03T12:43:22.319Z"
   },
   {
    "duration": 248,
    "start_time": "2022-02-03T13:03:52.400Z"
   },
   {
    "duration": 7,
    "start_time": "2022-02-03T13:04:01.367Z"
   },
   {
    "duration": 6,
    "start_time": "2022-02-03T13:04:03.130Z"
   },
   {
    "duration": 5,
    "start_time": "2022-02-03T13:04:13.976Z"
   },
   {
    "duration": 404,
    "start_time": "2022-02-03T13:08:42.414Z"
   },
   {
    "duration": 377,
    "start_time": "2022-02-03T13:09:15.416Z"
   },
   {
    "duration": 259,
    "start_time": "2022-02-03T13:25:45.031Z"
   },
   {
    "duration": 283,
    "start_time": "2022-02-03T13:25:59.503Z"
   },
   {
    "duration": 28,
    "start_time": "2022-02-03T13:29:44.446Z"
   },
   {
    "duration": 266,
    "start_time": "2022-02-03T13:31:17.167Z"
   },
   {
    "duration": 186,
    "start_time": "2022-02-03T13:31:25.903Z"
   },
   {
    "duration": 12,
    "start_time": "2022-02-03T13:33:12.190Z"
   },
   {
    "duration": 189,
    "start_time": "2022-02-03T13:33:15.465Z"
   },
   {
    "duration": 260,
    "start_time": "2022-02-03T13:33:30.887Z"
   },
   {
    "duration": 10,
    "start_time": "2022-02-03T13:33:56.902Z"
   },
   {
    "duration": 186,
    "start_time": "2022-02-03T13:33:59.022Z"
   },
   {
    "duration": 288,
    "start_time": "2022-02-03T13:34:01.766Z"
   },
   {
    "duration": 720,
    "start_time": "2022-02-03T13:34:26.028Z"
   },
   {
    "duration": 118,
    "start_time": "2022-02-03T13:34:26.750Z"
   },
   {
    "duration": 6,
    "start_time": "2022-02-03T13:34:26.870Z"
   },
   {
    "duration": 13,
    "start_time": "2022-02-03T13:34:26.878Z"
   },
   {
    "duration": 7,
    "start_time": "2022-02-03T13:34:26.893Z"
   },
   {
    "duration": 9,
    "start_time": "2022-02-03T13:34:26.902Z"
   },
   {
    "duration": 17,
    "start_time": "2022-02-03T13:34:26.912Z"
   },
   {
    "duration": 7,
    "start_time": "2022-02-03T13:34:26.931Z"
   },
   {
    "duration": 10,
    "start_time": "2022-02-03T13:34:26.940Z"
   },
   {
    "duration": 21,
    "start_time": "2022-02-03T13:34:26.952Z"
   },
   {
    "duration": 20,
    "start_time": "2022-02-03T13:34:26.975Z"
   },
   {
    "duration": 30,
    "start_time": "2022-02-03T13:34:26.996Z"
   },
   {
    "duration": 25,
    "start_time": "2022-02-03T13:34:27.028Z"
   },
   {
    "duration": 9,
    "start_time": "2022-02-03T13:34:27.054Z"
   },
   {
    "duration": 26,
    "start_time": "2022-02-03T13:34:27.065Z"
   },
   {
    "duration": 39,
    "start_time": "2022-02-03T13:34:27.093Z"
   },
   {
    "duration": 13,
    "start_time": "2022-02-03T13:34:27.134Z"
   },
   {
    "duration": 23,
    "start_time": "2022-02-03T13:34:27.148Z"
   },
   {
    "duration": 5,
    "start_time": "2022-02-03T13:34:27.173Z"
   },
   {
    "duration": 91,
    "start_time": "2022-02-03T13:34:27.179Z"
   },
   {
    "duration": 4,
    "start_time": "2022-02-03T13:34:27.272Z"
   },
   {
    "duration": 16,
    "start_time": "2022-02-03T13:34:27.278Z"
   },
   {
    "duration": 25,
    "start_time": "2022-02-03T13:34:27.298Z"
   },
   {
    "duration": 20,
    "start_time": "2022-02-03T13:34:27.325Z"
   },
   {
    "duration": 10,
    "start_time": "2022-02-03T13:34:27.347Z"
   },
   {
    "duration": 31,
    "start_time": "2022-02-03T13:34:27.358Z"
   },
   {
    "duration": 12,
    "start_time": "2022-02-03T13:34:27.391Z"
   },
   {
    "duration": 24,
    "start_time": "2022-02-03T13:34:27.405Z"
   },
   {
    "duration": 12,
    "start_time": "2022-02-03T13:34:27.431Z"
   },
   {
    "duration": 26,
    "start_time": "2022-02-03T13:34:27.445Z"
   },
   {
    "duration": 21,
    "start_time": "2022-02-03T13:34:27.473Z"
   },
   {
    "duration": 26,
    "start_time": "2022-02-03T13:34:27.495Z"
   },
   {
    "duration": 32,
    "start_time": "2022-02-03T13:34:27.523Z"
   },
   {
    "duration": 12,
    "start_time": "2022-02-03T13:34:27.557Z"
   },
   {
    "duration": 17,
    "start_time": "2022-02-03T13:34:27.571Z"
   },
   {
    "duration": 19,
    "start_time": "2022-02-03T13:34:27.590Z"
   },
   {
    "duration": 8,
    "start_time": "2022-02-03T13:34:27.611Z"
   },
   {
    "duration": 19,
    "start_time": "2022-02-03T13:34:27.620Z"
   },
   {
    "duration": 26,
    "start_time": "2022-02-03T13:34:27.640Z"
   },
   {
    "duration": 11,
    "start_time": "2022-02-03T13:34:27.668Z"
   },
   {
    "duration": 13,
    "start_time": "2022-02-03T13:34:27.681Z"
   },
   {
    "duration": 23,
    "start_time": "2022-02-03T13:34:27.696Z"
   },
   {
    "duration": 10,
    "start_time": "2022-02-03T13:34:27.721Z"
   },
   {
    "duration": 10,
    "start_time": "2022-02-03T13:34:27.733Z"
   },
   {
    "duration": 32,
    "start_time": "2022-02-03T13:34:27.745Z"
   },
   {
    "duration": 32,
    "start_time": "2022-02-03T13:34:27.779Z"
   },
   {
    "duration": 22,
    "start_time": "2022-02-03T13:34:27.812Z"
   },
   {
    "duration": 21,
    "start_time": "2022-02-03T13:34:27.836Z"
   },
   {
    "duration": 15,
    "start_time": "2022-02-03T13:34:27.859Z"
   },
   {
    "duration": 35,
    "start_time": "2022-02-03T13:34:27.875Z"
   },
   {
    "duration": 5,
    "start_time": "2022-02-03T13:34:27.912Z"
   },
   {
    "duration": 18,
    "start_time": "2022-02-03T13:34:27.919Z"
   },
   {
    "duration": 7,
    "start_time": "2022-02-03T13:34:27.938Z"
   },
   {
    "duration": 20,
    "start_time": "2022-02-03T13:34:27.947Z"
   },
   {
    "duration": 8,
    "start_time": "2022-02-03T13:34:27.968Z"
   },
   {
    "duration": 41,
    "start_time": "2022-02-03T13:34:27.977Z"
   },
   {
    "duration": 4,
    "start_time": "2022-02-03T13:34:28.020Z"
   },
   {
    "duration": 18,
    "start_time": "2022-02-03T13:34:28.025Z"
   },
   {
    "duration": 17,
    "start_time": "2022-02-03T13:34:28.044Z"
   },
   {
    "duration": 25,
    "start_time": "2022-02-03T13:34:28.063Z"
   },
   {
    "duration": 32,
    "start_time": "2022-02-03T13:34:28.090Z"
   },
   {
    "duration": 12,
    "start_time": "2022-02-03T13:34:28.123Z"
   },
   {
    "duration": 10,
    "start_time": "2022-02-03T13:34:28.137Z"
   },
   {
    "duration": 5,
    "start_time": "2022-02-03T13:34:28.149Z"
   },
   {
    "duration": 262,
    "start_time": "2022-02-03T13:34:28.156Z"
   },
   {
    "duration": 21,
    "start_time": "2022-02-03T13:34:28.420Z"
   },
   {
    "duration": 9,
    "start_time": "2022-02-03T13:34:28.443Z"
   },
   {
    "duration": 421,
    "start_time": "2022-02-03T13:34:28.456Z"
   },
   {
    "duration": 239,
    "start_time": "2022-02-03T13:34:28.879Z"
   },
   {
    "duration": 8,
    "start_time": "2022-02-03T13:34:29.120Z"
   },
   {
    "duration": 209,
    "start_time": "2022-02-03T13:34:29.130Z"
   },
   {
    "duration": 340,
    "start_time": "2022-02-03T13:34:29.340Z"
   },
   {
    "duration": 7,
    "start_time": "2022-02-03T13:35:07.470Z"
   },
   {
    "duration": 9,
    "start_time": "2022-02-03T13:35:15.553Z"
   },
   {
    "duration": 11,
    "start_time": "2022-02-03T13:35:29.726Z"
   },
   {
    "duration": 29,
    "start_time": "2022-02-03T13:35:31.263Z"
   },
   {
    "duration": 208,
    "start_time": "2022-02-03T13:35:53.710Z"
   },
   {
    "duration": 11,
    "start_time": "2022-02-03T13:38:34.726Z"
   },
   {
    "duration": 20,
    "start_time": "2022-02-03T13:38:37.158Z"
   },
   {
    "duration": 11,
    "start_time": "2022-02-03T13:39:25.006Z"
   },
   {
    "duration": 28,
    "start_time": "2022-02-03T13:39:27.311Z"
   },
   {
    "duration": 11,
    "start_time": "2022-02-03T13:40:54.998Z"
   },
   {
    "duration": 22,
    "start_time": "2022-02-03T13:40:59.036Z"
   },
   {
    "duration": 195,
    "start_time": "2022-02-03T13:41:41.263Z"
   },
   {
    "duration": 5,
    "start_time": "2022-02-03T13:42:27.934Z"
   },
   {
    "duration": 197,
    "start_time": "2022-02-03T13:42:44.958Z"
   },
   {
    "duration": 194,
    "start_time": "2022-02-03T13:42:55.957Z"
   },
   {
    "duration": 198,
    "start_time": "2022-02-03T13:44:03.798Z"
   },
   {
    "duration": 243,
    "start_time": "2022-02-03T13:44:13.974Z"
   },
   {
    "duration": 196,
    "start_time": "2022-02-03T13:44:46.389Z"
   },
   {
    "duration": 202,
    "start_time": "2022-02-03T13:44:55.646Z"
   },
   {
    "duration": 8,
    "start_time": "2022-02-03T13:45:28.101Z"
   },
   {
    "duration": 7,
    "start_time": "2022-02-03T13:45:50.062Z"
   },
   {
    "duration": 6,
    "start_time": "2022-02-03T13:47:39.374Z"
   },
   {
    "duration": 268,
    "start_time": "2022-02-03T13:48:48.037Z"
   },
   {
    "duration": 13,
    "start_time": "2022-02-03T13:49:12.870Z"
   },
   {
    "duration": 364,
    "start_time": "2022-02-03T13:50:41.494Z"
   },
   {
    "duration": 281,
    "start_time": "2022-02-03T13:50:49.446Z"
   },
   {
    "duration": 215,
    "start_time": "2022-02-03T13:52:45.312Z"
   },
   {
    "duration": 282,
    "start_time": "2022-02-03T13:53:07.998Z"
   },
   {
    "duration": 272,
    "start_time": "2022-02-03T13:53:15.597Z"
   },
   {
    "duration": 270,
    "start_time": "2022-02-03T13:53:36.222Z"
   },
   {
    "duration": 310,
    "start_time": "2022-02-03T13:53:46.158Z"
   },
   {
    "duration": 228,
    "start_time": "2022-02-03T13:53:59.654Z"
   },
   {
    "duration": 229,
    "start_time": "2022-02-03T13:55:06.183Z"
   },
   {
    "duration": 246,
    "start_time": "2022-02-03T13:55:20.893Z"
   },
   {
    "duration": 308,
    "start_time": "2022-02-03T13:55:42.422Z"
   },
   {
    "duration": 245,
    "start_time": "2022-02-03T13:55:55.558Z"
   },
   {
    "duration": 257,
    "start_time": "2022-02-03T13:56:13.029Z"
   },
   {
    "duration": 243,
    "start_time": "2022-02-03T14:03:18.927Z"
   },
   {
    "duration": 244,
    "start_time": "2022-02-03T14:03:39.070Z"
   },
   {
    "duration": 245,
    "start_time": "2022-02-03T14:03:49.719Z"
   },
   {
    "duration": 249,
    "start_time": "2022-02-03T14:04:08.678Z"
   },
   {
    "duration": 263,
    "start_time": "2022-02-03T14:04:15.974Z"
   },
   {
    "duration": 203,
    "start_time": "2022-02-03T14:04:53.366Z"
   },
   {
    "duration": 212,
    "start_time": "2022-02-03T14:05:01.727Z"
   },
   {
    "duration": 201,
    "start_time": "2022-02-03T14:05:11.103Z"
   },
   {
    "duration": 350,
    "start_time": "2022-02-03T14:05:20.150Z"
   },
   {
    "duration": 28,
    "start_time": "2022-02-03T14:07:08.526Z"
   },
   {
    "duration": 33,
    "start_time": "2022-02-03T14:08:15.999Z"
   },
   {
    "duration": 12,
    "start_time": "2022-02-03T14:09:30.535Z"
   },
   {
    "duration": 18,
    "start_time": "2022-02-03T14:09:44.510Z"
   },
   {
    "duration": 11,
    "start_time": "2022-02-03T14:10:17.031Z"
   },
   {
    "duration": 12,
    "start_time": "2022-02-03T14:10:23.974Z"
   },
   {
    "duration": 12,
    "start_time": "2022-02-03T14:10:28.212Z"
   },
   {
    "duration": 11,
    "start_time": "2022-02-03T14:10:33.878Z"
   },
   {
    "duration": 11,
    "start_time": "2022-02-03T14:10:39.222Z"
   },
   {
    "duration": 253,
    "start_time": "2022-02-03T14:13:01.694Z"
   },
   {
    "duration": 269,
    "start_time": "2022-02-03T14:13:31.758Z"
   },
   {
    "duration": 249,
    "start_time": "2022-02-03T14:14:15.998Z"
   },
   {
    "duration": 207,
    "start_time": "2022-02-03T14:15:04.047Z"
   },
   {
    "duration": 290,
    "start_time": "2022-02-03T14:16:11.670Z"
   },
   {
    "duration": 15,
    "start_time": "2022-02-03T14:16:44.799Z"
   },
   {
    "duration": 35,
    "start_time": "2022-02-03T14:17:17.030Z"
   },
   {
    "duration": 15,
    "start_time": "2022-02-03T14:17:34.622Z"
   },
   {
    "duration": 17,
    "start_time": "2022-02-03T14:29:20.806Z"
   },
   {
    "duration": 6,
    "start_time": "2022-02-03T14:35:35.549Z"
   },
   {
    "duration": 291,
    "start_time": "2022-02-03T14:39:12.695Z"
   },
   {
    "duration": 20,
    "start_time": "2022-02-03T14:39:20.591Z"
   },
   {
    "duration": 361,
    "start_time": "2022-02-03T20:03:31.954Z"
   },
   {
    "duration": 686,
    "start_time": "2022-02-03T20:03:52.871Z"
   },
   {
    "duration": 146,
    "start_time": "2022-02-03T20:03:53.559Z"
   },
   {
    "duration": 4,
    "start_time": "2022-02-03T20:03:53.707Z"
   },
   {
    "duration": 14,
    "start_time": "2022-02-03T20:03:53.713Z"
   },
   {
    "duration": 4,
    "start_time": "2022-02-03T20:03:53.729Z"
   },
   {
    "duration": 8,
    "start_time": "2022-02-03T20:03:53.735Z"
   },
   {
    "duration": 14,
    "start_time": "2022-02-03T20:03:53.745Z"
   },
   {
    "duration": 3,
    "start_time": "2022-02-03T20:03:53.761Z"
   },
   {
    "duration": 6,
    "start_time": "2022-02-03T20:03:53.766Z"
   },
   {
    "duration": 12,
    "start_time": "2022-02-03T20:03:53.773Z"
   },
   {
    "duration": 44,
    "start_time": "2022-02-03T20:03:53.786Z"
   },
   {
    "duration": 11,
    "start_time": "2022-02-03T20:03:53.832Z"
   },
   {
    "duration": 19,
    "start_time": "2022-02-03T20:03:53.845Z"
   },
   {
    "duration": 7,
    "start_time": "2022-02-03T20:03:53.866Z"
   },
   {
    "duration": 17,
    "start_time": "2022-02-03T20:03:53.874Z"
   },
   {
    "duration": 48,
    "start_time": "2022-02-03T20:03:53.893Z"
   },
   {
    "duration": 8,
    "start_time": "2022-02-03T20:03:53.943Z"
   },
   {
    "duration": 23,
    "start_time": "2022-02-03T20:03:53.953Z"
   },
   {
    "duration": 4,
    "start_time": "2022-02-03T20:03:53.977Z"
   },
   {
    "duration": 80,
    "start_time": "2022-02-03T20:03:53.983Z"
   },
   {
    "duration": 4,
    "start_time": "2022-02-03T20:03:54.065Z"
   },
   {
    "duration": 7,
    "start_time": "2022-02-03T20:03:54.071Z"
   },
   {
    "duration": 8,
    "start_time": "2022-02-03T20:03:54.082Z"
   },
   {
    "duration": 9,
    "start_time": "2022-02-03T20:03:54.092Z"
   },
   {
    "duration": 4,
    "start_time": "2022-02-03T20:03:54.127Z"
   },
   {
    "duration": 40,
    "start_time": "2022-02-03T20:03:54.133Z"
   },
   {
    "duration": 13,
    "start_time": "2022-02-03T20:03:54.175Z"
   },
   {
    "duration": 21,
    "start_time": "2022-02-03T20:03:54.190Z"
   },
   {
    "duration": 10,
    "start_time": "2022-02-03T20:03:54.226Z"
   },
   {
    "duration": 29,
    "start_time": "2022-02-03T20:03:54.238Z"
   },
   {
    "duration": 21,
    "start_time": "2022-02-03T20:03:54.269Z"
   },
   {
    "duration": 7,
    "start_time": "2022-02-03T20:03:54.292Z"
   },
   {
    "duration": 37,
    "start_time": "2022-02-03T20:03:54.300Z"
   },
   {
    "duration": 7,
    "start_time": "2022-02-03T20:03:54.339Z"
   },
   {
    "duration": 8,
    "start_time": "2022-02-03T20:03:54.347Z"
   },
   {
    "duration": 28,
    "start_time": "2022-02-03T20:03:54.357Z"
   },
   {
    "duration": 7,
    "start_time": "2022-02-03T20:03:54.387Z"
   },
   {
    "duration": 32,
    "start_time": "2022-02-03T20:03:54.396Z"
   },
   {
    "duration": 35,
    "start_time": "2022-02-03T20:03:54.430Z"
   },
   {
    "duration": 13,
    "start_time": "2022-02-03T20:03:54.467Z"
   },
   {
    "duration": 11,
    "start_time": "2022-02-03T20:03:54.483Z"
   },
   {
    "duration": 32,
    "start_time": "2022-02-03T20:03:54.495Z"
   },
   {
    "duration": 7,
    "start_time": "2022-02-03T20:03:54.529Z"
   },
   {
    "duration": 4,
    "start_time": "2022-02-03T20:03:54.538Z"
   },
   {
    "duration": 16,
    "start_time": "2022-02-03T20:03:54.544Z"
   },
   {
    "duration": 27,
    "start_time": "2022-02-03T20:03:54.561Z"
   },
   {
    "duration": 45,
    "start_time": "2022-02-03T20:03:54.590Z"
   },
   {
    "duration": 9,
    "start_time": "2022-02-03T20:03:54.637Z"
   },
   {
    "duration": 4,
    "start_time": "2022-02-03T20:03:54.647Z"
   },
   {
    "duration": 11,
    "start_time": "2022-02-03T20:03:54.653Z"
   },
   {
    "duration": 5,
    "start_time": "2022-02-03T20:03:54.665Z"
   },
   {
    "duration": 68,
    "start_time": "2022-02-03T20:03:54.671Z"
   },
   {
    "duration": 8,
    "start_time": "2022-02-03T20:03:54.740Z"
   },
   {
    "duration": 22,
    "start_time": "2022-02-03T20:03:54.749Z"
   },
   {
    "duration": 6,
    "start_time": "2022-02-03T20:03:54.772Z"
   },
   {
    "duration": 9,
    "start_time": "2022-02-03T20:03:54.780Z"
   },
   {
    "duration": 37,
    "start_time": "2022-02-03T20:03:54.790Z"
   },
   {
    "duration": 11,
    "start_time": "2022-02-03T20:03:54.829Z"
   },
   {
    "duration": 8,
    "start_time": "2022-02-03T20:03:54.842Z"
   },
   {
    "duration": 20,
    "start_time": "2022-02-03T20:03:54.852Z"
   },
   {
    "duration": 12,
    "start_time": "2022-02-03T20:03:54.873Z"
   },
   {
    "duration": 14,
    "start_time": "2022-02-03T20:03:54.928Z"
   },
   {
    "duration": 19,
    "start_time": "2022-02-03T20:03:54.944Z"
   },
   {
    "duration": 6,
    "start_time": "2022-02-03T20:03:54.965Z"
   },
   {
    "duration": 214,
    "start_time": "2022-02-03T20:03:54.972Z"
   },
   {
    "duration": 17,
    "start_time": "2022-02-03T20:03:55.187Z"
   },
   {
    "duration": 24,
    "start_time": "2022-02-03T20:03:55.205Z"
   },
   {
    "duration": 319,
    "start_time": "2022-02-03T20:03:55.233Z"
   },
   {
    "duration": 6,
    "start_time": "2022-02-03T20:03:55.554Z"
   },
   {
    "duration": 236,
    "start_time": "2022-02-03T20:03:55.561Z"
   },
   {
    "duration": 184,
    "start_time": "2022-02-03T20:03:55.799Z"
   },
   {
    "duration": 228,
    "start_time": "2022-02-03T20:03:55.985Z"
   },
   {
    "duration": 178,
    "start_time": "2022-02-03T20:04:17.757Z"
   },
   {
    "duration": 255,
    "start_time": "2022-02-03T20:08:14.701Z"
   },
   {
    "duration": 380,
    "start_time": "2022-02-03T20:09:26.703Z"
   },
   {
    "duration": 312,
    "start_time": "2022-02-03T20:10:18.123Z"
   },
   {
    "duration": 8,
    "start_time": "2022-02-03T20:12:54.823Z"
   },
   {
    "duration": 5,
    "start_time": "2022-02-03T20:13:40.619Z"
   },
   {
    "duration": 5,
    "start_time": "2022-02-03T20:14:01.819Z"
   },
   {
    "duration": 7,
    "start_time": "2022-02-03T20:14:42.259Z"
   },
   {
    "duration": 8,
    "start_time": "2022-02-03T20:15:02.465Z"
   },
   {
    "duration": 673,
    "start_time": "2022-02-03T20:15:40.335Z"
   },
   {
    "duration": 129,
    "start_time": "2022-02-03T20:15:41.010Z"
   },
   {
    "duration": 4,
    "start_time": "2022-02-03T20:15:41.141Z"
   },
   {
    "duration": 10,
    "start_time": "2022-02-03T20:15:41.147Z"
   },
   {
    "duration": 5,
    "start_time": "2022-02-03T20:15:41.159Z"
   },
   {
    "duration": 9,
    "start_time": "2022-02-03T20:15:41.165Z"
   },
   {
    "duration": 15,
    "start_time": "2022-02-03T20:15:41.175Z"
   },
   {
    "duration": 3,
    "start_time": "2022-02-03T20:15:41.192Z"
   },
   {
    "duration": 31,
    "start_time": "2022-02-03T20:15:41.197Z"
   },
   {
    "duration": 15,
    "start_time": "2022-02-03T20:15:41.230Z"
   },
   {
    "duration": 16,
    "start_time": "2022-02-03T20:15:41.246Z"
   },
   {
    "duration": 10,
    "start_time": "2022-02-03T20:15:41.263Z"
   },
   {
    "duration": 18,
    "start_time": "2022-02-03T20:15:41.275Z"
   },
   {
    "duration": 35,
    "start_time": "2022-02-03T20:15:41.295Z"
   },
   {
    "duration": 16,
    "start_time": "2022-02-03T20:15:41.332Z"
   },
   {
    "duration": 16,
    "start_time": "2022-02-03T20:15:41.349Z"
   },
   {
    "duration": 8,
    "start_time": "2022-02-03T20:15:41.367Z"
   },
   {
    "duration": 56,
    "start_time": "2022-02-03T20:15:41.376Z"
   },
   {
    "duration": 4,
    "start_time": "2022-02-03T20:15:41.433Z"
   },
   {
    "duration": 52,
    "start_time": "2022-02-03T20:15:41.438Z"
   },
   {
    "duration": 4,
    "start_time": "2022-02-03T20:15:41.491Z"
   },
   {
    "duration": 32,
    "start_time": "2022-02-03T20:15:41.497Z"
   },
   {
    "duration": 7,
    "start_time": "2022-02-03T20:15:41.532Z"
   },
   {
    "duration": 5,
    "start_time": "2022-02-03T20:15:41.542Z"
   },
   {
    "duration": 4,
    "start_time": "2022-02-03T20:15:41.549Z"
   },
   {
    "duration": 22,
    "start_time": "2022-02-03T20:15:41.554Z"
   },
   {
    "duration": 50,
    "start_time": "2022-02-03T20:15:41.577Z"
   },
   {
    "duration": 14,
    "start_time": "2022-02-03T20:15:41.629Z"
   },
   {
    "duration": 16,
    "start_time": "2022-02-03T20:15:41.645Z"
   },
   {
    "duration": 29,
    "start_time": "2022-02-03T20:15:41.663Z"
   },
   {
    "duration": 17,
    "start_time": "2022-02-03T20:15:41.693Z"
   },
   {
    "duration": 4,
    "start_time": "2022-02-03T20:15:41.727Z"
   },
   {
    "duration": 13,
    "start_time": "2022-02-03T20:15:41.732Z"
   },
   {
    "duration": 19,
    "start_time": "2022-02-03T20:15:41.747Z"
   },
   {
    "duration": 14,
    "start_time": "2022-02-03T20:15:41.768Z"
   },
   {
    "duration": 21,
    "start_time": "2022-02-03T20:15:41.783Z"
   },
   {
    "duration": 10,
    "start_time": "2022-02-03T20:15:41.805Z"
   },
   {
    "duration": 15,
    "start_time": "2022-02-03T20:15:41.816Z"
   },
   {
    "duration": 35,
    "start_time": "2022-02-03T20:15:41.832Z"
   },
   {
    "duration": 8,
    "start_time": "2022-02-03T20:15:41.868Z"
   },
   {
    "duration": 7,
    "start_time": "2022-02-03T20:15:41.878Z"
   },
   {
    "duration": 21,
    "start_time": "2022-02-03T20:15:41.886Z"
   },
   {
    "duration": 19,
    "start_time": "2022-02-03T20:15:41.908Z"
   },
   {
    "duration": 15,
    "start_time": "2022-02-03T20:15:41.928Z"
   },
   {
    "duration": 14,
    "start_time": "2022-02-03T20:15:41.944Z"
   },
   {
    "duration": 22,
    "start_time": "2022-02-03T20:15:41.960Z"
   },
   {
    "duration": 16,
    "start_time": "2022-02-03T20:15:41.984Z"
   },
   {
    "duration": 29,
    "start_time": "2022-02-03T20:15:42.001Z"
   },
   {
    "duration": 4,
    "start_time": "2022-02-03T20:15:42.032Z"
   },
   {
    "duration": 15,
    "start_time": "2022-02-03T20:15:42.037Z"
   },
   {
    "duration": 7,
    "start_time": "2022-02-03T20:15:42.053Z"
   },
   {
    "duration": 15,
    "start_time": "2022-02-03T20:15:42.061Z"
   },
   {
    "duration": 7,
    "start_time": "2022-02-03T20:15:42.077Z"
   },
   {
    "duration": 48,
    "start_time": "2022-02-03T20:15:42.086Z"
   },
   {
    "duration": 7,
    "start_time": "2022-02-03T20:15:42.135Z"
   },
   {
    "duration": 9,
    "start_time": "2022-02-03T20:15:42.144Z"
   },
   {
    "duration": 3,
    "start_time": "2022-02-03T20:15:42.154Z"
   },
   {
    "duration": 9,
    "start_time": "2022-02-03T20:15:42.159Z"
   },
   {
    "duration": 6,
    "start_time": "2022-02-03T20:15:42.169Z"
   },
   {
    "duration": 56,
    "start_time": "2022-02-03T20:15:42.176Z"
   },
   {
    "duration": 10,
    "start_time": "2022-02-03T20:15:42.233Z"
   },
   {
    "duration": 10,
    "start_time": "2022-02-03T20:15:42.244Z"
   },
   {
    "duration": 10,
    "start_time": "2022-02-03T20:15:42.256Z"
   },
   {
    "duration": 4,
    "start_time": "2022-02-03T20:15:42.268Z"
   },
   {
    "duration": 222,
    "start_time": "2022-02-03T20:15:42.273Z"
   },
   {
    "duration": 35,
    "start_time": "2022-02-03T20:15:42.497Z"
   },
   {
    "duration": 7,
    "start_time": "2022-02-03T20:15:42.534Z"
   },
   {
    "duration": 411,
    "start_time": "2022-02-03T20:15:42.546Z"
   },
   {
    "duration": 8,
    "start_time": "2022-02-03T20:15:42.959Z"
   },
   {
    "duration": 245,
    "start_time": "2022-02-03T20:15:42.968Z"
   },
   {
    "duration": 330,
    "start_time": "2022-02-03T20:15:43.215Z"
   },
   {
    "duration": 8,
    "start_time": "2022-02-03T20:15:43.546Z"
   },
   {
    "duration": 221,
    "start_time": "2022-02-03T20:15:43.555Z"
   },
   {
    "duration": 6,
    "start_time": "2022-02-03T20:16:15.115Z"
   },
   {
    "duration": 30,
    "start_time": "2022-02-03T20:17:28.939Z"
   },
   {
    "duration": 7,
    "start_time": "2022-02-03T20:18:25.611Z"
   },
   {
    "duration": 4,
    "start_time": "2022-02-03T20:18:47.307Z"
   },
   {
    "duration": 4,
    "start_time": "2022-02-03T20:18:50.231Z"
   },
   {
    "duration": 697,
    "start_time": "2022-02-03T20:18:59.995Z"
   },
   {
    "duration": 120,
    "start_time": "2022-02-03T20:19:00.694Z"
   },
   {
    "duration": 6,
    "start_time": "2022-02-03T20:19:00.816Z"
   },
   {
    "duration": 20,
    "start_time": "2022-02-03T20:19:00.824Z"
   },
   {
    "duration": 9,
    "start_time": "2022-02-03T20:19:00.846Z"
   },
   {
    "duration": 19,
    "start_time": "2022-02-03T20:19:00.857Z"
   },
   {
    "duration": 17,
    "start_time": "2022-02-03T20:19:00.878Z"
   },
   {
    "duration": 3,
    "start_time": "2022-02-03T20:19:00.897Z"
   },
   {
    "duration": 5,
    "start_time": "2022-02-03T20:19:00.902Z"
   },
   {
    "duration": 14,
    "start_time": "2022-02-03T20:19:00.908Z"
   },
   {
    "duration": 17,
    "start_time": "2022-02-03T20:19:00.926Z"
   },
   {
    "duration": 10,
    "start_time": "2022-02-03T20:19:00.945Z"
   },
   {
    "duration": 20,
    "start_time": "2022-02-03T20:19:00.956Z"
   },
   {
    "duration": 9,
    "start_time": "2022-02-03T20:19:00.978Z"
   },
   {
    "duration": 55,
    "start_time": "2022-02-03T20:19:00.988Z"
   },
   {
    "duration": 19,
    "start_time": "2022-02-03T20:19:01.045Z"
   },
   {
    "duration": 11,
    "start_time": "2022-02-03T20:19:01.066Z"
   },
   {
    "duration": 51,
    "start_time": "2022-02-03T20:19:01.078Z"
   },
   {
    "duration": 4,
    "start_time": "2022-02-03T20:19:01.131Z"
   },
   {
    "duration": 70,
    "start_time": "2022-02-03T20:19:01.136Z"
   },
   {
    "duration": 4,
    "start_time": "2022-02-03T20:19:01.208Z"
   },
   {
    "duration": 20,
    "start_time": "2022-02-03T20:19:01.214Z"
   },
   {
    "duration": 8,
    "start_time": "2022-02-03T20:19:01.237Z"
   },
   {
    "duration": 10,
    "start_time": "2022-02-03T20:19:01.248Z"
   },
   {
    "duration": 4,
    "start_time": "2022-02-03T20:19:01.260Z"
   },
   {
    "duration": 23,
    "start_time": "2022-02-03T20:19:01.265Z"
   },
   {
    "duration": 39,
    "start_time": "2022-02-03T20:19:01.289Z"
   },
   {
    "duration": 18,
    "start_time": "2022-02-03T20:19:01.329Z"
   },
   {
    "duration": 11,
    "start_time": "2022-02-03T20:19:01.348Z"
   },
   {
    "duration": 23,
    "start_time": "2022-02-03T20:19:01.361Z"
   },
   {
    "duration": 49,
    "start_time": "2022-02-03T20:19:01.386Z"
   },
   {
    "duration": 9,
    "start_time": "2022-02-03T20:19:01.437Z"
   },
   {
    "duration": 15,
    "start_time": "2022-02-03T20:19:01.448Z"
   },
   {
    "duration": 9,
    "start_time": "2022-02-03T20:19:01.465Z"
   },
   {
    "duration": 9,
    "start_time": "2022-02-03T20:19:01.476Z"
   },
   {
    "duration": 42,
    "start_time": "2022-02-03T20:19:01.487Z"
   },
   {
    "duration": 8,
    "start_time": "2022-02-03T20:19:01.531Z"
   },
   {
    "duration": 11,
    "start_time": "2022-02-03T20:19:01.541Z"
   },
   {
    "duration": 27,
    "start_time": "2022-02-03T20:19:01.553Z"
   },
   {
    "duration": 9,
    "start_time": "2022-02-03T20:19:01.582Z"
   },
   {
    "duration": 37,
    "start_time": "2022-02-03T20:19:01.593Z"
   },
   {
    "duration": 9,
    "start_time": "2022-02-03T20:19:01.632Z"
   },
   {
    "duration": 10,
    "start_time": "2022-02-03T20:19:01.642Z"
   },
   {
    "duration": 7,
    "start_time": "2022-02-03T20:19:01.654Z"
   },
   {
    "duration": 23,
    "start_time": "2022-02-03T20:19:01.663Z"
   },
   {
    "duration": 46,
    "start_time": "2022-02-03T20:19:01.688Z"
   },
   {
    "duration": 23,
    "start_time": "2022-02-03T20:19:01.736Z"
   },
   {
    "duration": 13,
    "start_time": "2022-02-03T20:19:01.760Z"
   },
   {
    "duration": 9,
    "start_time": "2022-02-03T20:19:01.775Z"
   },
   {
    "duration": 14,
    "start_time": "2022-02-03T20:19:01.786Z"
   },
   {
    "duration": 28,
    "start_time": "2022-02-03T20:19:01.802Z"
   },
   {
    "duration": 20,
    "start_time": "2022-02-03T20:19:01.832Z"
   },
   {
    "duration": 17,
    "start_time": "2022-02-03T20:19:01.854Z"
   },
   {
    "duration": 19,
    "start_time": "2022-02-03T20:19:01.872Z"
   },
   {
    "duration": 7,
    "start_time": "2022-02-03T20:19:01.893Z"
   },
   {
    "duration": 32,
    "start_time": "2022-02-03T20:19:01.902Z"
   },
   {
    "duration": 21,
    "start_time": "2022-02-03T20:19:01.936Z"
   },
   {
    "duration": 11,
    "start_time": "2022-02-03T20:19:01.959Z"
   },
   {
    "duration": 4,
    "start_time": "2022-02-03T20:19:01.972Z"
   },
   {
    "duration": 21,
    "start_time": "2022-02-03T20:19:01.977Z"
   },
   {
    "duration": 36,
    "start_time": "2022-02-03T20:19:02.001Z"
   },
   {
    "duration": 11,
    "start_time": "2022-02-03T20:19:02.039Z"
   },
   {
    "duration": 13,
    "start_time": "2022-02-03T20:19:02.051Z"
   },
   {
    "duration": 4,
    "start_time": "2022-02-03T20:19:02.066Z"
   },
   {
    "duration": 223,
    "start_time": "2022-02-03T20:19:02.071Z"
   },
   {
    "duration": 32,
    "start_time": "2022-02-03T20:19:02.296Z"
   },
   {
    "duration": 7,
    "start_time": "2022-02-03T20:19:02.330Z"
   },
   {
    "duration": 361,
    "start_time": "2022-02-03T20:19:02.342Z"
   },
   {
    "duration": 9,
    "start_time": "2022-02-03T20:19:02.705Z"
   },
   {
    "duration": 359,
    "start_time": "2022-02-03T20:19:02.715Z"
   },
   {
    "duration": 300,
    "start_time": "2022-02-03T20:19:03.077Z"
   },
   {
    "duration": 4,
    "start_time": "2022-02-03T20:19:03.379Z"
   },
   {
    "duration": 235,
    "start_time": "2022-02-03T20:19:03.385Z"
   },
   {
    "duration": 3,
    "start_time": "2022-02-03T20:24:28.510Z"
   },
   {
    "duration": 6,
    "start_time": "2022-02-03T20:24:57.394Z"
   },
   {
    "duration": 291,
    "start_time": "2022-02-03T20:29:39.147Z"
   },
   {
    "duration": 31,
    "start_time": "2022-02-03T20:31:40.726Z"
   },
   {
    "duration": 35,
    "start_time": "2022-02-03T20:33:12.098Z"
   },
   {
    "duration": 16,
    "start_time": "2022-02-03T20:33:53.138Z"
   },
   {
    "duration": 17,
    "start_time": "2022-02-03T20:34:03.218Z"
   },
   {
    "duration": 111,
    "start_time": "2022-02-03T20:34:22.809Z"
   },
   {
    "duration": 4,
    "start_time": "2022-02-03T20:34:35.269Z"
   },
   {
    "duration": 15,
    "start_time": "2022-02-03T20:34:43.526Z"
   },
   {
    "duration": 15,
    "start_time": "2022-02-03T20:34:51.913Z"
   },
   {
    "duration": 32,
    "start_time": "2022-02-03T20:35:00.830Z"
   },
   {
    "duration": 15,
    "start_time": "2022-02-03T20:35:30.505Z"
   },
   {
    "duration": 30,
    "start_time": "2022-02-03T20:35:47.625Z"
   },
   {
    "duration": 31,
    "start_time": "2022-02-03T20:36:20.750Z"
   },
   {
    "duration": 35,
    "start_time": "2022-02-03T20:39:56.394Z"
   },
   {
    "duration": 30,
    "start_time": "2022-02-03T20:40:09.474Z"
   },
   {
    "duration": 30,
    "start_time": "2022-02-03T20:40:17.313Z"
   },
   {
    "duration": 334,
    "start_time": "2022-02-03T20:43:42.726Z"
   },
   {
    "duration": 371,
    "start_time": "2022-02-03T20:43:56.722Z"
   },
   {
    "duration": 346,
    "start_time": "2022-02-03T20:44:02.816Z"
   },
   {
    "duration": 431,
    "start_time": "2022-02-03T20:44:16.830Z"
   },
   {
    "duration": 4,
    "start_time": "2022-02-03T20:44:58.732Z"
   },
   {
    "duration": 675,
    "start_time": "2022-02-03T20:46:09.277Z"
   },
   {
    "duration": 432,
    "start_time": "2022-02-03T20:46:21.441Z"
   },
   {
    "duration": 392,
    "start_time": "2022-02-03T20:46:38.461Z"
   },
   {
    "duration": 306,
    "start_time": "2022-02-03T20:46:51.154Z"
   },
   {
    "duration": 606,
    "start_time": "2022-02-03T20:47:04.712Z"
   },
   {
    "duration": 352,
    "start_time": "2022-02-03T20:47:31.107Z"
   },
   {
    "duration": 359,
    "start_time": "2022-02-03T20:47:43.608Z"
   },
   {
    "duration": 347,
    "start_time": "2022-02-03T20:47:55.634Z"
   },
   {
    "duration": 222,
    "start_time": "2022-02-03T20:48:21.026Z"
   },
   {
    "duration": 223,
    "start_time": "2022-02-03T20:48:38.206Z"
   },
   {
    "duration": 219,
    "start_time": "2022-02-03T20:48:46.370Z"
   },
   {
    "duration": 274,
    "start_time": "2022-02-03T20:48:54.855Z"
   },
   {
    "duration": 219,
    "start_time": "2022-02-03T20:49:05.010Z"
   },
   {
    "duration": 23,
    "start_time": "2022-02-03T20:50:40.769Z"
   },
   {
    "duration": 15,
    "start_time": "2022-02-03T20:51:46.645Z"
   },
   {
    "duration": 14,
    "start_time": "2022-02-03T20:52:02.914Z"
   },
   {
    "duration": 88,
    "start_time": "2022-02-03T20:52:21.594Z"
   },
   {
    "duration": 5,
    "start_time": "2022-02-03T20:54:51.017Z"
   },
   {
    "duration": 115,
    "start_time": "2022-02-03T20:56:20.554Z"
   },
   {
    "duration": 107,
    "start_time": "2022-02-03T20:56:33.778Z"
   },
   {
    "duration": 105,
    "start_time": "2022-02-03T20:56:39.514Z"
   },
   {
    "duration": 106,
    "start_time": "2022-02-03T20:56:43.518Z"
   },
   {
    "duration": 106,
    "start_time": "2022-02-03T20:56:51.981Z"
   },
   {
    "duration": 115,
    "start_time": "2022-02-03T20:57:14.634Z"
   },
   {
    "duration": 106,
    "start_time": "2022-02-03T20:57:23.302Z"
   },
   {
    "duration": 213,
    "start_time": "2022-02-03T20:58:43.194Z"
   },
   {
    "duration": 5,
    "start_time": "2022-02-03T21:00:58.700Z"
   },
   {
    "duration": 212,
    "start_time": "2022-02-03T21:05:35.494Z"
   },
   {
    "duration": 223,
    "start_time": "2022-02-03T21:08:39.710Z"
   },
   {
    "duration": 119,
    "start_time": "2022-02-03T21:16:08.526Z"
   },
   {
    "duration": 743,
    "start_time": "2022-02-04T10:28:59.117Z"
   },
   {
    "duration": 3,
    "start_time": "2022-02-04T10:42:55.556Z"
   },
   {
    "duration": 2,
    "start_time": "2022-02-04T10:43:19.031Z"
   },
   {
    "duration": 3,
    "start_time": "2022-02-04T10:43:20.839Z"
   },
   {
    "duration": 780,
    "start_time": "2022-02-04T10:43:33.092Z"
   },
   {
    "duration": 3,
    "start_time": "2022-02-04T10:43:33.873Z"
   },
   {
    "duration": 147,
    "start_time": "2022-02-04T10:43:33.878Z"
   },
   {
    "duration": 7,
    "start_time": "2022-02-04T10:43:34.027Z"
   },
   {
    "duration": 30,
    "start_time": "2022-02-04T10:43:34.036Z"
   },
   {
    "duration": 12,
    "start_time": "2022-02-04T10:43:34.069Z"
   },
   {
    "duration": 26,
    "start_time": "2022-02-04T10:43:34.083Z"
   },
   {
    "duration": 51,
    "start_time": "2022-02-04T10:43:34.112Z"
   },
   {
    "duration": 3,
    "start_time": "2022-02-04T10:43:34.166Z"
   },
   {
    "duration": 13,
    "start_time": "2022-02-04T10:43:34.171Z"
   },
   {
    "duration": 15,
    "start_time": "2022-02-04T10:43:34.187Z"
   },
   {
    "duration": 22,
    "start_time": "2022-02-04T10:43:34.204Z"
   },
   {
    "duration": 15,
    "start_time": "2022-02-04T10:43:34.228Z"
   },
   {
    "duration": 53,
    "start_time": "2022-02-04T10:43:34.245Z"
   },
   {
    "duration": 10,
    "start_time": "2022-02-04T10:43:34.300Z"
   },
   {
    "duration": 21,
    "start_time": "2022-02-04T10:43:34.312Z"
   },
   {
    "duration": 22,
    "start_time": "2022-02-04T10:43:34.334Z"
   },
   {
    "duration": 42,
    "start_time": "2022-02-04T10:43:34.358Z"
   },
   {
    "duration": 26,
    "start_time": "2022-02-04T10:43:34.402Z"
   },
   {
    "duration": 4,
    "start_time": "2022-02-04T10:43:34.430Z"
   },
   {
    "duration": 80,
    "start_time": "2022-02-04T10:43:34.436Z"
   },
   {
    "duration": 5,
    "start_time": "2022-02-04T10:43:34.518Z"
   },
   {
    "duration": 8,
    "start_time": "2022-02-04T10:43:34.528Z"
   },
   {
    "duration": 9,
    "start_time": "2022-02-04T10:43:34.538Z"
   },
   {
    "duration": 9,
    "start_time": "2022-02-04T10:43:34.549Z"
   },
   {
    "duration": 6,
    "start_time": "2022-02-04T10:43:34.559Z"
   },
   {
    "duration": 53,
    "start_time": "2022-02-04T10:43:34.567Z"
   },
   {
    "duration": 13,
    "start_time": "2022-02-04T10:43:34.621Z"
   },
   {
    "duration": 21,
    "start_time": "2022-02-04T10:43:34.636Z"
   },
   {
    "duration": 14,
    "start_time": "2022-02-04T10:43:34.658Z"
   },
   {
    "duration": 45,
    "start_time": "2022-02-04T10:43:34.674Z"
   },
   {
    "duration": 18,
    "start_time": "2022-02-04T10:43:34.721Z"
   },
   {
    "duration": 11,
    "start_time": "2022-02-04T10:43:34.741Z"
   },
   {
    "duration": 12,
    "start_time": "2022-02-04T10:43:34.754Z"
   },
   {
    "duration": 30,
    "start_time": "2022-02-04T10:43:34.768Z"
   },
   {
    "duration": 4,
    "start_time": "2022-02-04T10:43:34.801Z"
   },
   {
    "duration": 26,
    "start_time": "2022-02-04T10:43:34.806Z"
   },
   {
    "duration": 6,
    "start_time": "2022-02-04T10:43:34.834Z"
   },
   {
    "duration": 8,
    "start_time": "2022-02-04T10:43:34.841Z"
   },
   {
    "duration": 23,
    "start_time": "2022-02-04T10:43:34.850Z"
   },
   {
    "duration": 11,
    "start_time": "2022-02-04T10:43:34.898Z"
   },
   {
    "duration": 10,
    "start_time": "2022-02-04T10:43:34.911Z"
   },
   {
    "duration": 6,
    "start_time": "2022-02-04T10:43:34.922Z"
   },
   {
    "duration": 7,
    "start_time": "2022-02-04T10:43:34.930Z"
   },
   {
    "duration": 6,
    "start_time": "2022-02-04T10:43:34.939Z"
   },
   {
    "duration": 17,
    "start_time": "2022-02-04T10:43:34.947Z"
   },
   {
    "duration": 61,
    "start_time": "2022-02-04T10:43:34.966Z"
   },
   {
    "duration": 21,
    "start_time": "2022-02-04T10:43:35.029Z"
   },
   {
    "duration": 13,
    "start_time": "2022-02-04T10:43:35.051Z"
   },
   {
    "duration": 10,
    "start_time": "2022-02-04T10:43:35.066Z"
   },
   {
    "duration": 33,
    "start_time": "2022-02-04T10:43:35.077Z"
   },
   {
    "duration": 6,
    "start_time": "2022-02-04T10:43:35.112Z"
   },
   {
    "duration": 19,
    "start_time": "2022-02-04T10:43:35.119Z"
   },
   {
    "duration": 8,
    "start_time": "2022-02-04T10:43:35.140Z"
   },
   {
    "duration": 50,
    "start_time": "2022-02-04T10:43:35.150Z"
   },
   {
    "duration": 8,
    "start_time": "2022-02-04T10:43:35.202Z"
   },
   {
    "duration": 12,
    "start_time": "2022-02-04T10:43:35.211Z"
   },
   {
    "duration": 11,
    "start_time": "2022-02-04T10:43:35.224Z"
   },
   {
    "duration": 18,
    "start_time": "2022-02-04T10:43:35.237Z"
   },
   {
    "duration": 12,
    "start_time": "2022-02-04T10:43:35.256Z"
   },
   {
    "duration": 40,
    "start_time": "2022-02-04T10:43:35.270Z"
   },
   {
    "duration": 13,
    "start_time": "2022-02-04T10:43:35.311Z"
   },
   {
    "duration": 14,
    "start_time": "2022-02-04T10:43:35.326Z"
   },
   {
    "duration": 22,
    "start_time": "2022-02-04T10:43:35.342Z"
   },
   {
    "duration": 6,
    "start_time": "2022-02-04T10:43:35.366Z"
   },
   {
    "duration": 291,
    "start_time": "2022-02-04T10:43:35.374Z"
   },
   {
    "duration": 33,
    "start_time": "2022-02-04T10:43:35.666Z"
   },
   {
    "duration": 7,
    "start_time": "2022-02-04T10:43:35.705Z"
   },
   {
    "duration": 446,
    "start_time": "2022-02-04T10:43:35.714Z"
   },
   {
    "duration": 7,
    "start_time": "2022-02-04T10:43:36.162Z"
   },
   {
    "duration": 320,
    "start_time": "2022-02-04T10:43:36.171Z"
   },
   {
    "duration": 349,
    "start_time": "2022-02-04T10:43:36.492Z"
   },
   {
    "duration": 300,
    "start_time": "2022-02-04T10:43:36.844Z"
   },
   {
    "duration": 108,
    "start_time": "2022-02-12T19:41:17.729Z"
   },
   {
    "duration": 942,
    "start_time": "2022-02-12T20:04:19.685Z"
   },
   {
    "duration": 3,
    "start_time": "2022-02-12T20:04:20.630Z"
   },
   {
    "duration": 214,
    "start_time": "2022-02-12T20:04:20.637Z"
   },
   {
    "duration": 9,
    "start_time": "2022-02-12T20:04:20.854Z"
   },
   {
    "duration": 24,
    "start_time": "2022-02-12T20:04:20.866Z"
   },
   {
    "duration": 11,
    "start_time": "2022-02-12T20:04:20.893Z"
   },
   {
    "duration": 14,
    "start_time": "2022-02-12T20:04:20.907Z"
   },
   {
    "duration": 52,
    "start_time": "2022-02-12T20:04:20.925Z"
   },
   {
    "duration": 7,
    "start_time": "2022-02-12T20:04:20.981Z"
   },
   {
    "duration": 17,
    "start_time": "2022-02-12T20:04:20.991Z"
   },
   {
    "duration": 31,
    "start_time": "2022-02-12T20:04:21.011Z"
   },
   {
    "duration": 50,
    "start_time": "2022-02-12T20:04:21.046Z"
   },
   {
    "duration": 24,
    "start_time": "2022-02-12T20:04:21.099Z"
   },
   {
    "duration": 66,
    "start_time": "2022-02-12T20:04:21.126Z"
   },
   {
    "duration": 13,
    "start_time": "2022-02-12T20:04:21.195Z"
   },
   {
    "duration": 58,
    "start_time": "2022-02-12T20:04:21.211Z"
   },
   {
    "duration": 30,
    "start_time": "2022-02-12T20:04:21.272Z"
   },
   {
    "duration": 14,
    "start_time": "2022-02-12T20:04:21.305Z"
   },
   {
    "duration": 65,
    "start_time": "2022-02-12T20:04:21.321Z"
   },
   {
    "duration": 6,
    "start_time": "2022-02-12T20:04:21.389Z"
   },
   {
    "duration": 113,
    "start_time": "2022-02-12T20:04:21.397Z"
   },
   {
    "duration": 7,
    "start_time": "2022-02-12T20:04:21.513Z"
   },
   {
    "duration": 6,
    "start_time": "2022-02-12T20:04:21.528Z"
   },
   {
    "duration": 39,
    "start_time": "2022-02-12T20:04:21.539Z"
   },
   {
    "duration": 13,
    "start_time": "2022-02-12T20:04:21.581Z"
   },
   {
    "duration": 11,
    "start_time": "2022-02-12T20:04:21.597Z"
   },
   {
    "duration": 61,
    "start_time": "2022-02-12T20:04:21.611Z"
   },
   {
    "duration": 18,
    "start_time": "2022-02-12T20:04:21.675Z"
   },
   {
    "duration": 28,
    "start_time": "2022-02-12T20:04:21.696Z"
   },
   {
    "duration": 43,
    "start_time": "2022-02-12T20:04:21.726Z"
   },
   {
    "duration": 35,
    "start_time": "2022-02-12T20:04:21.772Z"
   },
   {
    "duration": 27,
    "start_time": "2022-02-12T20:04:21.809Z"
   },
   {
    "duration": 5,
    "start_time": "2022-02-12T20:04:21.870Z"
   },
   {
    "duration": 17,
    "start_time": "2022-02-12T20:04:21.878Z"
   },
   {
    "duration": 8,
    "start_time": "2022-02-12T20:04:21.898Z"
   },
   {
    "duration": 7,
    "start_time": "2022-02-12T20:04:21.909Z"
   },
   {
    "duration": 65,
    "start_time": "2022-02-12T20:04:21.918Z"
   },
   {
    "duration": 9,
    "start_time": "2022-02-12T20:04:21.986Z"
   },
   {
    "duration": 13,
    "start_time": "2022-02-12T20:04:21.998Z"
   },
   {
    "duration": 56,
    "start_time": "2022-02-12T20:04:22.013Z"
   },
   {
    "duration": 14,
    "start_time": "2022-02-12T20:04:22.072Z"
   },
   {
    "duration": 11,
    "start_time": "2022-02-12T20:04:22.089Z"
   },
   {
    "duration": 7,
    "start_time": "2022-02-12T20:04:22.103Z"
   },
   {
    "duration": 20,
    "start_time": "2022-02-12T20:04:22.113Z"
   },
   {
    "duration": 33,
    "start_time": "2022-02-12T20:04:22.136Z"
   },
   {
    "duration": 21,
    "start_time": "2022-02-12T20:04:22.172Z"
   },
   {
    "duration": 88,
    "start_time": "2022-02-12T20:04:22.195Z"
   },
   {
    "duration": 34,
    "start_time": "2022-02-12T20:04:22.285Z"
   },
   {
    "duration": 18,
    "start_time": "2022-02-12T20:04:22.322Z"
   },
   {
    "duration": 9,
    "start_time": "2022-02-12T20:04:22.369Z"
   },
   {
    "duration": 26,
    "start_time": "2022-02-12T20:04:22.381Z"
   },
   {
    "duration": 11,
    "start_time": "2022-02-12T20:04:22.410Z"
   },
   {
    "duration": 80,
    "start_time": "2022-02-12T20:04:22.424Z"
   },
   {
    "duration": 17,
    "start_time": "2022-02-12T20:04:22.507Z"
   },
   {
    "duration": 47,
    "start_time": "2022-02-12T20:04:22.527Z"
   },
   {
    "duration": 13,
    "start_time": "2022-02-12T20:04:22.578Z"
   },
   {
    "duration": 18,
    "start_time": "2022-02-12T20:04:22.594Z"
   },
   {
    "duration": 6,
    "start_time": "2022-02-12T20:04:22.615Z"
   },
   {
    "duration": 17,
    "start_time": "2022-02-12T20:04:22.669Z"
   },
   {
    "duration": 17,
    "start_time": "2022-02-12T20:04:22.689Z"
   },
   {
    "duration": 66,
    "start_time": "2022-02-12T20:04:22.709Z"
   },
   {
    "duration": 18,
    "start_time": "2022-02-12T20:04:22.778Z"
   },
   {
    "duration": 18,
    "start_time": "2022-02-12T20:04:22.799Z"
   },
   {
    "duration": 52,
    "start_time": "2022-02-12T20:04:22.819Z"
   },
   {
    "duration": 8,
    "start_time": "2022-02-12T20:04:22.873Z"
   },
   {
    "duration": 519,
    "start_time": "2022-02-12T20:04:22.883Z"
   },
   {
    "duration": 41,
    "start_time": "2022-02-12T20:04:23.405Z"
   },
   {
    "duration": 12,
    "start_time": "2022-02-12T20:04:23.471Z"
   },
   {
    "duration": 665,
    "start_time": "2022-02-12T20:04:23.486Z"
   },
   {
    "duration": 18,
    "start_time": "2022-02-12T20:04:24.154Z"
   },
   {
    "duration": 473,
    "start_time": "2022-02-12T20:04:24.175Z"
   },
   {
    "duration": 510,
    "start_time": "2022-02-12T20:04:24.650Z"
   },
   {
    "duration": 411,
    "start_time": "2022-02-12T20:04:25.170Z"
   },
   {
    "duration": 47,
    "start_time": "2022-02-12T20:06:22.775Z"
   },
   {
    "duration": 12,
    "start_time": "2022-02-12T20:06:30.342Z"
   },
   {
    "duration": 205,
    "start_time": "2022-02-12T20:48:39.270Z"
   },
   {
    "duration": 584,
    "start_time": "2022-02-12T20:48:47.216Z"
   },
   {
    "duration": 2,
    "start_time": "2022-02-12T20:48:47.802Z"
   },
   {
    "duration": 285,
    "start_time": "2022-02-12T20:48:47.806Z"
   },
   {
    "duration": 5,
    "start_time": "2022-02-12T20:48:48.093Z"
   },
   {
    "duration": 16,
    "start_time": "2022-02-12T20:48:48.100Z"
   },
   {
    "duration": 4,
    "start_time": "2022-02-12T20:48:48.118Z"
   },
   {
    "duration": 8,
    "start_time": "2022-02-12T20:48:48.124Z"
   },
   {
    "duration": 14,
    "start_time": "2022-02-12T20:48:48.135Z"
   },
   {
    "duration": 9,
    "start_time": "2022-02-12T20:48:48.151Z"
   },
   {
    "duration": 6,
    "start_time": "2022-02-12T20:48:48.161Z"
   },
   {
    "duration": 14,
    "start_time": "2022-02-12T20:48:48.169Z"
   },
   {
    "duration": 17,
    "start_time": "2022-02-12T20:48:48.185Z"
   },
   {
    "duration": 12,
    "start_time": "2022-02-12T20:48:48.203Z"
   },
   {
    "duration": 44,
    "start_time": "2022-02-12T20:48:48.216Z"
   },
   {
    "duration": 9,
    "start_time": "2022-02-12T20:48:48.261Z"
   },
   {
    "duration": 20,
    "start_time": "2022-02-12T20:48:48.272Z"
   },
   {
    "duration": 18,
    "start_time": "2022-02-12T20:48:48.293Z"
   },
   {
    "duration": 9,
    "start_time": "2022-02-12T20:48:48.313Z"
   },
   {
    "duration": 51,
    "start_time": "2022-02-12T20:48:48.324Z"
   },
   {
    "duration": 4,
    "start_time": "2022-02-12T20:48:48.377Z"
   },
   {
    "duration": 63,
    "start_time": "2022-02-12T20:48:48.383Z"
   },
   {
    "duration": 13,
    "start_time": "2022-02-12T20:48:48.448Z"
   },
   {
    "duration": 5,
    "start_time": "2022-02-12T20:48:48.465Z"
   },
   {
    "duration": 9,
    "start_time": "2022-02-12T20:48:48.472Z"
   },
   {
    "duration": 15,
    "start_time": "2022-02-12T20:48:48.482Z"
   },
   {
    "duration": 6,
    "start_time": "2022-02-12T20:48:48.499Z"
   },
   {
    "duration": 26,
    "start_time": "2022-02-12T20:48:48.506Z"
   },
   {
    "duration": 36,
    "start_time": "2022-02-12T20:48:48.534Z"
   },
   {
    "duration": 15,
    "start_time": "2022-02-12T20:48:48.572Z"
   },
   {
    "duration": 9,
    "start_time": "2022-02-12T20:48:48.588Z"
   },
   {
    "duration": 23,
    "start_time": "2022-02-12T20:48:48.599Z"
   },
   {
    "duration": 40,
    "start_time": "2022-02-12T20:48:48.624Z"
   },
   {
    "duration": 5,
    "start_time": "2022-02-12T20:48:48.666Z"
   },
   {
    "duration": 11,
    "start_time": "2022-02-12T20:48:48.672Z"
   },
   {
    "duration": 5,
    "start_time": "2022-02-12T20:48:48.684Z"
   },
   {
    "duration": 6,
    "start_time": "2022-02-12T20:48:48.690Z"
   },
   {
    "duration": 23,
    "start_time": "2022-02-12T20:48:48.698Z"
   },
   {
    "duration": 5,
    "start_time": "2022-02-12T20:48:48.722Z"
   },
   {
    "duration": 32,
    "start_time": "2022-02-12T20:48:48.729Z"
   },
   {
    "duration": 20,
    "start_time": "2022-02-12T20:48:48.763Z"
   },
   {
    "duration": 10,
    "start_time": "2022-02-12T20:48:48.784Z"
   },
   {
    "duration": 10,
    "start_time": "2022-02-12T20:48:48.795Z"
   },
   {
    "duration": 5,
    "start_time": "2022-02-12T20:48:48.806Z"
   },
   {
    "duration": 11,
    "start_time": "2022-02-12T20:48:48.813Z"
   },
   {
    "duration": 5,
    "start_time": "2022-02-12T20:48:48.826Z"
   },
   {
    "duration": 35,
    "start_time": "2022-02-12T20:48:48.832Z"
   },
   {
    "duration": 27,
    "start_time": "2022-02-12T20:48:48.869Z"
   },
   {
    "duration": 17,
    "start_time": "2022-02-12T20:48:48.898Z"
   },
   {
    "duration": 8,
    "start_time": "2022-02-12T20:48:48.917Z"
   },
   {
    "duration": 33,
    "start_time": "2022-02-12T20:48:48.926Z"
   },
   {
    "duration": 13,
    "start_time": "2022-02-12T20:48:48.961Z"
   },
   {
    "duration": 6,
    "start_time": "2022-02-12T20:48:48.975Z"
   },
   {
    "duration": 21,
    "start_time": "2022-02-12T20:48:48.983Z"
   },
   {
    "duration": 16,
    "start_time": "2022-02-12T20:48:49.006Z"
   },
   {
    "duration": 48,
    "start_time": "2022-02-12T20:48:49.024Z"
   },
   {
    "duration": 10,
    "start_time": "2022-02-12T20:48:49.074Z"
   },
   {
    "duration": 9,
    "start_time": "2022-02-12T20:48:49.086Z"
   },
   {
    "duration": 7,
    "start_time": "2022-02-12T20:48:49.097Z"
   },
   {
    "duration": 14,
    "start_time": "2022-02-12T20:48:49.105Z"
   },
   {
    "duration": 7,
    "start_time": "2022-02-12T20:48:49.121Z"
   },
   {
    "duration": 43,
    "start_time": "2022-02-12T20:48:49.129Z"
   },
   {
    "duration": 11,
    "start_time": "2022-02-12T20:48:49.174Z"
   },
   {
    "duration": 20,
    "start_time": "2022-02-12T20:48:49.187Z"
   },
   {
    "duration": 11,
    "start_time": "2022-02-12T20:48:49.209Z"
   },
   {
    "duration": 6,
    "start_time": "2022-02-12T20:48:49.222Z"
   },
   {
    "duration": 240,
    "start_time": "2022-02-12T20:48:49.229Z"
   },
   {
    "duration": 19,
    "start_time": "2022-02-12T20:48:49.471Z"
   },
   {
    "duration": 6,
    "start_time": "2022-02-12T20:48:49.495Z"
   },
   {
    "duration": 388,
    "start_time": "2022-02-12T20:48:49.503Z"
   },
   {
    "duration": 7,
    "start_time": "2022-02-12T20:48:49.892Z"
   },
   {
    "duration": 271,
    "start_time": "2022-02-12T20:48:49.900Z"
   },
   {
    "duration": 276,
    "start_time": "2022-02-12T20:48:50.172Z"
   },
   {
    "duration": 254,
    "start_time": "2022-02-12T20:48:50.450Z"
   },
   {
    "duration": 7,
    "start_time": "2022-02-12T20:49:09.044Z"
   },
   {
    "duration": 26,
    "start_time": "2022-02-12T20:49:26.900Z"
   },
   {
    "duration": 244,
    "start_time": "2022-02-12T20:50:40.758Z"
   },
   {
    "duration": 171,
    "start_time": "2022-02-12T20:50:59.980Z"
   },
   {
    "duration": 25,
    "start_time": "2022-02-12T20:51:08.164Z"
   },
   {
    "duration": 198,
    "start_time": "2022-02-12T20:52:06.740Z"
   },
   {
    "duration": 203,
    "start_time": "2022-02-12T20:52:37.763Z"
   },
   {
    "duration": 358,
    "start_time": "2022-02-19T16:23:07.324Z"
   },
   {
    "duration": 688,
    "start_time": "2022-02-19T16:23:13.998Z"
   },
   {
    "duration": 2,
    "start_time": "2022-02-19T16:23:14.689Z"
   },
   {
    "duration": 767,
    "start_time": "2022-02-19T16:23:14.694Z"
   },
   {
    "duration": 7,
    "start_time": "2022-02-19T16:23:15.463Z"
   },
   {
    "duration": 16,
    "start_time": "2022-02-19T16:23:15.472Z"
   },
   {
    "duration": 7,
    "start_time": "2022-02-19T16:23:15.490Z"
   },
   {
    "duration": 11,
    "start_time": "2022-02-19T16:23:15.499Z"
   },
   {
    "duration": 39,
    "start_time": "2022-02-19T16:23:15.513Z"
   },
   {
    "duration": 3,
    "start_time": "2022-02-19T16:23:15.555Z"
   },
   {
    "duration": 5,
    "start_time": "2022-02-19T16:23:15.560Z"
   },
   {
    "duration": 14,
    "start_time": "2022-02-19T16:23:15.567Z"
   },
   {
    "duration": 17,
    "start_time": "2022-02-19T16:23:15.582Z"
   },
   {
    "duration": 41,
    "start_time": "2022-02-19T16:23:15.601Z"
   },
   {
    "duration": 21,
    "start_time": "2022-02-19T16:23:15.644Z"
   },
   {
    "duration": 8,
    "start_time": "2022-02-19T16:23:15.667Z"
   },
   {
    "duration": 58,
    "start_time": "2022-02-19T16:23:15.677Z"
   },
   {
    "duration": 17,
    "start_time": "2022-02-19T16:23:15.737Z"
   },
   {
    "duration": 9,
    "start_time": "2022-02-19T16:23:15.755Z"
   },
   {
    "duration": 19,
    "start_time": "2022-02-19T16:23:15.765Z"
   },
   {
    "duration": 3,
    "start_time": "2022-02-19T16:23:15.786Z"
   },
   {
    "duration": 16,
    "start_time": "2022-02-19T16:23:15.831Z"
   },
   {
    "duration": 52,
    "start_time": "2022-02-19T16:23:15.849Z"
   },
   {
    "duration": 29,
    "start_time": "2022-02-19T16:23:15.905Z"
   },
   {
    "duration": 5,
    "start_time": "2022-02-19T16:23:15.937Z"
   },
   {
    "duration": 8,
    "start_time": "2022-02-19T16:23:15.944Z"
   },
   {
    "duration": 6,
    "start_time": "2022-02-19T16:23:15.953Z"
   },
   {
    "duration": 3,
    "start_time": "2022-02-19T16:23:15.961Z"
   },
   {
    "duration": 69,
    "start_time": "2022-02-19T16:23:15.966Z"
   },
   {
    "duration": 12,
    "start_time": "2022-02-19T16:23:16.037Z"
   },
   {
    "duration": 16,
    "start_time": "2022-02-19T16:23:16.051Z"
   },
   {
    "duration": 9,
    "start_time": "2022-02-19T16:23:16.069Z"
   },
   {
    "duration": 63,
    "start_time": "2022-02-19T16:23:16.081Z"
   },
   {
    "duration": 20,
    "start_time": "2022-02-19T16:23:16.146Z"
   },
   {
    "duration": 4,
    "start_time": "2022-02-19T16:23:16.168Z"
   },
   {
    "duration": 12,
    "start_time": "2022-02-19T16:23:16.173Z"
   },
   {
    "duration": 45,
    "start_time": "2022-02-19T16:23:16.187Z"
   },
   {
    "duration": 5,
    "start_time": "2022-02-19T16:23:16.234Z"
   },
   {
    "duration": 26,
    "start_time": "2022-02-19T16:23:16.241Z"
   },
   {
    "duration": 7,
    "start_time": "2022-02-19T16:23:16.270Z"
   },
   {
    "duration": 7,
    "start_time": "2022-02-19T16:23:16.279Z"
   },
   {
    "duration": 62,
    "start_time": "2022-02-19T16:23:16.288Z"
   },
   {
    "duration": 15,
    "start_time": "2022-02-19T16:23:16.352Z"
   },
   {
    "duration": 7,
    "start_time": "2022-02-19T16:23:16.369Z"
   },
   {
    "duration": 4,
    "start_time": "2022-02-19T16:23:16.378Z"
   },
   {
    "duration": 5,
    "start_time": "2022-02-19T16:23:16.384Z"
   },
   {
    "duration": 42,
    "start_time": "2022-02-19T16:23:16.390Z"
   },
   {
    "duration": 17,
    "start_time": "2022-02-19T16:23:16.433Z"
   },
   {
    "duration": 25,
    "start_time": "2022-02-19T16:23:16.452Z"
   },
   {
    "duration": 61,
    "start_time": "2022-02-19T16:23:16.478Z"
   },
   {
    "duration": 9,
    "start_time": "2022-02-19T16:23:16.540Z"
   },
   {
    "duration": 4,
    "start_time": "2022-02-19T16:23:16.551Z"
   },
   {
    "duration": 12,
    "start_time": "2022-02-19T16:23:16.556Z"
   },
   {
    "duration": 4,
    "start_time": "2022-02-19T16:23:16.569Z"
   },
   {
    "duration": 60,
    "start_time": "2022-02-19T16:23:16.574Z"
   },
   {
    "duration": 10,
    "start_time": "2022-02-19T16:23:16.636Z"
   },
   {
    "duration": 20,
    "start_time": "2022-02-19T16:23:16.647Z"
   },
   {
    "duration": 7,
    "start_time": "2022-02-19T16:23:16.669Z"
   },
   {
    "duration": 10,
    "start_time": "2022-02-19T16:23:16.677Z"
   },
   {
    "duration": 4,
    "start_time": "2022-02-19T16:23:16.688Z"
   },
   {
    "duration": 47,
    "start_time": "2022-02-19T16:23:16.693Z"
   },
   {
    "duration": 6,
    "start_time": "2022-02-19T16:23:16.742Z"
   },
   {
    "duration": 27,
    "start_time": "2022-02-19T16:23:16.750Z"
   },
   {
    "duration": 14,
    "start_time": "2022-02-19T16:23:16.779Z"
   },
   {
    "duration": 49,
    "start_time": "2022-02-19T16:23:16.795Z"
   },
   {
    "duration": 15,
    "start_time": "2022-02-19T16:23:16.846Z"
   },
   {
    "duration": 6,
    "start_time": "2022-02-19T16:23:16.863Z"
   },
   {
    "duration": 222,
    "start_time": "2022-02-19T16:23:16.871Z"
   },
   {
    "duration": 21,
    "start_time": "2022-02-19T16:23:17.097Z"
   },
   {
    "duration": 8,
    "start_time": "2022-02-19T16:23:17.133Z"
   },
   {
    "duration": 530,
    "start_time": "2022-02-19T16:23:17.142Z"
   },
   {
    "duration": 10,
    "start_time": "2022-02-19T16:23:17.674Z"
   },
   {
    "duration": 52,
    "start_time": "2022-02-19T16:23:17.686Z"
   },
   {
    "duration": 398,
    "start_time": "2022-02-19T16:23:17.740Z"
   },
   {
    "duration": 391,
    "start_time": "2022-02-19T16:23:18.141Z"
   },
   {
    "duration": 364,
    "start_time": "2022-02-19T16:23:18.534Z"
   },
   {
    "duration": 6,
    "start_time": "2022-02-19T16:30:14.158Z"
   },
   {
    "duration": 16,
    "start_time": "2022-02-19T16:32:11.046Z"
   },
   {
    "duration": 17,
    "start_time": "2022-02-19T16:34:23.141Z"
   },
   {
    "duration": 113,
    "start_time": "2022-02-19T16:49:19.301Z"
   },
   {
    "duration": 99,
    "start_time": "2022-02-19T16:54:32.825Z"
   },
   {
    "duration": 98,
    "start_time": "2022-02-19T16:54:59.601Z"
   },
   {
    "duration": 100,
    "start_time": "2022-02-19T16:55:13.690Z"
   },
   {
    "duration": 119,
    "start_time": "2022-02-19T16:55:19.317Z"
   },
   {
    "duration": 19,
    "start_time": "2022-02-19T16:57:19.638Z"
   },
   {
    "duration": 27,
    "start_time": "2022-02-19T16:57:33.358Z"
   },
   {
    "duration": 15,
    "start_time": "2022-02-19T16:57:46.425Z"
   },
   {
    "duration": 15,
    "start_time": "2022-02-19T16:58:06.518Z"
   },
   {
    "duration": 29,
    "start_time": "2022-02-19T16:58:18.311Z"
   },
   {
    "duration": 17,
    "start_time": "2022-02-19T16:58:57.305Z"
   },
   {
    "duration": 18,
    "start_time": "2022-02-19T16:59:16.701Z"
   },
   {
    "duration": 22,
    "start_time": "2022-02-19T16:59:18.729Z"
   },
   {
    "duration": 23,
    "start_time": "2022-02-19T16:59:25.442Z"
   },
   {
    "duration": 8,
    "start_time": "2022-02-19T17:03:34.921Z"
   },
   {
    "duration": 16,
    "start_time": "2022-02-19T17:03:47.142Z"
   },
   {
    "duration": 41,
    "start_time": "2022-02-19T17:03:47.276Z"
   },
   {
    "duration": 17,
    "start_time": "2022-02-19T17:05:16.957Z"
   },
   {
    "duration": 17,
    "start_time": "2022-02-19T17:05:25.437Z"
   },
   {
    "duration": 15,
    "start_time": "2022-02-19T17:05:28.909Z"
   },
   {
    "duration": 32,
    "start_time": "2022-02-19T17:05:57.378Z"
   },
   {
    "duration": 16,
    "start_time": "2022-02-19T17:06:00.714Z"
   },
   {
    "duration": 26,
    "start_time": "2022-02-19T17:07:13.962Z"
   },
   {
    "duration": 27,
    "start_time": "2022-02-19T17:07:19.358Z"
   },
   {
    "duration": 24,
    "start_time": "2022-02-19T17:07:21.939Z"
   },
   {
    "duration": 651,
    "start_time": "2022-02-19T17:07:28.865Z"
   },
   {
    "duration": 2,
    "start_time": "2022-02-19T17:07:29.518Z"
   },
   {
    "duration": 470,
    "start_time": "2022-02-19T17:07:29.523Z"
   },
   {
    "duration": 16,
    "start_time": "2022-02-19T17:07:29.995Z"
   },
   {
    "duration": 14,
    "start_time": "2022-02-19T17:07:30.013Z"
   },
   {
    "duration": 6,
    "start_time": "2022-02-19T17:07:30.029Z"
   },
   {
    "duration": 10,
    "start_time": "2022-02-19T17:07:30.037Z"
   },
   {
    "duration": 16,
    "start_time": "2022-02-19T17:07:30.049Z"
   },
   {
    "duration": 3,
    "start_time": "2022-02-19T17:07:30.070Z"
   },
   {
    "duration": 14,
    "start_time": "2022-02-19T17:07:30.075Z"
   },
   {
    "duration": 18,
    "start_time": "2022-02-19T17:07:30.091Z"
   },
   {
    "duration": 40,
    "start_time": "2022-02-19T17:07:30.111Z"
   },
   {
    "duration": 19,
    "start_time": "2022-02-19T17:07:30.153Z"
   },
   {
    "duration": 27,
    "start_time": "2022-02-19T17:07:30.174Z"
   },
   {
    "duration": 13,
    "start_time": "2022-02-19T17:07:30.232Z"
   },
   {
    "duration": 30,
    "start_time": "2022-02-19T17:07:30.247Z"
   },
   {
    "duration": 52,
    "start_time": "2022-02-19T17:07:30.279Z"
   },
   {
    "duration": 15,
    "start_time": "2022-02-19T17:07:30.334Z"
   },
   {
    "duration": 33,
    "start_time": "2022-02-19T17:07:30.351Z"
   },
   {
    "duration": 5,
    "start_time": "2022-02-19T17:07:30.386Z"
   },
   {
    "duration": 42,
    "start_time": "2022-02-19T17:07:30.393Z"
   },
   {
    "duration": 20,
    "start_time": "2022-02-19T17:07:30.437Z"
   },
   {
    "duration": 22,
    "start_time": "2022-02-19T17:07:30.460Z"
   },
   {
    "duration": 56,
    "start_time": "2022-02-19T17:07:30.484Z"
   },
   {
    "duration": 23,
    "start_time": "2022-02-19T17:07:30.542Z"
   },
   {
    "duration": 69,
    "start_time": "2022-02-19T17:07:30.567Z"
   },
   {
    "duration": 6,
    "start_time": "2022-02-19T17:07:30.642Z"
   },
   {
    "duration": 33,
    "start_time": "2022-02-19T17:07:30.652Z"
   },
   {
    "duration": 14,
    "start_time": "2022-02-19T17:07:30.687Z"
   },
   {
    "duration": 23,
    "start_time": "2022-02-19T17:07:30.704Z"
   },
   {
    "duration": 17,
    "start_time": "2022-02-19T17:07:30.729Z"
   },
   {
    "duration": 41,
    "start_time": "2022-02-19T17:07:30.748Z"
   },
   {
    "duration": 20,
    "start_time": "2022-02-19T17:07:30.792Z"
   },
   {
    "duration": 37,
    "start_time": "2022-02-19T17:07:30.814Z"
   },
   {
    "duration": 27,
    "start_time": "2022-02-19T17:07:30.853Z"
   },
   {
    "duration": 54,
    "start_time": "2022-02-19T17:07:30.882Z"
   },
   {
    "duration": 23,
    "start_time": "2022-02-19T17:07:30.939Z"
   },
   {
    "duration": 22,
    "start_time": "2022-02-19T17:07:30.964Z"
   },
   {
    "duration": 30,
    "start_time": "2022-02-19T17:07:30.987Z"
   },
   {
    "duration": 13,
    "start_time": "2022-02-19T17:07:31.019Z"
   },
   {
    "duration": 20,
    "start_time": "2022-02-19T17:07:31.034Z"
   },
   {
    "duration": 31,
    "start_time": "2022-02-19T17:07:31.056Z"
   },
   {
    "duration": 7,
    "start_time": "2022-02-19T17:07:31.090Z"
   },
   {
    "duration": 9,
    "start_time": "2022-02-19T17:07:31.100Z"
   },
   {
    "duration": 37,
    "start_time": "2022-02-19T17:07:31.111Z"
   },
   {
    "duration": 15,
    "start_time": "2022-02-19T17:07:31.150Z"
   },
   {
    "duration": 11,
    "start_time": "2022-02-19T17:07:31.167Z"
   },
   {
    "duration": 9,
    "start_time": "2022-02-19T17:07:31.180Z"
   },
   {
    "duration": 9,
    "start_time": "2022-02-19T17:07:31.191Z"
   },
   {
    "duration": 4,
    "start_time": "2022-02-19T17:07:31.232Z"
   },
   {
    "duration": 15,
    "start_time": "2022-02-19T17:07:31.238Z"
   },
   {
    "duration": 38,
    "start_time": "2022-02-19T17:07:31.255Z"
   },
   {
    "duration": 56,
    "start_time": "2022-02-19T17:07:31.296Z"
   },
   {
    "duration": 10,
    "start_time": "2022-02-19T17:07:31.355Z"
   },
   {
    "duration": 7,
    "start_time": "2022-02-19T17:07:31.367Z"
   },
   {
    "duration": 12,
    "start_time": "2022-02-19T17:07:31.376Z"
   },
   {
    "duration": 5,
    "start_time": "2022-02-19T17:07:31.390Z"
   },
   {
    "duration": 24,
    "start_time": "2022-02-19T17:07:31.432Z"
   },
   {
    "duration": 11,
    "start_time": "2022-02-19T17:07:31.458Z"
   },
   {
    "duration": 22,
    "start_time": "2022-02-19T17:07:31.471Z"
   },
   {
    "duration": 43,
    "start_time": "2022-02-19T17:07:31.495Z"
   },
   {
    "duration": 14,
    "start_time": "2022-02-19T17:07:31.540Z"
   },
   {
    "duration": 4,
    "start_time": "2022-02-19T17:07:31.556Z"
   },
   {
    "duration": 17,
    "start_time": "2022-02-19T17:07:31.562Z"
   },
   {
    "duration": 8,
    "start_time": "2022-02-19T17:07:31.581Z"
   },
   {
    "duration": 59,
    "start_time": "2022-02-19T17:07:31.591Z"
   },
   {
    "duration": 11,
    "start_time": "2022-02-19T17:07:31.652Z"
   },
   {
    "duration": 13,
    "start_time": "2022-02-19T17:07:31.665Z"
   },
   {
    "duration": 14,
    "start_time": "2022-02-19T17:07:31.681Z"
   },
   {
    "duration": 7,
    "start_time": "2022-02-19T17:07:31.732Z"
   },
   {
    "duration": 329,
    "start_time": "2022-02-19T17:07:31.741Z"
   },
   {
    "duration": 26,
    "start_time": "2022-02-19T17:07:32.072Z"
   },
   {
    "duration": 7,
    "start_time": "2022-02-19T17:07:32.100Z"
   },
   {
    "duration": 348,
    "start_time": "2022-02-19T17:07:32.131Z"
   },
   {
    "duration": 9,
    "start_time": "2022-02-19T17:07:32.481Z"
   },
   {
    "duration": 50,
    "start_time": "2022-02-19T17:07:32.492Z"
   },
   {
    "duration": 254,
    "start_time": "2022-02-19T17:07:32.544Z"
   },
   {
    "duration": 254,
    "start_time": "2022-02-19T17:07:32.801Z"
   },
   {
    "duration": 237,
    "start_time": "2022-02-19T17:07:33.057Z"
   },
   {
    "duration": 20,
    "start_time": "2022-02-19T17:08:21.082Z"
   },
   {
    "duration": 22,
    "start_time": "2022-02-19T17:08:31.018Z"
   },
   {
    "duration": 24,
    "start_time": "2022-02-19T17:08:34.126Z"
   },
   {
    "duration": 13,
    "start_time": "2022-02-19T17:08:41.938Z"
   },
   {
    "duration": 16,
    "start_time": "2022-02-19T17:08:45.270Z"
   },
   {
    "duration": 15,
    "start_time": "2022-02-19T17:08:48.615Z"
   },
   {
    "duration": 31,
    "start_time": "2022-02-19T17:12:01.205Z"
   },
   {
    "duration": 19,
    "start_time": "2022-02-19T17:13:30.680Z"
   },
   {
    "duration": 12,
    "start_time": "2022-02-19T17:13:44.077Z"
   },
   {
    "duration": 20,
    "start_time": "2022-02-19T17:14:06.897Z"
   },
   {
    "duration": 3,
    "start_time": "2022-02-19T17:24:13.059Z"
   },
   {
    "duration": 375,
    "start_time": "2022-02-19T17:31:42.809Z"
   },
   {
    "duration": 308,
    "start_time": "2022-02-19T17:33:51.586Z"
   },
   {
    "duration": 283,
    "start_time": "2022-02-19T17:45:22.613Z"
   },
   {
    "duration": 340,
    "start_time": "2022-02-19T17:45:35.826Z"
   },
   {
    "duration": 71,
    "start_time": "2022-02-19T17:45:46.626Z"
   },
   {
    "duration": 6,
    "start_time": "2022-02-19T17:46:03.594Z"
   },
   {
    "duration": 12,
    "start_time": "2022-02-19T17:46:24.089Z"
   },
   {
    "duration": 57,
    "start_time": "2022-02-19T17:47:54.191Z"
   },
   {
    "duration": 13,
    "start_time": "2022-02-19T17:47:57.302Z"
   },
   {
    "duration": 299,
    "start_time": "2022-02-19T17:53:58.842Z"
   },
   {
    "duration": 315,
    "start_time": "2022-02-19T17:54:52.830Z"
   },
   {
    "duration": 303,
    "start_time": "2022-02-19T17:55:01.166Z"
   },
   {
    "duration": 671,
    "start_time": "2022-02-19T17:55:11.376Z"
   },
   {
    "duration": 3,
    "start_time": "2022-02-19T17:55:12.049Z"
   },
   {
    "duration": 58,
    "start_time": "2022-02-19T17:55:12.055Z"
   },
   {
    "duration": 19,
    "start_time": "2022-02-19T17:55:12.115Z"
   },
   {
    "duration": 358,
    "start_time": "2022-02-19T17:55:12.136Z"
   },
   {
    "duration": -582,
    "start_time": "2022-02-19T17:55:13.080Z"
   },
   {
    "duration": -593,
    "start_time": "2022-02-19T17:55:13.092Z"
   },
   {
    "duration": -604,
    "start_time": "2022-02-19T17:55:13.104Z"
   },
   {
    "duration": -612,
    "start_time": "2022-02-19T17:55:13.113Z"
   },
   {
    "duration": -622,
    "start_time": "2022-02-19T17:55:13.124Z"
   },
   {
    "duration": -631,
    "start_time": "2022-02-19T17:55:13.134Z"
   },
   {
    "duration": -640,
    "start_time": "2022-02-19T17:55:13.144Z"
   },
   {
    "duration": -650,
    "start_time": "2022-02-19T17:55:13.155Z"
   },
   {
    "duration": -683,
    "start_time": "2022-02-19T17:55:13.189Z"
   },
   {
    "duration": -693,
    "start_time": "2022-02-19T17:55:13.200Z"
   },
   {
    "duration": -704,
    "start_time": "2022-02-19T17:55:13.212Z"
   },
   {
    "duration": -715,
    "start_time": "2022-02-19T17:55:13.224Z"
   },
   {
    "duration": -725,
    "start_time": "2022-02-19T17:55:13.235Z"
   },
   {
    "duration": -735,
    "start_time": "2022-02-19T17:55:13.246Z"
   },
   {
    "duration": -748,
    "start_time": "2022-02-19T17:55:13.259Z"
   },
   {
    "duration": -758,
    "start_time": "2022-02-19T17:55:13.270Z"
   },
   {
    "duration": -768,
    "start_time": "2022-02-19T17:55:13.280Z"
   },
   {
    "duration": -797,
    "start_time": "2022-02-19T17:55:13.310Z"
   },
   {
    "duration": -809,
    "start_time": "2022-02-19T17:55:13.322Z"
   },
   {
    "duration": -825,
    "start_time": "2022-02-19T17:55:13.339Z"
   },
   {
    "duration": -835,
    "start_time": "2022-02-19T17:55:13.350Z"
   },
   {
    "duration": -844,
    "start_time": "2022-02-19T17:55:13.359Z"
   },
   {
    "duration": -853,
    "start_time": "2022-02-19T17:55:13.369Z"
   },
   {
    "duration": -863,
    "start_time": "2022-02-19T17:55:13.379Z"
   },
   {
    "duration": -872,
    "start_time": "2022-02-19T17:55:13.389Z"
   },
   {
    "duration": -881,
    "start_time": "2022-02-19T17:55:13.399Z"
   },
   {
    "duration": -910,
    "start_time": "2022-02-19T17:55:13.428Z"
   },
   {
    "duration": -918,
    "start_time": "2022-02-19T17:55:13.437Z"
   },
   {
    "duration": -928,
    "start_time": "2022-02-19T17:55:13.447Z"
   },
   {
    "duration": -937,
    "start_time": "2022-02-19T17:55:13.457Z"
   },
   {
    "duration": -948,
    "start_time": "2022-02-19T17:55:13.468Z"
   },
   {
    "duration": -956,
    "start_time": "2022-02-19T17:55:13.477Z"
   },
   {
    "duration": -967,
    "start_time": "2022-02-19T17:55:13.488Z"
   },
   {
    "duration": -975,
    "start_time": "2022-02-19T17:55:13.497Z"
   },
   {
    "duration": -986,
    "start_time": "2022-02-19T17:55:13.508Z"
   },
   {
    "duration": -993,
    "start_time": "2022-02-19T17:55:13.517Z"
   },
   {
    "duration": -1020,
    "start_time": "2022-02-19T17:55:13.545Z"
   },
   {
    "duration": -1028,
    "start_time": "2022-02-19T17:55:13.554Z"
   },
   {
    "duration": -1038,
    "start_time": "2022-02-19T17:55:13.564Z"
   },
   {
    "duration": -1045,
    "start_time": "2022-02-19T17:55:13.573Z"
   },
   {
    "duration": -1054,
    "start_time": "2022-02-19T17:55:13.583Z"
   },
   {
    "duration": -1063,
    "start_time": "2022-02-19T17:55:13.592Z"
   },
   {
    "duration": -1073,
    "start_time": "2022-02-19T17:55:13.603Z"
   },
   {
    "duration": -1080,
    "start_time": "2022-02-19T17:55:13.611Z"
   },
   {
    "duration": -1089,
    "start_time": "2022-02-19T17:55:13.621Z"
   },
   {
    "duration": -1098,
    "start_time": "2022-02-19T17:55:13.631Z"
   },
   {
    "duration": -1108,
    "start_time": "2022-02-19T17:55:13.641Z"
   },
   {
    "duration": -1134,
    "start_time": "2022-02-19T17:55:13.668Z"
   },
   {
    "duration": -1143,
    "start_time": "2022-02-19T17:55:13.678Z"
   },
   {
    "duration": -1152,
    "start_time": "2022-02-19T17:55:13.688Z"
   },
   {
    "duration": -1160,
    "start_time": "2022-02-19T17:55:13.697Z"
   },
   {
    "duration": -1169,
    "start_time": "2022-02-19T17:55:13.707Z"
   },
   {
    "duration": -1256,
    "start_time": "2022-02-19T17:55:13.795Z"
   },
   {
    "duration": -1265,
    "start_time": "2022-02-19T17:55:13.805Z"
   },
   {
    "duration": -1275,
    "start_time": "2022-02-19T17:55:13.815Z"
   },
   {
    "duration": -1283,
    "start_time": "2022-02-19T17:55:13.824Z"
   },
   {
    "duration": -1291,
    "start_time": "2022-02-19T17:55:13.834Z"
   },
   {
    "duration": -1299,
    "start_time": "2022-02-19T17:55:13.843Z"
   },
   {
    "duration": -1308,
    "start_time": "2022-02-19T17:55:13.853Z"
   },
   {
    "duration": -1318,
    "start_time": "2022-02-19T17:55:13.863Z"
   },
   {
    "duration": -1327,
    "start_time": "2022-02-19T17:55:13.873Z"
   },
   {
    "duration": -1335,
    "start_time": "2022-02-19T17:55:13.882Z"
   },
   {
    "duration": -1365,
    "start_time": "2022-02-19T17:55:13.913Z"
   },
   {
    "duration": -1373,
    "start_time": "2022-02-19T17:55:13.922Z"
   },
   {
    "duration": -1383,
    "start_time": "2022-02-19T17:55:13.932Z"
   },
   {
    "duration": -1391,
    "start_time": "2022-02-19T17:55:13.941Z"
   },
   {
    "duration": -1401,
    "start_time": "2022-02-19T17:55:13.952Z"
   },
   {
    "duration": -1409,
    "start_time": "2022-02-19T17:55:13.961Z"
   },
   {
    "duration": -1419,
    "start_time": "2022-02-19T17:55:13.971Z"
   },
   {
    "duration": -1427,
    "start_time": "2022-02-19T17:55:13.980Z"
   },
   {
    "duration": -1436,
    "start_time": "2022-02-19T17:55:13.990Z"
   },
   {
    "duration": -1444,
    "start_time": "2022-02-19T17:55:13.999Z"
   },
   {
    "duration": -1452,
    "start_time": "2022-02-19T17:55:14.009Z"
   },
   {
    "duration": -1483,
    "start_time": "2022-02-19T17:55:14.041Z"
   },
   {
    "duration": 3,
    "start_time": "2022-02-19T17:55:57.468Z"
   },
   {
    "duration": 4,
    "start_time": "2022-02-19T17:55:57.473Z"
   },
   {
    "duration": 62,
    "start_time": "2022-02-19T17:55:57.480Z"
   },
   {
    "duration": 21,
    "start_time": "2022-02-19T17:55:57.544Z"
   },
   {
    "duration": 331,
    "start_time": "2022-02-19T17:55:57.566Z"
   },
   {
    "duration": -838,
    "start_time": "2022-02-19T17:55:58.739Z"
   },
   {
    "duration": -853,
    "start_time": "2022-02-19T17:55:58.756Z"
   },
   {
    "duration": -865,
    "start_time": "2022-02-19T17:55:58.769Z"
   },
   {
    "duration": -878,
    "start_time": "2022-02-19T17:55:58.784Z"
   },
   {
    "duration": -891,
    "start_time": "2022-02-19T17:55:58.798Z"
   },
   {
    "duration": -900,
    "start_time": "2022-02-19T17:55:58.808Z"
   },
   {
    "duration": -913,
    "start_time": "2022-02-19T17:55:58.823Z"
   },
   {
    "duration": -942,
    "start_time": "2022-02-19T17:55:58.853Z"
   },
   {
    "duration": -954,
    "start_time": "2022-02-19T17:55:58.867Z"
   },
   {
    "duration": -966,
    "start_time": "2022-02-19T17:55:58.880Z"
   },
   {
    "duration": -980,
    "start_time": "2022-02-19T17:55:58.895Z"
   },
   {
    "duration": -991,
    "start_time": "2022-02-19T17:55:58.908Z"
   },
   {
    "duration": -1001,
    "start_time": "2022-02-19T17:55:58.919Z"
   },
   {
    "duration": -1011,
    "start_time": "2022-02-19T17:55:58.930Z"
   },
   {
    "duration": -1023,
    "start_time": "2022-02-19T17:55:58.944Z"
   },
   {
    "duration": -1054,
    "start_time": "2022-02-19T17:55:58.976Z"
   },
   {
    "duration": -1066,
    "start_time": "2022-02-19T17:55:58.990Z"
   },
   {
    "duration": -1077,
    "start_time": "2022-02-19T17:55:59.002Z"
   },
   {
    "duration": -1086,
    "start_time": "2022-02-19T17:55:59.012Z"
   },
   {
    "duration": -1096,
    "start_time": "2022-02-19T17:55:59.023Z"
   },
   {
    "duration": -1104,
    "start_time": "2022-02-19T17:55:59.032Z"
   },
   {
    "duration": -1113,
    "start_time": "2022-02-19T17:55:59.042Z"
   },
   {
    "duration": -1123,
    "start_time": "2022-02-19T17:55:59.053Z"
   },
   {
    "duration": -1131,
    "start_time": "2022-02-19T17:55:59.062Z"
   },
   {
    "duration": -1140,
    "start_time": "2022-02-19T17:55:59.072Z"
   },
   {
    "duration": -1166,
    "start_time": "2022-02-19T17:55:59.099Z"
   },
   {
    "duration": -1176,
    "start_time": "2022-02-19T17:55:59.109Z"
   },
   {
    "duration": -1185,
    "start_time": "2022-02-19T17:55:59.119Z"
   },
   {
    "duration": -1193,
    "start_time": "2022-02-19T17:55:59.128Z"
   },
   {
    "duration": -1200,
    "start_time": "2022-02-19T17:55:59.137Z"
   },
   {
    "duration": -1210,
    "start_time": "2022-02-19T17:55:59.148Z"
   },
   {
    "duration": -1219,
    "start_time": "2022-02-19T17:55:59.158Z"
   },
   {
    "duration": -1228,
    "start_time": "2022-02-19T17:55:59.167Z"
   },
   {
    "duration": -1236,
    "start_time": "2022-02-19T17:55:59.176Z"
   },
   {
    "duration": -1245,
    "start_time": "2022-02-19T17:55:59.186Z"
   },
   {
    "duration": -1253,
    "start_time": "2022-02-19T17:55:59.195Z"
   },
   {
    "duration": -1279,
    "start_time": "2022-02-19T17:55:59.222Z"
   },
   {
    "duration": -1287,
    "start_time": "2022-02-19T17:55:59.231Z"
   },
   {
    "duration": -1296,
    "start_time": "2022-02-19T17:55:59.241Z"
   },
   {
    "duration": -1304,
    "start_time": "2022-02-19T17:55:59.250Z"
   },
   {
    "duration": -1313,
    "start_time": "2022-02-19T17:55:59.260Z"
   },
   {
    "duration": -1322,
    "start_time": "2022-02-19T17:55:59.270Z"
   },
   {
    "duration": -1329,
    "start_time": "2022-02-19T17:55:59.278Z"
   },
   {
    "duration": -1335,
    "start_time": "2022-02-19T17:55:59.287Z"
   },
   {
    "duration": -1344,
    "start_time": "2022-02-19T17:55:59.297Z"
   },
   {
    "duration": -1352,
    "start_time": "2022-02-19T17:55:59.306Z"
   },
   {
    "duration": -1360,
    "start_time": "2022-02-19T17:55:59.315Z"
   },
   {
    "duration": -1383,
    "start_time": "2022-02-19T17:55:59.339Z"
   },
   {
    "duration": -1390,
    "start_time": "2022-02-19T17:55:59.348Z"
   },
   {
    "duration": -1399,
    "start_time": "2022-02-19T17:55:59.358Z"
   },
   {
    "duration": -1406,
    "start_time": "2022-02-19T17:55:59.366Z"
   },
   {
    "duration": -1415,
    "start_time": "2022-02-19T17:55:59.376Z"
   },
   {
    "duration": -1425,
    "start_time": "2022-02-19T17:55:59.387Z"
   },
   {
    "duration": -1433,
    "start_time": "2022-02-19T17:55:59.396Z"
   },
   {
    "duration": -1441,
    "start_time": "2022-02-19T17:55:59.405Z"
   },
   {
    "duration": -1448,
    "start_time": "2022-02-19T17:55:59.414Z"
   },
   {
    "duration": -1457,
    "start_time": "2022-02-19T17:55:59.424Z"
   },
   {
    "duration": -1465,
    "start_time": "2022-02-19T17:55:59.433Z"
   },
   {
    "duration": -1491,
    "start_time": "2022-02-19T17:55:59.460Z"
   },
   {
    "duration": -1499,
    "start_time": "2022-02-19T17:55:59.469Z"
   },
   {
    "duration": -1507,
    "start_time": "2022-02-19T17:55:59.478Z"
   },
   {
    "duration": -1515,
    "start_time": "2022-02-19T17:55:59.488Z"
   },
   {
    "duration": -1523,
    "start_time": "2022-02-19T17:55:59.497Z"
   },
   {
    "duration": -1536,
    "start_time": "2022-02-19T17:55:59.511Z"
   },
   {
    "duration": -1490,
    "start_time": "2022-02-19T17:55:59.522Z"
   },
   {
    "duration": -1498,
    "start_time": "2022-02-19T17:55:59.531Z"
   },
   {
    "duration": -1506,
    "start_time": "2022-02-19T17:55:59.541Z"
   },
   {
    "duration": -1515,
    "start_time": "2022-02-19T17:55:59.551Z"
   },
   {
    "duration": -1538,
    "start_time": "2022-02-19T17:55:59.578Z"
   },
   {
    "duration": 318,
    "start_time": "2022-02-19T17:55:58.042Z"
   },
   {
    "duration": -1846,
    "start_time": "2022-02-19T17:56:00.208Z"
   },
   {
    "duration": -2015,
    "start_time": "2022-02-19T17:56:00.378Z"
   },
   {
    "duration": -2091,
    "start_time": "2022-02-19T17:56:00.455Z"
   },
   {
    "duration": -2131,
    "start_time": "2022-02-19T17:56:00.496Z"
   },
   {
    "duration": 56,
    "start_time": "2022-02-19T17:58:59.144Z"
   },
   {
    "duration": 103,
    "start_time": "2022-02-19T17:59:55.151Z"
   },
   {
    "duration": 7,
    "start_time": "2022-02-19T18:00:00.344Z"
   },
   {
    "duration": 1058,
    "start_time": "2022-02-19T18:00:08.584Z"
   },
   {
    "duration": 2,
    "start_time": "2022-02-19T18:00:09.645Z"
   },
   {
    "duration": 112,
    "start_time": "2022-02-19T18:00:09.650Z"
   },
   {
    "duration": 22,
    "start_time": "2022-02-19T18:00:09.764Z"
   },
   {
    "duration": 7,
    "start_time": "2022-02-19T18:00:09.788Z"
   },
   {
    "duration": 38,
    "start_time": "2022-02-19T18:00:09.797Z"
   },
   {
    "duration": 5,
    "start_time": "2022-02-19T18:00:09.837Z"
   },
   {
    "duration": 14,
    "start_time": "2022-02-19T18:00:09.845Z"
   },
   {
    "duration": 17,
    "start_time": "2022-02-19T18:00:09.861Z"
   },
   {
    "duration": 3,
    "start_time": "2022-02-19T18:00:09.880Z"
   },
   {
    "duration": 7,
    "start_time": "2022-02-19T18:00:09.885Z"
   },
   {
    "duration": 38,
    "start_time": "2022-02-19T18:00:09.894Z"
   },
   {
    "duration": 18,
    "start_time": "2022-02-19T18:00:09.933Z"
   },
   {
    "duration": 17,
    "start_time": "2022-02-19T18:00:09.952Z"
   },
   {
    "duration": 25,
    "start_time": "2022-02-19T18:00:09.972Z"
   },
   {
    "duration": 38,
    "start_time": "2022-02-19T18:00:09.998Z"
   },
   {
    "duration": 19,
    "start_time": "2022-02-19T18:00:10.037Z"
   },
   {
    "duration": 17,
    "start_time": "2022-02-19T18:00:10.058Z"
   },
   {
    "duration": 10,
    "start_time": "2022-02-19T18:00:10.077Z"
   },
   {
    "duration": 57,
    "start_time": "2022-02-19T18:00:10.089Z"
   },
   {
    "duration": 4,
    "start_time": "2022-02-19T18:00:10.148Z"
   },
   {
    "duration": 9,
    "start_time": "2022-02-19T18:00:10.155Z"
   },
   {
    "duration": 13,
    "start_time": "2022-02-19T18:00:10.169Z"
   },
   {
    "duration": 53,
    "start_time": "2022-02-19T18:00:10.185Z"
   },
   {
    "duration": 18,
    "start_time": "2022-02-19T18:00:10.240Z"
   },
   {
    "duration": 114,
    "start_time": "2022-02-19T18:00:10.260Z"
   },
   {
    "duration": 6,
    "start_time": "2022-02-19T18:00:10.376Z"
   },
   {
    "duration": 6,
    "start_time": "2022-02-19T18:00:10.384Z"
   },
   {
    "duration": 12,
    "start_time": "2022-02-19T18:00:10.392Z"
   },
   {
    "duration": 5,
    "start_time": "2022-02-19T18:00:10.431Z"
   },
   {
    "duration": 4,
    "start_time": "2022-02-19T18:00:10.438Z"
   },
   {
    "duration": 23,
    "start_time": "2022-02-19T18:00:10.444Z"
   },
   {
    "duration": 11,
    "start_time": "2022-02-19T18:00:10.469Z"
   },
   {
    "duration": 59,
    "start_time": "2022-02-19T18:00:10.481Z"
   },
   {
    "duration": 11,
    "start_time": "2022-02-19T18:00:10.542Z"
   },
   {
    "duration": 32,
    "start_time": "2022-02-19T18:00:10.555Z"
   },
   {
    "duration": 46,
    "start_time": "2022-02-19T18:00:10.590Z"
   },
   {
    "duration": 5,
    "start_time": "2022-02-19T18:00:10.638Z"
   },
   {
    "duration": 12,
    "start_time": "2022-02-19T18:00:10.645Z"
   },
   {
    "duration": 7,
    "start_time": "2022-02-19T18:00:10.658Z"
   },
   {
    "duration": 6,
    "start_time": "2022-02-19T18:00:10.666Z"
   },
   {
    "duration": 61,
    "start_time": "2022-02-19T18:00:10.674Z"
   },
   {
    "duration": 6,
    "start_time": "2022-02-19T18:00:10.737Z"
   },
   {
    "duration": 5,
    "start_time": "2022-02-19T18:00:10.745Z"
   },
   {
    "duration": 20,
    "start_time": "2022-02-19T18:00:10.752Z"
   },
   {
    "duration": 9,
    "start_time": "2022-02-19T18:00:10.774Z"
   },
   {
    "duration": 48,
    "start_time": "2022-02-19T18:00:10.785Z"
   },
   {
    "duration": 4,
    "start_time": "2022-02-19T18:00:10.835Z"
   },
   {
    "duration": 6,
    "start_time": "2022-02-19T18:00:10.841Z"
   },
   {
    "duration": 6,
    "start_time": "2022-02-19T18:00:10.849Z"
   },
   {
    "duration": 18,
    "start_time": "2022-02-19T18:00:10.856Z"
   },
   {
    "duration": 78,
    "start_time": "2022-02-19T18:00:10.875Z"
   },
   {
    "duration": 25,
    "start_time": "2022-02-19T18:00:10.954Z"
   },
   {
    "duration": 14,
    "start_time": "2022-02-19T18:00:10.981Z"
   },
   {
    "duration": 6,
    "start_time": "2022-02-19T18:00:10.997Z"
   },
   {
    "duration": 19,
    "start_time": "2022-02-19T18:00:11.034Z"
   },
   {
    "duration": 6,
    "start_time": "2022-02-19T18:00:11.055Z"
   },
   {
    "duration": 18,
    "start_time": "2022-02-19T18:00:11.063Z"
   },
   {
    "duration": 11,
    "start_time": "2022-02-19T18:00:11.084Z"
   },
   {
    "duration": 27,
    "start_time": "2022-02-19T18:00:11.133Z"
   },
   {
    "duration": 7,
    "start_time": "2022-02-19T18:00:11.161Z"
   },
   {
    "duration": 14,
    "start_time": "2022-02-19T18:00:11.170Z"
   },
   {
    "duration": 11,
    "start_time": "2022-02-19T18:00:11.186Z"
   },
   {
    "duration": 38,
    "start_time": "2022-02-19T18:00:11.198Z"
   },
   {
    "duration": 7,
    "start_time": "2022-02-19T18:00:11.238Z"
   },
   {
    "duration": 19,
    "start_time": "2022-02-19T18:00:11.246Z"
   },
   {
    "duration": 12,
    "start_time": "2022-02-19T18:00:11.267Z"
   },
   {
    "duration": 10,
    "start_time": "2022-02-19T18:00:11.284Z"
   },
   {
    "duration": 46,
    "start_time": "2022-02-19T18:00:11.296Z"
   },
   {
    "duration": 6,
    "start_time": "2022-02-19T18:00:11.344Z"
   },
   {
    "duration": 294,
    "start_time": "2022-02-19T18:00:11.351Z"
   },
   {
    "duration": 27,
    "start_time": "2022-02-19T18:00:11.647Z"
   },
   {
    "duration": 7,
    "start_time": "2022-02-19T18:00:11.677Z"
   },
   {
    "duration": 546,
    "start_time": "2022-02-19T18:00:11.686Z"
   },
   {
    "duration": 8,
    "start_time": "2022-02-19T18:00:12.235Z"
   },
   {
    "duration": 38,
    "start_time": "2022-02-19T18:00:12.245Z"
   },
   {
    "duration": 405,
    "start_time": "2022-02-19T18:00:12.285Z"
   },
   {
    "duration": 375,
    "start_time": "2022-02-19T18:00:12.692Z"
   },
   {
    "duration": 246,
    "start_time": "2022-02-19T18:00:13.068Z"
   },
   {
    "duration": 618,
    "start_time": "2022-02-19T18:02:28.889Z"
   },
   {
    "duration": 3,
    "start_time": "2022-02-19T18:02:29.509Z"
   },
   {
    "duration": 95,
    "start_time": "2022-02-19T18:02:29.514Z"
   },
   {
    "duration": 16,
    "start_time": "2022-02-19T18:02:29.611Z"
   },
   {
    "duration": 7,
    "start_time": "2022-02-19T18:02:29.629Z"
   },
   {
    "duration": 12,
    "start_time": "2022-02-19T18:02:29.638Z"
   },
   {
    "duration": 5,
    "start_time": "2022-02-19T18:02:29.652Z"
   },
   {
    "duration": 9,
    "start_time": "2022-02-19T18:02:29.658Z"
   },
   {
    "duration": 19,
    "start_time": "2022-02-19T18:02:29.670Z"
   },
   {
    "duration": 43,
    "start_time": "2022-02-19T18:02:29.692Z"
   },
   {
    "duration": 5,
    "start_time": "2022-02-19T18:02:29.737Z"
   },
   {
    "duration": 12,
    "start_time": "2022-02-19T18:02:29.744Z"
   },
   {
    "duration": 17,
    "start_time": "2022-02-19T18:02:29.758Z"
   },
   {
    "duration": 12,
    "start_time": "2022-02-19T18:02:29.776Z"
   },
   {
    "duration": 59,
    "start_time": "2022-02-19T18:02:29.790Z"
   },
   {
    "duration": 9,
    "start_time": "2022-02-19T18:02:29.851Z"
   },
   {
    "duration": 18,
    "start_time": "2022-02-19T18:02:29.862Z"
   },
   {
    "duration": 63,
    "start_time": "2022-02-19T18:02:29.882Z"
   },
   {
    "duration": 10,
    "start_time": "2022-02-19T18:02:29.947Z"
   },
   {
    "duration": 29,
    "start_time": "2022-02-19T18:02:29.959Z"
   },
   {
    "duration": 5,
    "start_time": "2022-02-19T18:02:29.990Z"
   },
   {
    "duration": 39,
    "start_time": "2022-02-19T18:02:29.996Z"
   },
   {
    "duration": 15,
    "start_time": "2022-02-19T18:02:30.037Z"
   },
   {
    "duration": 15,
    "start_time": "2022-02-19T18:02:30.054Z"
   },
   {
    "duration": 25,
    "start_time": "2022-02-19T18:02:30.071Z"
   },
   {
    "duration": 102,
    "start_time": "2022-02-19T18:02:30.131Z"
   },
   {
    "duration": 6,
    "start_time": "2022-02-19T18:02:30.239Z"
   },
   {
    "duration": 15,
    "start_time": "2022-02-19T18:02:30.247Z"
   },
   {
    "duration": 10,
    "start_time": "2022-02-19T18:02:30.264Z"
   },
   {
    "duration": 10,
    "start_time": "2022-02-19T18:02:30.276Z"
   },
   {
    "duration": 7,
    "start_time": "2022-02-19T18:02:30.287Z"
   },
   {
    "duration": 67,
    "start_time": "2022-02-19T18:02:30.296Z"
   },
   {
    "duration": 17,
    "start_time": "2022-02-19T18:02:30.365Z"
   },
   {
    "duration": 24,
    "start_time": "2022-02-19T18:02:30.384Z"
   },
   {
    "duration": 38,
    "start_time": "2022-02-19T18:02:30.410Z"
   },
   {
    "duration": 32,
    "start_time": "2022-02-19T18:02:30.449Z"
   },
   {
    "duration": 19,
    "start_time": "2022-02-19T18:02:30.482Z"
   },
   {
    "duration": 30,
    "start_time": "2022-02-19T18:02:30.502Z"
   },
   {
    "duration": 14,
    "start_time": "2022-02-19T18:02:30.534Z"
   },
   {
    "duration": 7,
    "start_time": "2022-02-19T18:02:30.550Z"
   },
   {
    "duration": 9,
    "start_time": "2022-02-19T18:02:30.558Z"
   },
   {
    "duration": 22,
    "start_time": "2022-02-19T18:02:30.568Z"
   },
   {
    "duration": 6,
    "start_time": "2022-02-19T18:02:30.592Z"
   },
   {
    "duration": 6,
    "start_time": "2022-02-19T18:02:30.633Z"
   },
   {
    "duration": 39,
    "start_time": "2022-02-19T18:02:30.641Z"
   },
   {
    "duration": 16,
    "start_time": "2022-02-19T18:02:30.682Z"
   },
   {
    "duration": 36,
    "start_time": "2022-02-19T18:02:30.700Z"
   },
   {
    "duration": 7,
    "start_time": "2022-02-19T18:02:30.738Z"
   },
   {
    "duration": 8,
    "start_time": "2022-02-19T18:02:30.747Z"
   },
   {
    "duration": 7,
    "start_time": "2022-02-19T18:02:30.757Z"
   },
   {
    "duration": 23,
    "start_time": "2022-02-19T18:02:30.765Z"
   },
   {
    "duration": 81,
    "start_time": "2022-02-19T18:02:30.790Z"
   },
   {
    "duration": 26,
    "start_time": "2022-02-19T18:02:30.873Z"
   },
   {
    "duration": 37,
    "start_time": "2022-02-19T18:02:30.901Z"
   },
   {
    "duration": 7,
    "start_time": "2022-02-19T18:02:30.939Z"
   },
   {
    "duration": 13,
    "start_time": "2022-02-19T18:02:30.948Z"
   },
   {
    "duration": 6,
    "start_time": "2022-02-19T18:02:30.963Z"
   },
   {
    "duration": 18,
    "start_time": "2022-02-19T18:02:30.971Z"
   },
   {
    "duration": 50,
    "start_time": "2022-02-19T18:02:30.991Z"
   },
   {
    "duration": 23,
    "start_time": "2022-02-19T18:02:31.043Z"
   },
   {
    "duration": 15,
    "start_time": "2022-02-19T18:02:31.068Z"
   },
   {
    "duration": 15,
    "start_time": "2022-02-19T18:02:31.086Z"
   },
   {
    "duration": 5,
    "start_time": "2022-02-19T18:02:31.132Z"
   },
   {
    "duration": 15,
    "start_time": "2022-02-19T18:02:31.139Z"
   },
   {
    "duration": 7,
    "start_time": "2022-02-19T18:02:31.156Z"
   },
   {
    "duration": 18,
    "start_time": "2022-02-19T18:02:31.165Z"
   },
   {
    "duration": 49,
    "start_time": "2022-02-19T18:02:31.185Z"
   },
   {
    "duration": 13,
    "start_time": "2022-02-19T18:02:31.236Z"
   },
   {
    "duration": 13,
    "start_time": "2022-02-19T18:02:31.252Z"
   },
   {
    "duration": 6,
    "start_time": "2022-02-19T18:02:31.266Z"
   },
   {
    "duration": 24322,
    "start_time": "2022-02-19T18:02:31.274Z"
   },
   {
    "duration": 37,
    "start_time": "2022-02-19T18:02:55.598Z"
   },
   {
    "duration": 7,
    "start_time": "2022-02-19T18:02:55.638Z"
   },
   {
    "duration": 323,
    "start_time": "2022-02-19T18:02:55.647Z"
   },
   {
    "duration": 8,
    "start_time": "2022-02-19T18:02:55.971Z"
   },
   {
    "duration": 53,
    "start_time": "2022-02-19T18:02:55.981Z"
   },
   {
    "duration": 250,
    "start_time": "2022-02-19T18:02:56.036Z"
   },
   {
    "duration": 274,
    "start_time": "2022-02-19T18:02:56.287Z"
   },
   {
    "duration": 234,
    "start_time": "2022-02-19T18:02:56.563Z"
   },
   {
    "duration": 197,
    "start_time": "2022-02-19T18:03:43.527Z"
   },
   {
    "duration": 204,
    "start_time": "2022-02-19T18:10:16.954Z"
   },
   {
    "duration": 682,
    "start_time": "2022-02-19T18:13:23.205Z"
   },
   {
    "duration": 3,
    "start_time": "2022-02-19T18:13:23.888Z"
   },
   {
    "duration": 124,
    "start_time": "2022-02-19T18:13:23.893Z"
   },
   {
    "duration": 17,
    "start_time": "2022-02-19T18:13:24.019Z"
   },
   {
    "duration": 7,
    "start_time": "2022-02-19T18:13:24.038Z"
   },
   {
    "duration": 12,
    "start_time": "2022-02-19T18:13:24.046Z"
   },
   {
    "duration": 4,
    "start_time": "2022-02-19T18:13:24.060Z"
   },
   {
    "duration": 6,
    "start_time": "2022-02-19T18:13:24.066Z"
   },
   {
    "duration": 58,
    "start_time": "2022-02-19T18:13:24.075Z"
   },
   {
    "duration": 3,
    "start_time": "2022-02-19T18:13:24.134Z"
   },
   {
    "duration": 5,
    "start_time": "2022-02-19T18:13:24.139Z"
   },
   {
    "duration": 12,
    "start_time": "2022-02-19T18:13:24.146Z"
   },
   {
    "duration": 17,
    "start_time": "2022-02-19T18:13:24.160Z"
   },
   {
    "duration": 10,
    "start_time": "2022-02-19T18:13:24.179Z"
   },
   {
    "duration": 58,
    "start_time": "2022-02-19T18:13:24.190Z"
   },
   {
    "duration": 8,
    "start_time": "2022-02-19T18:13:24.250Z"
   },
   {
    "duration": 19,
    "start_time": "2022-02-19T18:13:24.259Z"
   },
   {
    "duration": 58,
    "start_time": "2022-02-19T18:13:24.280Z"
   },
   {
    "duration": 9,
    "start_time": "2022-02-19T18:13:24.340Z"
   },
   {
    "duration": 20,
    "start_time": "2022-02-19T18:13:24.351Z"
   },
   {
    "duration": 4,
    "start_time": "2022-02-19T18:13:24.373Z"
   },
   {
    "duration": 11,
    "start_time": "2022-02-19T18:13:24.379Z"
   },
   {
    "duration": 54,
    "start_time": "2022-02-19T18:13:24.392Z"
   },
   {
    "duration": 13,
    "start_time": "2022-02-19T18:13:24.448Z"
   },
   {
    "duration": 20,
    "start_time": "2022-02-19T18:13:24.464Z"
   },
   {
    "duration": 83,
    "start_time": "2022-02-19T18:13:24.485Z"
   },
   {
    "duration": 5,
    "start_time": "2022-02-19T18:13:24.574Z"
   },
   {
    "duration": 5,
    "start_time": "2022-02-19T18:13:24.581Z"
   },
   {
    "duration": 8,
    "start_time": "2022-02-19T18:13:24.588Z"
   },
   {
    "duration": 4,
    "start_time": "2022-02-19T18:13:24.598Z"
   },
   {
    "duration": 4,
    "start_time": "2022-02-19T18:13:24.632Z"
   },
   {
    "duration": 24,
    "start_time": "2022-02-19T18:13:24.638Z"
   },
   {
    "duration": 11,
    "start_time": "2022-02-19T18:13:24.663Z"
   },
   {
    "duration": 23,
    "start_time": "2022-02-19T18:13:24.676Z"
   },
   {
    "duration": 34,
    "start_time": "2022-02-19T18:13:24.702Z"
   },
   {
    "duration": 23,
    "start_time": "2022-02-19T18:13:24.738Z"
   },
   {
    "duration": 17,
    "start_time": "2022-02-19T18:13:24.763Z"
   },
   {
    "duration": 5,
    "start_time": "2022-02-19T18:13:24.782Z"
   },
   {
    "duration": 50,
    "start_time": "2022-02-19T18:13:24.788Z"
   },
   {
    "duration": 6,
    "start_time": "2022-02-19T18:13:24.840Z"
   },
   {
    "duration": 21,
    "start_time": "2022-02-19T18:13:24.848Z"
   },
   {
    "duration": 19,
    "start_time": "2022-02-19T18:13:24.871Z"
   },
   {
    "duration": 5,
    "start_time": "2022-02-19T18:13:24.892Z"
   },
   {
    "duration": 8,
    "start_time": "2022-02-19T18:13:24.898Z"
   },
   {
    "duration": 51,
    "start_time": "2022-02-19T18:13:24.907Z"
   },
   {
    "duration": 10,
    "start_time": "2022-02-19T18:13:24.959Z"
   },
   {
    "duration": 9,
    "start_time": "2022-02-19T18:13:24.971Z"
   },
   {
    "duration": 7,
    "start_time": "2022-02-19T18:13:24.982Z"
   },
   {
    "duration": 10,
    "start_time": "2022-02-19T18:13:24.991Z"
   },
   {
    "duration": 5,
    "start_time": "2022-02-19T18:13:25.032Z"
   },
   {
    "duration": 22,
    "start_time": "2022-02-19T18:13:25.039Z"
   },
   {
    "duration": 31,
    "start_time": "2022-02-19T18:13:25.063Z"
   },
   {
    "duration": 48,
    "start_time": "2022-02-19T18:13:25.097Z"
   },
   {
    "duration": 9,
    "start_time": "2022-02-19T18:13:25.147Z"
   },
   {
    "duration": 7,
    "start_time": "2022-02-19T18:13:25.157Z"
   },
   {
    "duration": 14,
    "start_time": "2022-02-19T18:13:25.166Z"
   },
   {
    "duration": 7,
    "start_time": "2022-02-19T18:13:25.182Z"
   },
   {
    "duration": 59,
    "start_time": "2022-02-19T18:13:25.191Z"
   },
   {
    "duration": 7,
    "start_time": "2022-02-19T18:13:25.252Z"
   },
   {
    "duration": 18,
    "start_time": "2022-02-19T18:13:25.261Z"
   },
   {
    "duration": 8,
    "start_time": "2022-02-19T18:13:25.280Z"
   },
   {
    "duration": 47,
    "start_time": "2022-02-19T18:13:25.290Z"
   },
   {
    "duration": 5,
    "start_time": "2022-02-19T18:13:25.339Z"
   },
   {
    "duration": 10,
    "start_time": "2022-02-19T18:13:25.346Z"
   },
   {
    "duration": 8,
    "start_time": "2022-02-19T18:13:25.357Z"
   },
   {
    "duration": 30,
    "start_time": "2022-02-19T18:13:25.366Z"
   },
   {
    "duration": 41,
    "start_time": "2022-02-19T18:13:25.398Z"
   },
   {
    "duration": 15,
    "start_time": "2022-02-19T18:13:25.440Z"
   },
   {
    "duration": 13,
    "start_time": "2022-02-19T18:13:25.457Z"
   },
   {
    "duration": 5,
    "start_time": "2022-02-19T18:13:25.472Z"
   },
   {
    "duration": 237,
    "start_time": "2022-02-19T18:13:25.479Z"
   },
   {
    "duration": 23,
    "start_time": "2022-02-19T18:13:25.718Z"
   },
   {
    "duration": 7,
    "start_time": "2022-02-19T18:13:25.743Z"
   },
   {
    "duration": 378,
    "start_time": "2022-02-19T18:13:25.752Z"
   },
   {
    "duration": 7,
    "start_time": "2022-02-19T18:13:26.132Z"
   },
   {
    "duration": 27,
    "start_time": "2022-02-19T18:13:26.141Z"
   },
   {
    "duration": 346,
    "start_time": "2022-02-19T18:13:26.170Z"
   },
   {
    "duration": 256,
    "start_time": "2022-02-19T18:13:26.518Z"
   },
   {
    "duration": 237,
    "start_time": "2022-02-19T18:13:26.776Z"
   },
   {
    "duration": 278,
    "start_time": "2022-02-19T18:16:09.477Z"
   },
   {
    "duration": 29336,
    "start_time": "2022-02-19T18:16:45.477Z"
   },
   {
    "duration": 201,
    "start_time": "2022-02-19T18:17:44.441Z"
   },
   {
    "duration": 94,
    "start_time": "2022-02-19T18:59:28.274Z"
   },
   {
    "duration": 2,
    "start_time": "2022-02-19T18:59:36.953Z"
   },
   {
    "duration": 621,
    "start_time": "2022-02-19T18:59:45.769Z"
   },
   {
    "duration": 3,
    "start_time": "2022-02-19T18:59:46.391Z"
   },
   {
    "duration": 102,
    "start_time": "2022-02-19T18:59:46.397Z"
   },
   {
    "duration": 16,
    "start_time": "2022-02-19T18:59:46.501Z"
   },
   {
    "duration": 7,
    "start_time": "2022-02-19T18:59:46.519Z"
   },
   {
    "duration": 9,
    "start_time": "2022-02-19T18:59:46.527Z"
   },
   {
    "duration": 5,
    "start_time": "2022-02-19T18:59:46.538Z"
   },
   {
    "duration": 10,
    "start_time": "2022-02-19T18:59:46.546Z"
   },
   {
    "duration": 14,
    "start_time": "2022-02-19T18:59:46.558Z"
   },
   {
    "duration": 3,
    "start_time": "2022-02-19T18:59:46.574Z"
   },
   {
    "duration": 13,
    "start_time": "2022-02-19T18:59:46.579Z"
   },
   {
    "duration": 45,
    "start_time": "2022-02-19T18:59:46.594Z"
   },
   {
    "duration": 17,
    "start_time": "2022-02-19T18:59:46.641Z"
   },
   {
    "duration": 23,
    "start_time": "2022-02-19T18:59:46.659Z"
   },
   {
    "duration": 19,
    "start_time": "2022-02-19T18:59:46.684Z"
   },
   {
    "duration": 28,
    "start_time": "2022-02-19T18:59:46.705Z"
   },
   {
    "duration": 17,
    "start_time": "2022-02-19T18:59:46.734Z"
   },
   {
    "duration": 17,
    "start_time": "2022-02-19T18:59:46.753Z"
   },
   {
    "duration": 9,
    "start_time": "2022-02-19T18:59:46.772Z"
   },
   {
    "duration": 51,
    "start_time": "2022-02-19T18:59:46.782Z"
   },
   {
    "duration": 5,
    "start_time": "2022-02-19T18:59:46.835Z"
   },
   {
    "duration": 8,
    "start_time": "2022-02-19T18:59:46.841Z"
   },
   {
    "duration": 13,
    "start_time": "2022-02-19T18:59:46.853Z"
   },
   {
    "duration": 12,
    "start_time": "2022-02-19T18:59:46.868Z"
   },
   {
    "duration": 50,
    "start_time": "2022-02-19T18:59:46.882Z"
   },
   {
    "duration": 53,
    "start_time": "2022-02-19T18:59:46.934Z"
   },
   {
    "duration": 4,
    "start_time": "2022-02-19T18:59:46.989Z"
   },
   {
    "duration": 7,
    "start_time": "2022-02-19T18:59:46.995Z"
   },
   {
    "duration": 32,
    "start_time": "2022-02-19T18:59:47.003Z"
   },
   {
    "duration": 6,
    "start_time": "2022-02-19T18:59:47.037Z"
   },
   {
    "duration": 5,
    "start_time": "2022-02-19T18:59:47.045Z"
   },
   {
    "duration": 25,
    "start_time": "2022-02-19T18:59:47.051Z"
   },
   {
    "duration": 12,
    "start_time": "2022-02-19T18:59:47.077Z"
   },
   {
    "duration": 49,
    "start_time": "2022-02-19T18:59:47.091Z"
   },
   {
    "duration": 6,
    "start_time": "2022-02-19T18:59:47.142Z"
   },
   {
    "duration": 24,
    "start_time": "2022-02-19T18:59:47.150Z"
   },
   {
    "duration": 16,
    "start_time": "2022-02-19T18:59:47.176Z"
   },
   {
    "duration": 4,
    "start_time": "2022-02-19T18:59:47.194Z"
   },
   {
    "duration": 33,
    "start_time": "2022-02-19T18:59:47.200Z"
   },
   {
    "duration": 8,
    "start_time": "2022-02-19T18:59:47.234Z"
   },
   {
    "duration": 19,
    "start_time": "2022-02-19T18:59:47.244Z"
   },
   {
    "duration": 22,
    "start_time": "2022-02-19T18:59:47.264Z"
   },
   {
    "duration": 4,
    "start_time": "2022-02-19T18:59:47.288Z"
   },
   {
    "duration": 10,
    "start_time": "2022-02-19T18:59:47.294Z"
   },
   {
    "duration": 27,
    "start_time": "2022-02-19T18:59:47.306Z"
   },
   {
    "duration": 9,
    "start_time": "2022-02-19T18:59:47.335Z"
   },
   {
    "duration": 13,
    "start_time": "2022-02-19T18:59:47.346Z"
   },
   {
    "duration": 9,
    "start_time": "2022-02-19T18:59:47.360Z"
   },
   {
    "duration": 9,
    "start_time": "2022-02-19T18:59:47.370Z"
   },
   {
    "duration": 10,
    "start_time": "2022-02-19T18:59:47.380Z"
   },
   {
    "duration": 19,
    "start_time": "2022-02-19T18:59:47.391Z"
   },
   {
    "duration": 44,
    "start_time": "2022-02-19T18:59:47.411Z"
   },
   {
    "duration": 17,
    "start_time": "2022-02-19T18:59:47.457Z"
   },
   {
    "duration": 8,
    "start_time": "2022-02-19T18:59:47.476Z"
   },
   {
    "duration": 6,
    "start_time": "2022-02-19T18:59:47.485Z"
   },
   {
    "duration": 47,
    "start_time": "2022-02-19T18:59:47.492Z"
   },
   {
    "duration": 4,
    "start_time": "2022-02-19T18:59:47.540Z"
   },
   {
    "duration": 17,
    "start_time": "2022-02-19T18:59:47.546Z"
   },
   {
    "duration": 10,
    "start_time": "2022-02-19T18:59:47.564Z"
   },
   {
    "duration": 21,
    "start_time": "2022-02-19T18:59:47.576Z"
   },
   {
    "duration": 33,
    "start_time": "2022-02-19T18:59:47.599Z"
   },
   {
    "duration": 9,
    "start_time": "2022-02-19T18:59:47.633Z"
   },
   {
    "duration": 4,
    "start_time": "2022-02-19T18:59:47.644Z"
   },
   {
    "duration": 13,
    "start_time": "2022-02-19T18:59:47.649Z"
   },
   {
    "duration": 11,
    "start_time": "2022-02-19T18:59:47.663Z"
   },
   {
    "duration": 20,
    "start_time": "2022-02-19T18:59:47.675Z"
   },
   {
    "duration": 38,
    "start_time": "2022-02-19T18:59:47.696Z"
   },
   {
    "duration": 11,
    "start_time": "2022-02-19T18:59:47.739Z"
   },
   {
    "duration": 14,
    "start_time": "2022-02-19T18:59:47.752Z"
   },
   {
    "duration": 5,
    "start_time": "2022-02-19T18:59:47.767Z"
   },
   {
    "duration": 217,
    "start_time": "2022-02-19T18:59:47.773Z"
   },
   {
    "duration": 18,
    "start_time": "2022-02-19T18:59:47.992Z"
   },
   {
    "duration": 22,
    "start_time": "2022-02-19T18:59:48.011Z"
   },
   {
    "duration": 360,
    "start_time": "2022-02-19T18:59:48.034Z"
   },
   {
    "duration": 7,
    "start_time": "2022-02-19T18:59:48.395Z"
   },
   {
    "duration": 40,
    "start_time": "2022-02-19T18:59:48.403Z"
   },
   {
    "duration": 249,
    "start_time": "2022-02-19T18:59:48.445Z"
   },
   {
    "duration": 261,
    "start_time": "2022-02-19T18:59:48.696Z"
   },
   {
    "duration": 238,
    "start_time": "2022-02-19T18:59:48.959Z"
   },
   {
    "duration": 499,
    "start_time": "2022-02-20T07:26:16.902Z"
   },
   {
    "duration": 1025,
    "start_time": "2022-02-20T07:26:24.870Z"
   },
   {
    "duration": 4,
    "start_time": "2022-02-20T07:26:25.898Z"
   },
   {
    "duration": 544,
    "start_time": "2022-02-20T07:26:25.911Z"
   },
   {
    "duration": 27,
    "start_time": "2022-02-20T07:26:26.458Z"
   },
   {
    "duration": 11,
    "start_time": "2022-02-20T07:26:26.487Z"
   },
   {
    "duration": 17,
    "start_time": "2022-02-20T07:26:26.500Z"
   },
   {
    "duration": 8,
    "start_time": "2022-02-20T07:26:26.519Z"
   },
   {
    "duration": 11,
    "start_time": "2022-02-20T07:26:26.531Z"
   },
   {
    "duration": 28,
    "start_time": "2022-02-20T07:26:26.545Z"
   },
   {
    "duration": 5,
    "start_time": "2022-02-20T07:26:26.575Z"
   },
   {
    "duration": 5,
    "start_time": "2022-02-20T07:26:26.612Z"
   },
   {
    "duration": 24,
    "start_time": "2022-02-20T07:26:26.619Z"
   },
   {
    "duration": 30,
    "start_time": "2022-02-20T07:26:26.645Z"
   },
   {
    "duration": 50,
    "start_time": "2022-02-20T07:26:26.677Z"
   },
   {
    "duration": 36,
    "start_time": "2022-02-20T07:26:26.729Z"
   },
   {
    "duration": 13,
    "start_time": "2022-02-20T07:26:26.769Z"
   },
   {
    "duration": 32,
    "start_time": "2022-02-20T07:26:26.812Z"
   },
   {
    "duration": 65,
    "start_time": "2022-02-20T07:26:26.847Z"
   },
   {
    "duration": 17,
    "start_time": "2022-02-20T07:26:26.914Z"
   },
   {
    "duration": 35,
    "start_time": "2022-02-20T07:26:26.934Z"
   },
   {
    "duration": 43,
    "start_time": "2022-02-20T07:26:26.971Z"
   },
   {
    "duration": 11,
    "start_time": "2022-02-20T07:26:27.017Z"
   },
   {
    "duration": 23,
    "start_time": "2022-02-20T07:26:27.035Z"
   },
   {
    "duration": 64,
    "start_time": "2022-02-20T07:26:27.062Z"
   },
   {
    "duration": 26,
    "start_time": "2022-02-20T07:26:27.128Z"
   },
   {
    "duration": 112,
    "start_time": "2022-02-20T07:26:27.156Z"
   },
   {
    "duration": 7,
    "start_time": "2022-02-20T07:26:27.271Z"
   },
   {
    "duration": 7,
    "start_time": "2022-02-20T07:26:27.281Z"
   },
   {
    "duration": 12,
    "start_time": "2022-02-20T07:26:27.312Z"
   },
   {
    "duration": 10,
    "start_time": "2022-02-20T07:26:27.327Z"
   },
   {
    "duration": 5,
    "start_time": "2022-02-20T07:26:27.340Z"
   },
   {
    "duration": 64,
    "start_time": "2022-02-20T07:26:27.348Z"
   },
   {
    "duration": 20,
    "start_time": "2022-02-20T07:26:27.415Z"
   },
   {
    "duration": 24,
    "start_time": "2022-02-20T07:26:27.437Z"
   },
   {
    "duration": 13,
    "start_time": "2022-02-20T07:26:27.464Z"
   },
   {
    "duration": 61,
    "start_time": "2022-02-20T07:26:27.480Z"
   },
   {
    "duration": 30,
    "start_time": "2022-02-20T07:26:27.543Z"
   },
   {
    "duration": 36,
    "start_time": "2022-02-20T07:26:27.575Z"
   },
   {
    "duration": 15,
    "start_time": "2022-02-20T07:26:27.613Z"
   },
   {
    "duration": 8,
    "start_time": "2022-02-20T07:26:27.630Z"
   },
   {
    "duration": 6,
    "start_time": "2022-02-20T07:26:27.640Z"
   },
   {
    "duration": 63,
    "start_time": "2022-02-20T07:26:27.649Z"
   },
   {
    "duration": 7,
    "start_time": "2022-02-20T07:26:27.714Z"
   },
   {
    "duration": 7,
    "start_time": "2022-02-20T07:26:27.723Z"
   },
   {
    "duration": 32,
    "start_time": "2022-02-20T07:26:27.732Z"
   },
   {
    "duration": 45,
    "start_time": "2022-02-20T07:26:27.766Z"
   },
   {
    "duration": 9,
    "start_time": "2022-02-20T07:26:27.813Z"
   },
   {
    "duration": 5,
    "start_time": "2022-02-20T07:26:27.824Z"
   },
   {
    "duration": 6,
    "start_time": "2022-02-20T07:26:27.832Z"
   },
   {
    "duration": 5,
    "start_time": "2022-02-20T07:26:27.841Z"
   },
   {
    "duration": 64,
    "start_time": "2022-02-20T07:26:27.848Z"
   },
   {
    "duration": 48,
    "start_time": "2022-02-20T07:26:27.915Z"
   },
   {
    "duration": 56,
    "start_time": "2022-02-20T07:26:27.966Z"
   },
   {
    "duration": 16,
    "start_time": "2022-02-20T07:26:28.025Z"
   },
   {
    "duration": 7,
    "start_time": "2022-02-20T07:26:28.043Z"
   },
   {
    "duration": 18,
    "start_time": "2022-02-20T07:26:28.052Z"
   },
   {
    "duration": 44,
    "start_time": "2022-02-20T07:26:28.073Z"
   },
   {
    "duration": 30,
    "start_time": "2022-02-20T07:26:28.120Z"
   },
   {
    "duration": 12,
    "start_time": "2022-02-20T07:26:28.153Z"
   },
   {
    "duration": 65,
    "start_time": "2022-02-20T07:26:28.168Z"
   },
   {
    "duration": 13,
    "start_time": "2022-02-20T07:26:28.237Z"
   },
   {
    "duration": 17,
    "start_time": "2022-02-20T07:26:28.253Z"
   },
   {
    "duration": 44,
    "start_time": "2022-02-20T07:26:28.273Z"
   },
   {
    "duration": 18,
    "start_time": "2022-02-20T07:26:28.320Z"
   },
   {
    "duration": 9,
    "start_time": "2022-02-20T07:26:28.341Z"
   },
   {
    "duration": 68,
    "start_time": "2022-02-20T07:26:28.352Z"
   },
   {
    "duration": 18,
    "start_time": "2022-02-20T07:26:28.424Z"
   },
   {
    "duration": 24,
    "start_time": "2022-02-20T07:26:28.453Z"
   },
   {
    "duration": 23,
    "start_time": "2022-02-20T07:26:28.509Z"
   },
   {
    "duration": 8,
    "start_time": "2022-02-20T07:26:28.534Z"
   },
   {
    "duration": 367,
    "start_time": "2022-02-20T07:26:28.544Z"
   },
   {
    "duration": 389,
    "start_time": "2022-02-20T07:26:28.913Z"
   },
   {
    "duration": 33,
    "start_time": "2022-02-20T07:26:29.304Z"
   },
   {
    "duration": 8,
    "start_time": "2022-02-20T07:26:29.340Z"
   },
   {
    "duration": 542,
    "start_time": "2022-02-20T07:26:29.350Z"
   },
   {
    "duration": 17,
    "start_time": "2022-02-20T07:26:29.895Z"
   },
   {
    "duration": 45,
    "start_time": "2022-02-20T07:26:29.915Z"
   },
   {
    "duration": 462,
    "start_time": "2022-02-20T07:26:29.963Z"
   },
   {
    "duration": 448,
    "start_time": "2022-02-20T07:26:30.428Z"
   },
   {
    "duration": 435,
    "start_time": "2022-02-20T07:26:30.879Z"
   },
   {
    "duration": 343,
    "start_time": "2022-02-20T07:27:55.014Z"
   },
   {
    "duration": 343,
    "start_time": "2022-02-20T07:28:12.301Z"
   },
   {
    "duration": 348,
    "start_time": "2022-02-20T07:28:24.338Z"
   },
   {
    "duration": 342,
    "start_time": "2022-02-20T07:28:32.593Z"
   },
   {
    "duration": 356,
    "start_time": "2022-02-20T07:32:30.486Z"
   },
   {
    "duration": 551,
    "start_time": "2022-02-20T07:34:33.510Z"
   },
   {
    "duration": 383,
    "start_time": "2022-02-20T07:34:44.141Z"
   },
   {
    "duration": 6,
    "start_time": "2022-02-20T07:35:56.910Z"
   },
   {
    "duration": 18,
    "start_time": "2022-02-20T07:37:15.306Z"
   },
   {
    "duration": 25,
    "start_time": "2022-02-20T07:37:26.037Z"
   },
   {
    "duration": 411,
    "start_time": "2022-02-20T07:40:38.541Z"
   },
   {
    "duration": 27,
    "start_time": "2022-02-20T07:41:31.098Z"
   },
   {
    "duration": 353,
    "start_time": "2022-02-20T07:42:39.174Z"
   },
   {
    "duration": 27,
    "start_time": "2022-02-20T07:44:39.365Z"
   },
   {
    "duration": 44,
    "start_time": "2022-02-20T07:46:15.045Z"
   },
   {
    "duration": 58,
    "start_time": "2022-02-20T07:46:35.501Z"
   },
   {
    "duration": 45,
    "start_time": "2022-02-20T07:46:47.977Z"
   },
   {
    "duration": 110,
    "start_time": "2022-02-20T07:46:53.629Z"
   },
   {
    "duration": 45,
    "start_time": "2022-02-20T07:47:03.789Z"
   },
   {
    "duration": 47,
    "start_time": "2022-02-20T07:47:11.457Z"
   },
   {
    "duration": 46,
    "start_time": "2022-02-20T07:47:22.709Z"
   },
   {
    "duration": 48,
    "start_time": "2022-02-20T07:47:39.185Z"
   },
   {
    "duration": 47,
    "start_time": "2022-02-20T07:47:46.117Z"
   },
   {
    "duration": 47,
    "start_time": "2022-02-20T07:47:55.701Z"
   },
   {
    "duration": 46,
    "start_time": "2022-02-20T07:48:04.941Z"
   },
   {
    "duration": 43,
    "start_time": "2022-02-20T07:48:10.713Z"
   },
   {
    "duration": 45,
    "start_time": "2022-02-20T07:48:16.933Z"
   },
   {
    "duration": 47,
    "start_time": "2022-02-20T07:48:24.133Z"
   },
   {
    "duration": 46,
    "start_time": "2022-02-20T07:48:34.985Z"
   },
   {
    "duration": 48,
    "start_time": "2022-02-20T07:48:52.288Z"
   },
   {
    "duration": 50,
    "start_time": "2022-02-20T07:49:01.293Z"
   },
   {
    "duration": 46,
    "start_time": "2022-02-20T07:49:12.137Z"
   },
   {
    "duration": 46,
    "start_time": "2022-02-20T07:49:23.461Z"
   },
   {
    "duration": 45,
    "start_time": "2022-02-20T07:49:37.152Z"
   },
   {
    "duration": 28,
    "start_time": "2022-02-20T07:50:53.169Z"
   },
   {
    "duration": 45,
    "start_time": "2022-02-20T07:50:58.549Z"
   },
   {
    "duration": 12,
    "start_time": "2022-02-20T07:55:16.137Z"
   },
   {
    "duration": 13,
    "start_time": "2022-02-20T07:56:11.458Z"
   },
   {
    "duration": 10,
    "start_time": "2022-02-20T07:57:14.205Z"
   },
   {
    "duration": 62,
    "start_time": "2022-02-20T07:57:27.549Z"
   },
   {
    "duration": 835,
    "start_time": "2022-02-20T07:58:01.889Z"
   },
   {
    "duration": 11,
    "start_time": "2022-02-20T07:58:14.285Z"
   },
   {
    "duration": 43,
    "start_time": "2022-02-20T07:58:39.117Z"
   },
   {
    "duration": 45,
    "start_time": "2022-02-20T07:58:51.992Z"
   },
   {
    "duration": 44,
    "start_time": "2022-02-20T08:00:33.745Z"
   },
   {
    "duration": 16,
    "start_time": "2022-02-20T08:00:57.357Z"
   },
   {
    "duration": 809,
    "start_time": "2022-02-20T08:06:12.383Z"
   },
   {
    "duration": 874,
    "start_time": "2022-02-20T08:06:35.154Z"
   },
   {
    "duration": 1101,
    "start_time": "2022-02-20T08:06:44.858Z"
   },
   {
    "duration": 1221,
    "start_time": "2022-02-20T08:07:55.724Z"
   },
   {
    "duration": 4,
    "start_time": "2022-02-20T08:07:56.947Z"
   },
   {
    "duration": 130,
    "start_time": "2022-02-20T08:07:56.954Z"
   },
   {
    "duration": 26,
    "start_time": "2022-02-20T08:07:57.087Z"
   },
   {
    "duration": 11,
    "start_time": "2022-02-20T08:07:57.116Z"
   },
   {
    "duration": 19,
    "start_time": "2022-02-20T08:07:57.130Z"
   },
   {
    "duration": 8,
    "start_time": "2022-02-20T08:07:57.152Z"
   },
   {
    "duration": 15,
    "start_time": "2022-02-20T08:07:57.163Z"
   },
   {
    "duration": 24,
    "start_time": "2022-02-20T08:07:57.212Z"
   },
   {
    "duration": 4,
    "start_time": "2022-02-20T08:07:57.238Z"
   },
   {
    "duration": 8,
    "start_time": "2022-02-20T08:07:57.244Z"
   },
   {
    "duration": 25,
    "start_time": "2022-02-20T08:07:57.254Z"
   },
   {
    "duration": 57,
    "start_time": "2022-02-20T08:07:57.281Z"
   },
   {
    "duration": 19,
    "start_time": "2022-02-20T08:07:57.341Z"
   },
   {
    "duration": 71,
    "start_time": "2022-02-20T08:07:57.363Z"
   },
   {
    "duration": 13,
    "start_time": "2022-02-20T08:07:57.437Z"
   },
   {
    "duration": 59,
    "start_time": "2022-02-20T08:07:57.453Z"
   },
   {
    "duration": 32,
    "start_time": "2022-02-20T08:07:57.515Z"
   },
   {
    "duration": 15,
    "start_time": "2022-02-20T08:07:57.550Z"
   },
   {
    "duration": 63,
    "start_time": "2022-02-20T08:07:57.568Z"
   },
   {
    "duration": 7,
    "start_time": "2022-02-20T08:07:57.634Z"
   },
   {
    "duration": 13,
    "start_time": "2022-02-20T08:07:57.644Z"
   },
   {
    "duration": 68,
    "start_time": "2022-02-20T08:07:57.662Z"
   },
   {
    "duration": 23,
    "start_time": "2022-02-20T08:07:57.733Z"
   },
   {
    "duration": 3,
    "start_time": "2022-02-20T08:07:57.759Z"
   },
   {
    "duration": 50,
    "start_time": "2022-02-20T08:08:06.728Z"
   },
   {
    "duration": 36,
    "start_time": "2022-02-20T08:08:20.036Z"
   },
   {
    "duration": 35,
    "start_time": "2022-02-20T08:08:32.872Z"
   },
   {
    "duration": 37,
    "start_time": "2022-02-20T08:08:37.376Z"
   },
   {
    "duration": 36,
    "start_time": "2022-02-20T08:08:58.129Z"
   },
   {
    "duration": 36,
    "start_time": "2022-02-20T08:09:02.848Z"
   },
   {
    "duration": 10,
    "start_time": "2022-02-20T08:09:29.945Z"
   },
   {
    "duration": 35,
    "start_time": "2022-02-20T08:09:32.792Z"
   },
   {
    "duration": 919,
    "start_time": "2022-02-20T08:10:16.487Z"
   },
   {
    "duration": 10,
    "start_time": "2022-02-20T08:10:35.704Z"
   },
   {
    "duration": 37,
    "start_time": "2022-02-20T08:10:39.548Z"
   },
   {
    "duration": 18,
    "start_time": "2022-02-20T08:11:38.095Z"
   },
   {
    "duration": 36,
    "start_time": "2022-02-20T08:11:41.860Z"
   },
   {
    "duration": 21,
    "start_time": "2022-02-20T08:11:59.128Z"
   },
   {
    "duration": 1015,
    "start_time": "2022-02-20T08:12:30.977Z"
   },
   {
    "duration": 4,
    "start_time": "2022-02-20T08:12:31.995Z"
   },
   {
    "duration": 131,
    "start_time": "2022-02-20T08:12:32.001Z"
   },
   {
    "duration": 31,
    "start_time": "2022-02-20T08:12:32.136Z"
   },
   {
    "duration": 11,
    "start_time": "2022-02-20T08:12:32.170Z"
   },
   {
    "duration": 29,
    "start_time": "2022-02-20T08:12:32.183Z"
   },
   {
    "duration": 10,
    "start_time": "2022-02-20T08:12:32.218Z"
   },
   {
    "duration": 15,
    "start_time": "2022-02-20T08:12:32.232Z"
   },
   {
    "duration": 63,
    "start_time": "2022-02-20T08:12:32.250Z"
   },
   {
    "duration": 5,
    "start_time": "2022-02-20T08:12:32.316Z"
   },
   {
    "duration": 10,
    "start_time": "2022-02-20T08:12:32.323Z"
   },
   {
    "duration": 17,
    "start_time": "2022-02-20T08:12:32.336Z"
   },
   {
    "duration": 57,
    "start_time": "2022-02-20T08:12:32.356Z"
   },
   {
    "duration": 20,
    "start_time": "2022-02-20T08:12:32.416Z"
   },
   {
    "duration": 35,
    "start_time": "2022-02-20T08:12:32.439Z"
   },
   {
    "duration": 12,
    "start_time": "2022-02-20T08:12:32.510Z"
   },
   {
    "duration": 26,
    "start_time": "2022-02-20T08:12:32.524Z"
   },
   {
    "duration": 58,
    "start_time": "2022-02-20T08:12:32.552Z"
   },
   {
    "duration": 13,
    "start_time": "2022-02-20T08:12:32.613Z"
   },
   {
    "duration": 33,
    "start_time": "2022-02-20T08:12:32.628Z"
   },
   {
    "duration": 6,
    "start_time": "2022-02-20T08:12:32.663Z"
   },
   {
    "duration": 44,
    "start_time": "2022-02-20T08:12:32.672Z"
   },
   {
    "duration": 31,
    "start_time": "2022-02-20T08:12:32.718Z"
   },
   {
    "duration": 28,
    "start_time": "2022-02-20T08:12:32.752Z"
   },
   {
    "duration": 4,
    "start_time": "2022-02-20T08:12:32.816Z"
   },
   {
    "duration": 17,
    "start_time": "2022-02-20T08:12:32.824Z"
   },
   {
    "duration": 4,
    "start_time": "2022-02-20T08:12:32.844Z"
   },
   {
    "duration": 5,
    "start_time": "2022-02-20T08:12:32.850Z"
   },
   {
    "duration": 66,
    "start_time": "2022-02-20T08:12:32.857Z"
   },
   {
    "duration": 99,
    "start_time": "2022-02-20T08:12:32.925Z"
   },
   {
    "duration": 6,
    "start_time": "2022-02-20T08:12:33.027Z"
   },
   {
    "duration": 12,
    "start_time": "2022-02-20T08:12:33.036Z"
   },
   {
    "duration": 16,
    "start_time": "2022-02-20T08:12:33.051Z"
   },
   {
    "duration": 42,
    "start_time": "2022-02-20T08:12:33.070Z"
   },
   {
    "duration": 9,
    "start_time": "2022-02-20T08:12:33.115Z"
   },
   {
    "duration": 51,
    "start_time": "2022-02-20T08:12:33.127Z"
   },
   {
    "duration": 49,
    "start_time": "2022-02-20T08:12:33.181Z"
   },
   {
    "duration": 31,
    "start_time": "2022-02-20T08:12:33.233Z"
   },
   {
    "duration": 16,
    "start_time": "2022-02-20T08:12:33.267Z"
   },
   {
    "duration": 36,
    "start_time": "2022-02-20T08:12:33.311Z"
   },
   {
    "duration": 24,
    "start_time": "2022-02-20T08:12:33.349Z"
   },
   {
    "duration": 35,
    "start_time": "2022-02-20T08:12:33.376Z"
   },
   {
    "duration": 20,
    "start_time": "2022-02-20T08:12:33.413Z"
   },
   {
    "duration": 7,
    "start_time": "2022-02-20T08:12:33.435Z"
   },
   {
    "duration": 6,
    "start_time": "2022-02-20T08:12:33.445Z"
   },
   {
    "duration": 64,
    "start_time": "2022-02-20T08:12:33.453Z"
   },
   {
    "duration": 7,
    "start_time": "2022-02-20T08:12:33.520Z"
   },
   {
    "duration": 8,
    "start_time": "2022-02-20T08:12:33.529Z"
   },
   {
    "duration": 31,
    "start_time": "2022-02-20T08:12:33.539Z"
   },
   {
    "duration": 53,
    "start_time": "2022-02-20T08:12:33.573Z"
   },
   {
    "duration": 12,
    "start_time": "2022-02-20T08:12:33.629Z"
   },
   {
    "duration": 8,
    "start_time": "2022-02-20T08:12:33.644Z"
   },
   {
    "duration": 7,
    "start_time": "2022-02-20T08:12:33.655Z"
   },
   {
    "duration": 6,
    "start_time": "2022-02-20T08:12:33.664Z"
   },
   {
    "duration": 58,
    "start_time": "2022-02-20T08:12:33.672Z"
   },
   {
    "duration": 44,
    "start_time": "2022-02-20T08:12:33.732Z"
   },
   {
    "duration": 57,
    "start_time": "2022-02-20T08:12:33.778Z"
   },
   {
    "duration": 12,
    "start_time": "2022-02-20T08:12:33.837Z"
   },
   {
    "duration": 6,
    "start_time": "2022-02-20T08:12:33.851Z"
   },
   {
    "duration": 51,
    "start_time": "2022-02-20T08:12:33.860Z"
   },
   {
    "duration": 10,
    "start_time": "2022-02-20T08:12:33.913Z"
   },
   {
    "duration": 32,
    "start_time": "2022-02-20T08:12:33.926Z"
   },
   {
    "duration": 12,
    "start_time": "2022-02-20T08:12:33.960Z"
   },
   {
    "duration": 63,
    "start_time": "2022-02-20T08:12:33.975Z"
   },
   {
    "duration": 12,
    "start_time": "2022-02-20T08:12:34.041Z"
   },
   {
    "duration": 13,
    "start_time": "2022-02-20T08:12:34.055Z"
   },
   {
    "duration": 5,
    "start_time": "2022-02-20T08:12:34.070Z"
   },
   {
    "duration": 17,
    "start_time": "2022-02-20T08:12:34.111Z"
   },
   {
    "duration": 11,
    "start_time": "2022-02-20T08:12:34.131Z"
   },
   {
    "duration": 33,
    "start_time": "2022-02-20T08:12:34.144Z"
   },
   {
    "duration": 41,
    "start_time": "2022-02-20T08:12:34.180Z"
   },
   {
    "duration": 19,
    "start_time": "2022-02-20T08:12:34.224Z"
   },
   {
    "duration": 17,
    "start_time": "2022-02-20T08:12:34.245Z"
   },
   {
    "duration": 11,
    "start_time": "2022-02-20T08:12:34.265Z"
   },
   {
    "duration": 359,
    "start_time": "2022-02-20T08:12:34.312Z"
   },
   {
    "duration": 39,
    "start_time": "2022-02-20T08:12:34.673Z"
   },
   {
    "duration": 29,
    "start_time": "2022-02-20T08:12:34.714Z"
   },
   {
    "duration": 8,
    "start_time": "2022-02-20T08:12:34.746Z"
   },
   {
    "duration": 865,
    "start_time": "2022-02-20T08:12:34.762Z"
   },
   {
    "duration": 10,
    "start_time": "2022-02-20T08:12:35.629Z"
   },
   {
    "duration": 78,
    "start_time": "2022-02-20T08:12:35.642Z"
   },
   {
    "duration": 467,
    "start_time": "2022-02-20T08:12:35.722Z"
   },
   {
    "duration": 453,
    "start_time": "2022-02-20T08:12:36.191Z"
   },
   {
    "duration": 419,
    "start_time": "2022-02-20T08:12:36.648Z"
   },
   {
    "duration": 18,
    "start_time": "2022-02-20T08:14:38.818Z"
   },
   {
    "duration": 332,
    "start_time": "2022-02-20T08:16:28.682Z"
   },
   {
    "duration": 9,
    "start_time": "2022-02-20T08:44:36.042Z"
   },
   {
    "duration": 340,
    "start_time": "2022-02-20T08:50:08.624Z"
   },
   {
    "duration": 334,
    "start_time": "2022-02-20T08:50:42.372Z"
   },
   {
    "duration": 11,
    "start_time": "2022-02-20T08:51:11.938Z"
   },
   {
    "duration": 38,
    "start_time": "2022-02-20T08:59:01.582Z"
   },
   {
    "duration": 1100,
    "start_time": "2022-02-20T09:15:14.804Z"
   },
   {
    "duration": 4,
    "start_time": "2022-02-20T09:15:15.907Z"
   },
   {
    "duration": 1047,
    "start_time": "2022-02-20T16:34:26.095Z"
   },
   {
    "duration": 4,
    "start_time": "2022-02-20T16:34:27.144Z"
   },
   {
    "duration": 182,
    "start_time": "2022-02-20T16:34:27.151Z"
   },
   {
    "duration": 25,
    "start_time": "2022-02-20T16:34:27.336Z"
   },
   {
    "duration": 10,
    "start_time": "2022-02-20T16:34:27.363Z"
   },
   {
    "duration": 14,
    "start_time": "2022-02-20T16:34:27.375Z"
   },
   {
    "duration": 23,
    "start_time": "2022-02-20T16:34:27.391Z"
   },
   {
    "duration": 10,
    "start_time": "2022-02-20T16:34:27.418Z"
   },
   {
    "duration": 26,
    "start_time": "2022-02-20T16:34:27.431Z"
   },
   {
    "duration": 3,
    "start_time": "2022-02-20T16:34:27.460Z"
   },
   {
    "duration": 6,
    "start_time": "2022-02-20T16:34:27.465Z"
   },
   {
    "duration": 49,
    "start_time": "2022-02-20T16:34:27.473Z"
   },
   {
    "duration": 28,
    "start_time": "2022-02-20T16:34:27.524Z"
   },
   {
    "duration": 16,
    "start_time": "2022-02-20T16:34:27.555Z"
   },
   {
    "duration": 69,
    "start_time": "2022-02-20T16:34:27.573Z"
   },
   {
    "duration": 13,
    "start_time": "2022-02-20T16:34:27.644Z"
   },
   {
    "duration": 55,
    "start_time": "2022-02-20T16:34:27.660Z"
   },
   {
    "duration": 31,
    "start_time": "2022-02-20T16:34:27.717Z"
   },
   {
    "duration": 14,
    "start_time": "2022-02-20T16:34:27.750Z"
   },
   {
    "duration": 66,
    "start_time": "2022-02-20T16:34:27.766Z"
   },
   {
    "duration": 5,
    "start_time": "2022-02-20T16:34:27.834Z"
   },
   {
    "duration": 9,
    "start_time": "2022-02-20T16:34:27.842Z"
   },
   {
    "duration": 24,
    "start_time": "2022-02-20T16:34:27.857Z"
   },
   {
    "duration": 25,
    "start_time": "2022-02-20T16:34:27.914Z"
   },
   {
    "duration": 15,
    "start_time": "2022-02-20T16:34:27.941Z"
   },
   {
    "duration": 60,
    "start_time": "2022-02-20T16:34:27.958Z"
   },
   {
    "duration": 99,
    "start_time": "2022-02-20T16:34:28.020Z"
   },
   {
    "duration": 7,
    "start_time": "2022-02-20T16:34:28.121Z"
   },
   {
    "duration": 13,
    "start_time": "2022-02-20T16:34:28.130Z"
   },
   {
    "duration": 17,
    "start_time": "2022-02-20T16:34:28.146Z"
   },
   {
    "duration": 9,
    "start_time": "2022-02-20T16:34:28.165Z"
   },
   {
    "duration": 36,
    "start_time": "2022-02-20T16:34:28.176Z"
   },
   {
    "duration": 36,
    "start_time": "2022-02-20T16:34:28.215Z"
   },
   {
    "duration": 16,
    "start_time": "2022-02-20T16:34:28.254Z"
   },
   {
    "duration": 53,
    "start_time": "2022-02-20T16:34:28.272Z"
   },
   {
    "duration": 15,
    "start_time": "2022-02-20T16:34:28.327Z"
   },
   {
    "duration": 66,
    "start_time": "2022-02-20T16:34:28.344Z"
   },
   {
    "duration": 24,
    "start_time": "2022-02-20T16:34:28.413Z"
   },
   {
    "duration": 6,
    "start_time": "2022-02-20T16:34:28.440Z"
   },
   {
    "duration": 16,
    "start_time": "2022-02-20T16:34:28.448Z"
   },
   {
    "duration": 49,
    "start_time": "2022-02-20T16:34:28.467Z"
   },
   {
    "duration": 6,
    "start_time": "2022-02-20T16:34:28.518Z"
   },
   {
    "duration": 32,
    "start_time": "2022-02-20T16:34:28.526Z"
   },
   {
    "duration": 8,
    "start_time": "2022-02-20T16:34:28.561Z"
   },
   {
    "duration": 41,
    "start_time": "2022-02-20T16:34:28.571Z"
   },
   {
    "duration": 32,
    "start_time": "2022-02-20T16:34:28.614Z"
   },
   {
    "duration": 17,
    "start_time": "2022-02-20T16:34:28.649Z"
   },
   {
    "duration": 44,
    "start_time": "2022-02-20T16:34:28.668Z"
   },
   {
    "duration": 8,
    "start_time": "2022-02-20T16:34:28.714Z"
   },
   {
    "duration": 11,
    "start_time": "2022-02-20T16:34:28.724Z"
   },
   {
    "duration": 5,
    "start_time": "2022-02-20T16:34:28.738Z"
   },
   {
    "duration": 22,
    "start_time": "2022-02-20T16:34:28.745Z"
   },
   {
    "duration": 76,
    "start_time": "2022-02-20T16:34:28.770Z"
   },
   {
    "duration": 29,
    "start_time": "2022-02-20T16:34:28.849Z"
   },
   {
    "duration": 35,
    "start_time": "2022-02-20T16:34:28.881Z"
   },
   {
    "duration": 7,
    "start_time": "2022-02-20T16:34:28.919Z"
   },
   {
    "duration": 20,
    "start_time": "2022-02-20T16:34:28.928Z"
   },
   {
    "duration": 6,
    "start_time": "2022-02-20T16:34:28.950Z"
   },
   {
    "duration": 66,
    "start_time": "2022-02-20T16:34:28.959Z"
   },
   {
    "duration": 11,
    "start_time": "2022-02-20T16:34:29.028Z"
   },
   {
    "duration": 29,
    "start_time": "2022-02-20T16:34:29.041Z"
   },
   {
    "duration": 42,
    "start_time": "2022-02-20T16:34:29.072Z"
   },
   {
    "duration": 13,
    "start_time": "2022-02-20T16:34:29.116Z"
   },
   {
    "duration": 9,
    "start_time": "2022-02-20T16:34:29.131Z"
   },
   {
    "duration": 15,
    "start_time": "2022-02-20T16:34:29.143Z"
   },
   {
    "duration": 8,
    "start_time": "2022-02-20T16:34:29.160Z"
   },
   {
    "duration": 58,
    "start_time": "2022-02-20T16:34:29.170Z"
   },
   {
    "duration": 13,
    "start_time": "2022-02-20T16:34:29.236Z"
   },
   {
    "duration": 17,
    "start_time": "2022-02-20T16:34:29.252Z"
   },
   {
    "duration": 54,
    "start_time": "2022-02-20T16:34:29.271Z"
   },
   {
    "duration": 7,
    "start_time": "2022-02-20T16:34:29.327Z"
   },
   {
    "duration": 366,
    "start_time": "2022-02-20T16:34:29.335Z"
   },
   {
    "duration": 29,
    "start_time": "2022-02-20T16:34:29.711Z"
   },
   {
    "duration": 9,
    "start_time": "2022-02-20T16:34:29.742Z"
   },
   {
    "duration": 606,
    "start_time": "2022-02-20T16:34:29.754Z"
   },
   {
    "duration": 9,
    "start_time": "2022-02-20T16:34:30.362Z"
   },
   {
    "duration": 65,
    "start_time": "2022-02-20T16:34:30.373Z"
   },
   {
    "duration": 470,
    "start_time": "2022-02-20T16:34:30.440Z"
   },
   {
    "duration": 464,
    "start_time": "2022-02-20T16:34:30.913Z"
   },
   {
    "duration": 460,
    "start_time": "2022-02-20T16:34:31.380Z"
   }
  ],
  "colab": {
   "name": "DA+. Сборный проект 1. Шаблон (1).ipynb",
   "provenance": []
  },
  "kernelspec": {
   "display_name": "Python 3 (ipykernel)",
   "language": "python",
   "name": "python3"
  },
  "language_info": {
   "codemirror_mode": {
    "name": "ipython",
    "version": 3
   },
   "file_extension": ".py",
   "mimetype": "text/x-python",
   "name": "python",
   "nbconvert_exporter": "python",
   "pygments_lexer": "ipython3",
   "version": "3.9.12"
  },
  "toc": {
   "base_numbering": 1,
   "nav_menu": {},
   "number_sections": true,
   "sideBar": true,
   "skip_h1_title": true,
   "title_cell": "Table of Contents",
   "title_sidebar": "Contents",
   "toc_cell": false,
   "toc_position": {
    "height": "calc(100% - 180px)",
    "left": "10px",
    "top": "150px",
    "width": "375px"
   },
   "toc_section_display": true,
   "toc_window_display": true
  }
 },
 "nbformat": 4,
 "nbformat_minor": 1
}
