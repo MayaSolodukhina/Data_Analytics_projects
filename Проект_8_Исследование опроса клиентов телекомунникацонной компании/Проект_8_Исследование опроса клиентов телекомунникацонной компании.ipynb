{
 "cells": [
  {
   "cell_type": "markdown",
   "id": "20582dc4",
   "metadata": {},
   "source": [
    "# Выгрузка данных из БД SQLite и подготовка дашборда по проекту \"Анализ текущего уровня потребительской лояльности\""
   ]
  },
  {
   "cell_type": "markdown",
   "id": "6bf69096",
   "metadata": {},
   "source": [
    "# Содержание\n",
    "1. [Выгрузка данных.](#intro) \n",
    "2. [Предобработка данных.](#intro1) \n",
    "3. [Выгрузка данных с обновлённым запросом с последующим сохранением в файл.](#intro2)\n",
    "4. [Ссылка на дашборд на сайте Tableau Public.](#intro3)\n",
    "5. [Ссылка на pdf-файл с презентацией.](#intro4)"
   ]
  },
  {
   "cell_type": "markdown",
   "id": "e623d837",
   "metadata": {},
   "source": [
    "# 1. Выгрузка данных. <a id='intro'></a>"
   ]
  },
  {
   "cell_type": "code",
   "execution_count": 1,
   "id": "f46767b6",
   "metadata": {},
   "outputs": [],
   "source": [
    "# импортирование библиотеки pandas\n",
    "import pandas as pd\n",
    "\n",
    "# импортирование библиотеки numpy\n",
    "import numpy as np\n",
    "\n",
    "# импортирование библиотеки sqlalchemy\n",
    "from sqlalchemy import create_engine"
   ]
  },
  {
   "cell_type": "code",
   "execution_count": 2,
   "id": "1e199692",
   "metadata": {},
   "outputs": [],
   "source": [
    "# указание пути к файлу \n",
    "# с сохранением в переменную path_to_db и\n",
    "# подключение к БД SQLite\n",
    "\n",
    "path_to_db = 'C:/Users/solod/Downloads/telecomm_csi.db'\n",
    "engine = create_engine(f'sqlite:///{path_to_db}', echo = False)"
   ]
  },
  {
   "cell_type": "code",
   "execution_count": 3,
   "id": "530bc0ec",
   "metadata": {},
   "outputs": [],
   "source": [
    "# создание запроса для\n",
    "# выгрузки данных из таблиц \n",
    "# в БД SQLite\n",
    "\n",
    "query = \"\"\"\n",
    "WITH\n",
    "i_1 AS (SELECT user_id,\n",
    "               lt_day,\n",
    "               CASE  \n",
    "               WHEN lt_day <= 365 THEN 'True'\n",
    "               WHEN lt_day > 365 THEN 'False'\n",
    "               END AS is_new,\n",
    "               age,\n",
    "               CASE \n",
    "               WHEN gender_segment = 1 THEN 'женщина'\n",
    "               WHEN gender_segment = 0 THEN 'мужчина'\n",
    "               END AS gender_segment\n",
    "        FROM user),\n",
    "i_2 AS (SELECT user_id,\n",
    "               nps_score,\n",
    "               CASE\n",
    "               WHEN nps_score BETWEEN 0 AND 6 THEN 'критики'\n",
    "               WHEN nps_score BETWEEN 7 AND 8 THEN 'нейтралы'\n",
    "               WHEN nps_score BETWEEN 9 AND 10 THEN 'сторонники'\n",
    "               END AS nps_group\n",
    "        FROM user)\n",
    "        \n",
    "SELECT i_1.user_id,\n",
    "       i_1.lt_day,\n",
    "       i_1.is_new,\n",
    "       i_1.age,\n",
    "       i_1.gender_segment,\n",
    "       u.os_name,\n",
    "       u.cpe_type_name,\n",
    "       l.country,\n",
    "       l.city,\n",
    "       ag.title AS age_segment,\n",
    "       ts.title AS traffic_segment,\n",
    "       ls.title AS lifetime_segment,\n",
    "       i_2.nps_score,\n",
    "       i_2.nps_group\n",
    "FROM i_1\n",
    "INNER JOIN i_2 ON i_1.user_id = i_2.user_id\n",
    "INNER JOIN user AS u ON i_2.user_id = u.user_id\n",
    "INNER JOIN location AS l ON u.location_id = l.location_id\n",
    "INNER JOIN age_segment AS ag ON u.age_gr_id = ag.age_gr_id\n",
    "INNER JOIN traffic_segment AS ts ON u.tr_gr_id = ts.tr_gr_id\n",
    "INNER JOIN lifetime_segment AS ls ON u.lt_gr_id = ls.lt_gr_id;\n",
    "\"\"\""
   ]
  },
  {
   "cell_type": "code",
   "execution_count": 4,
   "id": "045e6548",
   "metadata": {},
   "outputs": [
    {
     "data": {
      "text/html": [
       "<div>\n",
       "<style scoped>\n",
       "    .dataframe tbody tr th:only-of-type {\n",
       "        vertical-align: middle;\n",
       "    }\n",
       "\n",
       "    .dataframe tbody tr th {\n",
       "        vertical-align: top;\n",
       "    }\n",
       "\n",
       "    .dataframe thead th {\n",
       "        text-align: right;\n",
       "    }\n",
       "</style>\n",
       "<table border=\"1\" class=\"dataframe\">\n",
       "  <thead>\n",
       "    <tr style=\"text-align: right;\">\n",
       "      <th></th>\n",
       "      <th>user_id</th>\n",
       "      <th>lt_day</th>\n",
       "      <th>is_new</th>\n",
       "      <th>age</th>\n",
       "      <th>gender_segment</th>\n",
       "      <th>os_name</th>\n",
       "      <th>cpe_type_name</th>\n",
       "      <th>country</th>\n",
       "      <th>city</th>\n",
       "      <th>age_segment</th>\n",
       "      <th>traffic_segment</th>\n",
       "      <th>lifetime_segment</th>\n",
       "      <th>nps_score</th>\n",
       "      <th>nps_group</th>\n",
       "    </tr>\n",
       "  </thead>\n",
       "  <tbody>\n",
       "    <tr>\n",
       "      <th>0</th>\n",
       "      <td>A001A2</td>\n",
       "      <td>2320</td>\n",
       "      <td>False</td>\n",
       "      <td>45.0</td>\n",
       "      <td>женщина</td>\n",
       "      <td>ANDROID</td>\n",
       "      <td>SMARTPHONE</td>\n",
       "      <td>Россия</td>\n",
       "      <td>Уфа</td>\n",
       "      <td>05 45-54</td>\n",
       "      <td>04 1-5</td>\n",
       "      <td>08 36+</td>\n",
       "      <td>10</td>\n",
       "      <td>сторонники</td>\n",
       "    </tr>\n",
       "    <tr>\n",
       "      <th>1</th>\n",
       "      <td>A001WF</td>\n",
       "      <td>2344</td>\n",
       "      <td>False</td>\n",
       "      <td>53.0</td>\n",
       "      <td>мужчина</td>\n",
       "      <td>ANDROID</td>\n",
       "      <td>SMARTPHONE</td>\n",
       "      <td>Россия</td>\n",
       "      <td>Киров</td>\n",
       "      <td>05 45-54</td>\n",
       "      <td>04 1-5</td>\n",
       "      <td>08 36+</td>\n",
       "      <td>10</td>\n",
       "      <td>сторонники</td>\n",
       "    </tr>\n",
       "    <tr>\n",
       "      <th>2</th>\n",
       "      <td>A003Q7</td>\n",
       "      <td>467</td>\n",
       "      <td>False</td>\n",
       "      <td>57.0</td>\n",
       "      <td>мужчина</td>\n",
       "      <td>ANDROID</td>\n",
       "      <td>SMARTPHONE</td>\n",
       "      <td>Россия</td>\n",
       "      <td>Москва</td>\n",
       "      <td>06 55-64</td>\n",
       "      <td>08 20-25</td>\n",
       "      <td>06 13-24</td>\n",
       "      <td>10</td>\n",
       "      <td>сторонники</td>\n",
       "    </tr>\n",
       "    <tr>\n",
       "      <th>3</th>\n",
       "      <td>A004TB</td>\n",
       "      <td>4190</td>\n",
       "      <td>False</td>\n",
       "      <td>44.0</td>\n",
       "      <td>женщина</td>\n",
       "      <td>IOS</td>\n",
       "      <td>SMARTPHONE</td>\n",
       "      <td>Россия</td>\n",
       "      <td>РостовнаДону</td>\n",
       "      <td>04 35-44</td>\n",
       "      <td>03 0.1-1</td>\n",
       "      <td>08 36+</td>\n",
       "      <td>10</td>\n",
       "      <td>сторонники</td>\n",
       "    </tr>\n",
       "    <tr>\n",
       "      <th>4</th>\n",
       "      <td>A004XT</td>\n",
       "      <td>1163</td>\n",
       "      <td>False</td>\n",
       "      <td>24.0</td>\n",
       "      <td>мужчина</td>\n",
       "      <td>ANDROID</td>\n",
       "      <td>SMARTPHONE</td>\n",
       "      <td>Россия</td>\n",
       "      <td>Рязань</td>\n",
       "      <td>02 16-24</td>\n",
       "      <td>05 5-10</td>\n",
       "      <td>08 36+</td>\n",
       "      <td>10</td>\n",
       "      <td>сторонники</td>\n",
       "    </tr>\n",
       "    <tr>\n",
       "      <th>5</th>\n",
       "      <td>A005O0</td>\n",
       "      <td>5501</td>\n",
       "      <td>False</td>\n",
       "      <td>42.0</td>\n",
       "      <td>женщина</td>\n",
       "      <td>ANDROID</td>\n",
       "      <td>SMARTPHONE</td>\n",
       "      <td>Россия</td>\n",
       "      <td>Омск</td>\n",
       "      <td>04 35-44</td>\n",
       "      <td>05 5-10</td>\n",
       "      <td>08 36+</td>\n",
       "      <td>6</td>\n",
       "      <td>критики</td>\n",
       "    </tr>\n",
       "    <tr>\n",
       "      <th>6</th>\n",
       "      <td>A0061R</td>\n",
       "      <td>1236</td>\n",
       "      <td>False</td>\n",
       "      <td>45.0</td>\n",
       "      <td>мужчина</td>\n",
       "      <td>ANDROID</td>\n",
       "      <td>SMARTPHONE</td>\n",
       "      <td>Россия</td>\n",
       "      <td>Уфа</td>\n",
       "      <td>05 45-54</td>\n",
       "      <td>06 10-15</td>\n",
       "      <td>08 36+</td>\n",
       "      <td>10</td>\n",
       "      <td>сторонники</td>\n",
       "    </tr>\n",
       "    <tr>\n",
       "      <th>7</th>\n",
       "      <td>A009KS</td>\n",
       "      <td>313</td>\n",
       "      <td>True</td>\n",
       "      <td>35.0</td>\n",
       "      <td>мужчина</td>\n",
       "      <td>ANDROID</td>\n",
       "      <td>SMARTPHONE</td>\n",
       "      <td>Россия</td>\n",
       "      <td>Москва</td>\n",
       "      <td>04 35-44</td>\n",
       "      <td>13 45-50</td>\n",
       "      <td>05 7-12</td>\n",
       "      <td>10</td>\n",
       "      <td>сторонники</td>\n",
       "    </tr>\n",
       "    <tr>\n",
       "      <th>8</th>\n",
       "      <td>A00AES</td>\n",
       "      <td>3238</td>\n",
       "      <td>False</td>\n",
       "      <td>36.0</td>\n",
       "      <td>женщина</td>\n",
       "      <td>ANDROID</td>\n",
       "      <td>SMARTPHONE</td>\n",
       "      <td>Россия</td>\n",
       "      <td>СанктПетербург</td>\n",
       "      <td>04 35-44</td>\n",
       "      <td>04 1-5</td>\n",
       "      <td>08 36+</td>\n",
       "      <td>10</td>\n",
       "      <td>сторонники</td>\n",
       "    </tr>\n",
       "    <tr>\n",
       "      <th>9</th>\n",
       "      <td>A00F70</td>\n",
       "      <td>4479</td>\n",
       "      <td>False</td>\n",
       "      <td>54.0</td>\n",
       "      <td>женщина</td>\n",
       "      <td>ANDROID</td>\n",
       "      <td>SMARTPHONE</td>\n",
       "      <td>Россия</td>\n",
       "      <td>Волгоград</td>\n",
       "      <td>05 45-54</td>\n",
       "      <td>07 15-20</td>\n",
       "      <td>08 36+</td>\n",
       "      <td>9</td>\n",
       "      <td>сторонники</td>\n",
       "    </tr>\n",
       "  </tbody>\n",
       "</table>\n",
       "</div>"
      ],
      "text/plain": [
       "  user_id  lt_day is_new   age gender_segment  os_name cpe_type_name country  \\\n",
       "0  A001A2    2320  False  45.0        женщина  ANDROID    SMARTPHONE  Россия   \n",
       "1  A001WF    2344  False  53.0        мужчина  ANDROID    SMARTPHONE  Россия   \n",
       "2  A003Q7     467  False  57.0        мужчина  ANDROID    SMARTPHONE  Россия   \n",
       "3  A004TB    4190  False  44.0        женщина      IOS    SMARTPHONE  Россия   \n",
       "4  A004XT    1163  False  24.0        мужчина  ANDROID    SMARTPHONE  Россия   \n",
       "5  A005O0    5501  False  42.0        женщина  ANDROID    SMARTPHONE  Россия   \n",
       "6  A0061R    1236  False  45.0        мужчина  ANDROID    SMARTPHONE  Россия   \n",
       "7  A009KS     313   True  35.0        мужчина  ANDROID    SMARTPHONE  Россия   \n",
       "8  A00AES    3238  False  36.0        женщина  ANDROID    SMARTPHONE  Россия   \n",
       "9  A00F70    4479  False  54.0        женщина  ANDROID    SMARTPHONE  Россия   \n",
       "\n",
       "             city age_segment traffic_segment lifetime_segment  nps_score  \\\n",
       "0             Уфа    05 45-54          04 1-5           08 36+         10   \n",
       "1           Киров    05 45-54          04 1-5           08 36+         10   \n",
       "2          Москва    06 55-64        08 20-25         06 13-24         10   \n",
       "3    РостовнаДону    04 35-44        03 0.1-1           08 36+         10   \n",
       "4          Рязань    02 16-24         05 5-10           08 36+         10   \n",
       "5            Омск    04 35-44         05 5-10           08 36+          6   \n",
       "6             Уфа    05 45-54        06 10-15           08 36+         10   \n",
       "7          Москва    04 35-44        13 45-50          05 7-12         10   \n",
       "8  СанктПетербург    04 35-44          04 1-5           08 36+         10   \n",
       "9       Волгоград    05 45-54        07 15-20           08 36+          9   \n",
       "\n",
       "    nps_group  \n",
       "0  сторонники  \n",
       "1  сторонники  \n",
       "2  сторонники  \n",
       "3  сторонники  \n",
       "4  сторонники  \n",
       "5     критики  \n",
       "6  сторонники  \n",
       "7  сторонники  \n",
       "8  сторонники  \n",
       "9  сторонники  "
      ]
     },
     "execution_count": 4,
     "metadata": {},
     "output_type": "execute_result"
    }
   ],
   "source": [
    "# чтение запроса с \n",
    "# сохранением в переменную df и\n",
    "# просмотр первых 10 значений\n",
    "\n",
    "df = pd.read_sql(query, engine)\n",
    "df.head(10)"
   ]
  },
  {
   "cell_type": "code",
   "execution_count": 5,
   "id": "e0b94a64",
   "metadata": {},
   "outputs": [
    {
     "name": "stdout",
     "output_type": "stream",
     "text": [
      "<class 'pandas.core.frame.DataFrame'>\n",
      "RangeIndex: 502493 entries, 0 to 502492\n",
      "Data columns (total 14 columns):\n",
      " #   Column            Non-Null Count   Dtype  \n",
      "---  ------            --------------   -----  \n",
      " 0   user_id           502493 non-null  object \n",
      " 1   lt_day            502493 non-null  int64  \n",
      " 2   is_new            502493 non-null  object \n",
      " 3   age               501939 non-null  float64\n",
      " 4   gender_segment    501192 non-null  object \n",
      " 5   os_name           502493 non-null  object \n",
      " 6   cpe_type_name     502493 non-null  object \n",
      " 7   country           502493 non-null  object \n",
      " 8   city              502493 non-null  object \n",
      " 9   age_segment       502493 non-null  object \n",
      " 10  traffic_segment   502493 non-null  object \n",
      " 11  lifetime_segment  502493 non-null  object \n",
      " 12  nps_score         502493 non-null  int64  \n",
      " 13  nps_group         502493 non-null  object \n",
      "dtypes: float64(1), int64(2), object(11)\n",
      "memory usage: 53.7+ MB\n"
     ]
    }
   ],
   "source": [
    "# получение общей информации о данных\n",
    "# из таблицы df\n",
    "\n",
    "df.info()"
   ]
  },
  {
   "cell_type": "code",
   "execution_count": 6,
   "id": "9a66f688",
   "metadata": {},
   "outputs": [
    {
     "data": {
      "text/html": [
       "<div>\n",
       "<style scoped>\n",
       "    .dataframe tbody tr th:only-of-type {\n",
       "        vertical-align: middle;\n",
       "    }\n",
       "\n",
       "    .dataframe tbody tr th {\n",
       "        vertical-align: top;\n",
       "    }\n",
       "\n",
       "    .dataframe thead th {\n",
       "        text-align: right;\n",
       "    }\n",
       "</style>\n",
       "<table border=\"1\" class=\"dataframe\">\n",
       "  <thead>\n",
       "    <tr style=\"text-align: right;\">\n",
       "      <th></th>\n",
       "      <th>lt_day</th>\n",
       "      <th>age</th>\n",
       "      <th>nps_score</th>\n",
       "    </tr>\n",
       "  </thead>\n",
       "  <tbody>\n",
       "    <tr>\n",
       "      <th>count</th>\n",
       "      <td>502493.000000</td>\n",
       "      <td>501939.000000</td>\n",
       "      <td>502493.000000</td>\n",
       "    </tr>\n",
       "    <tr>\n",
       "      <th>mean</th>\n",
       "      <td>1868.841439</td>\n",
       "      <td>39.621946</td>\n",
       "      <td>7.508562</td>\n",
       "    </tr>\n",
       "    <tr>\n",
       "      <th>std</th>\n",
       "      <td>1683.701762</td>\n",
       "      <td>11.188249</td>\n",
       "      <td>3.020378</td>\n",
       "    </tr>\n",
       "    <tr>\n",
       "      <th>min</th>\n",
       "      <td>-21.000000</td>\n",
       "      <td>10.000000</td>\n",
       "      <td>1.000000</td>\n",
       "    </tr>\n",
       "    <tr>\n",
       "      <th>25%</th>\n",
       "      <td>533.000000</td>\n",
       "      <td>31.000000</td>\n",
       "      <td>5.000000</td>\n",
       "    </tr>\n",
       "    <tr>\n",
       "      <th>50%</th>\n",
       "      <td>1239.000000</td>\n",
       "      <td>38.000000</td>\n",
       "      <td>9.000000</td>\n",
       "    </tr>\n",
       "    <tr>\n",
       "      <th>75%</th>\n",
       "      <td>3064.000000</td>\n",
       "      <td>47.000000</td>\n",
       "      <td>10.000000</td>\n",
       "    </tr>\n",
       "    <tr>\n",
       "      <th>max</th>\n",
       "      <td>9162.000000</td>\n",
       "      <td>89.000000</td>\n",
       "      <td>10.000000</td>\n",
       "    </tr>\n",
       "  </tbody>\n",
       "</table>\n",
       "</div>"
      ],
      "text/plain": [
       "              lt_day            age      nps_score\n",
       "count  502493.000000  501939.000000  502493.000000\n",
       "mean     1868.841439      39.621946       7.508562\n",
       "std      1683.701762      11.188249       3.020378\n",
       "min       -21.000000      10.000000       1.000000\n",
       "25%       533.000000      31.000000       5.000000\n",
       "50%      1239.000000      38.000000       9.000000\n",
       "75%      3064.000000      47.000000      10.000000\n",
       "max      9162.000000      89.000000      10.000000"
      ]
     },
     "execution_count": 6,
     "metadata": {},
     "output_type": "execute_result"
    }
   ],
   "source": [
    "# получение информации об описательных статиcтических данных\n",
    "# в таблице df\n",
    "\n",
    "df.describe()"
   ]
  },
  {
   "cell_type": "markdown",
   "id": "4c377a00",
   "metadata": {},
   "source": [
    "По представленной информации мы видим, что пропуски в данных есть в двух столбцах, это `age` и `gender_segment`, однако, везде названия столбцов указаны верно. Далее необходимо проверить данные на явные и неявные дубликаты, а также на возможные аномалии и посмотреть, можно и нужно ли как то заполнить пропущенные значения в столбцах `age` и `gender_segment`."
   ]
  },
  {
   "cell_type": "markdown",
   "id": "864ae1c5",
   "metadata": {},
   "source": [
    "# 2. Предобработка данных. <a id='intro1'></a>"
   ]
  },
  {
   "cell_type": "code",
   "execution_count": 7,
   "id": "2c83b1f4",
   "metadata": {},
   "outputs": [
    {
     "data": {
      "text/plain": [
       "0"
      ]
     },
     "execution_count": 7,
     "metadata": {},
     "output_type": "execute_result"
    }
   ],
   "source": [
    "# получение информации о наличии\n",
    "# явных дубликатов\n",
    "\n",
    "df.duplicated().sum()"
   ]
  },
  {
   "cell_type": "code",
   "execution_count": 8,
   "id": "90c47401",
   "metadata": {},
   "outputs": [
    {
     "data": {
      "text/plain": [
       "BAXQ67    1\n",
       "A5RLV7    1\n",
       "LQ6ZAM    1\n",
       "GIEXE7    1\n",
       "XPPM99    1\n",
       "         ..\n",
       "BV16KO    1\n",
       "DQ8DDT    1\n",
       "NY9M6V    1\n",
       "G41I5Y    1\n",
       "ZCVWIS    1\n",
       "Name: user_id, Length: 502493, dtype: int64"
      ]
     },
     "execution_count": 8,
     "metadata": {},
     "output_type": "execute_result"
    }
   ],
   "source": [
    "# получение уникальных значений \n",
    "# столбца 'user_id'\n",
    "\n",
    "df['user_id'].value_counts()"
   ]
  },
  {
   "cell_type": "code",
   "execution_count": 9,
   "id": "84dd9496",
   "metadata": {},
   "outputs": [
    {
     "data": {
      "text/plain": [
       "33      497\n",
       "57      485\n",
       "34      448\n",
       "40      445\n",
       "37      442\n",
       "       ... \n",
       "6729      1\n",
       "7241      1\n",
       "7091      1\n",
       "6835      1\n",
       "7384      1\n",
       "Name: lt_day, Length: 6950, dtype: int64"
      ]
     },
     "execution_count": 9,
     "metadata": {},
     "output_type": "execute_result"
    }
   ],
   "source": [
    "# получение уникальных значений \n",
    "# столбца 'lt_day'\n",
    "\n",
    "df['lt_day'].value_counts()"
   ]
  },
  {
   "cell_type": "code",
   "execution_count": 10,
   "id": "b3fad17f",
   "metadata": {},
   "outputs": [
    {
     "data": {
      "text/plain": [
       "33      497\n",
       "57      485\n",
       "34      448\n",
       "40      445\n",
       "37      442\n",
       "       ... \n",
       "6729      1\n",
       "7241      1\n",
       "7091      1\n",
       "6835      1\n",
       "7384      1\n",
       "Name: lt_day, Length: 6950, dtype: int64"
      ]
     },
     "execution_count": 10,
     "metadata": {},
     "output_type": "execute_result"
    }
   ],
   "source": [
    "# получение уникальных значений в\n",
    "# столбце 'lt_day'\n",
    "\n",
    "df['lt_day'].value_counts()"
   ]
  },
  {
   "cell_type": "code",
   "execution_count": 11,
   "id": "53397d83",
   "metadata": {
    "scrolled": true
   },
   "outputs": [],
   "source": [
    "# получение уникальных значений \n",
    "# столбца 'lt_day'\n",
    "\n",
    "#sorted(df['lt_day'].unique())"
   ]
  },
  {
   "cell_type": "code",
   "execution_count": 12,
   "id": "dcf7fd82",
   "metadata": {
    "scrolled": true
   },
   "outputs": [
    {
     "data": {
      "text/html": [
       "<div>\n",
       "<style scoped>\n",
       "    .dataframe tbody tr th:only-of-type {\n",
       "        vertical-align: middle;\n",
       "    }\n",
       "\n",
       "    .dataframe tbody tr th {\n",
       "        vertical-align: top;\n",
       "    }\n",
       "\n",
       "    .dataframe thead th {\n",
       "        text-align: right;\n",
       "    }\n",
       "</style>\n",
       "<table border=\"1\" class=\"dataframe\">\n",
       "  <thead>\n",
       "    <tr style=\"text-align: right;\">\n",
       "      <th></th>\n",
       "      <th>user_id</th>\n",
       "      <th>lt_day</th>\n",
       "      <th>is_new</th>\n",
       "      <th>age</th>\n",
       "      <th>gender_segment</th>\n",
       "      <th>os_name</th>\n",
       "      <th>cpe_type_name</th>\n",
       "      <th>country</th>\n",
       "      <th>city</th>\n",
       "      <th>age_segment</th>\n",
       "      <th>traffic_segment</th>\n",
       "      <th>lifetime_segment</th>\n",
       "      <th>nps_score</th>\n",
       "      <th>nps_group</th>\n",
       "    </tr>\n",
       "  </thead>\n",
       "  <tbody>\n",
       "    <tr>\n",
       "      <th>7666</th>\n",
       "      <td>AEAC2R</td>\n",
       "      <td>-8</td>\n",
       "      <td>True</td>\n",
       "      <td>NaN</td>\n",
       "      <td>None</td>\n",
       "      <td>ANDROID</td>\n",
       "      <td>SMARTPHONE</td>\n",
       "      <td>Россия</td>\n",
       "      <td>Томск</td>\n",
       "      <td>08 n/a</td>\n",
       "      <td>07 15-20</td>\n",
       "      <td>08 36+</td>\n",
       "      <td>1</td>\n",
       "      <td>критики</td>\n",
       "    </tr>\n",
       "    <tr>\n",
       "      <th>53997</th>\n",
       "      <td>CS0HF8</td>\n",
       "      <td>-2</td>\n",
       "      <td>True</td>\n",
       "      <td>NaN</td>\n",
       "      <td>None</td>\n",
       "      <td>ANDROID</td>\n",
       "      <td>SMARTPHONE</td>\n",
       "      <td>Россия</td>\n",
       "      <td>Ижевск</td>\n",
       "      <td>08 n/a</td>\n",
       "      <td>08 20-25</td>\n",
       "      <td>08 36+</td>\n",
       "      <td>10</td>\n",
       "      <td>сторонники</td>\n",
       "    </tr>\n",
       "    <tr>\n",
       "      <th>71577</th>\n",
       "      <td>DORPT2</td>\n",
       "      <td>-4</td>\n",
       "      <td>True</td>\n",
       "      <td>NaN</td>\n",
       "      <td>None</td>\n",
       "      <td>ANDROID</td>\n",
       "      <td>SMARTPHONE</td>\n",
       "      <td>Россия</td>\n",
       "      <td>Москва</td>\n",
       "      <td>08 n/a</td>\n",
       "      <td>08 20-25</td>\n",
       "      <td>08 36+</td>\n",
       "      <td>4</td>\n",
       "      <td>критики</td>\n",
       "    </tr>\n",
       "    <tr>\n",
       "      <th>100152</th>\n",
       "      <td>F5O3CG</td>\n",
       "      <td>-21</td>\n",
       "      <td>True</td>\n",
       "      <td>NaN</td>\n",
       "      <td>None</td>\n",
       "      <td>ANDROID</td>\n",
       "      <td>SMARTPHONE</td>\n",
       "      <td>Россия</td>\n",
       "      <td>Чита</td>\n",
       "      <td>08 n/a</td>\n",
       "      <td>11 35-40</td>\n",
       "      <td>08 36+</td>\n",
       "      <td>7</td>\n",
       "      <td>нейтралы</td>\n",
       "    </tr>\n",
       "    <tr>\n",
       "      <th>103223</th>\n",
       "      <td>FBC993</td>\n",
       "      <td>0</td>\n",
       "      <td>True</td>\n",
       "      <td>NaN</td>\n",
       "      <td>None</td>\n",
       "      <td>ANDROID</td>\n",
       "      <td>SMARTPHONE</td>\n",
       "      <td>Россия</td>\n",
       "      <td>Москва</td>\n",
       "      <td>08 n/a</td>\n",
       "      <td>04 1-5</td>\n",
       "      <td>01 1</td>\n",
       "      <td>5</td>\n",
       "      <td>критики</td>\n",
       "    </tr>\n",
       "    <tr>\n",
       "      <th>228087</th>\n",
       "      <td>LSE939</td>\n",
       "      <td>-13</td>\n",
       "      <td>True</td>\n",
       "      <td>NaN</td>\n",
       "      <td>None</td>\n",
       "      <td>ANDROID</td>\n",
       "      <td>SMARTPHONE</td>\n",
       "      <td>Россия</td>\n",
       "      <td>Краснодар</td>\n",
       "      <td>08 n/a</td>\n",
       "      <td>07 15-20</td>\n",
       "      <td>08 36+</td>\n",
       "      <td>1</td>\n",
       "      <td>критики</td>\n",
       "    </tr>\n",
       "    <tr>\n",
       "      <th>284966</th>\n",
       "      <td>OQO5GZ</td>\n",
       "      <td>0</td>\n",
       "      <td>True</td>\n",
       "      <td>NaN</td>\n",
       "      <td>мужчина</td>\n",
       "      <td>ANDROID</td>\n",
       "      <td>SMARTPHONE</td>\n",
       "      <td>Россия</td>\n",
       "      <td>Томск</td>\n",
       "      <td>08 n/a</td>\n",
       "      <td>06 10-15</td>\n",
       "      <td>01 1</td>\n",
       "      <td>8</td>\n",
       "      <td>нейтралы</td>\n",
       "    </tr>\n",
       "    <tr>\n",
       "      <th>325212</th>\n",
       "      <td>QTT7IR</td>\n",
       "      <td>-13</td>\n",
       "      <td>True</td>\n",
       "      <td>NaN</td>\n",
       "      <td>None</td>\n",
       "      <td>IOS</td>\n",
       "      <td>SMARTPHONE</td>\n",
       "      <td>Россия</td>\n",
       "      <td>Москва</td>\n",
       "      <td>08 n/a</td>\n",
       "      <td>06 10-15</td>\n",
       "      <td>08 36+</td>\n",
       "      <td>7</td>\n",
       "      <td>нейтралы</td>\n",
       "    </tr>\n",
       "    <tr>\n",
       "      <th>347784</th>\n",
       "      <td>RZUS6H</td>\n",
       "      <td>-6</td>\n",
       "      <td>True</td>\n",
       "      <td>NaN</td>\n",
       "      <td>None</td>\n",
       "      <td>ANDROID</td>\n",
       "      <td>SMARTPHONE</td>\n",
       "      <td>Россия</td>\n",
       "      <td>Красноярск</td>\n",
       "      <td>08 n/a</td>\n",
       "      <td>10 30-35</td>\n",
       "      <td>08 36+</td>\n",
       "      <td>3</td>\n",
       "      <td>критики</td>\n",
       "    </tr>\n",
       "    <tr>\n",
       "      <th>385897</th>\n",
       "      <td>TYWQW4</td>\n",
       "      <td>-12</td>\n",
       "      <td>True</td>\n",
       "      <td>NaN</td>\n",
       "      <td>None</td>\n",
       "      <td>IOS</td>\n",
       "      <td>SMARTPHONE</td>\n",
       "      <td>Россия</td>\n",
       "      <td>Новосибирск</td>\n",
       "      <td>08 n/a</td>\n",
       "      <td>04 1-5</td>\n",
       "      <td>08 36+</td>\n",
       "      <td>5</td>\n",
       "      <td>критики</td>\n",
       "    </tr>\n",
       "    <tr>\n",
       "      <th>401226</th>\n",
       "      <td>URKAFI</td>\n",
       "      <td>-11</td>\n",
       "      <td>True</td>\n",
       "      <td>NaN</td>\n",
       "      <td>None</td>\n",
       "      <td>ANDROID</td>\n",
       "      <td>SMARTPHONE</td>\n",
       "      <td>Россия</td>\n",
       "      <td>НижнийНовгород</td>\n",
       "      <td>08 n/a</td>\n",
       "      <td>06 10-15</td>\n",
       "      <td>08 36+</td>\n",
       "      <td>8</td>\n",
       "      <td>нейтралы</td>\n",
       "    </tr>\n",
       "    <tr>\n",
       "      <th>403933</th>\n",
       "      <td>UWLM0V</td>\n",
       "      <td>0</td>\n",
       "      <td>True</td>\n",
       "      <td>NaN</td>\n",
       "      <td>женщина</td>\n",
       "      <td>ANDROID</td>\n",
       "      <td>SMARTPHONE</td>\n",
       "      <td>Россия</td>\n",
       "      <td>Балашиха</td>\n",
       "      <td>08 n/a</td>\n",
       "      <td>05 5-10</td>\n",
       "      <td>01 1</td>\n",
       "      <td>10</td>\n",
       "      <td>сторонники</td>\n",
       "    </tr>\n",
       "    <tr>\n",
       "      <th>407160</th>\n",
       "      <td>V2GNK2</td>\n",
       "      <td>-13</td>\n",
       "      <td>True</td>\n",
       "      <td>NaN</td>\n",
       "      <td>None</td>\n",
       "      <td>IOS</td>\n",
       "      <td>SMARTPHONE</td>\n",
       "      <td>Россия</td>\n",
       "      <td>РостовнаДону</td>\n",
       "      <td>08 n/a</td>\n",
       "      <td>07 15-20</td>\n",
       "      <td>08 36+</td>\n",
       "      <td>5</td>\n",
       "      <td>критики</td>\n",
       "    </tr>\n",
       "    <tr>\n",
       "      <th>425927</th>\n",
       "      <td>W17RFH</td>\n",
       "      <td>-1</td>\n",
       "      <td>True</td>\n",
       "      <td>NaN</td>\n",
       "      <td>None</td>\n",
       "      <td>ANDROID</td>\n",
       "      <td>SMARTPHONE</td>\n",
       "      <td>Россия</td>\n",
       "      <td>Москва</td>\n",
       "      <td>08 n/a</td>\n",
       "      <td>04 1-5</td>\n",
       "      <td>08 36+</td>\n",
       "      <td>5</td>\n",
       "      <td>критики</td>\n",
       "    </tr>\n",
       "    <tr>\n",
       "      <th>455359</th>\n",
       "      <td>XKF9SN</td>\n",
       "      <td>-12</td>\n",
       "      <td>True</td>\n",
       "      <td>NaN</td>\n",
       "      <td>None</td>\n",
       "      <td>ANDROID</td>\n",
       "      <td>SMARTPHONE</td>\n",
       "      <td>Россия</td>\n",
       "      <td>Уфа</td>\n",
       "      <td>08 n/a</td>\n",
       "      <td>24 100+</td>\n",
       "      <td>08 36+</td>\n",
       "      <td>9</td>\n",
       "      <td>сторонники</td>\n",
       "    </tr>\n",
       "    <tr>\n",
       "      <th>480641</th>\n",
       "      <td>YV6OAH</td>\n",
       "      <td>0</td>\n",
       "      <td>True</td>\n",
       "      <td>NaN</td>\n",
       "      <td>None</td>\n",
       "      <td>IOS</td>\n",
       "      <td>SMARTPHONE</td>\n",
       "      <td>Россия</td>\n",
       "      <td>Томск</td>\n",
       "      <td>08 n/a</td>\n",
       "      <td>07 15-20</td>\n",
       "      <td>01 1</td>\n",
       "      <td>9</td>\n",
       "      <td>сторонники</td>\n",
       "    </tr>\n",
       "    <tr>\n",
       "      <th>492382</th>\n",
       "      <td>ZGUUY9</td>\n",
       "      <td>-7</td>\n",
       "      <td>True</td>\n",
       "      <td>NaN</td>\n",
       "      <td>None</td>\n",
       "      <td>ANDROID</td>\n",
       "      <td>SMARTPHONE</td>\n",
       "      <td>Россия</td>\n",
       "      <td>Красноярск</td>\n",
       "      <td>08 n/a</td>\n",
       "      <td>05 5-10</td>\n",
       "      <td>08 36+</td>\n",
       "      <td>8</td>\n",
       "      <td>нейтралы</td>\n",
       "    </tr>\n",
       "  </tbody>\n",
       "</table>\n",
       "</div>"
      ],
      "text/plain": [
       "       user_id  lt_day is_new  age gender_segment  os_name cpe_type_name  \\\n",
       "7666    AEAC2R      -8   True  NaN           None  ANDROID    SMARTPHONE   \n",
       "53997   CS0HF8      -2   True  NaN           None  ANDROID    SMARTPHONE   \n",
       "71577   DORPT2      -4   True  NaN           None  ANDROID    SMARTPHONE   \n",
       "100152  F5O3CG     -21   True  NaN           None  ANDROID    SMARTPHONE   \n",
       "103223  FBC993       0   True  NaN           None  ANDROID    SMARTPHONE   \n",
       "228087  LSE939     -13   True  NaN           None  ANDROID    SMARTPHONE   \n",
       "284966  OQO5GZ       0   True  NaN        мужчина  ANDROID    SMARTPHONE   \n",
       "325212  QTT7IR     -13   True  NaN           None      IOS    SMARTPHONE   \n",
       "347784  RZUS6H      -6   True  NaN           None  ANDROID    SMARTPHONE   \n",
       "385897  TYWQW4     -12   True  NaN           None      IOS    SMARTPHONE   \n",
       "401226  URKAFI     -11   True  NaN           None  ANDROID    SMARTPHONE   \n",
       "403933  UWLM0V       0   True  NaN        женщина  ANDROID    SMARTPHONE   \n",
       "407160  V2GNK2     -13   True  NaN           None      IOS    SMARTPHONE   \n",
       "425927  W17RFH      -1   True  NaN           None  ANDROID    SMARTPHONE   \n",
       "455359  XKF9SN     -12   True  NaN           None  ANDROID    SMARTPHONE   \n",
       "480641  YV6OAH       0   True  NaN           None      IOS    SMARTPHONE   \n",
       "492382  ZGUUY9      -7   True  NaN           None  ANDROID    SMARTPHONE   \n",
       "\n",
       "       country            city age_segment traffic_segment lifetime_segment  \\\n",
       "7666    Россия           Томск      08 n/a        07 15-20           08 36+   \n",
       "53997   Россия          Ижевск      08 n/a        08 20-25           08 36+   \n",
       "71577   Россия          Москва      08 n/a        08 20-25           08 36+   \n",
       "100152  Россия            Чита      08 n/a        11 35-40           08 36+   \n",
       "103223  Россия          Москва      08 n/a          04 1-5             01 1   \n",
       "228087  Россия       Краснодар      08 n/a        07 15-20           08 36+   \n",
       "284966  Россия           Томск      08 n/a        06 10-15             01 1   \n",
       "325212  Россия          Москва      08 n/a        06 10-15           08 36+   \n",
       "347784  Россия      Красноярск      08 n/a        10 30-35           08 36+   \n",
       "385897  Россия     Новосибирск      08 n/a          04 1-5           08 36+   \n",
       "401226  Россия  НижнийНовгород      08 n/a        06 10-15           08 36+   \n",
       "403933  Россия        Балашиха      08 n/a         05 5-10             01 1   \n",
       "407160  Россия    РостовнаДону      08 n/a        07 15-20           08 36+   \n",
       "425927  Россия          Москва      08 n/a          04 1-5           08 36+   \n",
       "455359  Россия             Уфа      08 n/a         24 100+           08 36+   \n",
       "480641  Россия           Томск      08 n/a        07 15-20             01 1   \n",
       "492382  Россия      Красноярск      08 n/a         05 5-10           08 36+   \n",
       "\n",
       "        nps_score   nps_group  \n",
       "7666            1     критики  \n",
       "53997          10  сторонники  \n",
       "71577           4     критики  \n",
       "100152          7    нейтралы  \n",
       "103223          5     критики  \n",
       "228087          1     критики  \n",
       "284966          8    нейтралы  \n",
       "325212          7    нейтралы  \n",
       "347784          3     критики  \n",
       "385897          5     критики  \n",
       "401226          8    нейтралы  \n",
       "403933         10  сторонники  \n",
       "407160          5     критики  \n",
       "425927          5     критики  \n",
       "455359          9  сторонники  \n",
       "480641          9  сторонники  \n",
       "492382          8    нейтралы  "
      ]
     },
     "execution_count": 12,
     "metadata": {},
     "output_type": "execute_result"
    }
   ],
   "source": [
    "# получение среза данных \n",
    "# по столбцу 'lt_day'\n",
    "\n",
    "df.query('lt_day <= 0')"
   ]
  },
  {
   "cell_type": "markdown",
   "id": "3e92bd33",
   "metadata": {},
   "source": [
    "Стоит отметить, что в столбце `lt_day` мы обнаружили отрицательные и нулевые значения по количеству дней жизни. Также согласно таблице, мы увидели, что у данных значений практически везде есть пропуски в столбцах `age`, `gender_segment`, `age_segment`, а в столбце `lifetime_segment` количество месяцев жизни превышает 36 месяцев или равняется 1 месяцу, что считается не совсем верным. Поэтому необходимо в запросе SQL убрать данные значения из таблицы, так как по количеству их насчитывается не так много."
   ]
  },
  {
   "cell_type": "code",
   "execution_count": 13,
   "id": "72d46ea5",
   "metadata": {},
   "outputs": [
    {
     "data": {
      "text/plain": [
       "array([45., 53., 57., 44., 24., 42., 35., 36., 54., 39., 21., 27., 60.,\n",
       "       34., 47., 37., 43., 33., 31., 25., 51., 28., 41., 40., 46., 48.,\n",
       "       32., 30., 52., 59., 26., 50., 62., 29., 55., 22., 38., 56., 23.,\n",
       "       49., 66., 74., 75., 17., 65., 64., 69., 58., 20., 19., 80., 70.,\n",
       "       81., 63., 67., 68., 72., 15., 79., 18., 73., nan, 14., 71., 61.,\n",
       "       16., 77., 13., 76., 10., 78., 12., 82., 11., 83., 89., 84., 85.,\n",
       "       87., 86.])"
      ]
     },
     "execution_count": 13,
     "metadata": {},
     "output_type": "execute_result"
    }
   ],
   "source": [
    "# получение уникальных значений \n",
    "# столбца 'age'\n",
    "\n",
    "df['age'].unique()"
   ]
  },
  {
   "cell_type": "code",
   "execution_count": 14,
   "id": "05e161ea",
   "metadata": {},
   "outputs": [
    {
     "data": {
      "text/plain": [
       "33.0    20261\n",
       "34.0    20031\n",
       "35.0    19574\n",
       "36.0    19353\n",
       "32.0    19138\n",
       "        ...  \n",
       "83.0        9\n",
       "85.0        2\n",
       "87.0        2\n",
       "86.0        2\n",
       "89.0        1\n",
       "Name: age, Length: 79, dtype: int64"
      ]
     },
     "execution_count": 14,
     "metadata": {},
     "output_type": "execute_result"
    }
   ],
   "source": [
    "# получение уникальных значений \n",
    "# столбца 'age'\n",
    "\n",
    "df['age'].value_counts()"
   ]
  },
  {
   "cell_type": "code",
   "execution_count": 15,
   "id": "5792fa0f",
   "metadata": {
    "scrolled": true
   },
   "outputs": [
    {
     "data": {
      "text/html": [
       "<div>\n",
       "<style scoped>\n",
       "    .dataframe tbody tr th:only-of-type {\n",
       "        vertical-align: middle;\n",
       "    }\n",
       "\n",
       "    .dataframe tbody tr th {\n",
       "        vertical-align: top;\n",
       "    }\n",
       "\n",
       "    .dataframe thead th {\n",
       "        text-align: right;\n",
       "    }\n",
       "</style>\n",
       "<table border=\"1\" class=\"dataframe\">\n",
       "  <thead>\n",
       "    <tr style=\"text-align: right;\">\n",
       "      <th></th>\n",
       "      <th>user_id</th>\n",
       "      <th>lt_day</th>\n",
       "      <th>is_new</th>\n",
       "      <th>age</th>\n",
       "      <th>gender_segment</th>\n",
       "      <th>os_name</th>\n",
       "      <th>cpe_type_name</th>\n",
       "      <th>country</th>\n",
       "      <th>city</th>\n",
       "      <th>age_segment</th>\n",
       "      <th>traffic_segment</th>\n",
       "      <th>lifetime_segment</th>\n",
       "      <th>nps_score</th>\n",
       "      <th>nps_group</th>\n",
       "    </tr>\n",
       "  </thead>\n",
       "  <tbody>\n",
       "    <tr>\n",
       "      <th>751</th>\n",
       "      <td>A1E59W</td>\n",
       "      <td>4055</td>\n",
       "      <td>False</td>\n",
       "      <td>NaN</td>\n",
       "      <td>None</td>\n",
       "      <td>ANDROID</td>\n",
       "      <td>SMARTPHONE</td>\n",
       "      <td>Россия</td>\n",
       "      <td>Екатеринбург</td>\n",
       "      <td>08 n/a</td>\n",
       "      <td>04 1-5</td>\n",
       "      <td>08 36+</td>\n",
       "      <td>1</td>\n",
       "      <td>критики</td>\n",
       "    </tr>\n",
       "    <tr>\n",
       "      <th>1209</th>\n",
       "      <td>A28ZDT</td>\n",
       "      <td>4243</td>\n",
       "      <td>False</td>\n",
       "      <td>NaN</td>\n",
       "      <td>None</td>\n",
       "      <td>ANDROID</td>\n",
       "      <td>SMARTPHONE</td>\n",
       "      <td>Россия</td>\n",
       "      <td>Хабаровск</td>\n",
       "      <td>08 n/a</td>\n",
       "      <td>04 1-5</td>\n",
       "      <td>08 36+</td>\n",
       "      <td>5</td>\n",
       "      <td>критики</td>\n",
       "    </tr>\n",
       "    <tr>\n",
       "      <th>1321</th>\n",
       "      <td>A2GLPQ</td>\n",
       "      <td>2354</td>\n",
       "      <td>False</td>\n",
       "      <td>NaN</td>\n",
       "      <td>None</td>\n",
       "      <td>ANDROID</td>\n",
       "      <td>SMARTPHONE</td>\n",
       "      <td>Россия</td>\n",
       "      <td>Иркутск</td>\n",
       "      <td>08 n/a</td>\n",
       "      <td>06 10-15</td>\n",
       "      <td>08 36+</td>\n",
       "      <td>1</td>\n",
       "      <td>критики</td>\n",
       "    </tr>\n",
       "    <tr>\n",
       "      <th>2163</th>\n",
       "      <td>A41C1K</td>\n",
       "      <td>557</td>\n",
       "      <td>False</td>\n",
       "      <td>NaN</td>\n",
       "      <td>None</td>\n",
       "      <td>ANDROID</td>\n",
       "      <td>SMARTPHONE</td>\n",
       "      <td>Россия</td>\n",
       "      <td>РостовнаДону</td>\n",
       "      <td>08 n/a</td>\n",
       "      <td>04 1-5</td>\n",
       "      <td>06 13-24</td>\n",
       "      <td>3</td>\n",
       "      <td>критики</td>\n",
       "    </tr>\n",
       "    <tr>\n",
       "      <th>2667</th>\n",
       "      <td>A513VG</td>\n",
       "      <td>4705</td>\n",
       "      <td>False</td>\n",
       "      <td>NaN</td>\n",
       "      <td>None</td>\n",
       "      <td>IOS</td>\n",
       "      <td>SMARTPHONE</td>\n",
       "      <td>Россия</td>\n",
       "      <td>Екатеринбург</td>\n",
       "      <td>08 n/a</td>\n",
       "      <td>23 95-100</td>\n",
       "      <td>08 36+</td>\n",
       "      <td>9</td>\n",
       "      <td>сторонники</td>\n",
       "    </tr>\n",
       "    <tr>\n",
       "      <th>...</th>\n",
       "      <td>...</td>\n",
       "      <td>...</td>\n",
       "      <td>...</td>\n",
       "      <td>...</td>\n",
       "      <td>...</td>\n",
       "      <td>...</td>\n",
       "      <td>...</td>\n",
       "      <td>...</td>\n",
       "      <td>...</td>\n",
       "      <td>...</td>\n",
       "      <td>...</td>\n",
       "      <td>...</td>\n",
       "      <td>...</td>\n",
       "      <td>...</td>\n",
       "    </tr>\n",
       "    <tr>\n",
       "      <th>498652</th>\n",
       "      <td>ZSL1TE</td>\n",
       "      <td>1389</td>\n",
       "      <td>False</td>\n",
       "      <td>NaN</td>\n",
       "      <td>None</td>\n",
       "      <td>ANDROID</td>\n",
       "      <td>SMARTPHONE</td>\n",
       "      <td>Россия</td>\n",
       "      <td>Калининград</td>\n",
       "      <td>08 n/a</td>\n",
       "      <td>04 1-5</td>\n",
       "      <td>08 36+</td>\n",
       "      <td>10</td>\n",
       "      <td>сторонники</td>\n",
       "    </tr>\n",
       "    <tr>\n",
       "      <th>498998</th>\n",
       "      <td>ZT6Z5A</td>\n",
       "      <td>1295</td>\n",
       "      <td>False</td>\n",
       "      <td>NaN</td>\n",
       "      <td>None</td>\n",
       "      <td>ANDROID</td>\n",
       "      <td>SMARTPHONE</td>\n",
       "      <td>Россия</td>\n",
       "      <td>Рязань</td>\n",
       "      <td>08 n/a</td>\n",
       "      <td>04 1-5</td>\n",
       "      <td>08 36+</td>\n",
       "      <td>5</td>\n",
       "      <td>критики</td>\n",
       "    </tr>\n",
       "    <tr>\n",
       "      <th>499598</th>\n",
       "      <td>ZUDYU9</td>\n",
       "      <td>520</td>\n",
       "      <td>False</td>\n",
       "      <td>NaN</td>\n",
       "      <td>None</td>\n",
       "      <td>ANDROID</td>\n",
       "      <td>SMARTPHONE</td>\n",
       "      <td>Россия</td>\n",
       "      <td>СанктПетербург</td>\n",
       "      <td>08 n/a</td>\n",
       "      <td>24 100+</td>\n",
       "      <td>06 13-24</td>\n",
       "      <td>9</td>\n",
       "      <td>сторонники</td>\n",
       "    </tr>\n",
       "    <tr>\n",
       "      <th>501246</th>\n",
       "      <td>ZXK9AK</td>\n",
       "      <td>3550</td>\n",
       "      <td>False</td>\n",
       "      <td>NaN</td>\n",
       "      <td>None</td>\n",
       "      <td>ANDROID</td>\n",
       "      <td>SMARTPHONE</td>\n",
       "      <td>Россия</td>\n",
       "      <td>Томск</td>\n",
       "      <td>08 n/a</td>\n",
       "      <td>04 1-5</td>\n",
       "      <td>08 36+</td>\n",
       "      <td>4</td>\n",
       "      <td>критики</td>\n",
       "    </tr>\n",
       "    <tr>\n",
       "      <th>502455</th>\n",
       "      <td>ZZXH2T</td>\n",
       "      <td>268</td>\n",
       "      <td>True</td>\n",
       "      <td>NaN</td>\n",
       "      <td>None</td>\n",
       "      <td>ANDROID</td>\n",
       "      <td>SMARTPHONE</td>\n",
       "      <td>Россия</td>\n",
       "      <td>Череповец</td>\n",
       "      <td>08 n/a</td>\n",
       "      <td>07 15-20</td>\n",
       "      <td>05 7-12</td>\n",
       "      <td>1</td>\n",
       "      <td>критики</td>\n",
       "    </tr>\n",
       "  </tbody>\n",
       "</table>\n",
       "<p>514 rows × 14 columns</p>\n",
       "</div>"
      ],
      "text/plain": [
       "       user_id  lt_day is_new  age gender_segment  os_name cpe_type_name  \\\n",
       "751     A1E59W    4055  False  NaN           None  ANDROID    SMARTPHONE   \n",
       "1209    A28ZDT    4243  False  NaN           None  ANDROID    SMARTPHONE   \n",
       "1321    A2GLPQ    2354  False  NaN           None  ANDROID    SMARTPHONE   \n",
       "2163    A41C1K     557  False  NaN           None  ANDROID    SMARTPHONE   \n",
       "2667    A513VG    4705  False  NaN           None      IOS    SMARTPHONE   \n",
       "...        ...     ...    ...  ...            ...      ...           ...   \n",
       "498652  ZSL1TE    1389  False  NaN           None  ANDROID    SMARTPHONE   \n",
       "498998  ZT6Z5A    1295  False  NaN           None  ANDROID    SMARTPHONE   \n",
       "499598  ZUDYU9     520  False  NaN           None  ANDROID    SMARTPHONE   \n",
       "501246  ZXK9AK    3550  False  NaN           None  ANDROID    SMARTPHONE   \n",
       "502455  ZZXH2T     268   True  NaN           None  ANDROID    SMARTPHONE   \n",
       "\n",
       "       country            city age_segment traffic_segment lifetime_segment  \\\n",
       "751     Россия    Екатеринбург      08 n/a          04 1-5           08 36+   \n",
       "1209    Россия       Хабаровск      08 n/a          04 1-5           08 36+   \n",
       "1321    Россия         Иркутск      08 n/a        06 10-15           08 36+   \n",
       "2163    Россия    РостовнаДону      08 n/a          04 1-5         06 13-24   \n",
       "2667    Россия    Екатеринбург      08 n/a       23 95-100           08 36+   \n",
       "...        ...             ...         ...             ...              ...   \n",
       "498652  Россия     Калининград      08 n/a          04 1-5           08 36+   \n",
       "498998  Россия          Рязань      08 n/a          04 1-5           08 36+   \n",
       "499598  Россия  СанктПетербург      08 n/a         24 100+         06 13-24   \n",
       "501246  Россия           Томск      08 n/a          04 1-5           08 36+   \n",
       "502455  Россия       Череповец      08 n/a        07 15-20          05 7-12   \n",
       "\n",
       "        nps_score   nps_group  \n",
       "751             1     критики  \n",
       "1209            5     критики  \n",
       "1321            1     критики  \n",
       "2163            3     критики  \n",
       "2667            9  сторонники  \n",
       "...           ...         ...  \n",
       "498652         10  сторонники  \n",
       "498998          5     критики  \n",
       "499598          9  сторонники  \n",
       "501246          4     критики  \n",
       "502455          1     критики  \n",
       "\n",
       "[514 rows x 14 columns]"
      ]
     },
     "execution_count": 15,
     "metadata": {},
     "output_type": "execute_result"
    }
   ],
   "source": [
    "# получение среза данных \n",
    "# по столбцам 'age', 'gender_segment' и\n",
    "# 'age_segment'\n",
    "\n",
    "df.query('age.isna() and gender_segment.isna() and age_segment == \"08 n/a\"')"
   ]
  },
  {
   "cell_type": "code",
   "execution_count": 16,
   "id": "f81c5627",
   "metadata": {},
   "outputs": [
    {
     "data": {
      "text/plain": [
       "array(['женщина', 'мужчина', None], dtype=object)"
      ]
     },
     "execution_count": 16,
     "metadata": {},
     "output_type": "execute_result"
    }
   ],
   "source": [
    "# получение уникальных значений \n",
    "# столбца 'gender_segment'\n",
    "\n",
    "df['gender_segment'].unique()"
   ]
  },
  {
   "cell_type": "markdown",
   "id": "3659f5bd",
   "metadata": {},
   "source": [
    "Согласно представленным данным в столбцах `age` и `gender_segment` есть пропущенные значения, но оставим их пока, как есть."
   ]
  },
  {
   "cell_type": "code",
   "execution_count": 17,
   "id": "5b229251",
   "metadata": {},
   "outputs": [
    {
     "data": {
      "text/plain": [
       "array(['ANDROID', 'IOS', 'OTHER', 'unknown', 'PROPRIETARY',\n",
       "       'WINDOWS PHONE', 'SYMBIAN OS', 'BADA OS', 'WINDOWS MOBILE'],\n",
       "      dtype=object)"
      ]
     },
     "execution_count": 17,
     "metadata": {},
     "output_type": "execute_result"
    }
   ],
   "source": [
    "# получение уникальных значений \n",
    "# столбца 'os_name'\n",
    "\n",
    "df['os_name'].unique()"
   ]
  },
  {
   "cell_type": "code",
   "execution_count": 18,
   "id": "1b54c20b",
   "metadata": {},
   "outputs": [
    {
     "data": {
      "text/plain": [
       "array(['Россия'], dtype=object)"
      ]
     },
     "execution_count": 18,
     "metadata": {},
     "output_type": "execute_result"
    }
   ],
   "source": [
    "# получение уникальных значений \n",
    "# столбца 'country'\n",
    "\n",
    "df['country'].unique()"
   ]
  },
  {
   "cell_type": "code",
   "execution_count": 19,
   "id": "c685675f",
   "metadata": {},
   "outputs": [
    {
     "data": {
      "text/plain": [
       "array(['Уфа', 'Киров', 'Москва', 'РостовнаДону', 'Рязань', 'Омск',\n",
       "       'СанктПетербург', 'Волгоград', 'Тольятти', 'Казань', 'Самара',\n",
       "       'Красноярск', 'Екатеринбург', 'Калуга', 'Краснодар', 'Иркутск',\n",
       "       'Пермь', 'Владимир', 'Ижевск', 'Тюмень', 'Оренбург',\n",
       "       'НижнийНовгород', 'Брянск', 'Челябинск', 'Астрахань', 'Сургут',\n",
       "       'Тверь', 'Новосибирск', 'НабережныеЧелны', 'Махачкала', 'Воронеж',\n",
       "       'Курск', 'Владивосток', 'Балашиха', 'Пенза', 'Калининград', 'Тула',\n",
       "       'Саратов', 'Кемерово', 'Белгород', 'Барнаул', 'Чебоксары',\n",
       "       'Архангельск', 'Томск', 'Ярославль', 'Ульяновск', 'Хабаровск',\n",
       "       'Грозный', 'Ставрополь', 'Липецк', 'Новокузнецк', 'Якутск',\n",
       "       'УланУдэ', 'Сочи', 'Иваново', 'НижнийТагил', 'Смоленск',\n",
       "       'Волжский', 'Магнитогорск', 'Чита', 'Череповец', 'Саранск'],\n",
       "      dtype=object)"
      ]
     },
     "execution_count": 19,
     "metadata": {},
     "output_type": "execute_result"
    }
   ],
   "source": [
    "# получение уникальных значений \n",
    "# столбца 'city'\n",
    "\n",
    "df['city'].unique()"
   ]
  },
  {
   "cell_type": "code",
   "execution_count": 20,
   "id": "a20b4a36",
   "metadata": {},
   "outputs": [
    {
     "data": {
      "text/plain": [
       "array(['05 45-54', '06 55-64', '04 35-44', '02 16-24', '03 25-34',\n",
       "       '07 66 +', '01 до 16', '08 n/a'], dtype=object)"
      ]
     },
     "execution_count": 20,
     "metadata": {},
     "output_type": "execute_result"
    }
   ],
   "source": [
    "# получение уникальных значений \n",
    "# столбца 'age_segment'\n",
    "\n",
    "df['age_segment'].unique()"
   ]
  },
  {
   "cell_type": "code",
   "execution_count": 21,
   "id": "b1476016",
   "metadata": {},
   "outputs": [
    {
     "data": {
      "text/plain": [
       "array(['04 1-5', '08 20-25', '03 0.1-1', '05 5-10', '06 10-15',\n",
       "       '13 45-50', '07 15-20', '09 25-30', '12 40-45', '19 75-80',\n",
       "       '14 50-55', '21 85-90', '16 60-65', '18 70-75', '10 30-35',\n",
       "       '20 80-85', '24 100+', '11 35-40', '15 55-60', '22 90-95',\n",
       "       '17 65-70', '02 0.01-0.1', '23 95-100', '01 0-0.01', '01 0'],\n",
       "      dtype=object)"
      ]
     },
     "execution_count": 21,
     "metadata": {},
     "output_type": "execute_result"
    }
   ],
   "source": [
    "# получение уникальных значений \n",
    "# столбца 'traffic_segment'\n",
    "\n",
    "df['traffic_segment'].unique()"
   ]
  },
  {
   "cell_type": "code",
   "execution_count": 22,
   "id": "940fba4e",
   "metadata": {},
   "outputs": [
    {
     "data": {
      "text/plain": [
       "array(['08 36+', '06 13-24', '05 7-12', '04 4-6', '07 25-36', '02 2',\n",
       "       '03 3', '01 1'], dtype=object)"
      ]
     },
     "execution_count": 22,
     "metadata": {},
     "output_type": "execute_result"
    }
   ],
   "source": [
    "# получение уникальных значений \n",
    "# столбца 'lifetime_segment'\n",
    "\n",
    "df['lifetime_segment'].unique()"
   ]
  },
  {
   "cell_type": "code",
   "execution_count": 23,
   "id": "d9c11786",
   "metadata": {},
   "outputs": [
    {
     "data": {
      "text/plain": [
       "array([10,  6,  9,  2,  5,  8,  1,  4,  7,  3], dtype=int64)"
      ]
     },
     "execution_count": 23,
     "metadata": {},
     "output_type": "execute_result"
    }
   ],
   "source": [
    "# получение уникальных значений \n",
    "# столбца 'nps_score'\n",
    "\n",
    "df['nps_score'].unique()"
   ]
  },
  {
   "cell_type": "markdown",
   "id": "9e0fd9f7",
   "metadata": {},
   "source": [
    "Как мы видим, в данных отсутствуют явные и неявные дубликаты, формат данных также указан верный. Единственное есть пропущенные значения в столбцах `age` и `gender_segment`. Однако, не будем пока ничего менять и оставим как есть. Также мы заметили в столбце `lt_day` отрицательные и нулевые значения, поэтому далее необходимо обновить запрос по выгрузке данных и убрать подобные значения в столбце `lt_day`, а в столбцах `age_segment`, `traffic_segment` и `lifetime_segment` убрать номера, которые обозначают группы, и немного мешают восприятию других цифр, после сохранить выгруженные данные в файл для дальнейшего построения дашборда."
   ]
  },
  {
   "cell_type": "markdown",
   "id": "d3a5f57f",
   "metadata": {},
   "source": [
    "# 3. Выгрузка данных с обновлённым запросом с последующим сохранением в файл. <a id='intro2'></a>"
   ]
  },
  {
   "cell_type": "code",
   "execution_count": 24,
   "id": "ad9b690b",
   "metadata": {},
   "outputs": [],
   "source": [
    "# обновление запроса для\n",
    "# выгрузки данных из таблиц \n",
    "# в БД SQLite\n",
    "\n",
    "query = \"\"\"\n",
    "WITH\n",
    "i_1 AS (SELECT user_id,\n",
    "               lt_day,\n",
    "               CASE  \n",
    "               WHEN lt_day <= 365 THEN 'True'\n",
    "               WHEN lt_day > 365 THEN 'False'\n",
    "               END AS is_new,\n",
    "               age,\n",
    "               CASE \n",
    "               WHEN gender_segment = 1 THEN 'женщина'\n",
    "               WHEN gender_segment = 0 THEN 'мужчина'\n",
    "               END AS gender_segment\n",
    "        FROM user),\n",
    "i_2 AS (SELECT user_id,\n",
    "               nps_score,\n",
    "               CASE\n",
    "               WHEN nps_score BETWEEN 0 AND 6 THEN 'критики'\n",
    "               WHEN nps_score BETWEEN 7 AND 8 THEN 'нейтралы'\n",
    "               WHEN nps_score BETWEEN 9 AND 10 THEN 'сторонники'\n",
    "               END AS nps_group\n",
    "        FROM user)\n",
    "        \n",
    "SELECT i_1.user_id,\n",
    "       i_1.lt_day,\n",
    "       i_1.is_new,\n",
    "       i_1.age,\n",
    "       i_1.gender_segment,\n",
    "       u.os_name,\n",
    "       u.cpe_type_name,\n",
    "       l.country,\n",
    "       l.city,\n",
    "       substr(ag.title, 4) AS age_segment,\n",
    "       substr(ts.title, 4) AS traffic_segment,\n",
    "       substr(ls.title, 4) AS lifetime_segment,\n",
    "       i_2.nps_score,\n",
    "       i_2.nps_group\n",
    "FROM i_1\n",
    "INNER JOIN i_2 ON i_1.user_id = i_2.user_id\n",
    "INNER JOIN user AS u ON i_2.user_id = u.user_id\n",
    "INNER JOIN location AS l ON u.location_id = l.location_id\n",
    "INNER JOIN age_segment AS ag ON u.age_gr_id = ag.age_gr_id\n",
    "INNER JOIN traffic_segment AS ts ON u.tr_gr_id = ts.tr_gr_id\n",
    "INNER JOIN lifetime_segment AS ls ON u.lt_gr_id = ls.lt_gr_id\n",
    "WHERE i_1.lt_day > 0;\n",
    "\"\"\""
   ]
  },
  {
   "cell_type": "code",
   "execution_count": 25,
   "id": "3fd9c59d",
   "metadata": {},
   "outputs": [
    {
     "data": {
      "text/html": [
       "<div>\n",
       "<style scoped>\n",
       "    .dataframe tbody tr th:only-of-type {\n",
       "        vertical-align: middle;\n",
       "    }\n",
       "\n",
       "    .dataframe tbody tr th {\n",
       "        vertical-align: top;\n",
       "    }\n",
       "\n",
       "    .dataframe thead th {\n",
       "        text-align: right;\n",
       "    }\n",
       "</style>\n",
       "<table border=\"1\" class=\"dataframe\">\n",
       "  <thead>\n",
       "    <tr style=\"text-align: right;\">\n",
       "      <th></th>\n",
       "      <th>user_id</th>\n",
       "      <th>lt_day</th>\n",
       "      <th>is_new</th>\n",
       "      <th>age</th>\n",
       "      <th>gender_segment</th>\n",
       "      <th>os_name</th>\n",
       "      <th>cpe_type_name</th>\n",
       "      <th>country</th>\n",
       "      <th>city</th>\n",
       "      <th>age_segment</th>\n",
       "      <th>traffic_segment</th>\n",
       "      <th>lifetime_segment</th>\n",
       "      <th>nps_score</th>\n",
       "      <th>nps_group</th>\n",
       "    </tr>\n",
       "  </thead>\n",
       "  <tbody>\n",
       "    <tr>\n",
       "      <th>0</th>\n",
       "      <td>A001A2</td>\n",
       "      <td>2320</td>\n",
       "      <td>False</td>\n",
       "      <td>45.0</td>\n",
       "      <td>женщина</td>\n",
       "      <td>ANDROID</td>\n",
       "      <td>SMARTPHONE</td>\n",
       "      <td>Россия</td>\n",
       "      <td>Уфа</td>\n",
       "      <td>45-54</td>\n",
       "      <td>1-5</td>\n",
       "      <td>36+</td>\n",
       "      <td>10</td>\n",
       "      <td>сторонники</td>\n",
       "    </tr>\n",
       "    <tr>\n",
       "      <th>1</th>\n",
       "      <td>A001WF</td>\n",
       "      <td>2344</td>\n",
       "      <td>False</td>\n",
       "      <td>53.0</td>\n",
       "      <td>мужчина</td>\n",
       "      <td>ANDROID</td>\n",
       "      <td>SMARTPHONE</td>\n",
       "      <td>Россия</td>\n",
       "      <td>Киров</td>\n",
       "      <td>45-54</td>\n",
       "      <td>1-5</td>\n",
       "      <td>36+</td>\n",
       "      <td>10</td>\n",
       "      <td>сторонники</td>\n",
       "    </tr>\n",
       "    <tr>\n",
       "      <th>2</th>\n",
       "      <td>A003Q7</td>\n",
       "      <td>467</td>\n",
       "      <td>False</td>\n",
       "      <td>57.0</td>\n",
       "      <td>мужчина</td>\n",
       "      <td>ANDROID</td>\n",
       "      <td>SMARTPHONE</td>\n",
       "      <td>Россия</td>\n",
       "      <td>Москва</td>\n",
       "      <td>55-64</td>\n",
       "      <td>20-25</td>\n",
       "      <td>13-24</td>\n",
       "      <td>10</td>\n",
       "      <td>сторонники</td>\n",
       "    </tr>\n",
       "    <tr>\n",
       "      <th>3</th>\n",
       "      <td>A004TB</td>\n",
       "      <td>4190</td>\n",
       "      <td>False</td>\n",
       "      <td>44.0</td>\n",
       "      <td>женщина</td>\n",
       "      <td>IOS</td>\n",
       "      <td>SMARTPHONE</td>\n",
       "      <td>Россия</td>\n",
       "      <td>РостовнаДону</td>\n",
       "      <td>35-44</td>\n",
       "      <td>0.1-1</td>\n",
       "      <td>36+</td>\n",
       "      <td>10</td>\n",
       "      <td>сторонники</td>\n",
       "    </tr>\n",
       "    <tr>\n",
       "      <th>4</th>\n",
       "      <td>A004XT</td>\n",
       "      <td>1163</td>\n",
       "      <td>False</td>\n",
       "      <td>24.0</td>\n",
       "      <td>мужчина</td>\n",
       "      <td>ANDROID</td>\n",
       "      <td>SMARTPHONE</td>\n",
       "      <td>Россия</td>\n",
       "      <td>Рязань</td>\n",
       "      <td>16-24</td>\n",
       "      <td>5-10</td>\n",
       "      <td>36+</td>\n",
       "      <td>10</td>\n",
       "      <td>сторонники</td>\n",
       "    </tr>\n",
       "    <tr>\n",
       "      <th>5</th>\n",
       "      <td>A005O0</td>\n",
       "      <td>5501</td>\n",
       "      <td>False</td>\n",
       "      <td>42.0</td>\n",
       "      <td>женщина</td>\n",
       "      <td>ANDROID</td>\n",
       "      <td>SMARTPHONE</td>\n",
       "      <td>Россия</td>\n",
       "      <td>Омск</td>\n",
       "      <td>35-44</td>\n",
       "      <td>5-10</td>\n",
       "      <td>36+</td>\n",
       "      <td>6</td>\n",
       "      <td>критики</td>\n",
       "    </tr>\n",
       "    <tr>\n",
       "      <th>6</th>\n",
       "      <td>A0061R</td>\n",
       "      <td>1236</td>\n",
       "      <td>False</td>\n",
       "      <td>45.0</td>\n",
       "      <td>мужчина</td>\n",
       "      <td>ANDROID</td>\n",
       "      <td>SMARTPHONE</td>\n",
       "      <td>Россия</td>\n",
       "      <td>Уфа</td>\n",
       "      <td>45-54</td>\n",
       "      <td>10-15</td>\n",
       "      <td>36+</td>\n",
       "      <td>10</td>\n",
       "      <td>сторонники</td>\n",
       "    </tr>\n",
       "    <tr>\n",
       "      <th>7</th>\n",
       "      <td>A009KS</td>\n",
       "      <td>313</td>\n",
       "      <td>True</td>\n",
       "      <td>35.0</td>\n",
       "      <td>мужчина</td>\n",
       "      <td>ANDROID</td>\n",
       "      <td>SMARTPHONE</td>\n",
       "      <td>Россия</td>\n",
       "      <td>Москва</td>\n",
       "      <td>35-44</td>\n",
       "      <td>45-50</td>\n",
       "      <td>7-12</td>\n",
       "      <td>10</td>\n",
       "      <td>сторонники</td>\n",
       "    </tr>\n",
       "    <tr>\n",
       "      <th>8</th>\n",
       "      <td>A00AES</td>\n",
       "      <td>3238</td>\n",
       "      <td>False</td>\n",
       "      <td>36.0</td>\n",
       "      <td>женщина</td>\n",
       "      <td>ANDROID</td>\n",
       "      <td>SMARTPHONE</td>\n",
       "      <td>Россия</td>\n",
       "      <td>СанктПетербург</td>\n",
       "      <td>35-44</td>\n",
       "      <td>1-5</td>\n",
       "      <td>36+</td>\n",
       "      <td>10</td>\n",
       "      <td>сторонники</td>\n",
       "    </tr>\n",
       "    <tr>\n",
       "      <th>9</th>\n",
       "      <td>A00F70</td>\n",
       "      <td>4479</td>\n",
       "      <td>False</td>\n",
       "      <td>54.0</td>\n",
       "      <td>женщина</td>\n",
       "      <td>ANDROID</td>\n",
       "      <td>SMARTPHONE</td>\n",
       "      <td>Россия</td>\n",
       "      <td>Волгоград</td>\n",
       "      <td>45-54</td>\n",
       "      <td>15-20</td>\n",
       "      <td>36+</td>\n",
       "      <td>9</td>\n",
       "      <td>сторонники</td>\n",
       "    </tr>\n",
       "  </tbody>\n",
       "</table>\n",
       "</div>"
      ],
      "text/plain": [
       "  user_id  lt_day is_new   age gender_segment  os_name cpe_type_name country  \\\n",
       "0  A001A2    2320  False  45.0        женщина  ANDROID    SMARTPHONE  Россия   \n",
       "1  A001WF    2344  False  53.0        мужчина  ANDROID    SMARTPHONE  Россия   \n",
       "2  A003Q7     467  False  57.0        мужчина  ANDROID    SMARTPHONE  Россия   \n",
       "3  A004TB    4190  False  44.0        женщина      IOS    SMARTPHONE  Россия   \n",
       "4  A004XT    1163  False  24.0        мужчина  ANDROID    SMARTPHONE  Россия   \n",
       "5  A005O0    5501  False  42.0        женщина  ANDROID    SMARTPHONE  Россия   \n",
       "6  A0061R    1236  False  45.0        мужчина  ANDROID    SMARTPHONE  Россия   \n",
       "7  A009KS     313   True  35.0        мужчина  ANDROID    SMARTPHONE  Россия   \n",
       "8  A00AES    3238  False  36.0        женщина  ANDROID    SMARTPHONE  Россия   \n",
       "9  A00F70    4479  False  54.0        женщина  ANDROID    SMARTPHONE  Россия   \n",
       "\n",
       "             city age_segment traffic_segment lifetime_segment  nps_score  \\\n",
       "0             Уфа       45-54             1-5              36+         10   \n",
       "1           Киров       45-54             1-5              36+         10   \n",
       "2          Москва       55-64           20-25            13-24         10   \n",
       "3    РостовнаДону       35-44           0.1-1              36+         10   \n",
       "4          Рязань       16-24            5-10              36+         10   \n",
       "5            Омск       35-44            5-10              36+          6   \n",
       "6             Уфа       45-54           10-15              36+         10   \n",
       "7          Москва       35-44           45-50             7-12         10   \n",
       "8  СанктПетербург       35-44             1-5              36+         10   \n",
       "9       Волгоград       45-54           15-20              36+          9   \n",
       "\n",
       "    nps_group  \n",
       "0  сторонники  \n",
       "1  сторонники  \n",
       "2  сторонники  \n",
       "3  сторонники  \n",
       "4  сторонники  \n",
       "5     критики  \n",
       "6  сторонники  \n",
       "7  сторонники  \n",
       "8  сторонники  \n",
       "9  сторонники  "
      ]
     },
     "execution_count": 25,
     "metadata": {},
     "output_type": "execute_result"
    }
   ],
   "source": [
    "# чтение запроса с \n",
    "# сохранением в переменную df и\n",
    "# просмотр первых 10 значений\n",
    "\n",
    "df = pd.read_sql(query, engine)\n",
    "df.head(10)"
   ]
  },
  {
   "cell_type": "code",
   "execution_count": 26,
   "id": "17c6a6a4",
   "metadata": {},
   "outputs": [
    {
     "name": "stdout",
     "output_type": "stream",
     "text": [
      "<class 'pandas.core.frame.DataFrame'>\n",
      "RangeIndex: 502476 entries, 0 to 502475\n",
      "Data columns (total 14 columns):\n",
      " #   Column            Non-Null Count   Dtype  \n",
      "---  ------            --------------   -----  \n",
      " 0   user_id           502476 non-null  object \n",
      " 1   lt_day            502476 non-null  int64  \n",
      " 2   is_new            502476 non-null  object \n",
      " 3   age               501939 non-null  float64\n",
      " 4   gender_segment    501190 non-null  object \n",
      " 5   os_name           502476 non-null  object \n",
      " 6   cpe_type_name     502476 non-null  object \n",
      " 7   country           502476 non-null  object \n",
      " 8   city              502476 non-null  object \n",
      " 9   age_segment       502476 non-null  object \n",
      " 10  traffic_segment   502476 non-null  object \n",
      " 11  lifetime_segment  502476 non-null  object \n",
      " 12  nps_score         502476 non-null  int64  \n",
      " 13  nps_group         502476 non-null  object \n",
      "dtypes: float64(1), int64(2), object(11)\n",
      "memory usage: 53.7+ MB\n"
     ]
    }
   ],
   "source": [
    "# получение общей информации о данных\n",
    "# из таблицы df\n",
    "\n",
    "df.info()"
   ]
  },
  {
   "cell_type": "code",
   "execution_count": 27,
   "id": "f888b66f",
   "metadata": {},
   "outputs": [],
   "source": [
    "# сохранение таблицы df в \n",
    "# файл 'telecomm_csi_tableau.csv'\n",
    "\n",
    "df.to_csv('telecomm_csi_tableau.csv', index=False)"
   ]
  },
  {
   "cell_type": "markdown",
   "id": "38ddc54a",
   "metadata": {},
   "source": [
    "# 4. Ссылка на дашборд на сайте Tableau Public: <a id='intro3'></a>"
   ]
  },
  {
   "cell_type": "markdown",
   "id": "e77a6f9c",
   "metadata": {},
   "source": [
    "https://public.tableau.com/app/profile/maya4053/viz/_16502927414490/sheet0_1?publish=yes"
   ]
  },
  {
   "cell_type": "markdown",
   "id": "c10145fc",
   "metadata": {},
   "source": [
    "# 5. Ссылка на pdf-файл с презентацией: <a id='intro4'></a>"
   ]
  },
  {
   "cell_type": "markdown",
   "id": "20932763",
   "metadata": {},
   "source": [
    "https://drive.google.com/file/d/1zSNvFYOU6eKtlWApLghDpwKAcf-P9b3x/view?usp=sharing"
   ]
  }
 ],
 "metadata": {
  "ExecuteTimeLog": [
   {
    "duration": 752,
    "start_time": "2021-10-03T17:40:52.731Z"
   },
   {
    "duration": 20,
    "start_time": "2021-10-03T17:40:53.486Z"
   },
   {
    "duration": 4,
    "start_time": "2021-10-03T17:41:04.638Z"
   },
   {
    "duration": 461,
    "start_time": "2021-10-03T17:41:04.912Z"
   },
   {
    "duration": 284,
    "start_time": "2021-10-03T17:41:05.376Z"
   },
   {
    "duration": 574,
    "start_time": "2021-10-06T07:55:05.029Z"
   },
   {
    "duration": 6,
    "start_time": "2021-10-06T07:55:05.605Z"
   },
   {
    "duration": 3,
    "start_time": "2021-10-06T07:55:14.685Z"
   },
   {
    "duration": 406,
    "start_time": "2021-10-06T07:55:15.522Z"
   },
   {
    "duration": 67,
    "start_time": "2021-10-06T07:55:15.929Z"
   },
   {
    "duration": 840,
    "start_time": "2021-10-07T07:54:04.647Z"
   },
   {
    "duration": 10,
    "start_time": "2021-10-07T07:54:05.490Z"
   },
   {
    "duration": 4,
    "start_time": "2021-10-07T07:54:05.544Z"
   },
   {
    "duration": 391,
    "start_time": "2021-10-07T07:54:06.237Z"
   },
   {
    "duration": 293,
    "start_time": "2021-10-07T07:54:06.654Z"
   },
   {
    "duration": 547,
    "start_time": "2022-04-15T14:20:04.374Z"
   },
   {
    "duration": 10,
    "start_time": "2022-04-15T14:20:07.490Z"
   },
   {
    "duration": 3,
    "start_time": "2022-04-15T14:34:19.979Z"
   },
   {
    "duration": 377,
    "start_time": "2022-04-15T14:34:28.521Z"
   },
   {
    "duration": 3,
    "start_time": "2022-04-15T14:36:09.081Z"
   },
   {
    "duration": 305,
    "start_time": "2022-04-15T14:36:11.675Z"
   },
   {
    "duration": 3,
    "start_time": "2022-04-15T14:36:21.163Z"
   },
   {
    "duration": 291,
    "start_time": "2022-04-15T14:36:23.730Z"
   },
   {
    "duration": 3,
    "start_time": "2022-04-15T14:36:36.547Z"
   },
   {
    "duration": 296,
    "start_time": "2022-04-15T14:36:38.195Z"
   },
   {
    "duration": 3,
    "start_time": "2022-04-15T14:37:00.963Z"
   },
   {
    "duration": 298,
    "start_time": "2022-04-15T14:37:03.043Z"
   },
   {
    "duration": 3,
    "start_time": "2022-04-15T14:37:57.579Z"
   },
   {
    "duration": 1938,
    "start_time": "2022-04-15T14:37:59.051Z"
   },
   {
    "duration": 2,
    "start_time": "2022-04-15T14:38:12.149Z"
   },
   {
    "duration": 1824,
    "start_time": "2022-04-15T14:38:14.081Z"
   },
   {
    "duration": 3,
    "start_time": "2022-04-15T14:39:00.314Z"
   },
   {
    "duration": 2029,
    "start_time": "2022-04-15T14:39:02.171Z"
   },
   {
    "duration": 3,
    "start_time": "2022-04-15T14:39:17.362Z"
   },
   {
    "duration": 1897,
    "start_time": "2022-04-15T14:39:19.361Z"
   },
   {
    "duration": 3,
    "start_time": "2022-04-15T14:39:58.826Z"
   },
   {
    "duration": 2120,
    "start_time": "2022-04-15T14:40:00.683Z"
   },
   {
    "duration": 3,
    "start_time": "2022-04-15T14:40:31.507Z"
   },
   {
    "duration": 227,
    "start_time": "2022-04-15T14:40:33.339Z"
   },
   {
    "duration": 3,
    "start_time": "2022-04-15T14:40:50.235Z"
   },
   {
    "duration": 214,
    "start_time": "2022-04-15T14:40:51.648Z"
   },
   {
    "duration": 218,
    "start_time": "2022-04-15T14:40:54.483Z"
   },
   {
    "duration": 3,
    "start_time": "2022-04-15T14:40:56.426Z"
   },
   {
    "duration": 215,
    "start_time": "2022-04-15T14:40:58.120Z"
   },
   {
    "duration": 3,
    "start_time": "2022-04-15T14:41:00.414Z"
   },
   {
    "duration": 214,
    "start_time": "2022-04-15T14:41:02.619Z"
   },
   {
    "duration": 3,
    "start_time": "2022-04-15T14:41:10.994Z"
   },
   {
    "duration": 2013,
    "start_time": "2022-04-15T14:41:12.660Z"
   },
   {
    "duration": 3,
    "start_time": "2022-04-15T14:42:56.371Z"
   },
   {
    "duration": 212,
    "start_time": "2022-04-15T14:42:57.843Z"
   },
   {
    "duration": 3,
    "start_time": "2022-04-15T14:43:10.538Z"
   },
   {
    "duration": 216,
    "start_time": "2022-04-15T14:43:12.435Z"
   },
   {
    "duration": 3,
    "start_time": "2022-04-15T14:44:07.331Z"
   },
   {
    "duration": 1864,
    "start_time": "2022-04-15T14:44:09.444Z"
   },
   {
    "duration": 1851,
    "start_time": "2022-04-15T14:44:31.067Z"
   },
   {
    "duration": 3,
    "start_time": "2022-04-15T14:44:48.228Z"
   },
   {
    "duration": 226,
    "start_time": "2022-04-15T14:44:50.091Z"
   },
   {
    "duration": 3,
    "start_time": "2022-04-15T14:46:02.370Z"
   },
   {
    "duration": 2006,
    "start_time": "2022-04-15T14:46:04.300Z"
   },
   {
    "duration": 3,
    "start_time": "2022-04-15T14:49:51.666Z"
   },
   {
    "duration": 215,
    "start_time": "2022-04-15T14:49:53.411Z"
   },
   {
    "duration": 2,
    "start_time": "2022-04-15T14:49:58.379Z"
   },
   {
    "duration": 242,
    "start_time": "2022-04-15T14:49:59.884Z"
   },
   {
    "duration": 2,
    "start_time": "2022-04-15T14:50:06.091Z"
   },
   {
    "duration": 213,
    "start_time": "2022-04-15T14:50:07.908Z"
   },
   {
    "duration": 3,
    "start_time": "2022-04-15T14:50:11.998Z"
   },
   {
    "duration": 215,
    "start_time": "2022-04-15T14:50:13.508Z"
   },
   {
    "duration": 3,
    "start_time": "2022-04-15T14:50:18.922Z"
   },
   {
    "duration": 2857,
    "start_time": "2022-04-15T14:50:21.667Z"
   },
   {
    "duration": 2,
    "start_time": "2022-04-15T14:51:30.692Z"
   },
   {
    "duration": 320,
    "start_time": "2022-04-15T14:51:32.395Z"
   },
   {
    "duration": 3,
    "start_time": "2022-04-15T14:53:34.699Z"
   },
   {
    "duration": 2045,
    "start_time": "2022-04-15T14:53:36.292Z"
   },
   {
    "duration": 2,
    "start_time": "2022-04-15T14:53:59.180Z"
   },
   {
    "duration": 2118,
    "start_time": "2022-04-15T14:54:02.531Z"
   },
   {
    "duration": 3,
    "start_time": "2022-04-15T14:55:03.171Z"
   },
   {
    "duration": 2161,
    "start_time": "2022-04-15T14:55:05.218Z"
   },
   {
    "duration": 490,
    "start_time": "2022-04-15T14:55:26.914Z"
   },
   {
    "duration": 9,
    "start_time": "2022-04-15T14:55:27.406Z"
   },
   {
    "duration": 3,
    "start_time": "2022-04-15T14:55:27.417Z"
   },
   {
    "duration": 1992,
    "start_time": "2022-04-15T14:55:27.421Z"
   },
   {
    "duration": 1097,
    "start_time": "2022-04-15T14:55:29.415Z"
   },
   {
    "duration": 3,
    "start_time": "2022-04-15T15:01:53.738Z"
   },
   {
    "duration": 3,
    "start_time": "2022-04-15T15:01:57.433Z"
   },
   {
    "duration": 3,
    "start_time": "2022-04-15T15:01:58.801Z"
   },
   {
    "duration": 3,
    "start_time": "2022-04-15T15:02:00.224Z"
   },
   {
    "duration": 1956,
    "start_time": "2022-04-15T15:02:02.798Z"
   },
   {
    "duration": 2047,
    "start_time": "2022-04-15T15:02:26.144Z"
   },
   {
    "duration": 649,
    "start_time": "2022-04-16T13:22:08.591Z"
   },
   {
    "duration": 26,
    "start_time": "2022-04-16T13:22:10.946Z"
   },
   {
    "duration": 4,
    "start_time": "2022-04-16T13:22:14.507Z"
   },
   {
    "duration": 407,
    "start_time": "2022-04-16T13:22:16.811Z"
   },
   {
    "duration": 5,
    "start_time": "2022-04-16T13:22:45.158Z"
   },
   {
    "duration": 292,
    "start_time": "2022-04-16T13:22:47.451Z"
   },
   {
    "duration": 4,
    "start_time": "2022-04-16T13:25:41.191Z"
   },
   {
    "duration": 238,
    "start_time": "2022-04-16T13:25:42.926Z"
   },
   {
    "duration": 4,
    "start_time": "2022-04-16T13:28:33.095Z"
   },
   {
    "duration": 234,
    "start_time": "2022-04-16T13:28:34.755Z"
   },
   {
    "duration": 4,
    "start_time": "2022-04-16T13:29:21.886Z"
   },
   {
    "duration": 238,
    "start_time": "2022-04-16T13:29:23.722Z"
   },
   {
    "duration": 5,
    "start_time": "2022-04-16T13:30:00.678Z"
   },
   {
    "duration": 256,
    "start_time": "2022-04-16T13:30:02.250Z"
   },
   {
    "duration": 5,
    "start_time": "2022-04-16T13:35:12.521Z"
   },
   {
    "duration": 11071,
    "start_time": "2022-04-16T13:35:16.130Z"
   },
   {
    "duration": 3,
    "start_time": "2022-04-16T13:39:56.044Z"
   },
   {
    "duration": 210,
    "start_time": "2022-04-16T13:39:57.979Z"
   },
   {
    "duration": 11,
    "start_time": "2022-04-16T13:41:00.898Z"
   },
   {
    "duration": 6,
    "start_time": "2022-04-16T13:41:07.464Z"
   },
   {
    "duration": 10,
    "start_time": "2022-04-16T13:42:15.478Z"
   },
   {
    "duration": 220,
    "start_time": "2022-04-16T13:42:28.810Z"
   },
   {
    "duration": 8,
    "start_time": "2022-04-16T13:43:00.186Z"
   },
   {
    "duration": 4,
    "start_time": "2022-04-16T13:44:50.102Z"
   },
   {
    "duration": 210,
    "start_time": "2022-04-16T13:44:52.003Z"
   },
   {
    "duration": 8,
    "start_time": "2022-04-16T13:45:16.282Z"
   },
   {
    "duration": 5712,
    "start_time": "2022-04-16T13:45:16.367Z"
   },
   {
    "duration": 4,
    "start_time": "2022-04-16T13:46:23.218Z"
   },
   {
    "duration": 205,
    "start_time": "2022-04-16T13:46:25.270Z"
   },
   {
    "duration": 8,
    "start_time": "2022-04-16T13:47:29.762Z"
   },
   {
    "duration": 521,
    "start_time": "2022-04-16T13:48:51.618Z"
   },
   {
    "duration": 3,
    "start_time": "2022-04-16T13:51:40.218Z"
   },
   {
    "duration": 2252,
    "start_time": "2022-04-16T13:51:41.858Z"
   },
   {
    "duration": 2520,
    "start_time": "2022-04-16T13:51:57.438Z"
   },
   {
    "duration": 112,
    "start_time": "2022-04-16T13:52:09.414Z"
   },
   {
    "duration": 4,
    "start_time": "2022-04-16T13:52:30.530Z"
   },
   {
    "duration": 4674,
    "start_time": "2022-04-16T13:52:32.514Z"
   },
   {
    "duration": 175,
    "start_time": "2022-04-16T13:52:41.966Z"
   },
   {
    "duration": 3,
    "start_time": "2022-04-16T21:44:17.382Z"
   },
   {
    "duration": 4,
    "start_time": "2022-04-16T21:44:19.249Z"
   },
   {
    "duration": 4,
    "start_time": "2022-04-16T21:44:22.626Z"
   },
   {
    "duration": 8857,
    "start_time": "2022-04-16T21:44:26.393Z"
   },
   {
    "duration": 616,
    "start_time": "2022-04-16T21:44:51.453Z"
   },
   {
    "duration": 12,
    "start_time": "2022-04-16T21:44:52.072Z"
   },
   {
    "duration": 4,
    "start_time": "2022-04-16T21:45:28.277Z"
   },
   {
    "duration": 9063,
    "start_time": "2022-04-16T21:45:30.003Z"
   },
   {
    "duration": 628,
    "start_time": "2022-04-16T21:45:43.277Z"
   },
   {
    "duration": 167,
    "start_time": "2022-04-16T22:02:20.605Z"
   },
   {
    "duration": 3,
    "start_time": "2022-04-16T22:02:20.781Z"
   },
   {
    "duration": 142,
    "start_time": "2022-04-16T22:02:47.874Z"
   },
   {
    "duration": 130,
    "start_time": "2022-04-16T22:02:58.794Z"
   },
   {
    "duration": 107,
    "start_time": "2022-04-16T22:03:06.058Z"
   },
   {
    "duration": 532,
    "start_time": "2022-04-17T10:45:30.601Z"
   },
   {
    "duration": 9,
    "start_time": "2022-04-17T10:45:32.462Z"
   },
   {
    "duration": 4,
    "start_time": "2022-04-17T10:45:33.954Z"
   },
   {
    "duration": 6581,
    "start_time": "2022-04-17T10:45:36.621Z"
   },
   {
    "duration": 393,
    "start_time": "2022-04-17T10:45:53.529Z"
   },
   {
    "duration": 3061,
    "start_time": "2022-04-17T10:45:53.925Z"
   },
   {
    "duration": 3,
    "start_time": "2022-04-17T10:47:16.493Z"
   },
   {
    "duration": 5875,
    "start_time": "2022-04-17T10:47:18.553Z"
   },
   {
    "duration": 4,
    "start_time": "2022-04-17T11:00:55.907Z"
   },
   {
    "duration": 301,
    "start_time": "2022-04-17T11:00:57.878Z"
   },
   {
    "duration": 3,
    "start_time": "2022-04-17T11:02:43.102Z"
   },
   {
    "duration": 6781,
    "start_time": "2022-04-17T11:02:44.869Z"
   },
   {
    "duration": 6,
    "start_time": "2022-04-17T11:08:06.716Z"
   },
   {
    "duration": 6556,
    "start_time": "2022-04-17T11:08:08.625Z"
   },
   {
    "duration": 445,
    "start_time": "2022-04-17T11:08:18.361Z"
   },
   {
    "duration": 3,
    "start_time": "2022-04-17T11:09:25.101Z"
   },
   {
    "duration": 6364,
    "start_time": "2022-04-17T11:09:27.021Z"
   },
   {
    "duration": 464,
    "start_time": "2022-04-17T11:09:36.218Z"
   },
   {
    "duration": 3,
    "start_time": "2022-04-17T11:17:53.001Z"
   },
   {
    "duration": 171,
    "start_time": "2022-04-17T11:17:54.785Z"
   },
   {
    "duration": 4,
    "start_time": "2022-04-17T11:18:35.584Z"
   },
   {
    "duration": 156,
    "start_time": "2022-04-17T11:18:37.936Z"
   },
   {
    "duration": 3,
    "start_time": "2022-04-17T11:19:10.486Z"
   },
   {
    "duration": 6833,
    "start_time": "2022-04-17T11:19:12.329Z"
   },
   {
    "duration": 4,
    "start_time": "2022-04-17T11:20:03.137Z"
   },
   {
    "duration": 6802,
    "start_time": "2022-04-17T11:20:06.573Z"
   },
   {
    "duration": 531,
    "start_time": "2022-04-17T11:20:15.981Z"
   },
   {
    "duration": 3,
    "start_time": "2022-04-17T11:20:50.845Z"
   },
   {
    "duration": 50,
    "start_time": "2022-04-17T11:21:10.826Z"
   },
   {
    "duration": 0,
    "start_time": "2022-04-17T11:21:10.878Z"
   },
   {
    "duration": 542,
    "start_time": "2022-04-17T11:21:23.333Z"
   },
   {
    "duration": 10,
    "start_time": "2022-04-17T11:21:25.305Z"
   },
   {
    "duration": 4,
    "start_time": "2022-04-17T11:21:28.101Z"
   },
   {
    "duration": 8790,
    "start_time": "2022-04-17T11:21:30.092Z"
   },
   {
    "duration": 542,
    "start_time": "2022-04-17T11:21:43.549Z"
   },
   {
    "duration": 3,
    "start_time": "2022-04-17T11:22:00.145Z"
   },
   {
    "duration": 6277,
    "start_time": "2022-04-17T11:22:02.421Z"
   },
   {
    "duration": 520,
    "start_time": "2022-04-17T11:22:16.349Z"
   },
   {
    "duration": 4,
    "start_time": "2022-04-17T11:23:05.345Z"
   },
   {
    "duration": 6496,
    "start_time": "2022-04-17T11:23:07.985Z"
   },
   {
    "duration": 3,
    "start_time": "2022-04-17T11:24:40.549Z"
   },
   {
    "duration": 6164,
    "start_time": "2022-04-17T11:24:42.477Z"
   },
   {
    "duration": 494,
    "start_time": "2022-04-17T11:25:01.978Z"
   },
   {
    "duration": 3,
    "start_time": "2022-04-17T11:28:11.685Z"
   },
   {
    "duration": 263,
    "start_time": "2022-04-17T11:28:14.557Z"
   },
   {
    "duration": 3,
    "start_time": "2022-04-17T11:28:39.770Z"
   },
   {
    "duration": 6088,
    "start_time": "2022-04-17T11:28:41.817Z"
   },
   {
    "duration": 462,
    "start_time": "2022-04-17T11:28:51.408Z"
   },
   {
    "duration": 3,
    "start_time": "2022-04-17T11:29:18.553Z"
   },
   {
    "duration": 6196,
    "start_time": "2022-04-17T11:29:20.105Z"
   },
   {
    "duration": 464,
    "start_time": "2022-04-17T11:29:32.245Z"
   },
   {
    "duration": 4,
    "start_time": "2022-04-17T11:29:45.885Z"
   },
   {
    "duration": 5931,
    "start_time": "2022-04-17T11:29:48.785Z"
   },
   {
    "duration": 3,
    "start_time": "2022-04-17T11:30:07.996Z"
   },
   {
    "duration": 533,
    "start_time": "2022-04-17T11:30:25.844Z"
   },
   {
    "duration": 10,
    "start_time": "2022-04-17T11:30:26.379Z"
   },
   {
    "duration": 4,
    "start_time": "2022-04-17T11:30:26.391Z"
   },
   {
    "duration": 7171,
    "start_time": "2022-04-17T11:30:26.407Z"
   },
   {
    "duration": 547,
    "start_time": "2022-04-17T11:30:33.579Z"
   },
   {
    "duration": 3620,
    "start_time": "2022-04-17T11:30:34.128Z"
   },
   {
    "duration": 3,
    "start_time": "2022-04-17T11:32:21.220Z"
   },
   {
    "duration": 6188,
    "start_time": "2022-04-17T11:32:21.309Z"
   },
   {
    "duration": 3,
    "start_time": "2022-04-17T11:32:27.814Z"
   },
   {
    "duration": 4,
    "start_time": "2022-04-17T11:32:29.881Z"
   },
   {
    "duration": 6070,
    "start_time": "2022-04-17T11:32:32.005Z"
   },
   {
    "duration": 72,
    "start_time": "2022-04-17T11:35:13.494Z"
   },
   {
    "duration": 2,
    "start_time": "2022-04-17T11:35:15.918Z"
   },
   {
    "duration": 1985,
    "start_time": "2022-04-17T11:35:18.334Z"
   },
   {
    "duration": 3,
    "start_time": "2022-04-17T11:45:39.996Z"
   },
   {
    "duration": 1795,
    "start_time": "2022-04-17T11:45:42.376Z"
   },
   {
    "duration": 3,
    "start_time": "2022-04-17T11:46:05.972Z"
   },
   {
    "duration": 1792,
    "start_time": "2022-04-17T11:46:07.807Z"
   },
   {
    "duration": 4,
    "start_time": "2022-04-17T11:50:46.118Z"
   },
   {
    "duration": 6237,
    "start_time": "2022-04-17T11:50:47.844Z"
   },
   {
    "duration": 403,
    "start_time": "2022-04-17T11:51:01.020Z"
   },
   {
    "duration": 3,
    "start_time": "2022-04-17T11:51:15.998Z"
   },
   {
    "duration": 6205,
    "start_time": "2022-04-17T11:51:18.268Z"
   },
   {
    "duration": 492,
    "start_time": "2022-04-17T11:51:36.945Z"
   },
   {
    "duration": 3,
    "start_time": "2022-04-17T11:53:18.176Z"
   },
   {
    "duration": 6125,
    "start_time": "2022-04-17T11:53:20.146Z"
   },
   {
    "duration": 474,
    "start_time": "2022-04-17T11:53:29.553Z"
   },
   {
    "duration": 3,
    "start_time": "2022-04-17T11:53:30.028Z"
   },
   {
    "duration": 4,
    "start_time": "2022-04-17T11:53:43.503Z"
   },
   {
    "duration": 9,
    "start_time": "2022-04-17T12:02:59.160Z"
   },
   {
    "duration": 542,
    "start_time": "2022-04-17T12:03:05.712Z"
   },
   {
    "duration": 9,
    "start_time": "2022-04-17T12:03:06.256Z"
   },
   {
    "duration": 3,
    "start_time": "2022-04-17T12:03:06.267Z"
   },
   {
    "duration": 8649,
    "start_time": "2022-04-17T12:03:06.273Z"
   },
   {
    "duration": 557,
    "start_time": "2022-04-17T12:03:14.923Z"
   },
   {
    "duration": 3,
    "start_time": "2022-04-17T12:03:15.481Z"
   },
   {
    "duration": 1913,
    "start_time": "2022-04-17T12:03:15.486Z"
   },
   {
    "duration": 3589,
    "start_time": "2022-04-17T12:03:17.401Z"
   },
   {
    "duration": 3,
    "start_time": "2022-04-17T12:03:56.474Z"
   },
   {
    "duration": 6075,
    "start_time": "2022-04-17T12:03:58.550Z"
   },
   {
    "duration": 4,
    "start_time": "2022-04-17T12:04:25.214Z"
   },
   {
    "duration": 6112,
    "start_time": "2022-04-17T12:04:27.065Z"
   },
   {
    "duration": 3,
    "start_time": "2022-04-17T12:05:59.566Z"
   },
   {
    "duration": 6122,
    "start_time": "2022-04-17T12:06:01.372Z"
   },
   {
    "duration": 474,
    "start_time": "2022-04-17T12:06:13.108Z"
   },
   {
    "duration": 4,
    "start_time": "2022-04-17T12:10:26.694Z"
   },
   {
    "duration": 6267,
    "start_time": "2022-04-17T12:10:29.266Z"
   },
   {
    "duration": 490,
    "start_time": "2022-04-17T12:10:38.643Z"
   },
   {
    "duration": 3,
    "start_time": "2022-04-17T12:15:22.158Z"
   },
   {
    "duration": 245,
    "start_time": "2022-04-17T12:15:24.132Z"
   },
   {
    "duration": 3,
    "start_time": "2022-04-17T12:15:44.305Z"
   },
   {
    "duration": 158,
    "start_time": "2022-04-17T12:15:46.080Z"
   },
   {
    "duration": 4,
    "start_time": "2022-04-17T12:15:56.837Z"
   },
   {
    "duration": 6069,
    "start_time": "2022-04-17T12:15:58.605Z"
   },
   {
    "duration": 4,
    "start_time": "2022-04-17T12:18:26.416Z"
   },
   {
    "duration": 6181,
    "start_time": "2022-04-17T12:18:27.861Z"
   },
   {
    "duration": 456,
    "start_time": "2022-04-17T12:18:40.637Z"
   },
   {
    "duration": 4,
    "start_time": "2022-04-17T12:19:01.161Z"
   },
   {
    "duration": 593,
    "start_time": "2022-04-17T12:19:22.314Z"
   },
   {
    "duration": 10,
    "start_time": "2022-04-17T12:19:22.910Z"
   },
   {
    "duration": 4,
    "start_time": "2022-04-17T12:19:22.922Z"
   },
   {
    "duration": 7121,
    "start_time": "2022-04-17T12:19:22.928Z"
   },
   {
    "duration": 555,
    "start_time": "2022-04-17T12:19:30.052Z"
   },
   {
    "duration": 3,
    "start_time": "2022-04-17T12:19:30.609Z"
   },
   {
    "duration": 1926,
    "start_time": "2022-04-17T12:19:30.614Z"
   },
   {
    "duration": 3587,
    "start_time": "2022-04-17T12:19:32.541Z"
   },
   {
    "duration": 3,
    "start_time": "2022-04-17T12:20:07.571Z"
   },
   {
    "duration": 6421,
    "start_time": "2022-04-17T12:20:09.672Z"
   },
   {
    "duration": 500,
    "start_time": "2022-04-17T12:20:21.256Z"
   },
   {
    "duration": 4,
    "start_time": "2022-04-17T12:20:49.901Z"
   },
   {
    "duration": 7292,
    "start_time": "2022-04-17T12:20:51.829Z"
   },
   {
    "duration": 3,
    "start_time": "2022-04-17T12:21:08.450Z"
   },
   {
    "duration": 6751,
    "start_time": "2022-04-17T12:21:11.071Z"
   },
   {
    "duration": 570,
    "start_time": "2022-04-17T12:21:21.069Z"
   },
   {
    "duration": 4,
    "start_time": "2022-04-17T12:23:49.071Z"
   },
   {
    "duration": 6284,
    "start_time": "2022-04-17T12:23:51.146Z"
   },
   {
    "duration": 4,
    "start_time": "2022-04-17T12:24:09.781Z"
   },
   {
    "duration": 6580,
    "start_time": "2022-04-17T12:24:12.301Z"
   },
   {
    "duration": 565,
    "start_time": "2022-04-17T12:24:22.038Z"
   },
   {
    "duration": 3,
    "start_time": "2022-04-17T12:28:27.861Z"
   },
   {
    "duration": 6121,
    "start_time": "2022-04-17T12:28:29.464Z"
   },
   {
    "duration": 4,
    "start_time": "2022-04-17T12:28:44.901Z"
   },
   {
    "duration": 554,
    "start_time": "2022-04-17T12:29:02.014Z"
   },
   {
    "duration": 9,
    "start_time": "2022-04-17T12:29:02.570Z"
   },
   {
    "duration": 4,
    "start_time": "2022-04-17T12:29:02.580Z"
   },
   {
    "duration": 7398,
    "start_time": "2022-04-17T12:29:02.585Z"
   },
   {
    "duration": 550,
    "start_time": "2022-04-17T12:29:09.985Z"
   },
   {
    "duration": 3,
    "start_time": "2022-04-17T12:29:10.536Z"
   },
   {
    "duration": 1946,
    "start_time": "2022-04-17T12:29:10.540Z"
   },
   {
    "duration": 3488,
    "start_time": "2022-04-17T12:29:12.487Z"
   },
   {
    "duration": 4,
    "start_time": "2022-04-17T12:29:21.098Z"
   },
   {
    "duration": 6442,
    "start_time": "2022-04-17T12:29:23.283Z"
   },
   {
    "duration": 4,
    "start_time": "2022-04-17T12:30:49.874Z"
   },
   {
    "duration": 6243,
    "start_time": "2022-04-17T12:30:51.560Z"
   },
   {
    "duration": 3,
    "start_time": "2022-04-17T12:32:46.918Z"
   },
   {
    "duration": 6088,
    "start_time": "2022-04-17T12:32:49.034Z"
   },
   {
    "duration": 4,
    "start_time": "2022-04-17T12:33:09.550Z"
   },
   {
    "duration": 6252,
    "start_time": "2022-04-17T12:33:12.094Z"
   },
   {
    "duration": 514,
    "start_time": "2022-04-17T12:33:22.710Z"
   },
   {
    "duration": 3,
    "start_time": "2022-04-17T12:35:22.150Z"
   },
   {
    "duration": 6039,
    "start_time": "2022-04-17T12:35:23.770Z"
   },
   {
    "duration": 3,
    "start_time": "2022-04-17T12:35:35.445Z"
   },
   {
    "duration": 5942,
    "start_time": "2022-04-17T12:35:37.310Z"
   },
   {
    "duration": 3,
    "start_time": "2022-04-17T12:35:51.128Z"
   },
   {
    "duration": 512,
    "start_time": "2022-04-17T12:36:03.838Z"
   },
   {
    "duration": 9,
    "start_time": "2022-04-17T12:36:04.352Z"
   },
   {
    "duration": 3,
    "start_time": "2022-04-17T12:36:04.362Z"
   },
   {
    "duration": 8839,
    "start_time": "2022-04-17T12:36:04.367Z"
   },
   {
    "duration": 566,
    "start_time": "2022-04-17T12:36:13.208Z"
   },
   {
    "duration": 3,
    "start_time": "2022-04-17T12:36:13.776Z"
   },
   {
    "duration": 1949,
    "start_time": "2022-04-17T12:36:13.780Z"
   },
   {
    "duration": 3601,
    "start_time": "2022-04-17T12:36:15.730Z"
   },
   {
    "duration": 4,
    "start_time": "2022-04-17T12:36:24.939Z"
   },
   {
    "duration": 6455,
    "start_time": "2022-04-17T12:36:27.017Z"
   },
   {
    "duration": 75,
    "start_time": "2022-04-17T13:25:08.453Z"
   },
   {
    "duration": 1223,
    "start_time": "2022-04-17T13:26:03.217Z"
   },
   {
    "duration": 314,
    "start_time": "2022-04-17T13:26:15.915Z"
   },
   {
    "duration": 400,
    "start_time": "2022-04-17T13:26:24.758Z"
   },
   {
    "duration": 1078,
    "start_time": "2022-04-17T13:26:55.772Z"
   },
   {
    "duration": 1510,
    "start_time": "2022-04-17T13:27:08.185Z"
   },
   {
    "duration": 1445,
    "start_time": "2022-04-17T13:27:22.216Z"
   },
   {
    "duration": 1368,
    "start_time": "2022-04-17T13:27:35.760Z"
   },
   {
    "duration": 272,
    "start_time": "2022-04-17T13:28:08.768Z"
   },
   {
    "duration": 293,
    "start_time": "2022-04-17T13:28:13.176Z"
   },
   {
    "duration": 13,
    "start_time": "2022-04-17T13:28:36.633Z"
   },
   {
    "duration": 8,
    "start_time": "2022-04-17T13:29:49.585Z"
   },
   {
    "duration": 21,
    "start_time": "2022-04-17T13:29:57.980Z"
   },
   {
    "duration": 4,
    "start_time": "2022-04-17T13:35:20.476Z"
   },
   {
    "duration": 6510,
    "start_time": "2022-04-17T13:35:22.736Z"
   },
   {
    "duration": 484,
    "start_time": "2022-04-17T13:35:33.140Z"
   },
   {
    "duration": 72,
    "start_time": "2022-04-17T13:35:39.922Z"
   },
   {
    "duration": 20,
    "start_time": "2022-04-17T13:35:46.076Z"
   },
   {
    "duration": 33,
    "start_time": "2022-04-17T13:37:01.240Z"
   },
   {
    "duration": 32,
    "start_time": "2022-04-17T13:37:20.420Z"
   },
   {
    "duration": 84,
    "start_time": "2022-04-17T13:37:27.659Z"
   },
   {
    "duration": 30,
    "start_time": "2022-04-17T13:37:42.024Z"
   },
   {
    "duration": 19,
    "start_time": "2022-04-17T13:38:10.620Z"
   },
   {
    "duration": 12,
    "start_time": "2022-04-17T13:39:44.748Z"
   },
   {
    "duration": 17,
    "start_time": "2022-04-17T13:39:50.147Z"
   },
   {
    "duration": 16,
    "start_time": "2022-04-17T13:40:05.636Z"
   },
   {
    "duration": 16,
    "start_time": "2022-04-17T13:40:18.684Z"
   },
   {
    "duration": 15,
    "start_time": "2022-04-17T13:40:42.272Z"
   },
   {
    "duration": 23,
    "start_time": "2022-04-17T13:41:03.096Z"
   },
   {
    "duration": 19,
    "start_time": "2022-04-17T13:41:52.023Z"
   },
   {
    "duration": 25,
    "start_time": "2022-04-17T13:42:30.200Z"
   },
   {
    "duration": 3,
    "start_time": "2022-04-17T13:46:05.132Z"
   },
   {
    "duration": 1220,
    "start_time": "2022-04-17T13:46:24.747Z"
   },
   {
    "duration": 4,
    "start_time": "2022-04-17T13:46:40.766Z"
   },
   {
    "duration": 6648,
    "start_time": "2022-04-17T13:46:42.656Z"
   },
   {
    "duration": 505,
    "start_time": "2022-04-17T13:47:05.195Z"
   },
   {
    "duration": 9,
    "start_time": "2022-04-17T13:55:17.619Z"
   },
   {
    "duration": 205,
    "start_time": "2022-04-17T13:55:42.554Z"
   },
   {
    "duration": 208,
    "start_time": "2022-04-17T13:56:18.802Z"
   },
   {
    "duration": 89,
    "start_time": "2022-04-17T13:56:40.346Z"
   },
   {
    "duration": 9,
    "start_time": "2022-04-17T13:56:52.438Z"
   },
   {
    "duration": 54,
    "start_time": "2022-04-17T13:57:20.602Z"
   },
   {
    "duration": 12,
    "start_time": "2022-04-17T13:57:38.294Z"
   },
   {
    "duration": 39,
    "start_time": "2022-04-17T13:58:14.926Z"
   },
   {
    "duration": 558,
    "start_time": "2022-04-17T13:58:51.290Z"
   },
   {
    "duration": 9,
    "start_time": "2022-04-17T13:58:51.850Z"
   },
   {
    "duration": 4,
    "start_time": "2022-04-17T13:58:51.860Z"
   },
   {
    "duration": 7115,
    "start_time": "2022-04-17T13:58:51.866Z"
   },
   {
    "duration": 566,
    "start_time": "2022-04-17T13:58:58.983Z"
   },
   {
    "duration": 86,
    "start_time": "2022-04-17T13:58:59.551Z"
   },
   {
    "duration": 1689,
    "start_time": "2022-04-17T13:58:59.638Z"
   },
   {
    "duration": 1340,
    "start_time": "2022-04-17T13:59:01.329Z"
   },
   {
    "duration": 20,
    "start_time": "2022-04-17T13:59:02.671Z"
   },
   {
    "duration": 55,
    "start_time": "2022-04-17T13:59:02.707Z"
   },
   {
    "duration": 23,
    "start_time": "2022-04-17T13:59:02.764Z"
   },
   {
    "duration": 10,
    "start_time": "2022-04-17T13:59:02.789Z"
   },
   {
    "duration": 12,
    "start_time": "2022-04-17T13:59:02.807Z"
   },
   {
    "duration": 66,
    "start_time": "2022-04-17T13:59:02.824Z"
   },
   {
    "duration": 5,
    "start_time": "2022-04-17T13:59:02.907Z"
   },
   {
    "duration": 6328,
    "start_time": "2022-04-17T13:59:02.914Z"
   },
   {
    "duration": 555,
    "start_time": "2022-04-17T13:59:09.244Z"
   },
   {
    "duration": 3720,
    "start_time": "2022-04-17T13:59:09.800Z"
   },
   {
    "duration": 88,
    "start_time": "2022-04-17T13:59:14.889Z"
   },
   {
    "duration": 50,
    "start_time": "2022-04-17T13:59:44.269Z"
   },
   {
    "duration": 40,
    "start_time": "2022-04-17T14:00:00.029Z"
   },
   {
    "duration": 40,
    "start_time": "2022-04-17T14:00:38.049Z"
   },
   {
    "duration": 32,
    "start_time": "2022-04-17T14:07:25.381Z"
   },
   {
    "duration": 82,
    "start_time": "2022-04-17T14:08:30.925Z"
   },
   {
    "duration": 114,
    "start_time": "2022-04-17T14:08:52.589Z"
   },
   {
    "duration": 128,
    "start_time": "2022-04-17T14:09:48.792Z"
   },
   {
    "duration": 50,
    "start_time": "2022-04-17T14:11:42.432Z"
   },
   {
    "duration": 89,
    "start_time": "2022-04-17T14:21:41.832Z"
   },
   {
    "duration": 100,
    "start_time": "2022-04-17T14:22:37.137Z"
   },
   {
    "duration": 87,
    "start_time": "2022-04-17T14:23:05.683Z"
   },
   {
    "duration": 111,
    "start_time": "2022-04-17T14:23:24.856Z"
   },
   {
    "duration": 103,
    "start_time": "2022-04-17T14:23:50.572Z"
   },
   {
    "duration": 112,
    "start_time": "2022-04-17T14:25:40.612Z"
   },
   {
    "duration": 107,
    "start_time": "2022-04-17T14:27:04.065Z"
   },
   {
    "duration": 100,
    "start_time": "2022-04-17T14:27:32.203Z"
   },
   {
    "duration": 6,
    "start_time": "2022-04-17T14:28:01.676Z"
   },
   {
    "duration": 1139,
    "start_time": "2022-04-17T14:28:22.336Z"
   },
   {
    "duration": 1021,
    "start_time": "2022-04-17T14:28:31.484Z"
   },
   {
    "duration": 115,
    "start_time": "2022-04-17T14:28:47.421Z"
   },
   {
    "duration": 47,
    "start_time": "2022-04-18T12:45:31.587Z"
   },
   {
    "duration": 515,
    "start_time": "2022-04-18T12:45:37.417Z"
   },
   {
    "duration": 20,
    "start_time": "2022-04-18T12:45:37.934Z"
   },
   {
    "duration": 4,
    "start_time": "2022-04-18T12:45:37.956Z"
   },
   {
    "duration": 8899,
    "start_time": "2022-04-18T12:45:37.962Z"
   },
   {
    "duration": 715,
    "start_time": "2022-04-18T12:45:46.865Z"
   },
   {
    "duration": 86,
    "start_time": "2022-04-18T12:45:47.582Z"
   },
   {
    "duration": 1422,
    "start_time": "2022-04-18T12:45:47.670Z"
   },
   {
    "duration": 1168,
    "start_time": "2022-04-18T12:45:49.094Z"
   },
   {
    "duration": 15,
    "start_time": "2022-04-18T12:45:50.264Z"
   },
   {
    "duration": 44,
    "start_time": "2022-04-18T12:45:50.280Z"
   },
   {
    "duration": 54,
    "start_time": "2022-04-18T12:45:50.326Z"
   },
   {
    "duration": 16,
    "start_time": "2022-04-18T12:45:50.382Z"
   },
   {
    "duration": 19,
    "start_time": "2022-04-18T12:45:50.401Z"
   },
   {
    "duration": 188,
    "start_time": "2022-04-18T12:45:50.422Z"
   },
   {
    "duration": 105,
    "start_time": "2022-04-18T12:45:50.612Z"
   },
   {
    "duration": 115,
    "start_time": "2022-04-18T12:45:50.724Z"
   },
   {
    "duration": 138,
    "start_time": "2022-04-18T12:45:50.841Z"
   },
   {
    "duration": 171,
    "start_time": "2022-04-18T12:45:50.982Z"
   },
   {
    "duration": 168,
    "start_time": "2022-04-18T12:45:51.155Z"
   },
   {
    "duration": 151,
    "start_time": "2022-04-18T12:45:51.326Z"
   },
   {
    "duration": 164,
    "start_time": "2022-04-18T12:45:51.479Z"
   },
   {
    "duration": 9,
    "start_time": "2022-04-18T12:45:51.646Z"
   },
   {
    "duration": 4,
    "start_time": "2022-04-18T12:45:51.657Z"
   },
   {
    "duration": 6250,
    "start_time": "2022-04-18T12:45:51.663Z"
   },
   {
    "duration": 566,
    "start_time": "2022-04-18T12:45:57.915Z"
   },
   {
    "duration": 7039,
    "start_time": "2022-04-18T12:46:03.379Z"
   },
   {
    "duration": 106,
    "start_time": "2022-04-18T14:31:54.040Z"
   },
   {
    "duration": 651,
    "start_time": "2022-04-19T13:30:02.447Z"
   },
   {
    "duration": 37,
    "start_time": "2022-04-19T13:30:03.101Z"
   },
   {
    "duration": 5,
    "start_time": "2022-04-19T13:30:03.140Z"
   },
   {
    "duration": 13954,
    "start_time": "2022-04-19T13:30:03.147Z"
   },
   {
    "duration": 656,
    "start_time": "2022-04-19T13:30:17.105Z"
   },
   {
    "duration": 105,
    "start_time": "2022-04-19T13:30:17.763Z"
   },
   {
    "duration": 2027,
    "start_time": "2022-04-19T13:30:17.870Z"
   },
   {
    "duration": 1243,
    "start_time": "2022-04-19T13:30:19.901Z"
   },
   {
    "duration": 18,
    "start_time": "2022-04-19T13:30:21.146Z"
   },
   {
    "duration": 54,
    "start_time": "2022-04-19T13:30:21.167Z"
   },
   {
    "duration": 35,
    "start_time": "2022-04-19T13:30:21.223Z"
   },
   {
    "duration": 37,
    "start_time": "2022-04-19T13:30:21.260Z"
   },
   {
    "duration": 22,
    "start_time": "2022-04-19T13:30:21.299Z"
   },
   {
    "duration": 182,
    "start_time": "2022-04-19T13:30:21.326Z"
   },
   {
    "duration": 102,
    "start_time": "2022-04-19T13:30:21.511Z"
   },
   {
    "duration": 125,
    "start_time": "2022-04-19T13:30:21.616Z"
   },
   {
    "duration": 99,
    "start_time": "2022-04-19T13:30:21.743Z"
   },
   {
    "duration": 122,
    "start_time": "2022-04-19T13:30:21.844Z"
   },
   {
    "duration": 144,
    "start_time": "2022-04-19T13:30:21.968Z"
   },
   {
    "duration": 117,
    "start_time": "2022-04-19T13:30:22.114Z"
   },
   {
    "duration": 127,
    "start_time": "2022-04-19T13:30:22.234Z"
   },
   {
    "duration": 24,
    "start_time": "2022-04-19T13:30:22.363Z"
   },
   {
    "duration": 5,
    "start_time": "2022-04-19T13:30:22.389Z"
   },
   {
    "duration": 9746,
    "start_time": "2022-04-19T13:30:22.396Z"
   },
   {
    "duration": 660,
    "start_time": "2022-04-19T13:30:32.144Z"
   },
   {
    "duration": 6462,
    "start_time": "2022-04-19T13:30:32.807Z"
   },
   {
    "duration": 146,
    "start_time": "2022-04-19T13:31:12.172Z"
   },
   {
    "duration": 2030,
    "start_time": "2022-04-19T13:31:36.276Z"
   },
   {
    "duration": 62,
    "start_time": "2022-04-19T13:31:50.171Z"
   },
   {
    "duration": 95,
    "start_time": "2022-04-19T13:32:56.007Z"
   },
   {
    "duration": 64,
    "start_time": "2022-04-19T13:34:58.860Z"
   },
   {
    "duration": 58,
    "start_time": "2022-04-19T13:35:07.401Z"
   },
   {
    "duration": 60,
    "start_time": "2022-04-19T13:35:54.244Z"
   },
   {
    "duration": 59,
    "start_time": "2022-04-19T13:36:05.941Z"
   },
   {
    "duration": 58,
    "start_time": "2022-04-19T13:36:37.317Z"
   },
   {
    "duration": 1415,
    "start_time": "2022-04-19T14:47:06.680Z"
   },
   {
    "duration": 180,
    "start_time": "2022-04-19T14:47:18.016Z"
   },
   {
    "duration": 72,
    "start_time": "2022-04-19T14:50:51.778Z"
   },
   {
    "duration": 521,
    "start_time": "2022-04-20T12:49:37.776Z"
   },
   {
    "duration": 14,
    "start_time": "2022-04-20T12:49:38.299Z"
   },
   {
    "duration": 5,
    "start_time": "2022-04-20T12:49:38.315Z"
   },
   {
    "duration": 10951,
    "start_time": "2022-04-20T12:49:38.321Z"
   },
   {
    "duration": 576,
    "start_time": "2022-04-20T12:49:49.275Z"
   },
   {
    "duration": 92,
    "start_time": "2022-04-20T12:49:49.853Z"
   },
   {
    "duration": 1515,
    "start_time": "2022-04-20T12:49:49.947Z"
   },
   {
    "duration": 1242,
    "start_time": "2022-04-20T12:49:51.464Z"
   },
   {
    "duration": 12,
    "start_time": "2022-04-20T12:49:52.708Z"
   },
   {
    "duration": 43,
    "start_time": "2022-04-20T12:49:52.722Z"
   },
   {
    "duration": 31,
    "start_time": "2022-04-20T12:49:52.767Z"
   },
   {
    "duration": 39,
    "start_time": "2022-04-20T12:49:52.799Z"
   },
   {
    "duration": 20,
    "start_time": "2022-04-20T12:49:52.840Z"
   },
   {
    "duration": 163,
    "start_time": "2022-04-20T12:49:52.864Z"
   },
   {
    "duration": 78,
    "start_time": "2022-04-20T12:49:53.029Z"
   },
   {
    "duration": 118,
    "start_time": "2022-04-20T12:49:53.109Z"
   },
   {
    "duration": 78,
    "start_time": "2022-04-20T12:49:53.234Z"
   },
   {
    "duration": 110,
    "start_time": "2022-04-20T12:49:53.315Z"
   },
   {
    "duration": 112,
    "start_time": "2022-04-20T12:49:53.434Z"
   },
   {
    "duration": 114,
    "start_time": "2022-04-20T12:49:53.547Z"
   },
   {
    "duration": 109,
    "start_time": "2022-04-20T12:49:53.662Z"
   },
   {
    "duration": 7,
    "start_time": "2022-04-20T12:49:53.773Z"
   },
   {
    "duration": 4,
    "start_time": "2022-04-20T12:49:53.782Z"
   },
   {
    "duration": 7190,
    "start_time": "2022-04-20T12:49:53.788Z"
   },
   {
    "duration": 554,
    "start_time": "2022-04-20T12:50:00.979Z"
   },
   {
    "duration": 6194,
    "start_time": "2022-04-20T12:50:01.535Z"
   },
   {
    "duration": 536,
    "start_time": "2022-04-27T04:52:20.564Z"
   },
   {
    "duration": 10,
    "start_time": "2022-04-27T04:52:21.102Z"
   },
   {
    "duration": 9,
    "start_time": "2022-04-27T04:52:21.114Z"
   },
   {
    "duration": 7553,
    "start_time": "2022-04-27T04:52:21.133Z"
   },
   {
    "duration": 607,
    "start_time": "2022-04-27T04:52:28.688Z"
   },
   {
    "duration": 99,
    "start_time": "2022-04-27T04:52:29.297Z"
   },
   {
    "duration": 1628,
    "start_time": "2022-04-27T04:52:29.398Z"
   },
   {
    "duration": 1342,
    "start_time": "2022-04-27T04:52:31.027Z"
   },
   {
    "duration": 13,
    "start_time": "2022-04-27T04:52:32.371Z"
   },
   {
    "duration": 23,
    "start_time": "2022-04-27T04:52:32.386Z"
   },
   {
    "duration": 49,
    "start_time": "2022-04-27T04:52:32.411Z"
   },
   {
    "duration": 9,
    "start_time": "2022-04-27T04:52:32.462Z"
   },
   {
    "duration": 13,
    "start_time": "2022-04-27T04:52:32.473Z"
   },
   {
    "duration": 180,
    "start_time": "2022-04-27T04:52:32.488Z"
   },
   {
    "duration": 91,
    "start_time": "2022-04-27T04:52:32.670Z"
   },
   {
    "duration": 124,
    "start_time": "2022-04-27T04:52:32.763Z"
   },
   {
    "duration": 93,
    "start_time": "2022-04-27T04:52:32.889Z"
   },
   {
    "duration": 115,
    "start_time": "2022-04-27T04:52:32.984Z"
   },
   {
    "duration": 119,
    "start_time": "2022-04-27T04:52:33.101Z"
   },
   {
    "duration": 124,
    "start_time": "2022-04-27T04:52:33.234Z"
   },
   {
    "duration": 114,
    "start_time": "2022-04-27T04:52:33.360Z"
   },
   {
    "duration": 7,
    "start_time": "2022-04-27T04:52:33.475Z"
   },
   {
    "duration": 7,
    "start_time": "2022-04-27T04:52:33.484Z"
   },
   {
    "duration": 7430,
    "start_time": "2022-04-27T04:52:33.493Z"
   },
   {
    "duration": 631,
    "start_time": "2022-04-27T04:52:40.925Z"
   },
   {
    "duration": 4269,
    "start_time": "2022-04-27T04:52:41.558Z"
   },
   {
    "duration": 8,
    "start_time": "2022-04-27T08:59:56.194Z"
   },
   {
    "duration": 534,
    "start_time": "2022-04-27T09:00:15.202Z"
   },
   {
    "duration": 22,
    "start_time": "2022-04-27T09:00:15.738Z"
   },
   {
    "duration": 15,
    "start_time": "2022-04-27T09:00:15.761Z"
   },
   {
    "duration": 6571,
    "start_time": "2022-04-27T09:00:15.777Z"
   },
   {
    "duration": 549,
    "start_time": "2022-04-27T09:00:22.350Z"
   },
   {
    "duration": 78,
    "start_time": "2022-04-27T09:00:22.900Z"
   },
   {
    "duration": 1434,
    "start_time": "2022-04-27T09:00:22.979Z"
   },
   {
    "duration": 1106,
    "start_time": "2022-04-27T09:00:24.415Z"
   },
   {
    "duration": 12,
    "start_time": "2022-04-27T09:00:25.522Z"
   },
   {
    "duration": 21,
    "start_time": "2022-04-27T09:00:25.536Z"
   },
   {
    "duration": 23,
    "start_time": "2022-04-27T09:00:25.559Z"
   },
   {
    "duration": 8,
    "start_time": "2022-04-27T09:00:25.584Z"
   },
   {
    "duration": 36,
    "start_time": "2022-04-27T09:00:25.594Z"
   },
   {
    "duration": 141,
    "start_time": "2022-04-27T09:00:25.633Z"
   },
   {
    "duration": 82,
    "start_time": "2022-04-27T09:00:25.775Z"
   },
   {
    "duration": 111,
    "start_time": "2022-04-27T09:00:25.859Z"
   },
   {
    "duration": 78,
    "start_time": "2022-04-27T09:00:25.971Z"
   },
   {
    "duration": 92,
    "start_time": "2022-04-27T09:00:26.051Z"
   },
   {
    "duration": 111,
    "start_time": "2022-04-27T09:00:26.145Z"
   },
   {
    "duration": 106,
    "start_time": "2022-04-27T09:00:26.258Z"
   },
   {
    "duration": 107,
    "start_time": "2022-04-27T09:00:26.366Z"
   },
   {
    "duration": 6,
    "start_time": "2022-04-27T09:00:26.475Z"
   },
   {
    "duration": 12,
    "start_time": "2022-04-27T09:00:26.483Z"
   },
   {
    "duration": 6333,
    "start_time": "2022-04-27T09:00:26.497Z"
   },
   {
    "duration": 576,
    "start_time": "2022-04-27T09:00:32.832Z"
   },
   {
    "duration": 5336,
    "start_time": "2022-04-27T09:00:33.409Z"
   },
   {
    "duration": 3,
    "start_time": "2022-04-27T09:01:10.372Z"
   },
   {
    "duration": 6452,
    "start_time": "2022-04-27T09:01:16.632Z"
   },
   {
    "duration": 3,
    "start_time": "2022-04-27T09:02:13.543Z"
   },
   {
    "duration": 6532,
    "start_time": "2022-04-27T09:02:17.320Z"
   },
   {
    "duration": 4,
    "start_time": "2022-04-27T09:02:55.830Z"
   },
   {
    "duration": 6043,
    "start_time": "2022-04-27T09:02:59.063Z"
   },
   {
    "duration": 2,
    "start_time": "2022-04-27T09:04:18.432Z"
   },
   {
    "duration": 6036,
    "start_time": "2022-04-27T09:04:26.927Z"
   },
   {
    "duration": 3,
    "start_time": "2022-04-27T09:09:14.825Z"
   },
   {
    "duration": 489,
    "start_time": "2022-04-27T09:09:45.491Z"
   },
   {
    "duration": 19,
    "start_time": "2022-04-27T09:09:45.982Z"
   },
   {
    "duration": 3,
    "start_time": "2022-04-27T09:09:46.004Z"
   },
   {
    "duration": 6329,
    "start_time": "2022-04-27T09:09:46.009Z"
   },
   {
    "duration": 524,
    "start_time": "2022-04-27T09:09:52.340Z"
   },
   {
    "duration": 71,
    "start_time": "2022-04-27T09:09:52.865Z"
   },
   {
    "duration": 1373,
    "start_time": "2022-04-27T09:09:52.938Z"
   },
   {
    "duration": 1026,
    "start_time": "2022-04-27T09:09:54.313Z"
   },
   {
    "duration": 10,
    "start_time": "2022-04-27T09:09:55.341Z"
   },
   {
    "duration": 19,
    "start_time": "2022-04-27T09:09:55.354Z"
   },
   {
    "duration": 23,
    "start_time": "2022-04-27T09:09:55.375Z"
   },
   {
    "duration": 29,
    "start_time": "2022-04-27T09:09:55.399Z"
   },
   {
    "duration": 11,
    "start_time": "2022-04-27T09:09:55.430Z"
   },
   {
    "duration": 138,
    "start_time": "2022-04-27T09:09:55.442Z"
   },
   {
    "duration": 76,
    "start_time": "2022-04-27T09:09:55.582Z"
   },
   {
    "duration": 105,
    "start_time": "2022-04-27T09:09:55.660Z"
   },
   {
    "duration": 75,
    "start_time": "2022-04-27T09:09:55.767Z"
   },
   {
    "duration": 91,
    "start_time": "2022-04-27T09:09:55.843Z"
   },
   {
    "duration": 110,
    "start_time": "2022-04-27T09:09:55.935Z"
   },
   {
    "duration": 105,
    "start_time": "2022-04-27T09:09:56.047Z"
   },
   {
    "duration": 98,
    "start_time": "2022-04-27T09:09:56.153Z"
   },
   {
    "duration": 6,
    "start_time": "2022-04-27T09:09:56.253Z"
   },
   {
    "duration": 3,
    "start_time": "2022-04-27T09:09:56.260Z"
   },
   {
    "duration": 6189,
    "start_time": "2022-04-27T09:09:56.264Z"
   },
   {
    "duration": 551,
    "start_time": "2022-04-27T09:10:02.454Z"
   },
   {
    "duration": 4203,
    "start_time": "2022-04-27T09:10:03.007Z"
   },
   {
    "duration": 511,
    "start_time": "2022-04-29T03:49:37.878Z"
   },
   {
    "duration": 21,
    "start_time": "2022-04-29T03:49:38.391Z"
   },
   {
    "duration": 4,
    "start_time": "2022-04-29T03:49:38.413Z"
   },
   {
    "duration": 6701,
    "start_time": "2022-04-29T03:49:38.419Z"
   },
   {
    "duration": 614,
    "start_time": "2022-04-29T03:49:45.121Z"
   },
   {
    "duration": 82,
    "start_time": "2022-04-29T03:49:45.737Z"
   },
   {
    "duration": 1643,
    "start_time": "2022-04-29T03:49:45.821Z"
   },
   {
    "duration": 1184,
    "start_time": "2022-04-29T03:49:47.465Z"
   },
   {
    "duration": 11,
    "start_time": "2022-04-29T03:49:48.651Z"
   },
   {
    "duration": 19,
    "start_time": "2022-04-29T03:49:48.673Z"
   },
   {
    "duration": 21,
    "start_time": "2022-04-29T03:49:48.694Z"
   },
   {
    "duration": 9,
    "start_time": "2022-04-29T03:49:48.717Z"
   },
   {
    "duration": 12,
    "start_time": "2022-04-29T03:49:48.727Z"
   },
   {
    "duration": 171,
    "start_time": "2022-04-29T03:49:48.741Z"
   },
   {
    "duration": 87,
    "start_time": "2022-04-29T03:49:48.914Z"
   },
   {
    "duration": 134,
    "start_time": "2022-04-29T03:49:49.003Z"
   },
   {
    "duration": 92,
    "start_time": "2022-04-29T03:49:49.138Z"
   },
   {
    "duration": 110,
    "start_time": "2022-04-29T03:49:49.231Z"
   },
   {
    "duration": 138,
    "start_time": "2022-04-29T03:49:49.343Z"
   },
   {
    "duration": 135,
    "start_time": "2022-04-29T03:49:49.483Z"
   },
   {
    "duration": 123,
    "start_time": "2022-04-29T03:49:49.619Z"
   },
   {
    "duration": 7,
    "start_time": "2022-04-29T03:49:49.744Z"
   },
   {
    "duration": 24,
    "start_time": "2022-04-29T03:49:49.752Z"
   },
   {
    "duration": 6713,
    "start_time": "2022-04-29T03:49:49.778Z"
   },
   {
    "duration": 653,
    "start_time": "2022-04-29T03:49:56.492Z"
   },
   {
    "duration": 3459,
    "start_time": "2022-04-29T03:49:57.147Z"
   }
  ],
  "kernelspec": {
   "display_name": "Python 3 (ipykernel)",
   "language": "python",
   "name": "python3"
  },
  "language_info": {
   "codemirror_mode": {
    "name": "ipython",
    "version": 3
   },
   "file_extension": ".py",
   "mimetype": "text/x-python",
   "name": "python",
   "nbconvert_exporter": "python",
   "pygments_lexer": "ipython3",
   "version": "3.9.12"
  },
  "toc": {
   "base_numbering": 1,
   "nav_menu": {},
   "number_sections": true,
   "sideBar": true,
   "skip_h1_title": true,
   "title_cell": "Table of Contents",
   "title_sidebar": "Contents",
   "toc_cell": false,
   "toc_position": {},
   "toc_section_display": true,
   "toc_window_display": false
  }
 },
 "nbformat": 4,
 "nbformat_minor": 5
}
