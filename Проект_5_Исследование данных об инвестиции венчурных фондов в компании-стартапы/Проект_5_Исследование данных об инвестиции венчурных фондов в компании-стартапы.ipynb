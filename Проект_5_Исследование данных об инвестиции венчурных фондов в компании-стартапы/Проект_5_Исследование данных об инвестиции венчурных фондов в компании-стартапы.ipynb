{
 "cells": [
  {
   "cell_type": "markdown",
   "id": "81e7d29d",
   "metadata": {},
   "source": [
    "# Содержание:\n",
    "\n",
    "1. [Задание 1.](#intro)\n",
    "2. [Задание 2.](#intro1) \n",
    "3. [Задание 3.](#intro2)\n",
    "4. [Задание 4.](#intro3)\n",
    "5. [Задание 5.](#intro4)\n",
    "6. [Задание 6.](#intro5) \n",
    "7. [Задание 7.](#intro6) \n",
    "8. [Задание 8.](#intro7) \n",
    "9. [Задание 9.](#intro8) \n",
    "10. [Задание 10.](#intro9)\n",
    "11. [Задание 11.](#intro10)\n",
    "12. [Задание 12.](#intro11)\n",
    "13. [Задание 13.](#intro12)\n",
    "14. [Задание 14.](#intro13)\n",
    "15. [Задание 15.](#intro14)\n",
    "16. [Задание 16.](#intro15)\n",
    "17. [Задание 17.](#intro16)\n",
    "18. [Задание 18.](#intro17)\n",
    "19. [Задание 19.](#intro18)\n",
    "20. [Задание 20.](#intro19)\n",
    "21. [Задание 21.](#intro20)\n",
    "22. [Задание 22.](#intro21)\n",
    "23. [Задание 23.](#intro22)"
   ]
  },
  {
   "cell_type": "markdown",
   "id": "10143c3f",
   "metadata": {},
   "source": [
    "# Самостоятельный проект: Базовый SQL."
   ]
  },
  {
   "cell_type": "markdown",
   "id": "64cd25a0",
   "metadata": {},
   "source": [
    "**Цель исследования:** проанализировать данные о фондах и инвестициях и написать запросы к базе.\n",
    "\n",
    "**Входные данные:** база данных, которая хранит информацию о венчурных фондах и инвестициях в компании-стартапы. Эта база данных основана на датасете Startup Investments, опубликованном на популярной платформе для соревнований по исследованию данных Kaggle."
   ]
  },
  {
   "cell_type": "code",
   "execution_count": null,
   "id": "16399dd6",
   "metadata": {},
   "outputs": [],
   "source": [
    "# импортирование библиотеки pandas\n",
    "import pandas as pd\n",
    "\n",
    "# импортирование библиотеки sqlalchemy и\n",
    "# функции create_engine\n",
    "from sqlalchemy import create_engine "
   ]
  },
  {
   "cell_type": "markdown",
   "id": "2d1289b9",
   "metadata": {},
   "source": [
    "### 1. Конфигурация для подключения к базе данных."
   ]
  },
  {
   "cell_type": "markdown",
   "id": "e70ec91c",
   "metadata": {},
   "source": [
    "В связи с тем, что представленные ниже задачи выполнялись в тренажёре `Яндекс Практикума`, у нас нет информации по настройкам для подключения к опеределённой учетной записи базы данных. Поэтому вывести результаты запросов не предоставляется возможным."
   ]
  },
  {
   "cell_type": "code",
   "execution_count": null,
   "id": "8b926051",
   "metadata": {},
   "outputs": [],
   "source": [
    "# создание переменной db_config, где\n",
    "# указаны данные для подключения к БД и\n",
    "# создание строки connection_string\n",
    "\n",
    "db_config = {\n",
    "    'user': 'praktikum_student', # имя пользователя\n",
    "    'pwd': '*****', # пароль\n",
    "    'host': '*****.mdb.yandexcloud.net',\n",
    "    'port': 6432, # порт подключения\n",
    "    'db': '*****' # название базы данных\n",
    "}  \n",
    "\n",
    "connection_string = 'postgresql://{}:{}@{}:{}/{}'.format(\n",
    "    db_config['user'],\n",
    "    db_config['pwd'],\n",
    "    db_config['host'],\n",
    "    db_config['port'],\n",
    "    db_config['db'],\n",
    ")"
   ]
  },
  {
   "cell_type": "markdown",
   "id": "835e87b0",
   "metadata": {},
   "source": [
    "Создание подключения"
   ]
  },
  {
   "cell_type": "code",
   "execution_count": null,
   "id": "13aca958",
   "metadata": {},
   "outputs": [],
   "source": [
    "# создание подключения к БД\n",
    "\n",
    "engine = create_engine(connection_string) "
   ]
  },
  {
   "cell_type": "markdown",
   "id": "e2ca6385",
   "metadata": {},
   "source": [
    "## Задание 1. <a id='intro'></a>"
   ]
  },
  {
   "cell_type": "markdown",
   "id": "94859de9",
   "metadata": {},
   "source": [
    "Посчитайте, сколько компаний закрылось."
   ]
  },
  {
   "cell_type": "code",
   "execution_count": null,
   "id": "a69781df",
   "metadata": {},
   "outputs": [],
   "source": [
    "# создание запроса\n",
    "\n",
    "query = '''\n",
    "SELECT COUNT(status) AS closed_company\n",
    "FROM company\n",
    "WHERE status = 'closed';\n",
    "'''\n",
    "\n",
    "# выполнение запроса с сохранением \n",
    "# в переменную df_1\n",
    "\n",
    "df_1 = pd.read_sql_query(query, con = engine)"
   ]
  },
  {
   "cell_type": "code",
   "execution_count": null,
   "id": "34dcb4a1",
   "metadata": {},
   "outputs": [],
   "source": [
    "# получение данных запроса \n",
    "# из переменной df_1\n",
    "\n",
    "df_1"
   ]
  },
  {
   "cell_type": "markdown",
   "id": "ecbcb494",
   "metadata": {},
   "source": [
    "## Задание 2. <a id='intro1'></a>"
   ]
  },
  {
   "cell_type": "markdown",
   "id": "cfd87a3f",
   "metadata": {},
   "source": [
    "Отобразите количество привлечённых средств для новостных компаний США. Используйте данные из таблицы company. Отсортируйте таблицу по убыванию значений в поле `funding_total`."
   ]
  },
  {
   "cell_type": "code",
   "execution_count": null,
   "id": "62efdfd3",
   "metadata": {},
   "outputs": [],
   "source": [
    "# создание запроса\n",
    "\n",
    "query = '''\n",
    "SELECT funding_total AS sum_funding_total\n",
    "FROM company\n",
    "WHERE category_code = 'news'\n",
    "      AND country_code = 'USA'\n",
    "ORDER BY sum_funding_total DESC;\n",
    "'''\n",
    "\n",
    "# выполнение запроса с сохранением \n",
    "# в переменную df_2\n",
    "\n",
    "df_2 = pd.read_sql_query(query, con = engine)"
   ]
  },
  {
   "cell_type": "code",
   "execution_count": null,
   "id": "59717602",
   "metadata": {},
   "outputs": [],
   "source": [
    "# получение данных запроса \n",
    "# из переменной df_2\n",
    "\n",
    "df_2"
   ]
  },
  {
   "cell_type": "markdown",
   "id": "449c3f8e",
   "metadata": {},
   "source": [
    "## Задание 3. <a id='intro2'></a>"
   ]
  },
  {
   "cell_type": "markdown",
   "id": "e8aca517",
   "metadata": {},
   "source": [
    "Найдите общую сумму сделок по покупке одних компаний другими в долларах. Отберите сделки, которые осуществлялись только за наличные с 2011 по 2013 год включительно."
   ]
  },
  {
   "cell_type": "code",
   "execution_count": null,
   "id": "9cd2415b",
   "metadata": {},
   "outputs": [],
   "source": [
    "# создание запроса\n",
    "\n",
    "query = '''\n",
    "SELECT SUM(price_amount) AS sum_price_amount\n",
    "FROM acquisition\n",
    "WHERE term_code = 'cash'\n",
    "      AND EXTRACT(YEAR FROM CAST(acquired_at AS timestamp)) BETWEEN '2011' AND '2013';\n",
    "'''\n",
    "\n",
    "# выполнение запроса с сохранением \n",
    "# в переменную df_3\n",
    "\n",
    "df_3 = pd.read_sql_query(query, con = engine)"
   ]
  },
  {
   "cell_type": "code",
   "execution_count": null,
   "id": "e9dd6b1d",
   "metadata": {},
   "outputs": [],
   "source": [
    "# получение данных запроса \n",
    "# из переменной df_3\n",
    "\n",
    "df_3"
   ]
  },
  {
   "cell_type": "markdown",
   "id": "b818c4f1",
   "metadata": {},
   "source": [
    "## Задание 4. <a id='intro3'></a>"
   ]
  },
  {
   "cell_type": "markdown",
   "id": "80dc03b3",
   "metadata": {},
   "source": [
    "Отобразите имя, фамилию и названия аккаунтов людей в твиттере, у которых названия аккаунтов начинаются на `Silver`."
   ]
  },
  {
   "cell_type": "code",
   "execution_count": null,
   "id": "3fb916fd",
   "metadata": {},
   "outputs": [],
   "source": [
    "# создание запроса\n",
    "\n",
    "query = '''\n",
    "SELECT first_name,\n",
    "       last_name,\n",
    "       twitter_username\n",
    "FROM people\n",
    "WHERE twitter_username LIKE 'Silver%';\n",
    "'''\n",
    "\n",
    "# выполнение запроса с сохранением \n",
    "# в переменную df_4\n",
    "\n",
    "df_4 = pd.read_sql_query(query, con = engine)"
   ]
  },
  {
   "cell_type": "code",
   "execution_count": null,
   "id": "d88a9440",
   "metadata": {},
   "outputs": [],
   "source": [
    "# получение данных запроса \n",
    "# из переменной df_4\n",
    "\n",
    "df_4"
   ]
  },
  {
   "cell_type": "markdown",
   "id": "db133b30",
   "metadata": {},
   "source": [
    "## Задание 5. <a id='intro4'></a>"
   ]
  },
  {
   "cell_type": "markdown",
   "id": "95ed5d29",
   "metadata": {},
   "source": [
    "Выведите на экран всю информацию о людях, у которых названия аккаунтов в твиттере содержат подстроку `money`, а фамилия начинается на `K`."
   ]
  },
  {
   "cell_type": "code",
   "execution_count": null,
   "id": "1d653be2",
   "metadata": {},
   "outputs": [],
   "source": [
    "# создание запроса\n",
    "\n",
    "query = '''\n",
    "SELECT *\n",
    "FROM people\n",
    "WHERE twitter_username LIKE '%money%'\n",
    "      AND last_name LIKE 'K%';\n",
    "'''\n",
    "\n",
    "# выполнение запроса с сохранением \n",
    "# в переменную df_5\n",
    "\n",
    "df_5 = pd.read_sql_query(query, con = engine)"
   ]
  },
  {
   "cell_type": "code",
   "execution_count": null,
   "id": "bc80fbc8",
   "metadata": {},
   "outputs": [],
   "source": [
    "# получение данных запроса \n",
    "# из переменной df_5\n",
    "\n",
    "df_5"
   ]
  },
  {
   "cell_type": "markdown",
   "id": "71cd7c0e",
   "metadata": {},
   "source": [
    "## Задание 6. <a id='intro5'></a>"
   ]
  },
  {
   "cell_type": "markdown",
   "id": "ff243089",
   "metadata": {},
   "source": [
    "Для каждой страны отобразите общую сумму привлечённых инвестиций, которые получили компании, зарегистрированные в этой стране. Страну, в которой зарегистрирована компания, можно определить по коду страны. Отсортируйте данные по убыванию суммы."
   ]
  },
  {
   "cell_type": "code",
   "execution_count": null,
   "id": "facb8f0e",
   "metadata": {},
   "outputs": [],
   "source": [
    "# создание запроса\n",
    "\n",
    "query = '''\n",
    "SELECT SUM(funding_total) AS sum_funding_total,\n",
    "       country_code AS country\n",
    "FROM company\n",
    "GROUP BY country\n",
    "ORDER BY sum_funding_total DESC;\n",
    "'''\n",
    "\n",
    "# выполнение запроса с сохранением \n",
    "# в переменную df_6\n",
    "\n",
    "df_6 = pd.read_sql_query(query, con = engine)"
   ]
  },
  {
   "cell_type": "code",
   "execution_count": null,
   "id": "65977180",
   "metadata": {},
   "outputs": [],
   "source": [
    "# получение данных запроса \n",
    "# из переменной df_6\n",
    "\n",
    "df_6"
   ]
  },
  {
   "cell_type": "markdown",
   "id": "c5343834",
   "metadata": {},
   "source": [
    "## Задание 7. <a id='intro6'></a>"
   ]
  },
  {
   "cell_type": "markdown",
   "id": "2cd7aa7d",
   "metadata": {},
   "source": [
    "Составьте таблицу, в которую войдёт дата проведения раунда, а также минимальное и максимальное значения суммы инвестиций, привлечённых в эту дату.\n",
    "\n",
    "Оставьте в итоговой таблице только те записи, в которых минимальное значение суммы инвестиций не равно нулю и не равно максимальному значению."
   ]
  },
  {
   "cell_type": "code",
   "execution_count": null,
   "id": "f98ab444",
   "metadata": {},
   "outputs": [],
   "source": [
    "# создание запроса\n",
    "\n",
    "query = '''\n",
    "SELECT funded_at AS round_date,\n",
    "       MAX(raised_amount) AS max_raised_amount,\n",
    "       MIN(raised_amount) AS max_raised_amount\n",
    "FROM funding_round\n",
    "GROUP BY round_date\n",
    "HAVING MIN(raised_amount) <> 0 \n",
    "       AND MIN(raised_amount) <> MAX(raised_amount);\n",
    "'''\n",
    "\n",
    "# выполнение запроса с сохранением \n",
    "# в переменную df_7\n",
    "\n",
    "df_7 = pd.read_sql_query(query, con = engine)"
   ]
  },
  {
   "cell_type": "code",
   "execution_count": null,
   "id": "54a80c4f",
   "metadata": {},
   "outputs": [],
   "source": [
    "# получение данных запроса \n",
    "# из переменной df_7\n",
    "\n",
    "df_7"
   ]
  },
  {
   "cell_type": "markdown",
   "id": "2e1098b3",
   "metadata": {},
   "source": [
    "## Задание 8. <a id='intro7'></a>"
   ]
  },
  {
   "cell_type": "markdown",
   "id": "2b79bb0d",
   "metadata": {},
   "source": [
    "Создайте поле с категориями:\n",
    "\n",
    "* Для фондов, которые инвестируют в 100 и более компаний, назначьте категорию `high_activity`.\n",
    "\n",
    "* Для фондов, которые инвестируют в 20 и более компаний до 100, назначьте категорию `middle_activity`.\n",
    "\n",
    "* Если количество инвестируемых компаний фонда не достигает 20, назначьте категорию `low_activity`.\n",
    " \n",
    "Отобразите все поля таблицы `fund` и новое поле с категориями."
   ]
  },
  {
   "cell_type": "code",
   "execution_count": null,
   "id": "6a5715a7",
   "metadata": {},
   "outputs": [],
   "source": [
    "# создание запроса\n",
    "\n",
    "query = '''\n",
    "SELECT *,\n",
    "       CASE\n",
    "       WHEN invested_companies >= 100 THEN 'high_activity'\n",
    "       WHEN invested_companies >= 20 AND invested_companies < 100 THEN 'middle_activity'\n",
    "       WHEN invested_companies < 20 THEN 'low_activity'\n",
    "       END\n",
    "FROM fund;\n",
    "'''\n",
    "\n",
    "# выполнение запроса с сохранением \n",
    "# в переменную df_8\n",
    "\n",
    "df_8 = pd.read_sql_query(query, con = engine)"
   ]
  },
  {
   "cell_type": "code",
   "execution_count": null,
   "id": "02973ffb",
   "metadata": {},
   "outputs": [],
   "source": [
    "# получение данных запроса \n",
    "# из переменной df_8\n",
    "\n",
    "df_8"
   ]
  },
  {
   "cell_type": "markdown",
   "id": "2a9e86ec",
   "metadata": {},
   "source": [
    "## Задание 9. <a id='intro8'></a>"
   ]
  },
  {
   "cell_type": "markdown",
   "id": "f23dd757",
   "metadata": {},
   "source": [
    "Для каждой из категорий, назначенных в предыдущем задании, посчитайте округлённое до ближайшего целого числа среднее количество инвестиционных раундов, в которых фонд принимал участие. Выведите на экран категории и среднее число инвестиционных раундов. Отсортируйте таблицу по возрастанию среднего."
   ]
  },
  {
   "cell_type": "code",
   "execution_count": null,
   "id": "54556ba0",
   "metadata": {},
   "outputs": [],
   "source": [
    "# создание запроса\n",
    "\n",
    "query = '''\n",
    "SELECT ROUND(AVG(investment_rounds)) AS avg_investment_rounds,\n",
    "       CASE\n",
    "           WHEN invested_companies>=100 THEN 'high_activity'\n",
    "           WHEN invested_companies>=20 THEN 'middle_activity'\n",
    "           ELSE 'low_activity'\n",
    "       END AS activity\n",
    "FROM fund\n",
    "GROUP BY activity\n",
    "ORDER BY ROUND(AVG(investment_rounds));\n",
    "'''\n",
    "\n",
    "# выполнение запроса с сохранением \n",
    "# в переменную df_9\n",
    "\n",
    "df_9 = pd.read_sql_query(query, con = engine)"
   ]
  },
  {
   "cell_type": "code",
   "execution_count": null,
   "id": "84e14762",
   "metadata": {},
   "outputs": [],
   "source": [
    "# получение данных запроса \n",
    "# из переменной df_9\n",
    "\n",
    "df_9"
   ]
  },
  {
   "cell_type": "markdown",
   "id": "595c54cb",
   "metadata": {},
   "source": [
    "## Задание 10. <a id='intro9'></a>"
   ]
  },
  {
   "cell_type": "markdown",
   "id": "fbf519fd",
   "metadata": {},
   "source": [
    "Проанализируйте, в каких странах находятся фонды, которые чаще всего инвестируют в стартапы. \n",
    "\n",
    "\n",
    "Для каждой страны посчитайте минимальное, максимальное и среднее число компаний, в которые инвестировали фонды этой страны, основанные с 2010 по 2012 год включительно. Исключите страны с фондами, у которых минимальное число компаний, получивших инвестиции, равно нулю. Выгрузите десять самых активных стран-инвесторов.\n",
    "\n",
    "\n",
    "Отсортируйте таблицу по среднему количеству компаний от большего к меньшему, а затем по коду страны в лексикографическом порядке."
   ]
  },
  {
   "cell_type": "code",
   "execution_count": null,
   "id": "e39aaba4",
   "metadata": {},
   "outputs": [],
   "source": [
    "# создание запроса\n",
    "\n",
    "query = '''\n",
    "SELECT country_code AS country,\n",
    "       MIN(invested_companies) AS min_invested_companies,\n",
    "       MAX(invested_companies) AS max_invested_companies,\n",
    "       AVG(invested_companies) AS avg_invested_companies\n",
    "FROM fund\n",
    "WHERE EXTRACT(YEAR FROM CAST(founded_at AS timestamp)) BETWEEN 2010 AND 2012\n",
    "GROUP BY country\n",
    "HAVING MIN(invested_companies) <> 0\n",
    "ORDER BY avg_invested_companies DESC\n",
    "LIMIT 10;\n",
    "'''\n",
    "\n",
    "# выполнение запроса с сохранением \n",
    "# в переменную df_10\n",
    "\n",
    "df_10 = pd.read_sql_query(query, con = engine)"
   ]
  },
  {
   "cell_type": "code",
   "execution_count": null,
   "id": "cca16e5d",
   "metadata": {},
   "outputs": [],
   "source": [
    "# получение данных запроса \n",
    "# из переменной df_10\n",
    "\n",
    "df_10"
   ]
  },
  {
   "cell_type": "markdown",
   "id": "671d7fba",
   "metadata": {},
   "source": [
    "## Задание 11. <a id='intro10'></a>"
   ]
  },
  {
   "cell_type": "markdown",
   "id": "339a7238",
   "metadata": {},
   "source": [
    "Отобразите имя и фамилию всех сотрудников стартапов. Добавьте поле с названием учебного заведения, которое окончил сотрудник, если эта информация известна."
   ]
  },
  {
   "cell_type": "code",
   "execution_count": null,
   "id": "35bb603c",
   "metadata": {},
   "outputs": [],
   "source": [
    "# создание запроса\n",
    "\n",
    "query = '''\n",
    "SELECT p.first_name,\n",
    "       p.last_name,\n",
    "       e.instituition\n",
    "FROM people AS p\n",
    "LEFT OUTER JOIN education AS e ON p.id = e.person_id;\n",
    "'''\n",
    "\n",
    "# выполнение запроса с сохранением \n",
    "# в переменную df_11\n",
    "\n",
    "df_11 = pd.read_sql_query(query, con = engine)"
   ]
  },
  {
   "cell_type": "code",
   "execution_count": null,
   "id": "1f2a8c6e",
   "metadata": {},
   "outputs": [],
   "source": [
    "# получение данных запроса \n",
    "# из переменной df_11\n",
    "\n",
    "df_11"
   ]
  },
  {
   "cell_type": "markdown",
   "id": "544579f2",
   "metadata": {},
   "source": [
    "## Задание 12. <a id='intro11'></a>"
   ]
  },
  {
   "cell_type": "markdown",
   "id": "39dfe1f3",
   "metadata": {},
   "source": [
    "Для каждой компании найдите количество учебных заведений, которые окончили её сотрудники. Выведите название компании и число уникальных названий учебных заведений. Составьте топ-5 компаний по количеству университетов."
   ]
  },
  {
   "cell_type": "code",
   "execution_count": null,
   "id": "6f6ce538",
   "metadata": {},
   "outputs": [],
   "source": [
    "# создание запроса\n",
    "\n",
    "query = '''\n",
    "SELECT c.name,\n",
    "       COUNT(DISTINCT e.instituition) AS count_instituition\n",
    "FROM company AS c\n",
    "INNER JOIN people AS p ON c.id = p.company_id\n",
    "INNER JOIN education AS e ON p.id = e.person_id\n",
    "GROUP BY c.name\n",
    "ORDER BY count_instituition DESC,\n",
    "         c.name\n",
    "LIMIT 5;\n",
    "'''\n",
    "\n",
    "# выполнение запроса с сохранением \n",
    "# в переменную df_12\n",
    "\n",
    "df_12 = pd.read_sql_query(query, con = engine)"
   ]
  },
  {
   "cell_type": "code",
   "execution_count": null,
   "id": "3077c4f5",
   "metadata": {},
   "outputs": [],
   "source": [
    "# получение данных запроса \n",
    "# из переменной df_12\n",
    "\n",
    "df_12"
   ]
  },
  {
   "cell_type": "markdown",
   "id": "32559652",
   "metadata": {},
   "source": [
    "## Задание 13. <a id='intro12'></a>"
   ]
  },
  {
   "cell_type": "markdown",
   "id": "d194e880",
   "metadata": {},
   "source": [
    "Составьте список с уникальными названиями закрытых компаний, для которых первый раунд финансирования оказался последним."
   ]
  },
  {
   "cell_type": "code",
   "execution_count": null,
   "id": "90b5215a",
   "metadata": {},
   "outputs": [],
   "source": [
    "# создание запроса\n",
    "\n",
    "query = '''\n",
    "SELECT DISTINCT c.name\n",
    "FROM company AS c\n",
    "INNER JOIN funding_round AS fr ON c.id = fr.company_id\n",
    "WHERE c.status = 'closed'\n",
    "      AND fr.is_first_round = 1 \n",
    "      AND fr.is_last_round = 1\n",
    "GROUP BY c.name;\n",
    "'''\n",
    "\n",
    "# выполнение запроса с сохранением \n",
    "# в переменную df_13\n",
    "\n",
    "df_13 = pd.read_sql_query(query, con = engine)"
   ]
  },
  {
   "cell_type": "code",
   "execution_count": null,
   "id": "54ec8c0d",
   "metadata": {},
   "outputs": [],
   "source": [
    "# получение данных запроса \n",
    "# из переменной df_13\n",
    "\n",
    "df_13"
   ]
  },
  {
   "cell_type": "markdown",
   "id": "69b3e37a",
   "metadata": {},
   "source": [
    "## Задание 14. <a id='intro13'></a>"
   ]
  },
  {
   "cell_type": "markdown",
   "id": "65c3ff21",
   "metadata": {},
   "source": [
    "Составьте список уникальных номеров сотрудников, которые работают в компаниях, отобранных в предыдущем задании."
   ]
  },
  {
   "cell_type": "code",
   "execution_count": null,
   "id": "9dba68ce",
   "metadata": {},
   "outputs": [],
   "source": [
    "# создание запроса\n",
    "\n",
    "query = '''\n",
    "SELECT p.id\n",
    "FROM people AS p\n",
    "INNER JOIN company AS c ON p.company_id = c.id\n",
    "INNER JOIN funding_round AS fr ON c.id = fr.company_id\n",
    "WHERE c.status = 'closed'\n",
    "      AND fr.is_first_round = 1 \n",
    "      AND fr.is_last_round = 1\n",
    "GROUP BY p.id;\n",
    "'''\n",
    "\n",
    "# выполнение запроса с сохранением \n",
    "# в переменную df_14\n",
    "\n",
    "df_14 = pd.read_sql_query(query, con = engine)"
   ]
  },
  {
   "cell_type": "code",
   "execution_count": null,
   "id": "25cad9e1",
   "metadata": {},
   "outputs": [],
   "source": [
    "# получение данных запроса \n",
    "# из переменной df_14\n",
    "\n",
    "df_14"
   ]
  },
  {
   "cell_type": "markdown",
   "id": "d5486648",
   "metadata": {},
   "source": [
    "## Задание 15. <a id='intro14'></a>"
   ]
  },
  {
   "cell_type": "markdown",
   "id": "92e8bc82",
   "metadata": {},
   "source": [
    "Составьте таблицу, куда войдут уникальные пары с номерами сотрудников из предыдущей задачи и учебным заведением, которое окончил сотрудник."
   ]
  },
  {
   "cell_type": "code",
   "execution_count": null,
   "id": "84907c15",
   "metadata": {},
   "outputs": [],
   "source": [
    "# создание запроса\n",
    "\n",
    "query = '''\n",
    "WITH\n",
    "i AS (SELECT p.id\n",
    "     FROM people AS p\n",
    "     INNER JOIN company AS c ON p.company_id = c.id\n",
    "     INNER JOIN funding_round AS fr ON c.id = fr.company_id\n",
    "     WHERE c.status = 'closed'\n",
    "           AND fr.is_first_round = 1 \n",
    "           AND fr.is_last_round = 1\n",
    "     GROUP BY p.id)\n",
    "     \n",
    "SELECT i.id,\n",
    "       e.instituition\n",
    "FROM i\n",
    "INNER JOIN education AS e ON e.person_id = i.id\n",
    "GROUP BY i.id,\n",
    "         e.instituition;\n",
    "'''\n",
    "\n",
    "# выполнение запроса с сохранением \n",
    "# в переменную df_15\n",
    "\n",
    "df_15 = pd.read_sql_query(query, con = engine)"
   ]
  },
  {
   "cell_type": "code",
   "execution_count": null,
   "id": "bd5475af",
   "metadata": {},
   "outputs": [],
   "source": [
    "# получение данных запроса \n",
    "# из переменной df_15\n",
    "\n",
    "df_15"
   ]
  },
  {
   "cell_type": "markdown",
   "id": "732d6c65",
   "metadata": {},
   "source": [
    "## Задание 16. <a id='intro15'></a>"
   ]
  },
  {
   "cell_type": "markdown",
   "id": "54be6e64",
   "metadata": {},
   "source": [
    "Посчитайте количество учебных заведений для каждого сотрудника из предыдущего задания. При подсчёте учитывайте, что некоторые сотрудники могли окончить одно и то же заведение дважды."
   ]
  },
  {
   "cell_type": "code",
   "execution_count": null,
   "id": "4abf29b5",
   "metadata": {},
   "outputs": [],
   "source": [
    "# создание запроса\n",
    "\n",
    "query = '''\n",
    "WITH\n",
    "i AS (SELECT p.id\n",
    "     FROM people AS p\n",
    "     INNER JOIN company AS c ON p.company_id = c.id\n",
    "     INNER JOIN funding_round AS fr ON c.id = fr.company_id\n",
    "     WHERE c.status = 'closed'\n",
    "           AND fr.is_first_round = 1 \n",
    "           AND fr.is_last_round = 1\n",
    "     GROUP BY p.id)\n",
    "     \n",
    "SELECT i.id,\n",
    "       COUNT(e.instituition)\n",
    "FROM i\n",
    "INNER JOIN education AS e ON e.person_id = i.id\n",
    "GROUP BY i.id;\n",
    "'''\n",
    "\n",
    "# выполнение запроса с сохранением \n",
    "# в переменную df_16\n",
    "\n",
    "df_16 = pd.read_sql_query(query, con = engine)"
   ]
  },
  {
   "cell_type": "code",
   "execution_count": null,
   "id": "e0874449",
   "metadata": {},
   "outputs": [],
   "source": [
    "# получение данных запроса \n",
    "# из переменной df_16\n",
    "\n",
    "df_16"
   ]
  },
  {
   "cell_type": "markdown",
   "id": "22d6bf53",
   "metadata": {},
   "source": [
    "## Задание 17. <a id='intro16'></a>"
   ]
  },
  {
   "cell_type": "markdown",
   "id": "755e6685",
   "metadata": {},
   "source": [
    "Дополните предыдущий запрос и выведите среднее число учебных заведений (всех, не только уникальных), которые окончили сотрудники разных компаний. Нужно вывести только одну запись, группировка здесь не понадобится."
   ]
  },
  {
   "cell_type": "code",
   "execution_count": null,
   "id": "dbd0ed52",
   "metadata": {},
   "outputs": [],
   "source": [
    "# создание запроса\n",
    "\n",
    "query = '''\n",
    "WITH\n",
    "i AS (SELECT p.id\n",
    "     FROM people AS p\n",
    "     INNER JOIN company AS c ON p.company_id = c.id\n",
    "     INNER JOIN funding_round AS fr ON c.id = fr.company_id\n",
    "     WHERE c.status = 'closed'\n",
    "           AND fr.is_first_round = 1 \n",
    "           AND fr.is_last_round = 1\n",
    "     GROUP BY p.id),\n",
    "i_1 AS (SELECT i.id,\n",
    "               COUNT(e.instituition) AS count_instituition\n",
    "       FROM i\n",
    "       INNER JOIN education AS e ON e.person_id = i.id\n",
    "       GROUP BY i.id)\n",
    "       \n",
    "SELECT AVG(i_1.count_instituition)\n",
    "FROM i_1;\n",
    "'''\n",
    "\n",
    "# выполнение запроса с сохранением \n",
    "# в переменную df_17\n",
    "\n",
    "df_17 = pd.read_sql_query(query, con = engine)"
   ]
  },
  {
   "cell_type": "code",
   "execution_count": null,
   "id": "b92995a3",
   "metadata": {},
   "outputs": [],
   "source": [
    "# получение данных запроса \n",
    "# из переменной df_17\n",
    "\n",
    "df_17"
   ]
  },
  {
   "cell_type": "markdown",
   "id": "e263db02",
   "metadata": {},
   "source": [
    "## Задание 18. <a id='intro17'></a>"
   ]
  },
  {
   "cell_type": "markdown",
   "id": "83c4566a",
   "metadata": {},
   "source": [
    "Напишите похожий запрос: выведите среднее число учебных заведений (всех, не только уникальных), которые окончили сотрудники Facebook."
   ]
  },
  {
   "cell_type": "code",
   "execution_count": null,
   "id": "1a0badb1",
   "metadata": {},
   "outputs": [],
   "source": [
    "# создание запроса\n",
    "\n",
    "query = '''\n",
    "WITH\n",
    "i AS (SELECT p.id\n",
    "     FROM people AS p\n",
    "     INNER JOIN company AS c ON p.company_id = c.id\n",
    "     INNER JOIN funding_round AS fr ON c.id = fr.company_id\n",
    "     WHERE c.name = 'Facebook'\n",
    "     GROUP BY p.id),\n",
    "i_1 AS (SELECT i.id,\n",
    "               COUNT(e.instituition) AS count_instituition\n",
    "       FROM i\n",
    "       INNER JOIN education AS e ON e.person_id = i.id\n",
    "       GROUP BY i.id)\n",
    "       \n",
    "SELECT AVG(i_1.count_instituition)\n",
    "FROM i_1;\n",
    "'''\n",
    "\n",
    "# выполнение запроса с сохранением \n",
    "# в переменную df_18\n",
    "\n",
    "df_18 = pd.read_sql_query(query, con = engine)"
   ]
  },
  {
   "cell_type": "code",
   "execution_count": null,
   "id": "5b161f2b",
   "metadata": {},
   "outputs": [],
   "source": [
    "# получение данных запроса \n",
    "# из переменной df_18\n",
    "\n",
    "df_18"
   ]
  },
  {
   "cell_type": "markdown",
   "id": "e9544c7b",
   "metadata": {},
   "source": [
    "## Задание 19. <a id='intro18'></a>"
   ]
  },
  {
   "cell_type": "markdown",
   "id": "5fbe454e",
   "metadata": {},
   "source": [
    "Составьте таблицу из полей:\n",
    "\n",
    "* `name_of_fund` — название фонда;\n",
    "* `name_of_company` — название компании;\n",
    "* `amount` — сумма инвестиций, которую привлекла компания в раунде.\n",
    "\n",
    "\n",
    "В таблицу войдут данные о компаниях, в истории которых было больше шести важных этапов, а раунды финансирования проходили с 2012 по 2013 год включительно."
   ]
  },
  {
   "cell_type": "code",
   "execution_count": null,
   "id": "c6e52680",
   "metadata": {},
   "outputs": [],
   "source": [
    "# создание запроса\n",
    "\n",
    "query = '''\n",
    "SELECT f.name AS name_of_fund,\n",
    "       c.name AS name_of_company,\n",
    "       fr.raised_amount AS amount\n",
    "FROM company AS c\n",
    "INNER JOIN funding_round AS fr ON c.id = fr.company_id\n",
    "INNER JOIN investment AS i ON i.funding_round_id = fr.id\n",
    "INNER JOIN fund AS f ON f.id = i.fund_id\n",
    "WHERE c.milestones > 6\n",
    "      AND EXTRACT(YEAR FROM CAST(fr.funded_at AS timestamp)) BETWEEN 2012 AND 2013;\n",
    "'''\n",
    "\n",
    "# выполнение запроса с сохранением \n",
    "# в переменную df_19\n",
    "\n",
    "df_19 = pd.read_sql_query(query, con = engine)"
   ]
  },
  {
   "cell_type": "code",
   "execution_count": null,
   "id": "ea27a0b9",
   "metadata": {},
   "outputs": [],
   "source": [
    "# получение данных запроса \n",
    "# из переменной df_19\n",
    "\n",
    "df_19"
   ]
  },
  {
   "cell_type": "markdown",
   "id": "d82419d4",
   "metadata": {},
   "source": [
    "## Задание 20. <a id='intro19'></a>"
   ]
  },
  {
   "cell_type": "markdown",
   "id": "6da61eb8",
   "metadata": {},
   "source": [
    "Выгрузите таблицу, в которой будут такие поля:\n",
    "\n",
    "* название компании-покупателя;\n",
    "\n",
    "* сумма сделки;\n",
    "\n",
    "* название компании, которую купили;\n",
    "\n",
    "* сумма инвестиций, вложенных в купленную компанию;\n",
    "\n",
    "* доля, которая отображает, во сколько раз сумма покупки превысила сумму вложенных в компанию инвестиций, округлённая до ближайшего целого числа.\n",
    "\n",
    "\n",
    "Не учитывайте те сделки, в которых сумма покупки равна нулю. Если сумма инвестиций в компанию равна нулю, исключите такую компанию из таблицы. \n",
    "\n",
    "\n",
    "Отсортируйте таблицу по сумме сделки от большей к меньшей, а затем по названию купленной компании в лексикографическом порядке. Ограничьте таблицу первыми десятью записями."
   ]
  },
  {
   "cell_type": "code",
   "execution_count": null,
   "id": "62ba01c4",
   "metadata": {},
   "outputs": [],
   "source": [
    "# создание запроса\n",
    "\n",
    "query = '''\n",
    "SELECT c.name AS name_acquiring,\n",
    "       a.price_amount,\n",
    "       c_1.name AS name_acquired,\n",
    "       c_1.funding_total,\n",
    "       ROUND(a.price_amount / c_1.funding_total) \n",
    "FROM acquisition AS a\n",
    "LEFT OUTER JOIN company AS c ON c.id = a.acquiring_company_id\n",
    "LEFT OUTER JOIN company AS c_1 ON c_1.id = a.acquired_company_id\n",
    "WHERE a.price_amount <> 0\n",
    "      AND c_1.funding_total <> 0\n",
    "ORDER BY a.price_amount DESC\n",
    "LIMIT 10;\n",
    "'''\n",
    "\n",
    "# выполнение запроса с сохранением \n",
    "# в переменную df_20\n",
    "\n",
    "df_20 = pd.read_sql_query(query, con = engine)"
   ]
  },
  {
   "cell_type": "code",
   "execution_count": null,
   "id": "6cf02153",
   "metadata": {},
   "outputs": [],
   "source": [
    "# получение данных запроса \n",
    "# из переменной df_20\n",
    "\n",
    "df_20"
   ]
  },
  {
   "cell_type": "markdown",
   "id": "bb2e0a6a",
   "metadata": {},
   "source": [
    "## Задание 21. <a id='intro20'></a>"
   ]
  },
  {
   "cell_type": "markdown",
   "id": "c4cdce0f",
   "metadata": {},
   "source": [
    "Выгрузите таблицу, в которую войдут названия компаний из категории `social`, получившие финансирование с 2010 по 2013 год включительно. Проверьте, что сумма инвестиций не равна нулю. Выведите также номер месяца, в котором проходил раунд финансирования."
   ]
  },
  {
   "cell_type": "code",
   "execution_count": null,
   "id": "260da667",
   "metadata": {},
   "outputs": [],
   "source": [
    "# создание запроса\n",
    "\n",
    "query = '''\n",
    "SELECT c.name,\n",
    "       EXTRACT(MONTH FROM CAST(fr.funded_at AS timestamp)) AS month_funded_at\n",
    "FROM company AS c\n",
    "INNER JOIN funding_round AS fr ON c.id = fr.company_id\n",
    "WHERE EXTRACT(YEAR FROM CAST(fr.funded_at AS timestamp)) BETWEEN 2010 AND 2013\n",
    "      AND c.category_code = 'social';\n",
    "'''\n",
    "\n",
    "# выполнение запроса с сохранением \n",
    "# в переменную df_21\n",
    "\n",
    "df_21 = pd.read_sql_query(query, con = engine)"
   ]
  },
  {
   "cell_type": "code",
   "execution_count": null,
   "id": "4e5179f8",
   "metadata": {},
   "outputs": [],
   "source": [
    "# получение данных запроса \n",
    "# из переменной df_21\n",
    "\n",
    "df_21"
   ]
  },
  {
   "cell_type": "markdown",
   "id": "c64686a5",
   "metadata": {},
   "source": [
    "## Задание 22. <a id='intro21'></a>"
   ]
  },
  {
   "cell_type": "markdown",
   "id": "843136f5",
   "metadata": {},
   "source": [
    "Отберите данные по месяцам с 2010 по 2013 год, когда проходили инвестиционные раунды. Сгруппируйте данные по номеру месяца и получите таблицу, в которой будут поля:\n",
    "\n",
    "\n",
    "* номер месяца, в котором проходили раунды;\n",
    "* количество уникальных названий фондов из США, которые инвестировали в этом месяце;\n",
    "* количество компаний, купленных за этот месяц;\n",
    "* общая сумма сделок по покупкам в этом месяце."
   ]
  },
  {
   "cell_type": "code",
   "execution_count": null,
   "id": "9fddff10",
   "metadata": {},
   "outputs": [],
   "source": [
    "# создание запроса\n",
    "\n",
    "query = '''\n",
    "WITH\n",
    "i_1 AS (SELECT EXTRACT(MONTH FROM CAST(fr.funded_at AS timestamp)) AS month,\n",
    "               COUNT(DISTINCT f.name) AS count_name_fund\n",
    "        FROM funding_round AS fr\n",
    "        INNER JOIN investment AS i ON fr.id = i.funding_round_id\n",
    "        INNER JOIN fund AS f ON f.id = i.fund_id\n",
    "        WHERE EXTRACT(YEAR FROM CAST(fr.funded_at AS timestamp)) BETWEEN 2010 AND 2013\n",
    "              AND f.country_code = 'USA'\n",
    "        GROUP BY month),\n",
    "i_2 AS (SELECT EXTRACT(MONTH FROM CAST(acquired_at AS timestamp)) AS month,\n",
    "            COUNT(acquired_company_id) AS count_acquired_company,\n",
    "            SUM(price_amount) AS sum_price_amount\n",
    "       FROM acquisition\n",
    "       WHERE EXTRACT(YEAR FROM CAST(acquired_at AS timestamp)) BETWEEN 2010 AND 2013\n",
    "       GROUP BY month)\n",
    "     \n",
    "SELECT i_1.month,\n",
    "       i_1.count_name_fund,\n",
    "       i_2.count_acquired_company,\n",
    "       i_2.sum_price_amount\n",
    "FROM i_1\n",
    "INNER JOIN i_2 ON i_1.month = i_2.month;\n",
    "'''\n",
    "\n",
    "# выполнение запроса с сохранением \n",
    "# в переменную df_22\n",
    "\n",
    "df_22 = pd.read_sql_query(query, con = engine)"
   ]
  },
  {
   "cell_type": "code",
   "execution_count": null,
   "id": "373d5415",
   "metadata": {},
   "outputs": [],
   "source": [
    "# получение данных запроса \n",
    "# из переменной df_22\n",
    "\n",
    "df_22"
   ]
  },
  {
   "cell_type": "markdown",
   "id": "7fc42c47",
   "metadata": {},
   "source": [
    "## Задание 23. <a id='intro22'></a>"
   ]
  },
  {
   "cell_type": "markdown",
   "id": "a603eafb",
   "metadata": {},
   "source": [
    "Составьте сводную таблицу и выведите среднюю сумму инвестиций для стран, в которых есть стартапы, зарегистрированные в 2011, 2012 и 2013 годах. Данные за каждый год должны быть в отдельном поле. Отсортируйте таблицу по среднему значению инвестиций за 2011 год от большего к меньшему."
   ]
  },
  {
   "cell_type": "code",
   "execution_count": null,
   "id": "d4e6fc1b",
   "metadata": {},
   "outputs": [],
   "source": [
    "# создание запроса\n",
    "\n",
    "query = '''\n",
    "WITH \n",
    "i AS (SELECT country_code,\n",
    "             AVG(funding_total) AS avg_funding_total_2011\n",
    "      FROM company\n",
    "      WHERE EXTRACT(YEAR FROM CAST(founded_at AS timestamp)) = 2011\n",
    "      GROUP BY country_code),\n",
    "i_1 AS (SELECT country_code,\n",
    "             AVG(funding_total) AS avg_funding_total_2012\n",
    "        FROM company\n",
    "        WHERE EXTRACT(YEAR FROM CAST(founded_at AS timestamp)) = 2012\n",
    "        GROUP BY country_code),\n",
    "i_2 AS (SELECT country_code,\n",
    "             AVG(funding_total) AS avg_funding_total_2013\n",
    "        FROM company\n",
    "        WHERE EXTRACT(YEAR FROM CAST(founded_at AS timestamp)) = 2013\n",
    "        GROUP BY country_code)\n",
    "        \n",
    "SELECT i.country_code,\n",
    "       i.avg_funding_total_2011,\n",
    "       i_1.avg_funding_total_2012,\n",
    "       i_2.avg_funding_total_2013\n",
    "FROM i\n",
    "INNER JOIN i_1 ON i.country_code = i_1.country_code\n",
    "INNER JOIN i_2 ON i_1.country_code = i_2.country_code\n",
    "ORDER BY i.avg_funding_total_2011 DESC;\n",
    "'''\n",
    "\n",
    "# выполнение запроса с сохранением \n",
    "# в переменную df_23\n",
    "\n",
    "df_23 = pd.read_sql_query(query, con = engine)"
   ]
  },
  {
   "cell_type": "code",
   "execution_count": null,
   "id": "d3ed2745",
   "metadata": {},
   "outputs": [],
   "source": [
    "# получение данных запроса \n",
    "# из переменной df_23\n",
    "\n",
    "df_23"
   ]
  }
 ],
 "metadata": {
  "kernelspec": {
   "display_name": "Python 3 (ipykernel)",
   "language": "python",
   "name": "python3"
  },
  "language_info": {
   "codemirror_mode": {
    "name": "ipython",
    "version": 3
   },
   "file_extension": ".py",
   "mimetype": "text/x-python",
   "name": "python",
   "nbconvert_exporter": "python",
   "pygments_lexer": "ipython3",
   "version": "3.9.12"
  }
 },
 "nbformat": 4,
 "nbformat_minor": 5
}
